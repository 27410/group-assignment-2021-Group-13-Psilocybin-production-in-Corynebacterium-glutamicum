{
 "cells": [
  {
   "cell_type": "markdown",
   "id": "336a4957",
   "metadata": {},
   "source": [
    "## Predict heterologous pathways\n"
   ]
  },
  {
   "cell_type": "code",
   "execution_count": 1,
   "id": "9b926c35",
   "metadata": {},
   "outputs": [
    {
     "name": "stderr",
     "output_type": "stream",
     "text": [
      "No objective coefficients in model. Unclear what should be optimized\n"
     ]
    },
    {
     "data": {
      "text/html": [
       "\n",
       "        <table>\n",
       "            <tr>\n",
       "                <td><strong>Name</strong></td>\n",
       "                <td>iCW773</td>\n",
       "            </tr><tr>\n",
       "                <td><strong>Memory address</strong></td>\n",
       "                <td>0x025c961de048</td>\n",
       "            </tr><tr>\n",
       "                <td><strong>Number of metabolites</strong></td>\n",
       "                <td>956</td>\n",
       "            </tr><tr>\n",
       "                <td><strong>Number of reactions</strong></td>\n",
       "                <td>1222</td>\n",
       "            </tr><tr>\n",
       "                <td><strong>Number of groups</strong></td>\n",
       "                <td>0</td>\n",
       "            </tr><tr>\n",
       "                <td><strong>Objective expression</strong></td>\n",
       "                <td>1.0*CG_biomass_cgl_ATCC13032 - 1.0*CG_biomass_cgl_ATCC13032_reverse_81110</td>\n",
       "            </tr><tr>\n",
       "                <td><strong>Compartments</strong></td>\n",
       "                <td>c, e</td>\n",
       "            </tr>\n",
       "          </table>"
      ],
      "text/plain": [
       "<Model iCW773 at 0x25c961de048>"
      ]
     },
     "execution_count": 1,
     "metadata": {},
     "output_type": "execute_result"
    }
   ],
   "source": [
    "from IPython.display import display\n",
    "import re\n",
    "#importing the read_sbml_model function etc. from cobra\n",
    "from cameo import models\n",
    "from cameo import load_model\n",
    "from cameo.strain_design import pathway_prediction\n",
    "\n",
    "%run 1._Add_Psilocybin_to_Coynebacterium_Model.ipynb #load our model\n",
    "model.objective = model.reactions.CG_biomass_cgl_ATCC13032 # setting objective = biomass reaction as a start point. \n",
    "\n",
    "model "
   ]
  },
  {
   "cell_type": "code",
   "execution_count": 2,
   "id": "5f3b80a2",
   "metadata": {},
   "outputs": [
    {
     "data": {
      "text/html": [
       "<strong><em>Optimal</em> solution with objective value 0.429</strong><br><div>\n",
       "<style scoped>\n",
       "    .dataframe tbody tr th:only-of-type {\n",
       "        vertical-align: middle;\n",
       "    }\n",
       "\n",
       "    .dataframe tbody tr th {\n",
       "        vertical-align: top;\n",
       "    }\n",
       "\n",
       "    .dataframe thead th {\n",
       "        text-align: right;\n",
       "    }\n",
       "</style>\n",
       "<table border=\"1\" class=\"dataframe\">\n",
       "  <thead>\n",
       "    <tr style=\"text-align: right;\">\n",
       "      <th></th>\n",
       "      <th>fluxes</th>\n",
       "      <th>reduced_costs</th>\n",
       "    </tr>\n",
       "  </thead>\n",
       "  <tbody>\n",
       "    <tr>\n",
       "      <th>ALAR</th>\n",
       "      <td>0.075971</td>\n",
       "      <td>0.000000e+00</td>\n",
       "    </tr>\n",
       "    <tr>\n",
       "      <th>ALATA_L</th>\n",
       "      <td>0.389078</td>\n",
       "      <td>1.848893e-32</td>\n",
       "    </tr>\n",
       "    <tr>\n",
       "      <th>ASNN</th>\n",
       "      <td>0.000000</td>\n",
       "      <td>-3.293007e-17</td>\n",
       "    </tr>\n",
       "    <tr>\n",
       "      <th>ASNS1</th>\n",
       "      <td>0.000000</td>\n",
       "      <td>-3.614982e-17</td>\n",
       "    </tr>\n",
       "    <tr>\n",
       "      <th>ASNS2</th>\n",
       "      <td>0.091031</td>\n",
       "      <td>1.232595e-32</td>\n",
       "    </tr>\n",
       "    <tr>\n",
       "      <th>...</th>\n",
       "      <td>...</td>\n",
       "      <td>...</td>\n",
       "    </tr>\n",
       "    <tr>\n",
       "      <th>KARA2</th>\n",
       "      <td>0.088794</td>\n",
       "      <td>-1.078521e-32</td>\n",
       "    </tr>\n",
       "    <tr>\n",
       "      <th>OMCDC</th>\n",
       "      <td>0.165341</td>\n",
       "      <td>-1.078521e-32</td>\n",
       "    </tr>\n",
       "    <tr>\n",
       "      <th>THRD_L</th>\n",
       "      <td>0.088794</td>\n",
       "      <td>0.000000e+00</td>\n",
       "    </tr>\n",
       "    <tr>\n",
       "      <th>VALTA</th>\n",
       "      <td>0.128598</td>\n",
       "      <td>0.000000e+00</td>\n",
       "    </tr>\n",
       "    <tr>\n",
       "      <th>LEUTAi</th>\n",
       "      <td>0.165341</td>\n",
       "      <td>0.000000e+00</td>\n",
       "    </tr>\n",
       "  </tbody>\n",
       "</table>\n",
       "<p>1207 rows × 2 columns</p>\n",
       "</div>"
      ],
      "text/plain": [
       "<Solution 0.429 at 0x26338d8f250>"
      ]
     },
     "execution_count": 2,
     "metadata": {},
     "output_type": "execute_result"
    }
   ],
   "source": [
    "solution = model.optimize()\n",
    "solution"
   ]
  },
  {
   "cell_type": "code",
   "execution_count": 3,
   "id": "25b74f2b",
   "metadata": {},
   "outputs": [],
   "source": [
    "## Testing alternative pathway for psilocybin production found here: https://github.com/biosustain/cameo-notebooks/blob/master/07-predict-heterologous-pathways.ipynb"
   ]
  },
  {
   "cell_type": "code",
   "execution_count": 8,
   "id": "ddcd44da",
   "metadata": {},
   "outputs": [
    {
     "ename": "ValueError",
     "evalue": "Specified product 'psilocybin' could not be found. Try searching pathway_predictor_obj.universal_model.metabolites",
     "output_type": "error",
     "traceback": [
      "\u001b[1;31m---------------------------------------------------------------------------\u001b[0m",
      "\u001b[1;31mValueError\u001b[0m                                Traceback (most recent call last)",
      "\u001b[1;32m~\\AppData\\Local\\Temp/ipykernel_9980/2116035596.py\u001b[0m in \u001b[0;36m<module>\u001b[1;34m\u001b[0m\n\u001b[0;32m      1\u001b[0m \u001b[0mpredictor\u001b[0m \u001b[1;33m=\u001b[0m \u001b[0mpathway_prediction\u001b[0m\u001b[1;33m.\u001b[0m\u001b[0mPathwayPredictor\u001b[0m\u001b[1;33m(\u001b[0m\u001b[0mmodel\u001b[0m\u001b[1;33m)\u001b[0m\u001b[1;33m\u001b[0m\u001b[1;33m\u001b[0m\u001b[0m\n\u001b[1;32m----> 2\u001b[1;33m \u001b[0mpathways\u001b[0m \u001b[1;33m=\u001b[0m \u001b[0mpredictor\u001b[0m\u001b[1;33m.\u001b[0m\u001b[0mrun\u001b[0m\u001b[1;33m(\u001b[0m\u001b[0mproduct\u001b[0m\u001b[1;33m=\u001b[0m\u001b[1;34m\"psilocybin\"\u001b[0m\u001b[1;33m,\u001b[0m \u001b[0mmax_predictions\u001b[0m\u001b[1;33m=\u001b[0m\u001b[1;36m1\u001b[0m\u001b[1;33m)\u001b[0m \u001b[1;31m#--> Psilocybin could not be found within the metabolites of the universal_model.\u001b[0m\u001b[1;33m\u001b[0m\u001b[1;33m\u001b[0m\u001b[0m\n\u001b[0m",
      "\u001b[1;32m~\\Anaconda3\\lib\\site-packages\\cameo\\strain_design\\pathway_prediction\\pathway_predictor.py\u001b[0m in \u001b[0;36mrun\u001b[1;34m(self, product, max_predictions, min_production, timeout, callback, silent, allow_native_exchanges)\u001b[0m\n\u001b[0;32m    284\u001b[0m         \"\"\"\n\u001b[0;32m    285\u001b[0m \u001b[1;33m\u001b[0m\u001b[0m\n\u001b[1;32m--> 286\u001b[1;33m         \u001b[0mproduct\u001b[0m \u001b[1;33m=\u001b[0m \u001b[0mself\u001b[0m\u001b[1;33m.\u001b[0m\u001b[0m_find_product\u001b[0m\u001b[1;33m(\u001b[0m\u001b[0mproduct\u001b[0m\u001b[1;33m)\u001b[0m\u001b[1;33m\u001b[0m\u001b[1;33m\u001b[0m\u001b[0m\n\u001b[0m\u001b[0;32m    287\u001b[0m \u001b[1;33m\u001b[0m\u001b[0m\n\u001b[0;32m    288\u001b[0m         \u001b[0mpathways\u001b[0m \u001b[1;33m=\u001b[0m \u001b[0mlist\u001b[0m\u001b[1;33m(\u001b[0m\u001b[1;33m)\u001b[0m\u001b[1;33m\u001b[0m\u001b[1;33m\u001b[0m\u001b[0m\n",
      "\u001b[1;32m~\\Anaconda3\\lib\\site-packages\\cameo\\strain_design\\pathway_prediction\\pathway_predictor.py\u001b[0m in \u001b[0;36m_find_product\u001b[1;34m(self, product)\u001b[0m\n\u001b[0;32m    455\u001b[0m                 \u001b[1;32mif\u001b[0m \u001b[0mmetabolite\u001b[0m\u001b[1;33m.\u001b[0m\u001b[0mname\u001b[0m \u001b[1;33m==\u001b[0m \u001b[0mproduct\u001b[0m\u001b[1;33m:\u001b[0m\u001b[1;33m\u001b[0m\u001b[1;33m\u001b[0m\u001b[0m\n\u001b[0;32m    456\u001b[0m                     \u001b[1;32mreturn\u001b[0m \u001b[0mmetabolite\u001b[0m\u001b[1;33m\u001b[0m\u001b[1;33m\u001b[0m\u001b[0m\n\u001b[1;32m--> 457\u001b[1;33m             raise ValueError(\n\u001b[0m\u001b[0;32m    458\u001b[0m                 \u001b[1;34m\"Specified product '{product}' could not be found. \"\u001b[0m\u001b[1;33m\u001b[0m\u001b[1;33m\u001b[0m\u001b[0m\n\u001b[0;32m    459\u001b[0m                 \"Try searching pathway_predictor_obj.universal_model.metabolites\".format(product=product))\n",
      "\u001b[1;31mValueError\u001b[0m: Specified product 'psilocybin' could not be found. Try searching pathway_predictor_obj.universal_model.metabolites"
     ]
    }
   ],
   "source": [
    "predictor = pathway_prediction.PathwayPredictor(model)\n",
    "pathways = predictor.run(product=\"psilocybin\", max_predictions=1) "
   ]
  },
  {
   "cell_type": "markdown",
   "id": "221e4088",
   "metadata": {},
   "source": [
    "--> Psilocybin could not be found within the metabolites of the universal_model. Thus we will implement the pathway starting from L-tryptophan as published by Milne et al., 2020\n"
   ]
  },
  {
   "cell_type": "code",
   "execution_count": null,
   "id": "2ae020ac",
   "metadata": {},
   "outputs": [],
   "source": []
  },
  {
   "cell_type": "code",
   "execution_count": null,
   "id": "8c59d03a",
   "metadata": {},
   "outputs": [],
   "source": []
  }
 ],
 "metadata": {
  "kernelspec": {
   "display_name": "Python 3",
   "language": "python",
   "name": "python3"
  },
  "language_info": {
   "codemirror_mode": {
    "name": "ipython",
    "version": 3
   },
   "file_extension": ".py",
   "mimetype": "text/x-python",
   "name": "python",
   "nbconvert_exporter": "python",
   "pygments_lexer": "ipython3",
   "version": "3.6.13"
  }
 },
 "nbformat": 4,
 "nbformat_minor": 5
}
