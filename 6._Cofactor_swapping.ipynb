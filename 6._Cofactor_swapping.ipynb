{
 "cells": [
  {
   "cell_type": "code",
   "execution_count": 1,
   "id": "14954575",
   "metadata": {},
   "outputs": [
    {
     "name": "stderr",
     "output_type": "stream",
     "text": [
      "No objective coefficients in model. Unclear what should be optimized\n"
     ]
    },
    {
     "data": {
      "text/plain": [
       "0.428929662134894"
      ]
     },
     "execution_count": 1,
     "metadata": {},
     "output_type": "execute_result"
    }
   ],
   "source": [
    "%run 1._Add_Psilocybin_to_Coynebacterium_Model.ipynb #load our model\n",
    "#CG_biomass_cgl_ATCC13032 is the id of the biomass reaction \n",
    "#setting it as objective\n",
    "model.objective = model.reactions.CG_biomass_cgl_ATCC13032\n",
    "\n",
    "#optimze the model for biomass production: \n",
    "model.optimize().objective_value"
   ]
  },
  {
   "cell_type": "code",
   "execution_count": 2,
   "id": "052497e2",
   "metadata": {},
   "outputs": [],
   "source": [
    "from cameo import models\n",
    "from cameo import load_model"
   ]
  },
  {
   "cell_type": "code",
   "execution_count": 3,
   "id": "66884062",
   "metadata": {},
   "outputs": [],
   "source": [
    "model.objective = model.reactions.CG_biomass_cgl_ATCC13032\n",
    "solution = model.optimize()"
   ]
  },
  {
   "cell_type": "markdown",
   "id": "d2b60353",
   "metadata": {},
   "source": [
    "## Cofactor swapping"
   ]
  },
  {
   "cell_type": "code",
   "execution_count": 4,
   "id": "0c0eaa6f",
   "metadata": {},
   "outputs": [],
   "source": [
    "from cameo.strain_design.heuristic.evolutionary.optimization import CofactorSwapOptimization\n",
    "from cameo.strain_design.heuristic.evolutionary.objective_functions import product_yield\n",
    "from cameo.strain_design.heuristic.evolutionary.objective_functions import biomass_product_coupled_yield\n",
    "from cameo.util import TimeMachine\n",
    "from cameo.flux_analysis.analysis import flux_variability_analysis as fva"
   ]
  },
  {
   "cell_type": "code",
   "execution_count": 5,
   "id": "978349b4",
   "metadata": {},
   "outputs": [],
   "source": [
    "model.reactions.CG_biomass_cgl_ATCC13032.lower_bound = 0.1"
   ]
  },
  {
   "cell_type": "code",
   "execution_count": 6,
   "id": "ca5af38b",
   "metadata": {},
   "outputs": [],
   "source": [
    "model.objective = model.reactions.EX_psi_e #Setting objective for exchange reaction of psilocybin"
   ]
  },
  {
   "cell_type": "code",
   "execution_count": 7,
   "id": "1a7d68bd",
   "metadata": {},
   "outputs": [],
   "source": [
    "py = product_yield(model.reactions.EX_psi_e, model.reactions.EX_glc_e)\n",
    "optswap = CofactorSwapOptimization(model=model, objective_function=py, cofactor_id_swaps=(['nadp_c', 'nadph_c'], ['nad_c', 'nadh_c']))"
   ]
  },
  {
   "cell_type": "code",
   "execution_count": 8,
   "id": "9500688a",
   "metadata": {},
   "outputs": [
    {
     "name": "stdout",
     "output_type": "stream",
     "text": [
      "Starting optimization at Mon, 29 Nov 2021 17:31:32\n"
     ]
    },
    {
     "data": {
      "application/vnd.jupyter.widget-view+json": {
       "model_id": "d66eb65f12814e7496dc6fc5ee8c0aa5",
       "version_major": 2,
       "version_minor": 0
      },
      "text/plain": [
       "HBox()"
      ]
     },
     "metadata": {},
     "output_type": "display_data"
    },
    {
     "name": "stdout",
     "output_type": "stream",
     "text": [
      "Finished after 00:12:51\n"
     ]
    },
    {
     "data": {
      "text/html": [
       "\n",
       "        <h4>Result:</h4>\n",
       "        <ul>\n",
       "            <li>model: iCW773</li>\n",
       "            <li>heuristic: GA</li>\n",
       "            <li>objective function: $$yield = \\frac{EX\\_psi\\_e}{EX\\_glc\\_e}$$</li>\n",
       "            <li>simulation method: pfba</li>\n",
       "            <li>target type: cofactor-swap</li>\n",
       "        <ul>\n",
       "        <div>\n",
       "<style scoped>\n",
       "    .dataframe tbody tr th:only-of-type {\n",
       "        vertical-align: middle;\n",
       "    }\n",
       "\n",
       "    .dataframe tbody tr th {\n",
       "        vertical-align: top;\n",
       "    }\n",
       "\n",
       "    .dataframe thead th {\n",
       "        text-align: right;\n",
       "    }\n",
       "</style>\n",
       "<table border=\"1\" class=\"dataframe\">\n",
       "  <thead>\n",
       "    <tr style=\"text-align: right;\">\n",
       "      <th></th>\n",
       "      <th>index</th>\n",
       "      <th>targets</th>\n",
       "      <th>fitness</th>\n",
       "    </tr>\n",
       "  </thead>\n",
       "  <tbody>\n",
       "  </tbody>\n",
       "</table>\n",
       "</div>"
      ],
      "text/plain": [
       "<cameo.strain_design.heuristic.evolutionary.optimization.TargetOptimizationResult at 0x17c7ad05320>"
      ]
     },
     "execution_count": 8,
     "metadata": {},
     "output_type": "execute_result"
    }
   ],
   "source": [
    "optswap.run(max_evaluations=2000, max_size=2)"
   ]
  },
  {
   "cell_type": "markdown",
   "id": "c2d3e5da",
   "metadata": {},
   "source": [
    "Co-factor swapping seems to have no advantage when producing psilocybin with Corynebcterium glutamicum."
   ]
  },
  {
   "cell_type": "code",
   "execution_count": null,
   "id": "8bb2131f",
   "metadata": {},
   "outputs": [],
   "source": []
  }
 ],
 "metadata": {
  "kernelspec": {
   "display_name": "Python 3",
   "language": "python",
   "name": "python3"
  },
  "language_info": {
   "codemirror_mode": {
    "name": "ipython",
    "version": 3
   },
   "file_extension": ".py",
   "mimetype": "text/x-python",
   "name": "python",
   "nbconvert_exporter": "python",
   "pygments_lexer": "ipython3",
   "version": "3.6.13"
  }
 },
 "nbformat": 4,
 "nbformat_minor": 5
}
