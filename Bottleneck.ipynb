{
 "cells": [
  {
   "cell_type": "code",
   "execution_count": 1,
   "id": "28cc9eb2",
   "metadata": {
    "scrolled": true
   },
   "outputs": [
    {
     "name": "stderr",
     "output_type": "stream",
     "text": [
      "No objective coefficients in model. Unclear what should be optimized\n"
     ]
    }
   ],
   "source": [
    "%run 1._Add_Psilocybin_to_Coynebacterium_Model.ipynb #change model source here"
   ]
  },
  {
   "cell_type": "code",
   "execution_count": 2,
   "id": "208bde84",
   "metadata": {},
   "outputs": [],
   "source": [
    "from cobra.io import read_sbml_model\n",
    "from cobra.medium import minimal_medium\n",
    "import pandas as pd\n",
    "import matplotlib.pyplot as plt"
   ]
  },
  {
   "cell_type": "code",
   "execution_count": 3,
   "id": "ad065fd9",
   "metadata": {},
   "outputs": [],
   "source": [
    "target = model.reactions.EX_psi_e"
   ]
  },
  {
   "cell_type": "markdown",
   "id": "cfa55ff3",
   "metadata": {},
   "source": [
    "# Finding the Bottleneck\n"
   ]
  },
  {
   "cell_type": "markdown",
   "id": "920f1da8",
   "metadata": {},
   "source": [
    "In [4._Production_Rate_Overview.ipynb](4._Production_Rate_Overview.ipynb), it was found that the production of tryptophan, TRPS1, had a low flux."
   ]
  },
  {
   "cell_type": "code",
   "execution_count": 5,
   "id": "5f67f2c9",
   "metadata": {
    "scrolled": false
   },
   "outputs": [
    {
     "data": {
      "text/html": [
       "\n",
       "        <table>\n",
       "            <tr>\n",
       "                <td><strong>Reaction identifier</strong></td><td>TRPS1</td>\n",
       "            </tr><tr>\n",
       "                <td><strong>Name</strong></td><td>tryptophan synthase (indoleglycerol phosphate)</td>\n",
       "            </tr><tr>\n",
       "                <td><strong>Memory address</strong></td>\n",
       "                <td>0x022ef2025978</td>\n",
       "            </tr><tr>\n",
       "                <td><strong>Stoichiometry</strong></td>\n",
       "                <td>\n",
       "                    <p style='text-align:right'>3ig3p_c + ser_L_c --> g3p_c + h2o_c + trp_L_c</p>\n",
       "                    <p style='text-align:right'>C'-(3-Indolyl)-glycerol 3-phosphate + L_Serine --> Glyceraldehyde 3-phosphate + H2O + L_Tryptophan</p>\n",
       "                </td>\n",
       "            </tr><tr>\n",
       "                <td><strong>GPR</strong></td><td>cg3363 and cg3364</td>\n",
       "            </tr><tr>\n",
       "                <td><strong>Lower bound</strong></td><td>0.0</td>\n",
       "            </tr><tr>\n",
       "                <td><strong>Upper bound</strong></td><td>0.22043</td>\n",
       "            </tr>\n",
       "        </table>\n",
       "        "
      ],
      "text/plain": [
       "<Reaction TRPS1 at 0x22ef2025978>"
      ]
     },
     "execution_count": 5,
     "metadata": {},
     "output_type": "execute_result"
    }
   ],
   "source": [
    "model.reactions.TRPS1 #our limiting factor"
   ]
  },
  {
   "cell_type": "code",
   "execution_count": 6,
   "id": "90639257",
   "metadata": {},
   "outputs": [
    {
     "name": "stdout",
     "output_type": "stream",
     "text": [
      "Max. psi production [mmol gDW^-1 h^-1]: 5.69299883708285e-05\n",
      "TRPS1 Flux [mmol gDW^-1 h^-1]: 5.69299883708285e-05\n"
     ]
    }
   ],
   "source": [
    "with model: #input 1 of 2\n",
    "    model.objective = target\n",
    "    print(\"Max. psi production [mmol gDW^-1 h^-1]:\",model.optimize().objective_value)\n",
    "    print(\"TRPS1 Flux [mmol gDW^-1 h^-1]:\",model.reactions.TRPS1.flux)"
   ]
  },
  {
   "cell_type": "markdown",
   "id": "49e7c7b4",
   "metadata": {},
   "source": [
    "## First metabolite, C'-(3-Indolyl)-glycerol 3-phosphate"
   ]
  },
  {
   "cell_type": "code",
   "execution_count": 7,
   "id": "3898fd65",
   "metadata": {
    "scrolled": false
   },
   "outputs": [
    {
     "name": "stdout",
     "output_type": "stream",
     "text": [
      "Max. psi production [mmol gDW^-1 h^-1]: 5.69299883708285e-05\n",
      "IGPS : 0.09063538000775301\n",
      "TRPS1 : 5.69299883708285e-05\n",
      "TRPS3 : 0.09057845001938218\n",
      "INPSHE : 0.0\n"
     ]
    }
   ],
   "source": [
    "with model: #input 1 of 2\n",
    "    model.objective = target\n",
    "    print(\"Max. psi production [mmol gDW^-1 h^-1]:\",model.optimize().objective_value)\n",
    "    for x in model.reactions.query('3ig3p_c','reaction'):\n",
    "        print(\"%s : %s\" % (x.id, x.flux))    "
   ]
  },
  {
   "cell_type": "markdown",
   "id": "5435c6ca",
   "metadata": {},
   "source": [
    "# Second metabolite, L_Serine"
   ]
  },
  {
   "cell_type": "code",
   "execution_count": 8,
   "id": "5f2d1b90",
   "metadata": {
    "scrolled": true
   },
   "outputs": [
    {
     "name": "stdout",
     "output_type": "stream",
     "text": [
      "Max. psi production [mmol gDW^-1 h^-1]: 5.69299883708285e-05\n",
      "SERAT:flux 0.000113859976741657\n",
      "GPDDA3:flux 0.0\n",
      "GHMT2r:flux 0.00022771995348257009\n",
      "PSERT:flux 0.3892699999999998\n",
      "PSP_L:flux 0.3892699999999998\n",
      "SERD_L:flux 0.3888714900814047\n",
      "PSERtex:flux 0.0\n",
      "SERabcpp:flux 0.0\n",
      "SERt3pp:flux 0.0\n",
      "SERTRS:flux 0.0\n",
      "SERTRS2:flux 0.0\n",
      "TRPS1:flux 5.69299883708285e-05\n",
      "TRPS2:flux 0.0\n",
      "PROTEIN:flux 0.0\n"
     ]
    }
   ],
   "source": [
    "with model: #input 2 of 2\n",
    "    model.objective = target\n",
    "    print(\"Max. psi production [mmol gDW^-1 h^-1]:\",model.optimize().objective_value)\n",
    "    for x in model.reactions.query('ser_L_c','reaction'):\n",
    "        print(\"%s:flux %s\" % (x.id, x.flux))    "
   ]
  },
  {
   "cell_type": "code",
   "execution_count": 9,
   "id": "7da0b315",
   "metadata": {},
   "outputs": [
    {
     "name": "stdout",
     "output_type": "stream",
     "text": [
      "Max. psi production [mmol gDW^-1 h^-1]: 5.69299883708285e-05\n",
      "SERAT: accoa_c + ser_L_c --> acser_c + coa_c\n",
      "GPDDA3: g3ps_c + h2o_c --> glyc3p_c + h_c + ser_L_c\n",
      "GHMT2r: ser_L_c + thf_c <=> gly_c + h2o_c + mlthf_c\n",
      "PSERT: 3php_c + glu_L_c --> akg_c + pser_L_c\n",
      "PSP_L: h2o_c + pser_L_c --> pi_c + ser_L_c\n",
      "SERD_L: ser_L_c --> nh4_c + pyr_c\n",
      "PSERtex: pser_L_e --> pser_L_c\n",
      "SERabcpp: atp_c + h2o_c + ser_L_e --> adp_c + h_c + pi_c + ser_L_c\n",
      "SERt3pp: h_e + ser_L_c --> h_c + ser_L_e\n",
      "SERTRS: atp_c + ser_L_c + trnaser_c --> amp_c + ppi_c + sertrna_c\n",
      "SERTRS2: atp_c + ser_L_c + trnasecys_c --> amp_c + ppi_c + sertrna_c\n",
      "TRPS1: 3ig3p_c + ser_L_c --> g3p_c + h2o_c + trp_L_c\n",
      "TRPS2: indole_c + ser_L_c --> h2o_c + trp_L_c\n",
      "PROTEIN: 1.3527 ala_L_c + 0.38519 arg_L_c + 0.39281 asn_L_c + 0.39281 asp_L_c + 40.0656 atp_c + 0.089437 cys_L_c + 0.69314 gln_L_c + 1.1139 glu_L_c + 0.71651 gly_c + 30.7601 h2o_c + 0.13619 his_L_c + 0.38316 ile_L_c + 0.71347 leu_L_c + 0.37909 lys_L_c + 0.15347 met_L_c + 0.26018 phe_L_c + 0.32319 pro_L_c + 0.498 ser_L_c + 0.5539 thr_L_c + 0.055899 trp_L_c + 0.15753 tyr_L_c + 0.55492 vaL_L_c --> 40.0656 adp_c + 40.0656 h_c + 40.0656 pi_c + protein_c\n"
     ]
    }
   ],
   "source": [
    "with model:\n",
    "    model.objective = target\n",
    "    print(\"Max. psi production [mmol gDW^-1 h^-1]:\",model.optimize().objective_value)\n",
    "    for x in model.reactions.query('ser_L_c','reaction'):\n",
    "        print(\"%s: %s\" % (x.id, x.reaction))"
   ]
  },
  {
   "cell_type": "markdown",
   "id": "d6fb6a8f",
   "metadata": {},
   "source": [
    "PSERT, PSP_L, and SERD_L seem to be the relevant reactions limiting TRPS1 (tryptophan production)"
   ]
  },
  {
   "cell_type": "code",
   "execution_count": 10,
   "id": "be993e61",
   "metadata": {
    "scrolled": true
   },
   "outputs": [
    {
     "data": {
      "text/plain": [
       "'3php_c + glu_L_c --> akg_c + pser_L_c'"
      ]
     },
     "execution_count": 10,
     "metadata": {},
     "output_type": "execute_result"
    }
   ],
   "source": [
    "model.reactions.PSERT.reaction"
   ]
  },
  {
   "cell_type": "code",
   "execution_count": 11,
   "id": "e50d9f55",
   "metadata": {
    "scrolled": true
   },
   "outputs": [
    {
     "data": {
      "text/plain": [
       "'h2o_c + pser_L_c --> pi_c + ser_L_c'"
      ]
     },
     "execution_count": 11,
     "metadata": {},
     "output_type": "execute_result"
    }
   ],
   "source": [
    "model.reactions.PSP_L.reaction"
   ]
  },
  {
   "cell_type": "markdown",
   "id": "bbbed353",
   "metadata": {},
   "source": [
    "These two reactions lead to the production of Serine"
   ]
  },
  {
   "cell_type": "code",
   "execution_count": 12,
   "id": "5b376307",
   "metadata": {},
   "outputs": [
    {
     "data": {
      "text/plain": [
       "'ser_L_c --> nh4_c + pyr_c'"
      ]
     },
     "execution_count": 12,
     "metadata": {},
     "output_type": "execute_result"
    }
   ],
   "source": [
    "model.reactions.SERD_L.reaction"
   ]
  },
  {
   "cell_type": "markdown",
   "id": "83c95c1e",
   "metadata": {},
   "source": [
    "This reaction breaks it down, leaving just enough for other reactions."
   ]
  },
  {
   "cell_type": "code",
   "execution_count": 13,
   "id": "505e3ae2",
   "metadata": {
    "scrolled": true
   },
   "outputs": [
    {
     "name": "stdout",
     "output_type": "stream",
     "text": [
      "Max. psi production [mmol gDW^-1 h^-1]: 5.69299883708285e-05\n",
      "Theoretical max. yield [mmol-psi / mmol-gl]: 1.3830396904616058e-05\n"
     ]
    }
   ],
   "source": [
    "with model:\n",
    "    model.reactions.SERD_L.upper_bound=0\n",
    "    model.objective = target\n",
    "    psi_production = model.optimize().objective_value\n",
    "    print(\"Max. psi production [mmol gDW^-1 h^-1]:\", psi_production)\n",
    "    print(\"Theoretical max. yield [mmol-psi / mmol-gl]:\", psi_production / (-1*model.reactions.EX_glc_e.flux))"
   ]
  },
  {
   "cell_type": "markdown",
   "id": "fc7f59e2",
   "metadata": {},
   "source": [
    "#### reduce this breakdown to nearly 0, effectively knocking it out/heavily downregulating"
   ]
  },
  {
   "cell_type": "code",
   "execution_count": 14,
   "id": "2011e8ed",
   "metadata": {
    "scrolled": false
   },
   "outputs": [
    {
     "name": "stdout",
     "output_type": "stream",
     "text": [
      "Max. psi production [mmol gDW^-1 h^-1]: 5.69299883708285e-05\n",
      "SERAT:flux 0.00011385997674168147\n",
      "GPDDA3:flux 0.0\n",
      "GHMT2r:flux 0.3790992100348873\n",
      "PSERT:flux 0.3892699999999998\n",
      "PSP_L:flux 0.3892699999999998\n",
      "SERD_L:flux 0.01\n",
      "PSERtex:flux 0.0\n",
      "SERabcpp:flux 0.0\n",
      "SERt3pp:flux 0.0\n",
      "SERTRS:flux 0.0\n",
      "SERTRS2:flux 0.0\n",
      "TRPS1:flux 5.69299883708285e-05\n",
      "TRPS2:flux 0.0\n",
      "PROTEIN:flux 0.0\n"
     ]
    }
   ],
   "source": [
    "with model:\n",
    "    model.reactions.SERD_L.bounds=0.01,0.01\n",
    "    model.objective = target\n",
    "    print(\"Max. psi production [mmol gDW^-1 h^-1]:\",model.optimize().objective_value)\n",
    "    for x in model.reactions.query('ser_L_c','reaction'):\n",
    "        print(\"%s:flux %s\" % (x.id, x.flux))"
   ]
  },
  {
   "cell_type": "markdown",
   "id": "b6d228f2",
   "metadata": {},
   "source": [
    "#### This moves the flux to another reaction, GHMT2r, which also breaks down serine. Will continue to knock out these kinds of formulas"
   ]
  },
  {
   "cell_type": "code",
   "execution_count": 15,
   "id": "9ace64e4",
   "metadata": {},
   "outputs": [
    {
     "data": {
      "text/plain": [
       "'ser_L_c + thf_c <=> gly_c + h2o_c + mlthf_c'"
      ]
     },
     "execution_count": 15,
     "metadata": {},
     "output_type": "execute_result"
    }
   ],
   "source": [
    "model.reactions.GHMT2r.reaction"
   ]
  },
  {
   "cell_type": "code",
   "execution_count": 16,
   "id": "e8817303",
   "metadata": {
    "scrolled": true
   },
   "outputs": [
    {
     "name": "stdout",
     "output_type": "stream",
     "text": [
      "Max. psi production [mmol gDW^-1 h^-1]: 5.69299883708285e-05\n",
      "SERAT:flux 0.019658420069773808\n",
      "GPDDA3:flux 0.0\n",
      "GHMT2r:flux 0.01\n",
      "PSERT:flux 0.3892699999999998\n",
      "PSP_L:flux 0.3892699999999998\n",
      "SERD_L:flux 0.01\n",
      "PSERtex:flux 0.0\n",
      "SERabcpp:flux 0.0\n",
      "SERt3pp:flux 0.34955464994185514\n",
      "SERTRS:flux 0.0\n",
      "SERTRS2:flux 0.0\n",
      "TRPS1:flux 5.69299883708285e-05\n",
      "TRPS2:flux 0.0\n",
      "PROTEIN:flux 0.0\n"
     ]
    }
   ],
   "source": [
    "with model:\n",
    "    model.reactions.SERD_L.bounds=0.01,0.01\n",
    "    model.reactions.GHMT2r.bounds=0.01,0.01\n",
    "    model.objective = target\n",
    "    print(\"Max. psi production [mmol gDW^-1 h^-1]:\",model.optimize().objective_value)\n",
    "    for x in model.reactions.query('ser_L_c','reaction'):\n",
    "        print(\"%s:flux %s\" % (x.id, x.flux))    "
   ]
  },
  {
   "cell_type": "code",
   "execution_count": 17,
   "id": "72b7a855",
   "metadata": {
    "scrolled": true
   },
   "outputs": [
    {
     "data": {
      "text/plain": [
       "'h_e + ser_L_c --> h_c + ser_L_e'"
      ]
     },
     "execution_count": 17,
     "metadata": {},
     "output_type": "execute_result"
    }
   ],
   "source": [
    "model.reactions.SERt3pp.reaction #export reaction"
   ]
  },
  {
   "cell_type": "code",
   "execution_count": 18,
   "id": "4c166214",
   "metadata": {},
   "outputs": [
    {
     "name": "stdout",
     "output_type": "stream",
     "text": [
      "Max. psi production [mmol gDW^-1 h^-1]: 5.69299883708285e-05\n",
      "SERAT:flux 0.35921307001162894\n",
      "GPDDA3:flux 0.0\n",
      "GHMT2r:flux 0.01\n",
      "PSERT:flux 0.3892699999999998\n",
      "PSP_L:flux 0.3892699999999998\n",
      "SERD_L:flux 0.01\n",
      "PSERtex:flux 0.0\n",
      "SERabcpp:flux 0.0\n",
      "SERt3pp:flux 0.01\n",
      "SERTRS:flux 0.0\n",
      "SERTRS2:flux 0.0\n",
      "TRPS1:flux 5.69299883708285e-05\n",
      "TRPS2:flux 0.0\n",
      "PROTEIN:flux 0.0\n"
     ]
    }
   ],
   "source": [
    "with model:\n",
    "    model.reactions.SERD_L.bounds=0.01,0.01\n",
    "    model.reactions.GHMT2r.bounds=0.01,0.01\n",
    "    model.reactions.SERt3pp.bounds=0.01,0.01\n",
    "    model.objective = target\n",
    "    print(\"Max. psi production [mmol gDW^-1 h^-1]:\",model.optimize().objective_value)\n",
    "    for x in model.reactions.query('ser_L_c','reaction'):\n",
    "        print(\"%s:flux %s\" % (x.id, x.flux))    "
   ]
  },
  {
   "cell_type": "code",
   "execution_count": 19,
   "id": "8dfdc305",
   "metadata": {
    "scrolled": false
   },
   "outputs": [
    {
     "data": {
      "text/plain": [
       "'accoa_c + ser_L_c --> acser_c + coa_c'"
      ]
     },
     "execution_count": 19,
     "metadata": {},
     "output_type": "execute_result"
    }
   ],
   "source": [
    "model.reactions.SERAT.reaction"
   ]
  },
  {
   "cell_type": "markdown",
   "id": "a7545fde",
   "metadata": {},
   "source": [
    "#### They just keep coming. easier now just to force things through TRPS1 by upregulating"
   ]
  },
  {
   "cell_type": "code",
   "execution_count": 20,
   "id": "b8dfa9d2",
   "metadata": {
    "scrolled": false
   },
   "outputs": [
    {
     "name": "stdout",
     "output_type": "stream",
     "text": [
      "Max. psi production [mmol gDW^-1 h^-1]: 5.69299883708285e-05\n",
      "SERAT:flux 0.15926999999999977\n",
      "GPDDA3:flux 0.0\n",
      "GHMT2r:flux 0.01\n",
      "PSERT:flux 0.3892699999999998\n",
      "PSP_L:flux 0.3892699999999998\n",
      "SERD_L:flux 0.01\n",
      "PSERtex:flux 0.0\n",
      "SERabcpp:flux 0.0\n",
      "SERt3pp:flux 0.01\n",
      "SERTRS:flux 0.0\n",
      "SERTRS2:flux 0.0\n",
      "TRPS1:flux 0.2\n",
      "TRPS2:flux 0.0\n",
      "PROTEIN:flux 0.0\n"
     ]
    }
   ],
   "source": [
    "with model:\n",
    "    model.reactions.SERD_L.bounds=0.01,0.01\n",
    "    model.reactions.GHMT2r.bounds=0.01,0.01\n",
    "    model.reactions.SERt3pp.bounds=0.01,0.01\n",
    "    model.reactions.TRPS1.bounds=0.2,0.2\n",
    "    model.objective = target\n",
    "    print(\"Max. psi production [mmol gDW^-1 h^-1]:\",model.optimize().objective_value)\n",
    "    for x in model.reactions.query('ser_L_c','reaction'):\n",
    "        print(\"%s:flux %s\" % (x.id, x.flux))    "
   ]
  },
  {
   "cell_type": "markdown",
   "id": "bcba0312",
   "metadata": {},
   "source": [
    "#### It now proceeds through TRPS1, as we desired, but the production rate of psilocybin isn't affected."
   ]
  },
  {
   "cell_type": "code",
   "execution_count": 27,
   "id": "0476b048",
   "metadata": {
    "scrolled": false
   },
   "outputs": [
    {
     "name": "stdout",
     "output_type": "stream",
     "text": [
      "Tryptophan reactions\n",
      "Max. psi production [mmol gDW^-1 h^-1]: 5.69299883708285e-05\n",
      "TRPTRS [mmol gDW^-1 h^-1]: 0.0\n",
      "TRPS2 [mmol gDW^-1 h^-1]: 0.0\n",
      "CrTdc [mmol gDW^-1 h^-1]: 5.69299883708285e-05\n",
      "TRPS1 [mmol gDW^-1 h^-1]: 0.2\n",
      "TRPt2rpp [mmol gDW^-1 h^-1]: -0.19994307001162917\n",
      "TRPabcpp [mmol gDW^-1 h^-1]: 0.0\n",
      "PROTEIN [mmol gDW^-1 h^-1]: 0.0\n"
     ]
    }
   ],
   "source": [
    "with model:\n",
    "    model.reactions.SERD_L.bounds=0.01,0.01\n",
    "    model.reactions.GHMT2r.bounds=0.01,0.01\n",
    "    model.reactions.SERt3pp.bounds=0.01,0.01\n",
    "    model.reactions.TRPS1.bounds=0.2,0.2  \n",
    "    model.objective = target\n",
    "    print(\"Tryptophan reactions\")\n",
    "    \n",
    "    print(\"Max. psi production [mmol gDW^-1 h^-1]:\",model.optimize().objective_value)\n",
    "    print(\"TRPTRS [mmol gDW^-1 h^-1]:\",model.reactions.TRPTRS.flux)\n",
    "    print(\"TRPS2 [mmol gDW^-1 h^-1]:\",model.reactions.TRPS2.flux)\n",
    "    print(\"CrTdc [mmol gDW^-1 h^-1]:\",model.reactions.CrTdc.flux)\n",
    "    print(\"TRPS1 [mmol gDW^-1 h^-1]:\",model.reactions.TRPS1.flux)\n",
    "    print(\"TRPt2rpp [mmol gDW^-1 h^-1]:\",model.reactions.TRPt2rpp.flux)\n",
    "    print(\"TRPabcpp [mmol gDW^-1 h^-1]:\",model.reactions.TRPabcpp.flux)\n",
    "    print(\"PROTEIN [mmol gDW^-1 h^-1]:\",model.reactions.PROTEIN.flux)"
   ]
  },
  {
   "cell_type": "code",
   "execution_count": 28,
   "id": "7a6cea25",
   "metadata": {},
   "outputs": [
    {
     "data": {
      "text/plain": [
       "'h_e + trp_L_e <-- h_c + trp_L_c'"
      ]
     },
     "execution_count": 28,
     "metadata": {},
     "output_type": "execute_result"
    }
   ],
   "source": [
    "model.reactions.TRPt2rpp.reaction"
   ]
  },
  {
   "cell_type": "markdown",
   "id": "80dbe103",
   "metadata": {},
   "source": [
    "#### The export reaction is doing weird things and limiting bounds does not help"
   ]
  },
  {
   "cell_type": "code",
   "execution_count": 29,
   "id": "59877ace",
   "metadata": {
    "scrolled": false
   },
   "outputs": [
    {
     "name": "stdout",
     "output_type": "stream",
     "text": [
      "every reaction going toward psilocybin\n",
      "Max. psi production [mmol gDW^-1 h^-1]: 5.69299883708285e-05\n",
      "TRPTRS [mmol gDW^-1 h^-1]: 0.0\n",
      "TRPS2 [mmol gDW^-1 h^-1]: 0.0\n",
      "CrTdc [mmol gDW^-1 h^-1]: 5.69299883708285e-05\n",
      "TRPS1 [mmol gDW^-1 h^-1]: 0.2\n",
      "TRPt2rpp [mmol gDW^-1 h^-1]: -0.19994307001162917\n",
      "TRPabcpp [mmol gDW^-1 h^-1]: 0.0\n",
      "PROTEIN [mmol gDW^-1 h^-1]: 0.0\n"
     ]
    }
   ],
   "source": [
    "with model:\n",
    "    model.reactions.SERD_L.bounds=0.01,0.01\n",
    "    model.reactions.GHMT2r.bounds=0.01,0.01\n",
    "    model.reactions.SERt3pp.bounds=0.01,0.01\n",
    "    model.reactions.TRPS1.bounds=0.2,0.2\n",
    "    model.objective = target\n",
    "    print(\"every reaction going toward psilocybin\")\n",
    "    \n",
    "    print(\"Max. psi production [mmol gDW^-1 h^-1]:\",model.optimize().objective_value)\n",
    "    print(\"TRPTRS [mmol gDW^-1 h^-1]:\",model.reactions.TRPTRS.flux)\n",
    "    print(\"TRPS2 [mmol gDW^-1 h^-1]:\",model.reactions.TRPS2.flux)\n",
    "    print(\"CrTdc [mmol gDW^-1 h^-1]:\",model.reactions.CrTdc.flux)\n",
    "    print(\"TRPS1 [mmol gDW^-1 h^-1]:\",model.reactions.TRPS1.flux)\n",
    "    print(\"TRPt2rpp [mmol gDW^-1 h^-1]:\",model.reactions.TRPt2rpp.flux)\n",
    "    print(\"TRPabcpp [mmol gDW^-1 h^-1]:\",model.reactions.TRPabcpp.flux)\n",
    "    print(\"PROTEIN [mmol gDW^-1 h^-1]:\",model.reactions.PROTEIN.flux)"
   ]
  },
  {
   "cell_type": "code",
   "execution_count": 30,
   "id": "2c0ba886",
   "metadata": {},
   "outputs": [
    {
     "data": {
      "text/plain": [
       "'3ig3p_c + ser_L_c --> g3p_c + h2o_c + trp_L_c'"
      ]
     },
     "execution_count": 30,
     "metadata": {},
     "output_type": "execute_result"
    }
   ],
   "source": [
    "model.reactions.TRPS1.reaction"
   ]
  },
  {
   "cell_type": "markdown",
   "id": "fe30ebd9",
   "metadata": {},
   "source": [
    "The tryptophan synthesis reaction involves both serine and C'-(3-Indolyl)-glycerol 3-phosphate. Downregulating other reactions in the serine pathway doesn't seem to help the rate, and upregulating creates issues. Therefore, it is reasoned that the C'-(3-Indolyl)-glycerol 3-phosphate has production rate limits."
   ]
  },
  {
   "cell_type": "code",
   "execution_count": 33,
   "id": "b3a3ee22",
   "metadata": {
    "scrolled": true
   },
   "outputs": [
    {
     "data": {
      "text/plain": [
       "[<Reaction IGPS at 0x22ef2016860>,\n",
       " <Reaction TRPS1 at 0x22ef2025978>,\n",
       " <Reaction TRPS3 at 0x22ef2025e48>,\n",
       " <Reaction INPSHE at 0x22ef2031550>]"
      ]
     },
     "execution_count": 33,
     "metadata": {},
     "output_type": "execute_result"
    }
   ],
   "source": [
    "model.reactions.query(\"3ig3p_c\",\"reaction\")"
   ]
  },
  {
   "cell_type": "markdown",
   "id": "53be7dbd",
   "metadata": {},
   "source": [
    "There is no exchange reaction to easily add more, and the involved reactions form a mostly closed loop (as seen below)."
   ]
  },
  {
   "cell_type": "markdown",
   "id": "656c1113",
   "metadata": {},
   "source": [
    "## Relevant Output, Glyceraldehyde 3-phosphate"
   ]
  },
  {
   "cell_type": "code",
   "execution_count": 24,
   "id": "0176cdf3",
   "metadata": {},
   "outputs": [
    {
     "name": "stdout",
     "output_type": "stream",
     "text": [
      "Max. psi production [mmol gDW^-1 h^-1]: 5.69299883708285e-05\n",
      "DRPA : 0.0\n",
      "DXPS : 0.0\n",
      "PY5PSH : 0.0\n",
      "AGPAT120 : 0.0\n",
      "AGPAT140 : 0.0\n",
      "AGPAT141 : 0.0\n",
      "AGPAT160 : 0.0\n",
      "AGPAT161 : 0.0\n",
      "AGPAT180 : 0.0\n",
      "AGPAT181 : 0.0\n",
      "G3PAT120 : 0.0\n",
      "G3PAT140 : 0.0\n",
      "G3PAT141 : 0.0\n",
      "G3PAT160 : 0.0\n",
      "G3PAT161 : 0.0\n",
      "G3PAT180 : 0.0\n",
      "G3PAT181 : 0.0\n",
      "LPLIPAL1A180pp : 0.0\n",
      "FBA : 3.39087\n",
      "GAPD : 7.20853\n",
      "TPI : 3.1829846199922467\n",
      "IG3PS : 0.0\n",
      "IGPDH : 0.0\n",
      "TALA : 0.6346753800077526\n",
      "TKT1 : 0.6346753800077526\n",
      "TKT2 : 0.439557078805507\n",
      "IGPS : 0.19511830120224563\n",
      "TRPS1 : 0.19511830120224563\n",
      "TRPS3 : 0.0\n",
      "INPSHE : 0.0\n"
     ]
    }
   ],
   "source": [
    "with model: #model output 1\n",
    "    model.objective = target\n",
    "    print(\"Max. psi production [mmol gDW^-1 h^-1]:\",model.optimize().objective_value)\n",
    "    for x in model.reactions.query('g3p_c','reaction'):\n",
    "        print(\"%s : %s\" % (x.id, x.flux))    "
   ]
  },
  {
   "cell_type": "code",
   "execution_count": 25,
   "id": "36a97d50",
   "metadata": {},
   "outputs": [
    {
     "name": "stdout",
     "output_type": "stream",
     "text": [
      "indole-3-glyceroL_phosphate synthase (0.0, 0.22043) 2cpr5p_c + h_c --> 3ig3p_c + co2_c + h2o_c\n",
      "tryptophan synthase (indoleglycerol phosphate) (0.0, 0.22043) 3ig3p_c + ser_L_c --> g3p_c + h2o_c + trp_L_c\n",
      "tryptophan synthase (indoleglycerol phosphate) (0.0, 0.22043) 3ig3p_c --> g3p_c + indole_c\n"
     ]
    }
   ],
   "source": [
    "print(model.reactions.IGPS.name,model.reactions.IGPS.bounds,model.reactions.IGPS.reaction)\n",
    "print(model.reactions.TRPS1.name,model.reactions.TRPS1.bounds,model.reactions.TRPS1.reaction)\n",
    "print(model.reactions.TRPS3.name,model.reactions.TRPS3.bounds,model.reactions.TRPS3.reaction)"
   ]
  },
  {
   "cell_type": "markdown",
   "id": "e6e64027",
   "metadata": {},
   "source": [
    "These three reactions form a loop along with the C'-(3-Indolyl)-glycerol 3-phosphate"
   ]
  }
 ],
 "metadata": {
  "kernelspec": {
   "display_name": "Python 3",
   "language": "python",
   "name": "python3"
  },
  "language_info": {
   "codemirror_mode": {
    "name": "ipython",
    "version": 3
   },
   "file_extension": ".py",
   "mimetype": "text/x-python",
   "name": "python",
   "nbconvert_exporter": "python",
   "pygments_lexer": "ipython3",
   "version": "3.6.13"
  }
 },
 "nbformat": 4,
 "nbformat_minor": 5
}
