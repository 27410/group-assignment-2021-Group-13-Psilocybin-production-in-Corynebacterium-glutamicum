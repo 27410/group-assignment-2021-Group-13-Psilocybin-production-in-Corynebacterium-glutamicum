{
 "cells": [
  {
   "cell_type": "code",
   "execution_count": 1,
   "id": "28cc9eb2",
   "metadata": {
    "scrolled": true
   },
   "outputs": [
    {
     "name": "stderr",
     "output_type": "stream",
     "text": [
      "No objective coefficients in model. Unclear what should be optimized\n"
     ]
    }
   ],
   "source": [
    "%run 1._Add_Psilocybin_to_Coynebacterium_Model.ipynb #change model source here"
   ]
  },
  {
   "cell_type": "code",
   "execution_count": 2,
   "id": "208bde84",
   "metadata": {},
   "outputs": [],
   "source": [
    "from cobra.io import read_sbml_model\n",
    "from cobra.medium import minimal_medium\n",
    "import pandas as pd\n",
    "import matplotlib.pyplot as plt"
   ]
  },
  {
   "cell_type": "code",
   "execution_count": 3,
   "id": "ad065fd9",
   "metadata": {},
   "outputs": [],
   "source": [
    "target = model.reactions.EX_psi_e"
   ]
  },
  {
   "cell_type": "code",
   "execution_count": 4,
   "id": "5077ad41",
   "metadata": {
    "scrolled": true
   },
   "outputs": [
    {
     "name": "stdout",
     "output_type": "stream",
     "text": [
      "Max. psi production [mmol gDW^-1 h^-1]: 5.69299883708285e-05\n",
      "Theoretical max. yield [mmol-psi / mmol-gl]: 1.3830396904616058e-05\n"
     ]
    }
   ],
   "source": [
    "with model:\n",
    "    model.objective = target\n",
    "    psi_production = model.optimize().objective_value\n",
    "    print(\"Max. psi production [mmol gDW^-1 h^-1]:\", psi_production)\n",
    "    print(\"Theoretical max. yield [mmol-psi / mmol-gl]:\", psi_production / (-1*model.reactions.EX_glc_e.flux))"
   ]
  },
  {
   "cell_type": "markdown",
   "id": "cfa55ff3",
   "metadata": {},
   "source": [
    "# Resulting Flux Optimized for Psi Production\n",
    "\n"
   ]
  },
  {
   "cell_type": "code",
   "execution_count": 5,
   "id": "7277582e",
   "metadata": {
    "scrolled": true
   },
   "outputs": [
    {
     "data": {
      "text/html": [
       "\n",
       "        <table>\n",
       "            <tr>\n",
       "                <td><strong>Reaction identifier</strong></td><td>TRPS1</td>\n",
       "            </tr><tr>\n",
       "                <td><strong>Name</strong></td><td>tryptophan synthase (indoleglycerol phosphate)</td>\n",
       "            </tr><tr>\n",
       "                <td><strong>Memory address</strong></td>\n",
       "                <td>0x01c703825978</td>\n",
       "            </tr><tr>\n",
       "                <td><strong>Stoichiometry</strong></td>\n",
       "                <td>\n",
       "                    <p style='text-align:right'>3ig3p_c + ser_L_c --> g3p_c + h2o_c + trp_L_c</p>\n",
       "                    <p style='text-align:right'>C'-(3-Indolyl)-glycerol 3-phosphate + L_Serine --> Glyceraldehyde 3-phosphate + H2O + L_Tryptophan</p>\n",
       "                </td>\n",
       "            </tr><tr>\n",
       "                <td><strong>GPR</strong></td><td>cg3363 and cg3364</td>\n",
       "            </tr><tr>\n",
       "                <td><strong>Lower bound</strong></td><td>0.0</td>\n",
       "            </tr><tr>\n",
       "                <td><strong>Upper bound</strong></td><td>0.22043</td>\n",
       "            </tr>\n",
       "        </table>\n",
       "        "
      ],
      "text/plain": [
       "<Reaction TRPS1 at 0x1c703825978>"
      ]
     },
     "execution_count": 5,
     "metadata": {},
     "output_type": "execute_result"
    }
   ],
   "source": [
    "model.reactions.TRPS1 #our limiting factor"
   ]
  },
  {
   "cell_type": "code",
   "execution_count": 6,
   "id": "21073ba1",
   "metadata": {
    "scrolled": true
   },
   "outputs": [
    {
     "name": "stdout",
     "output_type": "stream",
     "text": [
      "Max. psi production [mmol gDW^-1 h^-1]: 5.69299883708285e-05\n",
      "IGPS : 0.09063538000775301\n",
      "TRPS1 : 5.69299883708285e-05\n",
      "TRPS3 : 0.09057845001938218\n",
      "INPSHE : 0.0\n"
     ]
    }
   ],
   "source": [
    "with model: #input 1 of 2\n",
    "    model.objective = target\n",
    "    print(\"Max. psi production [mmol gDW^-1 h^-1]:\",model.optimize().objective_value)\n",
    "    for x in model.reactions.query('3ig3p_c','reaction'):\n",
    "        print(\"%s : %s\" % (x.id, x.flux))    "
   ]
  },
  {
   "cell_type": "code",
   "execution_count": 23,
   "id": "f8b64c53",
   "metadata": {
    "scrolled": true
   },
   "outputs": [
    {
     "name": "stdout",
     "output_type": "stream",
     "text": [
      "Max. psi production [mmol gDW^-1 h^-1]: 5.69299883708285e-05\n",
      "SERAT: flux 0.000113859976741657                     bounds (2.59401548258117e-26, 0.80668)\n",
      "GPDDA3: flux 0.0                     bounds (0.0, 0.0)\n",
      "GHMT2r: flux 0.00022771995348257009                     bounds (-1.51873067396434e-25, 0.80668)\n",
      "PSERT: flux 0.3892699999999998                     bounds (0.38927, 0.80668)\n",
      "PSP_L: flux 0.3892699999999998                     bounds (0.38927, 0.80668)\n",
      "SERD_L: flux 0.3888714900814047                     bounds (0.0, 0.80668)\n",
      "PSERtex: flux 0.0                     bounds (0.0, 0.0)\n",
      "SERabcpp: flux 0.0                     bounds (0.0, 46.4365739999979)\n",
      "SERt3pp: flux 0.0                     bounds (4.26435750022928e-26, 46.4365739999994)\n",
      "SERTRS: flux 0.0                     bounds (0.0, 0.0)\n",
      "SERTRS2: flux 0.0                     bounds (0.0, 0.0)\n",
      "TRPS1: flux 5.69299883708285e-05                     bounds (0.0, 0.22043)\n",
      "TRPS2: flux 0.0                     bounds (0.0, 0.22043)\n",
      "PROTEIN: flux 0.0                     bounds (0.0, 0.23174211785824)\n"
     ]
    }
   ],
   "source": [
    "with model: #input 1 of 2\n",
    "    model.objective = target\n",
    "    print(\"Max. psi production [mmol gDW^-1 h^-1]:\",model.optimize().objective_value)\n",
    "    for x in model.reactions.query('ser_L_c','reaction'):\n",
    "        print(\"%s: flux %s\" % (x.id, x.flux))    "
   ]
  },
  {
   "cell_type": "code",
   "execution_count": 26,
   "id": "85a0c50b",
   "metadata": {},
   "outputs": [
    {
     "name": "stdout",
     "output_type": "stream",
     "text": [
      "Max. psi production [mmol gDW^-1 h^-1]: 5.69299883708285e-05\n",
      "SERAT: flux (2.59401548258117e-26, 0.80668)\n",
      "SERAT: flux accoa_c + ser_L_c --> acser_c + coa_c\n",
      "GPDDA3: flux (0.0, 0.0)\n",
      "GPDDA3: flux g3ps_c + h2o_c --> glyc3p_c + h_c + ser_L_c\n",
      "GHMT2r: flux (-1.51873067396434e-25, 0.80668)\n",
      "GHMT2r: flux ser_L_c + thf_c <=> gly_c + h2o_c + mlthf_c\n",
      "PSERT: flux (0.38927, 0.80668)\n",
      "PSERT: flux 3php_c + glu_L_c --> akg_c + pser_L_c\n",
      "PSP_L: flux (0.38927, 0.80668)\n",
      "PSP_L: flux h2o_c + pser_L_c --> pi_c + ser_L_c\n",
      "SERD_L: flux (0.0, 0.80668)\n",
      "SERD_L: flux ser_L_c --> nh4_c + pyr_c\n",
      "PSERtex: flux (0.0, 0.0)\n",
      "PSERtex: flux pser_L_e --> pser_L_c\n",
      "SERabcpp: flux (0.0, 46.4365739999979)\n",
      "SERabcpp: flux atp_c + h2o_c + ser_L_e --> adp_c + h_c + pi_c + ser_L_c\n",
      "SERt3pp: flux (4.26435750022928e-26, 46.4365739999994)\n",
      "SERt3pp: flux h_e + ser_L_c --> h_c + ser_L_e\n",
      "SERTRS: flux (0.0, 0.0)\n",
      "SERTRS: flux atp_c + ser_L_c + trnaser_c --> amp_c + ppi_c + sertrna_c\n",
      "SERTRS2: flux (0.0, 0.0)\n",
      "SERTRS2: flux atp_c + ser_L_c + trnasecys_c --> amp_c + ppi_c + sertrna_c\n",
      "TRPS1: flux (0.0, 0.22043)\n",
      "TRPS1: flux 3ig3p_c + ser_L_c --> g3p_c + h2o_c + trp_L_c\n",
      "TRPS2: flux (0.0, 0.22043)\n",
      "TRPS2: flux indole_c + ser_L_c --> h2o_c + trp_L_c\n",
      "PROTEIN: flux (0.0, 0.23174211785824)\n",
      "PROTEIN: flux 1.3527 ala_L_c + 0.38519 arg_L_c + 0.39281 asn_L_c + 0.39281 asp_L_c + 40.0656 atp_c + 0.089437 cys_L_c + 0.69314 gln_L_c + 1.1139 glu_L_c + 0.71651 gly_c + 30.7601 h2o_c + 0.13619 his_L_c + 0.38316 ile_L_c + 0.71347 leu_L_c + 0.37909 lys_L_c + 0.15347 met_L_c + 0.26018 phe_L_c + 0.32319 pro_L_c + 0.498 ser_L_c + 0.5539 thr_L_c + 0.055899 trp_L_c + 0.15753 tyr_L_c + 0.55492 vaL_L_c --> 40.0656 adp_c + 40.0656 h_c + 40.0656 pi_c + protein_c\n"
     ]
    }
   ],
   "source": [
    "with model: #i think this is the problem\n",
    "    model.objective = target\n",
    "    print(\"Max. psi production [mmol gDW^-1 h^-1]:\",model.optimize().objective_value)\n",
    "    for x in model.reactions.query('ser_L_c','reaction'):\n",
    "        print(\"%s: flux %s\" % (x.id, x.bounds))\n",
    "        print(\"%s: flux %s\" % (x.id, x.reaction))"
   ]
  },
  {
   "cell_type": "code",
   "execution_count": 11,
   "id": "391620bb",
   "metadata": {
    "scrolled": false
   },
   "outputs": [
    {
     "data": {
      "text/html": [
       "\n",
       "        <table>\n",
       "            <tr>\n",
       "                <td><strong>Reaction identifier</strong></td><td>PSERT</td>\n",
       "            </tr><tr>\n",
       "                <td><strong>Name</strong></td><td>phosphoserine transaminase</td>\n",
       "            </tr><tr>\n",
       "                <td><strong>Memory address</strong></td>\n",
       "                <td>0x01c703441860</td>\n",
       "            </tr><tr>\n",
       "                <td><strong>Stoichiometry</strong></td>\n",
       "                <td>\n",
       "                    <p style='text-align:right'>3php_c + glu_L_c --> akg_c + pser_L_c</p>\n",
       "                    <p style='text-align:right'>3-Phosphohydroxypyruvate + L_Glutamate --> 2-Oxoglutarate + O-Phospho_L_serine</p>\n",
       "                </td>\n",
       "            </tr><tr>\n",
       "                <td><strong>GPR</strong></td><td>cg0948</td>\n",
       "            </tr><tr>\n",
       "                <td><strong>Lower bound</strong></td><td>0.38927</td>\n",
       "            </tr><tr>\n",
       "                <td><strong>Upper bound</strong></td><td>0.80668</td>\n",
       "            </tr>\n",
       "        </table>\n",
       "        "
      ],
      "text/plain": [
       "<Reaction PSERT at 0x1c703441860>"
      ]
     },
     "execution_count": 11,
     "metadata": {},
     "output_type": "execute_result"
    }
   ],
   "source": [
    "with model: #input 1 of 2\n",
    "    model.objective = target\n",
    "    print(\"Max. psi production [mmol gDW^-1 h^-1]:\",model.optimize().objective_value)\n",
    "    print(model.reactions.)"
   ]
  },
  {
   "cell_type": "code",
   "execution_count": 13,
   "id": "40f5c69c",
   "metadata": {
    "scrolled": true
   },
   "outputs": [
    {
     "data": {
      "text/html": [
       "\n",
       "        <table>\n",
       "            <tr>\n",
       "                <td><strong>Reaction identifier</strong></td><td>PSP_L</td>\n",
       "            </tr><tr>\n",
       "                <td><strong>Name</strong></td><td>phosphoserine phosphatase (L_serine)</td>\n",
       "            </tr><tr>\n",
       "                <td><strong>Memory address</strong></td>\n",
       "                <td>0x01c703441ac8</td>\n",
       "            </tr><tr>\n",
       "                <td><strong>Stoichiometry</strong></td>\n",
       "                <td>\n",
       "                    <p style='text-align:right'>h2o_c + pser_L_c --> pi_c + ser_L_c</p>\n",
       "                    <p style='text-align:right'>H2O + O-Phospho_L_serine --> Phosphate + L_Serine</p>\n",
       "                </td>\n",
       "            </tr><tr>\n",
       "                <td><strong>GPR</strong></td><td>cg2779</td>\n",
       "            </tr><tr>\n",
       "                <td><strong>Lower bound</strong></td><td>0.38927</td>\n",
       "            </tr><tr>\n",
       "                <td><strong>Upper bound</strong></td><td>0.80668</td>\n",
       "            </tr>\n",
       "        </table>\n",
       "        "
      ],
      "text/plain": [
       "<Reaction PSP_L at 0x1c703441ac8>"
      ]
     },
     "execution_count": 13,
     "metadata": {},
     "output_type": "execute_result"
    }
   ],
   "source": [
    "model.reactions.PSP_L"
   ]
  },
  {
   "cell_type": "code",
   "execution_count": 8,
   "id": "aa5fb510",
   "metadata": {},
   "outputs": [
    {
     "name": "stdout",
     "output_type": "stream",
     "text": [
      "Max. psi production [mmol gDW^-1 h^-1]: 5.69299883708285e-05\n",
      "DRPA : 0.0\n",
      "DXPS : 0.0\n",
      "PY5PSH : 0.0\n",
      "AGPAT120 : 0.0\n",
      "AGPAT140 : 0.0\n",
      "AGPAT141 : 0.0\n",
      "AGPAT160 : 0.0\n",
      "AGPAT161 : 0.0\n",
      "AGPAT180 : 0.0\n",
      "AGPAT181 : 0.0\n",
      "G3PAT120 : 0.0\n",
      "G3PAT140 : 0.0\n",
      "G3PAT141 : 0.0\n",
      "G3PAT160 : 0.0\n",
      "G3PAT161 : 0.0\n",
      "G3PAT180 : 0.0\n",
      "G3PAT181 : 0.0\n",
      "LPLIPAL1A180pp : 0.0\n",
      "FBA : 3.39087\n",
      "GAPD : 7.20853\n",
      "TPI : 3.1829846199922467\n",
      "IG3PS : 0.0\n",
      "IGPDH : 0.0\n",
      "TALA : 0.6346753800077529\n",
      "TKT1 : 0.6346753800077529\n",
      "TKT2 : 0.54404\n",
      "IGPS : 0.09063538000775301\n",
      "TRPS1 : 5.69299883708285e-05\n",
      "TRPS3 : 0.09057845001938218\n",
      "INPSHE : 0.0\n"
     ]
    }
   ],
   "source": [
    "with model: #model output 1\n",
    "    model.objective = target\n",
    "    print(\"Max. psi production [mmol gDW^-1 h^-1]:\",model.optimize().objective_value)\n",
    "    for x in model.reactions.query('g3p_c','reaction'):\n",
    "        print(\"%s : %s\" % (x.id, x.flux))    "
   ]
  },
  {
   "cell_type": "code",
   "execution_count": 9,
   "id": "92feee7d",
   "metadata": {},
   "outputs": [
    {
     "name": "stdout",
     "output_type": "stream",
     "text": [
      "indole-3-glyceroL_phosphate synthase (0.0, 0.22043) 2cpr5p_c + h_c --> 3ig3p_c + co2_c + h2o_c\n",
      "tryptophan synthase (indoleglycerol phosphate) (0.0, 0.22043) 3ig3p_c + ser_L_c --> g3p_c + h2o_c + trp_L_c\n",
      "tryptophan synthase (indoleglycerol phosphate) (0.0, 0.22043) 3ig3p_c --> g3p_c + indole_c\n"
     ]
    }
   ],
   "source": [
    "print(model.reactions.IGPS.name,model.reactions.IGPS.bounds,model.reactions.IGPS.reaction)\n",
    "print(model.reactions.TRPS1.name,model.reactions.TRPS1.bounds,model.reactions.TRPS1.reaction)\n",
    "print(model.reactions.TRPS3.name,model.reactions.TRPS3.bounds,model.reactions.TRPS3.reaction)"
   ]
  },
  {
   "cell_type": "code",
   "execution_count": 10,
   "id": "b62e399f",
   "metadata": {},
   "outputs": [
    {
     "data": {
      "text/html": [
       "\n",
       "        <table>\n",
       "            <tr>\n",
       "                <td><strong>Metabolite identifier</strong></td><td>h2o_c</td>\n",
       "            </tr><tr>\n",
       "                <td><strong>Name</strong></td><td>H2O</td>\n",
       "            </tr><tr>\n",
       "                <td><strong>Memory address</strong></td>\n",
       "                <td>0x01c702f04cc0</td>\n",
       "            </tr><tr>\n",
       "                <td><strong>Formula</strong></td><td>H2O</td>\n",
       "            </tr><tr>\n",
       "                <td><strong>Compartment</strong></td><td>c</td>\n",
       "            </tr><tr>\n",
       "                <td><strong>In 311 reaction(s)</strong></td><td>\n",
       "                    CYTBD2pp, PPC, CTPS2, 3NTD2pp, UACGAMPpp, CPMPS, 3NTD4pp, RNDR4b, NTP3, TDPGDH, BETALDHy, PY5PSH, 3NTD7pp, AMPMS2, UDPGPpp, IGPDH, NADDP, RNTR2c, ILEabcpp, GTHRDabcpp, GTHRDabc2pp, 3NTD9pp, UPP3S,...</td>\n",
       "            </tr>\n",
       "        </table>"
      ],
      "text/plain": [
       "<Metabolite h2o_c at 0x1c702f04cc0>"
      ]
     },
     "execution_count": 10,
     "metadata": {},
     "output_type": "execute_result"
    }
   ],
   "source": [
    "model.metabolites.get_by_id(\"h2o_c\") "
   ]
  },
  {
   "cell_type": "code",
   "execution_count": null,
   "id": "4321f0a6",
   "metadata": {},
   "outputs": [],
   "source": []
  }
 ],
 "metadata": {
  "kernelspec": {
   "display_name": "Python 3",
   "language": "python",
   "name": "python3"
  },
  "language_info": {
   "codemirror_mode": {
    "name": "ipython",
    "version": 3
   },
   "file_extension": ".py",
   "mimetype": "text/x-python",
   "name": "python",
   "nbconvert_exporter": "python",
   "pygments_lexer": "ipython3",
   "version": "3.6.13"
  }
 },
 "nbformat": 4,
 "nbformat_minor": 5
}
