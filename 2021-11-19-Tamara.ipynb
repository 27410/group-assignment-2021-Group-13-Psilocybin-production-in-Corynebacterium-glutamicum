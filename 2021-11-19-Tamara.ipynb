{
 "cells": [
  {
   "cell_type": "code",
   "execution_count": 1,
   "id": "a81a46be",
   "metadata": {},
   "outputs": [
    {
     "name": "stderr",
     "output_type": "stream",
     "text": [
      "No objective coefficients in model. Unclear what should be optimized\n"
     ]
    }
   ],
   "source": [
    "#importing the read_sbml_model function from cobra\n",
    "from cobra.io import read_sbml_model\n",
    "#make sure model name is up to date!\n",
    "model = read_sbml_model('iCW773_test7_psilocybin.xml') #assigning our model to the variable model"
   ]
  },
  {
   "cell_type": "code",
   "execution_count": 2,
   "id": "96064ca3",
   "metadata": {},
   "outputs": [
    {
     "data": {
      "text/plain": [
       "0.0"
      ]
     },
     "execution_count": 2,
     "metadata": {},
     "output_type": "execute_result"
    }
   ],
   "source": [
    "model.optimize().objective_value"
   ]
  },
  {
   "cell_type": "code",
   "execution_count": 3,
   "id": "fd89ce37",
   "metadata": {},
   "outputs": [
    {
     "data": {
      "text/plain": [
       "[<Reaction CG_biomass_cgl_ATCC13032 at 0x27d0e0de2b0>,\n",
       " <Reaction EX_biomass at 0x27d0e43e3d0>]"
      ]
     },
     "execution_count": 3,
     "metadata": {},
     "output_type": "execute_result"
    }
   ],
   "source": [
    "# no objective function is set in the published model iCW773, thus optimization eturns 0\n",
    "#setting the objective to the biomass reaction of Corynebacterium glutamicum\n",
    "#find the biomass function:\n",
    "model.reactions.query(\"biomass\", \"id\")"
   ]
  },
  {
   "cell_type": "code",
   "execution_count": 4,
   "id": "0bf80a7d",
   "metadata": {},
   "outputs": [
    {
     "data": {
      "text/plain": [
       "0.42892966213489403"
      ]
     },
     "execution_count": 4,
     "metadata": {},
     "output_type": "execute_result"
    }
   ],
   "source": [
    "#CG_biomass_cgl_ATCC13032 is the id of the biomass reaction \n",
    "#setting it as objective\n",
    "model.objective = model.reactions.CG_biomass_cgl_ATCC13032\n",
    "\n",
    "#optimze the model for biomass production: \n",
    "model.optimize().objective_value"
   ]
  },
  {
   "cell_type": "code",
   "execution_count": 5,
   "id": "227878ae",
   "metadata": {},
   "outputs": [],
   "source": [
    "# now we get a value and can start using the model."
   ]
  },
  {
   "cell_type": "code",
   "execution_count": 6,
   "id": "b2e8749a",
   "metadata": {},
   "outputs": [],
   "source": [
    "model.reactions.CG_biomass_cgl_ATCC13032.lower_bound = 0.1"
   ]
  },
  {
   "cell_type": "code",
   "execution_count": 7,
   "id": "616362f3",
   "metadata": {},
   "outputs": [],
   "source": [
    "#model.objective = model.reactions.DM_psi_c\n",
    "#(model.solve().f * 4) / (model.reactions.EX_glc_e.flux * 6)"
   ]
  },
  {
   "cell_type": "code",
   "execution_count": 8,
   "id": "103517e3",
   "metadata": {},
   "outputs": [
    {
     "data": {
      "application/javascript": [
       "\n",
       "(function(root) {\n",
       "  function now() {\n",
       "    return new Date();\n",
       "  }\n",
       "\n",
       "  var force = true;\n",
       "\n",
       "  if (typeof root._bokeh_onload_callbacks === \"undefined\" || force === true) {\n",
       "    root._bokeh_onload_callbacks = [];\n",
       "    root._bokeh_is_loading = undefined;\n",
       "  }\n",
       "\n",
       "  var JS_MIME_TYPE = 'application/javascript';\n",
       "  var HTML_MIME_TYPE = 'text/html';\n",
       "  var EXEC_MIME_TYPE = 'application/vnd.bokehjs_exec.v0+json';\n",
       "  var CLASS_NAME = 'output_bokeh rendered_html';\n",
       "\n",
       "  /**\n",
       "   * Render data to the DOM node\n",
       "   */\n",
       "  function render(props, node) {\n",
       "    var script = document.createElement(\"script\");\n",
       "    node.appendChild(script);\n",
       "  }\n",
       "\n",
       "  /**\n",
       "   * Handle when an output is cleared or removed\n",
       "   */\n",
       "  function handleClearOutput(event, handle) {\n",
       "    var cell = handle.cell;\n",
       "\n",
       "    var id = cell.output_area._bokeh_element_id;\n",
       "    var server_id = cell.output_area._bokeh_server_id;\n",
       "    // Clean up Bokeh references\n",
       "    if (id != null && id in Bokeh.index) {\n",
       "      Bokeh.index[id].model.document.clear();\n",
       "      delete Bokeh.index[id];\n",
       "    }\n",
       "\n",
       "    if (server_id !== undefined) {\n",
       "      // Clean up Bokeh references\n",
       "      var cmd = \"from bokeh.io.state import curstate; print(curstate().uuid_to_server['\" + server_id + \"'].get_sessions()[0].document.roots[0]._id)\";\n",
       "      cell.notebook.kernel.execute(cmd, {\n",
       "        iopub: {\n",
       "          output: function(msg) {\n",
       "            var id = msg.content.text.trim();\n",
       "            if (id in Bokeh.index) {\n",
       "              Bokeh.index[id].model.document.clear();\n",
       "              delete Bokeh.index[id];\n",
       "            }\n",
       "          }\n",
       "        }\n",
       "      });\n",
       "      // Destroy server and session\n",
       "      var cmd = \"import bokeh.io.notebook as ion; ion.destroy_server('\" + server_id + \"')\";\n",
       "      cell.notebook.kernel.execute(cmd);\n",
       "    }\n",
       "  }\n",
       "\n",
       "  /**\n",
       "   * Handle when a new output is added\n",
       "   */\n",
       "  function handleAddOutput(event, handle) {\n",
       "    var output_area = handle.output_area;\n",
       "    var output = handle.output;\n",
       "\n",
       "    // limit handleAddOutput to display_data with EXEC_MIME_TYPE content only\n",
       "    if ((output.output_type != \"display_data\") || (!Object.prototype.hasOwnProperty.call(output.data, EXEC_MIME_TYPE))) {\n",
       "      return\n",
       "    }\n",
       "\n",
       "    var toinsert = output_area.element.find(\".\" + CLASS_NAME.split(' ')[0]);\n",
       "\n",
       "    if (output.metadata[EXEC_MIME_TYPE][\"id\"] !== undefined) {\n",
       "      toinsert[toinsert.length - 1].firstChild.textContent = output.data[JS_MIME_TYPE];\n",
       "      // store reference to embed id on output_area\n",
       "      output_area._bokeh_element_id = output.metadata[EXEC_MIME_TYPE][\"id\"];\n",
       "    }\n",
       "    if (output.metadata[EXEC_MIME_TYPE][\"server_id\"] !== undefined) {\n",
       "      var bk_div = document.createElement(\"div\");\n",
       "      bk_div.innerHTML = output.data[HTML_MIME_TYPE];\n",
       "      var script_attrs = bk_div.children[0].attributes;\n",
       "      for (var i = 0; i < script_attrs.length; i++) {\n",
       "        toinsert[toinsert.length - 1].firstChild.setAttribute(script_attrs[i].name, script_attrs[i].value);\n",
       "        toinsert[toinsert.length - 1].firstChild.textContent = bk_div.children[0].textContent\n",
       "      }\n",
       "      // store reference to server id on output_area\n",
       "      output_area._bokeh_server_id = output.metadata[EXEC_MIME_TYPE][\"server_id\"];\n",
       "    }\n",
       "  }\n",
       "\n",
       "  function register_renderer(events, OutputArea) {\n",
       "\n",
       "    function append_mime(data, metadata, element) {\n",
       "      // create a DOM node to render to\n",
       "      var toinsert = this.create_output_subarea(\n",
       "        metadata,\n",
       "        CLASS_NAME,\n",
       "        EXEC_MIME_TYPE\n",
       "      );\n",
       "      this.keyboard_manager.register_events(toinsert);\n",
       "      // Render to node\n",
       "      var props = {data: data, metadata: metadata[EXEC_MIME_TYPE]};\n",
       "      render(props, toinsert[toinsert.length - 1]);\n",
       "      element.append(toinsert);\n",
       "      return toinsert\n",
       "    }\n",
       "\n",
       "    /* Handle when an output is cleared or removed */\n",
       "    events.on('clear_output.CodeCell', handleClearOutput);\n",
       "    events.on('delete.Cell', handleClearOutput);\n",
       "\n",
       "    /* Handle when a new output is added */\n",
       "    events.on('output_added.OutputArea', handleAddOutput);\n",
       "\n",
       "    /**\n",
       "     * Register the mime type and append_mime function with output_area\n",
       "     */\n",
       "    OutputArea.prototype.register_mime_type(EXEC_MIME_TYPE, append_mime, {\n",
       "      /* Is output safe? */\n",
       "      safe: true,\n",
       "      /* Index of renderer in `output_area.display_order` */\n",
       "      index: 0\n",
       "    });\n",
       "  }\n",
       "\n",
       "  // register the mime type if in Jupyter Notebook environment and previously unregistered\n",
       "  if (root.Jupyter !== undefined) {\n",
       "    var events = require('base/js/events');\n",
       "    var OutputArea = require('notebook/js/outputarea').OutputArea;\n",
       "\n",
       "    if (OutputArea.prototype.mime_types().indexOf(EXEC_MIME_TYPE) == -1) {\n",
       "      register_renderer(events, OutputArea);\n",
       "    }\n",
       "  }\n",
       "\n",
       "  \n",
       "  if (typeof (root._bokeh_timeout) === \"undefined\" || force === true) {\n",
       "    root._bokeh_timeout = Date.now() + 5000;\n",
       "    root._bokeh_failed_load = false;\n",
       "  }\n",
       "\n",
       "  var NB_LOAD_WARNING = {'data': {'text/html':\n",
       "     \"<div style='background-color: #fdd'>\\n\"+\n",
       "     \"<p>\\n\"+\n",
       "     \"BokehJS does not appear to have successfully loaded. If loading BokehJS from CDN, this \\n\"+\n",
       "     \"may be due to a slow or bad network connection. Possible fixes:\\n\"+\n",
       "     \"</p>\\n\"+\n",
       "     \"<ul>\\n\"+\n",
       "     \"<li>re-rerun `output_notebook()` to attempt to load from CDN again, or</li>\\n\"+\n",
       "     \"<li>use INLINE resources instead, as so:</li>\\n\"+\n",
       "     \"</ul>\\n\"+\n",
       "     \"<code>\\n\"+\n",
       "     \"from bokeh.resources import INLINE\\n\"+\n",
       "     \"output_notebook(resources=INLINE)\\n\"+\n",
       "     \"</code>\\n\"+\n",
       "     \"</div>\"}};\n",
       "\n",
       "  function display_loaded() {\n",
       "    var el = document.getElementById(null);\n",
       "    if (el != null) {\n",
       "      el.textContent = \"BokehJS is loading...\";\n",
       "    }\n",
       "    if (root.Bokeh !== undefined) {\n",
       "      if (el != null) {\n",
       "        el.textContent = \"BokehJS \" + root.Bokeh.version + \" successfully loaded.\";\n",
       "      }\n",
       "    } else if (Date.now() < root._bokeh_timeout) {\n",
       "      setTimeout(display_loaded, 100)\n",
       "    }\n",
       "  }\n",
       "\n",
       "\n",
       "  function run_callbacks() {\n",
       "    try {\n",
       "      root._bokeh_onload_callbacks.forEach(function(callback) {\n",
       "        if (callback != null)\n",
       "          callback();\n",
       "      });\n",
       "    } finally {\n",
       "      delete root._bokeh_onload_callbacks\n",
       "    }\n",
       "    console.debug(\"Bokeh: all callbacks have finished\");\n",
       "  }\n",
       "\n",
       "  function load_libs(css_urls, js_urls, callback) {\n",
       "    if (css_urls == null) css_urls = [];\n",
       "    if (js_urls == null) js_urls = [];\n",
       "\n",
       "    root._bokeh_onload_callbacks.push(callback);\n",
       "    if (root._bokeh_is_loading > 0) {\n",
       "      console.debug(\"Bokeh: BokehJS is being loaded, scheduling callback at\", now());\n",
       "      return null;\n",
       "    }\n",
       "    if (js_urls == null || js_urls.length === 0) {\n",
       "      run_callbacks();\n",
       "      return null;\n",
       "    }\n",
       "    console.debug(\"Bokeh: BokehJS not loaded, scheduling load and callback at\", now());\n",
       "    root._bokeh_is_loading = css_urls.length + js_urls.length;\n",
       "\n",
       "    function on_load() {\n",
       "      root._bokeh_is_loading--;\n",
       "      if (root._bokeh_is_loading === 0) {\n",
       "        console.debug(\"Bokeh: all BokehJS libraries/stylesheets loaded\");\n",
       "        run_callbacks()\n",
       "      }\n",
       "    }\n",
       "\n",
       "    function on_error(url) {\n",
       "      console.error(\"failed to load \" + url);\n",
       "    }\n",
       "\n",
       "    for (let i = 0; i < css_urls.length; i++) {\n",
       "      const url = css_urls[i];\n",
       "      const element = document.createElement(\"link\");\n",
       "      element.onload = on_load;\n",
       "      element.onerror = on_error.bind(null, url);\n",
       "      element.rel = \"stylesheet\";\n",
       "      element.type = \"text/css\";\n",
       "      element.href = url;\n",
       "      console.debug(\"Bokeh: injecting link tag for BokehJS stylesheet: \", url);\n",
       "      document.body.appendChild(element);\n",
       "    }\n",
       "\n",
       "    const hashes = {\"https://cdn.bokeh.org/bokeh/release/bokeh-2.3.3.min.js\": \"dM3QQsP+wXdHg42wTqW85BjZQdLNNIXqlPw/BgKoExPmTG7ZLML4EGqLMfqHT6ON\", \"https://cdn.bokeh.org/bokeh/release/bokeh-tables-2.3.3.min.js\": \"8x57I4YuIfu8XyZfFo0XVr2WAT8EK4rh/uDe3wF7YuW2FNUSNEpJbsPaB1nJ2fz2\", \"https://cdn.bokeh.org/bokeh/release/bokeh-widgets-2.3.3.min.js\": \"3QTqdz9LyAm2i0sG5XTePsHec3UHWwVsrOL68SYRoAXsafvfAyqtQ+h440+qIBhS\"};\n",
       "\n",
       "    for (let i = 0; i < js_urls.length; i++) {\n",
       "      const url = js_urls[i];\n",
       "      const element = document.createElement('script');\n",
       "      element.onload = on_load;\n",
       "      element.onerror = on_error.bind(null, url);\n",
       "      element.async = false;\n",
       "      element.src = url;\n",
       "      if (url in hashes) {\n",
       "        element.crossOrigin = \"anonymous\";\n",
       "        element.integrity = \"sha384-\" + hashes[url];\n",
       "      }\n",
       "      console.debug(\"Bokeh: injecting script tag for BokehJS library: \", url);\n",
       "      document.head.appendChild(element);\n",
       "    }\n",
       "  };\n",
       "\n",
       "  function inject_raw_css(css) {\n",
       "    const element = document.createElement(\"style\");\n",
       "    element.appendChild(document.createTextNode(css));\n",
       "    document.body.appendChild(element);\n",
       "  }\n",
       "\n",
       "  \n",
       "  var js_urls = [\"https://cdn.bokeh.org/bokeh/release/bokeh-2.3.3.min.js\", \"https://cdn.bokeh.org/bokeh/release/bokeh-widgets-2.3.3.min.js\", \"https://cdn.bokeh.org/bokeh/release/bokeh-tables-2.3.3.min.js\"];\n",
       "  var css_urls = [];\n",
       "  \n",
       "\n",
       "  var inline_js = [\n",
       "    function(Bokeh) {\n",
       "      Bokeh.set_log_level(\"info\");\n",
       "    },\n",
       "    function(Bokeh) {\n",
       "    \n",
       "    \n",
       "    }\n",
       "  ];\n",
       "\n",
       "  function run_inline_js() {\n",
       "    \n",
       "    if (root.Bokeh !== undefined || force === true) {\n",
       "      \n",
       "    for (var i = 0; i < inline_js.length; i++) {\n",
       "      inline_js[i].call(root, root.Bokeh);\n",
       "    }\n",
       "    } else if (Date.now() < root._bokeh_timeout) {\n",
       "      setTimeout(run_inline_js, 100);\n",
       "    } else if (!root._bokeh_failed_load) {\n",
       "      console.log(\"Bokeh: BokehJS failed to load within specified timeout.\");\n",
       "      root._bokeh_failed_load = true;\n",
       "    } else if (force !== true) {\n",
       "      var cell = $(document.getElementById(null)).parents('.cell').data().cell;\n",
       "      cell.output_area.append_execute_result(NB_LOAD_WARNING)\n",
       "    }\n",
       "\n",
       "  }\n",
       "\n",
       "  if (root._bokeh_is_loading === 0) {\n",
       "    console.debug(\"Bokeh: BokehJS loaded, going straight to plotting\");\n",
       "    run_inline_js();\n",
       "  } else {\n",
       "    load_libs(css_urls, js_urls, function() {\n",
       "      console.debug(\"Bokeh: BokehJS plotting callback run at\", now());\n",
       "      run_inline_js();\n",
       "    });\n",
       "  }\n",
       "}(window));"
      ],
      "application/vnd.bokehjs_load.v0+json": "\n(function(root) {\n  function now() {\n    return new Date();\n  }\n\n  var force = true;\n\n  if (typeof root._bokeh_onload_callbacks === \"undefined\" || force === true) {\n    root._bokeh_onload_callbacks = [];\n    root._bokeh_is_loading = undefined;\n  }\n\n  \n\n  \n  if (typeof (root._bokeh_timeout) === \"undefined\" || force === true) {\n    root._bokeh_timeout = Date.now() + 5000;\n    root._bokeh_failed_load = false;\n  }\n\n  var NB_LOAD_WARNING = {'data': {'text/html':\n     \"<div style='background-color: #fdd'>\\n\"+\n     \"<p>\\n\"+\n     \"BokehJS does not appear to have successfully loaded. If loading BokehJS from CDN, this \\n\"+\n     \"may be due to a slow or bad network connection. Possible fixes:\\n\"+\n     \"</p>\\n\"+\n     \"<ul>\\n\"+\n     \"<li>re-rerun `output_notebook()` to attempt to load from CDN again, or</li>\\n\"+\n     \"<li>use INLINE resources instead, as so:</li>\\n\"+\n     \"</ul>\\n\"+\n     \"<code>\\n\"+\n     \"from bokeh.resources import INLINE\\n\"+\n     \"output_notebook(resources=INLINE)\\n\"+\n     \"</code>\\n\"+\n     \"</div>\"}};\n\n  function display_loaded() {\n    var el = document.getElementById(null);\n    if (el != null) {\n      el.textContent = \"BokehJS is loading...\";\n    }\n    if (root.Bokeh !== undefined) {\n      if (el != null) {\n        el.textContent = \"BokehJS \" + root.Bokeh.version + \" successfully loaded.\";\n      }\n    } else if (Date.now() < root._bokeh_timeout) {\n      setTimeout(display_loaded, 100)\n    }\n  }\n\n\n  function run_callbacks() {\n    try {\n      root._bokeh_onload_callbacks.forEach(function(callback) {\n        if (callback != null)\n          callback();\n      });\n    } finally {\n      delete root._bokeh_onload_callbacks\n    }\n    console.debug(\"Bokeh: all callbacks have finished\");\n  }\n\n  function load_libs(css_urls, js_urls, callback) {\n    if (css_urls == null) css_urls = [];\n    if (js_urls == null) js_urls = [];\n\n    root._bokeh_onload_callbacks.push(callback);\n    if (root._bokeh_is_loading > 0) {\n      console.debug(\"Bokeh: BokehJS is being loaded, scheduling callback at\", now());\n      return null;\n    }\n    if (js_urls == null || js_urls.length === 0) {\n      run_callbacks();\n      return null;\n    }\n    console.debug(\"Bokeh: BokehJS not loaded, scheduling load and callback at\", now());\n    root._bokeh_is_loading = css_urls.length + js_urls.length;\n\n    function on_load() {\n      root._bokeh_is_loading--;\n      if (root._bokeh_is_loading === 0) {\n        console.debug(\"Bokeh: all BokehJS libraries/stylesheets loaded\");\n        run_callbacks()\n      }\n    }\n\n    function on_error(url) {\n      console.error(\"failed to load \" + url);\n    }\n\n    for (let i = 0; i < css_urls.length; i++) {\n      const url = css_urls[i];\n      const element = document.createElement(\"link\");\n      element.onload = on_load;\n      element.onerror = on_error.bind(null, url);\n      element.rel = \"stylesheet\";\n      element.type = \"text/css\";\n      element.href = url;\n      console.debug(\"Bokeh: injecting link tag for BokehJS stylesheet: \", url);\n      document.body.appendChild(element);\n    }\n\n    const hashes = {\"https://cdn.bokeh.org/bokeh/release/bokeh-2.3.3.min.js\": \"dM3QQsP+wXdHg42wTqW85BjZQdLNNIXqlPw/BgKoExPmTG7ZLML4EGqLMfqHT6ON\", \"https://cdn.bokeh.org/bokeh/release/bokeh-tables-2.3.3.min.js\": \"8x57I4YuIfu8XyZfFo0XVr2WAT8EK4rh/uDe3wF7YuW2FNUSNEpJbsPaB1nJ2fz2\", \"https://cdn.bokeh.org/bokeh/release/bokeh-widgets-2.3.3.min.js\": \"3QTqdz9LyAm2i0sG5XTePsHec3UHWwVsrOL68SYRoAXsafvfAyqtQ+h440+qIBhS\"};\n\n    for (let i = 0; i < js_urls.length; i++) {\n      const url = js_urls[i];\n      const element = document.createElement('script');\n      element.onload = on_load;\n      element.onerror = on_error.bind(null, url);\n      element.async = false;\n      element.src = url;\n      if (url in hashes) {\n        element.crossOrigin = \"anonymous\";\n        element.integrity = \"sha384-\" + hashes[url];\n      }\n      console.debug(\"Bokeh: injecting script tag for BokehJS library: \", url);\n      document.head.appendChild(element);\n    }\n  };\n\n  function inject_raw_css(css) {\n    const element = document.createElement(\"style\");\n    element.appendChild(document.createTextNode(css));\n    document.body.appendChild(element);\n  }\n\n  \n  var js_urls = [\"https://cdn.bokeh.org/bokeh/release/bokeh-2.3.3.min.js\", \"https://cdn.bokeh.org/bokeh/release/bokeh-widgets-2.3.3.min.js\", \"https://cdn.bokeh.org/bokeh/release/bokeh-tables-2.3.3.min.js\"];\n  var css_urls = [];\n  \n\n  var inline_js = [\n    function(Bokeh) {\n      Bokeh.set_log_level(\"info\");\n    },\n    function(Bokeh) {\n    \n    \n    }\n  ];\n\n  function run_inline_js() {\n    \n    if (root.Bokeh !== undefined || force === true) {\n      \n    for (var i = 0; i < inline_js.length; i++) {\n      inline_js[i].call(root, root.Bokeh);\n    }\n    } else if (Date.now() < root._bokeh_timeout) {\n      setTimeout(run_inline_js, 100);\n    } else if (!root._bokeh_failed_load) {\n      console.log(\"Bokeh: BokehJS failed to load within specified timeout.\");\n      root._bokeh_failed_load = true;\n    } else if (force !== true) {\n      var cell = $(document.getElementById(null)).parents('.cell').data().cell;\n      cell.output_area.append_execute_result(NB_LOAD_WARNING)\n    }\n\n  }\n\n  if (root._bokeh_is_loading === 0) {\n    console.debug(\"Bokeh: BokehJS loaded, going straight to plotting\");\n    run_inline_js();\n  } else {\n    load_libs(css_urls, js_urls, function() {\n      console.debug(\"Bokeh: BokehJS plotting callback run at\", now());\n      run_inline_js();\n    });\n  }\n}(window));"
     },
     "metadata": {},
     "output_type": "display_data"
    }
   ],
   "source": [
    "from cameo import models"
   ]
  },
  {
   "cell_type": "code",
   "execution_count": 9,
   "id": "6df503ee",
   "metadata": {},
   "outputs": [],
   "source": [
    "#testing something from https://github.com/biosustain/cameo-notebooks/blob/master/01-quick-start.ipynb"
   ]
  },
  {
   "cell_type": "code",
   "execution_count": 10,
   "id": "9600ccaf",
   "metadata": {},
   "outputs": [],
   "source": [
    "from cameo import load_model"
   ]
  },
  {
   "cell_type": "code",
   "execution_count": 11,
   "id": "c2f2bfbc",
   "metadata": {},
   "outputs": [
    {
     "name": "stderr",
     "output_type": "stream",
     "text": [
      "No objective coefficients in model. Unclear what should be optimized\n"
     ]
    }
   ],
   "source": [
    "model = load_model(\"iCW773_test7_psilocybin.xml\")"
   ]
  },
  {
   "cell_type": "code",
   "execution_count": 12,
   "id": "029ce35d",
   "metadata": {},
   "outputs": [],
   "source": [
    "model.objective = model.reactions.CG_biomass_cgl_ATCC13032"
   ]
  },
  {
   "cell_type": "code",
   "execution_count": 13,
   "id": "ceb5a73c",
   "metadata": {},
   "outputs": [
    {
     "data": {
      "text/html": [
       "\n",
       "        <table>\n",
       "            <tr>\n",
       "                <td><strong>Name</strong></td>\n",
       "                <td>iCW773</td>\n",
       "            </tr><tr>\n",
       "                <td><strong>Memory address</strong></td>\n",
       "                <td>0x027d105bf4f0</td>\n",
       "            </tr><tr>\n",
       "                <td><strong>Number of metabolites</strong></td>\n",
       "                <td>955</td>\n",
       "            </tr><tr>\n",
       "                <td><strong>Number of reactions</strong></td>\n",
       "                <td>1221</td>\n",
       "            </tr><tr>\n",
       "                <td><strong>Number of groups</strong></td>\n",
       "                <td>0</td>\n",
       "            </tr><tr>\n",
       "                <td><strong>Objective expression</strong></td>\n",
       "                <td>1.0*CG_biomass_cgl_ATCC13032 - 1.0*CG_biomass_cgl_ATCC13032_reverse_81110</td>\n",
       "            </tr><tr>\n",
       "                <td><strong>Compartments</strong></td>\n",
       "                <td>c, e</td>\n",
       "            </tr>\n",
       "          </table>"
      ],
      "text/plain": [
       "<Model iCW773 at 0x27d105bf4f0>"
      ]
     },
     "execution_count": 13,
     "metadata": {},
     "output_type": "execute_result"
    }
   ],
   "source": [
    "model"
   ]
  },
  {
   "cell_type": "code",
   "execution_count": 14,
   "id": "d57716ae",
   "metadata": {},
   "outputs": [],
   "source": [
    "solution = model.optimize()"
   ]
  },
  {
   "cell_type": "code",
   "execution_count": 15,
   "id": "dd14badc",
   "metadata": {},
   "outputs": [
    {
     "data": {
      "text/html": [
       "<strong><em>Optimal</em> solution with objective value 0.429</strong><br><div>\n",
       "<style scoped>\n",
       "    .dataframe tbody tr th:only-of-type {\n",
       "        vertical-align: middle;\n",
       "    }\n",
       "\n",
       "    .dataframe tbody tr th {\n",
       "        vertical-align: top;\n",
       "    }\n",
       "\n",
       "    .dataframe thead th {\n",
       "        text-align: right;\n",
       "    }\n",
       "</style>\n",
       "<table border=\"1\" class=\"dataframe\">\n",
       "  <thead>\n",
       "    <tr style=\"text-align: right;\">\n",
       "      <th></th>\n",
       "      <th>fluxes</th>\n",
       "      <th>reduced_costs</th>\n",
       "    </tr>\n",
       "  </thead>\n",
       "  <tbody>\n",
       "    <tr>\n",
       "      <th>ALAR</th>\n",
       "      <td>0.075971</td>\n",
       "      <td>0.000000e+00</td>\n",
       "    </tr>\n",
       "    <tr>\n",
       "      <th>ALATA_L</th>\n",
       "      <td>0.389078</td>\n",
       "      <td>0.000000e+00</td>\n",
       "    </tr>\n",
       "    <tr>\n",
       "      <th>ASNN</th>\n",
       "      <td>0.000000</td>\n",
       "      <td>-7.588265e-17</td>\n",
       "    </tr>\n",
       "    <tr>\n",
       "      <th>ASNS1</th>\n",
       "      <td>0.000000</td>\n",
       "      <td>-5.887306e-17</td>\n",
       "    </tr>\n",
       "    <tr>\n",
       "      <th>ASNS2</th>\n",
       "      <td>0.091031</td>\n",
       "      <td>-1.972152e-31</td>\n",
       "    </tr>\n",
       "    <tr>\n",
       "      <th>...</th>\n",
       "      <td>...</td>\n",
       "      <td>...</td>\n",
       "    </tr>\n",
       "    <tr>\n",
       "      <th>DM_nbc_c</th>\n",
       "      <td>0.000000</td>\n",
       "      <td>-4.464873e-15</td>\n",
       "    </tr>\n",
       "    <tr>\n",
       "      <th>DM_psi_c</th>\n",
       "      <td>0.000000</td>\n",
       "      <td>-8.863463e-17</td>\n",
       "    </tr>\n",
       "    <tr>\n",
       "      <th>DM_amet_c</th>\n",
       "      <td>0.000000</td>\n",
       "      <td>-3.122296e-15</td>\n",
       "    </tr>\n",
       "    <tr>\n",
       "      <th>DM_ahcys_c</th>\n",
       "      <td>0.000000</td>\n",
       "      <td>-5.310415e-15</td>\n",
       "    </tr>\n",
       "    <tr>\n",
       "      <th>DM_psii_c</th>\n",
       "      <td>0.000000</td>\n",
       "      <td>0.000000e+00</td>\n",
       "    </tr>\n",
       "  </tbody>\n",
       "</table>\n",
       "<p>1221 rows × 2 columns</p>\n",
       "</div>"
      ],
      "text/plain": [
       "<Solution 0.429 at 0x27d10766610>"
      ]
     },
     "execution_count": 15,
     "metadata": {},
     "output_type": "execute_result"
    }
   ],
   "source": [
    "solution\n"
   ]
  },
  {
   "cell_type": "code",
   "execution_count": 16,
   "id": "621ce0d8",
   "metadata": {},
   "outputs": [
    {
     "name": "stdout",
     "output_type": "stream",
     "text": [
      "This model for Corynebacterium glutamicum has  253  essential reactions of totally  1221 reactions.\n"
     ]
    }
   ],
   "source": [
    "# how many reactions are essential?\n",
    "from cobra.flux_analysis import find_essential_reactions\n",
    "print(\"This model for Corynebacterium glutamicum has \", len(find_essential_reactions(model)), \" essential reactions of totally \", len(model.reactions), \"reactions.\") "
   ]
  },
  {
   "cell_type": "code",
   "execution_count": 17,
   "id": "09aefe9d",
   "metadata": {},
   "outputs": [
    {
     "name": "stdout",
     "output_type": "stream",
     "text": [
      "178 genes out of  773  are essential\n"
     ]
    }
   ],
   "source": [
    "#how many genes are essential?\n",
    "from cobra.flux_analysis import find_essential_genes\n",
    "print (len(find_essential_genes(model)), \"genes out of \", len(model.genes), \" are essential\")"
   ]
  },
  {
   "cell_type": "markdown",
   "id": "a7dc3c39",
   "metadata": {},
   "source": [
    "# Testing cofactor swapping again"
   ]
  },
  {
   "cell_type": "code",
   "execution_count": 18,
   "id": "aeda1c5e",
   "metadata": {},
   "outputs": [],
   "source": [
    "#model_orig = load_model(\"iCW773_test7_psilocybin.xml\")"
   ]
  },
  {
   "cell_type": "code",
   "execution_count": 19,
   "id": "579e06dc",
   "metadata": {},
   "outputs": [],
   "source": [
    "#model = model_orig.copy()\n",
    "#model.objective = model.reactions.CG_biomass_cgl_ATCC13032"
   ]
  },
  {
   "cell_type": "code",
   "execution_count": 20,
   "id": "ef020324",
   "metadata": {},
   "outputs": [],
   "source": [
    "from cameo.strain_design.heuristic.evolutionary.optimization import CofactorSwapOptimization\n",
    "from cameo.strain_design.heuristic.evolutionary.objective_functions import product_yield\n",
    "from cameo.strain_design.heuristic.evolutionary.objective_functions import biomass_product_coupled_yield\n",
    "from cameo.util import TimeMachine\n",
    "from cameo.flux_analysis.analysis import flux_variability_analysis as fva"
   ]
  },
  {
   "cell_type": "code",
   "execution_count": 21,
   "id": "1f3b882e",
   "metadata": {},
   "outputs": [],
   "source": [
    "model.reactions.CG_biomass_cgl_ATCC13032.lower_bound = 0.1"
   ]
  },
  {
   "cell_type": "code",
   "execution_count": 22,
   "id": "f1b3345a",
   "metadata": {},
   "outputs": [],
   "source": [
    "#model.objective = model.reactions.DM_psi_c\n",
    "#(model.solve().f * 4) / (model.reactions.EX_glc_e.flux * 6)"
   ]
  },
  {
   "cell_type": "code",
   "execution_count": 23,
   "id": "813b6266",
   "metadata": {},
   "outputs": [],
   "source": [
    "model.objective = model.reactions.DM_psi_c"
   ]
  },
  {
   "cell_type": "code",
   "execution_count": 24,
   "id": "07f0680d",
   "metadata": {},
   "outputs": [],
   "source": [
    "py = product_yield(model.reactions.DM_psi_c, model.reactions.EX_glc_e)\n",
    "optswap = CofactorSwapOptimization(model=model, objective_function=py, cofactor_id_swaps=(['nadp_c', 'nadph_c'], ['nad_c', 'nadh_c']))"
   ]
  },
  {
   "cell_type": "code",
   "execution_count": 25,
   "id": "4e8118fb",
   "metadata": {},
   "outputs": [
    {
     "name": "stdout",
     "output_type": "stream",
     "text": [
      "Starting optimization at Fri, 19 Nov 2021 15:16:19\n"
     ]
    },
    {
     "data": {
      "text/html": [
       "\n",
       "\n",
       "\n",
       "\n",
       "\n",
       "\n",
       "  <div class=\"bk-root\" id=\"7c899403-bd4a-4227-8bb9-41e59ae8c31d\" data-root-id=\"1002\"></div>\n"
      ]
     },
     "metadata": {},
     "output_type": "display_data"
    },
    {
     "data": {
      "application/javascript": [
       "(function(root) {\n",
       "  function embed_document(root) {\n",
       "    \n",
       "  var docs_json = {\"dbc2c7be-3a81-428b-9a6c-d81cf87a10e9\":{\"defs\":[],\"roots\":{\"references\":[{\"attributes\":{\"below\":[{\"id\":\"1013\"}],\"center\":[{\"id\":\"1016\"},{\"id\":\"1020\"}],\"height\":400,\"left\":[{\"id\":\"1017\"}],\"renderers\":[{\"id\":\"1026\"}],\"title\":{\"id\":\"1003\"},\"toolbar\":{\"id\":\"1021\"},\"width\":650,\"x_range\":{\"id\":\"1005\"},\"x_scale\":{\"id\":\"1009\"},\"y_range\":{\"id\":\"1007\"},\"y_scale\":{\"id\":\"1011\"}},\"id\":\"1002\",\"subtype\":\"Figure\",\"type\":\"Plot\"},{\"attributes\":{\"axis_label\":\"Iteration\",\"formatter\":{\"id\":\"1031\"},\"major_label_policy\":{\"id\":\"1029\"},\"ticker\":{\"id\":\"1014\"}},\"id\":\"1013\",\"type\":\"LinearAxis\"},{\"attributes\":{},\"id\":\"1007\",\"type\":\"DataRange1d\"},{\"attributes\":{},\"id\":\"1009\",\"type\":\"LinearScale\"},{\"attributes\":{},\"id\":\"1011\",\"type\":\"LinearScale\"},{\"attributes\":{},\"id\":\"1005\",\"type\":\"DataRange1d\"},{\"attributes\":{\"text\":\"Fitness plot\"},\"id\":\"1003\",\"type\":\"Title\"},{\"attributes\":{},\"id\":\"1032\",\"type\":\"AllLabels\"},{\"attributes\":{\"axis\":{\"id\":\"1013\"},\"ticker\":null},\"id\":\"1016\",\"type\":\"Grid\"},{\"attributes\":{},\"id\":\"1035\",\"type\":\"Selection\"},{\"attributes\":{},\"id\":\"1014\",\"type\":\"BasicTicker\"},{\"attributes\":{\"axis_label\":\"Fitness\",\"formatter\":{\"id\":\"1034\"},\"major_label_policy\":{\"id\":\"1032\"},\"ticker\":{\"id\":\"1018\"}},\"id\":\"1017\",\"type\":\"LinearAxis\"},{\"attributes\":{},\"id\":\"1031\",\"type\":\"BasicTickFormatter\"},{\"attributes\":{\"active_multi\":null},\"id\":\"1021\",\"type\":\"Toolbar\"},{\"attributes\":{},\"id\":\"1036\",\"type\":\"UnionRenderers\"},{\"attributes\":{\"axis\":{\"id\":\"1017\"},\"dimension\":1,\"ticker\":null},\"id\":\"1020\",\"type\":\"Grid\"},{\"attributes\":{},\"id\":\"1018\",\"type\":\"BasicTicker\"},{\"attributes\":{},\"id\":\"1034\",\"type\":\"BasicTickFormatter\"},{\"attributes\":{\"source\":{\"id\":\"1022\"}},\"id\":\"1027\",\"type\":\"CDSView\"},{\"attributes\":{\"data_source\":{\"id\":\"1022\"},\"glyph\":{\"id\":\"1024\"},\"hover_glyph\":null,\"muted_glyph\":null,\"nonselection_glyph\":{\"id\":\"1025\"},\"view\":{\"id\":\"1027\"}},\"id\":\"1026\",\"type\":\"GlyphRenderer\"},{\"attributes\":{\"data\":{\"x\":[],\"y\":[]},\"selected\":{\"id\":\"1035\"},\"selection_policy\":{\"id\":\"1036\"}},\"id\":\"1022\",\"type\":\"ColumnDataSource\"},{\"attributes\":{\"fill_color\":{\"value\":\"#1f77b4\"},\"line_color\":{\"value\":\"#1f77b4\"},\"x\":{\"field\":\"x\"},\"y\":{\"field\":\"y\"}},\"id\":\"1024\",\"type\":\"Circle\"},{\"attributes\":{\"fill_alpha\":{\"value\":0.1},\"fill_color\":{\"value\":\"#1f77b4\"},\"line_alpha\":{\"value\":0.1},\"line_color\":{\"value\":\"#1f77b4\"},\"x\":{\"field\":\"x\"},\"y\":{\"field\":\"y\"}},\"id\":\"1025\",\"type\":\"Circle\"},{\"attributes\":{},\"id\":\"1029\",\"type\":\"AllLabels\"}],\"root_ids\":[\"1002\"]},\"title\":\"Bokeh Application\",\"version\":\"2.3.3\"}};\n",
       "  var render_items = [{\"docid\":\"dbc2c7be-3a81-428b-9a6c-d81cf87a10e9\",\"notebook_comms_target\":\"1037\",\"root_ids\":[\"1002\"],\"roots\":{\"1002\":\"7c899403-bd4a-4227-8bb9-41e59ae8c31d\"}}];\n",
       "  root.Bokeh.embed.embed_items_notebook(docs_json, render_items);\n",
       "\n",
       "  }\n",
       "  if (root.Bokeh !== undefined) {\n",
       "    embed_document(root);\n",
       "  } else {\n",
       "    var attempts = 0;\n",
       "    var timer = setInterval(function(root) {\n",
       "      if (root.Bokeh !== undefined) {\n",
       "        clearInterval(timer);\n",
       "        embed_document(root);\n",
       "      } else {\n",
       "        attempts++;\n",
       "        if (attempts > 100) {\n",
       "          clearInterval(timer);\n",
       "          console.log(\"Bokeh: ERROR: Unable to run BokehJS code because BokehJS library is missing\");\n",
       "        }\n",
       "      }\n",
       "    }, 10, root)\n",
       "  }\n",
       "})(window);"
      ],
      "application/vnd.bokehjs_exec.v0+json": ""
     },
     "metadata": {
      "application/vnd.bokehjs_exec.v0+json": {
       "id": "1002"
      }
     },
     "output_type": "display_data"
    },
    {
     "name": "stderr",
     "output_type": "stream",
     "text": [
      "BokehUserWarning: ColumnDataSource's columns must be of the same length. Current lengths: ('x', 1), ('y', 0)\n"
     ]
    },
    {
     "data": {
      "application/vnd.jupyter.widget-view+json": {
       "model_id": "aff88e749a184b2e9226dbcb1fcd0758",
       "version_major": 2,
       "version_minor": 0
      },
      "text/plain": [
       "HBox()"
      ]
     },
     "metadata": {},
     "output_type": "display_data"
    },
    {
     "name": "stderr",
     "output_type": "stream",
     "text": [
      "BokehUserWarning: ColumnDataSource's columns must be of the same length. Current lengths: ('x', 2), ('y', 1)\n",
      "BokehUserWarning: ColumnDataSource's columns must be of the same length. Current lengths: ('x', 3), ('y', 2)\n",
      "BokehUserWarning: ColumnDataSource's columns must be of the same length. Current lengths: ('x', 4), ('y', 3)\n",
      "BokehUserWarning: ColumnDataSource's columns must be of the same length. Current lengths: ('x', 5), ('y', 4)\n",
      "BokehUserWarning: ColumnDataSource's columns must be of the same length. Current lengths: ('x', 6), ('y', 5)\n",
      "BokehUserWarning: ColumnDataSource's columns must be of the same length. Current lengths: ('x', 7), ('y', 6)\n",
      "BokehUserWarning: ColumnDataSource's columns must be of the same length. Current lengths: ('x', 8), ('y', 7)\n",
      "BokehUserWarning: ColumnDataSource's columns must be of the same length. Current lengths: ('x', 9), ('y', 8)\n",
      "BokehUserWarning: ColumnDataSource's columns must be of the same length. Current lengths: ('x', 10), ('y', 9)\n",
      "BokehUserWarning: ColumnDataSource's columns must be of the same length. Current lengths: ('x', 11), ('y', 10)\n",
      "BokehUserWarning: ColumnDataSource's columns must be of the same length. Current lengths: ('x', 12), ('y', 11)\n",
      "BokehUserWarning: ColumnDataSource's columns must be of the same length. Current lengths: ('x', 13), ('y', 12)\n",
      "BokehUserWarning: ColumnDataSource's columns must be of the same length. Current lengths: ('x', 14), ('y', 13)\n",
      "BokehUserWarning: ColumnDataSource's columns must be of the same length. Current lengths: ('x', 15), ('y', 14)\n",
      "BokehUserWarning: ColumnDataSource's columns must be of the same length. Current lengths: ('x', 16), ('y', 15)\n",
      "BokehUserWarning: ColumnDataSource's columns must be of the same length. Current lengths: ('x', 17), ('y', 16)\n",
      "BokehUserWarning: ColumnDataSource's columns must be of the same length. Current lengths: ('x', 18), ('y', 17)\n",
      "BokehUserWarning: ColumnDataSource's columns must be of the same length. Current lengths: ('x', 19), ('y', 18)\n",
      "BokehUserWarning: ColumnDataSource's columns must be of the same length. Current lengths: ('x', 20), ('y', 19)\n"
     ]
    },
    {
     "name": "stdout",
     "output_type": "stream",
     "text": [
      "Finished after 00:00:38\n"
     ]
    },
    {
     "name": "stderr",
     "output_type": "stream",
     "text": [
      "BokehUserWarning: ColumnDataSource's columns must be of the same length. Current lengths: ('x', 21), ('y', 20)\n"
     ]
    },
    {
     "data": {
      "text/html": [
       "\n",
       "        <h4>Result:</h4>\n",
       "        <ul>\n",
       "            <li>model: iCW773</li>\n",
       "            <li>heuristic: GA</li>\n",
       "            <li>objective function: $$yield = \\frac{DM\\_psi\\_c}{EX\\_glc\\_e}$$</li>\n",
       "            <li>simulation method: pfba</li>\n",
       "            <li>target type: cofactor-swap</li>\n",
       "        <ul>\n",
       "        <div>\n",
       "<style scoped>\n",
       "    .dataframe tbody tr th:only-of-type {\n",
       "        vertical-align: middle;\n",
       "    }\n",
       "\n",
       "    .dataframe tbody tr th {\n",
       "        vertical-align: top;\n",
       "    }\n",
       "\n",
       "    .dataframe thead th {\n",
       "        text-align: right;\n",
       "    }\n",
       "</style>\n",
       "<table border=\"1\" class=\"dataframe\">\n",
       "  <thead>\n",
       "    <tr style=\"text-align: right;\">\n",
       "      <th></th>\n",
       "      <th>index</th>\n",
       "      <th>targets</th>\n",
       "      <th>fitness</th>\n",
       "    </tr>\n",
       "  </thead>\n",
       "  <tbody>\n",
       "  </tbody>\n",
       "</table>\n",
       "</div>"
      ],
      "text/plain": [
       "<cameo.strain_design.heuristic.evolutionary.optimization.TargetOptimizationResult at 0x27d124b9dc0>"
      ]
     },
     "execution_count": 25,
     "metadata": {},
     "output_type": "execute_result"
    }
   ],
   "source": [
    "optswap.run(max_evaluations=2000, max_size=2)"
   ]
  },
  {
   "cell_type": "code",
   "execution_count": 26,
   "id": "1ab6ca9b",
   "metadata": {},
   "outputs": [],
   "source": [
    "#Cofactor-swapping seems not to be an advantage for any reaction/enzyme, when producing psilocybin."
   ]
  },
  {
   "cell_type": "code",
   "execution_count": null,
   "id": "ffc6160d",
   "metadata": {},
   "outputs": [],
   "source": []
  },
  {
   "cell_type": "code",
   "execution_count": 27,
   "id": "2cdf1ebf",
   "metadata": {},
   "outputs": [],
   "source": [
    "## WHich C-sources can be used by our C. glutamicum model? "
   ]
  },
  {
   "cell_type": "code",
   "execution_count": 28,
   "id": "78a22188",
   "metadata": {},
   "outputs": [],
   "source": [
    "from cobra.io import read_sbml_model\n",
    "from cobra import Reaction, Metabolite"
   ]
  },
  {
   "cell_type": "code",
   "execution_count": 29,
   "id": "53926fb9",
   "metadata": {},
   "outputs": [],
   "source": [
    "solution = model.optimize()\n"
   ]
  },
  {
   "cell_type": "code",
   "execution_count": 30,
   "id": "1d3c0868",
   "metadata": {},
   "outputs": [],
   "source": [
    "reaction_with_largest_flux = model.reactions[solution.fluxes.argmax()].id"
   ]
  },
  {
   "cell_type": "code",
   "execution_count": 31,
   "id": "a7265b3c",
   "metadata": {},
   "outputs": [
    {
     "data": {
      "text/plain": [
       "['EX_26dap_M_e',\n",
       " 'EX_3amp_e',\n",
       " 'EX_3cmp_e',\n",
       " 'EX_3gmp_e',\n",
       " 'EX_3ump_e',\n",
       " 'EX_4abut_e',\n",
       " 'EX_ac_e',\n",
       " 'EX_nac_e',\n",
       " 'EX_acald_e',\n",
       " 'EX_acgam_e',\n",
       " 'EX_uacgam_e',\n",
       " 'EX_acgam1p_e',\n",
       " 'EX_acmana_e',\n",
       " 'EX_acser_e',\n",
       " 'EX_ade_e',\n",
       " 'EX_adn_e',\n",
       " 'EX_akg_e',\n",
       " 'EX_alaala_e',\n",
       " 'EX_ala_B_e',\n",
       " 'EX_ala_D_e',\n",
       " 'EX_ala_L_e',\n",
       " 'EX_3amp_e',\n",
       " 'EX_amp_e',\n",
       " 'EX_damp_e',\n",
       " 'EX_arg_L_e',\n",
       " 'EX_asn_L_e',\n",
       " 'EX_asp_L_e',\n",
       " 'EX_cgly_e',\n",
       " 'EX_cit_e',\n",
       " 'EX_3cmp_e',\n",
       " 'EX_cmp_e',\n",
       " 'EX_dcmp_e',\n",
       " 'EX_co2_e',\n",
       " 'EX_cyan_e',\n",
       " 'EX_cys_L_e',\n",
       " 'EX_cytd_e',\n",
       " 'EX_daD_2_e',\n",
       " 'EX_damp_e',\n",
       " 'EX_dcmp_e',\n",
       " 'EX_dcyt_e',\n",
       " 'EX_dgmp_e',\n",
       " 'EX_dgsn_e',\n",
       " 'EX_dha_e',\n",
       " 'EX_dimp_e',\n",
       " 'EX_din_e',\n",
       " 'EX_dms_e',\n",
       " 'EX_dmso_e',\n",
       " 'EX_dtmp_e',\n",
       " 'EX_dump_e',\n",
       " 'EX_duri_e',\n",
       " 'EX_etha_e',\n",
       " 'EX_etoh_e',\n",
       " 'EX_f6p_e',\n",
       " 'EX_for_e',\n",
       " 'EX_fru_e',\n",
       " 'EX_fruur_e',\n",
       " 'EX_fum_e',\n",
       " 'EX_g1p_e',\n",
       " 'EX_g3pe_e',\n",
       " 'EX_g3pg_e',\n",
       " 'EX_g3pi_e',\n",
       " 'EX_g3ps_e',\n",
       " 'EX_g6p_e',\n",
       " 'EX_gal1p_e',\n",
       " 'EX_acgam_e',\n",
       " 'EX_gam_e',\n",
       " 'EX_uacgam_e',\n",
       " 'EX_gam6p_e',\n",
       " 'EX_glcn_e',\n",
       " 'EX_glcur_e',\n",
       " 'EX_udpglcur_e',\n",
       " 'EX_glcur1p_e',\n",
       " 'EX_gln_L_e',\n",
       " 'EX_glu_L_e',\n",
       " 'EX_cgly_e',\n",
       " 'EX_gly_e',\n",
       " 'EX_progly_e',\n",
       " 'EX_glyald_e',\n",
       " 'EX_glyc_e',\n",
       " 'EX_glyc3p_e',\n",
       " 'EX_glyc_R_e',\n",
       " 'EX_3gmp_e',\n",
       " 'EX_dgmp_e',\n",
       " 'EX_gmp_e',\n",
       " 'EX_dgsn_e',\n",
       " 'EX_gsn_e',\n",
       " 'EX_gthrd_e',\n",
       " 'EX_gua_e',\n",
       " 'EX_his_L_e',\n",
       " 'EX_hom_L_e',\n",
       " 'EX_hxan_e',\n",
       " 'EX_ile_L_e',\n",
       " 'EX_dimp_e',\n",
       " 'EX_imp_e',\n",
       " 'EX_indole_e',\n",
       " 'EX_inost_e',\n",
       " 'EX_ins_e',\n",
       " 'EX_lac_D_e',\n",
       " 'EX_lac_L_e',\n",
       " 'EX_leu_L_e',\n",
       " 'EX_lys_L_e',\n",
       " 'EX_maL_L_e',\n",
       " 'EX_malt_e',\n",
       " 'EX_man_e',\n",
       " 'EX_man6p_e',\n",
       " 'EX_met_L_e',\n",
       " 'EX_mnl_e',\n",
       " 'EX_nac_e',\n",
       " 'EX_nmn_e',\n",
       " 'EX_orn_e',\n",
       " 'EX_orot_e',\n",
       " 'EX_phe_L_e',\n",
       " 'EX_pheme_e',\n",
       " 'EX_pnto_R_e',\n",
       " 'EX_ppa_e',\n",
       " 'EX_progly_e',\n",
       " 'EX_pro_L_e',\n",
       " 'EX_pydx_e',\n",
       " 'EX_pyr_e',\n",
       " 'EX_rib_D_e',\n",
       " 'EX_sbt_D_e',\n",
       " 'EX_ser_L_e',\n",
       " 'EX_skm_e',\n",
       " 'EX_succ_e',\n",
       " 'EX_sucr_e',\n",
       " 'EX_tcynt_e',\n",
       " 'EX_thr_L_e',\n",
       " 'EX_thymd_e',\n",
       " 'EX_tma_e',\n",
       " 'EX_tmao_e',\n",
       " 'EX_tre_e',\n",
       " 'EX_trp_L_e',\n",
       " 'EX_tyr_L_e',\n",
       " 'EX_uacgam_e',\n",
       " 'EX_udpg_e',\n",
       " 'EX_udpgal_e',\n",
       " 'EX_udpglcur_e',\n",
       " 'EX_3ump_e',\n",
       " 'EX_dump_e',\n",
       " 'EX_ump_e',\n",
       " 'EX_ura_e',\n",
       " 'EX_urea_e',\n",
       " 'EX_duri_e',\n",
       " 'EX_uri_e',\n",
       " 'EX_hxan_e',\n",
       " 'EX_xan_e',\n",
       " 'EX_xmp_e',\n",
       " 'EX_xtsn_e',\n",
       " 'EX_xyL_D_e']"
      ]
     },
     "execution_count": 31,
     "metadata": {},
     "output_type": "execute_result"
    }
   ],
   "source": [
    "#creating a list (ex_metabolites) with all metabolites associated with the compartment e by searching through all metabolite \"id\" with the ending \"_e\"\n",
    "ex_metabolites = []\n",
    "for metabolite in model.metabolites.query('_e', 'id'):\n",
    "    ex_metabolites.append(metabolite.id)\n",
    "#ex_metabolites\n",
    "\n",
    "#creating a list (imported_c_source) by checking the metabolites of ex_metabolites for the presence of \"C\" --> Just the metabolites which have a \"C\" are added to imported_c_source\n",
    "imported_c_source = []\n",
    "for ex in ex_metabolites:\n",
    "    if \"C\" in model.metabolites.get_by_id(ex).elements: \n",
    "        imported_c_source.append(ex)\n",
    "#imported_c_source\n",
    "\n",
    "#all c-sources mentioned in the list imported_c_sources are used to find the respective uptake reaction. The ids of the respective reactions are saved to the list ex_reactions_c\n",
    "ex_reactions_c = []\n",
    "for imp in imported_c_source:\n",
    "    for reaction in model.reactions.query(imp, 'id'):\n",
    "        ex_reactions_c.append(reaction.id)\n",
    "ex_reactions_c"
   ]
  },
  {
   "cell_type": "code",
   "execution_count": 32,
   "id": "2ffd3895",
   "metadata": {},
   "outputs": [
    {
     "data": {
      "text/html": [
       "\n",
       "        <table>\n",
       "            <tr>\n",
       "                <td><strong>Reaction identifier</strong></td><td>EX_ile_L_e</td>\n",
       "            </tr><tr>\n",
       "                <td><strong>Name</strong></td><td>L_Isoleucine exchange</td>\n",
       "            </tr><tr>\n",
       "                <td><strong>Memory address</strong></td>\n",
       "                <td>0x027d108b8460</td>\n",
       "            </tr><tr>\n",
       "                <td><strong>Stoichiometry</strong></td>\n",
       "                <td>\n",
       "                    <p style='text-align:right'>ile_L_e --></p>\n",
       "                    <p style='text-align:right'>L_Isoleucine --></p>\n",
       "                </td>\n",
       "            </tr><tr>\n",
       "                <td><strong>GPR</strong></td><td></td>\n",
       "            </tr><tr>\n",
       "                <td><strong>Lower bound</strong></td><td>0.0</td>\n",
       "            </tr><tr>\n",
       "                <td><strong>Upper bound</strong></td><td>2.30669833333333</td>\n",
       "            </tr>\n",
       "        </table>\n",
       "        "
      ],
      "text/plain": [
       "<Reaction EX_ile_L_e at 0x27d108b8460>"
      ]
     },
     "execution_count": 32,
     "metadata": {},
     "output_type": "execute_result"
    }
   ],
   "source": [
    "# to lists also includes exported components like amino-acids\n",
    "model.reactions.EX_ile_L_e"
   ]
  },
  {
   "cell_type": "code",
   "execution_count": 33,
   "id": "48e5049c",
   "metadata": {},
   "outputs": [
    {
     "data": {
      "text/html": [
       "\n",
       "        <table>\n",
       "            <tr>\n",
       "                <td><strong>Reaction identifier</strong></td><td>EX_glc_e</td>\n",
       "            </tr><tr>\n",
       "                <td><strong>Name</strong></td><td>D_Glucose exchange</td>\n",
       "            </tr><tr>\n",
       "                <td><strong>Memory address</strong></td>\n",
       "                <td>0x027d108a8be0</td>\n",
       "            </tr><tr>\n",
       "                <td><strong>Stoichiometry</strong></td>\n",
       "                <td>\n",
       "                    <p style='text-align:right'>glc_D_e <--</p>\n",
       "                    <p style='text-align:right'>D_Glucose <--</p>\n",
       "                </td>\n",
       "            </tr><tr>\n",
       "                <td><strong>GPR</strong></td><td></td>\n",
       "            </tr><tr>\n",
       "                <td><strong>Lower bound</strong></td><td>-4.67</td>\n",
       "            </tr><tr>\n",
       "                <td><strong>Upper bound</strong></td><td>-4.09906</td>\n",
       "            </tr>\n",
       "        </table>\n",
       "        "
      ],
      "text/plain": [
       "<Reaction EX_glc_e at 0x27d108a8be0>"
      ]
     },
     "execution_count": 33,
     "metadata": {},
     "output_type": "execute_result"
    }
   ],
   "source": [
    "model.reactions.EX_glc_e"
   ]
  },
  {
   "cell_type": "code",
   "execution_count": 34,
   "id": "e1f6f152",
   "metadata": {},
   "outputs": [
    {
     "data": {
      "text/plain": [
       "['EX_26dap_M_e',\n",
       " 'EX_3amp_e',\n",
       " 'EX_3cmp_e',\n",
       " 'EX_3gmp_e',\n",
       " 'EX_3ump_e',\n",
       " 'EX_4abut_e',\n",
       " 'EX_ac_e',\n",
       " 'EX_nac_e',\n",
       " 'EX_acald_e',\n",
       " 'EX_acgam_e',\n",
       " 'EX_uacgam_e',\n",
       " 'EX_acgam1p_e',\n",
       " 'EX_acmana_e',\n",
       " 'EX_acser_e',\n",
       " 'EX_ade_e',\n",
       " 'EX_adn_e',\n",
       " 'EX_akg_e',\n",
       " 'EX_alaala_e',\n",
       " 'EX_ala_B_e',\n",
       " 'EX_ala_D_e',\n",
       " 'EX_ala_L_e',\n",
       " 'EX_3amp_e',\n",
       " 'EX_amp_e',\n",
       " 'EX_damp_e',\n",
       " 'EX_arg_L_e',\n",
       " 'EX_asn_L_e',\n",
       " 'EX_asp_L_e',\n",
       " 'EX_cgly_e',\n",
       " 'EX_cit_e',\n",
       " 'EX_3cmp_e',\n",
       " 'EX_cmp_e',\n",
       " 'EX_dcmp_e',\n",
       " 'EX_cyan_e',\n",
       " 'EX_cys_L_e',\n",
       " 'EX_cytd_e',\n",
       " 'EX_daD_2_e',\n",
       " 'EX_damp_e',\n",
       " 'EX_dcmp_e',\n",
       " 'EX_dcyt_e',\n",
       " 'EX_dgmp_e',\n",
       " 'EX_dgsn_e',\n",
       " 'EX_dha_e',\n",
       " 'EX_dimp_e',\n",
       " 'EX_din_e',\n",
       " 'EX_dms_e',\n",
       " 'EX_dmso_e',\n",
       " 'EX_dtmp_e',\n",
       " 'EX_dump_e',\n",
       " 'EX_duri_e',\n",
       " 'EX_etha_e',\n",
       " 'EX_etoh_e',\n",
       " 'EX_f6p_e',\n",
       " 'EX_for_e',\n",
       " 'EX_fru_e',\n",
       " 'EX_fruur_e',\n",
       " 'EX_fum_e',\n",
       " 'EX_g1p_e',\n",
       " 'EX_g3pe_e',\n",
       " 'EX_g3pg_e',\n",
       " 'EX_g3pi_e',\n",
       " 'EX_g3ps_e',\n",
       " 'EX_g6p_e',\n",
       " 'EX_gal1p_e',\n",
       " 'EX_acgam_e',\n",
       " 'EX_gam_e',\n",
       " 'EX_uacgam_e',\n",
       " 'EX_gam6p_e',\n",
       " 'EX_glcn_e',\n",
       " 'EX_glcur_e',\n",
       " 'EX_udpglcur_e',\n",
       " 'EX_glcur1p_e',\n",
       " 'EX_gln_L_e',\n",
       " 'EX_glu_L_e',\n",
       " 'EX_cgly_e',\n",
       " 'EX_gly_e',\n",
       " 'EX_progly_e',\n",
       " 'EX_glyald_e',\n",
       " 'EX_glyc_e',\n",
       " 'EX_glyc3p_e',\n",
       " 'EX_glyc_R_e',\n",
       " 'EX_3gmp_e',\n",
       " 'EX_dgmp_e',\n",
       " 'EX_gmp_e',\n",
       " 'EX_dgsn_e',\n",
       " 'EX_gsn_e',\n",
       " 'EX_gthrd_e',\n",
       " 'EX_gua_e',\n",
       " 'EX_his_L_e',\n",
       " 'EX_hom_L_e',\n",
       " 'EX_hxan_e',\n",
       " 'EX_ile_L_e',\n",
       " 'EX_dimp_e',\n",
       " 'EX_imp_e',\n",
       " 'EX_indole_e',\n",
       " 'EX_inost_e',\n",
       " 'EX_ins_e',\n",
       " 'EX_lac_D_e',\n",
       " 'EX_lac_L_e',\n",
       " 'EX_leu_L_e',\n",
       " 'EX_lys_L_e',\n",
       " 'EX_maL_L_e',\n",
       " 'EX_malt_e',\n",
       " 'EX_man_e',\n",
       " 'EX_man6p_e',\n",
       " 'EX_met_L_e',\n",
       " 'EX_mnl_e',\n",
       " 'EX_nac_e',\n",
       " 'EX_nmn_e',\n",
       " 'EX_orn_e',\n",
       " 'EX_orot_e',\n",
       " 'EX_phe_L_e',\n",
       " 'EX_pheme_e',\n",
       " 'EX_pnto_R_e',\n",
       " 'EX_ppa_e',\n",
       " 'EX_progly_e',\n",
       " 'EX_pro_L_e',\n",
       " 'EX_pydx_e',\n",
       " 'EX_pyr_e',\n",
       " 'EX_rib_D_e',\n",
       " 'EX_sbt_D_e',\n",
       " 'EX_ser_L_e',\n",
       " 'EX_skm_e',\n",
       " 'EX_succ_e',\n",
       " 'EX_sucr_e',\n",
       " 'EX_tcynt_e',\n",
       " 'EX_thr_L_e',\n",
       " 'EX_thymd_e',\n",
       " 'EX_tma_e',\n",
       " 'EX_tmao_e',\n",
       " 'EX_tre_e',\n",
       " 'EX_trp_L_e',\n",
       " 'EX_tyr_L_e',\n",
       " 'EX_uacgam_e',\n",
       " 'EX_udpg_e',\n",
       " 'EX_udpgal_e',\n",
       " 'EX_udpglcur_e',\n",
       " 'EX_3ump_e',\n",
       " 'EX_dump_e',\n",
       " 'EX_ump_e',\n",
       " 'EX_ura_e',\n",
       " 'EX_urea_e',\n",
       " 'EX_duri_e',\n",
       " 'EX_uri_e',\n",
       " 'EX_hxan_e',\n",
       " 'EX_xan_e',\n",
       " 'EX_xmp_e',\n",
       " 'EX_xtsn_e',\n",
       " 'EX_xyL_D_e']"
      ]
     },
     "execution_count": 34,
     "metadata": {},
     "output_type": "execute_result"
    }
   ],
   "source": [
    "c_sources = []\n",
    "for c in ex_reactions_c: \n",
    "    if model.reactions.get_by_id(c).lower_bound <= 0: \n",
    "        c_sources.append(c)\n",
    "        \n",
    "        \n",
    "c_sources"
   ]
  },
  {
   "cell_type": "code",
   "execution_count": 35,
   "id": "f51ab7ad",
   "metadata": {},
   "outputs": [],
   "source": [
    "## id we could receive the information for import or export we could distinguish between them and identify c-sources via uptake"
   ]
  },
  {
   "cell_type": "markdown",
   "id": "246a32c7",
   "metadata": {},
   "source": [
    "## Searching for alternative heterologous pathways for psilocybin production"
   ]
  },
  {
   "cell_type": "code",
   "execution_count": 36,
   "id": "c0f25871",
   "metadata": {},
   "outputs": [],
   "source": [
    "## Testing alternative pathway for psilocybin production found here: https://github.com/biosustain/cameo-notebooks/blob/master/07-predict-heterologous-pathways.ipynb"
   ]
  },
  {
   "cell_type": "code",
   "execution_count": 37,
   "id": "347d9a3b",
   "metadata": {},
   "outputs": [],
   "source": [
    "from IPython.display import display\n",
    "import re"
   ]
  },
  {
   "cell_type": "code",
   "execution_count": 38,
   "id": "6301e207",
   "metadata": {},
   "outputs": [],
   "source": [
    "from cameo import models\n",
    "from cameo.strain_design import pathway_prediction"
   ]
  },
  {
   "cell_type": "code",
   "execution_count": 39,
   "id": "b8eae465",
   "metadata": {},
   "outputs": [],
   "source": [
    "predictor = pathway_prediction.PathwayPredictor(model)"
   ]
  },
  {
   "cell_type": "code",
   "execution_count": 40,
   "id": "b9d45db3",
   "metadata": {},
   "outputs": [
    {
     "ename": "ValueError",
     "evalue": "Specified product 'psilocybin' could not be found. Try searching pathway_predictor_obj.universal_model.metabolites",
     "output_type": "error",
     "traceback": [
      "\u001b[1;31m---------------------------------------------------------------------------\u001b[0m",
      "\u001b[1;31mValueError\u001b[0m                                Traceback (most recent call last)",
      "\u001b[1;32m~\\AppData\\Local\\Temp/ipykernel_10184/171411125.py\u001b[0m in \u001b[0;36m<module>\u001b[1;34m\u001b[0m\n\u001b[1;32m----> 1\u001b[1;33m \u001b[0mpathways\u001b[0m \u001b[1;33m=\u001b[0m \u001b[0mpredictor\u001b[0m\u001b[1;33m.\u001b[0m\u001b[0mrun\u001b[0m\u001b[1;33m(\u001b[0m\u001b[0mproduct\u001b[0m\u001b[1;33m=\u001b[0m\u001b[1;34m\"psilocybin\"\u001b[0m\u001b[1;33m,\u001b[0m \u001b[0mmax_predictions\u001b[0m\u001b[1;33m=\u001b[0m\u001b[1;36m1\u001b[0m\u001b[1;33m)\u001b[0m\u001b[1;33m\u001b[0m\u001b[1;33m\u001b[0m\u001b[0m\n\u001b[0m",
      "\u001b[1;32m~\\Anaconda3\\lib\\site-packages\\cameo\\strain_design\\pathway_prediction\\pathway_predictor.py\u001b[0m in \u001b[0;36mrun\u001b[1;34m(self, product, max_predictions, min_production, timeout, callback, silent, allow_native_exchanges)\u001b[0m\n\u001b[0;32m    284\u001b[0m         \"\"\"\n\u001b[0;32m    285\u001b[0m \u001b[1;33m\u001b[0m\u001b[0m\n\u001b[1;32m--> 286\u001b[1;33m         \u001b[0mproduct\u001b[0m \u001b[1;33m=\u001b[0m \u001b[0mself\u001b[0m\u001b[1;33m.\u001b[0m\u001b[0m_find_product\u001b[0m\u001b[1;33m(\u001b[0m\u001b[0mproduct\u001b[0m\u001b[1;33m)\u001b[0m\u001b[1;33m\u001b[0m\u001b[1;33m\u001b[0m\u001b[0m\n\u001b[0m\u001b[0;32m    287\u001b[0m \u001b[1;33m\u001b[0m\u001b[0m\n\u001b[0;32m    288\u001b[0m         \u001b[0mpathways\u001b[0m \u001b[1;33m=\u001b[0m \u001b[0mlist\u001b[0m\u001b[1;33m(\u001b[0m\u001b[1;33m)\u001b[0m\u001b[1;33m\u001b[0m\u001b[1;33m\u001b[0m\u001b[0m\n",
      "\u001b[1;32m~\\Anaconda3\\lib\\site-packages\\cameo\\strain_design\\pathway_prediction\\pathway_predictor.py\u001b[0m in \u001b[0;36m_find_product\u001b[1;34m(self, product)\u001b[0m\n\u001b[0;32m    455\u001b[0m                 \u001b[1;32mif\u001b[0m \u001b[0mmetabolite\u001b[0m\u001b[1;33m.\u001b[0m\u001b[0mname\u001b[0m \u001b[1;33m==\u001b[0m \u001b[0mproduct\u001b[0m\u001b[1;33m:\u001b[0m\u001b[1;33m\u001b[0m\u001b[1;33m\u001b[0m\u001b[0m\n\u001b[0;32m    456\u001b[0m                     \u001b[1;32mreturn\u001b[0m \u001b[0mmetabolite\u001b[0m\u001b[1;33m\u001b[0m\u001b[1;33m\u001b[0m\u001b[0m\n\u001b[1;32m--> 457\u001b[1;33m             raise ValueError(\n\u001b[0m\u001b[0;32m    458\u001b[0m                 \u001b[1;34m\"Specified product '{product}' could not be found. \"\u001b[0m\u001b[1;33m\u001b[0m\u001b[1;33m\u001b[0m\u001b[0m\n\u001b[0;32m    459\u001b[0m                 \"Try searching pathway_predictor_obj.universal_model.metabolites\".format(product=product))\n",
      "\u001b[1;31mValueError\u001b[0m: Specified product 'psilocybin' could not be found. Try searching pathway_predictor_obj.universal_model.metabolites"
     ]
    }
   ],
   "source": [
    "pathways = predictor.run(product=\"psilocybin\", max_predictions=1)"
   ]
  },
  {
   "cell_type": "markdown",
   "id": "0817bcf3",
   "metadata": {},
   "source": [
    "Psilocybin could not be found within the metabolites of the universal_model. Thus we will implement the pathway starting from L-tryptophan as published by Milne et al., 2020"
   ]
  },
  {
   "cell_type": "code",
   "execution_count": null,
   "id": "efed05cf",
   "metadata": {},
   "outputs": [],
   "source": [
    "pathways = predictor.run(product=\"psilocin\", max_predictions=1)"
   ]
  },
  {
   "cell_type": "markdown",
   "id": "0cd90fc2",
   "metadata": {},
   "source": [
    "However, psilocin, was found within the universal model and could be produced by alternative pathways. This will n ot further be investigated, since this project focuses on psilocybin as product. "
   ]
  },
  {
   "cell_type": "code",
   "execution_count": 41,
   "id": "395617ca",
   "metadata": {},
   "outputs": [
    {
     "data": {
      "text/plain": [
       "4.365741867082849e-05"
      ]
     },
     "execution_count": 41,
     "metadata": {},
     "output_type": "execute_result"
    }
   ],
   "source": [
    "model.optimize().objective_value"
   ]
  },
  {
   "cell_type": "code",
   "execution_count": 42,
   "id": "802211b9",
   "metadata": {},
   "outputs": [
    {
     "name": "stdout",
     "output_type": "stream",
     "text": [
      "1.0*DM_psi_c - 1.0*DM_psi_c_reverse_8fa95\n",
      "max\n"
     ]
    }
   ],
   "source": [
    "print(model.objective.expression)\n",
    "print(model.objective.direction)\n"
   ]
  },
  {
   "cell_type": "markdown",
   "id": "cc3c86f6",
   "metadata": {},
   "source": [
    "## Testing different c-sources "
   ]
  },
  {
   "cell_type": "code",
   "execution_count": 43,
   "id": "8d6f3b55",
   "metadata": {},
   "outputs": [
    {
     "name": "stderr",
     "output_type": "stream",
     "text": [
      "No objective coefficients in model. Unclear what should be optimized\n"
     ]
    }
   ],
   "source": [
    "model = read_sbml_model('iCW773_test7_psilocybin.xml')\n",
    "model.objective = model.reactions.CG_biomass_cgl_ATCC13032\n"
   ]
  },
  {
   "cell_type": "code",
   "execution_count": 44,
   "id": "1583513d",
   "metadata": {
    "scrolled": true
   },
   "outputs": [
    {
     "data": {
      "text/plain": [
       "-4.09906"
      ]
     },
     "execution_count": 44,
     "metadata": {},
     "output_type": "execute_result"
    }
   ],
   "source": [
    "\n",
    "model.reactions.EX_glc_e.upper_bound\n"
   ]
  },
  {
   "cell_type": "code",
   "execution_count": null,
   "id": "cbec7431",
   "metadata": {},
   "outputs": [],
   "source": [
    "#Changing the boundaries within the model\n",
    "\n",
    "#model.reactions.EX_glc_e.upper_bound = 1000\n",
    "#model.reactions.EX_glc_e.lower_bound = -10\n",
    "\n",
    "#model.reactions.EX_xyL_D_e.upper_bound = 1000\n",
    "#model.reactions.EX_xyL_D_e.lower_bound = -10\n",
    "\n",
    "#model.reactions.EX_o2_e.upper_bound = 1000\n",
    "#model.reactions.EX_o2_e.lower_bound = -10"
   ]
  },
  {
   "cell_type": "code",
   "execution_count": 45,
   "id": "c7d680cd",
   "metadata": {},
   "outputs": [
    {
     "data": {
      "text/plain": [
       "{'EX_ca2_e': 0.0144877134286247,\n",
       " 'EX_cobalt2_e': 7.00338234344926e-05,\n",
       " 'EX_cu2_e': 0.00197271722237563,\n",
       " 'EX_fe2_e': 0.16239125,\n",
       " 'EX_fe3_e': 0.0217300637039616,\n",
       " 'EX_glc_e': 4.67,\n",
       " 'EX_k_e': 0.543285250115532,\n",
       " 'EX_mg2_e': 0.0241459221505149,\n",
       " 'EX_mn2_e': 0.00192443552016793,\n",
       " 'EX_nh4_e': 11.9121416666662,\n",
       " 'EX_ni2_e': 0.00089824250292982,\n",
       " 'EX_o2_e': 16.5067783333334,\n",
       " 'EX_pi_e': 0.918000000000888,\n",
       " 'EX_so4_e': 4.01673156249995,\n",
       " 'EX_zn2_e': 0.000948926279874219,\n",
       " 'EX_BIOTIN': 1.01925397503027e-06,\n",
       " 'EX_cl': 0.0144877134286247}"
      ]
     },
     "execution_count": 45,
     "metadata": {},
     "output_type": "execute_result"
    }
   ],
   "source": [
    "# What is the current medium? \n",
    "model.medium"
   ]
  },
  {
   "cell_type": "code",
   "execution_count": 46,
   "id": "3274f6c4",
   "metadata": {},
   "outputs": [
    {
     "name": "stdout",
     "output_type": "stream",
     "text": [
      "0.4289296621348931\n",
      "{'EX_ca2_e': 0.0144877134286247, 'EX_cobalt2_e': 7.00338234344926e-05, 'EX_cu2_e': 0.00197271722237563, 'EX_fe2_e': 0.16239125, 'EX_fe3_e': 0.0217300637039616, 'EX_glc_e': 100, 'EX_k_e': 0.543285250115532, 'EX_mg2_e': 0.0241459221505149, 'EX_mn2_e': 0.00192443552016793, 'EX_nh4_e': 11.9121416666662, 'EX_ni2_e': 0.00089824250292982, 'EX_o2_e': 100, 'EX_pi_e': 0.918000000000888, 'EX_so4_e': 4.01673156249995, 'EX_zn2_e': 0.000948926279874219, 'EX_BIOTIN': 1.01925397503027e-06, 'EX_cl': 0.0144877134286247}\n"
     ]
    }
   ],
   "source": [
    "medium = model.medium\n",
    "with model:\n",
    "    medium['EX_glc_e'] = 100\n",
    "    medium['EX_o2_e'] = 100\n",
    "    model.medium = medium\n",
    "    solution = model.optimize()\n",
    "    print(solution.fluxes['CG_biomass_cgl_ATCC13032'])\n",
    "    print(medium)"
   ]
  },
  {
   "cell_type": "code",
   "execution_count": 47,
   "id": "07864f92",
   "metadata": {},
   "outputs": [
    {
     "name": "stdout",
     "output_type": "stream",
     "text": [
      "0.4289296621348931\n",
      "{'EX_ca2_e': 0.0144877134286247, 'EX_cobalt2_e': 7.00338234344926e-05, 'EX_cu2_e': 0.00197271722237563, 'EX_fe2_e': 0.16239125, 'EX_fe3_e': 0.0217300637039616, 'EX_glc_e': 100, 'EX_k_e': 0.543285250115532, 'EX_mg2_e': 0.0241459221505149, 'EX_mn2_e': 0.00192443552016793, 'EX_nh4_e': 11.9121416666662, 'EX_ni2_e': 0.00089824250292982, 'EX_o2_e': 100, 'EX_pi_e': 0.918000000000888, 'EX_so4_e': 4.01673156249995, 'EX_zn2_e': 0.000948926279874219, 'EX_BIOTIN': 1.01925397503027e-06, 'EX_cl': 0.0144877134286247}\n"
     ]
    }
   ],
   "source": [
    "medium = model.medium\n",
    "with model:\n",
    "    medium['EX_glc_e'] = 100\n",
    "    medium['EX_o2_e'] = 100\n",
    "    model.medium = medium\n",
    "    solution = model.optimize()\n",
    "    print(solution.fluxes['CG_biomass_cgl_ATCC13032'])\n",
    "    print(medium)"
   ]
  },
  {
   "cell_type": "code",
   "execution_count": 49,
   "id": "39565eec",
   "metadata": {},
   "outputs": [
    {
     "name": "stdout",
     "output_type": "stream",
     "text": [
      "5.692998837082868e-05\n",
      "{'EX_ca2_e': 0.0144877134286247, 'EX_cobalt2_e': 7.00338234344926e-05, 'EX_cu2_e': 0.00197271722237563, 'EX_fe2_e': 0.16239125, 'EX_fe3_e': 0.0217300637039616, 'EX_glc_e': 100, 'EX_k_e': 0.543285250115532, 'EX_mg2_e': 0.0241459221505149, 'EX_mn2_e': 0.00192443552016793, 'EX_nh4_e': 11.9121416666662, 'EX_ni2_e': 0.00089824250292982, 'EX_o2_e': 100, 'EX_pi_e': 0.918000000000888, 'EX_so4_e': 4.01673156249995, 'EX_zn2_e': 0.000948926279874219, 'EX_BIOTIN': 1.01925397503027e-06, 'EX_cl': 0.0144877134286247}\n"
     ]
    }
   ],
   "source": [
    "medium = model.medium\n",
    "model.objective = model.reactions.DM_psi_c\n",
    "with model:\n",
    "    medium['EX_glc_e'] = 100\n",
    "    medium['EX_o2_e'] = 100\n",
    "    model.medium = medium\n",
    "    solution = model.optimize()\n",
    "    print(solution.fluxes['DM_psi_c'])\n",
    "    print(medium)"
   ]
  },
  {
   "cell_type": "code",
   "execution_count": 69,
   "id": "5257951b",
   "metadata": {},
   "outputs": [
    {
     "name": "stdout",
     "output_type": "stream",
     "text": [
      "0.0\n",
      "{'EX_ca2_e': 0.0144877134286247, 'EX_cobalt2_e': 7.00338234344926e-05, 'EX_cu2_e': 0.00197271722237563, 'EX_fe2_e': 0.16239125, 'EX_fe3_e': 0.0217300637039616, 'EX_glc_e': 100, 'EX_k_e': 0.543285250115532, 'EX_mg2_e': 0.0241459221505149, 'EX_mn2_e': 0.00192443552016793, 'EX_nh4_e': 11.9121416666662, 'EX_ni2_e': 0.00089824250292982, 'EX_o2_e': 1.44076799999993, 'EX_pi_e': 0.918000000000888, 'EX_so4_e': 4.01673156249995, 'EX_zn2_e': 0.000948926279874219, 'EX_BIOTIN': 1.01925397503027e-06, 'EX_cl': 0.0144877134286247}\n"
     ]
    }
   ],
   "source": [
    "medium = model.medium\n",
    "model.objective = model.reactions.DM_psi_c\n",
    "with model:\n",
    "    medium['EX_glc_e'] = 100\n",
    "    medium['EX_o2_e'] = 1.44076799999993\n",
    "    model.medium = medium\n",
    "    solution = model.optimize()\n",
    "    print(solution.fluxes['DM_psi_c'])\n",
    "    print(medium)"
   ]
  },
  {
   "cell_type": "code",
   "execution_count": 56,
   "id": "887e71b1",
   "metadata": {},
   "outputs": [
    {
     "data": {
      "text/plain": [
       "[<Metabolite 2dmmq8_c at 0x27d1a801af0>,\n",
       " <Metabolite 2dmmql8_c at 0x27d124c3070>,\n",
       " <Metabolite 2mahmp_c at 0x27d125dd460>,\n",
       " <Metabolite 4ampm_c at 0x27d12052bb0>,\n",
       " <Metabolite 5prdmbz_c at 0x27d10794c40>,\n",
       " <Metabolite 6hmhpt_c at 0x27d107942b0>,\n",
       " <Metabolite 6hmhptpp_c at 0x27d0e575670>,\n",
       " <Metabolite amet_c at 0x27d1066f970>,\n",
       " <Metabolite ametam_c at 0x27d106cb100>,\n",
       " <Metabolite dmbzid_c at 0x27d1bf060a0>,\n",
       " <Metabolite dmlz_c at 0x27d19ccee80>,\n",
       " <Metabolite dmpp_c at 0x27d19cced30>,\n",
       " <Metabolite dms_c at 0x27d19ccefd0>,\n",
       " <Metabolite dms_e at 0x27d19cce130>,\n",
       " <Metabolite dmso_c at 0x27d19cce6a0>,\n",
       " <Metabolite dmso_e at 0x27d1bf06490>,\n",
       " <Metabolite fmettrna_c at 0x27d19c98670>,\n",
       " <Metabolite hmbil_c at 0x27d1becbac0>,\n",
       " <Metabolite micit_c at 0x27d19cecfd0>,\n",
       " <Metabolite prfp_c at 0x27d1bf1a6a0>,\n",
       " <Metabolite prlp_c at 0x27d1bf1a4c0>,\n",
       " <Metabolite tma_e at 0x27d1be96e50>,\n",
       " <Metabolite tmao_e at 0x27d19cf1070>]"
      ]
     },
     "execution_count": 56,
     "metadata": {},
     "output_type": "execute_result"
    }
   ],
   "source": [
    "model.metabolites.query(\"met\", \"name\")"
   ]
  },
  {
   "cell_type": "code",
   "execution_count": null,
   "id": "d81cb194",
   "metadata": {},
   "outputs": [],
   "source": [
    "model.reactions.EX_o2_e"
   ]
  },
  {
   "cell_type": "code",
   "execution_count": null,
   "id": "002ddc34",
   "metadata": {},
   "outputs": [],
   "source": [
    "model.metabolites.query(\"o2\", \"id\")"
   ]
  },
  {
   "cell_type": "code",
   "execution_count": 77,
   "id": "d17bdbac",
   "metadata": {},
   "outputs": [
    {
     "data": {
      "text/html": [
       "\n",
       "        <table>\n",
       "            <tr>\n",
       "                <td><strong>Metabolite identifier</strong></td><td>met_L_e</td>\n",
       "            </tr><tr>\n",
       "                <td><strong>Name</strong></td><td>L_Methionine</td>\n",
       "            </tr><tr>\n",
       "                <td><strong>Memory address</strong></td>\n",
       "                <td>0x027d19cece80</td>\n",
       "            </tr><tr>\n",
       "                <td><strong>Formula</strong></td><td>C5H11NO2S</td>\n",
       "            </tr><tr>\n",
       "                <td><strong>Compartment</strong></td><td>e</td>\n",
       "            </tr><tr>\n",
       "                <td><strong>In 3 reaction(s)</strong></td><td>\n",
       "                    METabcpp, EX_met_L_e, METt2rpp</td>\n",
       "            </tr>\n",
       "        </table>"
      ],
      "text/plain": [
       "<Metabolite met_L_e at 0x27d19cece80>"
      ]
     },
     "execution_count": 77,
     "metadata": {},
     "output_type": "execute_result"
    }
   ],
   "source": [
    "model.metabolites.met_L_e"
   ]
  },
  {
   "cell_type": "code",
   "execution_count": 74,
   "id": "1ba5dad3",
   "metadata": {},
   "outputs": [
    {
     "data": {
      "text/html": [
       "\n",
       "        <table>\n",
       "            <tr>\n",
       "                <td><strong>Metabolite identifier</strong></td><td>amet_c</td>\n",
       "            </tr><tr>\n",
       "                <td><strong>Name</strong></td><td>S-AdenosyL_L_methionine</td>\n",
       "            </tr><tr>\n",
       "                <td><strong>Memory address</strong></td>\n",
       "                <td>0x027d1066f970</td>\n",
       "            </tr><tr>\n",
       "                <td><strong>Formula</strong></td><td>C15H23N6O5S</td>\n",
       "            </tr><tr>\n",
       "                <td><strong>Compartment</strong></td><td>c</td>\n",
       "            </tr><tr>\n",
       "                <td><strong>In 13 reaction(s)</strong></td><td>\n",
       "                    UPP3MT, BTS4, AMAOTr, OMBZLM, DM_amet_c, SOL_POOL, TYRL, CPPPGO2, METAT, AMMQLT8, psiM, psiM2, LIPOS</td>\n",
       "            </tr>\n",
       "        </table>"
      ],
      "text/plain": [
       "<Metabolite amet_c at 0x27d1066f970>"
      ]
     },
     "execution_count": 74,
     "metadata": {},
     "output_type": "execute_result"
    }
   ],
   "source": [
    "model.metabolites.amet_c"
   ]
  },
  {
   "cell_type": "code",
   "execution_count": 76,
   "id": "cca7d1e2",
   "metadata": {},
   "outputs": [
    {
     "data": {
      "text/html": [
       "\n",
       "        <table>\n",
       "            <tr>\n",
       "                <td><strong>Reaction identifier</strong></td><td>METAT</td>\n",
       "            </tr><tr>\n",
       "                <td><strong>Name</strong></td><td>methionine adenosyltransferase</td>\n",
       "            </tr><tr>\n",
       "                <td><strong>Memory address</strong></td>\n",
       "                <td>0x027d1b8bbf40</td>\n",
       "            </tr><tr>\n",
       "                <td><strong>Stoichiometry</strong></td>\n",
       "                <td>\n",
       "                    <p style='text-align:right'>atp_c + h2o_c + met_L_c --> amet_c + pi_c + ppi_c</p>\n",
       "                    <p style='text-align:right'>ATP + H2O + L_Methionine --> S-AdenosyL_L_methionine + Phosphate + Diphosphate</p>\n",
       "                </td>\n",
       "            </tr><tr>\n",
       "                <td><strong>GPR</strong></td><td>cg1806</td>\n",
       "            </tr><tr>\n",
       "                <td><strong>Lower bound</strong></td><td>0.0</td>\n",
       "            </tr><tr>\n",
       "                <td><strong>Upper bound</strong></td><td>0.000113859976741657</td>\n",
       "            </tr>\n",
       "        </table>\n",
       "        "
      ],
      "text/plain": [
       "<Reaction METAT at 0x27d1b8bbf40>"
      ]
     },
     "execution_count": 76,
     "metadata": {},
     "output_type": "execute_result"
    }
   ],
   "source": [
    "model.reactions.METAT # reaction producing amet_c from L_Methionine"
   ]
  },
  {
   "cell_type": "code",
   "execution_count": 79,
   "id": "d976bfdb",
   "metadata": {},
   "outputs": [
    {
     "data": {
      "text/html": [
       "\n",
       "        <table>\n",
       "            <tr>\n",
       "                <td><strong>Reaction identifier</strong></td><td>EX_met_L_e</td>\n",
       "            </tr><tr>\n",
       "                <td><strong>Name</strong></td><td>L_Methionine exchange</td>\n",
       "            </tr><tr>\n",
       "                <td><strong>Memory address</strong></td>\n",
       "                <td>0x027d12426910</td>\n",
       "            </tr><tr>\n",
       "                <td><strong>Stoichiometry</strong></td>\n",
       "                <td>\n",
       "                    <p style='text-align:right'>met_L_e --></p>\n",
       "                    <p style='text-align:right'>L_Methionine --></p>\n",
       "                </td>\n",
       "            </tr><tr>\n",
       "                <td><strong>GPR</strong></td><td></td>\n",
       "            </tr><tr>\n",
       "                <td><strong>Lower bound</strong></td><td>0.0</td>\n",
       "            </tr><tr>\n",
       "                <td><strong>Upper bound</strong></td><td>0.537786666666667</td>\n",
       "            </tr>\n",
       "        </table>\n",
       "        "
      ],
      "text/plain": [
       "<Reaction EX_met_L_e at 0x27d12426910>"
      ]
     },
     "execution_count": 79,
     "metadata": {},
     "output_type": "execute_result"
    }
   ],
   "source": [
    "model.reactions.EX_met_L_e"
   ]
  },
  {
   "cell_type": "code",
   "execution_count": 103,
   "id": "a1733606",
   "metadata": {},
   "outputs": [
    {
     "name": "stdout",
     "output_type": "stream",
     "text": [
      "0.0\n"
     ]
    },
    {
     "name": "stderr",
     "output_type": "stream",
     "text": [
      "C:\\Users\\tamwei\\Anaconda3\\lib\\site-packages\\cobra\\util\\solver.py:554: UserWarning: Solver status is 'infeasible'.\n",
      "  warn(f\"Solver status is '{status}'.\", UserWarning)\n"
     ]
    }
   ],
   "source": [
    "# Adding L-methionin, which is the precursor of SAM (Cofactors used for psilocybin production) to the medium\n",
    "medium = model.medium\n",
    "model.objective = model.reactions.DM_psi_c\n",
    "with model:\n",
    "    medium['EX_glc_e'] = 100\n",
    "    medium['EX_o2_e'] = 1.5\n",
    "    medium[\"EX_met_L_e\"] = 100\n",
    "    model.medium = medium\n",
    "    solution = model.optimize()\n",
    "    print(solution.fluxes['DM_psi_c'])"
   ]
  },
  {
   "cell_type": "code",
   "execution_count": 97,
   "id": "7e11537f",
   "metadata": {},
   "outputs": [
    {
     "name": "stdout",
     "output_type": "stream",
     "text": [
      "5.57043656605488\n"
     ]
    }
   ],
   "source": [
    "with model:\n",
    "    model.objective = model.reactions.psiK2\n",
    "    print(model.optimize().objective_value)"
   ]
  },
  {
   "cell_type": "code",
   "execution_count": 98,
   "id": "0a06bdc1",
   "metadata": {},
   "outputs": [
    {
     "name": "stdout",
     "output_type": "stream",
     "text": [
      "5.692998837082857e-05\n"
     ]
    }
   ],
   "source": [
    "with model:\n",
    "    model.objective = model.reactions.psiM2\n",
    "    print(model.optimize().objective_value)"
   ]
  },
  {
   "cell_type": "code",
   "execution_count": null,
   "id": "abe9f846",
   "metadata": {},
   "outputs": [],
   "source": []
  }
 ],
 "metadata": {
  "kernelspec": {
   "display_name": "Python 3 (ipykernel)",
   "language": "python",
   "name": "python3"
  },
  "language_info": {
   "codemirror_mode": {
    "name": "ipython",
    "version": 3
   },
   "file_extension": ".py",
   "mimetype": "text/x-python",
   "name": "python",
   "nbconvert_exporter": "python",
   "pygments_lexer": "ipython3",
   "version": "3.8.11"
  }
 },
 "nbformat": 4,
 "nbformat_minor": 5
}
