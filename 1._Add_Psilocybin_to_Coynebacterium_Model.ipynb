{
 "cells": [
  {
   "cell_type": "code",
   "execution_count": 1,
   "id": "33e56175-8ee2-40a9-afad-b6230ea746e6",
   "metadata": {},
   "outputs": [],
   "source": [
    "#Importing all the packages\n",
    "import pandas as pd\n",
    "import matplotlib.pyplot as plt\n",
    "plt.style.use('seaborn')\n",
    "%matplotlib inline\n",
    "from cobra.io import read_sbml_model\n",
    "from cobra.io import write_sbml_model"
   ]
  },
  {
   "cell_type": "code",
   "execution_count": 2,
   "id": "b8299c34-e527-4283-a341-de0eb906f5c2",
   "metadata": {},
   "outputs": [
    {
     "name": "stderr",
     "output_type": "stream",
     "text": [
      "No objective coefficients in model. Unclear what should be optimized\n"
     ]
    }
   ],
   "source": [
    "#Importing the model \"iCW773\"with changed names --> iCW773_test7.xml\n",
    "model = read_sbml_model('iCW773_test7.xml') #for test file e.g. trp- was replaced by trp_ to enable calling of the metabolite"
   ]
  },
  {
   "cell_type": "code",
   "execution_count": 3,
   "id": "5f1f8771",
   "metadata": {
    "scrolled": true
   },
   "outputs": [
    {
     "data": {
      "text/plain": [
       "{'': ''}"
      ]
     },
     "execution_count": 3,
     "metadata": {},
     "output_type": "execute_result"
    }
   ],
   "source": [
    "model.compartments #no compartment are utilized by the base model."
   ]
  },
  {
   "cell_type": "code",
   "execution_count": 4,
   "id": "2cce61cd",
   "metadata": {},
   "outputs": [],
   "source": [
    "for metabolite in model.metabolites:\n",
    "    if '_e' in metabolite.id:\n",
    "        metabolite.compartment='e' #finds the extracellular metabolites, assigns to compartment e"
   ]
  },
  {
   "cell_type": "code",
   "execution_count": 5,
   "id": "880cc4ba",
   "metadata": {},
   "outputs": [
    {
     "data": {
      "text/plain": [
       "{'': '', 'e': ''}"
      ]
     },
     "execution_count": 5,
     "metadata": {},
     "output_type": "execute_result"
    }
   ],
   "source": [
    "model.compartments"
   ]
  },
  {
   "cell_type": "code",
   "execution_count": 6,
   "id": "a58582fd",
   "metadata": {},
   "outputs": [],
   "source": [
    "for metabolite in model.metabolites:\n",
    "    if '_c' in metabolite.id:\n",
    "        metabolite.compartment='c' #finds the cytoplasmic metabolites, assigns to compartment c"
   ]
  },
  {
   "cell_type": "code",
   "execution_count": 7,
   "id": "b94966bd",
   "metadata": {
    "scrolled": true
   },
   "outputs": [
    {
     "data": {
      "text/plain": [
       "{'c': '', 'e': ''}"
      ]
     },
     "execution_count": 7,
     "metadata": {},
     "output_type": "execute_result"
    }
   ],
   "source": [
    "model.compartments #shows that all metabolites are assigned to either c or e"
   ]
  },
  {
   "cell_type": "code",
   "execution_count": 8,
   "id": "3372c271",
   "metadata": {},
   "outputs": [],
   "source": [
    "#for metabolite in model.metabolites:\n",
    " #   if not metabolite.compartment:\n",
    "  #      metabolite.compartment='c' #assigns the compartment c to anything that does not have a compartment yet, to remove error in escher and match the code below."
   ]
  },
  {
   "cell_type": "markdown",
   "id": "e6a2b705-8428-46b1-b3f8-80876f1eb6fe",
   "metadata": {},
   "source": [
    "Adding metabolites to the model"
   ]
  },
  {
   "cell_type": "code",
   "execution_count": 9,
   "id": "f447bb2e-07ad-464f-bd8f-d50151bc91ca",
   "metadata": {},
   "outputs": [],
   "source": [
    "from cobra import Reaction, Metabolite\n",
    "tryptamine = Metabolite(id = 'tryp_c', compartment='c', name='tryptamine', formula='C10H12N2')\n",
    "hydroxytryptamine = Metabolite(id='_4htryp_c', compartment='c', name='4-Hydroxytryptamine', formula='C10H12N2O')\n",
    "norbaeocystin = Metabolite(id='nbc_c' , compartment='c', name='Norbaeocystin', formula='C10H13N2O4P')\n",
    "psilocybin = Metabolite(id='psi_c', compartment='c', name='Psilocybin', formula='C12H17N2O4P')\n",
    "psilocin = Metabolite(id='psii_c', compartment='c', name='psilocin', formula='C12H16N2O')\n",
    "baeocystin = Metabolite(id='baecyst_c', compartment='c', name='Baeocystin', formula='C11H15N2O4P')\n",
    "psilocybin_e = Metabolite(id='psi_e', compartment='e', name='Psilocybin_e', formula='C12H17N2O4P')"
   ]
  },
  {
   "cell_type": "markdown",
   "id": "31b57353-936f-42e1-bc5f-e343d2aa1fb8",
   "metadata": {},
   "source": [
    "## Defining the reactions"
   ]
  },
  {
   "cell_type": "code",
   "execution_count": 10,
   "id": "fa392a9a-b070-4f20-a929-5953201bf685",
   "metadata": {},
   "outputs": [],
   "source": [
    "L_tryptophan_decarboxylase = Reaction('CrTdc')\n",
    "tryptamine_4_monooxygenase = Reaction('psiH')\n",
    "_4_hydroxytryptamine_kinase = Reaction('psiK')\n",
    "psilocybin_synthase = Reaction('psiM')\n",
    "psilocybin_synthase2 = Reaction('psiM2')\n",
    "pho_or_spon = Reaction('pho') # reaction is either spontaneous or carried out by phosphatases\n",
    "_4_hydroxytryptamine_kinase2 = Reaction('psiK2')\n",
    "psitransportpathway = Reaction('psitpp') #remove the psilocybin from the cell, transporter such as PSIT1_PSICU"
   ]
  },
  {
   "cell_type": "markdown",
   "id": "b516c965-57f3-4bb3-9b99-8e4a8528aed1",
   "metadata": {},
   "source": [
    "## Adding the metabolites to the reactions\n"
   ]
  },
  {
   "cell_type": "code",
   "execution_count": 11,
   "id": "4a154330-5e8b-4583-9755-8fbe8f81bbb8",
   "metadata": {},
   "outputs": [],
   "source": [
    "L_tryptophan_decarboxylase.add_metabolites(({model.metabolites.trp_L_c: -1,\n",
    "                              tryptamine: 1, \n",
    "                              model.metabolites.co2_c: 1, \n",
    "                            }))"
   ]
  },
  {
   "cell_type": "code",
   "execution_count": 12,
   "id": "1ee268ff-9620-4d42-8fb9-954e61a657c6",
   "metadata": {},
   "outputs": [],
   "source": [
    "tryptamine_4_monooxygenase.add_metabolites({tryptamine: -1,\n",
    "                              model.metabolites.nadph_c: -2,           \n",
    "                              model.metabolites.o2_c: -1,\n",
    "                              hydroxytryptamine: 1,\n",
    "                              model.metabolites.nadp_c:2,\n",
    "                              model.metabolites.h2o_c: 1,              \n",
    "                             })"
   ]
  },
  {
   "cell_type": "code",
   "execution_count": 13,
   "id": "331a77e0-1ded-4178-b755-4c7a56907978",
   "metadata": {},
   "outputs": [],
   "source": [
    "_4_hydroxytryptamine_kinase.add_metabolites({hydroxytryptamine: -1,\n",
    "                              model.metabolites.atp_c: -1,\n",
    "                              norbaeocystin: 1, \n",
    "                              model.metabolites.adp_c: 1,\n",
    "                             })"
   ]
  },
  {
   "cell_type": "code",
   "execution_count": 14,
   "id": "684f33db-269d-4378-a298-f3b98b1ac2d5",
   "metadata": {},
   "outputs": [],
   "source": [
    "psilocybin_synthase.add_metabolites(({norbaeocystin: -1,\n",
    "                             model.metabolites.amet_c: -1, \n",
    "                             baeocystin: 1, \n",
    "                             model.metabolites.ahcys_c: 1,\n",
    "                             }))"
   ]
  },
  {
   "cell_type": "code",
   "execution_count": 15,
   "id": "1ad702bd-859c-4397-bb9c-c989c98d578d",
   "metadata": {},
   "outputs": [],
   "source": [
    "psilocybin_synthase2.add_metabolites(({baeocystin: -1,\n",
    "                             model.metabolites.amet_c: -1, \n",
    "                             psilocybin: 1, \n",
    "                             model.metabolites.ahcys_c: 1,\n",
    "                             }))"
   ]
  },
  {
   "cell_type": "code",
   "execution_count": 16,
   "id": "fb71402f-4d03-4195-8894-059a69ca57ea",
   "metadata": {},
   "outputs": [],
   "source": [
    "pho_or_spon.add_metabolites(({psilocybin: -1,\n",
    "                             model.metabolites.h_c: -1,\n",
    "                             psilocin: 1,\n",
    "                             model.metabolites.pi_c: 1,\n",
    "                             }))"
   ]
  },
  {
   "cell_type": "code",
   "execution_count": 17,
   "id": "4157e009-5f07-4225-9c95-138b0396ebdc",
   "metadata": {},
   "outputs": [],
   "source": [
    "_4_hydroxytryptamine_kinase2.add_metabolites(({psilocin: -1,\n",
    "                             model.metabolites.atp_c: -1, \n",
    "                             psilocybin: 1, \n",
    "                             model.metabolites.adp_c: 1, \n",
    "                             }))"
   ]
  },
  {
   "cell_type": "code",
   "execution_count": 18,
   "id": "44024abb",
   "metadata": {},
   "outputs": [],
   "source": [
    "psitransportpathway.add_metabolites(({psilocybin: -1,\n",
    "                             psilocybin_e: 1, \n",
    "                             })) #can be passive transport, https://www.uniprot.org/uniprot/P0DPB1"
   ]
  },
  {
   "cell_type": "markdown",
   "id": "4f9ab647-85b9-444f-b9fa-8b5f511a27a1",
   "metadata": {},
   "source": [
    "## Adding the reactions to the model"
   ]
  },
  {
   "cell_type": "code",
   "execution_count": 19,
   "id": "9dbf585d-09ff-41fa-b2d2-ce1fb5f49122",
   "metadata": {},
   "outputs": [],
   "source": [
    "model.add_reactions([L_tryptophan_decarboxylase]) #\n",
    "model.add_reactions([tryptamine_4_monooxygenase]) #\n",
    "model.add_reactions([_4_hydroxytryptamine_kinase]) #\n",
    "model.add_reactions([_4_hydroxytryptamine_kinase2]) #\n",
    "model.add_reactions([psilocybin_synthase]) #\n",
    "model.add_reactions([psilocybin_synthase2]) #\n",
    "model.add_reactions([pho_or_spon]) #\n",
    "model.add_reactions([psitransportpathway]) #"
   ]
  },
  {
   "cell_type": "code",
   "execution_count": 20,
   "id": "65e3b392",
   "metadata": {
    "scrolled": false
   },
   "outputs": [
    {
     "data": {
      "text/html": [
       "\n",
       "        <table>\n",
       "            <tr>\n",
       "                <td><strong>Reaction identifier</strong></td><td>DM_ahcys_c</td>\n",
       "            </tr><tr>\n",
       "                <td><strong>Name</strong></td><td>S-AdenosyL_L_homocysteine demand</td>\n",
       "            </tr><tr>\n",
       "                <td><strong>Memory address</strong></td>\n",
       "                <td>0x0206bb5f44a8</td>\n",
       "            </tr><tr>\n",
       "                <td><strong>Stoichiometry</strong></td>\n",
       "                <td>\n",
       "                    <p style='text-align:right'>ahcys_c --></p>\n",
       "                    <p style='text-align:right'>S-AdenosyL_L_homocysteine --></p>\n",
       "                </td>\n",
       "            </tr><tr>\n",
       "                <td><strong>GPR</strong></td><td></td>\n",
       "            </tr><tr>\n",
       "                <td><strong>Lower bound</strong></td><td>0</td>\n",
       "            </tr><tr>\n",
       "                <td><strong>Upper bound</strong></td><td>1000.0</td>\n",
       "            </tr>\n",
       "        </table>\n",
       "        "
      ],
      "text/plain": [
       "<Reaction DM_ahcys_c at 0x206bb5f44a8>"
      ]
     },
     "execution_count": 20,
     "metadata": {},
     "output_type": "execute_result"
    }
   ],
   "source": [
    "#model.add_boundary(model.metabolites.tryp_c, type='demand')\n",
    "#model.add_boundary(model.metabolites._4htryp_c, type='demand')\n",
    "#model.add_boundary(model.metabolites.nbc_c, type='demand')\n",
    "#model.add_boundary(model.metabolites.psi_c, type='demand') #removed demand function\n",
    "model.add_boundary(model.metabolites.psi_e, type='exchange') #use exchange function for product instead\n",
    "#model.add_boundary(model.metabolites.amet_c, type='demand')\n",
    "model.add_boundary(model.metabolites.ahcys_c, type='demand')\n",
    "#model.add_boundary(model.metabolites.psii_c, type='demand');"
   ]
  },
  {
   "cell_type": "markdown",
   "id": "bff351a2",
   "metadata": {},
   "source": [
    "For the production of psilocybin, SAH (amet_c) is produced from SAM (ahcys_c), thus a demand function is necessary. "
   ]
  },
  {
   "cell_type": "code",
   "execution_count": 21,
   "id": "0821e1df",
   "metadata": {},
   "outputs": [],
   "source": [
    "model.reactions.EX_psi_e.bounds = 0,1000"
   ]
  },
  {
   "cell_type": "code",
   "execution_count": 22,
   "id": "9c036f33-ec85-4def-9f88-be5107af159a",
   "metadata": {},
   "outputs": [],
   "source": [
    "write_sbml_model(model, \"iCW773_psilocybin.xml\")"
   ]
  }
 ],
 "metadata": {
  "kernelspec": {
   "display_name": "Python 3",
   "language": "python",
   "name": "python3"
  },
  "language_info": {
   "codemirror_mode": {
    "name": "ipython",
    "version": 3
   },
   "file_extension": ".py",
   "mimetype": "text/x-python",
   "name": "python",
   "nbconvert_exporter": "python",
   "pygments_lexer": "ipython3",
   "version": "3.6.13"
  }
 },
 "nbformat": 4,
 "nbformat_minor": 5
}
