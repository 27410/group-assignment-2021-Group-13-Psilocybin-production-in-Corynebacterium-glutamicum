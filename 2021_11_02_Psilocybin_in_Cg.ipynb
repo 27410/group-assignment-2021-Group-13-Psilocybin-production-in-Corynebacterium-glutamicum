{
 "cells": [
  {
   "cell_type": "code",
   "execution_count": 1,
   "id": "33e56175-8ee2-40a9-afad-b6230ea746e6",
   "metadata": {},
   "outputs": [],
   "source": [
    "#Importing all the packages\n",
    "import pandas as pd\n",
    "import matplotlib.pyplot as plt\n",
    "plt.style.use('seaborn')\n",
    "%matplotlib inline\n",
    "from cobra.io import read_sbml_model\n",
    "from cobra.io import write_sbml_model"
   ]
  },
  {
   "cell_type": "code",
   "execution_count": 2,
   "id": "b8299c34-e527-4283-a341-de0eb906f5c2",
   "metadata": {},
   "outputs": [
    {
     "name": "stderr",
     "output_type": "stream",
     "text": [
      "No objective coefficients in model. Unclear what should be optimized\n"
     ]
    }
   ],
   "source": [
    "#Importing the model \"iCW773\"with changed names --> iCW773_test7.xml\n",
    "model = read_sbml_model('iCW773_test7.xml') #for test file e.g. trp- was replaced by trp_ to enable calling of the metabolite\n",
    "\n"
   ]
  },
  {
   "cell_type": "markdown",
   "id": "e6a2b705-8428-46b1-b3f8-80876f1eb6fe",
   "metadata": {},
   "source": [
    "Adding metabolites to the model"
   ]
  },
  {
   "cell_type": "code",
   "execution_count": 3,
   "id": "f447bb2e-07ad-464f-bd8f-d50151bc91ca",
   "metadata": {},
   "outputs": [],
   "source": [
    "from cobra import Reaction, Metabolite\n",
    "tryptamine = Metabolite(id = 'tryp_c', compartment='c', name='tryptamine', formula='C10H12N2')\n",
    "hydroxytryptamine = Metabolite(id='_4htryp_c', compartment='c', name='4-Hydroxytryptamine', formula='C10H12N2O')\n",
    "norbaeocystin = Metabolite(id='nbc_c' , compartment='c', name='Norbaeocystin', formula='C10H13N2O4P')\n",
    "psilocybin = Metabolite(id='psi_c', compartment='c', name='Psilocybin', formula='C12H17N2O4P') #This needs later also an _e version\n",
    "#S_adenosyl_L_methionine = Metabolite(id='SAM', compartment='c', name='S-adenosyl-L-Methionine', formula='C15H22N6O5S')\n",
    "psilocin = Metabolite(id='psii_c', compartment='c', name='psilocin', formula='C12H16N2O')\n",
    "baeocystin = Metabolite(id='baecyst_c', compartment='c', name='Baeocystin', formula='C11H15N2O4P')"
   ]
  },
  {
   "cell_type": "markdown",
   "id": "31b57353-936f-42e1-bc5f-e343d2aa1fb8",
   "metadata": {},
   "source": [
    "## Defining the reactions"
   ]
  },
  {
   "cell_type": "code",
   "execution_count": 4,
   "id": "fa392a9a-b070-4f20-a929-5953201bf685",
   "metadata": {},
   "outputs": [],
   "source": [
    "L_tryptophan_decarboxylase = Reaction('CrTdc')\n",
    "tryptamine_4_monooxygenase = Reaction('psiH')\n",
    "_4_hydroxytryptamine_kinase = Reaction('psiK')\n",
    "psilocybin_synthase = Reaction('psiM')\n",
    "psilocybin_synthase2 = Reaction('psiM2')\n",
    "pho_or_spon = Reaction('pho') # reaction is either spontaneous or carried out by phosphatases\n",
    "_4_hydroxytryptamine_kinase2 = Reaction('psiK2')"
   ]
  },
  {
   "cell_type": "markdown",
   "id": "b516c965-57f3-4bb3-9b99-8e4a8528aed1",
   "metadata": {},
   "source": [
    "## Adding the metabolites to the reactions\n"
   ]
  },
  {
   "cell_type": "code",
   "execution_count": 5,
   "id": "4a154330-5e8b-4583-9755-8fbe8f81bbb8",
   "metadata": {},
   "outputs": [],
   "source": [
    "L_tryptophan_decarboxylase.add_metabolites(({model.metabolites.trp_L_c: -1,\n",
    "                              tryptamine: 1, \n",
    "                              model.metabolites.co2_c: 1, \n",
    "                            }))"
   ]
  },
  {
   "cell_type": "code",
   "execution_count": 6,
   "id": "1ee268ff-9620-4d42-8fb9-954e61a657c6",
   "metadata": {},
   "outputs": [],
   "source": [
    "tryptamine_4_monooxygenase.add_metabolites({tryptamine: -1,\n",
    "                              model.metabolites.nadph_c: -1, # this is from the CP450 reductase reaction WE THINK?              \n",
    "                              model.metabolites.o2_c: -1,\n",
    "                              model.metabolites.h_c: -2,\n",
    "                              hydroxytryptamine: 1,\n",
    "                              model.metabolites.nadp_c:1,\n",
    "                              model.metabolites.h2o_c: 1,              \n",
    "                             })\n",
    "\n",
    "#####Check this reaction again regardin the amount of protons!!!!"
   ]
  },
  {
   "cell_type": "code",
   "execution_count": 7,
   "id": "331a77e0-1ded-4178-b755-4c7a56907978",
   "metadata": {},
   "outputs": [],
   "source": [
    "_4_hydroxytryptamine_kinase.add_metabolites({hydroxytryptamine: -1,\n",
    "                              model.metabolites.atp_c: -1,\n",
    "                              norbaeocystin: 1, \n",
    "                              model.metabolites.adp_c: 1,\n",
    "                             })"
   ]
  },
  {
   "cell_type": "code",
   "execution_count": 8,
   "id": "684f33db-269d-4378-a298-f3b98b1ac2d5",
   "metadata": {},
   "outputs": [],
   "source": [
    "psilocybin_synthase.add_metabolites(({norbaeocystin: -1,\n",
    "                             model.metabolites.amet_c: -1, \n",
    "                             baeocystin: 1, \n",
    "                             model.metabolites.ahcys_c: 1,\n",
    "                             }))"
   ]
  },
  {
   "cell_type": "code",
   "execution_count": 9,
   "id": "1ad702bd-859c-4397-bb9c-c989c98d578d",
   "metadata": {},
   "outputs": [],
   "source": [
    "psilocybin_synthase2.add_metabolites(({baeocystin: -1,\n",
    "                             model.metabolites.amet_c: -1, \n",
    "                             psilocybin: 1, \n",
    "                             model.metabolites.ahcys_c: 1,\n",
    "                             }))"
   ]
  },
  {
   "cell_type": "code",
   "execution_count": 10,
   "id": "fb71402f-4d03-4195-8894-059a69ca57ea",
   "metadata": {},
   "outputs": [],
   "source": [
    "pho_or_spon.add_metabolites(({psilocybin: -1,\n",
    "                             model.metabolites.h_c: -1,\n",
    "                             psilocin: 1,\n",
    "                             model.metabolites.pi_c: 1,\n",
    "                             }))"
   ]
  },
  {
   "cell_type": "code",
   "execution_count": 11,
   "id": "4157e009-5f07-4225-9c95-138b0396ebdc",
   "metadata": {},
   "outputs": [],
   "source": [
    "_4_hydroxytryptamine_kinase2.add_metabolites(({psilocin: -1,\n",
    "                             model.metabolites.atp_c: -1, \n",
    "                             psilocybin: 1, \n",
    "                             model.metabolites.adp_c: 1, \n",
    "                             }))"
   ]
  },
  {
   "cell_type": "markdown",
   "id": "4f9ab647-85b9-444f-b9fa-8b5f511a27a1",
   "metadata": {},
   "source": [
    "## Adding the reactions to the model"
   ]
  },
  {
   "cell_type": "code",
   "execution_count": 12,
   "id": "9dbf585d-09ff-41fa-b2d2-ce1fb5f49122",
   "metadata": {},
   "outputs": [],
   "source": [
    "model.add_reactions([L_tryptophan_decarboxylase]) #\n",
    "model.add_reactions([tryptamine_4_monooxygenase]) #\n",
    "model.add_reactions([_4_hydroxytryptamine_kinase]) #\n",
    "model.add_reactions([_4_hydroxytryptamine_kinase2]) #\n",
    "model.add_reactions([psilocybin_synthase]) #\n",
    "model.add_reactions([psilocybin_synthase2]) #\n",
    "model.add_reactions([pho_or_spon]) #"
   ]
  },
  {
   "cell_type": "code",
   "execution_count": 13,
   "id": "c02fdf58-75a6-45bd-9310-a73246ecfcfd",
   "metadata": {},
   "outputs": [],
   "source": [
    "model.add_boundary(model.metabolites.tryp_c, type='demand')\n",
    "model.add_boundary(model.metabolites._4htryp_c, type='demand')\n",
    "model.add_boundary(model.metabolites.nbc_c, type='demand')\n",
    "model.add_boundary(model.metabolites.psi_c, type='demand')\n",
    "model.add_boundary(model.metabolites.amet_c, type='demand')\n",
    "model.add_boundary(model.metabolites.ahcys_c, type='demand')\n",
    "model.add_boundary(model.metabolites.psii_c, type='demand');"
   ]
  },
  {
   "cell_type": "code",
   "execution_count": 14,
   "id": "24cec8bd-bb98-4473-b694-9edeffb2e791",
   "metadata": {},
   "outputs": [
    {
     "data": {
      "text/html": [
       "\n",
       "        <table>\n",
       "            <tr>\n",
       "                <td><strong>Metabolite identifier</strong></td><td>tryp_c</td>\n",
       "            </tr><tr>\n",
       "                <td><strong>Name</strong></td><td>tryptamine</td>\n",
       "            </tr><tr>\n",
       "                <td><strong>Memory address</strong></td>\n",
       "                <td>0x02197fbc8460</td>\n",
       "            </tr><tr>\n",
       "                <td><strong>Formula</strong></td><td>C10H12N2</td>\n",
       "            </tr><tr>\n",
       "                <td><strong>Compartment</strong></td><td>c</td>\n",
       "            </tr><tr>\n",
       "                <td><strong>In 3 reaction(s)</strong></td><td>\n",
       "                    DM_tryp_c, CrTdc, psiH</td>\n",
       "            </tr>\n",
       "        </table>"
      ],
      "text/plain": [
       "<Metabolite tryp_c at 0x2197fbc8460>"
      ]
     },
     "execution_count": 14,
     "metadata": {},
     "output_type": "execute_result"
    }
   ],
   "source": [
    "model.metabolites.tryp_c"
   ]
  },
  {
   "cell_type": "code",
   "execution_count": 16,
   "id": "9c036f33-ec85-4def-9f88-be5107af159a",
   "metadata": {},
   "outputs": [],
   "source": [
    "write_sbml_model(model, \"iCW773_test7_psilocybin.xml\")"
   ]
  },
  {
   "cell_type": "code",
   "execution_count": null,
   "id": "faf2acdc-7772-47ed-983d-ed5a34fbe574",
   "metadata": {},
   "outputs": [],
   "source": []
  }
 ],
 "metadata": {
  "kernelspec": {
   "display_name": "Python 3 (ipykernel)",
   "language": "python",
   "name": "python3"
  },
  "language_info": {
   "codemirror_mode": {
    "name": "ipython",
    "version": 3
   },
   "file_extension": ".py",
   "mimetype": "text/x-python",
   "name": "python",
   "nbconvert_exporter": "python",
   "pygments_lexer": "ipython3",
   "version": "3.8.11"
  }
 },
 "nbformat": 4,
 "nbformat_minor": 5
}
