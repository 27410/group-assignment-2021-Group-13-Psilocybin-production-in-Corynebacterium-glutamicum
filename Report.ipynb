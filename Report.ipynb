{
 "cells": [
  {
   "cell_type": "markdown",
   "metadata": {},
   "source": [
    "# Psilocybin production in *Corynebacterium glutamicum*"
   ]
  },
  {
   "cell_type": "code",
   "execution_count": 1,
   "metadata": {},
   "outputs": [],
   "source": [
    "from IPython.display import FileLink, FileLinks # imported to enable insertion of Links"
   ]
  },
  {
   "cell_type": "markdown",
   "metadata": {},
   "source": [
    "## 1. Introduction"
   ]
  },
  {
   "cell_type": "markdown",
   "metadata": {},
   "source": [
    "### 1.1 Literature review of the compound (<500 words)"
   ]
  },
  {
   "cell_type": "markdown",
   "metadata": {},
   "source": [
    "Psilocybin is a prodrug of the psychedelic active drug Psilocin. It is a common compound in many species of fungi and is known as the active ingredient in “magic mushrooms”. Psilocin is an agonist of several of the 5-HT serotonin receptors. These receptors are responsible for sensing the presence and level of serotonin, a neurotransmitter responsible for both many mental functions like mood, learning, the reward system cognition etc., but also some physiological function like vomiting. Psilocybin have shown potential as a treatment for many mental disorders regarding patients’ mood. Significant improvements to patients with depression and to patients with “existential distress”, which some cancer patients can experience during and after treatment, have been have observed after the administration of small doses of Psilocybin. "
   ]
  },
  {
   "cell_type": "markdown",
   "metadata": {},
   "source": [
    "![Structure of Psilocybin](Pictures/Psilocybin_report.png \"Structure of Psilocybin\")\n",
    "\n",
    "Figure 1 - The psychedelic prodrug Psilocybin. The phosphate group of Psilocybin is hydrolyzed in either acidic or alkaline environments, thereby converting it to the active form Psilocin."
   ]
  },
  {
   "cell_type": "markdown",
   "metadata": {},
   "source": [
    "The drug market has always been in a constant state of growth, but during the last 10 years we have observed a significant increase in the use of psychedelics as a treatment for mental affliction. Seemingly in conjunction with the liberation of some of the previously controlled drugs, it has been estimated that by year 2023 will have seen more than a doubling from 2016 in the drug market of serotonin antagonist; and this number is only expected to further increase as the world begins to open more up to the idea of treating mental illnesses with psychedelics and drug alike."
   ]
  },
  {
   "cell_type": "markdown",
   "metadata": {},
   "source": [
    "![Market of serotonin antidepressant](Pictures/Market_report_small.png \"Market of serotonin antidepressant\")\n",
    "\n",
    "Figure 2 - The estimated increase in the drug markets of different forms of antidepressants. Market with a red ring are the drugs using a serotonin agonist like Psilocin.\n"
   ]
  },
  {
   "cell_type": "markdown",
   "metadata": {},
   "source": [
    "Psilocybin is a derivative of the amino acid L-Tryptophan. The conversion of L-Tryptophan requires 4 enzymes L-Tryptophan decarboxylase (L-Tryptophan → Tryptamine), Tryptamine 4-monooxygenase (Tryptamine → 4-Hydroxytryptamine), 4-Hydroxytryptamine kinase (4-Hydroxytryptamine → Norbaeocystin) and Psilocybin synthase (Norbaeocystin  → Baeocystin) (Baeocystin  → Psilocybin). Psilocybin will quickly get dephosphorylated under acidic or alkaline conditions into the active psychedelic drug Psilocin. Psilocin can be rephosphorylated back into Psilocybin by 4-Hydroxytryptamine kinase, meaning that an overexpression of the genes for 4-Hydroxytryptamine kinase can shift the equilibrium to Psilocybin. This study will attempt to design a metabolic pathway in *Corynebacterium glutamicum* for the expression and production of Psilocybin. The synthetic pathway utilizes *C. glutamicum*’s own metabolic pathways using substrates like glucose, which enters glycolysis and is converted to phosphoenolpyruvate. Phosphoenolpyruvate then enters the Tryptophan biosynthesis where it is further converted to L-Tryptophan, which can then be converted to the desired compound, by the introduction of the beforehand mentioned enzymes."
   ]
  },
  {
   "cell_type": "markdown",
   "metadata": {},
   "source": [
    "![Metabolic pathway of Psilocybin](Pictures/Psilocybin_production_report.png \"Metabolic pathway of Psilocybin\")\n",
    "\n",
    "Figure 3 - The synthetic production of Psilocybin using the amino acid L-Tryptophan."
   ]
  },
  {
   "cell_type": "markdown",
   "metadata": {},
   "source": [
    "### 1.2 Literature review of the cell factory (<500 words)"
   ]
  },
  {
   "cell_type": "markdown",
   "metadata": {},
   "source": [
    "The gram-positive bacteria *Corynebacterium glutamicum* is a well-known industrial workhorse used in industrial biotechnology traditionally for the production of amino acids[1], such as L-glutamate[2], [3], L-lysin[4], [5], L-arginine[6] and L-trypotophan[7]. The product portfolio for *C. glutamicum* meanwhile counts more than 70 different compounds such as bulk chemicals[8], [9], biofuels[10], [11], materials[12], and high-value ingredients, with applications ranging for food, feed, human health, to well-being, including signature molecules of raspberry, savoury, and orange flavors, sun blockers, anti-ageing sugars, and polymers for regenerative medicine[12], [13]. Moreover, in recent years *C. glutamicum* has become an interesting host for the expression and secretion of biotechnologically or pharmaceutically relevant heterologous proteins[14]. However, extensive research conducted with this host revealed, that it reaches high cell densities quickly, shows no autolysis and can easily be scaled-up to large scale processes[13]. Furthermore, it is generally recognized as safe (GRAS), allowing the synthesis of a range of products for the food and pharmaceutical industries. It is reported to utilize various carbon sources and mixtures of substrates simultaneously[8], [15], [16]. These features make *C. glutamicum* an excellent candidate for the use of ecologically friendly feedstock such as hydrolyzed lingo-cellulosic biomass or even waste materials for fermentations[10], [13], [17]–[19]. Nevertheless, is has proofed to be highly tolerant towards stress, which is related to toxic compounds and other stressors[13], [20]. This can be linked to its rather robust cell wall, which is composed of a thick glycan core[21], [22]. \n",
    "\n",
    "Besides various advantages of *C. glutamicum* as a cell-factory, there are still a few drawbacks especially when it comes to protein expression. When compared with the  most commonly used host for protein production, *Escherichia coli*, applying *C. glutamicum* as host faces problems like lower protein yield [23]–[25] and lower transformation efficiency[26]. Furthermore, in most cases *C. glutamicum* is transformed via a combination of electro-pulsing and heat-shock[27], making transformations of this organism more costly, when compared to the possibility of chemically competent E.coli cells. \n",
    "\n",
    "The production of the potential drug for various psychological and neurological affliction psilocybin would broaden the portfolio of products of *C. glutamicum* even more towards the human health area. Previously psilocybin was successfully produced by *E. coli*[28] and *S. cerevisiae*[29], either starting the synthetic pathway from 4-hydroxyindole or L-tryptophan, respectively. *C. glutamicum* is not producing endotoxins and thus gives a great advantage, when compared with *E. coli* cultures for the subsequent downstream processing.[30] Besides the use of  *C. glutamicum* for the production of L-tryptophan[7], [31], the production of violacein[32]  and brominated L-tryptophan[33] underline the potential of *C. glutamicum* as cell-factory of L-tryptophan derived compounds and thus was selected as promising candidate for the production of L-tryptophan derived psilocybin. \n"
   ]
  },
  {
   "cell_type": "markdown",
   "metadata": {},
   "source": [
    "## 2. Problem definition (<300 words)"
   ]
  },
  {
   "cell_type": "markdown",
   "metadata": {},
   "source": [
    "It is desired to modify the host cell to adapt it for production of a new compound. In order to achieve this a model for *Corynebacterium glutamicum* (iCW773) [1] is modified, by the addition of a synthetic pathway, to allow the production of psilocybin, a hallucinogenic compound, which is currently seen as promising future medicine in order to treat depressions and other mental afflictions. \n",
    "For implementation of the synthetic pathway we are introducing a series of enzymatic reactions, which were already reported and successfully implemented to *S. cerevisiae*[2]. The synthetic pathways starts from the amino-acid L-tryptophan, which is naturally present in *C. glutamicum*. Previously, *C. glutamicum* was successfully used for the production of L-tryptophan derived products, such as violacein or brominated L-tryptophan[3], [4]. Thus, the production of psilocybin from L-tryptophan was selected as promising strategy for this project.\n",
    "This project is not only aiming for adding psilocybin as new product to the portfolio of *C. glutamicum*, but also intends to optimize the production rate and yield for psilocybin. Optimally, *C. glutamicum* shows higher potential for the production of psilocybin than previously engineered cell-factories such as *S. cerevisiae* or *E.coli*[2], [5]. \n",
    "\n"
   ]
  },
  {
   "cell_type": "markdown",
   "metadata": {},
   "source": [
    "## 3. Project category II: Selection and assessment of existing GSM (<500 words)"
   ]
  },
  {
   "cell_type": "markdown",
   "metadata": {},
   "source": [
    "As stated before, C. glutamicum is a common industrial workhorse used for a wide range of applications. Therefore, some efforts have been made to simulate this organism in silico for valuable compounds’ yield prediction. The first genome-scale model of C. glutamicum was published by Kjeldsen and Nielsen in 2009 for the strain ATCC 13032. This model comprised 446 reactions and 411 metabolites. Although comparable flux values between in silico and experimental values were seen, some differences in the phenotypic behavior were observed [1]. Yohei and collaborators made a new GSM for the same strain. Their metabolic network included 277 genes, 502 metabolic reactions, and 423 metabolites. This model was curated thoroughly, i.e., it was not just a collection of all publicly available data. Furthermore, the researchers stated that their model simulated different oxygen uptake rates better than the previous GSM published [2]. \n",
    "\n",
    "In the other hand, there is another strain of C. glutamicum that has been used as a workhorse, namely, S9114. This strain is used for glutamate production due to its particularly high resistance to sugars and glutamate. Mei et al., made a tailored GSM for this strain due that previous GSMs lacking a complete glutamate metabolic pathway. Therefore, none of the two models could be used to study glutamate metabolism. The model, named iJM658, comprised 658 genes, 984 metabolites and 1065 reactions [3]. It was used to predict essential genes, investigate glutamate metabolism, and evaluate the capacity of g-aminobutyrate and l-isoleucine production by S9114. \n",
    "\n",
    "The last GSM described for C. glutamicum was published in 2017 by Zhang and collaborators [4]. They updated the previous model of the C. glutamicum ATCC 13032 metabolic network reconstruction. This new model, named iCW773, consisted of 773 genes, 950 metabolites, and 1207 reactions. It supplemented 496 gene-protein reaction associations, refined five lumped reactions, balanced the mass and charge, and constrained the directionality of reactions. Furthermore, overproduction simulations for L-lysine, 1,2-propanediol, isobutanol, as well as de novo L-proline overproducing strain were highly consistent with experimental data. Moreover, this model has been used lately to simulate production of trans-4-hydroxyproline [5] and hyaluronic acid [6], and decoupling L-serine catabolism from cell growth [7]. \n",
    "\n",
    "Despite of the fact that many GSMs are published for C. glutamicum, we could only have access to iCW773 and iJM658. However, only iCW773 was readable by COBRApy package and suitable to perform a MEMOTE analysis [8]. In Table 1 all models are summarized.  "
   ]
  },
  {
   "cell_type": "markdown",
   "metadata": {},
   "source": [
    "Table 1. *Corynebacterium glutamicum* models available on literature and their specifications.\n",
    "\n",
    "| Model | Strain | Genes | Metabolite | Reactions | References | .xml file available |\n",
    "|:-:|:-:|:-:|:-:|:-:|:-:|:-:|\n",
    "| ModelCg1 | ATCC 13032 | - | 441 | 446 | X | No |\n",
    "| ModelCg2 | ATCC 13032 | 277 | 502 | 426 | Y | No |\n",
    "| iJM658 | S9114 | 658 | 984 | 1065 | Z | Yes |\n",
    "| iCW773 | ATCC 13032 | 773 | 950 | 1207 | XX | Yes |"
   ]
  },
  {
   "cell_type": "markdown",
   "metadata": {},
   "source": [
    "Regarding MEMOTE analysis, we observed an overall consistency score of 49 %, where stoichiometric consistency, mass balance, charge balance, metabolite connectivity and unbound flux in default medium were 0.0 %, 96.9 %, 100 %, 100 % and 44.4 %, respectively. The most worrisome fact is the stoichiometric consistency, because it means that this model might have at least one reaction with un-conserved metabolites. Nevertheless, the model is good enough to work with it due to it having the highest scores in mass and charge balance, as well as metabolite connectivity. In addition, this model has a metabolic coverage of 1.56, meaning that it has an elevated level of detail. In Table 2 details of MEMOTE analysis for iCW773 are summarized. \n"
   ]
  },
  {
   "cell_type": "markdown",
   "metadata": {},
   "source": [
    "Table 2. MEMOTE analysis of C. glutamicum model iCW773. \n",
    "\n",
    "| Model | Total score (%) | Metabolic coverage | Consistency score (%) | Annotation-metabolites score (%) | Annotation-reactions score (%) |\n",
    "|:-:|:-:|:-:|:-:|:-:|:-:|\n",
    "| iCW773 | 23 | 1.56 | 49 | 25 | 25 |"
   ]
  },
  {
   "cell_type": "markdown",
   "metadata": {},
   "source": [
    "Since the original iCW773.xml file resulted in quite a high number of \"not a valid SBML 'STd'\", we changed \"-\" to \"_\" for the metabolites, which caused the error message. e.g. we changed trp-L_c to trp_L_e. This could solve all the errors. Afterwards we run a memote anaysis to verify, that nothing was broken by doing this. The iCW773 model, which resulted from this is called iCW773_test7."
   ]
  },
  {
   "cell_type": "markdown",
   "metadata": {},
   "source": [
    "## 4. Computer-Aided Cell Factory Engineering (<1500 words if Category II project; <500 words for Category I project)"
   ]
  },
  {
   "cell_type": "markdown",
   "metadata": {},
   "source": [
    "### Cell engineering strategies tested for the production of psilocybin in *C. glutamicum*\n",
    "Different strategies were used in order to achieve and optimize the production of psilocybin via *C. glutamicum*. All tested strategies are summarized in the table below (Table 3).\n",
    "\n",
    "Table 3. Strategies tested for engineering *C. glutamicum* toward the production of psilocybin. \n",
    "\n",
    "| Strategy|  Succesfull? (y: yes, n: no) | \n",
    "|:-:|:-:|\n",
    "| Addition of heterologous pathways | y | \n",
    "|Prediction of alternative pathways|n|\n",
    "|Production rate overview and adjusting media|y+n|\n",
    "|Phenotypic phase plane analysis|y|\n",
    "|Identification of overexpression and downregulation targets|y|\n",
    "|Testing manually selected targets for up- and downregulation|y+n|\n",
    "|OptGene and OptKnock|n|\n",
    "|Identifying co-factor swap targets|n|\n",
    "|Bottleneck Investigation|y|\n",
    "\n"
   ]
  },
  {
   "cell_type": "markdown",
   "metadata": {},
   "source": [
    "#### 4.1 Addition of heterologous pathway\n",
    "In order to enable psilocybin production with *C. glutamicum* using the model iCW773 the following pathway and respective enzymatic reactions were added to iCW773_test7 (Figure 4). Previously, this pathway was already successfully introduced to *S. cerevisiae*. The metabolite L-tryptophan was already present in the model iCW773.\n",
    "\n",
    "![Heterologous pathway](Pictures/Psilocybin_All_reactions.png \"Heterologous pathway\")\n",
    "Figure 4 - Heterologous pathway for the production of psilocybin introduced to the model iCW773."
   ]
  },
  {
   "cell_type": "code",
   "execution_count": 2,
   "metadata": {},
   "outputs": [
    {
     "data": {
      "text/html": [
       "<a href='1._Add_Psilocybin_to_Coynebacterium_Model.ipynb' target='_blank'>1._Add_Psilocybin_to_Coynebacterium_Model.ipynb</a><br>"
      ],
      "text/plain": [
       "C:\\Users\\runed\\Desktop\\group-assignment-2021-Group-13-Psilocybin-production-in-Corynebacterium-glutamicum\\1._Add_Psilocybin_to_Coynebacterium_Model.ipynb"
      ]
     },
     "execution_count": 2,
     "metadata": {},
     "output_type": "execute_result"
    }
   ],
   "source": [
    "FileLink(\"1._Add_Psilocybin_to_Coynebacterium_Model.ipynb\")"
   ]
  },
  {
   "cell_type": "markdown",
   "metadata": {},
   "source": [
    "#### 4.2 Prediction of alternative pathways\n",
    "\n"
   ]
  },
  {
   "cell_type": "markdown",
   "metadata": {},
   "source": [
    "The Cameo packages offers the possibility to search for alternative pathways for the production of a desired product. When we used the algorithm, our search resulted in no suggested pathway. This was due to the fact, that psilocybin is not included in the pathway_predictor_obj.universal_model.metabolites, which the algorithm is using for its search. Thus, it was continued with the heterologous psilocybin pathway, which was used previously for psilocybin production in *S. cerevisiae*."
   ]
  },
  {
   "cell_type": "code",
   "execution_count": 3,
   "metadata": {},
   "outputs": [
    {
     "data": {
      "text/html": [
       "Path (<tt>5._Predict_heterologous_pathways.ipynb</tt>) doesn't exist. It may still be in the process of being generated, or you may have the incorrect path."
      ],
      "text/plain": [
       "C:\\Users\\runed\\Desktop\\group-assignment-2021-Group-13-Psilocybin-production-in-Corynebacterium-glutamicum\\5._Predict_heterologous_pathways.ipynb"
      ]
     },
     "execution_count": 3,
     "metadata": {},
     "output_type": "execute_result"
    }
   ],
   "source": [
    "FileLink(\"5._Predict_heterologous_pathways.ipynb\")"
   ]
  },
  {
   "cell_type": "markdown",
   "metadata": {},
   "source": [
    "#### 4.3 Production rate overview and adjusting media"
   ]
  },
  {
   "cell_type": "markdown",
   "metadata": {},
   "source": [
    "The calculation of the max. psilocybin production rate and max yield for production with media set within the model (iCW773) is depicted in the table below.\n",
    "\n",
    "| Max. psi production [mmol gDW^-1 h^-1] | 5.69299883708285e-05 |\n",
    "|:-:|:-:|\n",
    "| Theoretical max. yield [mmol-psi / mmol-gl] | 1.3830396904616058e-05 |\n",
    "\n",
    "Thus, just the itroduction of the psilocybin pathway results in a low max. production rate and theoretical max. yield.\n",
    "\n",
    "In order to optimize this, the medium was modified by addition of both, either tryptophan and serine or a bunch of other amino acids, imitating production on complex medium. None of the applied changes in the medium resulted in an increase of the max. psilocybin production. This could be a first indication, that the model iCW773 is not suited for simulating the production of psilocybin in *C. glutamicum*, since the exchange function for the amino acids were already present in the model.\n"
   ]
  },
  {
   "cell_type": "code",
   "execution_count": 4,
   "metadata": {},
   "outputs": [
    {
     "data": {
      "text/html": [
       "Path (<tt>4._Production_Rate_Overview.ipynb</tt>) doesn't exist. It may still be in the process of being generated, or you may have the incorrect path."
      ],
      "text/plain": [
       "C:\\Users\\runed\\Desktop\\group-assignment-2021-Group-13-Psilocybin-production-in-Corynebacterium-glutamicum\\4._Production_Rate_Overview.ipynb"
      ]
     },
     "execution_count": 4,
     "metadata": {},
     "output_type": "execute_result"
    }
   ],
   "source": [
    "FileLink(\"4._Production_Rate_Overview.ipynb\")"
   ]
  },
  {
   "cell_type": "markdown",
   "metadata": {},
   "source": [
    "#### 4.5 Phenotypic phase plane analysis"
   ]
  },
  {
   "cell_type": "markdown",
   "metadata": {},
   "source": [
    "A phenotype phase plane analysis was performed in the form of production envelopes. These were used to identify the effect of altered medium composition on the production of psilocybin and growth rate. \n",
    "\n",
    "Of primary interest was glucose and oxygen, but additional components were investigated, in the form of ammonia, sulfate, phosphate, water, potassium, sodium, and carbon dioxide. \n",
    "\n",
    "Oxygen:\n",
    "\n",
    "![Graph 1](Pictures/Graph1.png \"Graph 1\") ![Graph 2](Pictures/Graph2.png \"Graph 2\")"
   ]
  },
  {
   "cell_type": "markdown",
   "metadata": {},
   "source": [
    "Figure 5 - Oxygen compared to Psilocybin production and growth rate"
   ]
  },
  {
   "cell_type": "markdown",
   "metadata": {},
   "source": [
    "The growth rate varies due to the presence of oxygen, as would be expected, and will not work anaerobically under the present medium composition. The psilocybin flux, interestingly, seems to have some other bottleneck. The production rate quickly reaches a constant production rate, as soon as it has the necessary oxygen for production to happen, and as long as there is not enough to produce oxygen toxicity. \n",
    "\n",
    "Glucose:\n",
    "\n",
    "![Graph 3](Pictures/Graph3.png \"Graph 3\") ![Graph 4](Pictures/Graph4.png \"Graph 4\")"
   ]
  },
  {
   "cell_type": "markdown",
   "metadata": {},
   "source": [
    "Figure 6 - Glucose compared to Psilocybin production and growth rate"
   ]
  },
  {
   "cell_type": "markdown",
   "metadata": {},
   "source": [
    "The growth rate reaches a maximum point at sufficient glucose uptake. This likely reflects a divergence of carbon to other sources. Psilocybin production remains high until the point where a negative growth rate would be reached.  \n",
    "\n",
    "Other factors: \n",
    "\n",
    "Most factors proved to be uninteresting. Ammonia, sulfate, and potassium produced similar psilocybin production rate graphs as oxygen, where it only had to be present in sufficient quantities to be useful. Sodium would not give a result outside of a table, where it seemed to require small concentrations. \n",
    "\n",
    "Potassium had a negative effect on production rate, likely reflecting changes to the ion and cofactor composition of the cell. However, potassium has an effect on osmotic pressure, which could also be the reason for the impact on the production rate.\n",
    "\n",
    "![Graph 5](Pictures/Graph5.png \"Graph 5\")"
   ]
  },
  {
   "cell_type": "markdown",
   "metadata": {},
   "source": [
    "Figure 7 - Potassium compared to Psilocybin production rate"
   ]
  },
  {
   "cell_type": "markdown",
   "metadata": {},
   "source": [
    "Meanwhile, carbon dioxide and water were produced by the cell. "
   ]
  },
  {
   "cell_type": "code",
   "execution_count": 5,
   "metadata": {},
   "outputs": [
    {
     "data": {
      "text/html": [
       "Path (<tt>3._Phenotype_Phase_Plane_Psilocybin.ipynb</tt>) doesn't exist. It may still be in the process of being generated, or you may have the incorrect path."
      ],
      "text/plain": [
       "C:\\Users\\runed\\Desktop\\group-assignment-2021-Group-13-Psilocybin-production-in-Corynebacterium-glutamicum\\3._Phenotype_Phase_Plane_Psilocybin.ipynb"
      ]
     },
     "execution_count": 5,
     "metadata": {},
     "output_type": "execute_result"
    }
   ],
   "source": [
    "FileLink(\"3._Phenotype_Phase_Plane_Psilocybin.ipynb\")"
   ]
  },
  {
   "cell_type": "markdown",
   "metadata": {},
   "source": [
    "#### 4.6 Identification of overexpression and downregulation targets\t"
   ]
  },
  {
   "cell_type": "markdown",
   "metadata": {},
   "source": [
    "Table 4: Upregulated targets and the respective psilocybin production rates.\n",
    "\n",
    "|reaction_id|\treaction_name|\tpsilocybin_production [mmol/gDW*h], when over-produced|\n",
    "|:-:|:-:|:-:|\n",
    "|ACHMSC|\tACHMSC|\t0.566093|\n",
    "|PPA\t|inorganic diphosphatase|\t0.019372|\n",
    "|MTHFR2|\t5,10_Methylenetetrahydrofolate reductase (NADH)|\t0.283047|\n",
    "|GLNS\t|glutamine synthetase\t|0.019372|\n",
    "|CYSTL\t|cystathionine b_Lyase|\t0.283047|\n",
    "|HSST\t|homoserine O-acetyltransferase|\t0.283047|\n",
    "|METS\t|methionine synthase\t|0.283047|\n",
    "|GK1\t|guanylate kinase (GMP:ATP)\t|0.309959|\n",
    "|GTPHs\t|GTP amine hydrolysis (spontaneous)|\t0.019372|\n",
    "|NTPP11\t|Nucleoside triphosphate pyrophosphorylase (xtp)\t|0.309959|\n",
    "|NADPHQR2\t|NADPH Quinone Reductase (Ubiquinone-8)|\t0.783052|\n",
    "|GMPS2\t|GMP synthase\t|0.309959|\n"
   ]
  },
  {
   "cell_type": "code",
   "execution_count": 6,
   "metadata": {},
   "outputs": [
    {
     "data": {
      "text/html": [
       "Path (<tt>8._FSEOF.ipynb</tt>) doesn't exist. It may still be in the process of being generated, or you may have the incorrect path."
      ],
      "text/plain": [
       "C:\\Users\\runed\\Desktop\\group-assignment-2021-Group-13-Psilocybin-production-in-Corynebacterium-glutamicum\\8._FSEOF.ipynb"
      ]
     },
     "execution_count": 6,
     "metadata": {},
     "output_type": "execute_result"
    }
   ],
   "source": [
    "FileLink(\"8._FSEOF.ipynb\")"
   ]
  },
  {
   "cell_type": "markdown",
   "metadata": {},
   "source": [
    "Identified targets were further tested for upregulation. This was done within the Jupyter notebook for Manually_selected_targets (last section of code) (see link below). The upregulation was forced by setting the lower bound of the respective target equal to the upper bound. The numbers of the bounds were not changed, because most of them seemed quite realistic (e.g. 7.6788487). The gene modulation by upregulation of single targets did not result in higher production rates of psilocybin. The simultaneous upregulation of multiple targets was not covered within this project. Also, the modification of multiple targets will result in laborious cloning work."
   ]
  },
  {
   "cell_type": "code",
   "execution_count": 7,
   "metadata": {},
   "outputs": [
    {
     "data": {
      "text/html": [
       "Path (<tt>Manually_selected_targets.ipynb</tt>) doesn't exist. It may still be in the process of being generated, or you may have the incorrect path."
      ],
      "text/plain": [
       "C:\\Users\\runed\\Desktop\\group-assignment-2021-Group-13-Psilocybin-production-in-Corynebacterium-glutamicum\\Manually_selected_targets.ipynb"
      ]
     },
     "execution_count": 7,
     "metadata": {},
     "output_type": "execute_result"
    }
   ],
   "source": [
    "FileLink(\"Manually_selected_targets.ipynb\") "
   ]
  },
  {
   "cell_type": "markdown",
   "metadata": {},
   "source": [
    "#### 4.7 Testing manually selected targets for overexpression and downregulation"
   ]
  },
  {
   "cell_type": "markdown",
   "metadata": {},
   "source": [
    "Since none of the strategies for the optimization of psilocybin production resulted in an increase towards psilocybin, manual selected targets, all related to L-tryptophan, were tested for their potential as gene modification strategy. They were tested for both, knock-out and upregulation. The table below summarizes the respective effects on the psilocybin production. "
   ]
  },
  {
   "cell_type": "markdown",
   "metadata": {},
   "source": [
    "\n",
    "|number|reaction_id\t|psilocybin_production [mmol/gDW*h], when knocked out\t| psilocybin_production [mmol/gDW*h], when over-produced|\n",
    "|:-:|:-:|:-:|:-:|\n",
    "|0|\tTRPabcpp|\t0.000057|\t0.000000e+00|\n",
    "|1|\tTRPt2rpp|\t0.000057|\t5.692999e-05|\n",
    "|2\t|TRPTRS\t|0.000057\t|5.692999e-05|\n",
    "|3\t|TRPS1\t|0.000057\t|5.692999e-05|\n",
    "|4\t|TRPS2\t|0.000057\t|5.692999e-05|\n",
    "|5\t|PROTEIN|\t0.000057\t|3.523657e-19|\n",
    "|6\t|CrTdc\t|0.000000\t|5.692999e-05|"
   ]
  },
  {
   "cell_type": "markdown",
   "metadata": {},
   "source": [
    "Unfortunately, this strategy also did not result in an increased production of psilocybin. In needs to be taken into account, that here just the modification of single targets is tested. A combination of knock-outs and up-regulation of targets (either computationally predicted or selected manually) might result in an increase towards the product."
   ]
  },
  {
   "cell_type": "code",
   "execution_count": 8,
   "metadata": {},
   "outputs": [
    {
     "data": {
      "text/html": [
       "Path (<tt>Manually_selected_targets.ipynb</tt>) doesn't exist. It may still be in the process of being generated, or you may have the incorrect path."
      ],
      "text/plain": [
       "C:\\Users\\runed\\Desktop\\group-assignment-2021-Group-13-Psilocybin-production-in-Corynebacterium-glutamicum\\Manually_selected_targets.ipynb"
      ]
     },
     "execution_count": 8,
     "metadata": {},
     "output_type": "execute_result"
    }
   ],
   "source": [
    "FileLink(\"Manually_selected_targets.ipynb\")"
   ]
  },
  {
   "cell_type": "markdown",
   "metadata": {},
   "source": [
    "#### 4.8 OptGene, OptKnock and Co-factor swapping\n",
    "As further strategies, the functions OptGene, OptKnock and Co-factor swapping from the python package Cameo were tested.\n",
    "\n",
    "**OptGene:** \n",
    "\n",
    "In the attempt to improve the Psilocybin production, an attempt at gene optimization was carried out. The cobrapy optgene function creates random mutations and then checks if the mutation optimized the production of the desired product. We tried multiple times with different number of iteration and numbers of mutation, but it yielded no results.\n",
    "\n",
    "A good strategy if optimization yields no results is trying to run the optimization under anaerobic condition. Corynebacterium is able to grow under anaerobic condition, however, our model didn't agrees with this. For some reason, the model estimated no growth when oxygen was not present and for this reason we couldn't run an optgene under anaerobic condition."
   ]
  },
  {
   "cell_type": "code",
   "execution_count": 9,
   "metadata": {
    "scrolled": true
   },
   "outputs": [
    {
     "data": {
      "text/html": [
       "Path (<tt>7_Gene_Optimization.ipynb</tt>) doesn't exist. It may still be in the process of being generated, or you may have the incorrect path."
      ],
      "text/plain": [
       "C:\\Users\\runed\\Desktop\\group-assignment-2021-Group-13-Psilocybin-production-in-Corynebacterium-glutamicum\\7_Gene_Optimization.ipynb"
      ]
     },
     "execution_count": 9,
     "metadata": {},
     "output_type": "execute_result"
    }
   ],
   "source": [
    "FileLink(\"7_Gene_Optimization.ipynb\")"
   ]
  },
  {
   "cell_type": "markdown",
   "metadata": {},
   "source": [
    "**OptKnock**\n",
    "\n",
    "As with Optgene, Optknock attempt to improve the production of the desired product. However, contrary to Optgene, Optknock doesn't optimize genes, but completely knocksout non-essential genes in the hope, that it will increase the flux towards the desired product. We tried running the Optknock command, but as with Optgene no results came up."
   ]
  },
  {
   "cell_type": "code",
   "execution_count": 10,
   "metadata": {},
   "outputs": [
    {
     "data": {
      "text/html": [
       "Path (<tt>7_Gene_Optimization.ipynb</tt>) doesn't exist. It may still be in the process of being generated, or you may have the incorrect path."
      ],
      "text/plain": [
       "C:\\Users\\runed\\Desktop\\group-assignment-2021-Group-13-Psilocybin-production-in-Corynebacterium-glutamicum\\7_Gene_Optimization.ipynb"
      ]
     },
     "execution_count": 10,
     "metadata": {},
     "output_type": "execute_result"
    }
   ],
   "source": [
    "FileLink(\"7_Gene_Optimization.ipynb\")"
   ]
  },
  {
   "cell_type": "markdown",
   "metadata": {},
   "source": [
    "**Co-factor swapping** \n",
    "\n",
    "Co-factors are essential for many metabolic enzymes in order to function properly. Furthermore keeping the balance between co-factors is important for homeostasis. This balance could be unfavorable for metabolic engineering. A good example for such a balance are the co-factors NAD+/NADH and NADP+/NADPH. Actually, there are several enzymes reported to be able to use both as co-factors. Furthermore, it’s possible to engineer enzymes towards use of both co-factor or to change their preference towards another co-factor. In order to identify targets, where co-factor swapping would result in higher production of psilocybin, we tried Cameo’s Co-factor swapping algorithm. As this did not result in any suggested targets, co-factor swapping seems to be no promising strategy for our product, psilocybin. "
   ]
  },
  {
   "cell_type": "code",
   "execution_count": 11,
   "metadata": {
    "scrolled": true
   },
   "outputs": [
    {
     "data": {
      "text/html": [
       "Path (<tt>6._Cofactor_swapping.ipynb</tt>) doesn't exist. It may still be in the process of being generated, or you may have the incorrect path."
      ],
      "text/plain": [
       "C:\\Users\\runed\\Desktop\\group-assignment-2021-Group-13-Psilocybin-production-in-Corynebacterium-glutamicum\\6._Cofactor_swapping.ipynb"
      ]
     },
     "execution_count": 11,
     "metadata": {},
     "output_type": "execute_result"
    }
   ],
   "source": [
    "FileLink(\"6._Cofactor_swapping.ipynb\")"
   ]
  },
  {
   "cell_type": "markdown",
   "metadata": {},
   "source": [
    "None of the algorithms OptGene, OptKnock and Co-factor swapping did result in any identified targets for gene modulation. "
   ]
  },
  {
   "cell_type": "markdown",
   "metadata": {},
   "source": [
    "#### 4.9 Bottleneck Investigation\n",
    "\n",
    "A cursory investigation of the reactions limiting the rate of psilocybin production was completed. Comparing the rate of production of each metabolite from tryptophan to psilocybin, by setting individual demand-functions and model objective targets, it was found that baeocystin production was limiting. The reaction in question converted S‐Adenosyl‐l‐Methionine (SAM) and norbaeocystin to S‐Adenosyl‐l‐homocysteine (SAH) and baeocystin.  \n",
    "\n",
    "The introduction of a SAH demand function increased the production rate from 0 to 1.1e-4 mmol/gDW/h, and it was found that model would otherwise cause SAH to accumulate.  \n",
    "\n",
    "The experimentally determined bounds for SAM production from L-methionine was found to match this production rate. It was found by increasing the upper bound, the rate of baeocystin production would increase to 0.201mmol/gDW/h. This could be further increased to 0.212mmol/gDW/h by the addition of methionine to the medium. \n",
    "\n",
    "As the production of psilocybin from baeocystin likewise required the conversion of SAM to SAH, the production rates were found to be 0.115mmol/gDW/h without methionine media, and 0.176mmol/gDW/h with. "
   ]
  },
  {
   "cell_type": "code",
   "execution_count": 12,
   "metadata": {},
   "outputs": [
    {
     "data": {
      "text/html": [
       "<a href='10._Bottleneck.ipynb' target='_blank'>10._Bottleneck.ipynb</a><br>"
      ],
      "text/plain": [
       "C:\\Users\\runed\\Desktop\\group-assignment-2021-Group-13-Psilocybin-production-in-Corynebacterium-glutamicum\\10._Bottleneck.ipynb"
      ]
     },
     "execution_count": 12,
     "metadata": {},
     "output_type": "execute_result"
    }
   ],
   "source": [
    "FileLink(\"10._Bottleneck.ipynb\")"
   ]
  },
  {
   "cell_type": "markdown",
   "metadata": {},
   "source": [
    "## 5. Discussion (<500 words)\n",
    "\n",
    "The objective of this project was the heterologous production of psilocybin as a L-tryptophan derived product. A search for pathways using the Cameo package for heterologous pathway prediction did not result in a suggested pathway[1]. This is due to the missing metabolite “psilocybin” in the pathway_predictor_obj.universal_model.metabolites. Therefore, it was continued with the published pathway introduced previously for psilocybin production in *S.cerevisiae*[2]. The heterologous pathway was added to the model iCW773[3]. The maximum production rate resulted in ~5.7e-05 mmol gDW^-1 h^-1. This seemed to be a promising starting point, since this indicated potential for optimizing the yield of psilocybin. Moreover, the model revealed that psilocybin production reached its possible maximum when the cell is not growing. This also was expected, because L-tryptophan is used by growth-related reactions such as protein production or the synthesis of tryptophan t-RNAS.\n",
    "Within this project several optimization strategies were tested such as optimization of the media via addition of amino acids or increasing the amount of glucose present in the media. Both strategies did not result in any increase of production rate. Since L-tryptophan is consumed during the first step of the heterologous psilocybin production, the addition of it to the media is expected to result in an increase of the production rate, however this did not result in an increase of psilocybin production rate. Furthermore, the python package cameo provides algorithms for the identification of potential targets for cell-factory engineering[1]. Within this project we tested OptGene, OptKnock and Co-factor swapping. All three algorithms did not return any targets. \n",
    "In order to identify targets for up- or downregulation a FSEOF analysis was performed. Overexpression of single targets was performed, by setting the lower bound equal to the higher bound. It was decided to simulate overexpression in this way, since the bounds set in the model iCW773 were set on experimental evidence. The target, which resulted in the highest increase for psilocybin production are summarized in Table 4. In total we identified 12 promising targets for upregulation.  \n",
    "The knockout of these targets, did not result in any optimization as well. As an additional approach we selected targets manually. For this, all reactions including L-tryptophan (from cytoplasm) were selected. These targets were then tested for either overexpression or knock-out, resulting in no increase of psilocybin production. \n",
    "As a final investigation, we intended to identify the bottleneck, which is limiting all our optimization approaches for the production of psilocybin using *C. glutamicum*.  In order to achieve this, we tested adding each step of the heterologous pathway as demand functions and tested whether the production of the respective metabolite turns into 0. We could identify the reactions using SAM as co-factor as bottlenecks. By looking further into this we found the boundaries for SAM production from methionine as limiting factor, since they were set to 0 and ~0.0001. By increasing the higher bound we could enable more production of psilocybin. However, this approach is not desirable, because the authors, which created iCW773 used experimental data from 13C-tracer experiments to set the bounds[3]. \n"
   ]
  },
  {
   "cell_type": "markdown",
   "metadata": {},
   "source": [
    "## 6. Conclusion (<200 words)\n",
    "\n",
    "Our report showed that it is theoretically possible to produce Psilocybin in Corynebacterium glutamicum. The initial yield of psilocybin calculated to be ~5.7e-05 mmol gDW^-1 h^-1.  \n",
    "\n",
    "Up and down regulation of genes revealed overproduction of various genes identified by FSEOF to be a promising method of increasing the production rate. The associated predicted psilocybin production rates were drastically increased to up to 0.783 mmol gDW^-1 h^-1. This was the case for upregulation of NADPH Quinone Reductase (NADPHQR2). These FSEOF-based targets were much more promising than manually selected targets and other tested optimization approaches.  \n",
    "\n",
    "Besides the identified targets for upregulation, all other approaches failed, thus we performed a deeper investigation of the potential bottleneck of our production revealed that the co-factor SAM, which is used for two steps of the heterologous pathway is limiting production. The bounds for synthesis of SAM from methionine are set to a low level (0 and 0.0001), but based on experimental data, and thus could be easily optimized within this project. However, the code used in our report could still be useful for a future study, as a new version of the Corynebacterium glutamicum model was recently published from Feierabend et al 2021 (iCGB21FR). Interestingly Feierabend et al., 2021 commented on iCW773 as a model to be used with caution due to reconstruction inconsistencies and incorrect metabolites. The approach of producing psilocybin via the cell-factory C. glutamicum could be further investigated in a future project by using the new “high-quality” model iCGB21FR [4]. "
   ]
  },
  {
   "cell_type": "markdown",
   "metadata": {},
   "source": [
    "## References"
   ]
  },
  {
   "cell_type": "markdown",
   "metadata": {},
   "source": [
    "#### References for Introduction part: \"Literature review of the cell factory\":\n",
    "1. \tWendisch VF. Metabolic engineering advances and prospects for amino acid production. Metab Eng. 2020;58. doi:10.1016/j.ymben.2019.03.008 \n",
    "\n",
    "2. \tBrinkrolf K, Schröder J, Pühler A, Tauch A. The transcriptional regulatory repertoire of Corynebacterium glutamicum: Reconstruction of the network controlling pathways involved in lysine and glutamate production. J Biotechnol. 2010;149(3). doi:10.1016/j.jbiotec.2009.12.004 \n",
    "\n",
    "3. \tSchultz C, Niebisch A, Gebel L, Bott M. Glutamate production by Corynebacterium glutamicum: Dependence on the oxoglutarate dehydrogenase inhibitor protein OdhI and protein kinase PknG. Appl Microbiol Biotechnol. 2007;76(3). doi:10.1007/s00253-007-0933-9 \n",
    "\n",
    "4. \tEggeling L, Bott M. A giant market and a powerful metabolism: l-lysine provided by Corynebacterium glutamicum. Appl Microbiol Biotechnol. 2015. doi:10.1007/s00253-015-6508-2 \n",
    "\n",
    "5. \tBecker J, Zelder O, Häfner S, Schröder H, Wittmann C. From zero to hero-Design-based systems metabolic engineering of Corynebacterium glutamicum for l-lysine production. Metab Eng. 2011;13(2). doi:10.1016/j.ymben.2011.01.003 \n",
    "\n",
    "6. \tPark SH, Kim HU, Kim TY, Park JS, Kim SS, Lee SY. Metabolic engineering of Corynebacterium glutamicum for L-arginine production. Nat Commun. 2014;5. doi:10.1038/ncomms5618 \n",
    "\n",
    "7. \tBampidis V, Azimonti G, de Lourdes Bastos M, et al. Safety and efficacy of l-tryptophan produced by fermentation with Corynebacterium glutamicum KCCM 80176 for all animal species. EFSA J. 2019;17(6). doi:10.2903/j.efsa.2019.5729 \n",
    "\n",
    "8. \tWieschalka S, Blombach B, Bott M, Eikmanns BJ. Bio-based production of organic acids with Corynebacterium glutamicum. Microb Biotechnol. 2013;6(2). doi:10.1111/1751-7915.12013 \n",
    "\n",
    "9. \tTsuge Y, Hasunuma T, Kondo A. Recent advances in the metabolic engineering of Corynebacterium glutamicum for the production of lactate and succinate from renewable resources. J Ind Microbiol Biotechnol. 2015;42(3). doi:10.1007/s10295-014-1538-9 \n",
    "\n",
    "10. \tKogure T, Inui M. Recent advances in metabolic engineering of Corynebacterium glutamicum for bioproduction of value-added aromatic chemicals and natural products. Appl Microbiol Biotechnol. 2018;102(20). doi:10.1007/s00253-018-9289-6 \n",
    "\n",
    "11. \tSiebert D, Wendisch VF. Metabolic pathway engineering for production of 1,2-propanediol and 1-propanol by Corynebacterium glutamicum. Biotechnol Biofuels. 2015;8(1). doi:10.1186/s13068-015-0269-0 \n",
    "\n",
    "12. \tBecker J, Rohles CM, Wittmann C. Metabolically engineered Corynebacterium glutamicum for bio-based production of chemicals, fuels, materials, and healthcare products. Metab Eng. 2018;50. doi:10.1016/j.ymben.2018.07.008 \n",
    "\n",
    "13. \tWolf S, Becker J, Tsuge Y, et al. Advances in metabolic engineering of Corynebacterium glutamicum to produce high-value active ingredients for food, feed, human health, and well-being. Essays Biochem. 2021;65(2). doi:10.1042/EBC20200134 \n",
    "\n",
    "14. \tFreudl R. Beyond amino acids: Use of the Corynebacterium glutamicum cell factory for the secretion of heterologous proteins. J Biotechnol. 2017;258. doi:10.1016/j.jbiotec.2017.02.023 \n",
    "\n",
    "15. \tBlombach B, Seibold GM. Carbohydrate metabolism in Corynebacterium glutamicum and applications for the metabolic engineering of l-lysine production strains. Appl Microbiol Biotechnol. 2010;86(5):1313-1322. doi:10.1007/s00253-010-2537-z \n",
    "\n",
    "16. \tKawaguchi H, Yoshihara K, Hara KY, Hasunuma T, Ogino C, Kondo A. Metabolome analysis-based design and engineering of a metabolic pathway in Corynebacterium glutamicum to match rates of simultaneous utilization of d-glucose and l-arabinose. Microb Cell Fact. 2018;17(1):1-16. doi:10.1186/s12934-018-0927-6 \n",
    "\n",
    "17. \tBecker J, Kuhl M, Kohlstedt M, Starck S, Wittmann C. Metabolic engineering of Corynebacterium glutamicum for the production of cis, cis-muconic acid from lignin. Microb Cell Fact. 2018;17(1). doi:10.1186/s12934-018-0963-2 \n",
    "\n",
    "18. \tBecker J, Wittmann C. Bio-based production of chemicals, materials and fuels - Corynebacterium glutamicum as versatile cell factory. Curr Opin Biotechnol. 2012;23(4). doi:10.1016/j.copbio.2011.11.012 \n",
    "\n",
    "19. \tBecker J, Wittmann C. Advanced biotechnology: Metabolically engineered cells for the bio-based production of chemicals and fuels, materials, and health-care products. Angew Chemie - Int Ed. 2015;54(11). doi:10.1002/anie.201409033 \n",
    "\n",
    "20. \tErratum: The actinobacterium corynebacterium glutamicum, an industrial workhorse (J. Microbiol. Biotechnol, (2016) 26, 5, (807-822), 10.4014/jmb.1601.01053). J Microbiol Biotechnol. 2016;26(7). doi:10.4014/jmb.2016.2607.1341 \n",
    "\n",
    "21. \tBayan N, Houssin C, Chami M, Leblon G. Mycomembrane and S-layer: Two important structures of Corynebacterium glutamicum cell envelope with promising biotechnology applications. J Biotechnol. 2003;104(1-3). doi:10.1016/S0168-1656(03)00163-9 \n",
    "\n",
    "22. \tPuech V, Chami M, Lemassu A, et al. Structure of the cell envelope of corynebacteria: Importance of the non-covalently bound lipids in the formation of the cell wall permeability barrier and fracture plane. Microbiology. 2001;147(5). doi:10.1099/00221287-147-5-1365 \n",
    "\n",
    "23. \tYim SS, An SJ, Choi JW, Ryu AJ, Jeong KJ. High-level secretory production of recombinant single-chain variable fragment (scFv) in Corynebacterium glutamicum. Appl Microbiol Biotechnol. 2014;98(1). doi:10.1007/s00253-013-5315-x \n",
    "\n",
    "24. \tSrivastava P, Deb JK. Gene expression systems in corynebacteria. Protein Expr Purif. 2005;40(2). doi:10.1016/j.pep.2004.06.017 \n",
    "\n",
    "25. \tSun M, Gao X, Zhao Z, et al. Enhanced production of recombinant proteins in Corynebacterium glutamicum by constructing a bicistronic gene expression system. Microb Cell Fact. 2020;19(1). doi:10.1186/s12934-020-01370-9 \n",
    "\n",
    "26. \tLiu L, Yang H, Shin HD, Li J, Du G, Chen J. Recent advances in recombinant protein expression by Corynebacterium, Brevibacterium, and Streptomyces: From transcription and translation regulation to secretion pathway selection. Appl Microbiol Biotechnol. 2013;97(22). doi:10.1007/s00253-013-5250-x \n",
    "\n",
    "27. \tEggeling L, Bott M. Handbook of Corynebacterium Glutamicum.; 2005. doi:10.1201/9781420039696 \n",
    "\n",
    "28. \tAdams AM, Kaplan NA, Wei Z, et al. In vivo production of psilocybin in E. coli. Metab Eng. 2019;56. doi:10.1016/j.ymben.2019.09.009 \n",
    "\n",
    "29. \tMilne N, Thomsen P, Mølgaard Knudsen N, Rubaszka P, Kristensen M, Borodina I. Metabolic engineering of Saccharomyces cerevisiae for the de novo production of psilocybin and related tryptamine derivatives. Metab Eng. 2020;60. doi:10.1016/j.ymben.2019.12.007 \n",
    "\n",
    "30. \tLiu X, Yang Y, Zhang W, et al. Expression of recombinant protein using Corynebacterium Glutamicum: progress, challenges and applications. Crit Rev Biotechnol. 2016;36(4). doi:10.3109/07388551.2015.1004519 \n",
    "\n",
    "31. \tIkeda M, Katsumata R. Hyperproduction of tryptophan by Corynebacterium glutamicum with the modified pentose phosphate pathway. Appl Environ Microbiol. 1999;65(6). doi:10.1128/aem.65.6.2497-2502.1999 \n",
    "\n",
    "32. \tSun H, Zhao D, Xiong B, Zhang C, Bi C. Engineering Corynebacterium glutamicum for violacein hyper production. Microb Cell Fact. 2016;15(1). doi:10.1186/s12934-016-0545-0 \n",
    "\n",
    "33. \tVeldmann KH, Dachwitz S, Risse JM, Lee JH, Sewald N, Wendisch VF. Bromination of L-tryptophan in a Fermentative Process With Corynebacterium glutamicum. Front Bioeng Biotechnol. 2019;7. doi:10.3389/fbioe.2019.00219 \n",
    "\n",
    "#### References for Introduction part: \"Literature review of the compound\":\n",
    "1. \thttps://www.genome.jp/pathway/map00901+K22436 \n",
    "\n",
    "2. \thttps://en.wikipedia.org/wiki/Psilocybin#Pharmacodynamics\n",
    "\n",
    "3. \thttps://en.wikipedia.org/wiki/Psilocin\n",
    "\n",
    "4.  \thttps://en.wikipedia.org/wiki/Serotonin\n",
    "\n",
    "5.  \thttps://www.drugs.com/illicit/psilocybin.html\n",
    "\n",
    "6.  \thttps://www.globenewswire.com/en/news-release/2020/08/06/2074356/0/en/Antidepressant-Drugs-Market-to-Grow-Valuation-of-15-98-Billion-by-2023.html\n",
    "\n",
    "7.  \thttps://fortune.com/2021/09/04/psychedelic-industry-investment-growth-stocks-companies/\n",
    "\n",
    "8.  \thttps://www.nejm.org/doi/full/10.1056/NEJMoa2032994\n",
    "\n",
    "#### References for \"Model selection\"\n",
    "1. Kjeldsen KR, Nielsen J. In silico genome-scale reconstruction and validation of the Corynebacterium glutamicum metabolic network. Biotechnol Bioeng. 2009 Feb 1;102(2):583-97. doi: 10.1002/bit.22067. \n",
    "\n",
    "2. Shinfuku Y, Sorpitiporn N, Sono M, Furusawa C, Hirasawa T, Shimizu H. Development and experimental verification of a genome-scale metabolic model for Corynebacterium glutamicum. Microb Cell Fact. 2009 Aug 3;8:43. doi: 10.1186/1475-2859-8-43. \n",
    "\n",
    "3. Mei J, Xu N, Ye C, Liu L, Wu J. Reconstruction and analysis of a genome-scale metabolic network of Corynebacterium glutamicum S9114. Gene. 2016 Jan 10;575(2 Pt 3):615-22. doi: 10.1016/j.gene.2015.09.038. \n",
    "\n",
    "4. Zhang Y, Cai J, Shang X, Wang B, Liu S, Chai X, Tan T, Zhang Y, Wen T. A new genome-scale metabolic model of Corynebacterium glutamicum and its application. Biotechnol Biofuels. 2017 Jun 30;10:169. doi: 10.1186/s13068-017-0856-3. \n",
    "\n",
    "5. Zhang Y, Zhang Y, Shang X, Wang B, Hu Q, Liu S, Wen T. Reconstruction of tricarboxylic acid cycle in Corynebacterium glutamicum with a genome-scale metabolic network model for trans-4-hydroxyproline production. Biotechnol Bioeng. 2019 Jan;116(1):99-109. doi: 10.1002/bit.26818. \n",
    "\n",
    "6. Cheng F, Yu H, Stephanopoulos G. Engineering Corynebacterium glutamicum for high-titer biosynthesis of hyaluronic acid. Metab Eng. 2019 Sep;55:276-289. doi: 10.1016/j.ymben.2019.07.003. \n",
    "\n",
    "7. Zhang Y, Shang X, Lai S, Zhang Y, Hu Q, Chai X, Wang B, Liu S, Wen T. Reprogramming One-Carbon Metabolic Pathways To Decouple l-Serine Catabolism from Cell Growth in Corynebacterium glutamicum. ACS Synth Biol. 2018 Feb 16;7(2):635-646. doi: 10.1021/acssynbio.7b00373. \n",
    "\n",
    "8. Lieven C, Beber ME, Olivier BG, Bergmann FT, Ataman M, Babaei P, Bartell JA, Blank LM, Chauhan S, Correia K, Diener C, Dräger A, Ebert BE, Edirisinghe JN, Faria JP, Feist AM, Fengos G, Fleming RMT, García-Jiménez B, Hatzimanikatis V, van Helvoirt W, Henry CS, Hermjakob H, Herrgård MJ, Kaafarani A, Kim HU, King Z, Klamt S, Klipp E, Koehorst JJ, König M, Lakshmanan M, Lee DY, Lee SY, Lee S, Lewis NE, Liu F, Ma H, Machado D, Mahadevan R, Maia P, Mardinoglu A, Medlock GL, Monk JM, Nielsen J, Nielsen LK, Nogales J, Nookaew I, Palsson BO, Papin JA, Patil KR, Poolman M, Price ND, Resendis-Antonio O, Richelle A, Rocha I, Sánchez BJ, Schaap PJ, Sheriff RSM, Shoaie S, Sonnenschein N, Teusink B, Vilaça P, Vik JO, Wodke JAH, Xavier JC, Yuan Q, Zakhartsev M, Zhang C. Publisher Correction: MEMOTE for standardized genome-scale metabolic model testing. Nat Biotechnol. 2020 Apr;38(4):504. doi: 10.1038/s41587-020-0477-4. Erratum for: Nat Biotechnol. 2020 Mar;38(3):272-276. \n",
    "\n",
    "#### References for \"Problem definition\":\n",
    "1. \tZhang Y, Cai J, Shang X, et al. A new genome-scale metabolic model of Corynebacterium glutamicum and its application. Biotechnol Biofuels. 2017;10(1). doi:10.1186/s13068-017-0856-3\n",
    "2. \tMilne N, Thomsen P, Mølgaard Knudsen N, Rubaszka P, Kristensen M, Borodina I. Metabolic engineering of Saccharomyces cerevisiae for the de novo production of psilocybin and related tryptamine derivatives. Metab Eng. 2020;60. doi:10.1016/j.ymben.2019.12.007\n",
    "3. \tSun H, Zhao D, Xiong B, Zhang C, Bi C. Engineering Corynebacterium glutamicum for violacein hyper production. Microb Cell Fact. 2016;15(1). doi:10.1186/s12934-016-0545-0\n",
    "4. \tVeldmann KH, Dachwitz S, Risse JM, Lee JH, Sewald N, Wendisch VF. Bromination of L-tryptophan in a Fermentative Process With Corynebacterium glutamicum. Front Bioeng Biotechnol. 2019;7. doi:10.3389/fbioe.2019.00219\n",
    "5. \tAdams AM, Kaplan NA, Wei Z, et al. In vivo production of psilocybin in E. coli. Metab Eng. 2019;56. doi:10.1016/j.ymben.2019.09.009\n",
    "\n",
    "\n",
    "\n"
   ]
  },
  {
   "cell_type": "markdown",
   "metadata": {},
   "source": [
    "#### References used for Discussion and conclusion:\n",
    "1. \tCardoso JGR, Jensen K, Lieven C, et al. Cameo: A Python Library for Computer Aided Metabolic Engineering and Optimization of Cell Factories. ACS Synth Biol. 2018;7(4):1163-1166. doi:10.1021/acssynbio.7b00423\n",
    "2. \tMilne N, Thomsen P, Mølgaard Knudsen N, Rubaszka P, Kristensen M, Borodina I. Metabolic engineering of Saccharomyces cerevisiae for the de novo production of psilocybin and related tryptamine derivatives. Metab Eng. 2020;60. doi:10.1016/j.ymben.2019.12.007\n",
    "3. \tZhang Y, Cai J, Shang X, et al. A new genome-scale metabolic model of Corynebacterium glutamicum and its application. Biotechnol Biofuels. 2017;10(1). doi:10.1186/s13068-017-0856-3\n",
    "4. \tMartina F, Alina R, Elisabeth Z, Katharina N, Wolfgang W, Dräger A. High-Quality Genome-Scale Reconstruction of Corynebacterium glutamicum ATCC 13032. Front Microbiol. 2021;12. doi:https://doi.org/10.3389/fmicb.2021.750206\n",
    "\n",
    "\n"
   ]
  },
  {
   "cell_type": "code",
   "execution_count": null,
   "metadata": {},
   "outputs": [],
   "source": []
  }
 ],
 "metadata": {
  "kernelspec": {
   "display_name": "Python 3",
   "language": "python",
   "name": "python3"
  },
  "language_info": {
   "codemirror_mode": {
    "name": "ipython",
    "version": 3
   },
   "file_extension": ".py",
   "mimetype": "text/x-python",
   "name": "python",
   "nbconvert_exporter": "python",
   "pygments_lexer": "ipython3",
   "version": "3.8.8"
  }
 },
 "nbformat": 4,
 "nbformat_minor": 4
}
