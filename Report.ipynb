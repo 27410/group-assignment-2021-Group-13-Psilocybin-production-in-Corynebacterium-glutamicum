{
 "cells": [
  {
   "cell_type": "markdown",
   "metadata": {},
   "source": [
    "# Psilocybin production in Corynebacterium Glutamicum"
   ]
  },
  {
   "cell_type": "markdown",
   "metadata": {},
   "source": [
    "## 1. Introduction"
   ]
  },
  {
   "cell_type": "markdown",
   "metadata": {},
   "source": [
    "### 1.1 Literature review of the compound (<500 words)"
   ]
  },
  {
   "cell_type": "markdown",
   "metadata": {},
   "source": [
    "Psilocybin is a prodrug of the psychedelic active drug Psilocin. It is a common compound in many species of fungi and is known as the active ingredient in “magic mushrooms”. Psilocin is an agonist of several of the 5-HT serotonin receptors. These receptors are responsible for sensing the presence and level of serotonin, a neurotransmitter responsible for both many mental functions like mood, learning, the reward system cognition etc., but also some physiological function like vomiting. Psilocybin have shown potential as a treatment for many mental disorders regarding patients’ mood. Significant improvements to patients with depression and to patients with “existential distress”, which some cancer patients can experience during and after treatment, have been have observed after the administration of small doses of Psilocybin. "
   ]
  },
  {
   "cell_type": "markdown",
   "metadata": {},
   "source": [
    "![Structure of Psilocybin](Pictures/Psilocybin_report.png \"Structure of Psilocybin\")\n",
    "\n",
    "Figure 1 - The psychedelic prodrug Psilocybin. The phosphate group of Psilocybin is hydrolyzed in either acidic or alkaline environments, thereby converting it to the active form Psilocin."
   ]
  },
  {
   "cell_type": "markdown",
   "metadata": {},
   "source": [
    "The drug market has always been in a constant state of growth, but during the last 10 years we have observed a significant increase in the use of psychedelics as a treatment for mental affliction. Seemingly in conjunction with the liberation of some of the previously controlled drugs, it has been estimated that by year 2023 will have seen more than a doubling from 2016 in the drug market of serotonin antagonist; and this number is only expected to further increase as the world begins to open more up to the idea of treating mental illnesses with psychedelics and drug alike."
   ]
  },
  {
   "cell_type": "markdown",
   "metadata": {},
   "source": [
    "![Market of serotonin antidepressant](Pictures/Market_report.png \"Market of serotonin antidepressant\")\n",
    "\n",
    "Figure 2 - The estimated increase in the drug markets of different forms of antidepressants. Market with a red ring are the drugs using a serotonin agonist like Psilocin."
   ]
  },
  {
   "cell_type": "markdown",
   "metadata": {},
   "source": [
    "Psilocybin is a derivative of the amino acid L-Tryptophan. The conversion of L-Tryptophan requires 4 enzymes L-Tryptophan decarboxylase (L-Tryptophan → Tryptamine), Tryptamine 4-monooxygenase (Tryptamine → 4-Hydroxytryptamine), 4-Hydroxytryptamine kinase (4-Hydroxytryptamine → Norbaeocystin) and Psilocybin synthase (Norbaeocystin  → Baeocystin) (Baeocystin  → Psilocybin). Psilocybin will quickly get dephosphorylated under acidic or alkaline conditions into the active psychedelic drug Psilocin. Psilocin can be rephosphorylated back into Psilocybin by 4-Hydroxytryptamine kinase, meaning that an overexpression of the genes for 4-Hydroxytryptamine kinase can shift the equilibrium to Psilocybin. This study will attempt to design a metabolic pathway in Corynebacterium Glutamicum for the expression and production of Psilocybin. The synthetic pathway utilizes C. Glutamicum’s own metabolic pathways using substrates like starch, which enters glycolysis and is converted to phosphoenolpyruvate. Phosphoenolpyruvate then enters the Tryptophan biosynthesis where it is further converted to L-Tryptophan, which can then be converted to the desired compound, by the introduction of the beforehand mentioned enzymes."
   ]
  },
  {
   "cell_type": "markdown",
   "metadata": {},
   "source": [
    "![Metabolic pathway of Psilocybin](Pictures/Psilocybin_production_report.png \"Metabolic pathway of Psilocybi\")\n",
    "\n",
    "Figure 3 - The synthetic production of Psilocybin using the amino acid L-Tryptophan."
   ]
  },
  {
   "cell_type": "markdown",
   "metadata": {},
   "source": [
    "### 1.2 Literature review of the cell factory (<500 words)"
   ]
  },
  {
   "cell_type": "markdown",
   "metadata": {},
   "source": [
    "## 2. Problem definition (<300 words)"
   ]
  },
  {
   "cell_type": "markdown",
   "metadata": {},
   "source": [
    "## 3. *If Project category I:* Reconstruction of a new GSM for your cell factory host of interest (<1500 words)"
   ]
  },
  {
   "cell_type": "markdown",
   "metadata": {},
   "source": [
    "or"
   ]
  },
  {
   "cell_type": "markdown",
   "metadata": {},
   "source": [
    "## 3. *If Project category II:* Selection and assessment of existing GSM (<500 words)"
   ]
  },
  {
   "cell_type": "markdown",
   "metadata": {},
   "source": [
    "## 4. Computer-Aided Cell Factory Engineering (<1500 words if Category II project; <500 words for Category I project)"
   ]
  },
  {
   "cell_type": "markdown",
   "metadata": {},
   "source": [
    "## 5. Discussion (<500 words)"
   ]
  },
  {
   "cell_type": "markdown",
   "metadata": {},
   "source": [
    "## 6. Conclusion (<200 words)"
   ]
  },
  {
   "cell_type": "markdown",
   "metadata": {},
   "source": [
    "## References"
   ]
  },
  {
   "cell_type": "code",
   "execution_count": null,
   "metadata": {},
   "outputs": [],
   "source": []
  }
 ],
 "metadata": {
  "kernelspec": {
   "display_name": "Python 3",
   "language": "python",
   "name": "python3"
  },
  "language_info": {
   "codemirror_mode": {
    "name": "ipython",
    "version": 3
   },
   "file_extension": ".py",
   "mimetype": "text/x-python",
   "name": "python",
   "nbconvert_exporter": "python",
   "pygments_lexer": "ipython3",
   "version": "3.8.8"
  }
 },
 "nbformat": 4,
 "nbformat_minor": 4
}
