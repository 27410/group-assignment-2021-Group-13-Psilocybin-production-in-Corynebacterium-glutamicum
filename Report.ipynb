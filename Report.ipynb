{
 "cells": [
  {
   "cell_type": "markdown",
   "metadata": {},
   "source": [
    "# Psilocybin production in Corynebacterium Glutamicum"
   ]
  },
  {
   "cell_type": "markdown",
   "metadata": {},
   "source": [
    "## 1. Introduction"
   ]
  },
  {
   "cell_type": "markdown",
   "metadata": {},
   "source": [
    "### 1.1 Literature review of the compound (<500 words)"
   ]
  },
  {
   "cell_type": "markdown",
   "metadata": {},
   "source": [
    "Psilocybin is a prodrug of the psychedelic active drug Psilocin. It is a common compound in many species of fungi and is known as the active ingredient in “magic mushrooms”. Psilocin is an agonist of several of the 5-HT serotonin receptors. These receptors are responsible for sensing the presence and level of serotonin, a neurotransmitter responsible for both many mental functions like mood, learning, the reward system cognition etc., but also some physiological function like vomiting. Psilocybin have shown potential as a treatment for many mental disorders regarding patients’ mood. Significant improvements to patients with depression and to patients with “existential distress”, which some cancer patients can experience during and after treatment, have been have observed after the administration of small doses of Psilocybin. "
   ]
  },
  {
   "cell_type": "markdown",
   "metadata": {},
   "source": [
    "![Structure of Psilocybin](Pictures/Psilocybin_report.png \"Structure of Psilocybin\")\n",
    "\n",
    "Figure 1 - The psychedelic prodrug Psilocybin. The phosphate group of Psilocybin is hydrolyzed in either acidic or alkaline environments, thereby converting it to the active form Psilocin."
   ]
  },
  {
   "cell_type": "markdown",
   "metadata": {},
   "source": [
    "The drug market has always been in a constant state of growth, but during the last 10 years we have observed a significant increase in the use of psychedelics as a treatment for mental affliction. Seemingly in conjunction with the liberation of some of the previously controlled drugs, it has been estimated that by year 2023 will have seen more than a doubling from 2016 in the drug market of serotonin antagonist; and this number is only expected to further increase as the world begins to open more up to the idea of treating mental illnesses with psychedelics and drug alike."
   ]
  },
  {
   "cell_type": "markdown",
   "metadata": {},
   "source": [
    "![Market of serotonin antidepressant](Pictures/Market_report_small.png \"Market of serotonin antidepressant\")\n",
    "\n",
    "Figure 2 - The estimated increase in the drug markets of different forms of antidepressants. Market with a red ring are the drugs using a serotonin agonist like Psilocin.\n"
   ]
  },
  {
   "cell_type": "markdown",
   "metadata": {},
   "source": [
    "Psilocybin is a derivative of the amino acid L-Tryptophan. The conversion of L-Tryptophan requires 4 enzymes L-Tryptophan decarboxylase (L-Tryptophan → Tryptamine), Tryptamine 4-monooxygenase (Tryptamine → 4-Hydroxytryptamine), 4-Hydroxytryptamine kinase (4-Hydroxytryptamine → Norbaeocystin) and Psilocybin synthase (Norbaeocystin  → Baeocystin) (Baeocystin  → Psilocybin). Psilocybin will quickly get dephosphorylated under acidic or alkaline conditions into the active psychedelic drug Psilocin. Psilocin can be rephosphorylated back into Psilocybin by 4-Hydroxytryptamine kinase, meaning that an overexpression of the genes for 4-Hydroxytryptamine kinase can shift the equilibrium to Psilocybin. This study will attempt to design a metabolic pathway in Corynebacterium Glutamicum for the expression and production of Psilocybin. The synthetic pathway utilizes C. Glutamicum’s own metabolic pathways using substrates like starch, which enters glycolysis and is converted to phosphoenolpyruvate. Phosphoenolpyruvate then enters the Tryptophan biosynthesis where it is further converted to L-Tryptophan, which can then be converted to the desired compound, by the introduction of the beforehand mentioned enzymes."
   ]
  },
  {
   "cell_type": "markdown",
   "metadata": {},
   "source": [
    "![Metabolic pathway of Psilocybin](Pictures/Psilocybin_production_report.png \"Metabolic pathway of Psilocybi\")\n",
    "\n",
    "Figure 3 - The synthetic production of Psilocybin using the amino acid L-Tryptophan."
   ]
  },
  {
   "cell_type": "markdown",
   "metadata": {},
   "source": [
    "### 1.2 Literature review of the cell factory (<500 words)"
   ]
  },
  {
   "cell_type": "markdown",
   "metadata": {},
   "source": [
    "The gram-positive bacteria Corynebacterium glutamicum is a well-known industrial workhorse used in industrial biotechnology traditionally for the production of amino acids1, such as L-glutamate2,3, L-lysin4,5, L-arginine6 and L-trypotophan7. The product portfolio for C. glutamicum meanwhile counts more than 70 different compounds such as bulk chemicals8,9, biofuels10,11, materials12, and high-value ingredients, with applications ranging for food, feed, human health, to well-being, including signature molecules of raspberry, savoury, and orange flavors, sun blockers, anti-ageing sugars, and polymers for regenerative medicine12,13. Moreover, in recent years C. glutamicum has become an interesting host for the expression and secretion of biotechnologically or pharmaceutically relevant heterologous proteins14. However, extensive research conducted with this host revealed that it reaches high cell densities quickly, shows no autolysis and can easily be scaled-up to large scale processes13. Furthermore, it is generally recognized as safe (GRAS), allowing the synthesis of a range of products for the food and pharmaceutical industries. It is reported to utilize various carbon sources and mixtures of substrates simultaneously8,15,16. These features make C. glutamicum an excellent candidate for the use of ecologically friendly feedstock such as hydrolyzed lingo-cellulosic biomass or even waste materials for fermentations10,13,17–19. Nevertheless, it has proved to be highly tolerant towards stress, which is related to toxic compounds and other stressors13,20. This can be linked to its rather robust cell wall, which is composed of a thick glycan core21,22.  \n",
    "\n",
    "Besides various advantages of C. glutamicum as a cell-factory, there are still a few drawbacks especially when it comes to protein expression. When compared with the most used host for protein production, Escherichia coli, applying C. glutamicum as host faces problems like lower protein yield 23–25 and lower transformation efficiency26. Furthermore, in most cases C. glutamicum is transformed via a combination of electro-pulsing and heat-shock27, making transformations of this organism more costly, when compared to the possibility of chemically competent E. coli cells.  \n",
    "\n",
    "The production of the potential drug for various psychological and neurological affliction psilocybin would broaden the portfolio of products of C. glutamicum even more towards the human health area. Previously psilocybin was successfully produced by E. coli28 and S. cerevisiae29, either starting the synthetic pathway from 4-hydroxyindole or L-tryptophan, respectively. C. glutamicum is not producing endotoxins and thus gives a great advantage, when compared with E. coli cultures for the subsequent downstream processing.30 Besides the use of C. glutamicum for the production of L-tryptophan7,31, the production of violacein32  and brominated L-tryptophan33 underline the potential of C. glutamicum as cell-factory of L-tryptophan derived compounds and thus was selected as promising candidate for the production of L-tryptophan derived psilocybin.  "
   ]
  },
  {
   "cell_type": "markdown",
   "metadata": {},
   "source": [
    "## 2. Problem definition (<300 words)"
   ]
  },
  {
   "cell_type": "markdown",
   "metadata": {},
   "source": [
    "It is desired to modify the host cell to adapt it for production of new materials. A model for Corynebacterium glutamicum is modified to allow the production of psilocybin, a hallucinogenic compound, which is currently seen as promising future medicine in order to treat depressions and other mental afflictions. \n",
    "For implementation of the syntethic pathway we are introducing a series of enzymatic reactions, which were already reported and succesfully implemented to S. cerevisiae. The syntethic pathways starts from the amino-acid L-tryptophan, which is naturally present in C. glutamicum. Priviously, C. glutamicum was successfully used for the production of L-tryptophan derived products. And thus was selected for this project.\n",
    "\n",
    "It is desired to maximize the production of psylocibin while maintaining an acceptable growth rate. For this, it is desired that the production rate and yield of psylocibin in the engineered Corynebacterium should be similar to yields reported previously using S. cerevisiae or E.coli as cell-factory. \n",
    "Gene optimization methods will be applied to the cell model (iCW773) to improve the theoretical yield of the product. "
   ]
  },
  {
   "cell_type": "markdown",
   "metadata": {},
   "source": [
    "## 3. *Project category II:* Selection and assessment of existing GSM (<500 words)"
   ]
  },
  {
   "cell_type": "markdown",
   "metadata": {},
   "source": [
    "As stated before, C. glutamicum is a common industrial workhorse used for a wide range of applications. Therefore, some efforts have been made to simulate this organism in silico for valuable compounds’ yield prediction. The first genome-scale model of C. glutamicum was published by Kjeldsen and Nielsen in 2009 for the strain ATCC 13032. This model comprised 446 reactions and 411 metabolites. Although comparable flux values between in silico and experimental values were seen, some differences in the phenotypic behavior were observed [X]. Yohei and collaborators made a new GSM for the same strain. Their metabolic network included 277 genes, 502 metabolic reactions, and 423 metabolites. This model was curated thoroughly, i.e., it was not just a collection of all publicly available data. Furthermore, the researchers stated that their model simulated different oxygen uptake rates better than the previous GSM published [Y]. \n",
    "\n",
    "In the other hand, there is another strain of C. glutamicum that has been used as a workhorse, namely, S9114. This strain is used for glutamate production due to its particularly high resistance to sugars and glutamate. Mei et al., made a tailored GSM for this strain due that previous GSMs lacking a complete glutamate metabolic pathway. Therefore, none of the two models could be used to study glutamate metabolism. The model, named iJM658, comprised 658 genes, 984 metabolites and 1065 reactions [Z]. It was used to predict essential genes, investigate glutamate metabolism, and evaluate the capacity of g-aminobutyrate and l-isoleucine production by S9114. \n",
    "\n",
    "The last GSM described for C. glutamicum was published in 2017 by Zhang and collaborators [XX]. They updated the previous model of the C. glutamicum ATCC 13032 metabolic network reconstruction. This new model, named iCW773, consisted of 773 genes, 950 metabolites, and 1207 reactions. It supplemented 496 gene-protein reaction associations, refined five lumped reactions, balanced the mass and charge, and constrained the directionality of reactions. Furthermore, overproduction simulations for L-lysine, 1,2-propanediol, isobutanol, as well as de novo L-proline overproducing strain were highly consistent with experimental data. Moreover, this model has been used lately to simulate production of trans-4-hydroxyproline [YY] and hyaluronic acid [ZZ], and decoupling L-serine catabolism from cell growth [XXX]. \n",
    "\n",
    "Despite of the fact that many GSMs are published for C. glutamicum, we could only have access to iCW773 and iJM658. However, only iCW773 was readable by COBRApy package and suitable to perform a MEMOTE analysis. In Table 1 all models are summarized."
   ]
  },
  {
   "cell_type": "markdown",
   "metadata": {},
   "source": [
    "Table 1. Corynebacterium glutamicum models available on literature and their specifications.\n",
    "\n",
    "| Model | Strain | Genes | Metabolite | Reactions | References | .xml file available |\n",
    "|:-:|:-:|:-:|:-:|:-:|:-:|:-:|\n",
    "| ModelCg1 | ATCC 13032 | - | 441 | 446 | X | No |\n",
    "| ModelCg2 | ATCC 13032 | 277 | 502 | 426 | Y | No |\n",
    "| iJM658 | S9114 | 658 | 984 | 1065 | Z | Yes |\n",
    "| iCW773 | ATCC 13032 | 773 | 950 | 1207 | XX | Yes |"
   ]
  },
  {
   "cell_type": "markdown",
   "metadata": {},
   "source": [
    "Regarding MEMOTE analysis, we observed an overall consistency score of 49 %, where stoichiometric consistency, mass balance, charge balance, metabolite connectivity and unbound flux in default medium were 0.0 %, 96.9 %, 100 %, 100 % and 44.4 %, respectively. The most worrisome fact is the stoichiometric consistency, because it means that this model might have at least one reaction with un-conserved metabolites. Nevertheless, the model is good enough to work with it due to it having the highest scores in mass and charge balance, as well as metabolite connectivity. In addition, this model has a metabolic coverage of 1.56, meaning that it has an elevated level of detail. In Table 2 details of MEMOTE analysis for iCW773 are summarized. "
   ]
  },
  {
   "cell_type": "markdown",
   "metadata": {},
   "source": [
    "Table 2. MEMOTE analysis of C. glutamicum model iCW773. \n",
    "\n",
    "| Model | Total score (%) | Metabolic coverage | Consistency score (%) | Annotation-metabolites score (%) | Annotation-reactions score (%) |\n",
    "|:-:|:-:|:-:|:-:|:-:|:-:|\n",
    "| iCW773 | 23 | 1.56 | 49 | 25 | 25 |"
   ]
  },
  {
   "cell_type": "markdown",
   "metadata": {},
   "source": [
    "## 4. Computer-Aided Cell Factory Engineering (<1500 words if Category II project; <500 words for Category I project)"
   ]
  },
  {
   "cell_type": "markdown",
   "metadata": {},
   "source": [
    "## 5. Discussion (<500 words)"
   ]
  },
  {
   "cell_type": "markdown",
   "metadata": {},
   "source": [
    "## 6. Conclusion (<200 words)"
   ]
  },
  {
   "cell_type": "markdown",
   "metadata": {},
   "source": [
    "## References"
   ]
  },
  {
   "cell_type": "code",
   "execution_count": null,
   "metadata": {},
   "outputs": [],
   "source": []
  }
 ],
 "metadata": {
  "kernelspec": {
   "display_name": "Python 3",
   "language": "python",
   "name": "python3"
  },
  "language_info": {
   "codemirror_mode": {
    "name": "ipython",
    "version": 3
   },
   "file_extension": ".py",
   "mimetype": "text/x-python",
   "name": "python",
   "nbconvert_exporter": "python",
   "pygments_lexer": "ipython3",
   "version": "3.6.13"
  }
 },
 "nbformat": 4,
 "nbformat_minor": 4
}
