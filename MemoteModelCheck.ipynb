{
 "cells": [
  {
   "cell_type": "code",
   "execution_count": null,
   "id": "02d53c3a-b8d7-424f-8e94-1389a8a5063d",
   "metadata": {},
   "outputs": [],
   "source": [
    "import pandas as pd\n",
    "import matplotlib.pyplot as plt\n",
    "plt.style.use('seaborn')\n",
    "%matplotlib inline"
   ]
  },
  {
   "cell_type": "code",
   "execution_count": null,
   "id": "93326509-4080-448a-9c4b-ed5f70a0ee75",
   "metadata": {},
   "outputs": [],
   "source": [
    "from cobra.io import read_sbml_model\n",
    "model = read_sbml_model('iCW773_test7.xml')"
   ]
  },
  {
   "cell_type": "code",
   "execution_count": null,
   "id": "449f6b6e-9613-47c7-8a2c-5578bbe6bd81",
   "metadata": {},
   "outputs": [],
   "source": [
    "print(model.objective)"
   ]
  },
  {
   "cell_type": "code",
   "execution_count": null,
   "id": "77e9f932-cbbe-4f29-8007-e360b4bb1682",
   "metadata": {},
   "outputs": [],
   "source": [
    "%%time\n",
    "!memote report snapshot iCW773_test7.xml --filename iCW773_test7.html"
   ]
  },
  {
   "cell_type": "code",
   "execution_count": null,
   "id": "a2ec89d7-27ef-4314-b0cf-88649e01201d",
   "metadata": {},
   "outputs": [],
   "source": []
  },
  {
   "cell_type": "code",
   "execution_count": null,
   "id": "2c624d2b-d323-4e33-9399-1a70c086c1c8",
   "metadata": {},
   "outputs": [],
   "source": []
  },
  {
   "cell_type": "code",
   "execution_count": null,
   "id": "402e12f7-0fcf-40af-a247-fbad92ab9226",
   "metadata": {},
   "outputs": [],
   "source": []
  },
  {
   "cell_type": "code",
   "execution_count": null,
   "id": "ae5c4fc4-2884-437d-b68d-5cc9e5853781",
   "metadata": {},
   "outputs": [],
   "source": []
  },
  {
   "cell_type": "code",
   "execution_count": null,
   "id": "6516b1a3-ab45-4def-bffa-97c1d95ebee8",
   "metadata": {},
   "outputs": [],
   "source": []
  }
 ],
 "metadata": {
  "kernelspec": {
   "display_name": "Python 3",
   "language": "python",
   "name": "python3"
  },
  "language_info": {
   "codemirror_mode": {
    "name": "ipython",
    "version": 3
   },
   "file_extension": ".py",
   "mimetype": "text/x-python",
   "name": "python",
   "nbconvert_exporter": "python",
   "pygments_lexer": "ipython3",
   "version": "3.6.13"
  }
 },
 "nbformat": 4,
 "nbformat_minor": 5
}
