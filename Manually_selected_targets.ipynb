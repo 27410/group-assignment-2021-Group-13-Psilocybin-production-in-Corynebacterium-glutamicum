{
 "cells": [
  {
   "cell_type": "code",
   "execution_count": 1,
   "id": "a2435748",
   "metadata": {},
   "outputs": [],
   "source": [
    "#Importing all the packages\n",
    "import pandas as pd\n",
    "import matplotlib.pyplot as plt\n",
    "plt.style.use('seaborn')\n",
    "%matplotlib inline\n",
    "from cobra.io import read_sbml_model\n",
    "from cobra.io import write_sbml_model"
   ]
  },
  {
   "cell_type": "code",
   "execution_count": 2,
   "id": "9fd93a24",
   "metadata": {},
   "outputs": [
    {
     "name": "stderr",
     "output_type": "stream",
     "text": [
      "No objective coefficients in model. Unclear what should be optimized\n"
     ]
    }
   ],
   "source": [
    "%run 1._Add_Psilocybin_to_Coynebacterium_Model.ipynb"
   ]
  },
  {
   "cell_type": "code",
   "execution_count": null,
   "id": "951b65ec",
   "metadata": {},
   "outputs": [],
   "source": []
  },
  {
   "cell_type": "code",
   "execution_count": 3,
   "id": "71f9ff35",
   "metadata": {},
   "outputs": [],
   "source": [
    "model.objective = model.reactions.EX_psi_e"
   ]
  },
  {
   "cell_type": "code",
   "execution_count": 4,
   "id": "586a96f1",
   "metadata": {},
   "outputs": [
    {
     "data": {
      "text/plain": [
       "5.6929988370778216e-05"
      ]
     },
     "execution_count": 4,
     "metadata": {},
     "output_type": "execute_result"
    }
   ],
   "source": [
    "model.optimize().objective_value"
   ]
  },
  {
   "cell_type": "code",
   "execution_count": 5,
   "id": "68464abe",
   "metadata": {},
   "outputs": [
    {
     "data": {
      "text/html": [
       "\n",
       "        <table>\n",
       "            <tr>\n",
       "                <td><strong>Metabolite identifier</strong></td><td>trp_L_c</td>\n",
       "            </tr><tr>\n",
       "                <td><strong>Name</strong></td><td>L_Tryptophan</td>\n",
       "            </tr><tr>\n",
       "                <td><strong>Memory address</strong></td>\n",
       "                <td>0x0296b6c772b0</td>\n",
       "            </tr><tr>\n",
       "                <td><strong>Formula</strong></td><td>C11H12N2O2</td>\n",
       "            </tr><tr>\n",
       "                <td><strong>Compartment</strong></td><td>c</td>\n",
       "            </tr><tr>\n",
       "                <td><strong>In 7 reaction(s)</strong></td><td>\n",
       "                    TRPS1, CrTdc, TRPabcpp, TRPt2rpp, TRPTRS, TRPS2, PROTEIN</td>\n",
       "            </tr>\n",
       "        </table>"
      ],
      "text/plain": [
       "<Metabolite trp_L_c at 0x296b6c772b0>"
      ]
     },
     "execution_count": 5,
     "metadata": {},
     "output_type": "execute_result"
    }
   ],
   "source": [
    "model.metabolites.trp_L_c"
   ]
  },
  {
   "cell_type": "code",
   "execution_count": 6,
   "id": "937d9ce4",
   "metadata": {},
   "outputs": [
    {
     "data": {
      "text/html": [
       "\n",
       "        <table>\n",
       "            <tr>\n",
       "                <td><strong>Reaction identifier</strong></td><td>TRPabcpp</td>\n",
       "            </tr><tr>\n",
       "                <td><strong>Name</strong></td><td>L_trp transport via ABC system</td>\n",
       "            </tr><tr>\n",
       "                <td><strong>Memory address</strong></td>\n",
       "                <td>0x0296b71cf760</td>\n",
       "            </tr><tr>\n",
       "                <td><strong>Stoichiometry</strong></td>\n",
       "                <td>\n",
       "                    <p style='text-align:right'>atp_c + h2o_c + trp_L_e --> adp_c + h_c + pi_c + trp_L_c</p>\n",
       "                    <p style='text-align:right'>ATP + H2O + L_Tryptophan --> ADP + H+ + Phosphate + L_Tryptophan</p>\n",
       "                </td>\n",
       "            </tr><tr>\n",
       "                <td><strong>GPR</strong></td><td></td>\n",
       "            </tr><tr>\n",
       "                <td><strong>Lower bound</strong></td><td>0.0</td>\n",
       "            </tr><tr>\n",
       "                <td><strong>Upper bound</strong></td><td>77.3942899999993</td>\n",
       "            </tr>\n",
       "        </table>\n",
       "        "
      ],
      "text/plain": [
       "<Reaction TRPabcpp at 0x296b71cf760>"
      ]
     },
     "execution_count": 6,
     "metadata": {},
     "output_type": "execute_result"
    }
   ],
   "source": [
    "model.reactions.TRPabcpp"
   ]
  },
  {
   "cell_type": "code",
   "execution_count": 7,
   "id": "1cefa2ef",
   "metadata": {},
   "outputs": [
    {
     "name": "stdout",
     "output_type": "stream",
     "text": [
      "complete model:  5.6929988370778216e-05\n",
      "cg1257 knocked out:  5.6929988370778216e-05\n"
     ]
    }
   ],
   "source": [
    "print('complete model: ', model.optimize().objective_value)\n",
    "with model:\n",
    "    model.genes.cg1257.knock_out()\n",
    "    print('cg1257 knocked out: ', model.optimize().objective_value) #\n"
   ]
  },
  {
   "cell_type": "code",
   "execution_count": 8,
   "id": "9008ad8d",
   "metadata": {},
   "outputs": [
    {
     "name": "stdout",
     "output_type": "stream",
     "text": [
      "complete model:  5.6929988370778216e-05\n",
      "TRPabcpp knock out:  5.6929988370778216e-05\n"
     ]
    }
   ],
   "source": [
    "print('complete model: ', model.optimize().objective_value)\n",
    "with model:\n",
    "    model.reactions.TRPabcpp.bounds = 0,0\n",
    "    print('TRPabcpp knock out: ', model.optimize().objective_value)"
   ]
  },
  {
   "cell_type": "code",
   "execution_count": 9,
   "id": "f792a15c",
   "metadata": {},
   "outputs": [
    {
     "data": {
      "text/html": [
       "\n",
       "        <table>\n",
       "            <tr>\n",
       "                <td><strong>Reaction identifier</strong></td><td>PROTEIN</td>\n",
       "            </tr><tr>\n",
       "                <td><strong>Name</strong></td><td>PROTEIN</td>\n",
       "            </tr><tr>\n",
       "                <td><strong>Memory address</strong></td>\n",
       "                <td>0x0296b723ebb0</td>\n",
       "            </tr><tr>\n",
       "                <td><strong>Stoichiometry</strong></td>\n",
       "                <td>\n",
       "                    <p style='text-align:right'>1.3527 ala_L_c + 0.38519 arg_L_c + 0.39281 asn_L_c + 0.39281 asp_L_c + 40.0656 atp_c + 0.089437 cys_L_c + 0.69314 gln_L_c + 1.1139 glu_L_c + 0.71651 gly_c + 30.7601 h2o_c + 0.13619 his_L_c +...</p>\n",
       "                    <p style='text-align:right'>1.3527 L_Alanine + 0.38519 L_Arginine + 0.39281 L_Asparagine + 0.39281 L_Aspartate + 40.0656 ATP + 0.089437 L_Cysteine + 0.69314 L_Glutamine + 1.1139 L_Glutamate + 0.71651 Glycine + 30.7601 H2O +...</p>\n",
       "                </td>\n",
       "            </tr><tr>\n",
       "                <td><strong>GPR</strong></td><td></td>\n",
       "            </tr><tr>\n",
       "                <td><strong>Lower bound</strong></td><td>0.0</td>\n",
       "            </tr><tr>\n",
       "                <td><strong>Upper bound</strong></td><td>0.23174211785824</td>\n",
       "            </tr>\n",
       "        </table>\n",
       "        "
      ],
      "text/plain": [
       "<Reaction PROTEIN at 0x296b723ebb0>"
      ]
     },
     "execution_count": 9,
     "metadata": {},
     "output_type": "execute_result"
    }
   ],
   "source": [
    "model.reactions.PROTEIN"
   ]
  },
  {
   "cell_type": "code",
   "execution_count": 10,
   "id": "51abe96f",
   "metadata": {},
   "outputs": [
    {
     "name": "stdout",
     "output_type": "stream",
     "text": [
      "complete model:  5.6929988370778216e-05\n",
      "PROTEIN reaction knock out:  5.6929988370778216e-05\n"
     ]
    }
   ],
   "source": [
    "print('complete model: ', model.optimize().objective_value)\n",
    "with model:\n",
    "    model.reactions.PROTEIN.bounds = 0,0\n",
    "    print('PROTEIN reaction knock out: ', model.optimize().objective_value)"
   ]
  },
  {
   "cell_type": "code",
   "execution_count": null,
   "id": "2c56c285",
   "metadata": {},
   "outputs": [],
   "source": []
  },
  {
   "cell_type": "code",
   "execution_count": 11,
   "id": "3125fff4",
   "metadata": {},
   "outputs": [
    {
     "data": {
      "text/html": [
       "\n",
       "        <table>\n",
       "            <tr>\n",
       "                <td><strong>Reaction identifier</strong></td><td>TRPS1</td>\n",
       "            </tr><tr>\n",
       "                <td><strong>Name</strong></td><td>tryptophan synthase (indoleglycerol phosphate)</td>\n",
       "            </tr><tr>\n",
       "                <td><strong>Memory address</strong></td>\n",
       "                <td>0x0296b7215f70</td>\n",
       "            </tr><tr>\n",
       "                <td><strong>Stoichiometry</strong></td>\n",
       "                <td>\n",
       "                    <p style='text-align:right'>3ig3p_c + ser_L_c --> g3p_c + h2o_c + trp_L_c</p>\n",
       "                    <p style='text-align:right'>C'-(3-Indolyl)-glycerol 3-phosphate + L_Serine --> Glyceraldehyde 3-phosphate + H2O + L_Tryptophan</p>\n",
       "                </td>\n",
       "            </tr><tr>\n",
       "                <td><strong>GPR</strong></td><td>cg3363 and cg3364</td>\n",
       "            </tr><tr>\n",
       "                <td><strong>Lower bound</strong></td><td>0.0</td>\n",
       "            </tr><tr>\n",
       "                <td><strong>Upper bound</strong></td><td>0.22043</td>\n",
       "            </tr>\n",
       "        </table>\n",
       "        "
      ],
      "text/plain": [
       "<Reaction TRPS1 at 0x296b7215f70>"
      ]
     },
     "execution_count": 11,
     "metadata": {},
     "output_type": "execute_result"
    }
   ],
   "source": [
    "model.reactions.TRPS1"
   ]
  },
  {
   "cell_type": "code",
   "execution_count": 12,
   "id": "172e25e4",
   "metadata": {},
   "outputs": [
    {
     "name": "stdout",
     "output_type": "stream",
     "text": [
      "complete model:  5.6929988370778216e-05\n",
      "PROTEIN reaction knock out:  5.6929988370778216e-05\n"
     ]
    }
   ],
   "source": [
    "print('complete model: ', model.optimize().objective_value)\n",
    "with model:\n",
    "    #model.reactions.TRPS2.bounds = 0,0\n",
    "    model.reactions.TRPS1.bounds = 0,0\n",
    "    model.reactions.TRPTRS.bounds = 0,0\n",
    "\n",
    "    print('PROTEIN reaction knock out: ', model.optimize().objective_value)"
   ]
  },
  {
   "cell_type": "code",
   "execution_count": 13,
   "id": "77d91d11",
   "metadata": {},
   "outputs": [
    {
     "data": {
      "text/html": [
       "\n",
       "        <table>\n",
       "            <tr>\n",
       "                <td><strong>Reaction identifier</strong></td><td>TRPTRS</td>\n",
       "            </tr><tr>\n",
       "                <td><strong>Name</strong></td><td>TryptophanyL_tRNA synthetase</td>\n",
       "            </tr><tr>\n",
       "                <td><strong>Memory address</strong></td>\n",
       "                <td>0x0296b7208e80</td>\n",
       "            </tr><tr>\n",
       "                <td><strong>Stoichiometry</strong></td>\n",
       "                <td>\n",
       "                    <p style='text-align:right'>atp_c + trnatrp_c + trp_L_c --> amp_c + ppi_c + trptrna_c</p>\n",
       "                    <p style='text-align:right'>ATP + tRNA(Trp) + L_Tryptophan --> AMP + Diphosphate + L_TryptophanyL_tRNA(Trp)</p>\n",
       "                </td>\n",
       "            </tr><tr>\n",
       "                <td><strong>GPR</strong></td><td>cg0779 and cgtRNA_3546</td>\n",
       "            </tr><tr>\n",
       "                <td><strong>Lower bound</strong></td><td>0.0</td>\n",
       "            </tr><tr>\n",
       "                <td><strong>Upper bound</strong></td><td>0.0</td>\n",
       "            </tr>\n",
       "        </table>\n",
       "        "
      ],
      "text/plain": [
       "<Reaction TRPTRS at 0x296b7208e80>"
      ]
     },
     "execution_count": 13,
     "metadata": {},
     "output_type": "execute_result"
    }
   ],
   "source": [
    "model.reactions.TRPTRS\n"
   ]
  },
  {
   "cell_type": "code",
   "execution_count": 14,
   "id": "93116b10",
   "metadata": {},
   "outputs": [
    {
     "name": "stdout",
     "output_type": "stream",
     "text": [
      "Knocking everything out besides CrTdc reaction, which goes towards our product:  0.0\n"
     ]
    }
   ],
   "source": [
    "#list_of_tryptophan_reactions = [TRPt2rpp, TRPabcpp, PROTEIN, CrTdc, TRPS1, TRPS2, TRPTRS]\n",
    "\n",
    "with model:\n",
    "    model.reactions.TRPt2rpp.bounds = 0,0\n",
    "    model.reactions.TRPabcpp.bounds = 0,0\n",
    "    model.reactions.PROTEIN.bounds = 0,0\n",
    "    model.reactions.TRPS2.bounds = 0,0\n",
    "    model.reactions.TRPS1.bounds = 0,0\n",
    "    model.reactions.TRPTRS.bounds = 0,0\n",
    "    print('Knocking everything out besides CrTdc reaction, which goes towards our product: ', model.optimize().objective_value)\n",
    "    knock_out=model.optimize().objective_value"
   ]
  },
  {
   "cell_type": "code",
   "execution_count": 15,
   "id": "bfad289c",
   "metadata": {},
   "outputs": [
    {
     "data": {
      "text/plain": [
       "5.6929988370778216e-05"
      ]
     },
     "execution_count": 15,
     "metadata": {},
     "output_type": "execute_result"
    }
   ],
   "source": [
    "model.optimize().objective_value - knock_out"
   ]
  },
  {
   "cell_type": "code",
   "execution_count": 16,
   "id": "c7c739c0",
   "metadata": {},
   "outputs": [
    {
     "name": "stdout",
     "output_type": "stream",
     "text": [
      "Knocking everything out besides CrTdc reaction, which goes towards our product:  5.6929988370778216e-05\n"
     ]
    }
   ],
   "source": [
    "with model:\n",
    "    model.reactions.TRPt2rpp.bounds = 0,0\n",
    "    model.reactions.TRPabcpp.bounds = 0,0\n",
    "    model.reactions.PROTEIN.bounds = 0,0\n",
    "    model.reactions.TRPS2.bounds = -1000,1000\n",
    "    model.reactions.TRPS1.bounds = -1000,1000\n",
    "    model.reactions.TRPTRS.bounds = 0,0\n",
    "    print('Knocking everything out besides CrTdc reaction, which goes towards our product: ', model.optimize().objective_value)\n",
    "    knock_out=model.optimize().objective_value\n",
    "    model.reactions.TRPS1"
   ]
  },
  {
   "cell_type": "code",
   "execution_count": 17,
   "id": "1f132958",
   "metadata": {},
   "outputs": [
    {
     "name": "stdout",
     "output_type": "stream",
     "text": [
      "Knocking everything out besides CrTdc reaction, which goes towards our product:  5.6929988370778216e-05\n"
     ]
    }
   ],
   "source": [
    "with model:\n",
    "    model.reactions.TRPt2rpp.bounds = 0,0\n",
    "    #model.reactions.TRPabcpp.bounds = 0,0\n",
    "    model.reactions.PROTEIN.bounds = 0,0\n",
    "    model.reactions.TRPS2.bounds = -1000,1000\n",
    "    model.reactions.TRPS1.bounds = -1000,1000\n",
    "    model.reactions.TRPTRS.bounds = 0,0\n",
    "    print('Knocking everything out besides CrTdc reaction, which goes towards our product: ', model.optimize().objective_value)\n",
    "    knock_out=model.optimize().objective_value\n",
    "   "
   ]
  },
  {
   "cell_type": "code",
   "execution_count": 18,
   "id": "5772839e",
   "metadata": {},
   "outputs": [
    {
     "name": "stdout",
     "output_type": "stream",
     "text": [
      "Knocking everything out besides CrTdc reaction, which goes towards our product:  5.6929988370778216e-05\n"
     ]
    }
   ],
   "source": [
    "with model:\n",
    "    model.reactions.TRPt2rpp.bounds = 0,0\n",
    "    model.reactions.TRPabcpp.bounds = 0,0\n",
    "    model.reactions.PROTEIN.bounds = 0,0\n",
    "    model.reactions.TRPS2.bounds = -1000,1000\n",
    "    model.reactions.TRPS1.bounds = -1000,1000\n",
    "    model.reactions.TRPTRS.bounds = 0,0\n",
    "    print('Knocking everything out besides CrTdc reaction, which goes towards our product: ', model.optimize().objective_value)\n",
    "    knock_out=model.optimize().objective_value\n",
    "   "
   ]
  },
  {
   "cell_type": "code",
   "execution_count": 19,
   "id": "82a52d52",
   "metadata": {},
   "outputs": [
    {
     "data": {
      "text/html": [
       "\n",
       "        <table>\n",
       "            <tr>\n",
       "                <td><strong>Metabolite identifier</strong></td><td>trp_L_e</td>\n",
       "            </tr><tr>\n",
       "                <td><strong>Name</strong></td><td>L_Tryptophan</td>\n",
       "            </tr><tr>\n",
       "                <td><strong>Memory address</strong></td>\n",
       "                <td>0x0296b6c772e0</td>\n",
       "            </tr><tr>\n",
       "                <td><strong>Formula</strong></td><td>C11H12N2O2</td>\n",
       "            </tr><tr>\n",
       "                <td><strong>Compartment</strong></td><td>e</td>\n",
       "            </tr><tr>\n",
       "                <td><strong>In 3 reaction(s)</strong></td><td>\n",
       "                    EX_trp_L_e, TRPabcpp, TRPt2rpp</td>\n",
       "            </tr>\n",
       "        </table>"
      ],
      "text/plain": [
       "<Metabolite trp_L_e at 0x296b6c772e0>"
      ]
     },
     "execution_count": 19,
     "metadata": {},
     "output_type": "execute_result"
    }
   ],
   "source": [
    "model.metabolites.trp_L_e"
   ]
  },
  {
   "cell_type": "code",
   "execution_count": 20,
   "id": "d48d2aa8",
   "metadata": {},
   "outputs": [
    {
     "data": {
      "text/html": [
       "\n",
       "        <table>\n",
       "            <tr>\n",
       "                <td><strong>Reaction identifier</strong></td><td>EX_trp_L_e</td>\n",
       "            </tr><tr>\n",
       "                <td><strong>Name</strong></td><td>L_Tryptophan exchange</td>\n",
       "            </tr><tr>\n",
       "                <td><strong>Memory address</strong></td>\n",
       "                <td>0x0296b6dc2ac0</td>\n",
       "            </tr><tr>\n",
       "                <td><strong>Stoichiometry</strong></td>\n",
       "                <td>\n",
       "                    <p style='text-align:right'>trp_L_e --></p>\n",
       "                    <p style='text-align:right'>L_Tryptophan --></p>\n",
       "                </td>\n",
       "            </tr><tr>\n",
       "                <td><strong>GPR</strong></td><td></td>\n",
       "            </tr><tr>\n",
       "                <td><strong>Lower bound</strong></td><td>0.0</td>\n",
       "            </tr><tr>\n",
       "                <td><strong>Upper bound</strong></td><td>0.22043</td>\n",
       "            </tr>\n",
       "        </table>\n",
       "        "
      ],
      "text/plain": [
       "<Reaction EX_trp_L_e at 0x296b6dc2ac0>"
      ]
     },
     "execution_count": 20,
     "metadata": {},
     "output_type": "execute_result"
    }
   ],
   "source": [
    "model.reactions.EX_trp_L_e"
   ]
  },
  {
   "cell_type": "code",
   "execution_count": 21,
   "id": "2a8dd1df",
   "metadata": {},
   "outputs": [
    {
     "data": {
      "text/html": [
       "\n",
       "        <table>\n",
       "            <tr>\n",
       "                <td><strong>Reaction identifier</strong></td><td>TRPabcpp</td>\n",
       "            </tr><tr>\n",
       "                <td><strong>Name</strong></td><td>L_trp transport via ABC system</td>\n",
       "            </tr><tr>\n",
       "                <td><strong>Memory address</strong></td>\n",
       "                <td>0x0296b71cf760</td>\n",
       "            </tr><tr>\n",
       "                <td><strong>Stoichiometry</strong></td>\n",
       "                <td>\n",
       "                    <p style='text-align:right'>atp_c + h2o_c + trp_L_e --> adp_c + h_c + pi_c + trp_L_c</p>\n",
       "                    <p style='text-align:right'>ATP + H2O + L_Tryptophan --> ADP + H+ + Phosphate + L_Tryptophan</p>\n",
       "                </td>\n",
       "            </tr><tr>\n",
       "                <td><strong>GPR</strong></td><td></td>\n",
       "            </tr><tr>\n",
       "                <td><strong>Lower bound</strong></td><td>0.0</td>\n",
       "            </tr><tr>\n",
       "                <td><strong>Upper bound</strong></td><td>77.3942899999993</td>\n",
       "            </tr>\n",
       "        </table>\n",
       "        "
      ],
      "text/plain": [
       "<Reaction TRPabcpp at 0x296b71cf760>"
      ]
     },
     "execution_count": 21,
     "metadata": {},
     "output_type": "execute_result"
    }
   ],
   "source": [
    "model.reactions.TRPabcpp"
   ]
  },
  {
   "cell_type": "code",
   "execution_count": 22,
   "id": "509edcbd",
   "metadata": {},
   "outputs": [
    {
     "name": "stdout",
     "output_type": "stream",
     "text": [
      "Knocking everything out besides CrTdc reaction, which goes towards our product:  5.6929988370778216e-05\n"
     ]
    }
   ],
   "source": [
    "with model:\n",
    "    model.reactions.EX_trp_L_e.bounds = -1000,1000\n",
    "\n",
    "    print('Knocking everything out besides CrTdc reaction, which goes towards our product: ', model.optimize().objective_value)\n",
    "    knock_out=model.optimize().objective_value\n"
   ]
  },
  {
   "cell_type": "code",
   "execution_count": 23,
   "id": "a12c1ad0",
   "metadata": {},
   "outputs": [
    {
     "data": {
      "text/html": [
       "\n",
       "        <table>\n",
       "            <tr>\n",
       "                <td><strong>Reaction identifier</strong></td><td>TRPabcpp</td>\n",
       "            </tr><tr>\n",
       "                <td><strong>Name</strong></td><td>L_trp transport via ABC system</td>\n",
       "            </tr><tr>\n",
       "                <td><strong>Memory address</strong></td>\n",
       "                <td>0x0296b71cf760</td>\n",
       "            </tr><tr>\n",
       "                <td><strong>Stoichiometry</strong></td>\n",
       "                <td>\n",
       "                    <p style='text-align:right'>atp_c + h2o_c + trp_L_e --> adp_c + h_c + pi_c + trp_L_c</p>\n",
       "                    <p style='text-align:right'>ATP + H2O + L_Tryptophan --> ADP + H+ + Phosphate + L_Tryptophan</p>\n",
       "                </td>\n",
       "            </tr><tr>\n",
       "                <td><strong>GPR</strong></td><td></td>\n",
       "            </tr><tr>\n",
       "                <td><strong>Lower bound</strong></td><td>0.0</td>\n",
       "            </tr><tr>\n",
       "                <td><strong>Upper bound</strong></td><td>77.3942899999993</td>\n",
       "            </tr>\n",
       "        </table>\n",
       "        "
      ],
      "text/plain": [
       "<Reaction TRPabcpp at 0x296b71cf760>"
      ]
     },
     "execution_count": 23,
     "metadata": {},
     "output_type": "execute_result"
    }
   ],
   "source": [
    "model.reactions.TRPabcpp"
   ]
  },
  {
   "cell_type": "code",
   "execution_count": 24,
   "id": "3a3cb454",
   "metadata": {},
   "outputs": [
    {
     "data": {
      "text/plain": [
       "[<Reaction EX_26dap_M_e at 0x296b6d73c40>,\n",
       " <Reaction EX_3amp_e at 0x296b6d799d0>,\n",
       " <Reaction EX_3cmp_e at 0x296b6d81310>,\n",
       " <Reaction EX_3gmp_e at 0x296b6d48a90>,\n",
       " <Reaction EX_3ump_e at 0x296b6d59df0>,\n",
       " <Reaction EX_4abut_e at 0x296b6d48bb0>,\n",
       " <Reaction EX_ac_e at 0x296b6d489a0>,\n",
       " <Reaction EX_acald_e at 0x296b6d86f10>,\n",
       " <Reaction EX_acgam_e at 0x296b6d86640>,\n",
       " <Reaction EX_acgam1p_e at 0x296b6d48a60>,\n",
       " <Reaction EX_acmana_e at 0x296b6d489d0>,\n",
       " <Reaction EX_acser_e at 0x296b6d48a30>,\n",
       " <Reaction EX_ade_e at 0x296b6d8d4f0>,\n",
       " <Reaction EX_adn_e at 0x296b6d8d4c0>,\n",
       " <Reaction EX_akg_e at 0x296b6d8d820>,\n",
       " <Reaction EX_ala_L_e at 0x296b6d8d0d0>,\n",
       " <Reaction EX_alaala_e at 0x296b6d8d430>,\n",
       " <Reaction EX_ala_B_e at 0x296b6d8dac0>,\n",
       " <Reaction EX_ala_D_e at 0x296b6d8d7f0>,\n",
       " <Reaction EX_amp_e at 0x296b6d8d2b0>,\n",
       " <Reaction EX_arg_L_e at 0x296b6d8d940>,\n",
       " <Reaction EX_asn_L_e at 0x296b6d8da60>,\n",
       " <Reaction EX_asp_L_e at 0x296b6d8d730>,\n",
       " <Reaction EX_ca2_e at 0x296b6d940a0>,\n",
       " <Reaction EX_cgly_e at 0x296b6d944c0>,\n",
       " <Reaction EX_cit_e at 0x296b6d94430>,\n",
       " <Reaction EX_cmp_e at 0x296b6d94100>,\n",
       " <Reaction EX_co2_e at 0x296b6d94070>,\n",
       " <Reaction EX_cobalt2_e at 0x296b6d94190>,\n",
       " <Reaction EX_cu_e at 0x296b6d94e20>,\n",
       " <Reaction EX_cu2_e at 0x296b6d94a90>,\n",
       " <Reaction EX_cyan_e at 0x296b6d94b50>,\n",
       " <Reaction EX_cys_L_e at 0x296b6d949a0>,\n",
       " <Reaction EX_cytd_e at 0x296b6d94a00>,\n",
       " <Reaction EX_daD_2_e at 0x296b6d948b0>,\n",
       " <Reaction EX_damp_e at 0x296b6d9b520>,\n",
       " <Reaction EX_dcmp_e at 0x296b6d9b4f0>,\n",
       " <Reaction EX_dcyt_e at 0x296b6d9b0d0>,\n",
       " <Reaction EX_dgmp_e at 0x296b6d9b1c0>,\n",
       " <Reaction EX_dgsn_e at 0x296b6d9b250>,\n",
       " <Reaction EX_dha_e at 0x296b6d9b220>,\n",
       " <Reaction EX_dimp_e at 0x296b6d9b490>,\n",
       " <Reaction EX_din_e at 0x296b6d9b820>,\n",
       " <Reaction EX_dms_e at 0x296b6d9b790>,\n",
       " <Reaction EX_dmso_e at 0x296b6d9bc70>,\n",
       " <Reaction EX_dtmp_e at 0x296b6d9bcd0>,\n",
       " <Reaction EX_dump_e at 0x296b6d9b6a0>,\n",
       " <Reaction EX_duri_e at 0x296b6da02e0>,\n",
       " <Reaction EX_etha_e at 0x296b6da0550>,\n",
       " <Reaction EX_etoh_e at 0x296b6da06a0>,\n",
       " <Reaction EX_f6p_e at 0x296b6da00d0>,\n",
       " <Reaction EX_fe2_e at 0x296b6da0310>,\n",
       " <Reaction EX_fe3_e at 0x296b6da01f0>,\n",
       " <Reaction EX_for_e at 0x296b6da08e0>,\n",
       " <Reaction EX_fru_e at 0x296b6da0850>,\n",
       " <Reaction EX_fruur_e at 0x296b6da0400>,\n",
       " <Reaction EX_fum_e at 0x296b6da0bb0>,\n",
       " <Reaction EX_g1p_e at 0x296b6da0e80>,\n",
       " <Reaction EX_g3pe_e at 0x296b6da0cd0>,\n",
       " <Reaction EX_g3pg_e at 0x296b6da09d0>,\n",
       " <Reaction EX_g3pi_e at 0x296b6da7460>,\n",
       " <Reaction EX_g3ps_e at 0x296b6da7580>,\n",
       " <Reaction EX_g6p_e at 0x296b6da78b0>,\n",
       " <Reaction EX_gal1p_e at 0x296b6da7040>,\n",
       " <Reaction EX_gam_e at 0x296b6da73a0>,\n",
       " <Reaction EX_gam6p_e at 0x296b6da7760>,\n",
       " <Reaction EX_glc_e at 0x296b6da7610>,\n",
       " <Reaction EX_glcn_e at 0x296b6da7910>,\n",
       " <Reaction EX_glcur_e at 0x296b6da7af0>,\n",
       " <Reaction EX_glcur1p_e at 0x296b6da7d60>,\n",
       " <Reaction EX_gln_L_e at 0x296b6da7970>,\n",
       " <Reaction EX_glu_L_e at 0x296b6dae0a0>,\n",
       " <Reaction EX_gly_e at 0x296b6dae490>,\n",
       " <Reaction EX_glyald_e at 0x296b6dae6d0>,\n",
       " <Reaction EX_glyc_e at 0x296b6dae130>,\n",
       " <Reaction EX_glyc_R_e at 0x296b6dae2e0>,\n",
       " <Reaction EX_glyc3p_e at 0x296b6dae1c0>,\n",
       " <Reaction EX_gmp_e at 0x296b6dae640>,\n",
       " <Reaction EX_gsn_e at 0x296b6dae520>,\n",
       " <Reaction EX_gthrd_e at 0x296b6dae970>,\n",
       " <Reaction EX_gua_e at 0x296b6daea30>,\n",
       " <Reaction EX_h_e at 0x296b6dae700>,\n",
       " <Reaction EX_h2_e at 0x296b6daec40>,\n",
       " <Reaction EX_h2o_e at 0x296b6dae5b0>,\n",
       " <Reaction EX_h2s_e at 0x296b6db4400>,\n",
       " <Reaction EX_his_L_e at 0x296b6db4160>,\n",
       " <Reaction EX_hom_L_e at 0x296b6db4310>,\n",
       " <Reaction EX_hxan_e at 0x296b6db4100>,\n",
       " <Reaction EX_ile_L_e at 0x296b6db43d0>,\n",
       " <Reaction EX_imp_e at 0x296b6db4c10>,\n",
       " <Reaction EX_indole_e at 0x296b6db4b20>,\n",
       " <Reaction EX_inost_e at 0x296b6db4370>,\n",
       " <Reaction EX_ins_e at 0x296b6db4a60>,\n",
       " <Reaction EX_k_e at 0x296b6db4a30>,\n",
       " <Reaction EX_lac_D_e at 0x296b6db47c0>,\n",
       " <Reaction EX_lac_L_e at 0x296b6dba100>,\n",
       " <Reaction EX_leu_L_e at 0x296b6dba0d0>,\n",
       " <Reaction EX_lys_L_e at 0x296b6dba4f0>,\n",
       " <Reaction EX_maL_L_e at 0x296b6dba0a0>,\n",
       " <Reaction EX_malt_e at 0x296b6dba2b0>,\n",
       " <Reaction EX_man_e at 0x296b6dba190>,\n",
       " <Reaction EX_man6p_e at 0x296b6dba7c0>,\n",
       " <Reaction EX_met_L_e at 0x296b6dba730>,\n",
       " <Reaction EX_mg2_e at 0x296b6dba610>,\n",
       " <Reaction EX_mn2_e at 0x296b6dba8b0>,\n",
       " <Reaction EX_mnl_e at 0x296b6dba940>,\n",
       " <Reaction EX_n2o_e at 0x296b6dbab50>,\n",
       " <Reaction EX_na1_e at 0x296b6dba580>,\n",
       " <Reaction EX_nac_e at 0x296b6dc73d0>,\n",
       " <Reaction EX_nh4_e at 0x296b6dc74f0>,\n",
       " <Reaction EX_ni2_e at 0x296b6dc71f0>,\n",
       " <Reaction EX_nmn_e at 0x296b6dc7100>,\n",
       " <Reaction EX_no_e at 0x296b6dc72b0>,\n",
       " <Reaction EX_no2_e at 0x296b6dc7160>,\n",
       " <Reaction EX_no3_e at 0x296b6dc7d60>,\n",
       " <Reaction EX_o2_e at 0x296b6dc7760>,\n",
       " <Reaction EX_o2s_e at 0x296b6dc79a0>,\n",
       " <Reaction EX_orn_e at 0x296b6dc7a00>,\n",
       " <Reaction EX_orot_e at 0x296b6dc7cd0>,\n",
       " <Reaction EX_phe_L_e at 0x296b6dc7130>,\n",
       " <Reaction EX_pheme_e at 0x296b6dd6070>,\n",
       " <Reaction EX_pi_e at 0x296b6dd6100>,\n",
       " <Reaction EX_pnto_R_e at 0x296b6dd65b0>,\n",
       " <Reaction EX_ppa_e at 0x296b6dd6160>,\n",
       " <Reaction EX_ppt_e at 0x296b6dd6280>,\n",
       " <Reaction EX_pro_L_e at 0x296b6dd6f40>,\n",
       " <Reaction EX_progly_e at 0x296b6dd67f0>,\n",
       " <Reaction EX_pydx_e at 0x296b6dd6640>,\n",
       " <Reaction EX_pyr_e at 0x296b6dd66d0>,\n",
       " <Reaction EX_rib_D_e at 0x296b6dd6250>,\n",
       " <Reaction EX_sbt_D_e at 0x296b6dd6880>,\n",
       " <Reaction EX_ser_L_e at 0x296b6dc2460>,\n",
       " <Reaction EX_skm_e at 0x296b6dc2580>,\n",
       " <Reaction EX_so3_e at 0x296b6dc2700>,\n",
       " <Reaction EX_so4_e at 0x296b6dc2040>,\n",
       " <Reaction EX_succ_e at 0x296b6dc2160>,\n",
       " <Reaction EX_sucr_e at 0x296b6dc2130>,\n",
       " <Reaction EX_tcynt_e at 0x296b6dc2820>,\n",
       " <Reaction EX_thr_L_e at 0x296b6dc29a0>,\n",
       " <Reaction EX_thymd_e at 0x296b6dc2be0>,\n",
       " <Reaction EX_tma_e at 0x296b6dc2d60>,\n",
       " <Reaction EX_tmao_e at 0x296b6dc2e80>,\n",
       " <Reaction EX_tre_e at 0x296b6dc2af0>,\n",
       " <Reaction EX_trp_L_e at 0x296b6dc2ac0>,\n",
       " <Reaction EX_tsul_e at 0x296b6dce4f0>,\n",
       " <Reaction EX_tyr_L_e at 0x296b6dce7c0>,\n",
       " <Reaction EX_uacgam_e at 0x296b6dce3d0>,\n",
       " <Reaction EX_udpg_e at 0x296b6dce130>,\n",
       " <Reaction EX_udpgal_e at 0x296b6dce670>,\n",
       " <Reaction EX_udpglcur_e at 0x296b6dce790>,\n",
       " <Reaction EX_ump_e at 0x296b6dceaf0>,\n",
       " <Reaction EX_ura_e at 0x296b6dce520>,\n",
       " <Reaction EX_urea_e at 0x296b6dceb50>,\n",
       " <Reaction EX_uri_e at 0x296b6dce8e0>,\n",
       " <Reaction EX_val_L_e at 0x296b6dce940>,\n",
       " <Reaction EX_xan_e at 0x296b6dcea30>,\n",
       " <Reaction EX_xmp_e at 0x296b6ddb4c0>,\n",
       " <Reaction EX_xtsn_e at 0x296b6ddb4f0>,\n",
       " <Reaction EX_xyL_D_e at 0x296b6ddb850>,\n",
       " <Reaction EX_zn2_e at 0x296b6ddb040>,\n",
       " <Reaction EX_BIOTIN at 0x296b7132c10>,\n",
       " <Reaction EX_cl at 0x296b7132100>,\n",
       " <Reaction EX_psi_e at 0x296b73476d0>]"
      ]
     },
     "execution_count": 24,
     "metadata": {},
     "output_type": "execute_result"
    }
   ],
   "source": [
    "model.exchanges"
   ]
  },
  {
   "cell_type": "code",
   "execution_count": 35,
   "id": "8cdec83e",
   "metadata": {},
   "outputs": [
    {
     "name": "stdout",
     "output_type": "stream",
     "text": [
      "5.692998837082857e-05\n",
      "{'EX_ca2_e': 0.0144877134286247, 'EX_cobalt2_e': 7.00338234344926e-05, 'EX_cu2_e': 0.00197271722237563, 'EX_fe2_e': 0.16239125, 'EX_fe3_e': 0.0217300637039616, 'EX_glc_e': 100, 'EX_k_e': 0.543285250115532, 'EX_mg2_e': 0.0241459221505149, 'EX_mn2_e': 0.00192443552016793, 'EX_nh4_e': 11.9121416666662, 'EX_ni2_e': 0.00089824250292982, 'EX_o2_e': 16.5067783333334, 'EX_pi_e': 0.918000000000888, 'EX_so4_e': 4.01673156249995, 'EX_trp_L_e': 1000, 'EX_zn2_e': 0.000948926279874219, 'EX_BIOTIN': 1.01925397503027e-06, 'EX_cl': 0.0144877134286247}\n"
     ]
    }
   ],
   "source": [
    "medium = model.medium\n",
    "with model:\n",
    "    medium['EX_trp_L_e'] = 1000\n",
    "    model.medium = medium\n",
    "    solution = model.optimize()\n",
    "    print(solution.fluxes['EX_psi_e'])\n",
    "    print(model.medium)"
   ]
  },
  {
   "cell_type": "code",
   "execution_count": 26,
   "id": "4d0cf1cf",
   "metadata": {},
   "outputs": [],
   "source": [
    "model.reactions.EX_glc_e.bounds = -100, 100\n"
   ]
  },
  {
   "cell_type": "code",
   "execution_count": 27,
   "id": "3746254f",
   "metadata": {},
   "outputs": [
    {
     "data": {
      "text/plain": [
       "5.6929988370778216e-05"
      ]
     },
     "execution_count": 27,
     "metadata": {},
     "output_type": "execute_result"
    }
   ],
   "source": [
    "model.optimize().objective_value"
   ]
  },
  {
   "cell_type": "code",
   "execution_count": 28,
   "id": "b377cd73",
   "metadata": {},
   "outputs": [],
   "source": [
    "model.reactions.EX_trp_L_e.bounds = -100, 100"
   ]
  },
  {
   "cell_type": "code",
   "execution_count": 29,
   "id": "810ddf9d",
   "metadata": {},
   "outputs": [
    {
     "data": {
      "text/plain": [
       "5.6929988370778216e-05"
      ]
     },
     "execution_count": 29,
     "metadata": {},
     "output_type": "execute_result"
    }
   ],
   "source": [
    "model.optimize().objective_value"
   ]
  },
  {
   "cell_type": "code",
   "execution_count": 40,
   "id": "ce2c37d9",
   "metadata": {},
   "outputs": [],
   "source": [
    "model.reactions.PROTEIN = 0, 0\n",
    "model.reactions.psiK2.bounds = 0, 0\n",
    "model.reactions.pho.bounds = 0, 0\n",
    "model.objective = model.reactions.EX_psi_e"
   ]
  },
  {
   "cell_type": "code",
   "execution_count": 41,
   "id": "a4647e4d",
   "metadata": {},
   "outputs": [
    {
     "data": {
      "text/plain": [
       "5.692998837082857e-05"
      ]
     },
     "execution_count": 41,
     "metadata": {},
     "output_type": "execute_result"
    }
   ],
   "source": [
    "model.optimize().objective_value"
   ]
  },
  {
   "cell_type": "code",
   "execution_count": 44,
   "id": "d8ae2d88",
   "metadata": {},
   "outputs": [
    {
     "name": "stdout",
     "output_type": "stream",
     "text": [
      "5.69299883708285e-05\n"
     ]
    }
   ],
   "source": [
    "model.optimize().objective_value\n",
    "medium = model.medium\n",
    "with model:\n",
    "    medium['EX_glc_e'] = 0\n",
    "    medium['EX_succ_e'] = 10\n",
    "    model.medium = medium\n",
    "    solution = model.optimize()\n",
    "    print(solution.fluxes['EX_psi_e'])"
   ]
  },
  {
   "cell_type": "code",
   "execution_count": 49,
   "id": "a4b564e8",
   "metadata": {},
   "outputs": [
    {
     "data": {
      "text/plain": [
       "[<Reaction LYSabcpp at 0x296b7178370>,\n",
       " <Reaction LYSt2pp at 0x296b7178f70>,\n",
       " <Reaction LYSt3pp at 0x296b7178940>]"
      ]
     },
     "execution_count": 49,
     "metadata": {},
     "output_type": "execute_result"
    }
   ],
   "source": [
    "model.reactions.query(\"lysine\", \"name\")"
   ]
  },
  {
   "cell_type": "code",
   "execution_count": 51,
   "id": "c0ebd078",
   "metadata": {},
   "outputs": [
    {
     "data": {
      "text/html": [
       "\n",
       "        <table>\n",
       "            <tr>\n",
       "                <td><strong>Reaction identifier</strong></td><td>LYSt2pp</td>\n",
       "            </tr><tr>\n",
       "                <td><strong>Name</strong></td><td>L_lysine transport in via proton symport</td>\n",
       "            </tr><tr>\n",
       "                <td><strong>Memory address</strong></td>\n",
       "                <td>0x0296b7178f70</td>\n",
       "            </tr><tr>\n",
       "                <td><strong>Stoichiometry</strong></td>\n",
       "                <td>\n",
       "                    <p style='text-align:right'>h_e + lys_L_e <=> h_c + lys_L_c</p>\n",
       "                    <p style='text-align:right'>H+ + L_Lysine <=> H+ + L_Lysine</p>\n",
       "                </td>\n",
       "            </tr><tr>\n",
       "                <td><strong>GPR</strong></td><td>cg1105</td>\n",
       "            </tr><tr>\n",
       "                <td><strong>Lower bound</strong></td><td>-77.3942899999992</td>\n",
       "            </tr><tr>\n",
       "                <td><strong>Upper bound</strong></td><td>116.091435000002</td>\n",
       "            </tr>\n",
       "        </table>\n",
       "        "
      ],
      "text/plain": [
       "<Reaction LYSt2pp at 0x296b7178f70>"
      ]
     },
     "execution_count": 51,
     "metadata": {},
     "output_type": "execute_result"
    }
   ],
   "source": [
    "model.reactions.LYSt2pp"
   ]
  },
  {
   "cell_type": "code",
   "execution_count": 52,
   "id": "2e1904e7",
   "metadata": {},
   "outputs": [
    {
     "data": {
      "text/plain": [
       "5.69299883708285e-05"
      ]
     },
     "execution_count": 52,
     "metadata": {},
     "output_type": "execute_result"
    }
   ],
   "source": [
    "model.reactions.LYSt2pp.bounds = 0, 0 \n",
    "model.objective = model.reactions.EX_psi_e\n",
    "model.optimize().objective_value"
   ]
  },
  {
   "cell_type": "code",
   "execution_count": null,
   "id": "4e1f7f23",
   "metadata": {},
   "outputs": [],
   "source": []
  }
 ],
 "metadata": {
  "kernelspec": {
   "display_name": "Python 3 (ipykernel)",
   "language": "python",
   "name": "python3"
  },
  "language_info": {
   "codemirror_mode": {
    "name": "ipython",
    "version": 3
   },
   "file_extension": ".py",
   "mimetype": "text/x-python",
   "name": "python",
   "nbconvert_exporter": "python",
   "pygments_lexer": "ipython3",
   "version": "3.8.11"
  }
 },
 "nbformat": 4,
 "nbformat_minor": 5
}
