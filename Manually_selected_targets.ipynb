{
 "cells": [
  {
   "cell_type": "code",
   "execution_count": 1,
   "id": "9fd93a24",
   "metadata": {},
   "outputs": [
    {
     "name": "stderr",
     "output_type": "stream",
     "text": [
      "No objective coefficients in model. Unclear what should be optimized\n"
     ]
    }
   ],
   "source": [
    "%run 1._Add_Psilocybin_to_Coynebacterium_Model.ipynb"
   ]
  },
  {
   "cell_type": "code",
   "execution_count": 2,
   "id": "71f9ff35",
   "metadata": {},
   "outputs": [],
   "source": [
    "model.objective = model.reactions.EX_psi_e # setting the objective towards our product by setting the objective function to its exchange reaction"
   ]
  },
  {
   "cell_type": "code",
   "execution_count": 3,
   "id": "586a96f1",
   "metadata": {},
   "outputs": [
    {
     "name": "stdout",
     "output_type": "stream",
     "text": [
      "Maximum theoretical productivity of psilocybin: 5.6929988370778216e-05 mmol/gDW*h\n",
      "Theoretical max. yield of psilocybin: 1.329527959578845e-05 mmol-lyco / mmol-glc\n"
     ]
    }
   ],
   "source": [
    "psilocybin_production = model.optimize().objective_value\n",
    "print('Maximum theoretical productivity of psilocybin:', psilocybin_production, 'mmol/gDW*h')\n",
    "print(\"Theoretical max. yield of psilocybin:\", psilocybin_production / (-1*model.reactions.EX_glc_e.flux), \"mmol-lyco / mmol-glc\")"
   ]
  },
  {
   "cell_type": "code",
   "execution_count": 4,
   "id": "e6699888",
   "metadata": {},
   "outputs": [
    {
     "name": "stdout",
     "output_type": "stream",
     "text": [
      "All reactions, which are related to L-tryptophan (c):  ['TRPabcpp', 'TRPt2rpp', 'TRPTRS', 'TRPS1', 'TRPS2', 'PROTEIN', 'CrTdc']\n"
     ]
    }
   ],
   "source": [
    "tryptophan_reactions_c = [] \n",
    "for reaction in model.reactions.query(\"trp_L_c\",\"reaction\"): \n",
    "    tryptophan_reactions_c.append(reaction.id) # saving all reaction identifiers to the list tryptophan_reactions_c, which are either using or producing L-tryptophan\n",
    "print(\"All reactions, which are related to L-tryptophan (c): \" ,tryptophan_reactions_c)"
   ]
  },
  {
   "cell_type": "code",
   "execution_count": 5,
   "id": "07a9cc33",
   "metadata": {},
   "outputs": [
    {
     "name": "stdout",
     "output_type": "stream",
     "text": [
      "All names of reactions, which are related to L-tryptophan (c):  ['L_trp transport via ABC system ', 'L_tryptophan reversible transport via proton symport ', 'TryptophanyL_tRNA synthetase', 'tryptophan synthase (indoleglycerol phosphate)', 'tryptophan synthase (indole)', 'PROTEIN', '']\n"
     ]
    }
   ],
   "source": [
    "tryptophan_reactions_c_Names = []\n",
    "for reaction in tryptophan_reactions_c: \n",
    "    tryptophan_reactions_c_Names.append(model.reactions.get_by_id(reaction).name)\n",
    "print(\"All names of reactions, which are related to L-tryptophan (c): \" ,tryptophan_reactions_c_Names)"
   ]
  },
  {
   "cell_type": "code",
   "execution_count": 6,
   "id": "93116b10",
   "metadata": {},
   "outputs": [
    {
     "name": "stdout",
     "output_type": "stream",
     "text": [
      "Knocking everything out besides CrTdc reaction and synthesis reactions, which goes towards our product:  5.6929988370778216e-05 mmol/gDW*h\n"
     ]
    },
    {
     "name": "stderr",
     "output_type": "stream",
     "text": [
      "C:\\Users\\tamwei\\Anaconda3\\lib\\site-packages\\cobra\\util\\solver.py:554: UserWarning: Solver status is 'infeasible'.\n",
      "  warn(f\"Solver status is '{status}'.\", UserWarning)\n"
     ]
    }
   ],
   "source": [
    "# the code below, will knockout all reactions using L-tryptophan (c) and overproduce the synthesis reactions TRPS1 and TRPS2\n",
    "with model:\n",
    "    model.objective = model.reactions.EX_psi_e\n",
    "    model.reactions.TRPt2rpp.bounds = 0, 0\n",
    "    model.reactions.TRPabcpp.bounds = 0, 0\n",
    "    model.reactions.get_by_id(\"PROTEIN\").bounds = 0, 0\n",
    "    model.reactions.TRPS2.lower_bound = model.reactions.TRPS2.upper_bound\n",
    "    model.reactions.TRPS1.lower_bound = model.reactions.TRPS1.upper_bound\n",
    "    model.reactions.TRPTRS.bounds = 0, 0\n",
    "    print('Knocking everything out besides CrTdc reaction and synthesis reactions, which goes towards our product: ', model.optimize().objective_value, 'mmol/gDW*h')\n"
   ]
  },
  {
   "cell_type": "markdown",
   "id": "4d80d57a",
   "metadata": {},
   "source": [
    "The theoretical maximum yield of psilocybin is still ~5.7 e-05 mmol/gDW*h"
   ]
  },
  {
   "cell_type": "code",
   "execution_count": 7,
   "id": "ce2c37d9",
   "metadata": {},
   "outputs": [
    {
     "name": "stdout",
     "output_type": "stream",
     "text": [
      "5.692998837082858e-05\n"
     ]
    }
   ],
   "source": [
    "#here we knock-out the reaction producing and using psilocin to see whether the flux is looping there\n",
    "with model:\n",
    "    model.reactions.psiK2.bounds = 0, 0\n",
    "    model.reactions.pho.bounds = 0, 0\n",
    "    model.objective = model.reactions.EX_psi_e\n",
    "    print(model.optimize().objective_value)"
   ]
  },
  {
   "cell_type": "markdown",
   "id": "efee35f3",
   "metadata": {},
   "source": [
    "The therotical max. yield of psilocybin is still approx 5.7e-05 mmol/gDW*h. Thus the reactions are not influencing psilocybin production "
   ]
  },
  {
   "cell_type": "code",
   "execution_count": 8,
   "id": "7b074313",
   "metadata": {},
   "outputs": [
    {
     "data": {
      "text/plain": [
       "[5.692998837082858e-05,\n",
       " 5.692998837082858e-05,\n",
       " 5.692998837082858e-05,\n",
       " 5.692998837082858e-05,\n",
       " 5.6929988370828564e-05,\n",
       " 5.6929988370828564e-05,\n",
       " 0.0]"
      ]
     },
     "execution_count": 8,
     "metadata": {},
     "output_type": "execute_result"
    }
   ],
   "source": [
    "#The theoretical max yield after creating single knockouts of the reactions is saved to the list production_knock_outs\n",
    "production_knock_outs = []\n",
    "for reaction_id in tryptophan_reactions_c:\n",
    "   with model:\n",
    "        model.objective = model.reactions.EX_psi_e # setting objective to our product\n",
    "        model.reactions.get_by_id(reaction_id).bounds = 0, 0 #setting both bounds to 0 --> knock-out\n",
    "        production_knock_outs.append(model.optimize().objective_value)\n",
    "\n",
    "production_knock_outs\n",
    "    \n"
   ]
  },
  {
   "cell_type": "code",
   "execution_count": 9,
   "id": "cad67091",
   "metadata": {},
   "outputs": [
    {
     "name": "stdout",
     "output_type": "stream",
     "text": [
      "TRPabcpp 0.0\n",
      "TRPt2rpp 5.6929988370828415e-05\n",
      "TRPTRS 5.6929988370828415e-05\n",
      "TRPS1 5.6929988370828415e-05\n",
      "TRPS2 5.6929988370828415e-05\n",
      "PROTEIN 3.5236570605778894e-19\n",
      "CrTdc 5.69299883708285e-05\n"
     ]
    }
   ],
   "source": [
    "#The theoretical max yield, after setting both boundaries to 100  (imitating overproduction) is saved to the list production_overproduction\n",
    "\n",
    "production_overproduction = []\n",
    "for reaction_id in tryptophan_reactions_c:\n",
    "   with model:\n",
    "        model.objective = model.reactions.EX_psi_e # setting objective to our product\n",
    "        model.reactions.get_by_id(reaction_id).lower_bound = model.reactions.get_by_id(reaction_id).upper_bound # forcing the model to overexpress the respective reaction\n",
    "        production_overproduction.append(model.optimize().objective_value)\n",
    "        print(reaction_id, model.optimize().objective_value)\n",
    "    "
   ]
  },
  {
   "cell_type": "code",
   "execution_count": 10,
   "id": "8697d414",
   "metadata": {},
   "outputs": [
    {
     "data": {
      "text/html": [
       "<div>\n",
       "<style scoped>\n",
       "    .dataframe tbody tr th:only-of-type {\n",
       "        vertical-align: middle;\n",
       "    }\n",
       "\n",
       "    .dataframe tbody tr th {\n",
       "        vertical-align: top;\n",
       "    }\n",
       "\n",
       "    .dataframe thead th {\n",
       "        text-align: right;\n",
       "    }\n",
       "</style>\n",
       "<table border=\"1\" class=\"dataframe\">\n",
       "  <thead>\n",
       "    <tr style=\"text-align: right;\">\n",
       "      <th></th>\n",
       "      <th>reaction_id</th>\n",
       "      <th>psilocybin_production [mmol/gDW*h], when knocked out</th>\n",
       "      <th>psilocybin_production [mmol/gDW*h], when over-produced</th>\n",
       "    </tr>\n",
       "  </thead>\n",
       "  <tbody>\n",
       "    <tr>\n",
       "      <th>0</th>\n",
       "      <td>TRPabcpp</td>\n",
       "      <td>0.000057</td>\n",
       "      <td>0.000000e+00</td>\n",
       "    </tr>\n",
       "    <tr>\n",
       "      <th>1</th>\n",
       "      <td>TRPt2rpp</td>\n",
       "      <td>0.000057</td>\n",
       "      <td>5.692999e-05</td>\n",
       "    </tr>\n",
       "    <tr>\n",
       "      <th>2</th>\n",
       "      <td>TRPTRS</td>\n",
       "      <td>0.000057</td>\n",
       "      <td>5.692999e-05</td>\n",
       "    </tr>\n",
       "    <tr>\n",
       "      <th>3</th>\n",
       "      <td>TRPS1</td>\n",
       "      <td>0.000057</td>\n",
       "      <td>5.692999e-05</td>\n",
       "    </tr>\n",
       "    <tr>\n",
       "      <th>4</th>\n",
       "      <td>TRPS2</td>\n",
       "      <td>0.000057</td>\n",
       "      <td>5.692999e-05</td>\n",
       "    </tr>\n",
       "    <tr>\n",
       "      <th>5</th>\n",
       "      <td>PROTEIN</td>\n",
       "      <td>0.000057</td>\n",
       "      <td>3.523657e-19</td>\n",
       "    </tr>\n",
       "    <tr>\n",
       "      <th>6</th>\n",
       "      <td>CrTdc</td>\n",
       "      <td>0.000000</td>\n",
       "      <td>5.692999e-05</td>\n",
       "    </tr>\n",
       "  </tbody>\n",
       "</table>\n",
       "</div>"
      ],
      "text/plain": [
       "  reaction_id  psilocybin_production [mmol/gDW*h], when knocked out  \\\n",
       "0    TRPabcpp                                           0.000057      \n",
       "1    TRPt2rpp                                           0.000057      \n",
       "2      TRPTRS                                           0.000057      \n",
       "3       TRPS1                                           0.000057      \n",
       "4       TRPS2                                           0.000057      \n",
       "5     PROTEIN                                           0.000057      \n",
       "6       CrTdc                                           0.000000      \n",
       "\n",
       "   psilocybin_production [mmol/gDW*h], when over-produced  \n",
       "0                                       0.000000e+00       \n",
       "1                                       5.692999e-05       \n",
       "2                                       5.692999e-05       \n",
       "3                                       5.692999e-05       \n",
       "4                                       5.692999e-05       \n",
       "5                                       3.523657e-19       \n",
       "6                                       5.692999e-05       "
      ]
     },
     "execution_count": 10,
     "metadata": {},
     "output_type": "execute_result"
    }
   ],
   "source": [
    "import pandas as pd # importing pandas to enable work with dataframes\n",
    "\n",
    "data = {'reaction_id': tryptophan_reactions_c,\n",
    "        'psilocybin_production [mmol/gDW*h], when knocked out': production_knock_outs,\n",
    "        'psilocybin_production [mmol/gDW*h], when over-produced': production_overproduction,        \n",
    "        }\n",
    "\n",
    "df = pd.DataFrame(data)\n",
    "\n",
    "df"
   ]
  },
  {
   "cell_type": "markdown",
   "id": "850b314b",
   "metadata": {},
   "source": [
    "None of single-knockouts changed the theoretical max yield of psilocybin. Overproduction was simulated by setting the lower bound of each target (reaction influencing L-tryptophan by either production or usage of L-tryptophan) to the level of the higher bound. With this the model is forced to push flux toward this direction, but still is not resulting in highly unrealistic results, since the boundaries for iCW773 seemed to be realistic (numbers showed exact numbers like e.g. 77.8763742).However the highest theoretical max. yield is not higher than the one calculated before introducing gene modulation. "
   ]
  },
  {
   "cell_type": "markdown",
   "id": "f30d03d3",
   "metadata": {},
   "source": [
    "Since no manually introduced single knock-out turned out to be a promising strategy, we will check for the amount of exchange reactions, which present in the model iCW773."
   ]
  },
  {
   "cell_type": "code",
   "execution_count": 11,
   "id": "5c99d891",
   "metadata": {},
   "outputs": [
    {
     "name": "stdout",
     "output_type": "stream",
     "text": [
      "The model iCW773_psilocybin harbours  163 exchange reactions.\n"
     ]
    }
   ],
   "source": [
    "print(\"The model iCW773_psilocybin harbours \",len(model.exchanges), \"exchange reactions.\")"
   ]
  },
  {
   "cell_type": "markdown",
   "id": "733cc39e",
   "metadata": {},
   "source": [
    "The amount of exchange reaction seems to be quite high with 163 reactions."
   ]
  },
  {
   "cell_type": "code",
   "execution_count": 12,
   "id": "ae96cb52",
   "metadata": {},
   "outputs": [
    {
     "name": "stdout",
     "output_type": "stream",
     "text": [
      "ACHMSC 5.69299883708285e-05\n",
      "G1PACT 5.69299883708285e-05\n"
     ]
    },
    {
     "name": "stderr",
     "output_type": "stream",
     "text": [
      "C:\\Users\\tamwei\\Anaconda3\\lib\\site-packages\\cobra\\util\\solver.py:554: UserWarning: Solver status is 'infeasible'.\n",
      "  warn(f\"Solver status is '{status}'.\", UserWarning)\n"
     ]
    },
    {
     "name": "stdout",
     "output_type": "stream",
     "text": [
      "PGAMT 5.69299883708285e-05\n",
      "SERAT 9.754102287778158e-16\n",
      "MTHFR2 5.69299883708285e-05\n",
      "GLNS 0.0\n",
      "CYSTL 0.0\n",
      "HSST 0.0\n",
      "METS 0.0\n",
      "ADK1 5.69299883708285e-05\n",
      "CYTK1 8.245815711310094e-16\n",
      "CYTK2 8.245815711310094e-16\n",
      "GK1 0.0\n",
      "NDPK1 5.69299883708285e-05\n",
      "RNDR3 0.0\n",
      "CTPS2 0.0\n",
      "GMPS2 0.0\n",
      "CrTdc 5.692998837081298e-05\n",
      "psiH 5.692998837081298e-05\n",
      "psiK 5.692998837081298e-05\n",
      "psiM 5.692998835127305e-05\n",
      "psiM2 5.6929988431875245e-05\n",
      "psitpp 5.692998831818841e-05\n",
      "EX_psi_e 5.692998831818841e-05\n"
     ]
    }
   ],
   "source": [
    "# Overexpression of all targets identified within FSEOF\n",
    "targets = ['ACHMSC', 'G1PACT','PGAMT','SERAT','MTHFR2','GLNS','CYSTL','HSST','METS','ADK1','CYTK1','CYTK2','GK1','NDPK1','RNDR3','CTPS2','GMPS2','CrTdc','psiH','psiK','psiM','psiM2','psitpp','EX_psi_e']\n",
    "production_overproduction_targets = []\n",
    "for reaction_id in targets:\n",
    "   with model:\n",
    "        model.objective = model.reactions.EX_psi_e # setting objective to our product\n",
    "        model.reactions.get_by_id(reaction_id).lower_bound = model.reactions.get_by_id(reaction_id).upper_bound # forcing the model to overexpress the respective reaction\n",
    "        production_overproduction_targets.append(model.optimize().objective_value)\n",
    "        print(reaction_id, model.optimize().objective_value)\n"
   ]
  },
  {
   "cell_type": "markdown",
   "id": "6bd2aa16",
   "metadata": {},
   "source": [
    "Testing overexpression of identified targets (via FSEOF), does also not result in higher theoretical max yield. The highest achieved yield is ~5.7e-05 and thus not increased to the original yield."
   ]
  },
  {
   "cell_type": "code",
   "execution_count": null,
   "id": "c002f9d8",
   "metadata": {},
   "outputs": [],
   "source": []
  }
 ],
 "metadata": {
  "kernelspec": {
   "display_name": "Python 3 (ipykernel)",
   "language": "python",
   "name": "python3"
  },
  "language_info": {
   "codemirror_mode": {
    "name": "ipython",
    "version": 3
   },
   "file_extension": ".py",
   "mimetype": "text/x-python",
   "name": "python",
   "nbconvert_exporter": "python",
   "pygments_lexer": "ipython3",
   "version": "3.8.11"
  }
 },
 "nbformat": 4,
 "nbformat_minor": 5
}
