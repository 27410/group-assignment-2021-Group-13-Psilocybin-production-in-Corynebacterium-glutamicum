{
 "cells": [
  {
   "cell_type": "code",
   "execution_count": 1,
   "id": "28cc9eb2",
   "metadata": {
    "scrolled": false
   },
   "outputs": [
    {
     "name": "stderr",
     "output_type": "stream",
     "text": [
      "No objective coefficients in model. Unclear what should be optimized\n"
     ]
    }
   ],
   "source": [
    "%run 1._Add_Psilocybin_to_Coynebacterium_Model.ipynb #change model source here"
   ]
  },
  {
   "cell_type": "code",
   "execution_count": 2,
   "id": "208bde84",
   "metadata": {},
   "outputs": [],
   "source": [
    "from cobra.io import read_sbml_model\n",
    "from cobra.medium import minimal_medium\n",
    "import pandas as pd\n",
    "import matplotlib.pyplot as plt\n",
    "\n",
    "#max_growth = model.slim_optimize()\n",
    "#model.medium = minimal_medium(model, max_growth)"
   ]
  },
  {
   "cell_type": "code",
   "execution_count": 3,
   "id": "ad065fd9",
   "metadata": {},
   "outputs": [],
   "source": [
    "target = model.reactions.EX_psi_e"
   ]
  },
  {
   "cell_type": "code",
   "execution_count": 4,
   "id": "7ba34423",
   "metadata": {},
   "outputs": [
    {
     "name": "stdout",
     "output_type": "stream",
     "text": [
      "5.69299883708285e-05\n"
     ]
    }
   ],
   "source": [
    "with model:\n",
    "    model.objective = target\n",
    "    print(model.optimize().objective_value)"
   ]
  },
  {
   "cell_type": "markdown",
   "id": "739556bb",
   "metadata": {},
   "source": [
    "# Overview of Reactions"
   ]
  },
  {
   "cell_type": "code",
   "execution_count": 5,
   "id": "d586cdf6",
   "metadata": {},
   "outputs": [],
   "source": [
    "#for x in model.reactions:\n",
    " #   print(\"%s : %s\" % (x.id, x.reaction))"
   ]
  },
  {
   "cell_type": "code",
   "execution_count": 6,
   "id": "d311b5bd",
   "metadata": {},
   "outputs": [
    {
     "data": {
      "text/plain": [
       "[<Reaction psiK2 at 0x264c78b0ba8>,\n",
       " <Reaction psiM2 at 0x264c78b0e80>,\n",
       " <Reaction pho at 0x264c78b0d68>,\n",
       " <Reaction psitpp at 0x264c78b0c50>]"
      ]
     },
     "execution_count": 6,
     "metadata": {},
     "output_type": "execute_result"
    }
   ],
   "source": [
    "model.reactions.query('psi_c','reaction')"
   ]
  },
  {
   "cell_type": "code",
   "execution_count": 7,
   "id": "25ea983c",
   "metadata": {
    "scrolled": true
   },
   "outputs": [
    {
     "name": "stdout",
     "output_type": "stream",
     "text": [
      "TRPabcpp : atp_c + h2o_c + trp_L_e --> adp_c + h_c + pi_c + trp_L_c\n",
      "TRPt2rpp : h_e + trp_L_e <-- h_c + trp_L_c\n",
      "TRPTRS : atp_c + trnatrp_c + trp_L_c --> amp_c + ppi_c + trptrna_c\n",
      "TRPS1 : 3ig3p_c + ser_L_c --> g3p_c + h2o_c + trp_L_c\n",
      "TRPS2 : indole_c + ser_L_c --> h2o_c + trp_L_c\n",
      "PROTEIN : 1.3527 ala_L_c + 0.38519 arg_L_c + 0.39281 asn_L_c + 0.39281 asp_L_c + 40.0656 atp_c + 0.089437 cys_L_c + 0.69314 gln_L_c + 1.1139 glu_L_c + 0.71651 gly_c + 30.7601 h2o_c + 0.13619 his_L_c + 0.38316 ile_L_c + 0.71347 leu_L_c + 0.37909 lys_L_c + 0.15347 met_L_c + 0.26018 phe_L_c + 0.32319 pro_L_c + 0.498 ser_L_c + 0.5539 thr_L_c + 0.055899 trp_L_c + 0.15753 tyr_L_c + 0.55492 vaL_L_c --> 40.0656 adp_c + 40.0656 h_c + 40.0656 pi_c + protein_c\n",
      "CrTdc : trp_L_c --> co2_c + tryp_c\n"
     ]
    }
   ],
   "source": [
    "for x in model.reactions.query('trp_L_c','reaction'):\n",
    "    print(\"%s : %s\" % (x.id, x.reaction)) #lists all reactions containing tryptophan_c"
   ]
  },
  {
   "cell_type": "code",
   "execution_count": 8,
   "id": "647e577a",
   "metadata": {
    "scrolled": true
   },
   "outputs": [
    {
     "name": "stdout",
     "output_type": "stream",
     "text": [
      "CrTdc : trp_L_c --> co2_c + tryp_c\n",
      "psiH : 2 nadph_c + o2_c + tryp_c --> _4htryp_c + h2o_c + 2 nadp_c\n",
      "psiK : _4htryp_c + atp_c --> adp_c + nbc_c\n",
      "psiM : amet_c + nbc_c --> ahcys_c + baecyst_c\n",
      "psiM2 : amet_c + baecyst_c --> ahcys_c + psi_c\n"
     ]
    }
   ],
   "source": [
    "print(model.reactions.CrTdc.id, ':', model.reactions.CrTdc.reaction)\n",
    "print(model.reactions.psiH.id, ':', model.reactions.psiH.reaction)\n",
    "print(model.reactions.psiK.id, ':', model.reactions.psiK.reaction)\n",
    "print(model.reactions.psiM.id, ':', model.reactions.psiM.reaction)\n",
    "print(model.reactions.psiM2.id, ':', model.reactions.psiM2.reaction)\n",
    "\n",
    "#print(model.reactions.pho.reaction)\n",
    "#print(model.reactions.psiK2.reaction)"
   ]
  },
  {
   "cell_type": "markdown",
   "id": "cfa55ff3",
   "metadata": {},
   "source": [
    "# Resulting Flux Optimized for Psi Production\n",
    "\n"
   ]
  },
  {
   "cell_type": "code",
   "execution_count": 9,
   "id": "8a945135",
   "metadata": {
    "scrolled": true
   },
   "outputs": [
    {
     "data": {
      "text/plain": [
       "{'EX_ca2_e': 0.0144877134286247,\n",
       " 'EX_cobalt2_e': 7.00338234344926e-05,\n",
       " 'EX_cu2_e': 0.00197271722237563,\n",
       " 'EX_fe2_e': 0.16239125,\n",
       " 'EX_fe3_e': 0.0217300637039616,\n",
       " 'EX_glc_e': 4.67,\n",
       " 'EX_k_e': 0.543285250115532,\n",
       " 'EX_mg2_e': 0.0241459221505149,\n",
       " 'EX_mn2_e': 0.00192443552016793,\n",
       " 'EX_nh4_e': 11.9121416666662,\n",
       " 'EX_ni2_e': 0.00089824250292982,\n",
       " 'EX_o2_e': 16.5067783333334,\n",
       " 'EX_pi_e': 0.918000000000888,\n",
       " 'EX_so4_e': 4.01673156249995,\n",
       " 'EX_zn2_e': 0.000948926279874219,\n",
       " 'EX_BIOTIN': 1.01925397503027e-06,\n",
       " 'EX_cl': 0.0144877134286247}"
      ]
     },
     "execution_count": 9,
     "metadata": {},
     "output_type": "execute_result"
    }
   ],
   "source": [
    "medium = model.medium\n",
    "medium[\"EX_psi_e\"] = 0\n",
    "\n",
    "model.medium = medium\n",
    "\n",
    "model.medium"
   ]
  },
  {
   "cell_type": "markdown",
   "id": "1dce39f8",
   "metadata": {},
   "source": [
    "## before messing with media"
   ]
  },
  {
   "cell_type": "code",
   "execution_count": 10,
   "id": "057b84e0",
   "metadata": {},
   "outputs": [
    {
     "name": "stdout",
     "output_type": "stream",
     "text": [
      "every reaction going toward psilocybin\n",
      "Max. psi production [mmol gDW^-1 h^-1]: 5.69299883708285e-05\n",
      "Is there glucose uptake? -4.116294619992247\n",
      "Is there growth? 0.0\n",
      "tryptamine [mmol gDW^-1 h^-1]: 5.69299883708285e-05\n",
      "4-Hydroxytryptamine [mmol gDW^-1 h^-1]: 5.69299883708285e-05\n",
      "norbaeocystin [mmol gDW^-1 h^-1]: 5.69299883708285e-05\n",
      "baeocystin [mmol gDW^-1 h^-1]: 5.69299883708285e-05\n",
      "psilocybin [mmol gDW^-1 h^-1]: 5.69299883708285e-05\n",
      "transport [mmol gDW^-1 h^-1]: 5.69299883708285e-05\n",
      "out [mmol gDW^-1 h^-1]: 5.69299883708285e-05\n"
     ]
    }
   ],
   "source": [
    "with model:\n",
    "    model.objective = target\n",
    "    print(\"every reaction going toward psilocybin\")\n",
    "    \n",
    "    print(\"Max. psi production [mmol gDW^-1 h^-1]:\",model.optimize().objective_value)\n",
    "    \n",
    "    print(\"Is there glucose uptake?\",model.reactions.EX_glc_e.flux)\n",
    "    print(\"Is there growth?\",model.reactions.CG_biomass_cgl_ATCC13032.flux)\n",
    "    \n",
    "    print(\"tryptamine [mmol gDW^-1 h^-1]:\",model.reactions.CrTdc.flux)\n",
    "    print(\"4-Hydroxytryptamine [mmol gDW^-1 h^-1]:\",model.reactions.psiH.flux)\n",
    "    print(\"norbaeocystin [mmol gDW^-1 h^-1]:\",model.reactions.psiK.flux)\n",
    "    print(\"baeocystin [mmol gDW^-1 h^-1]:\",model.reactions.psiM.flux)\n",
    "    print(\"psilocybin [mmol gDW^-1 h^-1]:\",model.reactions.psiM2.flux)\n",
    "    print(\"transport [mmol gDW^-1 h^-1]:\",model.reactions.psitpp.flux)\n",
    "    print(\"out [mmol gDW^-1 h^-1]:\",target.flux)"
   ]
  },
  {
   "cell_type": "code",
   "execution_count": 11,
   "id": "9ed4c76f",
   "metadata": {
    "scrolled": true
   },
   "outputs": [
    {
     "name": "stdout",
     "output_type": "stream",
     "text": [
      "every reaction going from Typtophan\n",
      "Max. psi production [mmol gDW^-1 h^-1]: 5.69299883708285e-05\n",
      "TRPTRS [mmol gDW^-1 h^-1]: 0.0\n",
      "TRPS2 [mmol gDW^-1 h^-1]: 0.0\n",
      "CrTdc [mmol gDW^-1 h^-1]: 5.69299883708285e-05\n",
      "TRPS1 [mmol gDW^-1 h^-1]: 5.69299883708285e-05\n",
      "TRPt2rpp [mmol gDW^-1 h^-1]: 0.0\n",
      "TRPabcpp [mmol gDW^-1 h^-1]: 0.0\n",
      "PROTEIN [mmol gDW^-1 h^-1]: 0.0\n"
     ]
    }
   ],
   "source": [
    "with model:\n",
    "    model.objective = target\n",
    "    print(\"every reaction going from Typtophan\")\n",
    "    \n",
    "    print(\"Max. psi production [mmol gDW^-1 h^-1]:\",model.optimize().objective_value)\n",
    "    print(\"TRPTRS [mmol gDW^-1 h^-1]:\",model.reactions.TRPTRS.flux)\n",
    "    print(\"TRPS2 [mmol gDW^-1 h^-1]:\",model.reactions.TRPS2.flux)\n",
    "    print(\"CrTdc [mmol gDW^-1 h^-1]:\",model.reactions.CrTdc.flux)\n",
    "    print(\"TRPS1 [mmol gDW^-1 h^-1]:\",model.reactions.TRPS1.flux)\n",
    "    print(\"TRPt2rpp [mmol gDW^-1 h^-1]:\",model.reactions.TRPt2rpp.flux)\n",
    "    print(\"TRPabcpp [mmol gDW^-1 h^-1]:\",model.reactions.TRPabcpp.flux)\n",
    "    print(\"PROTEIN [mmol gDW^-1 h^-1]:\",model.reactions.PROTEIN.flux)\n",
    "    \n",
    "    "
   ]
  },
  {
   "cell_type": "markdown",
   "id": "eca50c64",
   "metadata": {},
   "source": [
    "The production of psilocybin will be highest when there is no growth. This allows all of the tryptophan in the cell to go towards psilocybin."
   ]
  },
  {
   "cell_type": "markdown",
   "id": "7c5cad7a",
   "metadata": {},
   "source": [
    "### And now if looking at demand functions"
   ]
  },
  {
   "cell_type": "code",
   "execution_count": 12,
   "id": "66cbf336",
   "metadata": {},
   "outputs": [
    {
     "name": "stdout",
     "output_type": "stream",
     "text": [
      "Demand function for SAM. The solver can't reach a solution.\n",
      "Without this reaction, the fluxes for psilocibin production are zero.\n"
     ]
    }
   ],
   "source": [
    "with model:\n",
    "    model.objective = target\n",
    "    print(\"Demand function for SAM. The solver can't reach a solution.\") \n",
    "    print(\"Without this reaction, the fluxes for psilocibin production are zero.\")\n",
    "\n",
    "    #print(\"transport [mmol gDW^-1 h^-1]:\",model.reactions.DM_ahcys_c.flux)\n",
    "    "
   ]
  },
  {
   "cell_type": "markdown",
   "id": "372a9066",
   "metadata": {},
   "source": [
    "## Modify Medium"
   ]
  },
  {
   "cell_type": "code",
   "execution_count": 13,
   "id": "50ac824f",
   "metadata": {},
   "outputs": [
    {
     "data": {
      "text/html": [
       "\n",
       "        <table>\n",
       "            <tr>\n",
       "                <td><strong>Reaction identifier</strong></td><td>TRPS1</td>\n",
       "            </tr><tr>\n",
       "                <td><strong>Name</strong></td><td>tryptophan synthase (indoleglycerol phosphate)</td>\n",
       "            </tr><tr>\n",
       "                <td><strong>Memory address</strong></td>\n",
       "                <td>0x0264c7b15978</td>\n",
       "            </tr><tr>\n",
       "                <td><strong>Stoichiometry</strong></td>\n",
       "                <td>\n",
       "                    <p style='text-align:right'>3ig3p_c + ser_L_c --> g3p_c + h2o_c + trp_L_c</p>\n",
       "                    <p style='text-align:right'>C'-(3-Indolyl)-glycerol 3-phosphate + L_Serine --> Glyceraldehyde 3-phosphate + H2O + L_Tryptophan</p>\n",
       "                </td>\n",
       "            </tr><tr>\n",
       "                <td><strong>GPR</strong></td><td>cg3363 and cg3364</td>\n",
       "            </tr><tr>\n",
       "                <td><strong>Lower bound</strong></td><td>0.0</td>\n",
       "            </tr><tr>\n",
       "                <td><strong>Upper bound</strong></td><td>0.22043</td>\n",
       "            </tr>\n",
       "        </table>\n",
       "        "
      ],
      "text/plain": [
       "<Reaction TRPS1 at 0x264c7b15978>"
      ]
     },
     "execution_count": 13,
     "metadata": {},
     "output_type": "execute_result"
    }
   ],
   "source": [
    "model.reactions.TRPS1"
   ]
  },
  {
   "cell_type": "code",
   "execution_count": 14,
   "id": "8607f967",
   "metadata": {
    "scrolled": true
   },
   "outputs": [
    {
     "data": {
      "text/plain": [
       "{'EX_ca2_e': 0.0144877134286247,\n",
       " 'EX_cobalt2_e': 7.00338234344926e-05,\n",
       " 'EX_cu2_e': 0.00197271722237563,\n",
       " 'EX_fe2_e': 0.16239125,\n",
       " 'EX_fe3_e': 0.0217300637039616,\n",
       " 'EX_glc_e': 10,\n",
       " 'EX_k_e': 0.543285250115532,\n",
       " 'EX_mg2_e': 0.0241459221505149,\n",
       " 'EX_mn2_e': 0.00192443552016793,\n",
       " 'EX_nh4_e': 11.9121416666662,\n",
       " 'EX_ni2_e': 0.00089824250292982,\n",
       " 'EX_o2_e': 10,\n",
       " 'EX_pi_e': 0.918000000000888,\n",
       " 'EX_ser_L_e': 10,\n",
       " 'EX_so4_e': 4.01673156249995,\n",
       " 'EX_sucr_e': 10,\n",
       " 'EX_trp_L_e': 20,\n",
       " 'EX_zn2_e': 0.000948926279874219,\n",
       " 'EX_BIOTIN': 1.01925397503027e-06,\n",
       " 'EX_cl': 0.0144877134286247}"
      ]
     },
     "execution_count": 14,
     "metadata": {},
     "output_type": "execute_result"
    }
   ],
   "source": [
    "medium = model.medium\n",
    "medium[\"EX_glc_e\"] = 10 #carbon source, glucose\n",
    "medium[\"EX_o2_e\"] = 10 #oxygen\n",
    "medium[\"EX_sucr_e\"] = 10 #carbon source, sucrose\n",
    "medium[\"EX_trp_L_e\"] = 20 #Involved psilocybin production\n",
    "medium[\"EX_ser_L_e\"] = 10 #Involved in tryptophan production\n",
    "\n",
    "model.medium = medium\n",
    "\n",
    "model.medium"
   ]
  },
  {
   "cell_type": "markdown",
   "id": "855557c0",
   "metadata": {},
   "source": [
    "## Set Bounds Here"
   ]
  },
  {
   "cell_type": "code",
   "execution_count": 15,
   "id": "a6ced187",
   "metadata": {},
   "outputs": [],
   "source": [
    "#model.reactions.TRPS1.upper_bound=100 #ensure tryptophan production, explore media later. \n",
    "#model.reactions.TRPS1.lower_bound=.1\n",
    "\n",
    "#model.reactions.TRPt2rpp.upper_bound=0 #Knock out tryptophan exporter.\n",
    "#model.reactions.TRPt2rpp.lower_bound=0\n",
    "#model.reactions.TRPt2rpp.bounds =0,0.5 #downregulate tryptophan exporter"
   ]
  },
  {
   "cell_type": "code",
   "execution_count": 16,
   "id": "224f8dcc",
   "metadata": {},
   "outputs": [],
   "source": [
    "model.reactions.CG_biomass_cgl_ATCC13032.lower_bound=0.1 #see if production happens while cell is growing"
   ]
  },
  {
   "cell_type": "markdown",
   "id": "2b2865e9",
   "metadata": {},
   "source": [
    "## Result From Modified Medium"
   ]
  },
  {
   "cell_type": "code",
   "execution_count": 17,
   "id": "94ce68eb",
   "metadata": {
    "scrolled": true
   },
   "outputs": [
    {
     "name": "stdout",
     "output_type": "stream",
     "text": [
      "every reaction going toward psilocybin\n",
      "Max. psi production [mmol gDW^-1 h^-1]: 4.365741867082851e-05\n",
      "Is there glucose uptake? -4.159013417817164\n",
      "Is there growth? 0.1\n",
      "tryptamine [mmol gDW^-1 h^-1]: 4.365741867082851e-05\n",
      "4-Hydroxytryptamine [mmol gDW^-1 h^-1]: 4.365741867082851e-05\n",
      "norbaeocystin [mmol gDW^-1 h^-1]: 4.365741867082851e-05\n",
      "baeocystin [mmol gDW^-1 h^-1]: 4.365741867082851e-05\n",
      "psilocybin [mmol gDW^-1 h^-1]: 4.365741867082851e-05\n",
      "pho [mmol gDW^-1 h^-1]: 0.0\n",
      "restore [mmol gDW^-1 h^-1]: 0.0\n",
      "transport [mmol gDW^-1 h^-1]: 4.365741867082851e-05\n",
      "out [mmol gDW^-1 h^-1]: 4.365741867082851e-05\n"
     ]
    }
   ],
   "source": [
    "with model:\n",
    "    model.objective = target\n",
    "    print(\"every reaction going toward psilocybin\")\n",
    "    \n",
    "    print(\"Max. psi production [mmol gDW^-1 h^-1]:\",model.optimize().objective_value)\n",
    "    \n",
    "    print(\"Is there glucose uptake?\",model.reactions.EX_glc_e.flux)\n",
    "    print(\"Is there growth?\",model.reactions.CG_biomass_cgl_ATCC13032.flux)\n",
    "    \n",
    "    print(\"tryptamine [mmol gDW^-1 h^-1]:\",model.reactions.CrTdc.flux)\n",
    "    print(\"4-Hydroxytryptamine [mmol gDW^-1 h^-1]:\",model.reactions.psiH.flux)\n",
    "    print(\"norbaeocystin [mmol gDW^-1 h^-1]:\",model.reactions.psiK.flux)\n",
    "    print(\"baeocystin [mmol gDW^-1 h^-1]:\",model.reactions.psiM.flux)\n",
    "    print(\"psilocybin [mmol gDW^-1 h^-1]:\",model.reactions.psiM2.flux)\n",
    "    print(\"pho [mmol gDW^-1 h^-1]:\",model.reactions.pho.flux)\n",
    "    print(\"restore [mmol gDW^-1 h^-1]:\",model.reactions.psiK2.flux)\n",
    "    print(\"transport [mmol gDW^-1 h^-1]:\",model.reactions.psitpp.flux)\n",
    "    print(\"out [mmol gDW^-1 h^-1]:\",target.flux)"
   ]
  },
  {
   "cell_type": "code",
   "execution_count": 18,
   "id": "37c1adec",
   "metadata": {
    "scrolled": false
   },
   "outputs": [
    {
     "name": "stdout",
     "output_type": "stream",
     "text": [
      "every reaction going from Typtophan\n",
      "Max. psi production [mmol gDW^-1 h^-1]: 4.365741867082851e-05\n",
      "TRPTRS [mmol gDW^-1 h^-1]: 0.0\n",
      "TRPS2 [mmol gDW^-1 h^-1]: 0.0\n",
      "CrTdc [mmol gDW^-1 h^-1]: 4.365741867082851e-05\n",
      "TRPS1 [mmol gDW^-1 h^-1]: 0.0030637685906708284\n",
      "TRPt2rpp [mmol gDW^-1 h^-1]: 0.0\n",
      "TRPabcpp [mmol gDW^-1 h^-1]: 0.0\n",
      "PROTEIN [mmol gDW^-1 h^-1]: 0.054028\n"
     ]
    }
   ],
   "source": [
    "with model:\n",
    "    model.objective = target\n",
    "    print(\"every reaction going from Typtophan\")\n",
    "    \n",
    "    print(\"Max. psi production [mmol gDW^-1 h^-1]:\",model.optimize().objective_value)\n",
    "    print(\"TRPTRS [mmol gDW^-1 h^-1]:\",model.reactions.TRPTRS.flux)\n",
    "    print(\"TRPS2 [mmol gDW^-1 h^-1]:\",model.reactions.TRPS2.flux)\n",
    "    print(\"CrTdc [mmol gDW^-1 h^-1]:\",model.reactions.CrTdc.flux)\n",
    "    print(\"TRPS1 [mmol gDW^-1 h^-1]:\",model.reactions.TRPS1.flux)\n",
    "    print(\"TRPt2rpp [mmol gDW^-1 h^-1]:\",model.reactions.TRPt2rpp.flux)\n",
    "    print(\"TRPabcpp [mmol gDW^-1 h^-1]:\",model.reactions.TRPabcpp.flux)\n",
    "    print(\"PROTEIN [mmol gDW^-1 h^-1]:\",model.reactions.PROTEIN.flux)\n",
    "    \n",
    "    "
   ]
  },
  {
   "cell_type": "markdown",
   "id": "26563ddb",
   "metadata": {},
   "source": [
    "Notice that protein production pulls tryptophan from psilocybin pathway"
   ]
  },
  {
   "cell_type": "markdown",
   "id": "48e9d528",
   "metadata": {},
   "source": [
    "# Adding amino acids"
   ]
  },
  {
   "cell_type": "code",
   "execution_count": 22,
   "id": "41ffcc5d",
   "metadata": {
    "scrolled": false
   },
   "outputs": [
    {
     "data": {
      "text/plain": [
       "[<Metabolite ala_B_c at 0x264c71a12e8>,\n",
       " <Metabolite ala_B_e at 0x264c71a1390>,\n",
       " <Metabolite ala_D_c at 0x264c71a14a8>,\n",
       " <Metabolite ala_D_e at 0x264c71a1550>,\n",
       " <Metabolite ala_L_c at 0x264c71a15f8>,\n",
       " <Metabolite ala_L_e at 0x264c71a16a0>]"
      ]
     },
     "execution_count": 22,
     "metadata": {},
     "output_type": "execute_result"
    }
   ],
   "source": [
    "model.metabolites.query('Alanine','name') #what does an amino acid exchange look like"
   ]
  },
  {
   "cell_type": "code",
   "execution_count": 23,
   "id": "f7fbafc4",
   "metadata": {
    "scrolled": false
   },
   "outputs": [
    {
     "data": {
      "text/html": [
       "\n",
       "        <table>\n",
       "            <tr>\n",
       "                <td><strong>Reaction identifier</strong></td><td>EX_ala_L_e</td>\n",
       "            </tr><tr>\n",
       "                <td><strong>Name</strong></td><td>L_Alanine exchange</td>\n",
       "            </tr><tr>\n",
       "                <td><strong>Memory address</strong></td>\n",
       "                <td>0x0264c7667e48</td>\n",
       "            </tr><tr>\n",
       "                <td><strong>Stoichiometry</strong></td>\n",
       "                <td>\n",
       "                    <p style='text-align:right'>ala_L_e --></p>\n",
       "                    <p style='text-align:right'>L_Alanine --></p>\n",
       "                </td>\n",
       "            </tr><tr>\n",
       "                <td><strong>GPR</strong></td><td></td>\n",
       "            </tr><tr>\n",
       "                <td><strong>Lower bound</strong></td><td>0</td>\n",
       "            </tr><tr>\n",
       "                <td><strong>Upper bound</strong></td><td>4.61339666666667</td>\n",
       "            </tr>\n",
       "        </table>\n",
       "        "
      ],
      "text/plain": [
       "<Reaction EX_ala_L_e at 0x264c7667e48>"
      ]
     },
     "execution_count": 23,
     "metadata": {},
     "output_type": "execute_result"
    }
   ],
   "source": [
    "model.reactions.EX_ala_L_e #Like this (AA format)"
   ]
  },
  {
   "cell_type": "code",
   "execution_count": 24,
   "id": "3f019573",
   "metadata": {},
   "outputs": [
    {
     "data": {
      "text/plain": [
       "{'EX_ala_L_e': 10,\n",
       " 'EX_arg_L_e': 10,\n",
       " 'EX_asn_L_e': 10,\n",
       " 'EX_asp_L_e': 10,\n",
       " 'EX_ca2_e': 0.0144877134286247,\n",
       " 'EX_cobalt2_e': 7.00338234344926e-05,\n",
       " 'EX_cu2_e': 0.00197271722237563,\n",
       " 'EX_cys_L_e': 10,\n",
       " 'EX_fe2_e': 0.16239125,\n",
       " 'EX_fe3_e': 0.0217300637039616,\n",
       " 'EX_glc_e': 10,\n",
       " 'EX_gln_L_e': 10,\n",
       " 'EX_glu_L_e': 10,\n",
       " 'EX_gly_e': 10,\n",
       " 'EX_h_e': 10,\n",
       " 'EX_his_L_e': 10,\n",
       " 'EX_ile_L_e': 10,\n",
       " 'EX_k_e': 0.543285250115532,\n",
       " 'EX_leu_L_e': 10,\n",
       " 'EX_lys_L_e': 10,\n",
       " 'EX_met_L_e': 10,\n",
       " 'EX_mg2_e': 0.0241459221505149,\n",
       " 'EX_mn2_e': 0.00192443552016793,\n",
       " 'EX_nh4_e': 7,\n",
       " 'EX_ni2_e': 0.00089824250292982,\n",
       " 'EX_o2_e': 7,\n",
       " 'EX_phe_L_e': 10,\n",
       " 'EX_pi_e': 10,\n",
       " 'EX_pro_L_e': 10,\n",
       " 'EX_ser_L_e': 10,\n",
       " 'EX_so4_e': 4.01673156249995,\n",
       " 'EX_sucr_e': 10,\n",
       " 'EX_thr_L_e': 10,\n",
       " 'EX_trp_L_e': 10,\n",
       " 'EX_tyr_L_e': 10,\n",
       " 'EX_val_L_e': 10,\n",
       " 'EX_zn2_e': 0.000948926279874219,\n",
       " 'EX_BIOTIN': 1.01925397503027e-06,\n",
       " 'EX_cl': 0.0144877134286247}"
      ]
     },
     "execution_count": 24,
     "metadata": {},
     "output_type": "execute_result"
    }
   ],
   "source": [
    "medium = model.medium\n",
    "medium[\"EX_ala_L_e\"] = 10\n",
    "medium[\"EX_arg_L_e\"] = 10\n",
    "medium[\"EX_asn_L_e\"] = 10\n",
    "medium[\"EX_asp_L_e\"] = 10\n",
    "medium[\"EX_cys_L_e\"] = 10\n",
    "medium[\"EX_gln_L_e\"] = 10\n",
    "medium[\"EX_glu_L_e\"] = 10\n",
    "medium[\"EX_gly_e\"] = 10\n",
    "medium[\"EX_his_L_e\"] = 10\n",
    "medium[\"EX_ile_L_e\"] = 10\n",
    "medium[\"EX_leu_L_e\"] = 10\n",
    "medium[\"EX_lys_L_e\"] = 10\n",
    "medium[\"EX_met_L_e\"] = 10\n",
    "medium[\"EX_phe_L_e\"] = 10\n",
    "medium[\"EX_pro_L_e\"] = 10\n",
    "medium[\"EX_ser_L_e\"] = 10\n",
    "medium[\"EX_thr_L_e\"] = 10\n",
    "medium[\"EX_trp_L_e\"] = 10\n",
    "medium[\"EX_tyr_L_e\"] = 10\n",
    "medium[\"EX_val_L_e\"] = 10\n",
    "#these didn't actually seem to help at all\n",
    "\n",
    "medium[\"EX_pi_e\"] = 10\n",
    "medium[\"EX_h_e\"] = 10\n",
    "medium[\"EX_h_e\"] = 10\n",
    "medium[\"EX_h_e\"] = 10\n",
    "\n",
    "medium[\"EX_o2_e\"] = 7\n",
    "medium[\"EX_nh4_e\"] = 7\n",
    "\n",
    "model.medium = medium\n",
    "\n",
    "model.medium"
   ]
  },
  {
   "cell_type": "code",
   "execution_count": 25,
   "id": "11a06826",
   "metadata": {},
   "outputs": [
    {
     "name": "stdout",
     "output_type": "stream",
     "text": [
      "every reaction going toward psilocybin\n",
      "Max. psi production [mmol gDW^-1 h^-1]: 4.365741867082851e-05\n",
      "Is there glucose uptake? -4.159013417817164\n",
      "Is there growth? 0.1\n",
      "tryptamine [mmol gDW^-1 h^-1]: 4.365741867082851e-05\n",
      "4-Hydroxytryptamine [mmol gDW^-1 h^-1]: 4.365741867082851e-05\n",
      "norbaeocystin [mmol gDW^-1 h^-1]: 4.365741867082851e-05\n",
      "baeocystin [mmol gDW^-1 h^-1]: 4.365741867082851e-05\n",
      "psilocybin [mmol gDW^-1 h^-1]: 4.365741867082851e-05\n",
      "pho [mmol gDW^-1 h^-1]: 0.0\n",
      "restore [mmol gDW^-1 h^-1]: 0.0\n",
      "transport [mmol gDW^-1 h^-1]: 4.365741867082851e-05\n",
      "out [mmol gDW^-1 h^-1]: 4.365741867082851e-05\n"
     ]
    }
   ],
   "source": [
    "with model:\n",
    "    model.objective = target\n",
    "    print(\"every reaction going toward psilocybin\")\n",
    "    \n",
    "    print(\"Max. psi production [mmol gDW^-1 h^-1]:\",model.optimize().objective_value)\n",
    "    \n",
    "    print(\"Is there glucose uptake?\",model.reactions.EX_glc_e.flux)\n",
    "    print(\"Is there growth?\",model.reactions.CG_biomass_cgl_ATCC13032.flux)\n",
    "    \n",
    "    print(\"tryptamine [mmol gDW^-1 h^-1]:\",model.reactions.CrTdc.flux)\n",
    "    print(\"4-Hydroxytryptamine [mmol gDW^-1 h^-1]:\",model.reactions.psiH.flux)\n",
    "    print(\"norbaeocystin [mmol gDW^-1 h^-1]:\",model.reactions.psiK.flux)\n",
    "    print(\"baeocystin [mmol gDW^-1 h^-1]:\",model.reactions.psiM.flux)\n",
    "    print(\"psilocybin [mmol gDW^-1 h^-1]:\",model.reactions.psiM2.flux)\n",
    "    print(\"pho [mmol gDW^-1 h^-1]:\",model.reactions.pho.flux)\n",
    "    print(\"restore [mmol gDW^-1 h^-1]:\",model.reactions.psiK2.flux)\n",
    "    print(\"transport [mmol gDW^-1 h^-1]:\",model.reactions.psitpp.flux)\n",
    "    print(\"out [mmol gDW^-1 h^-1]:\",target.flux)"
   ]
  },
  {
   "cell_type": "code",
   "execution_count": 26,
   "id": "269d59e6",
   "metadata": {},
   "outputs": [
    {
     "name": "stdout",
     "output_type": "stream",
     "text": [
      "every reaction going from Typtophan\n",
      "Max. psi production [mmol gDW^-1 h^-1]: 4.365741867082851e-05\n",
      "TRPTRS [mmol gDW^-1 h^-1]: 0.0\n",
      "TRPS2 [mmol gDW^-1 h^-1]: 0.0\n",
      "CrTdc [mmol gDW^-1 h^-1]: 4.365741867082851e-05\n",
      "TRPS1 [mmol gDW^-1 h^-1]: 0.0030637685906708284\n",
      "TRPt2rpp [mmol gDW^-1 h^-1]: 0.0\n",
      "TRPabcpp [mmol gDW^-1 h^-1]: 0.0\n",
      "PROTEIN [mmol gDW^-1 h^-1]: 0.054028\n"
     ]
    }
   ],
   "source": [
    "with model:\n",
    "    model.objective = target\n",
    "    print(\"every reaction going from Typtophan\")\n",
    "    \n",
    "    print(\"Max. psi production [mmol gDW^-1 h^-1]:\",model.optimize().objective_value)\n",
    "    print(\"TRPTRS [mmol gDW^-1 h^-1]:\",model.reactions.TRPTRS.flux)\n",
    "    print(\"TRPS2 [mmol gDW^-1 h^-1]:\",model.reactions.TRPS2.flux)\n",
    "    print(\"CrTdc [mmol gDW^-1 h^-1]:\",model.reactions.CrTdc.flux)\n",
    "    print(\"TRPS1 [mmol gDW^-1 h^-1]:\",model.reactions.TRPS1.flux)\n",
    "    print(\"TRPt2rpp [mmol gDW^-1 h^-1]:\",model.reactions.TRPt2rpp.flux)\n",
    "    print(\"TRPabcpp [mmol gDW^-1 h^-1]:\",model.reactions.TRPabcpp.flux)\n",
    "    print(\"PROTEIN [mmol gDW^-1 h^-1]:\",model.reactions.PROTEIN.flux)\n",
    "    "
   ]
  },
  {
   "cell_type": "code",
   "execution_count": 27,
   "id": "facf9c88",
   "metadata": {},
   "outputs": [
    {
     "name": "stdout",
     "output_type": "stream",
     "text": [
      "1217 reactions initially\n",
      "956 metabolites initially\n",
      "773 genes initially\n"
     ]
    }
   ],
   "source": [
    "print(f'{len(model.reactions)} reactions initially')\n",
    "print(f'{len(model.metabolites)} metabolites initially')\n",
    "print(f'{len(model.genes)} genes initially')"
   ]
  }
 ],
 "metadata": {
  "kernelspec": {
   "display_name": "Python 3",
   "language": "python",
   "name": "python3"
  },
  "language_info": {
   "codemirror_mode": {
    "name": "ipython",
    "version": 3
   },
   "file_extension": ".py",
   "mimetype": "text/x-python",
   "name": "python",
   "nbconvert_exporter": "python",
   "pygments_lexer": "ipython3",
   "version": "3.6.13"
  }
 },
 "nbformat": 4,
 "nbformat_minor": 5
}
