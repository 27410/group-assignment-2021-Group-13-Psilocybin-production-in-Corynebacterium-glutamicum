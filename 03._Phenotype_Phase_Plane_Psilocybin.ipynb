{
 "cells": [
  {
   "cell_type": "code",
   "execution_count": 1,
   "id": "34b2fdb6",
   "metadata": {
    "scrolled": true
   },
   "outputs": [
    {
     "name": "stderr",
     "output_type": "stream",
     "text": [
      "No objective coefficients in model. Unclear what should be optimized\n"
     ]
    }
   ],
   "source": [
    "%run 1._Add_Psilocybin_to_Coynebacterium_Model.ipynb"
   ]
  },
  {
   "cell_type": "code",
   "execution_count": 2,
   "id": "45bc4fef",
   "metadata": {},
   "outputs": [
    {
     "name": "stdout",
     "output_type": "stream",
     "text": [
      "5.69299883708285e-05\n"
     ]
    }
   ],
   "source": [
    "#to set optimization (this is the production of psilocybin from the precursor)\n",
    "with model:\n",
    "    model.objective = model.reactions.EX_psi_e\n",
    "    print(model.optimize().objective_value)"
   ]
  },
  {
   "cell_type": "code",
   "execution_count": 3,
   "id": "81bcd083",
   "metadata": {
    "scrolled": true
   },
   "outputs": [
    {
     "data": {
      "text/plain": [
       "[<Reaction CG_biomass_cgl_ATCC13032 at 0x165a95926a0>,\n",
       " <Reaction EX_biomass at 0x165a9ab75c0>]"
      ]
     },
     "execution_count": 3,
     "metadata": {},
     "output_type": "execute_result"
    }
   ],
   "source": [
    "model.reactions.query('biomass','name') #CG_biomass_cgl_ATCC13032 is our biomass production"
   ]
  },
  {
   "cell_type": "code",
   "execution_count": 4,
   "id": "c72a613b",
   "metadata": {},
   "outputs": [],
   "source": [
    "from cobra.flux_analysis.phenotype_phase_plane import production_envelope"
   ]
  },
  {
   "cell_type": "code",
   "execution_count": 5,
   "id": "365f0c4f",
   "metadata": {},
   "outputs": [],
   "source": [
    "goal = \"EX_psi_e\" #write goal here"
   ]
  },
  {
   "cell_type": "code",
   "execution_count": 6,
   "id": "efaba245",
   "metadata": {},
   "outputs": [],
   "source": [
    "product = model.reactions.EX_psi_e"
   ]
  },
  {
   "cell_type": "code",
   "execution_count": 7,
   "id": "80f0d634",
   "metadata": {},
   "outputs": [],
   "source": [
    "growth = model.reactions.CG_biomass_cgl_ATCC13032"
   ]
  },
  {
   "cell_type": "code",
   "execution_count": 8,
   "id": "c7dd7a53",
   "metadata": {
    "scrolled": true
   },
   "outputs": [
    {
     "data": {
      "text/plain": [
       "{'EX_ca2_e': 0.0144877134286247,\n",
       " 'EX_cobalt2_e': 7.00338234344926e-05,\n",
       " 'EX_cu2_e': 0.00197271722237563,\n",
       " 'EX_fe2_e': 0.16239125,\n",
       " 'EX_fe3_e': 0.0217300637039616,\n",
       " 'EX_glc_e': 4.67,\n",
       " 'EX_k_e': 0.543285250115532,\n",
       " 'EX_mg2_e': 0.0241459221505149,\n",
       " 'EX_mn2_e': 0.00192443552016793,\n",
       " 'EX_nh4_e': 11.9121416666662,\n",
       " 'EX_ni2_e': 0.00089824250292982,\n",
       " 'EX_o2_e': 16.5067783333334,\n",
       " 'EX_pi_e': 0.918000000000888,\n",
       " 'EX_so4_e': 4.01673156249995,\n",
       " 'EX_zn2_e': 0.000948926279874219,\n",
       " 'EX_BIOTIN': 1.01925397503027e-06,\n",
       " 'EX_cl': 0.0144877134286247}"
      ]
     },
     "execution_count": 8,
     "metadata": {},
     "output_type": "execute_result"
    }
   ],
   "source": [
    "basemedium = model.medium\n",
    "basemedium"
   ]
  },
  {
   "cell_type": "markdown",
   "id": "55871b84",
   "metadata": {},
   "source": [
    "Changing Bounds of Involved Reactions"
   ]
  },
  {
   "cell_type": "code",
   "execution_count": 9,
   "id": "2b383e98",
   "metadata": {},
   "outputs": [],
   "source": [
    "model.reactions.EX_o2_e.bounds = -50,0\n",
    "model.reactions.EX_glc_e.bounds = -50,0"
   ]
  },
  {
   "cell_type": "markdown",
   "id": "8a5a4056",
   "metadata": {},
   "source": [
    "# Oxygen"
   ]
  },
  {
   "cell_type": "markdown",
   "id": "89895744",
   "metadata": {},
   "source": [
    "#### Oxygen vs Product\n"
   ]
  },
  {
   "cell_type": "code",
   "execution_count": 10,
   "id": "2adad1e0",
   "metadata": {},
   "outputs": [],
   "source": [
    "medium = basemedium\n",
    "medium[\"EX_o2_e\"] = 100     \n",
    "model.medium = medium"
   ]
  },
  {
   "cell_type": "code",
   "execution_count": 11,
   "id": "84def129",
   "metadata": {},
   "outputs": [],
   "source": [
    "product_oxy = production_envelope(model,\n",
    "                reactions=[model.reactions.EX_o2_e],\n",
    "                objective=[product],\n",
    "                carbon_sources=[model.reactions.EX_glc_e])"
   ]
  },
  {
   "cell_type": "code",
   "execution_count": 12,
   "id": "8d193b20",
   "metadata": {},
   "outputs": [
    {
     "data": {
      "text/html": [
       "<div>\n",
       "<style scoped>\n",
       "    .dataframe tbody tr th:only-of-type {\n",
       "        vertical-align: middle;\n",
       "    }\n",
       "\n",
       "    .dataframe tbody tr th {\n",
       "        vertical-align: top;\n",
       "    }\n",
       "\n",
       "    .dataframe thead th {\n",
       "        text-align: right;\n",
       "    }\n",
       "</style>\n",
       "<table border=\"1\" class=\"dataframe\">\n",
       "  <thead>\n",
       "    <tr style=\"text-align: right;\">\n",
       "      <th></th>\n",
       "      <th>carbon_source</th>\n",
       "      <th>flux_minimum</th>\n",
       "      <th>carbon_yield_minimum</th>\n",
       "      <th>mass_yield_minimum</th>\n",
       "      <th>flux_maximum</th>\n",
       "      <th>carbon_yield_maximum</th>\n",
       "      <th>mass_yield_maximum</th>\n",
       "      <th>EX_o2_e</th>\n",
       "    </tr>\n",
       "  </thead>\n",
       "  <tbody>\n",
       "    <tr>\n",
       "      <th>0</th>\n",
       "      <td>EX_glc_e</td>\n",
       "      <td>0.0</td>\n",
       "      <td>0.0</td>\n",
       "      <td>0.0</td>\n",
       "      <td>0.000000</td>\n",
       "      <td>0.000000</td>\n",
       "      <td>0.000000</td>\n",
       "      <td>-16.161130</td>\n",
       "    </tr>\n",
       "    <tr>\n",
       "      <th>1</th>\n",
       "      <td>EX_glc_e</td>\n",
       "      <td>0.0</td>\n",
       "      <td>0.0</td>\n",
       "      <td>0.0</td>\n",
       "      <td>0.000057</td>\n",
       "      <td>0.000024</td>\n",
       "      <td>0.000019</td>\n",
       "      <td>-15.405641</td>\n",
       "    </tr>\n",
       "    <tr>\n",
       "      <th>2</th>\n",
       "      <td>EX_glc_e</td>\n",
       "      <td>0.0</td>\n",
       "      <td>0.0</td>\n",
       "      <td>0.0</td>\n",
       "      <td>0.000057</td>\n",
       "      <td>0.000024</td>\n",
       "      <td>0.000019</td>\n",
       "      <td>-14.650152</td>\n",
       "    </tr>\n",
       "    <tr>\n",
       "      <th>3</th>\n",
       "      <td>EX_glc_e</td>\n",
       "      <td>0.0</td>\n",
       "      <td>0.0</td>\n",
       "      <td>0.0</td>\n",
       "      <td>0.000057</td>\n",
       "      <td>0.000024</td>\n",
       "      <td>0.000019</td>\n",
       "      <td>-13.894662</td>\n",
       "    </tr>\n",
       "    <tr>\n",
       "      <th>4</th>\n",
       "      <td>EX_glc_e</td>\n",
       "      <td>0.0</td>\n",
       "      <td>0.0</td>\n",
       "      <td>0.0</td>\n",
       "      <td>0.000057</td>\n",
       "      <td>0.000024</td>\n",
       "      <td>0.000019</td>\n",
       "      <td>-13.139173</td>\n",
       "    </tr>\n",
       "    <tr>\n",
       "      <th>5</th>\n",
       "      <td>EX_glc_e</td>\n",
       "      <td>0.0</td>\n",
       "      <td>0.0</td>\n",
       "      <td>0.0</td>\n",
       "      <td>0.000057</td>\n",
       "      <td>0.000024</td>\n",
       "      <td>0.000019</td>\n",
       "      <td>-12.383683</td>\n",
       "    </tr>\n",
       "    <tr>\n",
       "      <th>6</th>\n",
       "      <td>EX_glc_e</td>\n",
       "      <td>0.0</td>\n",
       "      <td>0.0</td>\n",
       "      <td>0.0</td>\n",
       "      <td>0.000057</td>\n",
       "      <td>0.000024</td>\n",
       "      <td>0.000019</td>\n",
       "      <td>-11.628194</td>\n",
       "    </tr>\n",
       "    <tr>\n",
       "      <th>7</th>\n",
       "      <td>EX_glc_e</td>\n",
       "      <td>0.0</td>\n",
       "      <td>0.0</td>\n",
       "      <td>0.0</td>\n",
       "      <td>0.000057</td>\n",
       "      <td>0.000024</td>\n",
       "      <td>0.000019</td>\n",
       "      <td>-10.872704</td>\n",
       "    </tr>\n",
       "    <tr>\n",
       "      <th>8</th>\n",
       "      <td>EX_glc_e</td>\n",
       "      <td>0.0</td>\n",
       "      <td>0.0</td>\n",
       "      <td>0.0</td>\n",
       "      <td>0.000057</td>\n",
       "      <td>0.000024</td>\n",
       "      <td>0.000019</td>\n",
       "      <td>-10.117215</td>\n",
       "    </tr>\n",
       "    <tr>\n",
       "      <th>9</th>\n",
       "      <td>EX_glc_e</td>\n",
       "      <td>0.0</td>\n",
       "      <td>0.0</td>\n",
       "      <td>0.0</td>\n",
       "      <td>0.000057</td>\n",
       "      <td>0.000024</td>\n",
       "      <td>0.000019</td>\n",
       "      <td>-9.361725</td>\n",
       "    </tr>\n",
       "    <tr>\n",
       "      <th>10</th>\n",
       "      <td>EX_glc_e</td>\n",
       "      <td>0.0</td>\n",
       "      <td>0.0</td>\n",
       "      <td>0.0</td>\n",
       "      <td>0.000057</td>\n",
       "      <td>0.000024</td>\n",
       "      <td>0.000019</td>\n",
       "      <td>-8.606236</td>\n",
       "    </tr>\n",
       "    <tr>\n",
       "      <th>11</th>\n",
       "      <td>EX_glc_e</td>\n",
       "      <td>0.0</td>\n",
       "      <td>0.0</td>\n",
       "      <td>0.0</td>\n",
       "      <td>0.000057</td>\n",
       "      <td>0.000024</td>\n",
       "      <td>0.000019</td>\n",
       "      <td>-7.850747</td>\n",
       "    </tr>\n",
       "    <tr>\n",
       "      <th>12</th>\n",
       "      <td>EX_glc_e</td>\n",
       "      <td>0.0</td>\n",
       "      <td>0.0</td>\n",
       "      <td>0.0</td>\n",
       "      <td>0.000057</td>\n",
       "      <td>0.000024</td>\n",
       "      <td>0.000019</td>\n",
       "      <td>-7.095257</td>\n",
       "    </tr>\n",
       "    <tr>\n",
       "      <th>13</th>\n",
       "      <td>EX_glc_e</td>\n",
       "      <td>0.0</td>\n",
       "      <td>0.0</td>\n",
       "      <td>0.0</td>\n",
       "      <td>0.000057</td>\n",
       "      <td>0.000024</td>\n",
       "      <td>0.000019</td>\n",
       "      <td>-6.339768</td>\n",
       "    </tr>\n",
       "    <tr>\n",
       "      <th>14</th>\n",
       "      <td>EX_glc_e</td>\n",
       "      <td>0.0</td>\n",
       "      <td>0.0</td>\n",
       "      <td>0.0</td>\n",
       "      <td>0.000057</td>\n",
       "      <td>0.000024</td>\n",
       "      <td>0.000019</td>\n",
       "      <td>-5.584278</td>\n",
       "    </tr>\n",
       "    <tr>\n",
       "      <th>15</th>\n",
       "      <td>EX_glc_e</td>\n",
       "      <td>0.0</td>\n",
       "      <td>0.0</td>\n",
       "      <td>0.0</td>\n",
       "      <td>0.000057</td>\n",
       "      <td>0.000024</td>\n",
       "      <td>0.000019</td>\n",
       "      <td>-4.828789</td>\n",
       "    </tr>\n",
       "    <tr>\n",
       "      <th>16</th>\n",
       "      <td>EX_glc_e</td>\n",
       "      <td>0.0</td>\n",
       "      <td>0.0</td>\n",
       "      <td>0.0</td>\n",
       "      <td>0.000057</td>\n",
       "      <td>0.000027</td>\n",
       "      <td>0.000021</td>\n",
       "      <td>-4.073299</td>\n",
       "    </tr>\n",
       "    <tr>\n",
       "      <th>17</th>\n",
       "      <td>EX_glc_e</td>\n",
       "      <td>0.0</td>\n",
       "      <td>0.0</td>\n",
       "      <td>0.0</td>\n",
       "      <td>0.000057</td>\n",
       "      <td>0.000027</td>\n",
       "      <td>0.000022</td>\n",
       "      <td>-3.317810</td>\n",
       "    </tr>\n",
       "    <tr>\n",
       "      <th>18</th>\n",
       "      <td>EX_glc_e</td>\n",
       "      <td>0.0</td>\n",
       "      <td>0.0</td>\n",
       "      <td>0.0</td>\n",
       "      <td>0.000057</td>\n",
       "      <td>0.000028</td>\n",
       "      <td>0.000022</td>\n",
       "      <td>-2.562320</td>\n",
       "    </tr>\n",
       "    <tr>\n",
       "      <th>19</th>\n",
       "      <td>EX_glc_e</td>\n",
       "      <td>0.0</td>\n",
       "      <td>0.0</td>\n",
       "      <td>0.0</td>\n",
       "      <td>0.000000</td>\n",
       "      <td>0.000000</td>\n",
       "      <td>0.000000</td>\n",
       "      <td>-1.806831</td>\n",
       "    </tr>\n",
       "  </tbody>\n",
       "</table>\n",
       "</div>"
      ],
      "text/plain": [
       "   carbon_source  flux_minimum  carbon_yield_minimum  mass_yield_minimum  \\\n",
       "0       EX_glc_e           0.0                   0.0                 0.0   \n",
       "1       EX_glc_e           0.0                   0.0                 0.0   \n",
       "2       EX_glc_e           0.0                   0.0                 0.0   \n",
       "3       EX_glc_e           0.0                   0.0                 0.0   \n",
       "4       EX_glc_e           0.0                   0.0                 0.0   \n",
       "5       EX_glc_e           0.0                   0.0                 0.0   \n",
       "6       EX_glc_e           0.0                   0.0                 0.0   \n",
       "7       EX_glc_e           0.0                   0.0                 0.0   \n",
       "8       EX_glc_e           0.0                   0.0                 0.0   \n",
       "9       EX_glc_e           0.0                   0.0                 0.0   \n",
       "10      EX_glc_e           0.0                   0.0                 0.0   \n",
       "11      EX_glc_e           0.0                   0.0                 0.0   \n",
       "12      EX_glc_e           0.0                   0.0                 0.0   \n",
       "13      EX_glc_e           0.0                   0.0                 0.0   \n",
       "14      EX_glc_e           0.0                   0.0                 0.0   \n",
       "15      EX_glc_e           0.0                   0.0                 0.0   \n",
       "16      EX_glc_e           0.0                   0.0                 0.0   \n",
       "17      EX_glc_e           0.0                   0.0                 0.0   \n",
       "18      EX_glc_e           0.0                   0.0                 0.0   \n",
       "19      EX_glc_e           0.0                   0.0                 0.0   \n",
       "\n",
       "    flux_maximum  carbon_yield_maximum  mass_yield_maximum    EX_o2_e  \n",
       "0       0.000000              0.000000            0.000000 -16.161130  \n",
       "1       0.000057              0.000024            0.000019 -15.405641  \n",
       "2       0.000057              0.000024            0.000019 -14.650152  \n",
       "3       0.000057              0.000024            0.000019 -13.894662  \n",
       "4       0.000057              0.000024            0.000019 -13.139173  \n",
       "5       0.000057              0.000024            0.000019 -12.383683  \n",
       "6       0.000057              0.000024            0.000019 -11.628194  \n",
       "7       0.000057              0.000024            0.000019 -10.872704  \n",
       "8       0.000057              0.000024            0.000019 -10.117215  \n",
       "9       0.000057              0.000024            0.000019  -9.361725  \n",
       "10      0.000057              0.000024            0.000019  -8.606236  \n",
       "11      0.000057              0.000024            0.000019  -7.850747  \n",
       "12      0.000057              0.000024            0.000019  -7.095257  \n",
       "13      0.000057              0.000024            0.000019  -6.339768  \n",
       "14      0.000057              0.000024            0.000019  -5.584278  \n",
       "15      0.000057              0.000024            0.000019  -4.828789  \n",
       "16      0.000057              0.000027            0.000021  -4.073299  \n",
       "17      0.000057              0.000027            0.000022  -3.317810  \n",
       "18      0.000057              0.000028            0.000022  -2.562320  \n",
       "19      0.000000              0.000000            0.000000  -1.806831  "
      ]
     },
     "execution_count": 12,
     "metadata": {},
     "output_type": "execute_result"
    }
   ],
   "source": [
    "product_oxy"
   ]
  },
  {
   "cell_type": "code",
   "execution_count": 13,
   "id": "f523277f",
   "metadata": {},
   "outputs": [
    {
     "data": {
      "text/plain": [
       "<AxesSubplot:xlabel='Oxygen Flux mmol/gDW/h', ylabel='Psilocybin Flux mmol/gDW/h'>"
      ]
     },
     "execution_count": 13,
     "metadata": {},
     "output_type": "execute_result"
    },
    {
     "data": {
      "image/png": "[encoded data removed]",
      "text/plain": [
       "<Figure size 432x288 with 1 Axes>"
      ]
     },
     "metadata": {
      "needs_background": "light"
     },
     "output_type": "display_data"
    }
   ],
   "source": [
    "product_oxy.plot(x='EX_o2_e', y='flux_maximum',xlabel = \"Oxygen Flux mmol/gDW/h\", ylabel=\"Psilocybin Flux mmol/gDW/h\")"
   ]
  },
  {
   "cell_type": "code",
   "execution_count": 14,
   "id": "4f5d1984",
   "metadata": {},
   "outputs": [
    {
     "name": "stderr",
     "output_type": "stream",
     "text": [
      "C:\\Users\\s174916\\.conda\\envs\\Conda2_env\\lib\\site-packages\\cobra\\core\\metabolite.py:104: UserWarning: 26.227799999999995 is not an integer (in formula C26.227799999999995H47.309599999999996O21.0818)\n",
      "  % (count, self.formula)\n",
      "C:\\Users\\s174916\\.conda\\envs\\Conda2_env\\lib\\site-packages\\cobra\\core\\metabolite.py:104: UserWarning: 47.309599999999996 is not an integer (in formula C26.227799999999995H47.309599999999996O21.0818)\n",
      "  % (count, self.formula)\n",
      "C:\\Users\\s174916\\.conda\\envs\\Conda2_env\\lib\\site-packages\\cobra\\core\\metabolite.py:104: UserWarning: 21.0818 is not an integer (in formula C26.227799999999995H47.309599999999996O21.0818)\n",
      "  % (count, self.formula)\n",
      "C:\\Users\\s174916\\.conda\\envs\\Conda2_env\\lib\\site-packages\\cobra\\core\\metabolite.py:104: UserWarning: 1.809384 is not an integer (in formula O1.809384S0.452346Fe1.514453Ca0.542815Co0.002624Cu0.073913K20.35556Mg0.904692Mn0.072104Ni0.033655Zn0.035554Cl0.542815)\n",
      "  % (count, self.formula)\n",
      "C:\\Users\\s174916\\.conda\\envs\\Conda2_env\\lib\\site-packages\\cobra\\core\\metabolite.py:104: UserWarning: 0.452346 is not an integer (in formula O1.809384S0.452346Fe1.514453Ca0.542815Co0.002624Cu0.073913K20.35556Mg0.904692Mn0.072104Ni0.033655Zn0.035554Cl0.542815)\n",
      "  % (count, self.formula)\n",
      "C:\\Users\\s174916\\.conda\\envs\\Conda2_env\\lib\\site-packages\\cobra\\core\\metabolite.py:104: UserWarning: 1.514453 is not an integer (in formula O1.809384S0.452346Fe1.514453Ca0.542815Co0.002624Cu0.073913K20.35556Mg0.904692Mn0.072104Ni0.033655Zn0.035554Cl0.542815)\n",
      "  % (count, self.formula)\n",
      "C:\\Users\\s174916\\.conda\\envs\\Conda2_env\\lib\\site-packages\\cobra\\core\\metabolite.py:104: UserWarning: 0.542815 is not an integer (in formula O1.809384S0.452346Fe1.514453Ca0.542815Co0.002624Cu0.073913K20.35556Mg0.904692Mn0.072104Ni0.033655Zn0.035554Cl0.542815)\n",
      "  % (count, self.formula)\n",
      "C:\\Users\\s174916\\.conda\\envs\\Conda2_env\\lib\\site-packages\\cobra\\core\\metabolite.py:104: UserWarning: 0.002624 is not an integer (in formula O1.809384S0.452346Fe1.514453Ca0.542815Co0.002624Cu0.073913K20.35556Mg0.904692Mn0.072104Ni0.033655Zn0.035554Cl0.542815)\n",
      "  % (count, self.formula)\n",
      "C:\\Users\\s174916\\.conda\\envs\\Conda2_env\\lib\\site-packages\\cobra\\core\\metabolite.py:104: UserWarning: 0.073913 is not an integer (in formula O1.809384S0.452346Fe1.514453Ca0.542815Co0.002624Cu0.073913K20.35556Mg0.904692Mn0.072104Ni0.033655Zn0.035554Cl0.542815)\n",
      "  % (count, self.formula)\n",
      "C:\\Users\\s174916\\.conda\\envs\\Conda2_env\\lib\\site-packages\\cobra\\core\\metabolite.py:104: UserWarning: 20.35556 is not an integer (in formula O1.809384S0.452346Fe1.514453Ca0.542815Co0.002624Cu0.073913K20.35556Mg0.904692Mn0.072104Ni0.033655Zn0.035554Cl0.542815)\n",
      "  % (count, self.formula)\n",
      "C:\\Users\\s174916\\.conda\\envs\\Conda2_env\\lib\\site-packages\\cobra\\core\\metabolite.py:104: UserWarning: 0.904692 is not an integer (in formula O1.809384S0.452346Fe1.514453Ca0.542815Co0.002624Cu0.073913K20.35556Mg0.904692Mn0.072104Ni0.033655Zn0.035554Cl0.542815)\n",
      "  % (count, self.formula)\n",
      "C:\\Users\\s174916\\.conda\\envs\\Conda2_env\\lib\\site-packages\\cobra\\core\\metabolite.py:104: UserWarning: 0.072104 is not an integer (in formula O1.809384S0.452346Fe1.514453Ca0.542815Co0.002624Cu0.073913K20.35556Mg0.904692Mn0.072104Ni0.033655Zn0.035554Cl0.542815)\n",
      "  % (count, self.formula)\n",
      "C:\\Users\\s174916\\.conda\\envs\\Conda2_env\\lib\\site-packages\\cobra\\core\\metabolite.py:104: UserWarning: 0.033655 is not an integer (in formula O1.809384S0.452346Fe1.514453Ca0.542815Co0.002624Cu0.073913K20.35556Mg0.904692Mn0.072104Ni0.033655Zn0.035554Cl0.542815)\n",
      "  % (count, self.formula)\n",
      "C:\\Users\\s174916\\.conda\\envs\\Conda2_env\\lib\\site-packages\\cobra\\core\\metabolite.py:104: UserWarning: 0.035554 is not an integer (in formula O1.809384S0.452346Fe1.514453Ca0.542815Co0.002624Cu0.073913K20.35556Mg0.904692Mn0.072104Ni0.033655Zn0.035554Cl0.542815)\n",
      "  % (count, self.formula)\n",
      "C:\\Users\\s174916\\.conda\\envs\\Conda2_env\\lib\\site-packages\\cobra\\core\\metabolite.py:104: UserWarning: 64.598238154 is not an integer (in formula C64.598238154H117.50071172599999O7.357917P0.267926)\n",
      "  % (count, self.formula)\n",
      "C:\\Users\\s174916\\.conda\\envs\\Conda2_env\\lib\\site-packages\\cobra\\core\\metabolite.py:104: UserWarning: 117.50071172599999 is not an integer (in formula C64.598238154H117.50071172599999O7.357917P0.267926)\n",
      "  % (count, self.formula)\n",
      "C:\\Users\\s174916\\.conda\\envs\\Conda2_env\\lib\\site-packages\\cobra\\core\\metabolite.py:104: UserWarning: 7.357917 is not an integer (in formula C64.598238154H117.50071172599999O7.357917P0.267926)\n",
      "  % (count, self.formula)\n",
      "C:\\Users\\s174916\\.conda\\envs\\Conda2_env\\lib\\site-packages\\cobra\\core\\metabolite.py:104: UserWarning: 0.267926 is not an integer (in formula C64.598238154H117.50071172599999O7.357917P0.267926)\n",
      "  % (count, self.formula)\n",
      "C:\\Users\\s174916\\.conda\\envs\\Conda2_env\\lib\\site-packages\\cobra\\core\\metabolite.py:104: UserWarning: 64.087066 is not an integer (in formula C64.087066H109.98235400000002N13.276022O50.168144P3.2394)\n",
      "  % (count, self.formula)\n",
      "C:\\Users\\s174916\\.conda\\envs\\Conda2_env\\lib\\site-packages\\cobra\\core\\metabolite.py:104: UserWarning: 109.98235400000002 is not an integer (in formula C64.087066H109.98235400000002N13.276022O50.168144P3.2394)\n",
      "  % (count, self.formula)\n",
      "C:\\Users\\s174916\\.conda\\envs\\Conda2_env\\lib\\site-packages\\cobra\\core\\metabolite.py:104: UserWarning: 13.276022 is not an integer (in formula C64.087066H109.98235400000002N13.276022O50.168144P3.2394)\n",
      "  % (count, self.formula)\n",
      "C:\\Users\\s174916\\.conda\\envs\\Conda2_env\\lib\\site-packages\\cobra\\core\\metabolite.py:104: UserWarning: 50.168144 is not an integer (in formula C64.087066H109.98235400000002N13.276022O50.168144P3.2394)\n",
      "  % (count, self.formula)\n",
      "C:\\Users\\s174916\\.conda\\envs\\Conda2_env\\lib\\site-packages\\cobra\\core\\metabolite.py:104: UserWarning: 3.2394 is not an integer (in formula C64.087066H109.98235400000002N13.276022O50.168144P3.2394)\n",
      "  % (count, self.formula)\n",
      "C:\\Users\\s174916\\.conda\\envs\\Conda2_env\\lib\\site-packages\\cobra\\core\\metabolite.py:104: UserWarning: 52.881848160000004 is not an integer (in formula C52.881848160000004H98.21897442240001N0.326586O16.9293528P2.563819800000001)\n",
      "  % (count, self.formula)\n",
      "C:\\Users\\s174916\\.conda\\envs\\Conda2_env\\lib\\site-packages\\cobra\\core\\metabolite.py:104: UserWarning: 98.21897442240001 is not an integer (in formula C52.881848160000004H98.21897442240001N0.326586O16.9293528P2.563819800000001)\n",
      "  % (count, self.formula)\n",
      "C:\\Users\\s174916\\.conda\\envs\\Conda2_env\\lib\\site-packages\\cobra\\core\\metabolite.py:104: UserWarning: 0.326586 is not an integer (in formula C52.881848160000004H98.21897442240001N0.326586O16.9293528P2.563819800000001)\n",
      "  % (count, self.formula)\n",
      "C:\\Users\\s174916\\.conda\\envs\\Conda2_env\\lib\\site-packages\\cobra\\core\\metabolite.py:104: UserWarning: 16.9293528 is not an integer (in formula C52.881848160000004H98.21897442240001N0.326586O16.9293528P2.563819800000001)\n",
      "  % (count, self.formula)\n",
      "C:\\Users\\s174916\\.conda\\envs\\Conda2_env\\lib\\site-packages\\cobra\\core\\metabolite.py:104: UserWarning: 2.563819800000001 is not an integer (in formula C52.881848160000004H98.21897442240001N0.326586O16.9293528P2.563819800000001)\n",
      "  % (count, self.formula)\n",
      "C:\\Users\\s174916\\.conda\\envs\\Conda2_env\\lib\\site-packages\\cobra\\core\\metabolite.py:104: UserWarning: 19.222443 is not an integer (in formula C19.222443H38.476530999999966N5.458296999999999O10.650917999999953P-0.000000000000004S0.108442)\n",
      "  % (count, self.formula)\n",
      "C:\\Users\\s174916\\.conda\\envs\\Conda2_env\\lib\\site-packages\\cobra\\core\\metabolite.py:104: UserWarning: 38.476530999999966 is not an integer (in formula C19.222443H38.476530999999966N5.458296999999999O10.650917999999953P-0.000000000000004S0.108442)\n",
      "  % (count, self.formula)\n",
      "C:\\Users\\s174916\\.conda\\envs\\Conda2_env\\lib\\site-packages\\cobra\\core\\metabolite.py:104: UserWarning: 5.458296999999999 is not an integer (in formula C19.222443H38.476530999999966N5.458296999999999O10.650917999999953P-0.000000000000004S0.108442)\n",
      "  % (count, self.formula)\n",
      "C:\\Users\\s174916\\.conda\\envs\\Conda2_env\\lib\\site-packages\\cobra\\core\\metabolite.py:104: UserWarning: 10.650917999999953 is not an integer (in formula C19.222443H38.476530999999966N5.458296999999999O10.650917999999953P-0.000000000000004S0.108442)\n",
      "  % (count, self.formula)\n",
      "C:\\Users\\s174916\\.conda\\envs\\Conda2_env\\lib\\site-packages\\cobra\\core\\metabolite.py:104: UserWarning: 0.108442 is not an integer (in formula C19.222443H38.476530999999966N5.458296999999999O10.650917999999953P-0.000000000000004S0.108442)\n",
      "  % (count, self.formula)\n",
      "C:\\Users\\s174916\\.conda\\envs\\Conda2_env\\lib\\site-packages\\cobra\\core\\metabolite.py:104: UserWarning: 28.60628 is not an integer (in formula C28.60628H33.27465N11.5971O22.976729999999996P2.99579)\n",
      "  % (count, self.formula)\n",
      "C:\\Users\\s174916\\.conda\\envs\\Conda2_env\\lib\\site-packages\\cobra\\core\\metabolite.py:104: UserWarning: 33.27465 is not an integer (in formula C28.60628H33.27465N11.5971O22.976729999999996P2.99579)\n",
      "  % (count, self.formula)\n",
      "C:\\Users\\s174916\\.conda\\envs\\Conda2_env\\lib\\site-packages\\cobra\\core\\metabolite.py:104: UserWarning: 11.5971 is not an integer (in formula C28.60628H33.27465N11.5971O22.976729999999996P2.99579)\n",
      "  % (count, self.formula)\n",
      "C:\\Users\\s174916\\.conda\\envs\\Conda2_env\\lib\\site-packages\\cobra\\core\\metabolite.py:104: UserWarning: 22.976729999999996 is not an integer (in formula C28.60628H33.27465N11.5971O22.976729999999996P2.99579)\n",
      "  % (count, self.formula)\n",
      "C:\\Users\\s174916\\.conda\\envs\\Conda2_env\\lib\\site-packages\\cobra\\core\\metabolite.py:104: UserWarning: 2.99579 is not an integer (in formula C28.60628H33.27465N11.5971O22.976729999999996P2.99579)\n",
      "  % (count, self.formula)\n",
      "C:\\Users\\s174916\\.conda\\envs\\Conda2_env\\lib\\site-packages\\cobra\\core\\metabolite.py:104: UserWarning: 31.685756 is not an integer (in formula C31.685756H40.884037000000006N9.559588O20.989518P3.134647S0.355614)\n",
      "  % (count, self.formula)\n",
      "C:\\Users\\s174916\\.conda\\envs\\Conda2_env\\lib\\site-packages\\cobra\\core\\metabolite.py:104: UserWarning: 40.884037000000006 is not an integer (in formula C31.685756H40.884037000000006N9.559588O20.989518P3.134647S0.355614)\n",
      "  % (count, self.formula)\n",
      "C:\\Users\\s174916\\.conda\\envs\\Conda2_env\\lib\\site-packages\\cobra\\core\\metabolite.py:104: UserWarning: 9.559588 is not an integer (in formula C31.685756H40.884037000000006N9.559588O20.989518P3.134647S0.355614)\n",
      "  % (count, self.formula)\n",
      "C:\\Users\\s174916\\.conda\\envs\\Conda2_env\\lib\\site-packages\\cobra\\core\\metabolite.py:104: UserWarning: 20.989518 is not an integer (in formula C31.685756H40.884037000000006N9.559588O20.989518P3.134647S0.355614)\n",
      "  % (count, self.formula)\n",
      "C:\\Users\\s174916\\.conda\\envs\\Conda2_env\\lib\\site-packages\\cobra\\core\\metabolite.py:104: UserWarning: 3.134647 is not an integer (in formula C31.685756H40.884037000000006N9.559588O20.989518P3.134647S0.355614)\n",
      "  % (count, self.formula)\n",
      "C:\\Users\\s174916\\.conda\\envs\\Conda2_env\\lib\\site-packages\\cobra\\core\\metabolite.py:104: UserWarning: 0.355614 is not an integer (in formula C31.685756H40.884037000000006N9.559588O20.989518P3.134647S0.355614)\n",
      "  % (count, self.formula)\n",
      "C:\\Users\\s174916\\.conda\\envs\\Conda2_env\\lib\\site-packages\\cobra\\core\\metabolite.py:104: UserWarning: 40.61964015575376 is not an integer (in formula C40.61964015575376H65.83441744734994N8.013199119561293O16.0581272232233P0.496895768854594S0.160334607330444Fe0.094235323472Ca0.03377612056Co0.000163275776Cu0.004599162512K1.26660436544Mg0.056293555008Mn0.004486599296Ni0.00209414872Zn0.002212312096Cl0.03377612056)\n",
      "  % (count, self.formula)\n",
      "C:\\Users\\s174916\\.conda\\envs\\Conda2_env\\lib\\site-packages\\cobra\\core\\metabolite.py:104: UserWarning: 65.83441744734994 is not an integer (in formula C40.61964015575376H65.83441744734994N8.013199119561293O16.0581272232233P0.496895768854594S0.160334607330444Fe0.094235323472Ca0.03377612056Co0.000163275776Cu0.004599162512K1.26660436544Mg0.056293555008Mn0.004486599296Ni0.00209414872Zn0.002212312096Cl0.03377612056)\n",
      "  % (count, self.formula)\n",
      "C:\\Users\\s174916\\.conda\\envs\\Conda2_env\\lib\\site-packages\\cobra\\core\\metabolite.py:104: UserWarning: 8.013199119561293 is not an integer (in formula C40.61964015575376H65.83441744734994N8.013199119561293O16.0581272232233P0.496895768854594S0.160334607330444Fe0.094235323472Ca0.03377612056Co0.000163275776Cu0.004599162512K1.26660436544Mg0.056293555008Mn0.004486599296Ni0.00209414872Zn0.002212312096Cl0.03377612056)\n",
      "  % (count, self.formula)\n",
      "C:\\Users\\s174916\\.conda\\envs\\Conda2_env\\lib\\site-packages\\cobra\\core\\metabolite.py:104: UserWarning: 16.0581272232233 is not an integer (in formula C40.61964015575376H65.83441744734994N8.013199119561293O16.0581272232233P0.496895768854594S0.160334607330444Fe0.094235323472Ca0.03377612056Co0.000163275776Cu0.004599162512K1.26660436544Mg0.056293555008Mn0.004486599296Ni0.00209414872Zn0.002212312096Cl0.03377612056)\n",
      "  % (count, self.formula)\n",
      "C:\\Users\\s174916\\.conda\\envs\\Conda2_env\\lib\\site-packages\\cobra\\core\\metabolite.py:104: UserWarning: 0.496895768854594 is not an integer (in formula C40.61964015575376H65.83441744734994N8.013199119561293O16.0581272232233P0.496895768854594S0.160334607330444Fe0.094235323472Ca0.03377612056Co0.000163275776Cu0.004599162512K1.26660436544Mg0.056293555008Mn0.004486599296Ni0.00209414872Zn0.002212312096Cl0.03377612056)\n",
      "  % (count, self.formula)\n",
      "C:\\Users\\s174916\\.conda\\envs\\Conda2_env\\lib\\site-packages\\cobra\\core\\metabolite.py:104: UserWarning: 0.160334607330444 is not an integer (in formula C40.61964015575376H65.83441744734994N8.013199119561293O16.0581272232233P0.496895768854594S0.160334607330444Fe0.094235323472Ca0.03377612056Co0.000163275776Cu0.004599162512K1.26660436544Mg0.056293555008Mn0.004486599296Ni0.00209414872Zn0.002212312096Cl0.03377612056)\n",
      "  % (count, self.formula)\n",
      "C:\\Users\\s174916\\.conda\\envs\\Conda2_env\\lib\\site-packages\\cobra\\core\\metabolite.py:104: UserWarning: 0.094235323472 is not an integer (in formula C40.61964015575376H65.83441744734994N8.013199119561293O16.0581272232233P0.496895768854594S0.160334607330444Fe0.094235323472Ca0.03377612056Co0.000163275776Cu0.004599162512K1.26660436544Mg0.056293555008Mn0.004486599296Ni0.00209414872Zn0.002212312096Cl0.03377612056)\n",
      "  % (count, self.formula)\n",
      "C:\\Users\\s174916\\.conda\\envs\\Conda2_env\\lib\\site-packages\\cobra\\core\\metabolite.py:104: UserWarning: 0.03377612056 is not an integer (in formula C40.61964015575376H65.83441744734994N8.013199119561293O16.0581272232233P0.496895768854594S0.160334607330444Fe0.094235323472Ca0.03377612056Co0.000163275776Cu0.004599162512K1.26660436544Mg0.056293555008Mn0.004486599296Ni0.00209414872Zn0.002212312096Cl0.03377612056)\n",
      "  % (count, self.formula)\n",
      "C:\\Users\\s174916\\.conda\\envs\\Conda2_env\\lib\\site-packages\\cobra\\core\\metabolite.py:104: UserWarning: 0.000163275776 is not an integer (in formula C40.61964015575376H65.83441744734994N8.013199119561293O16.0581272232233P0.496895768854594S0.160334607330444Fe0.094235323472Ca0.03377612056Co0.000163275776Cu0.004599162512K1.26660436544Mg0.056293555008Mn0.004486599296Ni0.00209414872Zn0.002212312096Cl0.03377612056)\n",
      "  % (count, self.formula)\n",
      "C:\\Users\\s174916\\.conda\\envs\\Conda2_env\\lib\\site-packages\\cobra\\core\\metabolite.py:104: UserWarning: 0.004599162512 is not an integer (in formula C40.61964015575376H65.83441744734994N8.013199119561293O16.0581272232233P0.496895768854594S0.160334607330444Fe0.094235323472Ca0.03377612056Co0.000163275776Cu0.004599162512K1.26660436544Mg0.056293555008Mn0.004486599296Ni0.00209414872Zn0.002212312096Cl0.03377612056)\n",
      "  % (count, self.formula)\n",
      "C:\\Users\\s174916\\.conda\\envs\\Conda2_env\\lib\\site-packages\\cobra\\core\\metabolite.py:104: UserWarning: 1.26660436544 is not an integer (in formula C40.61964015575376H65.83441744734994N8.013199119561293O16.0581272232233P0.496895768854594S0.160334607330444Fe0.094235323472Ca0.03377612056Co0.000163275776Cu0.004599162512K1.26660436544Mg0.056293555008Mn0.004486599296Ni0.00209414872Zn0.002212312096Cl0.03377612056)\n",
      "  % (count, self.formula)\n",
      "C:\\Users\\s174916\\.conda\\envs\\Conda2_env\\lib\\site-packages\\cobra\\core\\metabolite.py:104: UserWarning: 0.056293555008 is not an integer (in formula C40.61964015575376H65.83441744734994N8.013199119561293O16.0581272232233P0.496895768854594S0.160334607330444Fe0.094235323472Ca0.03377612056Co0.000163275776Cu0.004599162512K1.26660436544Mg0.056293555008Mn0.004486599296Ni0.00209414872Zn0.002212312096Cl0.03377612056)\n",
      "  % (count, self.formula)\n",
      "C:\\Users\\s174916\\.conda\\envs\\Conda2_env\\lib\\site-packages\\cobra\\core\\metabolite.py:104: UserWarning: 0.004486599296 is not an integer (in formula C40.61964015575376H65.83441744734994N8.013199119561293O16.0581272232233P0.496895768854594S0.160334607330444Fe0.094235323472Ca0.03377612056Co0.000163275776Cu0.004599162512K1.26660436544Mg0.056293555008Mn0.004486599296Ni0.00209414872Zn0.002212312096Cl0.03377612056)\n",
      "  % (count, self.formula)\n",
      "C:\\Users\\s174916\\.conda\\envs\\Conda2_env\\lib\\site-packages\\cobra\\core\\metabolite.py:104: UserWarning: 0.00209414872 is not an integer (in formula C40.61964015575376H65.83441744734994N8.013199119561293O16.0581272232233P0.496895768854594S0.160334607330444Fe0.094235323472Ca0.03377612056Co0.000163275776Cu0.004599162512K1.26660436544Mg0.056293555008Mn0.004486599296Ni0.00209414872Zn0.002212312096Cl0.03377612056)\n",
      "  % (count, self.formula)\n",
      "C:\\Users\\s174916\\.conda\\envs\\Conda2_env\\lib\\site-packages\\cobra\\core\\metabolite.py:104: UserWarning: 0.002212312096 is not an integer (in formula C40.61964015575376H65.83441744734994N8.013199119561293O16.0581272232233P0.496895768854594S0.160334607330444Fe0.094235323472Ca0.03377612056Co0.000163275776Cu0.004599162512K1.26660436544Mg0.056293555008Mn0.004486599296Ni0.00209414872Zn0.002212312096Cl0.03377612056)\n",
      "  % (count, self.formula)\n"
     ]
    }
   ],
   "source": [
    "growth_oxy = production_envelope(model,\n",
    "                reactions=[model.reactions.EX_o2_e],\n",
    "                objective=[growth],\n",
    "                carbon_sources=[model.reactions.EX_glc_e])"
   ]
  },
  {
   "cell_type": "code",
   "execution_count": 15,
   "id": "f233ac32",
   "metadata": {
    "scrolled": true
   },
   "outputs": [
    {
     "data": {
      "text/plain": [
       "<AxesSubplot:xlabel='Oxygen Flux mmol/gDW/h', ylabel='Growth Rate 1/h'>"
      ]
     },
     "execution_count": 15,
     "metadata": {},
     "output_type": "execute_result"
    },
    {
     "data": {
      "image/png": "[encoded data removed]",
      "text/plain": [
       "<Figure size 432x288 with 1 Axes>"
      ]
     },
     "metadata": {
      "needs_background": "light"
     },
     "output_type": "display_data"
    }
   ],
   "source": [
    "growth_oxy.plot(x='EX_o2_e', y='flux_maximum',xlabel = \"Oxygen Flux mmol/gDW/h\", ylabel=\"Growth Rate 1/h\") #big difference between DM_psi_c and psiK2"
   ]
  },
  {
   "cell_type": "markdown",
   "id": "4f39460d",
   "metadata": {},
   "source": [
    "# Glucose"
   ]
  },
  {
   "cell_type": "code",
   "execution_count": 16,
   "id": "6f092878",
   "metadata": {},
   "outputs": [],
   "source": [
    "medium = basemedium\n",
    "medium[\"EX_glc_e\"] = 100\n",
    "model.medium = medium"
   ]
  },
  {
   "cell_type": "code",
   "execution_count": 17,
   "id": "76cdc41e",
   "metadata": {},
   "outputs": [],
   "source": [
    "product_glucose = production_envelope(model,\n",
    "                reactions=[model.reactions.EX_glc_e],\n",
    "                objective=[product],\n",
    "                carbon_sources=[model.reactions.EX_glc_e])"
   ]
  },
  {
   "cell_type": "code",
   "execution_count": 18,
   "id": "bd2d14b5",
   "metadata": {},
   "outputs": [
    {
     "data": {
      "text/plain": [
       "<AxesSubplot:xlabel='Glucose Flux mmol/gDW/h', ylabel='Psilocybin Flux mmol/gDW/h'>"
      ]
     },
     "execution_count": 18,
     "metadata": {},
     "output_type": "execute_result"
    },
    {
     "data": {
      "image/png": "[encoded data removed]",
      "text/plain": [
       "<Figure size 432x288 with 1 Axes>"
      ]
     },
     "metadata": {
      "needs_background": "light"
     },
     "output_type": "display_data"
    }
   ],
   "source": [
    "product_glucose.plot(x='EX_glc_e', y='flux_maximum',xlabel = \"Glucose Flux mmol/gDW/h\", ylabel=\"Psilocybin Flux mmol/gDW/h\")"
   ]
  },
  {
   "cell_type": "markdown",
   "id": "f7a68385",
   "metadata": {},
   "source": [
    "As in seen in growth_glucose below, the graph cuts off due to a negative growth rate."
   ]
  },
  {
   "cell_type": "code",
   "execution_count": 19,
   "id": "57d19ed1",
   "metadata": {},
   "outputs": [
    {
     "name": "stderr",
     "output_type": "stream",
     "text": [
      "C:\\Users\\s174916\\.conda\\envs\\Conda2_env\\lib\\site-packages\\cobra\\core\\metabolite.py:104: UserWarning: 26.227799999999995 is not an integer (in formula C26.227799999999995H47.309599999999996O21.0818)\n",
      "  % (count, self.formula)\n",
      "C:\\Users\\s174916\\.conda\\envs\\Conda2_env\\lib\\site-packages\\cobra\\core\\metabolite.py:104: UserWarning: 47.309599999999996 is not an integer (in formula C26.227799999999995H47.309599999999996O21.0818)\n",
      "  % (count, self.formula)\n",
      "C:\\Users\\s174916\\.conda\\envs\\Conda2_env\\lib\\site-packages\\cobra\\core\\metabolite.py:104: UserWarning: 21.0818 is not an integer (in formula C26.227799999999995H47.309599999999996O21.0818)\n",
      "  % (count, self.formula)\n",
      "C:\\Users\\s174916\\.conda\\envs\\Conda2_env\\lib\\site-packages\\cobra\\core\\metabolite.py:104: UserWarning: 1.809384 is not an integer (in formula O1.809384S0.452346Fe1.514453Ca0.542815Co0.002624Cu0.073913K20.35556Mg0.904692Mn0.072104Ni0.033655Zn0.035554Cl0.542815)\n",
      "  % (count, self.formula)\n",
      "C:\\Users\\s174916\\.conda\\envs\\Conda2_env\\lib\\site-packages\\cobra\\core\\metabolite.py:104: UserWarning: 0.452346 is not an integer (in formula O1.809384S0.452346Fe1.514453Ca0.542815Co0.002624Cu0.073913K20.35556Mg0.904692Mn0.072104Ni0.033655Zn0.035554Cl0.542815)\n",
      "  % (count, self.formula)\n",
      "C:\\Users\\s174916\\.conda\\envs\\Conda2_env\\lib\\site-packages\\cobra\\core\\metabolite.py:104: UserWarning: 1.514453 is not an integer (in formula O1.809384S0.452346Fe1.514453Ca0.542815Co0.002624Cu0.073913K20.35556Mg0.904692Mn0.072104Ni0.033655Zn0.035554Cl0.542815)\n",
      "  % (count, self.formula)\n",
      "C:\\Users\\s174916\\.conda\\envs\\Conda2_env\\lib\\site-packages\\cobra\\core\\metabolite.py:104: UserWarning: 0.542815 is not an integer (in formula O1.809384S0.452346Fe1.514453Ca0.542815Co0.002624Cu0.073913K20.35556Mg0.904692Mn0.072104Ni0.033655Zn0.035554Cl0.542815)\n",
      "  % (count, self.formula)\n",
      "C:\\Users\\s174916\\.conda\\envs\\Conda2_env\\lib\\site-packages\\cobra\\core\\metabolite.py:104: UserWarning: 0.002624 is not an integer (in formula O1.809384S0.452346Fe1.514453Ca0.542815Co0.002624Cu0.073913K20.35556Mg0.904692Mn0.072104Ni0.033655Zn0.035554Cl0.542815)\n",
      "  % (count, self.formula)\n",
      "C:\\Users\\s174916\\.conda\\envs\\Conda2_env\\lib\\site-packages\\cobra\\core\\metabolite.py:104: UserWarning: 0.073913 is not an integer (in formula O1.809384S0.452346Fe1.514453Ca0.542815Co0.002624Cu0.073913K20.35556Mg0.904692Mn0.072104Ni0.033655Zn0.035554Cl0.542815)\n",
      "  % (count, self.formula)\n",
      "C:\\Users\\s174916\\.conda\\envs\\Conda2_env\\lib\\site-packages\\cobra\\core\\metabolite.py:104: UserWarning: 20.35556 is not an integer (in formula O1.809384S0.452346Fe1.514453Ca0.542815Co0.002624Cu0.073913K20.35556Mg0.904692Mn0.072104Ni0.033655Zn0.035554Cl0.542815)\n",
      "  % (count, self.formula)\n",
      "C:\\Users\\s174916\\.conda\\envs\\Conda2_env\\lib\\site-packages\\cobra\\core\\metabolite.py:104: UserWarning: 0.904692 is not an integer (in formula O1.809384S0.452346Fe1.514453Ca0.542815Co0.002624Cu0.073913K20.35556Mg0.904692Mn0.072104Ni0.033655Zn0.035554Cl0.542815)\n",
      "  % (count, self.formula)\n",
      "C:\\Users\\s174916\\.conda\\envs\\Conda2_env\\lib\\site-packages\\cobra\\core\\metabolite.py:104: UserWarning: 0.072104 is not an integer (in formula O1.809384S0.452346Fe1.514453Ca0.542815Co0.002624Cu0.073913K20.35556Mg0.904692Mn0.072104Ni0.033655Zn0.035554Cl0.542815)\n",
      "  % (count, self.formula)\n",
      "C:\\Users\\s174916\\.conda\\envs\\Conda2_env\\lib\\site-packages\\cobra\\core\\metabolite.py:104: UserWarning: 0.033655 is not an integer (in formula O1.809384S0.452346Fe1.514453Ca0.542815Co0.002624Cu0.073913K20.35556Mg0.904692Mn0.072104Ni0.033655Zn0.035554Cl0.542815)\n",
      "  % (count, self.formula)\n",
      "C:\\Users\\s174916\\.conda\\envs\\Conda2_env\\lib\\site-packages\\cobra\\core\\metabolite.py:104: UserWarning: 0.035554 is not an integer (in formula O1.809384S0.452346Fe1.514453Ca0.542815Co0.002624Cu0.073913K20.35556Mg0.904692Mn0.072104Ni0.033655Zn0.035554Cl0.542815)\n",
      "  % (count, self.formula)\n",
      "C:\\Users\\s174916\\.conda\\envs\\Conda2_env\\lib\\site-packages\\cobra\\core\\metabolite.py:104: UserWarning: 64.598238154 is not an integer (in formula C64.598238154H117.50071172599999O7.357917P0.267926)\n",
      "  % (count, self.formula)\n",
      "C:\\Users\\s174916\\.conda\\envs\\Conda2_env\\lib\\site-packages\\cobra\\core\\metabolite.py:104: UserWarning: 117.50071172599999 is not an integer (in formula C64.598238154H117.50071172599999O7.357917P0.267926)\n",
      "  % (count, self.formula)\n",
      "C:\\Users\\s174916\\.conda\\envs\\Conda2_env\\lib\\site-packages\\cobra\\core\\metabolite.py:104: UserWarning: 7.357917 is not an integer (in formula C64.598238154H117.50071172599999O7.357917P0.267926)\n",
      "  % (count, self.formula)\n",
      "C:\\Users\\s174916\\.conda\\envs\\Conda2_env\\lib\\site-packages\\cobra\\core\\metabolite.py:104: UserWarning: 0.267926 is not an integer (in formula C64.598238154H117.50071172599999O7.357917P0.267926)\n",
      "  % (count, self.formula)\n",
      "C:\\Users\\s174916\\.conda\\envs\\Conda2_env\\lib\\site-packages\\cobra\\core\\metabolite.py:104: UserWarning: 64.087066 is not an integer (in formula C64.087066H109.98235400000002N13.276022O50.168144P3.2394)\n",
      "  % (count, self.formula)\n",
      "C:\\Users\\s174916\\.conda\\envs\\Conda2_env\\lib\\site-packages\\cobra\\core\\metabolite.py:104: UserWarning: 109.98235400000002 is not an integer (in formula C64.087066H109.98235400000002N13.276022O50.168144P3.2394)\n",
      "  % (count, self.formula)\n",
      "C:\\Users\\s174916\\.conda\\envs\\Conda2_env\\lib\\site-packages\\cobra\\core\\metabolite.py:104: UserWarning: 13.276022 is not an integer (in formula C64.087066H109.98235400000002N13.276022O50.168144P3.2394)\n",
      "  % (count, self.formula)\n",
      "C:\\Users\\s174916\\.conda\\envs\\Conda2_env\\lib\\site-packages\\cobra\\core\\metabolite.py:104: UserWarning: 50.168144 is not an integer (in formula C64.087066H109.98235400000002N13.276022O50.168144P3.2394)\n",
      "  % (count, self.formula)\n",
      "C:\\Users\\s174916\\.conda\\envs\\Conda2_env\\lib\\site-packages\\cobra\\core\\metabolite.py:104: UserWarning: 3.2394 is not an integer (in formula C64.087066H109.98235400000002N13.276022O50.168144P3.2394)\n",
      "  % (count, self.formula)\n",
      "C:\\Users\\s174916\\.conda\\envs\\Conda2_env\\lib\\site-packages\\cobra\\core\\metabolite.py:104: UserWarning: 52.881848160000004 is not an integer (in formula C52.881848160000004H98.21897442240001N0.326586O16.9293528P2.563819800000001)\n",
      "  % (count, self.formula)\n",
      "C:\\Users\\s174916\\.conda\\envs\\Conda2_env\\lib\\site-packages\\cobra\\core\\metabolite.py:104: UserWarning: 98.21897442240001 is not an integer (in formula C52.881848160000004H98.21897442240001N0.326586O16.9293528P2.563819800000001)\n",
      "  % (count, self.formula)\n",
      "C:\\Users\\s174916\\.conda\\envs\\Conda2_env\\lib\\site-packages\\cobra\\core\\metabolite.py:104: UserWarning: 0.326586 is not an integer (in formula C52.881848160000004H98.21897442240001N0.326586O16.9293528P2.563819800000001)\n",
      "  % (count, self.formula)\n",
      "C:\\Users\\s174916\\.conda\\envs\\Conda2_env\\lib\\site-packages\\cobra\\core\\metabolite.py:104: UserWarning: 16.9293528 is not an integer (in formula C52.881848160000004H98.21897442240001N0.326586O16.9293528P2.563819800000001)\n",
      "  % (count, self.formula)\n",
      "C:\\Users\\s174916\\.conda\\envs\\Conda2_env\\lib\\site-packages\\cobra\\core\\metabolite.py:104: UserWarning: 2.563819800000001 is not an integer (in formula C52.881848160000004H98.21897442240001N0.326586O16.9293528P2.563819800000001)\n",
      "  % (count, self.formula)\n",
      "C:\\Users\\s174916\\.conda\\envs\\Conda2_env\\lib\\site-packages\\cobra\\core\\metabolite.py:104: UserWarning: 19.222443 is not an integer (in formula C19.222443H38.476530999999966N5.458296999999999O10.650917999999953P-0.000000000000004S0.108442)\n",
      "  % (count, self.formula)\n",
      "C:\\Users\\s174916\\.conda\\envs\\Conda2_env\\lib\\site-packages\\cobra\\core\\metabolite.py:104: UserWarning: 38.476530999999966 is not an integer (in formula C19.222443H38.476530999999966N5.458296999999999O10.650917999999953P-0.000000000000004S0.108442)\n",
      "  % (count, self.formula)\n",
      "C:\\Users\\s174916\\.conda\\envs\\Conda2_env\\lib\\site-packages\\cobra\\core\\metabolite.py:104: UserWarning: 5.458296999999999 is not an integer (in formula C19.222443H38.476530999999966N5.458296999999999O10.650917999999953P-0.000000000000004S0.108442)\n",
      "  % (count, self.formula)\n",
      "C:\\Users\\s174916\\.conda\\envs\\Conda2_env\\lib\\site-packages\\cobra\\core\\metabolite.py:104: UserWarning: 10.650917999999953 is not an integer (in formula C19.222443H38.476530999999966N5.458296999999999O10.650917999999953P-0.000000000000004S0.108442)\n",
      "  % (count, self.formula)\n",
      "C:\\Users\\s174916\\.conda\\envs\\Conda2_env\\lib\\site-packages\\cobra\\core\\metabolite.py:104: UserWarning: 0.108442 is not an integer (in formula C19.222443H38.476530999999966N5.458296999999999O10.650917999999953P-0.000000000000004S0.108442)\n",
      "  % (count, self.formula)\n",
      "C:\\Users\\s174916\\.conda\\envs\\Conda2_env\\lib\\site-packages\\cobra\\core\\metabolite.py:104: UserWarning: 28.60628 is not an integer (in formula C28.60628H33.27465N11.5971O22.976729999999996P2.99579)\n",
      "  % (count, self.formula)\n",
      "C:\\Users\\s174916\\.conda\\envs\\Conda2_env\\lib\\site-packages\\cobra\\core\\metabolite.py:104: UserWarning: 33.27465 is not an integer (in formula C28.60628H33.27465N11.5971O22.976729999999996P2.99579)\n",
      "  % (count, self.formula)\n",
      "C:\\Users\\s174916\\.conda\\envs\\Conda2_env\\lib\\site-packages\\cobra\\core\\metabolite.py:104: UserWarning: 11.5971 is not an integer (in formula C28.60628H33.27465N11.5971O22.976729999999996P2.99579)\n",
      "  % (count, self.formula)\n",
      "C:\\Users\\s174916\\.conda\\envs\\Conda2_env\\lib\\site-packages\\cobra\\core\\metabolite.py:104: UserWarning: 22.976729999999996 is not an integer (in formula C28.60628H33.27465N11.5971O22.976729999999996P2.99579)\n",
      "  % (count, self.formula)\n",
      "C:\\Users\\s174916\\.conda\\envs\\Conda2_env\\lib\\site-packages\\cobra\\core\\metabolite.py:104: UserWarning: 2.99579 is not an integer (in formula C28.60628H33.27465N11.5971O22.976729999999996P2.99579)\n",
      "  % (count, self.formula)\n",
      "C:\\Users\\s174916\\.conda\\envs\\Conda2_env\\lib\\site-packages\\cobra\\core\\metabolite.py:104: UserWarning: 31.685756 is not an integer (in formula C31.685756H40.884037000000006N9.559588O20.989518P3.134647S0.355614)\n",
      "  % (count, self.formula)\n",
      "C:\\Users\\s174916\\.conda\\envs\\Conda2_env\\lib\\site-packages\\cobra\\core\\metabolite.py:104: UserWarning: 40.884037000000006 is not an integer (in formula C31.685756H40.884037000000006N9.559588O20.989518P3.134647S0.355614)\n",
      "  % (count, self.formula)\n",
      "C:\\Users\\s174916\\.conda\\envs\\Conda2_env\\lib\\site-packages\\cobra\\core\\metabolite.py:104: UserWarning: 9.559588 is not an integer (in formula C31.685756H40.884037000000006N9.559588O20.989518P3.134647S0.355614)\n",
      "  % (count, self.formula)\n",
      "C:\\Users\\s174916\\.conda\\envs\\Conda2_env\\lib\\site-packages\\cobra\\core\\metabolite.py:104: UserWarning: 20.989518 is not an integer (in formula C31.685756H40.884037000000006N9.559588O20.989518P3.134647S0.355614)\n",
      "  % (count, self.formula)\n",
      "C:\\Users\\s174916\\.conda\\envs\\Conda2_env\\lib\\site-packages\\cobra\\core\\metabolite.py:104: UserWarning: 3.134647 is not an integer (in formula C31.685756H40.884037000000006N9.559588O20.989518P3.134647S0.355614)\n",
      "  % (count, self.formula)\n",
      "C:\\Users\\s174916\\.conda\\envs\\Conda2_env\\lib\\site-packages\\cobra\\core\\metabolite.py:104: UserWarning: 0.355614 is not an integer (in formula C31.685756H40.884037000000006N9.559588O20.989518P3.134647S0.355614)\n",
      "  % (count, self.formula)\n",
      "C:\\Users\\s174916\\.conda\\envs\\Conda2_env\\lib\\site-packages\\cobra\\core\\metabolite.py:104: UserWarning: 40.61964015575376 is not an integer (in formula C40.61964015575376H65.83441744734994N8.013199119561293O16.0581272232233P0.496895768854594S0.160334607330444Fe0.094235323472Ca0.03377612056Co0.000163275776Cu0.004599162512K1.26660436544Mg0.056293555008Mn0.004486599296Ni0.00209414872Zn0.002212312096Cl0.03377612056)\n",
      "  % (count, self.formula)\n",
      "C:\\Users\\s174916\\.conda\\envs\\Conda2_env\\lib\\site-packages\\cobra\\core\\metabolite.py:104: UserWarning: 65.83441744734994 is not an integer (in formula C40.61964015575376H65.83441744734994N8.013199119561293O16.0581272232233P0.496895768854594S0.160334607330444Fe0.094235323472Ca0.03377612056Co0.000163275776Cu0.004599162512K1.26660436544Mg0.056293555008Mn0.004486599296Ni0.00209414872Zn0.002212312096Cl0.03377612056)\n",
      "  % (count, self.formula)\n",
      "C:\\Users\\s174916\\.conda\\envs\\Conda2_env\\lib\\site-packages\\cobra\\core\\metabolite.py:104: UserWarning: 8.013199119561293 is not an integer (in formula C40.61964015575376H65.83441744734994N8.013199119561293O16.0581272232233P0.496895768854594S0.160334607330444Fe0.094235323472Ca0.03377612056Co0.000163275776Cu0.004599162512K1.26660436544Mg0.056293555008Mn0.004486599296Ni0.00209414872Zn0.002212312096Cl0.03377612056)\n",
      "  % (count, self.formula)\n",
      "C:\\Users\\s174916\\.conda\\envs\\Conda2_env\\lib\\site-packages\\cobra\\core\\metabolite.py:104: UserWarning: 16.0581272232233 is not an integer (in formula C40.61964015575376H65.83441744734994N8.013199119561293O16.0581272232233P0.496895768854594S0.160334607330444Fe0.094235323472Ca0.03377612056Co0.000163275776Cu0.004599162512K1.26660436544Mg0.056293555008Mn0.004486599296Ni0.00209414872Zn0.002212312096Cl0.03377612056)\n",
      "  % (count, self.formula)\n",
      "C:\\Users\\s174916\\.conda\\envs\\Conda2_env\\lib\\site-packages\\cobra\\core\\metabolite.py:104: UserWarning: 0.496895768854594 is not an integer (in formula C40.61964015575376H65.83441744734994N8.013199119561293O16.0581272232233P0.496895768854594S0.160334607330444Fe0.094235323472Ca0.03377612056Co0.000163275776Cu0.004599162512K1.26660436544Mg0.056293555008Mn0.004486599296Ni0.00209414872Zn0.002212312096Cl0.03377612056)\n",
      "  % (count, self.formula)\n",
      "C:\\Users\\s174916\\.conda\\envs\\Conda2_env\\lib\\site-packages\\cobra\\core\\metabolite.py:104: UserWarning: 0.160334607330444 is not an integer (in formula C40.61964015575376H65.83441744734994N8.013199119561293O16.0581272232233P0.496895768854594S0.160334607330444Fe0.094235323472Ca0.03377612056Co0.000163275776Cu0.004599162512K1.26660436544Mg0.056293555008Mn0.004486599296Ni0.00209414872Zn0.002212312096Cl0.03377612056)\n",
      "  % (count, self.formula)\n",
      "C:\\Users\\s174916\\.conda\\envs\\Conda2_env\\lib\\site-packages\\cobra\\core\\metabolite.py:104: UserWarning: 0.094235323472 is not an integer (in formula C40.61964015575376H65.83441744734994N8.013199119561293O16.0581272232233P0.496895768854594S0.160334607330444Fe0.094235323472Ca0.03377612056Co0.000163275776Cu0.004599162512K1.26660436544Mg0.056293555008Mn0.004486599296Ni0.00209414872Zn0.002212312096Cl0.03377612056)\n",
      "  % (count, self.formula)\n",
      "C:\\Users\\s174916\\.conda\\envs\\Conda2_env\\lib\\site-packages\\cobra\\core\\metabolite.py:104: UserWarning: 0.03377612056 is not an integer (in formula C40.61964015575376H65.83441744734994N8.013199119561293O16.0581272232233P0.496895768854594S0.160334607330444Fe0.094235323472Ca0.03377612056Co0.000163275776Cu0.004599162512K1.26660436544Mg0.056293555008Mn0.004486599296Ni0.00209414872Zn0.002212312096Cl0.03377612056)\n",
      "  % (count, self.formula)\n",
      "C:\\Users\\s174916\\.conda\\envs\\Conda2_env\\lib\\site-packages\\cobra\\core\\metabolite.py:104: UserWarning: 0.000163275776 is not an integer (in formula C40.61964015575376H65.83441744734994N8.013199119561293O16.0581272232233P0.496895768854594S0.160334607330444Fe0.094235323472Ca0.03377612056Co0.000163275776Cu0.004599162512K1.26660436544Mg0.056293555008Mn0.004486599296Ni0.00209414872Zn0.002212312096Cl0.03377612056)\n",
      "  % (count, self.formula)\n",
      "C:\\Users\\s174916\\.conda\\envs\\Conda2_env\\lib\\site-packages\\cobra\\core\\metabolite.py:104: UserWarning: 0.004599162512 is not an integer (in formula C40.61964015575376H65.83441744734994N8.013199119561293O16.0581272232233P0.496895768854594S0.160334607330444Fe0.094235323472Ca0.03377612056Co0.000163275776Cu0.004599162512K1.26660436544Mg0.056293555008Mn0.004486599296Ni0.00209414872Zn0.002212312096Cl0.03377612056)\n",
      "  % (count, self.formula)\n",
      "C:\\Users\\s174916\\.conda\\envs\\Conda2_env\\lib\\site-packages\\cobra\\core\\metabolite.py:104: UserWarning: 1.26660436544 is not an integer (in formula C40.61964015575376H65.83441744734994N8.013199119561293O16.0581272232233P0.496895768854594S0.160334607330444Fe0.094235323472Ca0.03377612056Co0.000163275776Cu0.004599162512K1.26660436544Mg0.056293555008Mn0.004486599296Ni0.00209414872Zn0.002212312096Cl0.03377612056)\n",
      "  % (count, self.formula)\n",
      "C:\\Users\\s174916\\.conda\\envs\\Conda2_env\\lib\\site-packages\\cobra\\core\\metabolite.py:104: UserWarning: 0.056293555008 is not an integer (in formula C40.61964015575376H65.83441744734994N8.013199119561293O16.0581272232233P0.496895768854594S0.160334607330444Fe0.094235323472Ca0.03377612056Co0.000163275776Cu0.004599162512K1.26660436544Mg0.056293555008Mn0.004486599296Ni0.00209414872Zn0.002212312096Cl0.03377612056)\n",
      "  % (count, self.formula)\n",
      "C:\\Users\\s174916\\.conda\\envs\\Conda2_env\\lib\\site-packages\\cobra\\core\\metabolite.py:104: UserWarning: 0.004486599296 is not an integer (in formula C40.61964015575376H65.83441744734994N8.013199119561293O16.0581272232233P0.496895768854594S0.160334607330444Fe0.094235323472Ca0.03377612056Co0.000163275776Cu0.004599162512K1.26660436544Mg0.056293555008Mn0.004486599296Ni0.00209414872Zn0.002212312096Cl0.03377612056)\n",
      "  % (count, self.formula)\n",
      "C:\\Users\\s174916\\.conda\\envs\\Conda2_env\\lib\\site-packages\\cobra\\core\\metabolite.py:104: UserWarning: 0.00209414872 is not an integer (in formula C40.61964015575376H65.83441744734994N8.013199119561293O16.0581272232233P0.496895768854594S0.160334607330444Fe0.094235323472Ca0.03377612056Co0.000163275776Cu0.004599162512K1.26660436544Mg0.056293555008Mn0.004486599296Ni0.00209414872Zn0.002212312096Cl0.03377612056)\n",
      "  % (count, self.formula)\n",
      "C:\\Users\\s174916\\.conda\\envs\\Conda2_env\\lib\\site-packages\\cobra\\core\\metabolite.py:104: UserWarning: 0.002212312096 is not an integer (in formula C40.61964015575376H65.83441744734994N8.013199119561293O16.0581272232233P0.496895768854594S0.160334607330444Fe0.094235323472Ca0.03377612056Co0.000163275776Cu0.004599162512K1.26660436544Mg0.056293555008Mn0.004486599296Ni0.00209414872Zn0.002212312096Cl0.03377612056)\n",
      "  % (count, self.formula)\n"
     ]
    }
   ],
   "source": [
    "growth_glucose = production_envelope(model,\n",
    "                reactions=[model.reactions.EX_glc_e],\n",
    "                objective=[growth],\n",
    "                carbon_sources=[model.reactions.EX_glc_e])"
   ]
  },
  {
   "cell_type": "code",
   "execution_count": 20,
   "id": "11d1fa0c",
   "metadata": {},
   "outputs": [
    {
     "data": {
      "text/plain": [
       "<AxesSubplot:xlabel='Glucose Flux mmol/gDW/h', ylabel='Growth Rate 1/h'>"
      ]
     },
     "execution_count": 20,
     "metadata": {},
     "output_type": "execute_result"
    },
    {
     "data": {
      "image/png": "[encoded data removed]",
      "text/plain": [
       "<Figure size 432x288 with 1 Axes>"
      ]
     },
     "metadata": {
      "needs_background": "light"
     },
     "output_type": "display_data"
    }
   ],
   "source": [
    "growth_glucose.plot(x='EX_glc_e', y='flux_maximum',xlabel = \"Glucose Flux mmol/gDW/h\", ylabel=\"Growth Rate 1/h\")"
   ]
  },
  {
   "cell_type": "markdown",
   "id": "a427a1bc",
   "metadata": {},
   "source": [
    "# Various other Uptakes"
   ]
  },
  {
   "cell_type": "markdown",
   "id": "3b36b40e",
   "metadata": {},
   "source": [
    "NH4, SO4, Pi, H2O, K, Na, and CO2"
   ]
  },
  {
   "cell_type": "code",
   "execution_count": 21,
   "id": "4ff28c3f",
   "metadata": {},
   "outputs": [],
   "source": [
    "medium = basemedium"
   ]
  },
  {
   "cell_type": "code",
   "execution_count": 22,
   "id": "80f9e7d6",
   "metadata": {},
   "outputs": [],
   "source": [
    "model.reactions.EX_nh4_e.bounds = -50,50\n",
    "model.reactions.EX_so4_e.bounds = -50,50\n",
    "model.reactions.EX_pi_e.bounds = -50,50\n",
    "model.reactions.EX_so4_e.bounds = -50,50\n",
    "model.reactions.EX_h2o_e.bounds = -50,50\n",
    "model.reactions.EX_k_e.bounds = -50,50\n",
    "model.reactions.EX_na1_e.bounds = -50,50\n",
    "model.reactions.EX_co2_e.bounds = -50,50"
   ]
  },
  {
   "cell_type": "code",
   "execution_count": 23,
   "id": "12cb75c0",
   "metadata": {},
   "outputs": [],
   "source": [
    "product_ammonia = production_envelope(model,\n",
    "                reactions=[model.reactions.EX_nh4_e],\n",
    "                objective=[product],\n",
    "                carbon_sources=[model.reactions.EX_glc_e])"
   ]
  },
  {
   "cell_type": "code",
   "execution_count": 24,
   "id": "f9cda21a",
   "metadata": {},
   "outputs": [],
   "source": [
    "product_sulfate = production_envelope(model,\n",
    "                reactions=[model.reactions.EX_so4_e],\n",
    "                objective=[product],\n",
    "                carbon_sources=[model.reactions.EX_glc_e])"
   ]
  },
  {
   "cell_type": "code",
   "execution_count": 25,
   "id": "15948dc3",
   "metadata": {},
   "outputs": [],
   "source": [
    "product_phosphate = production_envelope(model,\n",
    "                reactions=[model.reactions.EX_pi_e],\n",
    "                objective=[product],\n",
    "                carbon_sources=[model.reactions.EX_glc_e])"
   ]
  },
  {
   "cell_type": "code",
   "execution_count": 26,
   "id": "c04e7bab",
   "metadata": {},
   "outputs": [],
   "source": [
    "product_water = production_envelope(model,\n",
    "                reactions=[model.reactions.EX_h2o_e],\n",
    "                objective=[product],\n",
    "                carbon_sources=[model.reactions.EX_glc_e])"
   ]
  },
  {
   "cell_type": "code",
   "execution_count": 27,
   "id": "fad1cecd",
   "metadata": {},
   "outputs": [],
   "source": [
    "product_potassium = production_envelope(model,\n",
    "                reactions=[model.reactions.EX_k_e],\n",
    "                objective=[product],\n",
    "                carbon_sources=[model.reactions.EX_glc_e])"
   ]
  },
  {
   "cell_type": "code",
   "execution_count": 28,
   "id": "568b7a26",
   "metadata": {},
   "outputs": [],
   "source": [
    "product_sodium = production_envelope(model,\n",
    "                reactions=[model.reactions.EX_na1_e],\n",
    "                objective=[product],\n",
    "                carbon_sources=[model.reactions.EX_glc_e])"
   ]
  },
  {
   "cell_type": "code",
   "execution_count": 29,
   "id": "ded3300a",
   "metadata": {},
   "outputs": [],
   "source": [
    "product_carbondioxide = production_envelope(model,\n",
    "                reactions=[model.reactions.EX_co2_e],\n",
    "                objective=[product],\n",
    "                carbon_sources=[model.reactions.EX_glc_e])"
   ]
  },
  {
   "cell_type": "code",
   "execution_count": 30,
   "id": "5355a397",
   "metadata": {},
   "outputs": [
    {
     "data": {
      "text/plain": [
       "<AxesSubplot:xlabel='EX_nh4_e'>"
      ]
     },
     "execution_count": 30,
     "metadata": {},
     "output_type": "execute_result"
    },
    {
     "data": {
      "image/png": "[encoded data removed]",
      "text/plain": [
       "<Figure size 432x288 with 1 Axes>"
      ]
     },
     "metadata": {
      "needs_background": "light"
     },
     "output_type": "display_data"
    }
   ],
   "source": [
    "product_ammonia.plot(x='EX_nh4_e', y='flux_maximum')"
   ]
  },
  {
   "cell_type": "code",
   "execution_count": 31,
   "id": "cef206f0",
   "metadata": {},
   "outputs": [
    {
     "data": {
      "text/plain": [
       "<AxesSubplot:xlabel='EX_so4_e'>"
      ]
     },
     "execution_count": 31,
     "metadata": {},
     "output_type": "execute_result"
    },
    {
     "data": {
      "image/png": "[encoded data removed]",
      "text/plain": [
       "<Figure size 432x288 with 1 Axes>"
      ]
     },
     "metadata": {
      "needs_background": "light"
     },
     "output_type": "display_data"
    }
   ],
   "source": [
    "product_sulfate.plot(x='EX_so4_e', y='flux_maximum')"
   ]
  },
  {
   "cell_type": "code",
   "execution_count": 32,
   "id": "6b225bcf",
   "metadata": {},
   "outputs": [
    {
     "data": {
      "text/plain": [
       "<AxesSubplot:xlabel='EX_pi_e'>"
      ]
     },
     "execution_count": 32,
     "metadata": {},
     "output_type": "execute_result"
    },
    {
     "data": {
      "image/png": "[encoded data removed]",
      "text/plain": [
       "<Figure size 432x288 with 1 Axes>"
      ]
     },
     "metadata": {
      "needs_background": "light"
     },
     "output_type": "display_data"
    }
   ],
   "source": [
    "product_phosphate.plot(x='EX_pi_e', y='flux_maximum')"
   ]
  },
  {
   "cell_type": "code",
   "execution_count": 33,
   "id": "3c5f7e95",
   "metadata": {},
   "outputs": [
    {
     "data": {
      "text/plain": [
       "<AxesSubplot:xlabel='EX_h2o_e'>"
      ]
     },
     "execution_count": 33,
     "metadata": {},
     "output_type": "execute_result"
    },
    {
     "data": {
      "image/png": "[encoded data removed]",
      "text/plain": [
       "<Figure size 432x288 with 1 Axes>"
      ]
     },
     "metadata": {
      "needs_background": "light"
     },
     "output_type": "display_data"
    }
   ],
   "source": [
    "product_water.plot(x='EX_h2o_e', y='flux_maximum')"
   ]
  },
  {
   "cell_type": "code",
   "execution_count": 34,
   "id": "dba0c267",
   "metadata": {},
   "outputs": [
    {
     "data": {
      "text/plain": [
       "<AxesSubplot:xlabel='EX_k_e'>"
      ]
     },
     "execution_count": 34,
     "metadata": {},
     "output_type": "execute_result"
    },
    {
     "data": {
      "image/png": "[encoded data removed]",
      "text/plain": [
       "<Figure size 432x288 with 1 Axes>"
      ]
     },
     "metadata": {
      "needs_background": "light"
     },
     "output_type": "display_data"
    }
   ],
   "source": [
    "product_potassium.plot(x='EX_k_e', y='flux_maximum')"
   ]
  },
  {
   "cell_type": "code",
   "execution_count": 40,
   "id": "8f7bf18a",
   "metadata": {},
   "outputs": [
    {
     "data": {
      "text/plain": [
       "<AxesSubplot:xlabel='EX_na1_e'>"
      ]
     },
     "execution_count": 40,
     "metadata": {},
     "output_type": "execute_result"
    },
    {
     "data": {
      "image/png": "[encoded data removed]",
      "text/plain": [
       "<Figure size 432x288 with 1 Axes>"
      ]
     },
     "metadata": {
      "needs_background": "light"
     },
     "output_type": "display_data"
    }
   ],
   "source": [
    "product_sodium.plot(x='EX_na1_e', y='flux_maximum') #doesn't seem sodium is important"
   ]
  },
  {
   "cell_type": "code",
   "execution_count": 37,
   "id": "e7ccfa0b",
   "metadata": {
    "scrolled": true
   },
   "outputs": [
    {
     "data": {
      "text/plain": [
       "<AxesSubplot:xlabel='EX_co2_e'>"
      ]
     },
     "execution_count": 37,
     "metadata": {},
     "output_type": "execute_result"
    },
    {
     "data": {
      "image/png": "[encoded data removed]",
      "text/plain": [
       "<Figure size 432x288 with 1 Axes>"
      ]
     },
     "metadata": {
      "needs_background": "light"
     },
     "output_type": "display_data"
    }
   ],
   "source": [
    "product_carbondioxide.plot(x='EX_co2_e', y='flux_maximum')"
   ]
  },
  {
   "cell_type": "code",
   "execution_count": 38,
   "id": "9695e9fe",
   "metadata": {
    "scrolled": true
   },
   "outputs": [
    {
     "data": {
      "text/plain": [
       "{'EX_ca2_e': 0.0144877134286247,\n",
       " 'EX_cobalt2_e': 7.00338234344926e-05,\n",
       " 'EX_cu2_e': 0.00197271722237563,\n",
       " 'EX_fe2_e': 0.16239125,\n",
       " 'EX_fe3_e': 0.0217300637039616,\n",
       " 'EX_glc_e': 100,\n",
       " 'EX_k_e': 0.543285250115532,\n",
       " 'EX_mg2_e': 0.0241459221505149,\n",
       " 'EX_mn2_e': 0.00192443552016793,\n",
       " 'EX_nh4_e': 11.9121416666662,\n",
       " 'EX_ni2_e': 0.00089824250292982,\n",
       " 'EX_o2_e': 100,\n",
       " 'EX_pi_e': 0.918000000000888,\n",
       " 'EX_so4_e': 4.01673156249995,\n",
       " 'EX_zn2_e': 0.000948926279874219,\n",
       " 'EX_BIOTIN': 1.01925397503027e-06,\n",
       " 'EX_cl': 0.0144877134286247}"
      ]
     },
     "execution_count": 38,
     "metadata": {},
     "output_type": "execute_result"
    }
   ],
   "source": [
    "basemedium"
   ]
  },
  {
   "cell_type": "code",
   "execution_count": null,
   "id": "71863801",
   "metadata": {},
   "outputs": [],
   "source": []
  }
 ],
 "metadata": {
  "kernelspec": {
   "display_name": "Python 3",
   "language": "python",
   "name": "python3"
  },
  "language_info": {
   "codemirror_mode": {
    "name": "ipython",
    "version": 3
   },
   "file_extension": ".py",
   "mimetype": "text/x-python",
   "name": "python",
   "nbconvert_exporter": "python",
   "pygments_lexer": "ipython3",
   "version": "3.6.13"
  }
 },
 "nbformat": 4,
 "nbformat_minor": 5
}
