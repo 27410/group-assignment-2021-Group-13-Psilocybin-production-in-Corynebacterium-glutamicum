{
 "cells": [
  {
   "cell_type": "code",
   "execution_count": 1,
   "id": "c95ea1a7-1387-4ccc-85c3-bd589806f528",
   "metadata": {},
   "outputs": [],
   "source": [
    "from matplotlib import pyplot as plt\n",
    "import pandas as pd\n",
    "from cobra.io import read_sbml_model\n",
    "from cobra import Reaction, Metabolite\n",
    "from cameo.strain_design.deterministic.flux_variability_based import FSEOF"
   ]
  },
  {
   "cell_type": "code",
   "execution_count": 2,
   "id": "cb314cf4-f823-42d5-a499-297f59724a95",
   "metadata": {},
   "outputs": [
    {
     "name": "stderr",
     "output_type": "stream",
     "text": [
      "No objective coefficients in model. Unclear what should be optimized\n"
     ]
    }
   ],
   "source": [
    "model = read_sbml_model('iCW773_psilocybin.xml') #Loading the model"
   ]
  },
  {
   "cell_type": "code",
   "execution_count": 3,
   "id": "2032cdaa-a3c9-4c83-8ac0-7ee62f920afc",
   "metadata": {},
   "outputs": [
    {
     "data": {
      "text/plain": [
       "0.428929662134894"
      ]
     },
     "execution_count": 3,
     "metadata": {},
     "output_type": "execute_result"
    }
   ],
   "source": [
    "#Defining Optimization Target\n",
    "model.objective = model.reactions.CG_biomass_cgl_ATCC13032\n",
    "model.optimize().objective_value"
   ]
  },
  {
   "cell_type": "code",
   "execution_count": 4,
   "id": "674de51a-b656-4351-b622-7c0a1a921125",
   "metadata": {},
   "outputs": [],
   "source": [
    "#Flux Scanning Enforced Objective Flux Algorithm\n",
    "fseof = FSEOF(model)\n",
    "f_result = fseof.run(target=model.reactions.EX_psi_e) #Defining Flux of Interest (x axis)\n",
    "frdf = f_result.data_frame"
   ]
  },
  {
   "cell_type": "code",
   "execution_count": 5,
   "id": "10955790-2871-48ff-92fb-d1779cc5c5c5",
   "metadata": {},
   "outputs": [
    {
     "data": {
      "text/plain": [
       "Text(0, 0.5, 'Flux $\\\\left[\\\\dfrac{mmol}{gDW\\\\cdot h}\\\\right]$')"
      ]
     },
     "execution_count": 5,
     "metadata": {},
     "output_type": "execute_result"
    },
    {
     "data": {
      "image/png": "[encoded data removed]",
      "text/plain": [
       "<Figure size 432x288 with 1 Axes>"
      ]
     },
     "metadata": {
      "needs_background": "light"
     },
     "output_type": "display_data"
    }
   ],
   "source": [
    "#Plotting FSEOF Results\n",
    "frdf.T.plot(legend= None) #Legend too big to show\n",
    "plt.xlabel(\"Psilocybin Flux\")\n",
    "plt.ylabel(r\"Flux $\\left[\\dfrac{mmol}{gDW\\cdot h}\\right]$\")"
   ]
  },
  {
   "cell_type": "code",
   "execution_count": 6,
   "id": "74ee3a6d-8485-426d-b163-5f522e2f09d6",
   "metadata": {},
   "outputs": [],
   "source": [
    "frdf['RCiF'] = (frdf[10]-frdf[1])/frdf[10] +1 #Adding \"Relative Change in Flux\" Column\n",
    "frdf['Dif'] = abs(frdf[10])-abs(frdf[1]) #Adding a \"Subtraction\" Column\n",
    "frdf['Slope'] = frdf[10]-frdf[1]/9 #Slope of the line"
   ]
  },
  {
   "cell_type": "code",
   "execution_count": 7,
   "id": "c3217e8a-effb-4593-9ab4-f616becedc00",
   "metadata": {},
   "outputs": [
    {
     "data": {
      "text/html": [
       "<div>\n",
       "<style scoped>\n",
       "    .dataframe tbody tr th:only-of-type {\n",
       "        vertical-align: middle;\n",
       "    }\n",
       "\n",
       "    .dataframe tbody tr th {\n",
       "        vertical-align: top;\n",
       "    }\n",
       "\n",
       "    .dataframe thead th {\n",
       "        text-align: right;\n",
       "    }\n",
       "</style>\n",
       "<table border=\"1\" class=\"dataframe\">\n",
       "  <thead>\n",
       "    <tr style=\"text-align: right;\">\n",
       "      <th></th>\n",
       "      <th>1</th>\n",
       "      <th>2</th>\n",
       "      <th>3</th>\n",
       "      <th>4</th>\n",
       "      <th>5</th>\n",
       "      <th>6</th>\n",
       "      <th>7</th>\n",
       "      <th>8</th>\n",
       "      <th>9</th>\n",
       "      <th>10</th>\n",
       "      <th>RCiF</th>\n",
       "      <th>Dif</th>\n",
       "      <th>Slope</th>\n",
       "    </tr>\n",
       "  </thead>\n",
       "  <tbody>\n",
       "    <tr>\n",
       "      <th>CYTBDpp</th>\n",
       "      <td>6.344483</td>\n",
       "      <td>14.796893</td>\n",
       "      <td>19.765623</td>\n",
       "      <td>20.237697</td>\n",
       "      <td>20.407349</td>\n",
       "      <td>20.593325</td>\n",
       "      <td>20.668518</td>\n",
       "      <td>20.540138</td>\n",
       "      <td>20.617364</td>\n",
       "      <td>21.108557</td>\n",
       "      <td>1.699435</td>\n",
       "      <td>14.764074</td>\n",
       "      <td>20.403614</td>\n",
       "    </tr>\n",
       "    <tr>\n",
       "      <th>NADH16pp</th>\n",
       "      <td>15.668103</td>\n",
       "      <td>15.618126</td>\n",
       "      <td>15.757287</td>\n",
       "      <td>15.515916</td>\n",
       "      <td>15.243191</td>\n",
       "      <td>15.025550</td>\n",
       "      <td>14.929919</td>\n",
       "      <td>14.915222</td>\n",
       "      <td>14.986117</td>\n",
       "      <td>15.069604</td>\n",
       "      <td>0.960284</td>\n",
       "      <td>-0.598499</td>\n",
       "      <td>13.328704</td>\n",
       "    </tr>\n",
       "    <tr>\n",
       "      <th>CO2tpp</th>\n",
       "      <td>9.939745</td>\n",
       "      <td>10.287943</td>\n",
       "      <td>10.390913</td>\n",
       "      <td>10.546077</td>\n",
       "      <td>10.749321</td>\n",
       "      <td>10.887729</td>\n",
       "      <td>10.944334</td>\n",
       "      <td>11.045224</td>\n",
       "      <td>11.244422</td>\n",
       "      <td>11.440472</td>\n",
       "      <td>1.131177</td>\n",
       "      <td>1.500727</td>\n",
       "      <td>10.336056</td>\n",
       "    </tr>\n",
       "    <tr>\n",
       "      <th>O2tpp</th>\n",
       "      <td>8.866996</td>\n",
       "      <td>9.348759</td>\n",
       "      <td>9.896750</td>\n",
       "      <td>10.142506</td>\n",
       "      <td>10.237050</td>\n",
       "      <td>10.336652</td>\n",
       "      <td>10.380561</td>\n",
       "      <td>10.320427</td>\n",
       "      <td>10.361341</td>\n",
       "      <td>10.617109</td>\n",
       "      <td>1.164839</td>\n",
       "      <td>1.750113</td>\n",
       "      <td>9.631887</td>\n",
       "    </tr>\n",
       "    <tr>\n",
       "      <th>PPA</th>\n",
       "      <td>0.000000</td>\n",
       "      <td>0.000000</td>\n",
       "      <td>0.784898</td>\n",
       "      <td>2.066134</td>\n",
       "      <td>3.378643</td>\n",
       "      <td>4.675027</td>\n",
       "      <td>5.857324</td>\n",
       "      <td>6.934692</td>\n",
       "      <td>8.053104</td>\n",
       "      <td>9.313492</td>\n",
       "      <td>2.000000</td>\n",
       "      <td>9.313492</td>\n",
       "      <td>9.313492</td>\n",
       "    </tr>\n",
       "    <tr>\n",
       "      <th>...</th>\n",
       "      <td>...</td>\n",
       "      <td>...</td>\n",
       "      <td>...</td>\n",
       "      <td>...</td>\n",
       "      <td>...</td>\n",
       "      <td>...</td>\n",
       "      <td>...</td>\n",
       "      <td>...</td>\n",
       "      <td>...</td>\n",
       "      <td>...</td>\n",
       "      <td>...</td>\n",
       "      <td>...</td>\n",
       "      <td>...</td>\n",
       "    </tr>\n",
       "    <tr>\n",
       "      <th>METt2rpp</th>\n",
       "      <td>0.000000</td>\n",
       "      <td>0.000000</td>\n",
       "      <td>0.000000</td>\n",
       "      <td>0.000000</td>\n",
       "      <td>0.000000</td>\n",
       "      <td>0.000000</td>\n",
       "      <td>-0.025271</td>\n",
       "      <td>-0.108535</td>\n",
       "      <td>-0.206861</td>\n",
       "      <td>-0.229634</td>\n",
       "      <td>2.000000</td>\n",
       "      <td>0.229634</td>\n",
       "      <td>-0.229634</td>\n",
       "    </tr>\n",
       "    <tr>\n",
       "      <th>HSDy</th>\n",
       "      <td>-0.230063</td>\n",
       "      <td>-0.207290</td>\n",
       "      <td>-0.184517</td>\n",
       "      <td>-0.161744</td>\n",
       "      <td>-0.138971</td>\n",
       "      <td>-0.116198</td>\n",
       "      <td>-0.118696</td>\n",
       "      <td>-0.179187</td>\n",
       "      <td>-0.254740</td>\n",
       "      <td>-0.254740</td>\n",
       "      <td>1.096871</td>\n",
       "      <td>0.024677</td>\n",
       "      <td>-0.229177</td>\n",
       "    </tr>\n",
       "    <tr>\n",
       "      <th>ACGAM1Ptex</th>\n",
       "      <td>0.000000</td>\n",
       "      <td>0.000000</td>\n",
       "      <td>0.000000</td>\n",
       "      <td>-0.090354</td>\n",
       "      <td>-0.178986</td>\n",
       "      <td>-0.236323</td>\n",
       "      <td>-0.306087</td>\n",
       "      <td>-0.373462</td>\n",
       "      <td>-0.381603</td>\n",
       "      <td>-0.389744</td>\n",
       "      <td>2.000000</td>\n",
       "      <td>0.389744</td>\n",
       "      <td>-0.389744</td>\n",
       "    </tr>\n",
       "    <tr>\n",
       "      <th>PGAMT</th>\n",
       "      <td>-0.055886</td>\n",
       "      <td>-0.050351</td>\n",
       "      <td>-0.044817</td>\n",
       "      <td>-0.129636</td>\n",
       "      <td>-0.212733</td>\n",
       "      <td>-0.264536</td>\n",
       "      <td>-0.328765</td>\n",
       "      <td>-0.390605</td>\n",
       "      <td>-0.393212</td>\n",
       "      <td>-0.395818</td>\n",
       "      <td>1.858809</td>\n",
       "      <td>0.339932</td>\n",
       "      <td>-0.389608</td>\n",
       "    </tr>\n",
       "    <tr>\n",
       "      <th>ACt2rpp</th>\n",
       "      <td>-0.496116</td>\n",
       "      <td>-0.902625</td>\n",
       "      <td>-1.229463</td>\n",
       "      <td>-1.448228</td>\n",
       "      <td>-1.524478</td>\n",
       "      <td>-1.605377</td>\n",
       "      <td>-1.737732</td>\n",
       "      <td>-2.039240</td>\n",
       "      <td>-2.413310</td>\n",
       "      <td>-2.560720</td>\n",
       "      <td>1.806259</td>\n",
       "      <td>2.064604</td>\n",
       "      <td>-2.505596</td>\n",
       "    </tr>\n",
       "  </tbody>\n",
       "</table>\n",
       "<p>148 rows × 13 columns</p>\n",
       "</div>"
      ],
      "text/plain": [
       "                    1          2          3          4          5          6  \\\n",
       "CYTBDpp      6.344483  14.796893  19.765623  20.237697  20.407349  20.593325   \n",
       "NADH16pp    15.668103  15.618126  15.757287  15.515916  15.243191  15.025550   \n",
       "CO2tpp       9.939745  10.287943  10.390913  10.546077  10.749321  10.887729   \n",
       "O2tpp        8.866996   9.348759   9.896750  10.142506  10.237050  10.336652   \n",
       "PPA          0.000000   0.000000   0.784898   2.066134   3.378643   4.675027   \n",
       "...               ...        ...        ...        ...        ...        ...   \n",
       "METt2rpp     0.000000   0.000000   0.000000   0.000000   0.000000   0.000000   \n",
       "HSDy        -0.230063  -0.207290  -0.184517  -0.161744  -0.138971  -0.116198   \n",
       "ACGAM1Ptex   0.000000   0.000000   0.000000  -0.090354  -0.178986  -0.236323   \n",
       "PGAMT       -0.055886  -0.050351  -0.044817  -0.129636  -0.212733  -0.264536   \n",
       "ACt2rpp     -0.496116  -0.902625  -1.229463  -1.448228  -1.524478  -1.605377   \n",
       "\n",
       "                    7          8          9         10      RCiF        Dif  \\\n",
       "CYTBDpp     20.668518  20.540138  20.617364  21.108557  1.699435  14.764074   \n",
       "NADH16pp    14.929919  14.915222  14.986117  15.069604  0.960284  -0.598499   \n",
       "CO2tpp      10.944334  11.045224  11.244422  11.440472  1.131177   1.500727   \n",
       "O2tpp       10.380561  10.320427  10.361341  10.617109  1.164839   1.750113   \n",
       "PPA          5.857324   6.934692   8.053104   9.313492  2.000000   9.313492   \n",
       "...               ...        ...        ...        ...       ...        ...   \n",
       "METt2rpp    -0.025271  -0.108535  -0.206861  -0.229634  2.000000   0.229634   \n",
       "HSDy        -0.118696  -0.179187  -0.254740  -0.254740  1.096871   0.024677   \n",
       "ACGAM1Ptex  -0.306087  -0.373462  -0.381603  -0.389744  2.000000   0.389744   \n",
       "PGAMT       -0.328765  -0.390605  -0.393212  -0.395818  1.858809   0.339932   \n",
       "ACt2rpp     -1.737732  -2.039240  -2.413310  -2.560720  1.806259   2.064604   \n",
       "\n",
       "                Slope  \n",
       "CYTBDpp     20.403614  \n",
       "NADH16pp    13.328704  \n",
       "CO2tpp      10.336056  \n",
       "O2tpp        9.631887  \n",
       "PPA          9.313492  \n",
       "...               ...  \n",
       "METt2rpp    -0.229634  \n",
       "HSDy        -0.229177  \n",
       "ACGAM1Ptex  -0.389744  \n",
       "PGAMT       -0.389608  \n",
       "ACt2rpp     -2.505596  \n",
       "\n",
       "[148 rows x 13 columns]"
      ]
     },
     "execution_count": 7,
     "metadata": {},
     "output_type": "execute_result"
    }
   ],
   "source": [
    "frdf.sort_values(by=[10], ascending= False)"
   ]
  },
  {
   "cell_type": "code",
   "execution_count": 8,
   "id": "7bcd22dc-ddb4-4ce5-a8b1-67243bf099bd",
   "metadata": {},
   "outputs": [
    {
     "data": {
      "text/html": [
       "<div>\n",
       "<style scoped>\n",
       "    .dataframe tbody tr th:only-of-type {\n",
       "        vertical-align: middle;\n",
       "    }\n",
       "\n",
       "    .dataframe tbody tr th {\n",
       "        vertical-align: top;\n",
       "    }\n",
       "\n",
       "    .dataframe thead th {\n",
       "        text-align: right;\n",
       "    }\n",
       "</style>\n",
       "<table border=\"1\" class=\"dataframe\">\n",
       "  <thead>\n",
       "    <tr style=\"text-align: right;\">\n",
       "      <th></th>\n",
       "      <th>1</th>\n",
       "      <th>2</th>\n",
       "      <th>3</th>\n",
       "      <th>4</th>\n",
       "      <th>5</th>\n",
       "      <th>6</th>\n",
       "      <th>7</th>\n",
       "      <th>8</th>\n",
       "      <th>9</th>\n",
       "      <th>10</th>\n",
       "      <th>RCiF</th>\n",
       "      <th>Dif</th>\n",
       "      <th>Slope</th>\n",
       "    </tr>\n",
       "  </thead>\n",
       "  <tbody>\n",
       "    <tr>\n",
       "      <th>ADK1</th>\n",
       "      <td>0.507984</td>\n",
       "      <td>0.457693</td>\n",
       "      <td>0.619008</td>\n",
       "      <td>1.225021</td>\n",
       "      <td>1.894529</td>\n",
       "      <td>2.542815</td>\n",
       "      <td>3.142029</td>\n",
       "      <td>3.724429</td>\n",
       "      <td>4.341546</td>\n",
       "      <td>5.023355</td>\n",
       "      <td>1.898876</td>\n",
       "      <td>4.515371</td>\n",
       "      <td>4.966912</td>\n",
       "    </tr>\n",
       "    <tr>\n",
       "      <th>GLNS</th>\n",
       "      <td>0.542396</td>\n",
       "      <td>0.549777</td>\n",
       "      <td>0.661622</td>\n",
       "      <td>1.296267</td>\n",
       "      <td>1.896527</td>\n",
       "      <td>2.468337</td>\n",
       "      <td>3.038444</td>\n",
       "      <td>3.575999</td>\n",
       "      <td>4.088021</td>\n",
       "      <td>4.677327</td>\n",
       "      <td>1.884037</td>\n",
       "      <td>4.134931</td>\n",
       "      <td>4.617061</td>\n",
       "    </tr>\n",
       "    <tr>\n",
       "      <th>NDPK1</th>\n",
       "      <td>0.119356</td>\n",
       "      <td>0.107558</td>\n",
       "      <td>0.095760</td>\n",
       "      <td>0.639886</td>\n",
       "      <td>1.311271</td>\n",
       "      <td>1.945104</td>\n",
       "      <td>2.554341</td>\n",
       "      <td>3.162489</td>\n",
       "      <td>3.746480</td>\n",
       "      <td>4.332203</td>\n",
       "      <td>1.972449</td>\n",
       "      <td>4.212847</td>\n",
       "      <td>4.318941</td>\n",
       "    </tr>\n",
       "    <tr>\n",
       "      <th>GK1</th>\n",
       "      <td>0.024155</td>\n",
       "      <td>0.021763</td>\n",
       "      <td>0.019371</td>\n",
       "      <td>0.572902</td>\n",
       "      <td>1.253693</td>\n",
       "      <td>1.896932</td>\n",
       "      <td>2.490303</td>\n",
       "      <td>3.024593</td>\n",
       "      <td>3.519664</td>\n",
       "      <td>4.092019</td>\n",
       "      <td>1.994097</td>\n",
       "      <td>4.067864</td>\n",
       "      <td>4.089335</td>\n",
       "    </tr>\n",
       "    <tr>\n",
       "      <th>GMPS2</th>\n",
       "      <td>0.024155</td>\n",
       "      <td>0.021763</td>\n",
       "      <td>0.019371</td>\n",
       "      <td>0.572902</td>\n",
       "      <td>1.253693</td>\n",
       "      <td>1.896932</td>\n",
       "      <td>2.490303</td>\n",
       "      <td>3.024593</td>\n",
       "      <td>3.519664</td>\n",
       "      <td>4.092019</td>\n",
       "      <td>1.994097</td>\n",
       "      <td>4.067864</td>\n",
       "      <td>4.089335</td>\n",
       "    </tr>\n",
       "    <tr>\n",
       "      <th>SERAT</th>\n",
       "      <td>0.051600</td>\n",
       "      <td>0.046501</td>\n",
       "      <td>0.041403</td>\n",
       "      <td>0.052069</td>\n",
       "      <td>0.174579</td>\n",
       "      <td>0.303542</td>\n",
       "      <td>0.392396</td>\n",
       "      <td>0.407604</td>\n",
       "      <td>0.387905</td>\n",
       "      <td>0.405983</td>\n",
       "      <td>1.872901</td>\n",
       "      <td>0.354383</td>\n",
       "      <td>0.400250</td>\n",
       "    </tr>\n",
       "    <tr>\n",
       "      <th>G1PACT</th>\n",
       "      <td>0.055886</td>\n",
       "      <td>0.050351</td>\n",
       "      <td>0.044817</td>\n",
       "      <td>0.129636</td>\n",
       "      <td>0.212733</td>\n",
       "      <td>0.264536</td>\n",
       "      <td>0.328765</td>\n",
       "      <td>0.390605</td>\n",
       "      <td>0.393212</td>\n",
       "      <td>0.395818</td>\n",
       "      <td>1.858809</td>\n",
       "      <td>0.339932</td>\n",
       "      <td>0.389608</td>\n",
       "    </tr>\n",
       "    <tr>\n",
       "      <th>METS</th>\n",
       "      <td>0.032474</td>\n",
       "      <td>0.029270</td>\n",
       "      <td>0.026065</td>\n",
       "      <td>0.022860</td>\n",
       "      <td>0.019655</td>\n",
       "      <td>0.016450</td>\n",
       "      <td>0.038517</td>\n",
       "      <td>0.118576</td>\n",
       "      <td>0.213697</td>\n",
       "      <td>0.233265</td>\n",
       "      <td>1.860785</td>\n",
       "      <td>0.200791</td>\n",
       "      <td>0.229657</td>\n",
       "    </tr>\n",
       "    <tr>\n",
       "      <th>ACHMSC</th>\n",
       "      <td>0.032474</td>\n",
       "      <td>0.029270</td>\n",
       "      <td>0.026065</td>\n",
       "      <td>0.022860</td>\n",
       "      <td>0.019655</td>\n",
       "      <td>0.016450</td>\n",
       "      <td>0.038517</td>\n",
       "      <td>0.118576</td>\n",
       "      <td>0.213697</td>\n",
       "      <td>0.233265</td>\n",
       "      <td>1.860785</td>\n",
       "      <td>0.200791</td>\n",
       "      <td>0.229657</td>\n",
       "    </tr>\n",
       "    <tr>\n",
       "      <th>HSST</th>\n",
       "      <td>0.032474</td>\n",
       "      <td>0.029270</td>\n",
       "      <td>0.026065</td>\n",
       "      <td>0.022860</td>\n",
       "      <td>0.019655</td>\n",
       "      <td>0.016450</td>\n",
       "      <td>0.038517</td>\n",
       "      <td>0.118576</td>\n",
       "      <td>0.213697</td>\n",
       "      <td>0.233265</td>\n",
       "      <td>1.860785</td>\n",
       "      <td>0.200791</td>\n",
       "      <td>0.229657</td>\n",
       "    </tr>\n",
       "    <tr>\n",
       "      <th>CYSTL</th>\n",
       "      <td>0.032474</td>\n",
       "      <td>0.029270</td>\n",
       "      <td>0.026065</td>\n",
       "      <td>0.022860</td>\n",
       "      <td>0.019655</td>\n",
       "      <td>0.016450</td>\n",
       "      <td>0.038517</td>\n",
       "      <td>0.118576</td>\n",
       "      <td>0.213697</td>\n",
       "      <td>0.233265</td>\n",
       "      <td>1.860785</td>\n",
       "      <td>0.200791</td>\n",
       "      <td>0.229657</td>\n",
       "    </tr>\n",
       "    <tr>\n",
       "      <th>MTHFR2</th>\n",
       "      <td>0.032474</td>\n",
       "      <td>0.029270</td>\n",
       "      <td>0.026065</td>\n",
       "      <td>0.022860</td>\n",
       "      <td>0.019655</td>\n",
       "      <td>0.016450</td>\n",
       "      <td>0.038517</td>\n",
       "      <td>0.118576</td>\n",
       "      <td>0.213697</td>\n",
       "      <td>0.233265</td>\n",
       "      <td>1.860785</td>\n",
       "      <td>0.200791</td>\n",
       "      <td>0.229657</td>\n",
       "    </tr>\n",
       "    <tr>\n",
       "      <th>RNDR3</th>\n",
       "      <td>0.003553</td>\n",
       "      <td>0.003202</td>\n",
       "      <td>0.002850</td>\n",
       "      <td>0.002498</td>\n",
       "      <td>0.002146</td>\n",
       "      <td>0.049031</td>\n",
       "      <td>0.075280</td>\n",
       "      <td>0.072496</td>\n",
       "      <td>0.115257</td>\n",
       "      <td>0.158019</td>\n",
       "      <td>1.977515</td>\n",
       "      <td>0.154466</td>\n",
       "      <td>0.157624</td>\n",
       "    </tr>\n",
       "    <tr>\n",
       "      <th>CTPS2</th>\n",
       "      <td>0.018824</td>\n",
       "      <td>0.016960</td>\n",
       "      <td>0.015096</td>\n",
       "      <td>0.013231</td>\n",
       "      <td>0.011367</td>\n",
       "      <td>0.056740</td>\n",
       "      <td>0.081476</td>\n",
       "      <td>0.077180</td>\n",
       "      <td>0.118430</td>\n",
       "      <td>0.159679</td>\n",
       "      <td>1.882113</td>\n",
       "      <td>0.140855</td>\n",
       "      <td>0.157587</td>\n",
       "    </tr>\n",
       "    <tr>\n",
       "      <th>CYTK1</th>\n",
       "      <td>0.012642</td>\n",
       "      <td>0.011390</td>\n",
       "      <td>0.010138</td>\n",
       "      <td>0.008886</td>\n",
       "      <td>0.007634</td>\n",
       "      <td>0.049031</td>\n",
       "      <td>0.075280</td>\n",
       "      <td>0.072496</td>\n",
       "      <td>0.115257</td>\n",
       "      <td>0.158019</td>\n",
       "      <td>1.919997</td>\n",
       "      <td>0.145377</td>\n",
       "      <td>0.156614</td>\n",
       "    </tr>\n",
       "    <tr>\n",
       "      <th>EX_psi_e</th>\n",
       "      <td>0.000005</td>\n",
       "      <td>0.000010</td>\n",
       "      <td>0.000015</td>\n",
       "      <td>0.000021</td>\n",
       "      <td>0.000026</td>\n",
       "      <td>0.000031</td>\n",
       "      <td>0.000036</td>\n",
       "      <td>0.000041</td>\n",
       "      <td>0.000046</td>\n",
       "      <td>0.000051</td>\n",
       "      <td>1.900000</td>\n",
       "      <td>0.000046</td>\n",
       "      <td>0.000051</td>\n",
       "    </tr>\n",
       "    <tr>\n",
       "      <th>CrTdc</th>\n",
       "      <td>0.000005</td>\n",
       "      <td>0.000010</td>\n",
       "      <td>0.000015</td>\n",
       "      <td>0.000021</td>\n",
       "      <td>0.000026</td>\n",
       "      <td>0.000031</td>\n",
       "      <td>0.000036</td>\n",
       "      <td>0.000041</td>\n",
       "      <td>0.000046</td>\n",
       "      <td>0.000051</td>\n",
       "      <td>1.901961</td>\n",
       "      <td>0.000046</td>\n",
       "      <td>0.000050</td>\n",
       "    </tr>\n",
       "    <tr>\n",
       "      <th>psiH</th>\n",
       "      <td>0.000005</td>\n",
       "      <td>0.000010</td>\n",
       "      <td>0.000015</td>\n",
       "      <td>0.000021</td>\n",
       "      <td>0.000026</td>\n",
       "      <td>0.000031</td>\n",
       "      <td>0.000036</td>\n",
       "      <td>0.000041</td>\n",
       "      <td>0.000046</td>\n",
       "      <td>0.000051</td>\n",
       "      <td>1.901961</td>\n",
       "      <td>0.000046</td>\n",
       "      <td>0.000050</td>\n",
       "    </tr>\n",
       "    <tr>\n",
       "      <th>psiK</th>\n",
       "      <td>0.000005</td>\n",
       "      <td>0.000010</td>\n",
       "      <td>0.000015</td>\n",
       "      <td>0.000021</td>\n",
       "      <td>0.000026</td>\n",
       "      <td>0.000031</td>\n",
       "      <td>0.000036</td>\n",
       "      <td>0.000041</td>\n",
       "      <td>0.000046</td>\n",
       "      <td>0.000051</td>\n",
       "      <td>1.901961</td>\n",
       "      <td>0.000046</td>\n",
       "      <td>0.000050</td>\n",
       "    </tr>\n",
       "    <tr>\n",
       "      <th>psiM</th>\n",
       "      <td>0.000005</td>\n",
       "      <td>0.000010</td>\n",
       "      <td>0.000015</td>\n",
       "      <td>0.000021</td>\n",
       "      <td>0.000026</td>\n",
       "      <td>0.000031</td>\n",
       "      <td>0.000036</td>\n",
       "      <td>0.000041</td>\n",
       "      <td>0.000046</td>\n",
       "      <td>0.000051</td>\n",
       "      <td>1.901961</td>\n",
       "      <td>0.000046</td>\n",
       "      <td>0.000050</td>\n",
       "    </tr>\n",
       "    <tr>\n",
       "      <th>psiM2</th>\n",
       "      <td>0.000005</td>\n",
       "      <td>0.000010</td>\n",
       "      <td>0.000015</td>\n",
       "      <td>0.000021</td>\n",
       "      <td>0.000026</td>\n",
       "      <td>0.000031</td>\n",
       "      <td>0.000036</td>\n",
       "      <td>0.000041</td>\n",
       "      <td>0.000046</td>\n",
       "      <td>0.000051</td>\n",
       "      <td>1.901961</td>\n",
       "      <td>0.000046</td>\n",
       "      <td>0.000050</td>\n",
       "    </tr>\n",
       "    <tr>\n",
       "      <th>psitpp</th>\n",
       "      <td>0.000005</td>\n",
       "      <td>0.000010</td>\n",
       "      <td>0.000015</td>\n",
       "      <td>0.000021</td>\n",
       "      <td>0.000026</td>\n",
       "      <td>0.000031</td>\n",
       "      <td>0.000036</td>\n",
       "      <td>0.000041</td>\n",
       "      <td>0.000046</td>\n",
       "      <td>0.000051</td>\n",
       "      <td>1.901961</td>\n",
       "      <td>0.000046</td>\n",
       "      <td>0.000050</td>\n",
       "    </tr>\n",
       "    <tr>\n",
       "      <th>CYTK2</th>\n",
       "      <td>-0.003553</td>\n",
       "      <td>-0.003202</td>\n",
       "      <td>-0.002850</td>\n",
       "      <td>-0.002498</td>\n",
       "      <td>-0.002146</td>\n",
       "      <td>-0.049031</td>\n",
       "      <td>-0.075280</td>\n",
       "      <td>-0.072496</td>\n",
       "      <td>-0.115257</td>\n",
       "      <td>-0.158019</td>\n",
       "      <td>1.977515</td>\n",
       "      <td>0.154466</td>\n",
       "      <td>-0.157624</td>\n",
       "    </tr>\n",
       "    <tr>\n",
       "      <th>PGAMT</th>\n",
       "      <td>-0.055886</td>\n",
       "      <td>-0.050351</td>\n",
       "      <td>-0.044817</td>\n",
       "      <td>-0.129636</td>\n",
       "      <td>-0.212733</td>\n",
       "      <td>-0.264536</td>\n",
       "      <td>-0.328765</td>\n",
       "      <td>-0.390605</td>\n",
       "      <td>-0.393212</td>\n",
       "      <td>-0.395818</td>\n",
       "      <td>1.858809</td>\n",
       "      <td>0.339932</td>\n",
       "      <td>-0.389608</td>\n",
       "    </tr>\n",
       "  </tbody>\n",
       "</table>\n",
       "</div>"
      ],
      "text/plain": [
       "                 1         2         3         4         5         6  \\\n",
       "ADK1      0.507984  0.457693  0.619008  1.225021  1.894529  2.542815   \n",
       "GLNS      0.542396  0.549777  0.661622  1.296267  1.896527  2.468337   \n",
       "NDPK1     0.119356  0.107558  0.095760  0.639886  1.311271  1.945104   \n",
       "GK1       0.024155  0.021763  0.019371  0.572902  1.253693  1.896932   \n",
       "GMPS2     0.024155  0.021763  0.019371  0.572902  1.253693  1.896932   \n",
       "SERAT     0.051600  0.046501  0.041403  0.052069  0.174579  0.303542   \n",
       "G1PACT    0.055886  0.050351  0.044817  0.129636  0.212733  0.264536   \n",
       "METS      0.032474  0.029270  0.026065  0.022860  0.019655  0.016450   \n",
       "ACHMSC    0.032474  0.029270  0.026065  0.022860  0.019655  0.016450   \n",
       "HSST      0.032474  0.029270  0.026065  0.022860  0.019655  0.016450   \n",
       "CYSTL     0.032474  0.029270  0.026065  0.022860  0.019655  0.016450   \n",
       "MTHFR2    0.032474  0.029270  0.026065  0.022860  0.019655  0.016450   \n",
       "RNDR3     0.003553  0.003202  0.002850  0.002498  0.002146  0.049031   \n",
       "CTPS2     0.018824  0.016960  0.015096  0.013231  0.011367  0.056740   \n",
       "CYTK1     0.012642  0.011390  0.010138  0.008886  0.007634  0.049031   \n",
       "EX_psi_e  0.000005  0.000010  0.000015  0.000021  0.000026  0.000031   \n",
       "CrTdc     0.000005  0.000010  0.000015  0.000021  0.000026  0.000031   \n",
       "psiH      0.000005  0.000010  0.000015  0.000021  0.000026  0.000031   \n",
       "psiK      0.000005  0.000010  0.000015  0.000021  0.000026  0.000031   \n",
       "psiM      0.000005  0.000010  0.000015  0.000021  0.000026  0.000031   \n",
       "psiM2     0.000005  0.000010  0.000015  0.000021  0.000026  0.000031   \n",
       "psitpp    0.000005  0.000010  0.000015  0.000021  0.000026  0.000031   \n",
       "CYTK2    -0.003553 -0.003202 -0.002850 -0.002498 -0.002146 -0.049031   \n",
       "PGAMT    -0.055886 -0.050351 -0.044817 -0.129636 -0.212733 -0.264536   \n",
       "\n",
       "                 7         8         9        10      RCiF       Dif     Slope  \n",
       "ADK1      3.142029  3.724429  4.341546  5.023355  1.898876  4.515371  4.966912  \n",
       "GLNS      3.038444  3.575999  4.088021  4.677327  1.884037  4.134931  4.617061  \n",
       "NDPK1     2.554341  3.162489  3.746480  4.332203  1.972449  4.212847  4.318941  \n",
       "GK1       2.490303  3.024593  3.519664  4.092019  1.994097  4.067864  4.089335  \n",
       "GMPS2     2.490303  3.024593  3.519664  4.092019  1.994097  4.067864  4.089335  \n",
       "SERAT     0.392396  0.407604  0.387905  0.405983  1.872901  0.354383  0.400250  \n",
       "G1PACT    0.328765  0.390605  0.393212  0.395818  1.858809  0.339932  0.389608  \n",
       "METS      0.038517  0.118576  0.213697  0.233265  1.860785  0.200791  0.229657  \n",
       "ACHMSC    0.038517  0.118576  0.213697  0.233265  1.860785  0.200791  0.229657  \n",
       "HSST      0.038517  0.118576  0.213697  0.233265  1.860785  0.200791  0.229657  \n",
       "CYSTL     0.038517  0.118576  0.213697  0.233265  1.860785  0.200791  0.229657  \n",
       "MTHFR2    0.038517  0.118576  0.213697  0.233265  1.860785  0.200791  0.229657  \n",
       "RNDR3     0.075280  0.072496  0.115257  0.158019  1.977515  0.154466  0.157624  \n",
       "CTPS2     0.081476  0.077180  0.118430  0.159679  1.882113  0.140855  0.157587  \n",
       "CYTK1     0.075280  0.072496  0.115257  0.158019  1.919997  0.145377  0.156614  \n",
       "EX_psi_e  0.000036  0.000041  0.000046  0.000051  1.900000  0.000046  0.000051  \n",
       "CrTdc     0.000036  0.000041  0.000046  0.000051  1.901961  0.000046  0.000050  \n",
       "psiH      0.000036  0.000041  0.000046  0.000051  1.901961  0.000046  0.000050  \n",
       "psiK      0.000036  0.000041  0.000046  0.000051  1.901961  0.000046  0.000050  \n",
       "psiM      0.000036  0.000041  0.000046  0.000051  1.901961  0.000046  0.000050  \n",
       "psiM2     0.000036  0.000041  0.000046  0.000051  1.901961  0.000046  0.000050  \n",
       "psitpp    0.000036  0.000041  0.000046  0.000051  1.901961  0.000046  0.000050  \n",
       "CYTK2    -0.075280 -0.072496 -0.115257 -0.158019  1.977515  0.154466 -0.157624  \n",
       "PGAMT    -0.328765 -0.390605 -0.393212 -0.395818  1.858809  0.339932 -0.389608  "
      ]
     },
     "execution_count": 8,
     "metadata": {},
     "output_type": "execute_result"
    }
   ],
   "source": [
    "target_reactions = frdf.loc[(frdf['RCiF'] < 2.0) & (frdf['RCiF'] > 1.85)] #Selecting Reactions with a change between 85.00 % and 99.99 %\n",
    "target_reactions.sort_values(by=['Slope'], ascending= False)"
   ]
  },
  {
   "cell_type": "code",
   "execution_count": 14,
   "id": "547514df-6db4-4a1b-95e7-58be54c6fda8",
   "metadata": {},
   "outputs": [],
   "source": [
    "tr1 = target_reactions.drop(labels='RCiF', axis=1) #Removing RCiF column\n",
    "tr2 = tr1.drop(labels='Dif', axis=1) #Removing Dif column\n",
    "tr3 = tr2.drop(labels='Slope', axis=1) #Removing Slope Column"
   ]
  },
  {
   "cell_type": "code",
   "execution_count": 15,
   "id": "1130f393-c333-408c-aaa0-178795433d3d",
   "metadata": {},
   "outputs": [
    {
     "data": {
      "text/plain": [
       "Text(0.5, 1.02, 'Reactions with a Relative Change in Flux > 85.0 %')"
      ]
     },
     "execution_count": 15,
     "metadata": {},
     "output_type": "execute_result"
    },
    {
     "data": {
      "image/png": "[encoded data removed]",
      "text/plain": [
       "<Figure size 576x576 with 1 Axes>"
      ]
     },
     "metadata": {
      "needs_background": "light"
     },
     "output_type": "display_data"
    }
   ],
   "source": [
    "#Plotting depured data frame\n",
    "fig2 = tr3.T.plot(cmap=\"viridis\",figsize=(8, 8), grid =True, linewidth=3);\n",
    "fig2.legend(loc='center right', bbox_to_anchor=(1.25, 0.5), ncol=1)\n",
    "fig2.set_xlabel(\"Psilocybin Flux\")\n",
    "fig2.set_ylabel(r\"Flux $\\left[\\dfrac{mmol}{gDW\\cdot h}\\right]$\")\n",
    "fig2.set_title('Reactions with a Relative Change in Flux > 85.0 %', size=20, y= 1.02)"
   ]
  },
  {
   "cell_type": "code",
   "execution_count": 35,
   "id": "ceaf12c4-c9fc-4724-b776-6b197d014888",
   "metadata": {},
   "outputs": [
    {
     "name": "stdout",
     "output_type": "stream",
     "text": [
      "ACHMSC    ACHMSC    achms_c + cys_L_c --> ac_c + cyst_L_c + h_c\n",
      "G1PACT    glucosamine-1-phosphate N-acetyltransferase    accoa_c + gam1p_c --> acgam1p_c + coa_c + h_c\n",
      "PGAMT    phosphoglucosamine mutase    gam1p_c <-- gam6p_c\n",
      "SERAT    serine O-acetyltransferase    accoa_c + ser_L_c --> acser_c + coa_c\n",
      "MTHFR2     5,10_Methylenetetrahydrofolate reductase (NADH)    2.0 h_c + mlthf_c + nadh_c --> 5mthf_c + nad_c\n",
      "GLNS    glutamine synthetase    atp_c + glu_L_c + nh4_c --> adp_c + gln_L_c + h_c + pi_c\n",
      "CYSTL    cystathionine b_Lyase    cyst_L_c + h2o_c --> hcys_L_c + nh4_c + pyr_c\n",
      "HSST    homoserine O-acetyltransferase    accoa_c + hom_L_c --> achms_c + coa_c\n",
      "METS    methionine synthase    5mthf_c + hcys_L_c --> h_c + met_L_c + thf_c\n",
      "ADK1    adenylate kinase    amp_c + atp_c <=> 2.0 adp_c\n",
      "CYTK1    cytidylate kinase (CMP)    atp_c + cmp_c <=> adp_c + cdp_c\n",
      "CYTK2    cytidylate kinase (dCMP)    atp_c + dcmp_c <=> adp_c + dcdp_c\n",
      "GK1    guanylate kinase (GMP:ATP)    atp_c + gmp_c <=> adp_c + gdp_c\n",
      "NDPK1    nucleoside_Diphosphate kinase (ATP:GDP)    atp_c + gdp_c <=> adp_c + gtp_c\n",
      "RNDR3    ribonucleoside_Diphosphate reductase (CDP)    cdp_c + trdrd_c --> dcdp_c + h2o_c + trdox_c\n",
      "CTPS2    CTP synthase (glutamine)    atp_c + gln_L_c + h2o_c + utp_c --> adp_c + ctp_c + glu_L_c + 2.0 h_c + pi_c\n",
      "GMPS2    GMP synthase    atp_c + gln_L_c + h2o_c + xmp_c --> amp_c + glu_L_c + gmp_c + 2.0 h_c + ppi_c\n",
      "CrTdc        trp_L_c --> co2_c + tryp_c\n",
      "psiH        2.0 nadph_c + o2_c + tryp_c --> _4htryp_c + h2o_c + 2.0 nadp_c\n",
      "psiK        _4htryp_c + atp_c --> adp_c + nbc_c\n",
      "psiM        amet_c + nbc_c --> ahcys_c + baecyst_c\n",
      "psiM2        amet_c + baecyst_c --> ahcys_c + psi_c\n",
      "psitpp        psi_c --> psi_e\n",
      "EX_psi_e    Psilocybin_e exchange    psi_e --> \n"
     ]
    }
   ],
   "source": [
    "Reactions = tr3.index.values.tolist()\n",
    "for rx in Reactions:\n",
    "    ID = model.reactions.get_by_id(rx)\n",
    "    print(ID.id,\"  \",ID.name, \"  \",ID.reaction)"
   ]
  },
  {
   "cell_type": "code",
   "execution_count": null,
   "id": "5068d42b-98b7-4757-99b6-2fe86d4f2f58",
   "metadata": {},
   "outputs": [],
   "source": []
  },
  {
   "cell_type": "code",
   "execution_count": 17,
   "id": "316c627a-def0-4aea-b9ed-a07f1362b084",
   "metadata": {},
   "outputs": [
    {
     "name": "stdout",
     "output_type": "stream",
     "text": [
      "Normal Growth Conditions\n",
      "Maximal Growth Rate:\n",
      "0.428929662134894\n",
      "Maximal Psilocybin Production Rate\n",
      "5.69299883708285e-05\n"
     ]
    }
   ],
   "source": [
    "with model:    \n",
    "    print(\"Normal Growth Conditions\")\n",
    "    print(\"Maximal Growth Rate:\")\n",
    "    print(model.slim_optimize())\n",
    "    model.objective = model.reactions.EX_psi_e\n",
    "    print(\"Maximal Psilocybin Production Rate\")\n",
    "    print(model.slim_optimize())"
   ]
  },
  {
   "cell_type": "code",
   "execution_count": 18,
   "id": "303bb7be-96bf-4d5d-bb19-673f70568703",
   "metadata": {},
   "outputs": [
    {
     "name": "stdout",
     "output_type": "stream",
     "text": [
      "Without guanylate kinase (GMP:ATP)\n",
      "Maximal Growth Rate:\n",
      "0.0\n",
      "Maximal Psilocybin production rate\n",
      "5.69299883708285e-05\n"
     ]
    }
   ],
   "source": [
    "with model:\n",
    "    model.reactions.GK1.knock_out()\n",
    "    print(\"Without\", model.reactions.GK1.name)\n",
    "    print(\"Maximal Growth Rate:\")\n",
    "    print(model.slim_optimize())\n",
    "    model.objective = model.reactions.EX_psi_e\n",
    "    print(\"Maximal Psilocybin production rate\")\n",
    "    print(model.slim_optimize())"
   ]
  },
  {
   "cell_type": "code",
   "execution_count": 19,
   "id": "64a30022-c455-45d5-82d3-1c390ac2cdfc",
   "metadata": {},
   "outputs": [
    {
     "name": "stdout",
     "output_type": "stream",
     "text": [
      "Without GMP synthase\n",
      "Maximal Growth Rate:\n",
      "0.0\n",
      "Maximal Psilocybin production rate\n",
      "5.69299883708285e-05\n"
     ]
    }
   ],
   "source": [
    "with model:\n",
    "    model.reactions.GMPS2.knock_out()\n",
    "    print(\"Without\", model.reactions.GMPS2.name)\n",
    "    print(\"Maximal Growth Rate:\")\n",
    "    print(model.slim_optimize())\n",
    "    model.objective = model.reactions.EX_psi_e\n",
    "    print(\"Maximal Psilocybin production rate\")\n",
    "    print(model.slim_optimize())"
   ]
  },
  {
   "cell_type": "code",
   "execution_count": 20,
   "id": "fdf6ae2f-1ac4-48d4-8d85-624ccbb75837",
   "metadata": {},
   "outputs": [
    {
     "name": "stdout",
     "output_type": "stream",
     "text": [
      "Without ribonucleoside_Diphosphate reductase (CDP)\n",
      "Maximal Growth Rate:\n",
      "0.0\n",
      "Maximal Psilocybin production rate\n",
      "5.69299883708285e-05\n"
     ]
    }
   ],
   "source": [
    "with model:\n",
    "    model.reactions.RNDR3.knock_out()\n",
    "    print(\"Without\", model.reactions.RNDR3.name)\n",
    "    print(\"Maximal Growth Rate:\")\n",
    "    print(model.slim_optimize())\n",
    "    model.objective = model.reactions.EX_psi_e\n",
    "    print(\"Maximal Psilocybin production rate\")\n",
    "    print(model.slim_optimize())"
   ]
  },
  {
   "cell_type": "code",
   "execution_count": 21,
   "id": "5490961b-884d-40f3-86cf-fc26987cd652",
   "metadata": {},
   "outputs": [
    {
     "name": "stdout",
     "output_type": "stream",
     "text": [
      "Without cytidylate kinase (dCMP)\n",
      "Maximal Growth Rate:\n",
      "0.428929662134894\n",
      "Maximal Psilocybin production rate\n",
      "5.69299883708285e-05\n"
     ]
    }
   ],
   "source": [
    "with model:\n",
    "    model.reactions.CYTK2.knock_out()\n",
    "    print(\"Without\", model.reactions.CYTK2.name)\n",
    "    print(\"Maximal Growth Rate:\")\n",
    "    print(model.slim_optimize())\n",
    "    model.objective = model.reactions.EX_psi_e\n",
    "    print(\"Maximal Psilocybin production rate\")\n",
    "    print(model.slim_optimize())"
   ]
  },
  {
   "cell_type": "code",
   "execution_count": 22,
   "id": "6e39c85a-ae8a-4a9a-8605-da666a2324e1",
   "metadata": {},
   "outputs": [
    {
     "name": "stdout",
     "output_type": "stream",
     "text": [
      "Without nucleoside_Diphosphate kinase (ATP:GDP)\n",
      "Maximal Growth Rate:\n",
      "0.428929662134894\n",
      "Maximal Psilocybin production rate\n",
      "5.69299883708285e-05\n"
     ]
    }
   ],
   "source": [
    "with model:\n",
    "    model.reactions.NDPK1.knock_out()\n",
    "    print(\"Without\", model.reactions.NDPK1.name)\n",
    "    print(\"Maximal Growth Rate:\")\n",
    "    print(model.slim_optimize())\n",
    "    model.objective = model.reactions.EX_psi_e\n",
    "    print(\"Maximal Psilocybin production rate\")\n",
    "    print(model.slim_optimize())"
   ]
  },
  {
   "cell_type": "code",
   "execution_count": 23,
   "id": "7a0cdd85-9b79-45a1-9f61-ba081415f9ec",
   "metadata": {},
   "outputs": [
    {
     "name": "stdout",
     "output_type": "stream",
     "text": [
      "Without cytidylate kinase (CMP)\n",
      "Maximal Growth Rate:\n",
      "0.42812276640241825\n",
      "Maximal Psilocybin production rate\n",
      "5.69299883708285e-05\n"
     ]
    }
   ],
   "source": [
    "with model:\n",
    "    model.reactions.CYTK1.knock_out()\n",
    "    print(\"Without\", model.reactions.CYTK1.name)\n",
    "    print(\"Maximal Growth Rate:\")\n",
    "    print(model.slim_optimize())\n",
    "    model.objective = model.reactions.EX_psi_e\n",
    "    print(\"Maximal Psilocybin production rate\")\n",
    "    print(model.slim_optimize())"
   ]
  },
  {
   "cell_type": "code",
   "execution_count": 24,
   "id": "715a46bf-ec97-4cb2-8c88-ea07dbf09189",
   "metadata": {},
   "outputs": [
    {
     "name": "stdout",
     "output_type": "stream",
     "text": [
      "Without adenylate kinase\n",
      "Maximal Growth Rate:\n",
      "0.428929662134894\n",
      "Maximal Psilocybin production rate\n",
      "5.69299883708285e-05\n"
     ]
    }
   ],
   "source": [
    "with model:\n",
    "    model.reactions.ADK1.knock_out()\n",
    "    print(\"Without\", model.reactions.ADK1.name)\n",
    "    print(\"Maximal Growth Rate:\")\n",
    "    print(model.slim_optimize())\n",
    "    model.objective = model.reactions.EX_psi_e\n",
    "    print(\"Maximal Psilocybin production rate\")\n",
    "    print(model.slim_optimize())"
   ]
  },
  {
   "cell_type": "code",
   "execution_count": 25,
   "id": "922522ba-7b2c-41ad-b75f-ee5bea491dd5",
   "metadata": {},
   "outputs": [
    {
     "name": "stdout",
     "output_type": "stream",
     "text": [
      "Without glutamine synthetase\n",
      "Maximal Growth Rate:\n",
      "0.0\n",
      "Maximal Psilocybin production rate\n",
      "0.0\n"
     ]
    }
   ],
   "source": [
    "with model:\n",
    "    model.reactions.GLNS.knock_out()\n",
    "    print(\"Without\", model.reactions.GLNS.name)\n",
    "    print(\"Maximal Growth Rate:\")\n",
    "    print(model.slim_optimize())\n",
    "    model.objective = model.reactions.EX_psi_e\n",
    "    print(\"Maximal Psilocybin production rate\")\n",
    "    print(model.slim_optimize())"
   ]
  },
  {
   "cell_type": "code",
   "execution_count": 26,
   "id": "bde1f1b7-bc85-4193-af01-9c982294cda1",
   "metadata": {},
   "outputs": [
    {
     "name": "stdout",
     "output_type": "stream",
     "text": [
      "Without CTP synthase (glutamine)\n",
      "Maximal Growth Rate:\n",
      "0.0\n",
      "Maximal Psilocybin production rate\n",
      "5.69299883708285e-05\n"
     ]
    }
   ],
   "source": [
    "with model:\n",
    "    model.reactions.CTPS2.knock_out()\n",
    "    print(\"Without\", model.reactions.CTPS2.name)\n",
    "    print(\"Maximal Growth Rate:\")\n",
    "    print(model.slim_optimize())\n",
    "    model.objective = model.reactions.EX_psi_e\n",
    "    print(\"Maximal Psilocybin production rate\")\n",
    "    print(model.slim_optimize())"
   ]
  },
  {
   "cell_type": "code",
   "execution_count": 27,
   "id": "7e5ffb14-20ff-40a9-a5aa-4282afdb2c01",
   "metadata": {},
   "outputs": [
    {
     "name": "stdout",
     "output_type": "stream",
     "text": [
      "Without serine O-acetyltransferase\n",
      "Maximal Growth Rate:\n",
      "0.0\n",
      "Maximal Psilocybin production rate\n",
      "0.0\n"
     ]
    }
   ],
   "source": [
    "with model:\n",
    "    model.reactions.SERAT.knock_out()\n",
    "    print(\"Without\", model.reactions.SERAT.name)\n",
    "    print(\"Maximal Growth Rate:\")\n",
    "    print(model.slim_optimize())\n",
    "    model.objective = model.reactions.EX_psi_e\n",
    "    print(\"Maximal Psilocybin production rate\")\n",
    "    print(model.slim_optimize())"
   ]
  },
  {
   "cell_type": "code",
   "execution_count": 28,
   "id": "7e0b2ae6-32df-465b-8d26-eae14486bf03",
   "metadata": {},
   "outputs": [
    {
     "name": "stdout",
     "output_type": "stream",
     "text": [
      "Without methionine synthase\n",
      "Maximal Growth Rate:\n",
      "0.0\n",
      "Maximal Psilocybin production rate\n",
      "0.0\n"
     ]
    }
   ],
   "source": [
    "with model:\n",
    "    model.reactions.METS.knock_out()\n",
    "    print(\"Without\", model.reactions.METS.name)\n",
    "    print(\"Maximal Growth Rate:\")\n",
    "    print(model.slim_optimize())\n",
    "    model.objective = model.reactions.EX_psi_e\n",
    "    print(\"Maximal Psilocybin production rate\")\n",
    "    print(model.slim_optimize())"
   ]
  },
  {
   "cell_type": "code",
   "execution_count": 29,
   "id": "c41537fb-3655-45a5-85fa-a2de8b47e208",
   "metadata": {},
   "outputs": [
    {
     "name": "stdout",
     "output_type": "stream",
     "text": [
      "Without homoserine O-acetyltransferase\n",
      "Maximal Growth Rate:\n",
      "0.428929662134894\n",
      "Maximal Psilocybin production rate\n",
      "5.69299883708285e-05\n"
     ]
    }
   ],
   "source": [
    "with model:\n",
    "    model.reactions.HSST.knock_out()\n",
    "    print(\"Without\", model.reactions.HSST.name)\n",
    "    print(\"Maximal Growth Rate:\")\n",
    "    print(model.slim_optimize())\n",
    "    model.objective = model.reactions.EX_psi_e\n",
    "    print(\"Maximal Psilocybin production rate\")\n",
    "    print(model.slim_optimize())"
   ]
  },
  {
   "cell_type": "code",
   "execution_count": 30,
   "id": "02e54617-2fc2-410e-999e-6a3ed60a1036",
   "metadata": {},
   "outputs": [
    {
     "name": "stdout",
     "output_type": "stream",
     "text": [
      "Without cystathionine b_Lyase\n",
      "Maximal Growth Rate:\n",
      "0.0\n",
      "Maximal Psilocybin production rate\n",
      "0.0\n"
     ]
    }
   ],
   "source": [
    "with model:\n",
    "    model.reactions.CYSTL.knock_out()\n",
    "    print(\"Without\", model.reactions.CYSTL.name)\n",
    "    print(\"Maximal Growth Rate:\")\n",
    "    print(model.slim_optimize())\n",
    "    model.objective = model.reactions.EX_psi_e\n",
    "    print(\"Maximal Psilocybin production rate\")\n",
    "    print(model.slim_optimize())"
   ]
  },
  {
   "cell_type": "code",
   "execution_count": 31,
   "id": "60813dee-d620-4e0f-a994-305c17089868",
   "metadata": {},
   "outputs": [
    {
     "name": "stdout",
     "output_type": "stream",
     "text": [
      "Without  5,10_Methylenetetrahydrofolate reductase (NADH)\n",
      "Maximal Growth Rate:\n",
      "0.0\n",
      "Maximal Psilocybin production rate\n",
      "0.0\n"
     ]
    }
   ],
   "source": [
    "with model:\n",
    "    model.reactions.MTHFR2.knock_out()\n",
    "    print(\"Without\", model.reactions.MTHFR2.name)\n",
    "    print(\"Maximal Growth Rate:\")\n",
    "    print(model.slim_optimize())\n",
    "    model.objective = model.reactions.EX_psi_e\n",
    "    print(\"Maximal Psilocybin production rate\")\n",
    "    print(model.slim_optimize())"
   ]
  },
  {
   "cell_type": "code",
   "execution_count": 32,
   "id": "39873bb6-6d26-4210-b63f-042a765e77d0",
   "metadata": {},
   "outputs": [
    {
     "name": "stdout",
     "output_type": "stream",
     "text": [
      "Without ACHMSC\n",
      "Maximal Growth Rate:\n",
      "0.428929662134894\n",
      "Maximal Psilocybin production rate\n",
      "5.69299883708285e-05\n"
     ]
    }
   ],
   "source": [
    "with model:\n",
    "    model.reactions.ACHMSC.knock_out()\n",
    "    print(\"Without\", model.reactions.ACHMSC.name)\n",
    "    print(\"Maximal Growth Rate:\")\n",
    "    print(model.slim_optimize())\n",
    "    model.objective = model.reactions.EX_psi_e\n",
    "    print(\"Maximal Psilocybin production rate\")\n",
    "    print(model.slim_optimize())"
   ]
  },
  {
   "cell_type": "code",
   "execution_count": 33,
   "id": "cf693ba6-ede6-4740-893c-ac4657e906b2",
   "metadata": {},
   "outputs": [
    {
     "name": "stdout",
     "output_type": "stream",
     "text": [
      "Without glucosamine-1-phosphate N-acetyltransferase\n",
      "Maximal Growth Rate:\n",
      "0.0\n",
      "Maximal Psilocybin production rate\n",
      "5.69299883708285e-05\n"
     ]
    }
   ],
   "source": [
    "with model:\n",
    "    model.reactions.G1PACT.knock_out()\n",
    "    print(\"Without\", model.reactions.G1PACT.name)\n",
    "    print(\"Maximal Growth Rate:\")\n",
    "    print(model.slim_optimize())\n",
    "    model.objective = model.reactions.EX_psi_e\n",
    "    print(\"Maximal Psilocybin production rate\")\n",
    "    print(model.slim_optimize())"
   ]
  },
  {
   "cell_type": "code",
   "execution_count": 34,
   "id": "0ad72b1d-fc1e-4761-971a-c604e97eaa4c",
   "metadata": {},
   "outputs": [
    {
     "name": "stdout",
     "output_type": "stream",
     "text": [
      "Without phosphoglucosamine mutase\n",
      "Maximal Growth Rate:\n",
      "0.0\n",
      "Maximal Psilocybin production rate\n",
      "5.69299883708285e-05\n"
     ]
    }
   ],
   "source": [
    "with model:\n",
    "    model.reactions.PGAMT.knock_out()\n",
    "    print(\"Without\", model.reactions.PGAMT.name)\n",
    "    print(\"Maximal Growth Rate:\")\n",
    "    print(model.slim_optimize())\n",
    "    model.objective = model.reactions.EX_psi_e\n",
    "    print(\"Maximal Psilocybin production rate\")\n",
    "    print(model.slim_optimize())"
   ]
  }
 ],
 "metadata": {
  "kernelspec": {
   "display_name": "Python 3",
   "language": "python",
   "name": "python3"
  },
  "language_info": {
   "codemirror_mode": {
    "name": "ipython",
    "version": 3
   },
   "file_extension": ".py",
   "mimetype": "text/x-python",
   "name": "python",
   "nbconvert_exporter": "python",
   "pygments_lexer": "ipython3",
   "version": "3.6.13"
  }
 },
 "nbformat": 4,
 "nbformat_minor": 5
}
