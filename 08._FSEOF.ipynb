{
 "cells": [
  {
   "cell_type": "code",
   "execution_count": 1,
   "id": "c95ea1a7-1387-4ccc-85c3-bd589806f528",
   "metadata": {},
   "outputs": [],
   "source": [
    "from matplotlib import pyplot as plt\n",
    "import pandas as pd\n",
    "from cobra.io import read_sbml_model\n",
    "from cobra import Reaction, Metabolite\n",
    "from cameo.strain_design.deterministic.flux_variability_based import FSEOF"
   ]
  },
  {
   "cell_type": "code",
   "execution_count": 2,
   "id": "cb314cf4-f823-42d5-a499-297f59724a95",
   "metadata": {},
   "outputs": [
    {
     "name": "stderr",
     "output_type": "stream",
     "text": [
      "No objective coefficients in model. Unclear what should be optimized\n"
     ]
    }
   ],
   "source": [
    "model = read_sbml_model('iCW773_psilocybin.xml') #Loading the model"
   ]
  },
  {
   "cell_type": "code",
   "execution_count": 3,
   "id": "2032cdaa-a3c9-4c83-8ac0-7ee62f920afc",
   "metadata": {},
   "outputs": [
    {
     "data": {
      "text/plain": [
       "0.428929662134894"
      ]
     },
     "execution_count": 3,
     "metadata": {},
     "output_type": "execute_result"
    }
   ],
   "source": [
    "#Defining Optimization Target\n",
    "model.objective = model.reactions.CG_biomass_cgl_ATCC13032\n",
    "model.optimize().objective_value"
   ]
  },
  {
   "cell_type": "code",
   "execution_count": 4,
   "id": "674de51a-b656-4351-b622-7c0a1a921125",
   "metadata": {},
   "outputs": [],
   "source": [
    "#Flux Scanning Enforced Objective Flux Algorithm\n",
    "fseof = FSEOF(model)\n",
    "f_result = fseof.run(target=model.reactions.EX_psi_e) #Defining Flux of Interest (x axis)\n",
    "frdf = f_result.data_frame"
   ]
  },
  {
   "cell_type": "code",
   "execution_count": 5,
   "id": "10955790-2871-48ff-92fb-d1779cc5c5c5",
   "metadata": {},
   "outputs": [
    {
     "data": {
      "text/plain": [
       "Text(0, 0.5, 'Flux $\\\\left[\\\\dfrac{mmol}{gDW\\\\cdot h}\\\\right]$')"
      ]
     },
     "execution_count": 5,
     "metadata": {},
     "output_type": "execute_result"
    },
    {
     "data": {
      "image/png": "[encoded data removed]",
      "text/plain": [
       "<Figure size 432x288 with 1 Axes>"
      ]
     },
     "metadata": {
      "needs_background": "light"
     },
     "output_type": "display_data"
    }
   ],
   "source": [
    "#Plotting FSEOF Results\n",
    "frdf.T.plot(legend= None) #Legend too big to show\n",
    "plt.xlabel(\"Psilocybin Flux\")\n",
    "plt.ylabel(r\"Flux $\\left[\\dfrac{mmol}{gDW\\cdot h}\\right]$\")"
   ]
  },
  {
   "cell_type": "code",
   "execution_count": 6,
   "id": "74ee3a6d-8485-426d-b163-5f522e2f09d6",
   "metadata": {},
   "outputs": [],
   "source": [
    "frdf['RCiF'] = (frdf[10]-frdf[1])/frdf[10] +1 #Adding \"Relative Change in Flux\" Column\n",
    "frdf['Slope'] = frdf[10]-frdf[1]/9 #Slope of the flux"
   ]
  },
  {
   "cell_type": "code",
   "execution_count": 7,
   "id": "c3217e8a-effb-4593-9ab4-f616becedc00",
   "metadata": {},
   "outputs": [
    {
     "data": {
      "text/html": [
       "<div>\n",
       "<style scoped>\n",
       "    .dataframe tbody tr th:only-of-type {\n",
       "        vertical-align: middle;\n",
       "    }\n",
       "\n",
       "    .dataframe tbody tr th {\n",
       "        vertical-align: top;\n",
       "    }\n",
       "\n",
       "    .dataframe thead th {\n",
       "        text-align: right;\n",
       "    }\n",
       "</style>\n",
       "<table border=\"1\" class=\"dataframe\">\n",
       "  <thead>\n",
       "    <tr style=\"text-align: right;\">\n",
       "      <th></th>\n",
       "      <th>1</th>\n",
       "      <th>2</th>\n",
       "      <th>3</th>\n",
       "      <th>4</th>\n",
       "      <th>5</th>\n",
       "      <th>6</th>\n",
       "      <th>7</th>\n",
       "      <th>8</th>\n",
       "      <th>9</th>\n",
       "      <th>10</th>\n",
       "      <th>RCiF</th>\n",
       "      <th>Slope</th>\n",
       "    </tr>\n",
       "  </thead>\n",
       "  <tbody>\n",
       "    <tr>\n",
       "      <th>CYTBDpp</th>\n",
       "      <td>6.344483</td>\n",
       "      <td>14.796893</td>\n",
       "      <td>19.765623</td>\n",
       "      <td>20.237697</td>\n",
       "      <td>20.407349</td>\n",
       "      <td>20.593325</td>\n",
       "      <td>20.668518</td>\n",
       "      <td>20.540138</td>\n",
       "      <td>20.617364</td>\n",
       "      <td>21.108557</td>\n",
       "      <td>1.699435</td>\n",
       "      <td>20.403614</td>\n",
       "    </tr>\n",
       "    <tr>\n",
       "      <th>NADH16pp</th>\n",
       "      <td>15.668103</td>\n",
       "      <td>15.618126</td>\n",
       "      <td>15.757287</td>\n",
       "      <td>15.515916</td>\n",
       "      <td>15.243191</td>\n",
       "      <td>15.025550</td>\n",
       "      <td>14.929919</td>\n",
       "      <td>14.915222</td>\n",
       "      <td>14.986117</td>\n",
       "      <td>15.069604</td>\n",
       "      <td>0.960284</td>\n",
       "      <td>13.328704</td>\n",
       "    </tr>\n",
       "    <tr>\n",
       "      <th>CO2tpp</th>\n",
       "      <td>9.939745</td>\n",
       "      <td>10.287943</td>\n",
       "      <td>10.390913</td>\n",
       "      <td>10.546077</td>\n",
       "      <td>10.749321</td>\n",
       "      <td>10.887729</td>\n",
       "      <td>10.944334</td>\n",
       "      <td>11.045224</td>\n",
       "      <td>11.244422</td>\n",
       "      <td>11.440472</td>\n",
       "      <td>1.131177</td>\n",
       "      <td>10.336056</td>\n",
       "    </tr>\n",
       "    <tr>\n",
       "      <th>O2tpp</th>\n",
       "      <td>8.866996</td>\n",
       "      <td>9.348759</td>\n",
       "      <td>9.896750</td>\n",
       "      <td>10.142506</td>\n",
       "      <td>10.237050</td>\n",
       "      <td>10.336652</td>\n",
       "      <td>10.380561</td>\n",
       "      <td>10.320427</td>\n",
       "      <td>10.361341</td>\n",
       "      <td>10.617109</td>\n",
       "      <td>1.164839</td>\n",
       "      <td>9.631887</td>\n",
       "    </tr>\n",
       "    <tr>\n",
       "      <th>PPA</th>\n",
       "      <td>0.000000</td>\n",
       "      <td>0.000000</td>\n",
       "      <td>0.784898</td>\n",
       "      <td>2.066134</td>\n",
       "      <td>3.378643</td>\n",
       "      <td>4.675027</td>\n",
       "      <td>5.857324</td>\n",
       "      <td>6.934692</td>\n",
       "      <td>8.053104</td>\n",
       "      <td>9.313492</td>\n",
       "      <td>2.000000</td>\n",
       "      <td>9.313492</td>\n",
       "    </tr>\n",
       "    <tr>\n",
       "      <th>...</th>\n",
       "      <td>...</td>\n",
       "      <td>...</td>\n",
       "      <td>...</td>\n",
       "      <td>...</td>\n",
       "      <td>...</td>\n",
       "      <td>...</td>\n",
       "      <td>...</td>\n",
       "      <td>...</td>\n",
       "      <td>...</td>\n",
       "      <td>...</td>\n",
       "      <td>...</td>\n",
       "      <td>...</td>\n",
       "    </tr>\n",
       "    <tr>\n",
       "      <th>HSDy</th>\n",
       "      <td>-0.230063</td>\n",
       "      <td>-0.207290</td>\n",
       "      <td>-0.184517</td>\n",
       "      <td>-0.161744</td>\n",
       "      <td>-0.138971</td>\n",
       "      <td>-0.116198</td>\n",
       "      <td>-0.118696</td>\n",
       "      <td>-0.179187</td>\n",
       "      <td>-0.254740</td>\n",
       "      <td>-0.254740</td>\n",
       "      <td>1.096871</td>\n",
       "      <td>-0.229177</td>\n",
       "    </tr>\n",
       "    <tr>\n",
       "      <th>METt2rpp</th>\n",
       "      <td>0.000000</td>\n",
       "      <td>0.000000</td>\n",
       "      <td>0.000000</td>\n",
       "      <td>0.000000</td>\n",
       "      <td>0.000000</td>\n",
       "      <td>0.000000</td>\n",
       "      <td>-0.025271</td>\n",
       "      <td>-0.108535</td>\n",
       "      <td>-0.206861</td>\n",
       "      <td>-0.229634</td>\n",
       "      <td>2.000000</td>\n",
       "      <td>-0.229634</td>\n",
       "    </tr>\n",
       "    <tr>\n",
       "      <th>PGAMT</th>\n",
       "      <td>-0.055886</td>\n",
       "      <td>-0.050351</td>\n",
       "      <td>-0.044817</td>\n",
       "      <td>-0.129636</td>\n",
       "      <td>-0.212733</td>\n",
       "      <td>-0.264536</td>\n",
       "      <td>-0.328765</td>\n",
       "      <td>-0.390605</td>\n",
       "      <td>-0.393212</td>\n",
       "      <td>-0.395818</td>\n",
       "      <td>1.858809</td>\n",
       "      <td>-0.389608</td>\n",
       "    </tr>\n",
       "    <tr>\n",
       "      <th>ACGAM1Ptex</th>\n",
       "      <td>0.000000</td>\n",
       "      <td>0.000000</td>\n",
       "      <td>0.000000</td>\n",
       "      <td>-0.090354</td>\n",
       "      <td>-0.178986</td>\n",
       "      <td>-0.236323</td>\n",
       "      <td>-0.306087</td>\n",
       "      <td>-0.373462</td>\n",
       "      <td>-0.381603</td>\n",
       "      <td>-0.389744</td>\n",
       "      <td>2.000000</td>\n",
       "      <td>-0.389744</td>\n",
       "    </tr>\n",
       "    <tr>\n",
       "      <th>ACt2rpp</th>\n",
       "      <td>-0.496116</td>\n",
       "      <td>-0.902625</td>\n",
       "      <td>-1.229463</td>\n",
       "      <td>-1.448228</td>\n",
       "      <td>-1.524478</td>\n",
       "      <td>-1.605377</td>\n",
       "      <td>-1.737732</td>\n",
       "      <td>-2.039240</td>\n",
       "      <td>-2.413310</td>\n",
       "      <td>-2.560720</td>\n",
       "      <td>1.806259</td>\n",
       "      <td>-2.505596</td>\n",
       "    </tr>\n",
       "  </tbody>\n",
       "</table>\n",
       "<p>148 rows × 12 columns</p>\n",
       "</div>"
      ],
      "text/plain": [
       "                    1          2          3          4          5          6  \\\n",
       "CYTBDpp      6.344483  14.796893  19.765623  20.237697  20.407349  20.593325   \n",
       "NADH16pp    15.668103  15.618126  15.757287  15.515916  15.243191  15.025550   \n",
       "CO2tpp       9.939745  10.287943  10.390913  10.546077  10.749321  10.887729   \n",
       "O2tpp        8.866996   9.348759   9.896750  10.142506  10.237050  10.336652   \n",
       "PPA          0.000000   0.000000   0.784898   2.066134   3.378643   4.675027   \n",
       "...               ...        ...        ...        ...        ...        ...   \n",
       "HSDy        -0.230063  -0.207290  -0.184517  -0.161744  -0.138971  -0.116198   \n",
       "METt2rpp     0.000000   0.000000   0.000000   0.000000   0.000000   0.000000   \n",
       "PGAMT       -0.055886  -0.050351  -0.044817  -0.129636  -0.212733  -0.264536   \n",
       "ACGAM1Ptex   0.000000   0.000000   0.000000  -0.090354  -0.178986  -0.236323   \n",
       "ACt2rpp     -0.496116  -0.902625  -1.229463  -1.448228  -1.524478  -1.605377   \n",
       "\n",
       "                    7          8          9         10      RCiF      Slope  \n",
       "CYTBDpp     20.668518  20.540138  20.617364  21.108557  1.699435  20.403614  \n",
       "NADH16pp    14.929919  14.915222  14.986117  15.069604  0.960284  13.328704  \n",
       "CO2tpp      10.944334  11.045224  11.244422  11.440472  1.131177  10.336056  \n",
       "O2tpp       10.380561  10.320427  10.361341  10.617109  1.164839   9.631887  \n",
       "PPA          5.857324   6.934692   8.053104   9.313492  2.000000   9.313492  \n",
       "...               ...        ...        ...        ...       ...        ...  \n",
       "HSDy        -0.118696  -0.179187  -0.254740  -0.254740  1.096871  -0.229177  \n",
       "METt2rpp    -0.025271  -0.108535  -0.206861  -0.229634  2.000000  -0.229634  \n",
       "PGAMT       -0.328765  -0.390605  -0.393212  -0.395818  1.858809  -0.389608  \n",
       "ACGAM1Ptex  -0.306087  -0.373462  -0.381603  -0.389744  2.000000  -0.389744  \n",
       "ACt2rpp     -1.737732  -2.039240  -2.413310  -2.560720  1.806259  -2.505596  \n",
       "\n",
       "[148 rows x 12 columns]"
      ]
     },
     "execution_count": 7,
     "metadata": {},
     "output_type": "execute_result"
    }
   ],
   "source": [
    "frdf.sort_values(by=['Slope'], ascending= False)"
   ]
  },
  {
   "cell_type": "code",
   "execution_count": 8,
   "id": "7bcd22dc-ddb4-4ce5-a8b1-67243bf099bd",
   "metadata": {},
   "outputs": [
    {
     "data": {
      "text/html": [
       "<div>\n",
       "<style scoped>\n",
       "    .dataframe tbody tr th:only-of-type {\n",
       "        vertical-align: middle;\n",
       "    }\n",
       "\n",
       "    .dataframe tbody tr th {\n",
       "        vertical-align: top;\n",
       "    }\n",
       "\n",
       "    .dataframe thead th {\n",
       "        text-align: right;\n",
       "    }\n",
       "</style>\n",
       "<table border=\"1\" class=\"dataframe\">\n",
       "  <thead>\n",
       "    <tr style=\"text-align: right;\">\n",
       "      <th></th>\n",
       "      <th>1</th>\n",
       "      <th>2</th>\n",
       "      <th>3</th>\n",
       "      <th>4</th>\n",
       "      <th>5</th>\n",
       "      <th>6</th>\n",
       "      <th>7</th>\n",
       "      <th>8</th>\n",
       "      <th>9</th>\n",
       "      <th>10</th>\n",
       "      <th>RCiF</th>\n",
       "      <th>Slope</th>\n",
       "    </tr>\n",
       "  </thead>\n",
       "  <tbody>\n",
       "    <tr>\n",
       "      <th>PPA</th>\n",
       "      <td>0.000000</td>\n",
       "      <td>0.000000</td>\n",
       "      <td>0.784898</td>\n",
       "      <td>2.066134</td>\n",
       "      <td>3.378643</td>\n",
       "      <td>4.675027</td>\n",
       "      <td>5.857324</td>\n",
       "      <td>6.934692</td>\n",
       "      <td>8.053104</td>\n",
       "      <td>9.313492</td>\n",
       "      <td>2.000000</td>\n",
       "      <td>9.313492</td>\n",
       "    </tr>\n",
       "    <tr>\n",
       "      <th>ADK1</th>\n",
       "      <td>0.507984</td>\n",
       "      <td>0.457693</td>\n",
       "      <td>0.619008</td>\n",
       "      <td>1.225021</td>\n",
       "      <td>1.894529</td>\n",
       "      <td>2.542815</td>\n",
       "      <td>3.142029</td>\n",
       "      <td>3.724429</td>\n",
       "      <td>4.341546</td>\n",
       "      <td>5.023355</td>\n",
       "      <td>1.898876</td>\n",
       "      <td>4.966912</td>\n",
       "    </tr>\n",
       "    <tr>\n",
       "      <th>GLNS</th>\n",
       "      <td>0.542396</td>\n",
       "      <td>0.549777</td>\n",
       "      <td>0.661622</td>\n",
       "      <td>1.296267</td>\n",
       "      <td>1.896527</td>\n",
       "      <td>2.468337</td>\n",
       "      <td>3.038444</td>\n",
       "      <td>3.575999</td>\n",
       "      <td>4.088021</td>\n",
       "      <td>4.677327</td>\n",
       "      <td>1.884037</td>\n",
       "      <td>4.617061</td>\n",
       "    </tr>\n",
       "    <tr>\n",
       "      <th>NDPK1</th>\n",
       "      <td>0.119356</td>\n",
       "      <td>0.107558</td>\n",
       "      <td>0.095760</td>\n",
       "      <td>0.639886</td>\n",
       "      <td>1.311271</td>\n",
       "      <td>1.945104</td>\n",
       "      <td>2.554341</td>\n",
       "      <td>3.162489</td>\n",
       "      <td>3.746480</td>\n",
       "      <td>4.332203</td>\n",
       "      <td>1.972449</td>\n",
       "      <td>4.318941</td>\n",
       "    </tr>\n",
       "    <tr>\n",
       "      <th>NTPP11</th>\n",
       "      <td>0.000000</td>\n",
       "      <td>0.000000</td>\n",
       "      <td>0.000000</td>\n",
       "      <td>0.555924</td>\n",
       "      <td>1.239107</td>\n",
       "      <td>1.884738</td>\n",
       "      <td>2.480501</td>\n",
       "      <td>3.017184</td>\n",
       "      <td>3.514646</td>\n",
       "      <td>4.089393</td>\n",
       "      <td>2.000000</td>\n",
       "      <td>4.089393</td>\n",
       "    </tr>\n",
       "    <tr>\n",
       "      <th>GTPHs</th>\n",
       "      <td>0.000000</td>\n",
       "      <td>0.000000</td>\n",
       "      <td>0.000000</td>\n",
       "      <td>0.555924</td>\n",
       "      <td>1.239107</td>\n",
       "      <td>1.884738</td>\n",
       "      <td>2.480501</td>\n",
       "      <td>3.017184</td>\n",
       "      <td>3.514646</td>\n",
       "      <td>4.089393</td>\n",
       "      <td>2.000000</td>\n",
       "      <td>4.089393</td>\n",
       "    </tr>\n",
       "    <tr>\n",
       "      <th>GMPS2</th>\n",
       "      <td>0.024155</td>\n",
       "      <td>0.021763</td>\n",
       "      <td>0.019371</td>\n",
       "      <td>0.572902</td>\n",
       "      <td>1.253693</td>\n",
       "      <td>1.896932</td>\n",
       "      <td>2.490303</td>\n",
       "      <td>3.024593</td>\n",
       "      <td>3.519664</td>\n",
       "      <td>4.092019</td>\n",
       "      <td>1.994097</td>\n",
       "      <td>4.089335</td>\n",
       "    </tr>\n",
       "    <tr>\n",
       "      <th>GK1</th>\n",
       "      <td>0.024155</td>\n",
       "      <td>0.021763</td>\n",
       "      <td>0.019371</td>\n",
       "      <td>0.572902</td>\n",
       "      <td>1.253693</td>\n",
       "      <td>1.896932</td>\n",
       "      <td>2.490303</td>\n",
       "      <td>3.024593</td>\n",
       "      <td>3.519664</td>\n",
       "      <td>4.092019</td>\n",
       "      <td>1.994097</td>\n",
       "      <td>4.089335</td>\n",
       "    </tr>\n",
       "    <tr>\n",
       "      <th>NADPHQR2</th>\n",
       "      <td>0.000000</td>\n",
       "      <td>0.542770</td>\n",
       "      <td>1.138408</td>\n",
       "      <td>1.618912</td>\n",
       "      <td>1.970865</td>\n",
       "      <td>2.214198</td>\n",
       "      <td>2.247847</td>\n",
       "      <td>1.959130</td>\n",
       "      <td>1.661149</td>\n",
       "      <td>1.829078</td>\n",
       "      <td>2.000000</td>\n",
       "      <td>1.829078</td>\n",
       "    </tr>\n",
       "    <tr>\n",
       "      <th>GLUTRS</th>\n",
       "      <td>0.000000</td>\n",
       "      <td>0.000000</td>\n",
       "      <td>0.079672</td>\n",
       "      <td>0.161297</td>\n",
       "      <td>0.242922</td>\n",
       "      <td>0.299706</td>\n",
       "      <td>0.354079</td>\n",
       "      <td>0.390408</td>\n",
       "      <td>0.412690</td>\n",
       "      <td>0.497933</td>\n",
       "      <td>2.000000</td>\n",
       "      <td>0.497933</td>\n",
       "    </tr>\n",
       "    <tr>\n",
       "      <th>G1SAT</th>\n",
       "      <td>0.000000</td>\n",
       "      <td>0.000000</td>\n",
       "      <td>0.079672</td>\n",
       "      <td>0.161297</td>\n",
       "      <td>0.242922</td>\n",
       "      <td>0.299706</td>\n",
       "      <td>0.354079</td>\n",
       "      <td>0.390408</td>\n",
       "      <td>0.412690</td>\n",
       "      <td>0.497933</td>\n",
       "      <td>2.000000</td>\n",
       "      <td>0.497933</td>\n",
       "    </tr>\n",
       "    <tr>\n",
       "      <th>GLUTRR</th>\n",
       "      <td>0.000000</td>\n",
       "      <td>0.000000</td>\n",
       "      <td>0.079672</td>\n",
       "      <td>0.161297</td>\n",
       "      <td>0.242922</td>\n",
       "      <td>0.299706</td>\n",
       "      <td>0.354079</td>\n",
       "      <td>0.390408</td>\n",
       "      <td>0.412690</td>\n",
       "      <td>0.497933</td>\n",
       "      <td>2.000000</td>\n",
       "      <td>0.497933</td>\n",
       "    </tr>\n",
       "    <tr>\n",
       "      <th>SERAT</th>\n",
       "      <td>0.051600</td>\n",
       "      <td>0.046501</td>\n",
       "      <td>0.041403</td>\n",
       "      <td>0.052069</td>\n",
       "      <td>0.174579</td>\n",
       "      <td>0.303542</td>\n",
       "      <td>0.392396</td>\n",
       "      <td>0.407604</td>\n",
       "      <td>0.387905</td>\n",
       "      <td>0.405983</td>\n",
       "      <td>1.872901</td>\n",
       "      <td>0.400250</td>\n",
       "    </tr>\n",
       "    <tr>\n",
       "      <th>G1PACT</th>\n",
       "      <td>0.055886</td>\n",
       "      <td>0.050351</td>\n",
       "      <td>0.044817</td>\n",
       "      <td>0.129636</td>\n",
       "      <td>0.212733</td>\n",
       "      <td>0.264536</td>\n",
       "      <td>0.328765</td>\n",
       "      <td>0.390605</td>\n",
       "      <td>0.393212</td>\n",
       "      <td>0.395818</td>\n",
       "      <td>1.858809</td>\n",
       "      <td>0.389608</td>\n",
       "    </tr>\n",
       "    <tr>\n",
       "      <th>PPBNGS</th>\n",
       "      <td>0.000000</td>\n",
       "      <td>0.000000</td>\n",
       "      <td>0.039836</td>\n",
       "      <td>0.080649</td>\n",
       "      <td>0.121461</td>\n",
       "      <td>0.149853</td>\n",
       "      <td>0.177039</td>\n",
       "      <td>0.195204</td>\n",
       "      <td>0.206345</td>\n",
       "      <td>0.248967</td>\n",
       "      <td>2.000000</td>\n",
       "      <td>0.248967</td>\n",
       "    </tr>\n",
       "    <tr>\n",
       "      <th>ACHMSC</th>\n",
       "      <td>0.032474</td>\n",
       "      <td>0.029270</td>\n",
       "      <td>0.026065</td>\n",
       "      <td>0.022860</td>\n",
       "      <td>0.019655</td>\n",
       "      <td>0.016450</td>\n",
       "      <td>0.038517</td>\n",
       "      <td>0.118576</td>\n",
       "      <td>0.213697</td>\n",
       "      <td>0.233265</td>\n",
       "      <td>1.860785</td>\n",
       "      <td>0.229657</td>\n",
       "    </tr>\n",
       "    <tr>\n",
       "      <th>METS</th>\n",
       "      <td>0.032474</td>\n",
       "      <td>0.029270</td>\n",
       "      <td>0.026065</td>\n",
       "      <td>0.022860</td>\n",
       "      <td>0.019655</td>\n",
       "      <td>0.016450</td>\n",
       "      <td>0.038517</td>\n",
       "      <td>0.118576</td>\n",
       "      <td>0.213697</td>\n",
       "      <td>0.233265</td>\n",
       "      <td>1.860785</td>\n",
       "      <td>0.229657</td>\n",
       "    </tr>\n",
       "    <tr>\n",
       "      <th>CYSTL</th>\n",
       "      <td>0.032474</td>\n",
       "      <td>0.029270</td>\n",
       "      <td>0.026065</td>\n",
       "      <td>0.022860</td>\n",
       "      <td>0.019655</td>\n",
       "      <td>0.016450</td>\n",
       "      <td>0.038517</td>\n",
       "      <td>0.118576</td>\n",
       "      <td>0.213697</td>\n",
       "      <td>0.233265</td>\n",
       "      <td>1.860785</td>\n",
       "      <td>0.229657</td>\n",
       "    </tr>\n",
       "    <tr>\n",
       "      <th>MTHFR2</th>\n",
       "      <td>0.032474</td>\n",
       "      <td>0.029270</td>\n",
       "      <td>0.026065</td>\n",
       "      <td>0.022860</td>\n",
       "      <td>0.019655</td>\n",
       "      <td>0.016450</td>\n",
       "      <td>0.038517</td>\n",
       "      <td>0.118576</td>\n",
       "      <td>0.213697</td>\n",
       "      <td>0.233265</td>\n",
       "      <td>1.860785</td>\n",
       "      <td>0.229657</td>\n",
       "    </tr>\n",
       "    <tr>\n",
       "      <th>HSST</th>\n",
       "      <td>0.032474</td>\n",
       "      <td>0.029270</td>\n",
       "      <td>0.026065</td>\n",
       "      <td>0.022860</td>\n",
       "      <td>0.019655</td>\n",
       "      <td>0.016450</td>\n",
       "      <td>0.038517</td>\n",
       "      <td>0.118576</td>\n",
       "      <td>0.213697</td>\n",
       "      <td>0.233265</td>\n",
       "      <td>1.860785</td>\n",
       "      <td>0.229657</td>\n",
       "    </tr>\n",
       "  </tbody>\n",
       "</table>\n",
       "</div>"
      ],
      "text/plain": [
       "                 1         2         3         4         5         6  \\\n",
       "PPA       0.000000  0.000000  0.784898  2.066134  3.378643  4.675027   \n",
       "ADK1      0.507984  0.457693  0.619008  1.225021  1.894529  2.542815   \n",
       "GLNS      0.542396  0.549777  0.661622  1.296267  1.896527  2.468337   \n",
       "NDPK1     0.119356  0.107558  0.095760  0.639886  1.311271  1.945104   \n",
       "NTPP11    0.000000  0.000000  0.000000  0.555924  1.239107  1.884738   \n",
       "GTPHs     0.000000  0.000000  0.000000  0.555924  1.239107  1.884738   \n",
       "GMPS2     0.024155  0.021763  0.019371  0.572902  1.253693  1.896932   \n",
       "GK1       0.024155  0.021763  0.019371  0.572902  1.253693  1.896932   \n",
       "NADPHQR2  0.000000  0.542770  1.138408  1.618912  1.970865  2.214198   \n",
       "GLUTRS    0.000000  0.000000  0.079672  0.161297  0.242922  0.299706   \n",
       "G1SAT     0.000000  0.000000  0.079672  0.161297  0.242922  0.299706   \n",
       "GLUTRR    0.000000  0.000000  0.079672  0.161297  0.242922  0.299706   \n",
       "SERAT     0.051600  0.046501  0.041403  0.052069  0.174579  0.303542   \n",
       "G1PACT    0.055886  0.050351  0.044817  0.129636  0.212733  0.264536   \n",
       "PPBNGS    0.000000  0.000000  0.039836  0.080649  0.121461  0.149853   \n",
       "ACHMSC    0.032474  0.029270  0.026065  0.022860  0.019655  0.016450   \n",
       "METS      0.032474  0.029270  0.026065  0.022860  0.019655  0.016450   \n",
       "CYSTL     0.032474  0.029270  0.026065  0.022860  0.019655  0.016450   \n",
       "MTHFR2    0.032474  0.029270  0.026065  0.022860  0.019655  0.016450   \n",
       "HSST      0.032474  0.029270  0.026065  0.022860  0.019655  0.016450   \n",
       "\n",
       "                 7         8         9        10      RCiF     Slope  \n",
       "PPA       5.857324  6.934692  8.053104  9.313492  2.000000  9.313492  \n",
       "ADK1      3.142029  3.724429  4.341546  5.023355  1.898876  4.966912  \n",
       "GLNS      3.038444  3.575999  4.088021  4.677327  1.884037  4.617061  \n",
       "NDPK1     2.554341  3.162489  3.746480  4.332203  1.972449  4.318941  \n",
       "NTPP11    2.480501  3.017184  3.514646  4.089393  2.000000  4.089393  \n",
       "GTPHs     2.480501  3.017184  3.514646  4.089393  2.000000  4.089393  \n",
       "GMPS2     2.490303  3.024593  3.519664  4.092019  1.994097  4.089335  \n",
       "GK1       2.490303  3.024593  3.519664  4.092019  1.994097  4.089335  \n",
       "NADPHQR2  2.247847  1.959130  1.661149  1.829078  2.000000  1.829078  \n",
       "GLUTRS    0.354079  0.390408  0.412690  0.497933  2.000000  0.497933  \n",
       "G1SAT     0.354079  0.390408  0.412690  0.497933  2.000000  0.497933  \n",
       "GLUTRR    0.354079  0.390408  0.412690  0.497933  2.000000  0.497933  \n",
       "SERAT     0.392396  0.407604  0.387905  0.405983  1.872901  0.400250  \n",
       "G1PACT    0.328765  0.390605  0.393212  0.395818  1.858809  0.389608  \n",
       "PPBNGS    0.177039  0.195204  0.206345  0.248967  2.000000  0.248967  \n",
       "ACHMSC    0.038517  0.118576  0.213697  0.233265  1.860785  0.229657  \n",
       "METS      0.038517  0.118576  0.213697  0.233265  1.860785  0.229657  \n",
       "CYSTL     0.038517  0.118576  0.213697  0.233265  1.860785  0.229657  \n",
       "MTHFR2    0.038517  0.118576  0.213697  0.233265  1.860785  0.229657  \n",
       "HSST      0.038517  0.118576  0.213697  0.233265  1.860785  0.229657  "
      ]
     },
     "execution_count": 8,
     "metadata": {},
     "output_type": "execute_result"
    }
   ],
   "source": [
    "target_reactions = frdf.loc[(frdf['Slope'] > 0.2) & (frdf['RCiF'] > 1.85)] #Selecting Reactions with a change above 85.00 % and a positive slope\n",
    "target_reactions.sort_values(by=['Slope'], ascending= False)"
   ]
  },
  {
   "cell_type": "code",
   "execution_count": 9,
   "id": "547514df-6db4-4a1b-95e7-58be54c6fda8",
   "metadata": {},
   "outputs": [],
   "source": [
    "tr1 = target_reactions.drop(labels='RCiF', axis=1) #Removing RCiF column\n",
    "tr2 = tr1.drop(labels='Slope', axis=1) #Removing Slope column"
   ]
  },
  {
   "cell_type": "code",
   "execution_count": 10,
   "id": "1130f393-c333-408c-aaa0-178795433d3d",
   "metadata": {},
   "outputs": [
    {
     "data": {
      "text/plain": [
       "Text(0.5, 1.02, 'Reactions with a Relative Change in Flux > 85.0 %')"
      ]
     },
     "execution_count": 10,
     "metadata": {},
     "output_type": "execute_result"
    },
    {
     "data": {
      "image/png": "[encoded data removed]",
      "text/plain": [
       "<Figure size 576x576 with 1 Axes>"
      ]
     },
     "metadata": {
      "needs_background": "light"
     },
     "output_type": "display_data"
    }
   ],
   "source": [
    "#Plotting depured data frame\n",
    "fig2 = tr2.T.plot(cmap=\"viridis\",figsize=(8, 8), grid =True, linewidth=3);\n",
    "fig2.legend(loc='center right', bbox_to_anchor=(1.25, 0.5), ncol=1)\n",
    "fig2.set_xlabel(\"Psilocybin Flux\")\n",
    "fig2.set_ylabel(r\"Flux $\\left[\\dfrac{mmol}{gDW\\cdot h}\\right]$\")\n",
    "fig2.set_title('Reactions with a Relative Change in Flux > 85.0 %', size=20, y= 1.02)"
   ]
  },
  {
   "cell_type": "code",
   "execution_count": 11,
   "id": "ceaf12c4-c9fc-4724-b776-6b197d014888",
   "metadata": {},
   "outputs": [
    {
     "name": "stdout",
     "output_type": "stream",
     "text": [
      "ACHMSC    ACHMSC    achms_c + cys_L_c --> ac_c + cyst_L_c + h_c\n",
      "PPA    inorganic diphosphatase    h2o_c + ppi_c --> h_c + 2.0 pi_c\n",
      "G1PACT    glucosamine-1-phosphate N-acetyltransferase    accoa_c + gam1p_c --> acgam1p_c + coa_c + h_c\n",
      "G1SAT    glutamate-1_Semialdehyde aminotransferase    glu1sa_c --> 5aop_c\n",
      "GLUTRR    glutamyL_tRNA reductase    glutrna_c + h_c + nadph_c --> glu1sa_c + nadp_c + trnaglu_c\n",
      "PPBNGS    porphobilinogen synthase    2.0 5aop_c --> 2.0 h2o_c + h_c + ppbng_c\n",
      "SERAT    serine O-acetyltransferase    accoa_c + ser_L_c --> acser_c + coa_c\n",
      "MTHFR2     5,10_Methylenetetrahydrofolate reductase (NADH)    2.0 h_c + mlthf_c + nadh_c --> 5mthf_c + nad_c\n",
      "GLNS    glutamine synthetase    atp_c + glu_L_c + nh4_c --> adp_c + gln_L_c + h_c + pi_c\n",
      "CYSTL    cystathionine b_Lyase    cyst_L_c + h2o_c --> hcys_L_c + nh4_c + pyr_c\n",
      "HSST    homoserine O-acetyltransferase    accoa_c + hom_L_c --> achms_c + coa_c\n",
      "METS    methionine synthase    5mthf_c + hcys_L_c --> h_c + met_L_c + thf_c\n",
      "ADK1    adenylate kinase    amp_c + atp_c <=> 2.0 adp_c\n",
      "GK1    guanylate kinase (GMP:ATP)    atp_c + gmp_c <=> adp_c + gdp_c\n",
      "GTPHs    GTP amine hydrolysis (spontaneous)    gtp_c + h2o_c + h_c --> nh4_c + xtp_c\n",
      "NDPK1    nucleoside_Diphosphate kinase (ATP:GDP)    atp_c + gdp_c <=> adp_c + gtp_c\n",
      "NTPP11    Nucleoside triphosphate pyrophosphorylase (xtp)    h2o_c + xtp_c --> h_c + ppi_c + xmp_c\n",
      "NADPHQR2    NADPH Quinone Reductase (Ubiquinone-8)    h_c + nadph_c + q8_c --> nadp_c + q8h2_c\n",
      "GMPS2    GMP synthase    atp_c + gln_L_c + h2o_c + xmp_c --> amp_c + glu_L_c + gmp_c + 2.0 h_c + ppi_c\n",
      "GLUTRS    glutamyL_tRNA synthetase    atp_c + glu_L_c + trnaglu_c --> amp_c + glutrna_c + ppi_c\n"
     ]
    }
   ],
   "source": [
    "Reactions = tr2.index.values.tolist()\n",
    "for rx in Reactions:\n",
    "    ID = model.reactions.get_by_id(rx)\n",
    "    print(ID.id,\"  \",ID.name, \"  \",ID.reaction)"
   ]
  },
  {
   "cell_type": "code",
   "execution_count": 12,
   "id": "316c627a-def0-4aea-b9ed-a07f1362b084",
   "metadata": {},
   "outputs": [
    {
     "name": "stdout",
     "output_type": "stream",
     "text": [
      "Normal Growth Conditions\n",
      "Maximal Growth Rate:\n",
      "0.428929662134894\n",
      "Maximal Psilocybin Production Rate\n",
      "5.69299883708285e-05\n"
     ]
    }
   ],
   "source": [
    "with model:    \n",
    "    print(\"Normal Growth Conditions\")\n",
    "    print(\"Maximal Growth Rate:\")\n",
    "    print(model.slim_optimize())\n",
    "    model.objective = model.reactions.EX_psi_e\n",
    "    print(\"Maximal Psilocybin Production Rate\")\n",
    "    print(model.slim_optimize())"
   ]
  },
  {
   "cell_type": "code",
   "execution_count": 13,
   "id": "303bb7be-96bf-4d5d-bb19-673f70568703",
   "metadata": {},
   "outputs": [
    {
     "name": "stdout",
     "output_type": "stream",
     "text": [
      "Without ACHMSC\n",
      "Maximal Growth Rate:\n",
      "0.428929662134894\n",
      "Maximal Psilocybin production rate\n",
      "5.69299883708285e-05\n"
     ]
    }
   ],
   "source": [
    "with model:\n",
    "    model.reactions.ACHMSC.knock_out()\n",
    "    print(\"Without\", model.reactions.ACHMSC.name)\n",
    "    print(\"Maximal Growth Rate:\")\n",
    "    print(model.slim_optimize())\n",
    "    model.objective = model.reactions.EX_psi_e\n",
    "    print(\"Maximal Psilocybin production rate\")\n",
    "    print(model.slim_optimize())"
   ]
  },
  {
   "cell_type": "code",
   "execution_count": 14,
   "id": "64a30022-c455-45d5-82d3-1c390ac2cdfc",
   "metadata": {},
   "outputs": [
    {
     "name": "stdout",
     "output_type": "stream",
     "text": [
      "Without inorganic diphosphatase\n",
      "Maximal Growth Rate:\n",
      "0.428929662134894\n",
      "Maximal Psilocybin production rate\n",
      "5.69299883708285e-05\n"
     ]
    }
   ],
   "source": [
    "with model:\n",
    "    model.reactions.PPA.knock_out()\n",
    "    print(\"Without\", model.reactions.PPA.name)\n",
    "    print(\"Maximal Growth Rate:\")\n",
    "    print(model.slim_optimize())\n",
    "    model.objective = model.reactions.EX_psi_e\n",
    "    print(\"Maximal Psilocybin production rate\")\n",
    "    print(model.slim_optimize())"
   ]
  },
  {
   "cell_type": "code",
   "execution_count": 15,
   "id": "fdf6ae2f-1ac4-48d4-8d85-624ccbb75837",
   "metadata": {},
   "outputs": [
    {
     "name": "stdout",
     "output_type": "stream",
     "text": [
      "Without glucosamine-1-phosphate N-acetyltransferase\n",
      "Maximal Growth Rate:\n",
      "0.0\n",
      "Maximal Psilocybin production rate\n",
      "5.69299883708285e-05\n"
     ]
    }
   ],
   "source": [
    "with model:\n",
    "    model.reactions.G1PACT.knock_out()\n",
    "    print(\"Without\", model.reactions.G1PACT.name)\n",
    "    print(\"Maximal Growth Rate:\")\n",
    "    print(model.slim_optimize())\n",
    "    model.objective = model.reactions.EX_psi_e\n",
    "    print(\"Maximal Psilocybin production rate\")\n",
    "    print(model.slim_optimize())"
   ]
  },
  {
   "cell_type": "code",
   "execution_count": 16,
   "id": "5490961b-884d-40f3-86cf-fc26987cd652",
   "metadata": {},
   "outputs": [
    {
     "name": "stdout",
     "output_type": "stream",
     "text": [
      "Without glutamate-1_Semialdehyde aminotransferase\n",
      "Maximal Growth Rate:\n",
      "0.428929662134894\n",
      "Maximal Psilocybin production rate\n",
      "5.69299883708285e-05\n"
     ]
    }
   ],
   "source": [
    "with model:\n",
    "    model.reactions.G1SAT.knock_out()\n",
    "    print(\"Without\", model.reactions.G1SAT.name)\n",
    "    print(\"Maximal Growth Rate:\")\n",
    "    print(model.slim_optimize())\n",
    "    model.objective = model.reactions.EX_psi_e\n",
    "    print(\"Maximal Psilocybin production rate\")\n",
    "    print(model.slim_optimize())"
   ]
  },
  {
   "cell_type": "code",
   "execution_count": 17,
   "id": "6e39c85a-ae8a-4a9a-8605-da666a2324e1",
   "metadata": {},
   "outputs": [
    {
     "name": "stdout",
     "output_type": "stream",
     "text": [
      "Without glutamyL_tRNA reductase\n",
      "Maximal Growth Rate:\n",
      "0.428929662134894\n",
      "Maximal Psilocybin production rate\n",
      "5.69299883708285e-05\n"
     ]
    }
   ],
   "source": [
    "with model:\n",
    "    model.reactions.GLUTRR.knock_out()\n",
    "    print(\"Without\", model.reactions.GLUTRR.name)\n",
    "    print(\"Maximal Growth Rate:\")\n",
    "    print(model.slim_optimize())\n",
    "    model.objective = model.reactions.EX_psi_e\n",
    "    print(\"Maximal Psilocybin production rate\")\n",
    "    print(model.slim_optimize())"
   ]
  },
  {
   "cell_type": "code",
   "execution_count": 18,
   "id": "7a0cdd85-9b79-45a1-9f61-ba081415f9ec",
   "metadata": {},
   "outputs": [
    {
     "name": "stdout",
     "output_type": "stream",
     "text": [
      "Without porphobilinogen synthase\n",
      "Maximal Growth Rate:\n",
      "0.428929662134894\n",
      "Maximal Psilocybin production rate\n",
      "5.69299883708285e-05\n"
     ]
    }
   ],
   "source": [
    "with model:\n",
    "    model.reactions.PPBNGS.knock_out()\n",
    "    print(\"Without\", model.reactions.PPBNGS.name)\n",
    "    print(\"Maximal Growth Rate:\")\n",
    "    print(model.slim_optimize())\n",
    "    model.objective = model.reactions.EX_psi_e\n",
    "    print(\"Maximal Psilocybin production rate\")\n",
    "    print(model.slim_optimize())"
   ]
  },
  {
   "cell_type": "code",
   "execution_count": 19,
   "id": "715a46bf-ec97-4cb2-8c88-ea07dbf09189",
   "metadata": {},
   "outputs": [
    {
     "name": "stdout",
     "output_type": "stream",
     "text": [
      "Without serine O-acetyltransferase\n",
      "Maximal Growth Rate:\n",
      "0.0\n",
      "Maximal Psilocybin production rate\n",
      "0.0\n"
     ]
    }
   ],
   "source": [
    "with model:\n",
    "    model.reactions.SERAT.knock_out()\n",
    "    print(\"Without\", model.reactions.SERAT.name)\n",
    "    print(\"Maximal Growth Rate:\")\n",
    "    print(model.slim_optimize())\n",
    "    model.objective = model.reactions.EX_psi_e\n",
    "    print(\"Maximal Psilocybin production rate\")\n",
    "    print(model.slim_optimize())"
   ]
  },
  {
   "cell_type": "code",
   "execution_count": 20,
   "id": "922522ba-7b2c-41ad-b75f-ee5bea491dd5",
   "metadata": {},
   "outputs": [
    {
     "name": "stdout",
     "output_type": "stream",
     "text": [
      "Without  5,10_Methylenetetrahydrofolate reductase (NADH)\n",
      "Maximal Growth Rate:\n",
      "0.0\n",
      "Maximal Psilocybin production rate\n",
      "0.0\n"
     ]
    }
   ],
   "source": [
    "with model:\n",
    "    model.reactions.MTHFR2.knock_out()\n",
    "    print(\"Without\", model.reactions.MTHFR2.name)\n",
    "    print(\"Maximal Growth Rate:\")\n",
    "    print(model.slim_optimize())\n",
    "    model.objective = model.reactions.EX_psi_e\n",
    "    print(\"Maximal Psilocybin production rate\")\n",
    "    print(model.slim_optimize())"
   ]
  },
  {
   "cell_type": "code",
   "execution_count": 21,
   "id": "bde1f1b7-bc85-4193-af01-9c982294cda1",
   "metadata": {},
   "outputs": [
    {
     "name": "stdout",
     "output_type": "stream",
     "text": [
      "Without glutamine synthetase\n",
      "Maximal Growth Rate:\n",
      "0.0\n",
      "Maximal Psilocybin production rate\n",
      "0.0\n"
     ]
    }
   ],
   "source": [
    "with model:\n",
    "    model.reactions.GLNS.knock_out()\n",
    "    print(\"Without\", model.reactions.GLNS.name)\n",
    "    print(\"Maximal Growth Rate:\")\n",
    "    print(model.slim_optimize())\n",
    "    model.objective = model.reactions.EX_psi_e\n",
    "    print(\"Maximal Psilocybin production rate\")\n",
    "    print(model.slim_optimize())"
   ]
  },
  {
   "cell_type": "code",
   "execution_count": 22,
   "id": "7e5ffb14-20ff-40a9-a5aa-4282afdb2c01",
   "metadata": {},
   "outputs": [
    {
     "name": "stdout",
     "output_type": "stream",
     "text": [
      "Without cystathionine b_Lyase\n",
      "Maximal Growth Rate:\n",
      "0.0\n",
      "Maximal Psilocybin production rate\n",
      "0.0\n"
     ]
    }
   ],
   "source": [
    "with model:\n",
    "    model.reactions.CYSTL.knock_out()\n",
    "    print(\"Without\", model.reactions.CYSTL.name)\n",
    "    print(\"Maximal Growth Rate:\")\n",
    "    print(model.slim_optimize())\n",
    "    model.objective = model.reactions.EX_psi_e\n",
    "    print(\"Maximal Psilocybin production rate\")\n",
    "    print(model.slim_optimize())"
   ]
  },
  {
   "cell_type": "code",
   "execution_count": 23,
   "id": "7e0b2ae6-32df-465b-8d26-eae14486bf03",
   "metadata": {},
   "outputs": [
    {
     "name": "stdout",
     "output_type": "stream",
     "text": [
      "Without homoserine O-acetyltransferase\n",
      "Maximal Growth Rate:\n",
      "0.428929662134894\n",
      "Maximal Psilocybin production rate\n",
      "5.69299883708285e-05\n"
     ]
    }
   ],
   "source": [
    "with model:\n",
    "    model.reactions.HSST.knock_out()\n",
    "    print(\"Without\", model.reactions.HSST.name)\n",
    "    print(\"Maximal Growth Rate:\")\n",
    "    print(model.slim_optimize())\n",
    "    model.objective = model.reactions.EX_psi_e\n",
    "    print(\"Maximal Psilocybin production rate\")\n",
    "    print(model.slim_optimize())"
   ]
  },
  {
   "cell_type": "code",
   "execution_count": 24,
   "id": "c41537fb-3655-45a5-85fa-a2de8b47e208",
   "metadata": {},
   "outputs": [
    {
     "name": "stdout",
     "output_type": "stream",
     "text": [
      "Without methionine synthase\n",
      "Maximal Growth Rate:\n",
      "0.0\n",
      "Maximal Psilocybin production rate\n",
      "0.0\n"
     ]
    }
   ],
   "source": [
    "with model:\n",
    "    model.reactions.METS.knock_out()\n",
    "    print(\"Without\", model.reactions.METS.name)\n",
    "    print(\"Maximal Growth Rate:\")\n",
    "    print(model.slim_optimize())\n",
    "    model.objective = model.reactions.EX_psi_e\n",
    "    print(\"Maximal Psilocybin production rate\")\n",
    "    print(model.slim_optimize())"
   ]
  },
  {
   "cell_type": "code",
   "execution_count": 25,
   "id": "02e54617-2fc2-410e-999e-6a3ed60a1036",
   "metadata": {},
   "outputs": [
    {
     "name": "stdout",
     "output_type": "stream",
     "text": [
      "Without adenylate kinase\n",
      "Maximal Growth Rate:\n",
      "0.428929662134894\n",
      "Maximal Psilocybin production rate\n",
      "5.69299883708285e-05\n"
     ]
    }
   ],
   "source": [
    "with model:\n",
    "    model.reactions.ADK1.knock_out()\n",
    "    print(\"Without\", model.reactions.ADK1.name)\n",
    "    print(\"Maximal Growth Rate:\")\n",
    "    print(model.slim_optimize())\n",
    "    model.objective = model.reactions.EX_psi_e\n",
    "    print(\"Maximal Psilocybin production rate\")\n",
    "    print(model.slim_optimize())"
   ]
  },
  {
   "cell_type": "code",
   "execution_count": 26,
   "id": "60813dee-d620-4e0f-a994-305c17089868",
   "metadata": {},
   "outputs": [
    {
     "name": "stdout",
     "output_type": "stream",
     "text": [
      "Without guanylate kinase (GMP:ATP)\n",
      "Maximal Growth Rate:\n",
      "0.0\n",
      "Maximal Psilocybin production rate\n",
      "5.69299883708285e-05\n"
     ]
    }
   ],
   "source": [
    "with model:\n",
    "    model.reactions.GK1.knock_out()\n",
    "    print(\"Without\", model.reactions.GK1.name)\n",
    "    print(\"Maximal Growth Rate:\")\n",
    "    print(model.slim_optimize())\n",
    "    model.objective = model.reactions.EX_psi_e\n",
    "    print(\"Maximal Psilocybin production rate\")\n",
    "    print(model.slim_optimize())"
   ]
  },
  {
   "cell_type": "code",
   "execution_count": 27,
   "id": "39873bb6-6d26-4210-b63f-042a765e77d0",
   "metadata": {},
   "outputs": [
    {
     "name": "stdout",
     "output_type": "stream",
     "text": [
      "Without GTP amine hydrolysis (spontaneous)\n",
      "Maximal Growth Rate:\n",
      "0.428929662134894\n",
      "Maximal Psilocybin production rate\n",
      "5.69299883708285e-05\n"
     ]
    }
   ],
   "source": [
    "with model:\n",
    "    model.reactions.GTPHs.knock_out()\n",
    "    print(\"Without\", model.reactions.GTPHs.name)\n",
    "    print(\"Maximal Growth Rate:\")\n",
    "    print(model.slim_optimize())\n",
    "    model.objective = model.reactions.EX_psi_e\n",
    "    print(\"Maximal Psilocybin production rate\")\n",
    "    print(model.slim_optimize())"
   ]
  },
  {
   "cell_type": "code",
   "execution_count": 28,
   "id": "cf693ba6-ede6-4740-893c-ac4657e906b2",
   "metadata": {},
   "outputs": [
    {
     "name": "stdout",
     "output_type": "stream",
     "text": [
      "Without nucleoside_Diphosphate kinase (ATP:GDP)\n",
      "Maximal Growth Rate:\n",
      "0.428929662134894\n",
      "Maximal Psilocybin production rate\n",
      "5.69299883708285e-05\n"
     ]
    }
   ],
   "source": [
    "with model:\n",
    "    model.reactions.NDPK1.knock_out()\n",
    "    print(\"Without\", model.reactions.NDPK1.name)\n",
    "    print(\"Maximal Growth Rate:\")\n",
    "    print(model.slim_optimize())\n",
    "    model.objective = model.reactions.EX_psi_e\n",
    "    print(\"Maximal Psilocybin production rate\")\n",
    "    print(model.slim_optimize())"
   ]
  },
  {
   "cell_type": "code",
   "execution_count": 29,
   "id": "0ad72b1d-fc1e-4761-971a-c604e97eaa4c",
   "metadata": {},
   "outputs": [
    {
     "name": "stdout",
     "output_type": "stream",
     "text": [
      "Without nucleoside-triphosphatase (dITP)\n",
      "Maximal Growth Rate:\n",
      "0.428929662134894\n",
      "Maximal Psilocybin production rate\n",
      "5.69299883708285e-05\n"
     ]
    }
   ],
   "source": [
    "with model:\n",
    "    model.reactions.NTPP11.knock_out()\n",
    "    print(\"Without\", model.reactions.NTP11.name)\n",
    "    print(\"Maximal Growth Rate:\")\n",
    "    print(model.slim_optimize())\n",
    "    model.objective = model.reactions.EX_psi_e\n",
    "    print(\"Maximal Psilocybin production rate\")\n",
    "    print(model.slim_optimize())"
   ]
  },
  {
   "cell_type": "code",
   "execution_count": 30,
   "id": "5e6d04b3-af0c-4ea5-9ea7-b36fcfbcf2bf",
   "metadata": {},
   "outputs": [
    {
     "name": "stdout",
     "output_type": "stream",
     "text": [
      "Without NADPH Quinone Reductase (Ubiquinone-8)\n",
      "Maximal Growth Rate:\n",
      "0.428929662134894\n",
      "Maximal Psilocybin production rate\n",
      "5.69299883708285e-05\n"
     ]
    }
   ],
   "source": [
    "with model:\n",
    "    model.reactions.NADPHQR2.knock_out()\n",
    "    print(\"Without\", model.reactions.NADPHQR2.name)\n",
    "    print(\"Maximal Growth Rate:\")\n",
    "    print(model.slim_optimize())\n",
    "    model.objective = model.reactions.EX_psi_e\n",
    "    print(\"Maximal Psilocybin production rate\")\n",
    "    print(model.slim_optimize())"
   ]
  },
  {
   "cell_type": "code",
   "execution_count": 31,
   "id": "2aab0a3e-694e-4af4-8cea-b356a2c1b883",
   "metadata": {},
   "outputs": [
    {
     "name": "stdout",
     "output_type": "stream",
     "text": [
      "Without GMP synthase\n",
      "Maximal Growth Rate:\n",
      "0.0\n",
      "Maximal Psilocybin production rate\n",
      "5.69299883708285e-05\n"
     ]
    }
   ],
   "source": [
    "with model:\n",
    "    model.reactions.GMPS2.knock_out()\n",
    "    print(\"Without\", model.reactions.GMPS2.name)\n",
    "    print(\"Maximal Growth Rate:\")\n",
    "    print(model.slim_optimize())\n",
    "    model.objective = model.reactions.EX_psi_e\n",
    "    print(\"Maximal Psilocybin production rate\")\n",
    "    print(model.slim_optimize())"
   ]
  },
  {
   "cell_type": "code",
   "execution_count": 32,
   "id": "f34c71c7-1388-428d-b887-38400c4c5df5",
   "metadata": {},
   "outputs": [
    {
     "name": "stdout",
     "output_type": "stream",
     "text": [
      "Without glutamyL_tRNA synthetase\n",
      "Maximal Growth Rate:\n",
      "0.428929662134894\n",
      "Maximal Psilocybin production rate\n",
      "5.69299883708285e-05\n"
     ]
    }
   ],
   "source": [
    "with model:\n",
    "    model.reactions.GLUTRS.knock_out()\n",
    "    print(\"Without\", model.reactions.GLUTRS.name)\n",
    "    print(\"Maximal Growth Rate:\")\n",
    "    print(model.slim_optimize())\n",
    "    model.objective = model.reactions.EX_psi_e\n",
    "    print(\"Maximal Psilocybin production rate\")\n",
    "    print(model.slim_optimize())"
   ]
  },
  {
   "cell_type": "code",
   "execution_count": 33,
   "id": "9909b60c-37aa-4423-9df8-9331f6cd7d0b",
   "metadata": {},
   "outputs": [
    {
     "name": "stdout",
     "output_type": "stream",
     "text": [
      "ACHMSC 0.56609314274949\n",
      "PPA 0.019372413200405142\n"
     ]
    },
    {
     "name": "stderr",
     "output_type": "stream",
     "text": [
      "C:\\Users\\fjarios\\Anaconda3\\envs\\carveme_ex5\\lib\\site-packages\\cobra\\util\\solver.py:554: UserWarning: Solver status is 'infeasible'.\n",
      "  warn(f\"Solver status is '{status}'.\", UserWarning)\n"
     ]
    },
    {
     "name": "stdout",
     "output_type": "stream",
     "text": [
      "G1PACT 5.69299883708285e-05\n",
      "G1SAT 5.69299883708285e-05\n",
      "GLUTRR 5.69299883708285e-05\n",
      "PPBNGS 5.69299883708285e-05\n",
      "SERAT 0.0\n",
      "MTHFR2 0.2830465713747456\n",
      "GLNS 0.019372413200434896\n",
      "CYSTL 0.28304657137474565\n",
      "HSST 0.28304657137474565\n",
      "METS 0.28304657137474565\n",
      "ADK1 5.69299883708285e-05\n",
      "GK1 0.30995861120650414\n",
      "GTPHs 0.019372413201725752\n",
      "NDPK1 5.69299883708285e-05\n",
      "NTPP11 0.30995861120740653\n",
      "NADPHQR2 0.7830517965988405\n",
      "GMPS2 0.3099586112062964\n",
      "GLUTRS 5.69299883708285e-05\n"
     ]
    }
   ],
   "source": [
    "# Overexpression of all targets identified within FSEOF\n",
    "psi_production = [] #creating empty list to store \n",
    "for reaction_id in Reactions:\n",
    "   with model:\n",
    "        model.objective = model.reactions.EX_psi_e # setting objective to our product\n",
    "        model.reactions.get_by_id(reaction_id).lower_bound = model.reactions.get_by_id(reaction_id).upper_bound # forcing the model to overexpress the respective reaction\n",
    "        print(reaction_id, model.optimize().objective_value)\n",
    "        psi_production.append(model.optimize().objective_value) # saving the computed psilocybin production to the list psi_prod\n"
   ]
  },
  {
   "cell_type": "code",
   "execution_count": 34,
   "id": "1f1f75a5",
   "metadata": {},
   "outputs": [],
   "source": [
    "react_id = [] \n",
    "react_name = []\n",
    "\n",
    "for react in Reactions: \n",
    "    with model: \n",
    "        model.objective = model.reactions.EX_psi_e\n",
    "        react_id.append(model.reactions.get_by_id(react).id) #saving reaction_ids to react_id\n",
    "        react_name.append(model.reactions.get_by_id(react).name) #saving react_names to list react_name\n",
    "\n"
   ]
  },
  {
   "cell_type": "code",
   "execution_count": 35,
   "id": "4663e958-12e8-440d-b80d-d15c45a4baa7",
   "metadata": {},
   "outputs": [
    {
     "data": {
      "text/html": [
       "<div>\n",
       "<style scoped>\n",
       "    .dataframe tbody tr th:only-of-type {\n",
       "        vertical-align: middle;\n",
       "    }\n",
       "\n",
       "    .dataframe tbody tr th {\n",
       "        vertical-align: top;\n",
       "    }\n",
       "\n",
       "    .dataframe thead th {\n",
       "        text-align: right;\n",
       "    }\n",
       "</style>\n",
       "<table border=\"1\" class=\"dataframe\">\n",
       "  <thead>\n",
       "    <tr style=\"text-align: right;\">\n",
       "      <th></th>\n",
       "      <th>reaction_id</th>\n",
       "      <th>reaction_name</th>\n",
       "      <th>psilocybin_production [mmol/gDW*h], when over-produced</th>\n",
       "    </tr>\n",
       "  </thead>\n",
       "  <tbody>\n",
       "    <tr>\n",
       "      <th>0</th>\n",
       "      <td>ACHMSC</td>\n",
       "      <td>ACHMSC</td>\n",
       "      <td>0.566093</td>\n",
       "    </tr>\n",
       "    <tr>\n",
       "      <th>1</th>\n",
       "      <td>PPA</td>\n",
       "      <td>inorganic diphosphatase</td>\n",
       "      <td>0.019372</td>\n",
       "    </tr>\n",
       "    <tr>\n",
       "      <th>2</th>\n",
       "      <td>G1PACT</td>\n",
       "      <td>glucosamine-1-phosphate N-acetyltransferase</td>\n",
       "      <td>0.000057</td>\n",
       "    </tr>\n",
       "    <tr>\n",
       "      <th>3</th>\n",
       "      <td>G1SAT</td>\n",
       "      <td>glutamate-1_Semialdehyde aminotransferase</td>\n",
       "      <td>0.000057</td>\n",
       "    </tr>\n",
       "    <tr>\n",
       "      <th>4</th>\n",
       "      <td>GLUTRR</td>\n",
       "      <td>glutamyL_tRNA reductase</td>\n",
       "      <td>0.000057</td>\n",
       "    </tr>\n",
       "    <tr>\n",
       "      <th>5</th>\n",
       "      <td>PPBNGS</td>\n",
       "      <td>porphobilinogen synthase</td>\n",
       "      <td>0.000057</td>\n",
       "    </tr>\n",
       "    <tr>\n",
       "      <th>6</th>\n",
       "      <td>SERAT</td>\n",
       "      <td>serine O-acetyltransferase</td>\n",
       "      <td>0.000000</td>\n",
       "    </tr>\n",
       "    <tr>\n",
       "      <th>7</th>\n",
       "      <td>MTHFR2</td>\n",
       "      <td>5,10_Methylenetetrahydrofolate reductase (NADH)</td>\n",
       "      <td>0.283047</td>\n",
       "    </tr>\n",
       "    <tr>\n",
       "      <th>8</th>\n",
       "      <td>GLNS</td>\n",
       "      <td>glutamine synthetase</td>\n",
       "      <td>0.019372</td>\n",
       "    </tr>\n",
       "    <tr>\n",
       "      <th>9</th>\n",
       "      <td>CYSTL</td>\n",
       "      <td>cystathionine b_Lyase</td>\n",
       "      <td>0.283047</td>\n",
       "    </tr>\n",
       "    <tr>\n",
       "      <th>10</th>\n",
       "      <td>HSST</td>\n",
       "      <td>homoserine O-acetyltransferase</td>\n",
       "      <td>0.283047</td>\n",
       "    </tr>\n",
       "    <tr>\n",
       "      <th>11</th>\n",
       "      <td>METS</td>\n",
       "      <td>methionine synthase</td>\n",
       "      <td>0.283047</td>\n",
       "    </tr>\n",
       "    <tr>\n",
       "      <th>12</th>\n",
       "      <td>ADK1</td>\n",
       "      <td>adenylate kinase</td>\n",
       "      <td>0.000057</td>\n",
       "    </tr>\n",
       "    <tr>\n",
       "      <th>13</th>\n",
       "      <td>GK1</td>\n",
       "      <td>guanylate kinase (GMP:ATP)</td>\n",
       "      <td>0.309959</td>\n",
       "    </tr>\n",
       "    <tr>\n",
       "      <th>14</th>\n",
       "      <td>GTPHs</td>\n",
       "      <td>GTP amine hydrolysis (spontaneous)</td>\n",
       "      <td>0.019372</td>\n",
       "    </tr>\n",
       "    <tr>\n",
       "      <th>15</th>\n",
       "      <td>NDPK1</td>\n",
       "      <td>nucleoside_Diphosphate kinase (ATP:GDP)</td>\n",
       "      <td>0.000057</td>\n",
       "    </tr>\n",
       "    <tr>\n",
       "      <th>16</th>\n",
       "      <td>NTPP11</td>\n",
       "      <td>Nucleoside triphosphate pyrophosphorylase (xtp)</td>\n",
       "      <td>0.309959</td>\n",
       "    </tr>\n",
       "    <tr>\n",
       "      <th>17</th>\n",
       "      <td>NADPHQR2</td>\n",
       "      <td>NADPH Quinone Reductase (Ubiquinone-8)</td>\n",
       "      <td>0.783052</td>\n",
       "    </tr>\n",
       "    <tr>\n",
       "      <th>18</th>\n",
       "      <td>GMPS2</td>\n",
       "      <td>GMP synthase</td>\n",
       "      <td>0.309959</td>\n",
       "    </tr>\n",
       "    <tr>\n",
       "      <th>19</th>\n",
       "      <td>GLUTRS</td>\n",
       "      <td>glutamyL_tRNA synthetase</td>\n",
       "      <td>0.000057</td>\n",
       "    </tr>\n",
       "  </tbody>\n",
       "</table>\n",
       "</div>"
      ],
      "text/plain": [
       "   reaction_id                                     reaction_name  \\\n",
       "0       ACHMSC                                            ACHMSC   \n",
       "1          PPA                           inorganic diphosphatase   \n",
       "2       G1PACT       glucosamine-1-phosphate N-acetyltransferase   \n",
       "3        G1SAT         glutamate-1_Semialdehyde aminotransferase   \n",
       "4       GLUTRR                           glutamyL_tRNA reductase   \n",
       "5       PPBNGS                          porphobilinogen synthase   \n",
       "6        SERAT                        serine O-acetyltransferase   \n",
       "7       MTHFR2   5,10_Methylenetetrahydrofolate reductase (NADH)   \n",
       "8         GLNS                              glutamine synthetase   \n",
       "9        CYSTL                             cystathionine b_Lyase   \n",
       "10        HSST                    homoserine O-acetyltransferase   \n",
       "11        METS                               methionine synthase   \n",
       "12        ADK1                                  adenylate kinase   \n",
       "13         GK1                        guanylate kinase (GMP:ATP)   \n",
       "14       GTPHs                GTP amine hydrolysis (spontaneous)   \n",
       "15       NDPK1           nucleoside_Diphosphate kinase (ATP:GDP)   \n",
       "16      NTPP11   Nucleoside triphosphate pyrophosphorylase (xtp)   \n",
       "17    NADPHQR2            NADPH Quinone Reductase (Ubiquinone-8)   \n",
       "18       GMPS2                                      GMP synthase   \n",
       "19      GLUTRS                          glutamyL_tRNA synthetase   \n",
       "\n",
       "    psilocybin_production [mmol/gDW*h], when over-produced  \n",
       "0                                            0.566093       \n",
       "1                                            0.019372       \n",
       "2                                            0.000057       \n",
       "3                                            0.000057       \n",
       "4                                            0.000057       \n",
       "5                                            0.000057       \n",
       "6                                            0.000000       \n",
       "7                                            0.283047       \n",
       "8                                            0.019372       \n",
       "9                                            0.283047       \n",
       "10                                           0.283047       \n",
       "11                                           0.283047       \n",
       "12                                           0.000057       \n",
       "13                                           0.309959       \n",
       "14                                           0.019372       \n",
       "15                                           0.000057       \n",
       "16                                           0.309959       \n",
       "17                                           0.783052       \n",
       "18                                           0.309959       \n",
       "19                                           0.000057       "
      ]
     },
     "execution_count": 35,
     "metadata": {},
     "output_type": "execute_result"
    }
   ],
   "source": [
    "import pandas as pd # importing pandas to enable work with dataframes\n",
    "for react in Reactions:\n",
    "    with model: \n",
    "\n",
    "        data = {'reaction_id': react_id,\n",
    "            'reaction_name': react_name,\n",
    "            'psilocybin_production [mmol/gDW*h], when over-produced': psi_production,        \n",
    "            }\n",
    "\n",
    "        df = pd.DataFrame(data) # saving everything to dataframe\n",
    "df"
   ]
  },
  {
   "cell_type": "code",
   "execution_count": null,
   "id": "76cbdf24",
   "metadata": {},
   "outputs": [],
   "source": []
  },
  {
   "cell_type": "code",
   "execution_count": null,
   "id": "ed7be857",
   "metadata": {},
   "outputs": [],
   "source": []
  }
 ],
 "metadata": {
  "kernelspec": {
   "display_name": "Python 3",
   "language": "python",
   "name": "python3"
  },
  "language_info": {
   "codemirror_mode": {
    "name": "ipython",
    "version": 3
   },
   "file_extension": ".py",
   "mimetype": "text/x-python",
   "name": "python",
   "nbconvert_exporter": "python",
   "pygments_lexer": "ipython3",
   "version": "3.6.13"
  }
 },
 "nbformat": 4,
 "nbformat_minor": 5
}
