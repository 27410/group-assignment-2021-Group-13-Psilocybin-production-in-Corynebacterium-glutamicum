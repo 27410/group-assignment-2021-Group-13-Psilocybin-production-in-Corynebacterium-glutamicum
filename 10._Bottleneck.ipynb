{
 "cells": [
  {
   "cell_type": "code",
   "execution_count": 1,
   "id": "856da807",
   "metadata": {
    "scrolled": false
   },
   "outputs": [
    {
     "name": "stderr",
     "output_type": "stream",
     "text": [
      "No objective coefficients in model. Unclear what should be optimized\n"
     ]
    }
   ],
   "source": [
    "%run Old_files/From1._toBottleNeckDetective.ipynb #change model source here"
   ]
  },
  {
   "cell_type": "markdown",
   "id": "f1aae96f",
   "metadata": {},
   "source": [
    "We will investigate each step of the psilocybin production pathway, to see why our production rate is so low, and always the same, regardless of media optimization, gene target modulation, etc.\n",
    "\n",
    "Within this notebook, we are testing individual steps as demand functions, and set the production of the targeted metabolite as the model's objective function.\n",
    "   \n",
    "   \n",
    "Tryptamine production:"
   ]
  },
  {
   "cell_type": "code",
   "execution_count": 2,
   "id": "3cc9ac52",
   "metadata": {},
   "outputs": [
    {
     "name": "stdout",
     "output_type": "stream",
     "text": [
      "Max. tryptamine production [mmol gDW^-1 h^-1]: 0.212352921194493\n"
     ]
    }
   ],
   "source": [
    "with model:\n",
    "    model.add_boundary(model.metabolites.tryp_c, type='demand')\n",
    "    target = model.reactions.DM_tryp_c\n",
    "    model.objective = target\n",
    "    psi_production = model.optimize().objective_value\n",
    "    print(\"Max. tryptamine production [mmol gDW^-1 h^-1]:\", psi_production)"
   ]
  },
  {
   "cell_type": "markdown",
   "id": "37af1abb",
   "metadata": {},
   "source": [
    "We still have flux\n",
    "\n",
    "4-Hydroxytryptamine:"
   ]
  },
  {
   "cell_type": "code",
   "execution_count": 3,
   "id": "19e58013",
   "metadata": {},
   "outputs": [
    {
     "name": "stdout",
     "output_type": "stream",
     "text": [
      "Max. 4-hydroxytryptamine production [mmol gDW^-1 h^-1]: 0.212352921194493\n"
     ]
    }
   ],
   "source": [
    "with model:\n",
    "    model.add_boundary(model.metabolites._4htryp_c, type='demand')\n",
    "    target = model.reactions.DM__4htryp_c\n",
    "    model.objective = target\n",
    "    psi_production = model.optimize().objective_value\n",
    "    print(\"Max. 4-hydroxytryptamine production [mmol gDW^-1 h^-1]:\", psi_production)"
   ]
  },
  {
   "cell_type": "markdown",
   "id": "021bee8f",
   "metadata": {},
   "source": [
    "We still have flux.\n",
    "\n",
    "Norbaeocystin:"
   ]
  },
  {
   "cell_type": "code",
   "execution_count": 4,
   "id": "df6cc2a6",
   "metadata": {},
   "outputs": [
    {
     "name": "stdout",
     "output_type": "stream",
     "text": [
      "Max. norbaeocystin production [mmol gDW^-1 h^-1]: 0.212352921194493\n"
     ]
    }
   ],
   "source": [
    "with model:\n",
    "    model.add_boundary(model.metabolites.nbc_c, type='demand')\n",
    "    target = model.reactions.DM_nbc_c\n",
    "    model.objective = target\n",
    "    psi_production = model.optimize().objective_value\n",
    "    print(\"Max. norbaeocystin production [mmol gDW^-1 h^-1]:\", psi_production)"
   ]
  },
  {
   "cell_type": "markdown",
   "id": "41d397d4",
   "metadata": {},
   "source": [
    "We still have flux.\n",
    "\n",
    "Baeocystin:"
   ]
  },
  {
   "cell_type": "code",
   "execution_count": 5,
   "id": "c8b9d25b",
   "metadata": {
    "scrolled": true
   },
   "outputs": [
    {
     "name": "stdout",
     "output_type": "stream",
     "text": [
      "Max. baeocystin production [mmol gDW^-1 h^-1]: 0.0\n",
      "Methionine->SAM [mmol-psi / mmol-gl]: 0.0\n"
     ]
    }
   ],
   "source": [
    "with model:\n",
    "    model.add_boundary(model.metabolites.baecyst_c, type='demand')\n",
    "    target = model.reactions.DM_baecyst_c \n",
    "    model.objective = target\n",
    "    psi_production = model.optimize().objective_value\n",
    "    print(\"Max. baeocystin production [mmol gDW^-1 h^-1]:\", psi_production)\n",
    "    print(\"Methionine->SAM [mmol-psi / mmol-gl]:\", model.reactions.METAT.flux)"
   ]
  },
  {
   "cell_type": "markdown",
   "id": "7cecb1ba",
   "metadata": {},
   "source": [
    "We have identified the bottleneck. It appears related baeocystin production from norbaeocystein using SAM and SAH as cofactors. Below we will investigate further.\n",
    "\n",
    "First, SAH is added as an additional demand function. It is seen later that there are few reactions present to degrade SAH, so otherwise it is accumulating."
   ]
  },
  {
   "cell_type": "code",
   "execution_count": 6,
   "id": "2a5e3285",
   "metadata": {
    "scrolled": false
   },
   "outputs": [
    {
     "name": "stdout",
     "output_type": "stream",
     "text": [
      "Max. baeocystin production [mmol gDW^-1 h^-1]: 0.000113859976741657\n",
      "Methionine->SAM [mmol-psi / mmol-gl]: 0.000113859976741657\n"
     ]
    }
   ],
   "source": [
    "with model:\n",
    "    model.add_boundary(model.metabolites.baecyst_c, type='demand')\n",
    "    model.add_boundary(model.metabolites.ahcys_c, type='demand')\n",
    "    target = model.reactions.DM_baecyst_c  \n",
    "    model.objective = target\n",
    "    psi_production = model.optimize().objective_value\n",
    "    print(\"Max. baeocystin production [mmol gDW^-1 h^-1]:\", psi_production)\n",
    "    print(\"Methionine->SAM [mmol-psi / mmol-gl]:\", model.reactions.METAT.flux)"
   ]
  },
  {
   "cell_type": "markdown",
   "id": "a96abacb",
   "metadata": {},
   "source": [
    "Now we see a very low production rate, but higher than zero and the original production rate of 5.8e-5., showing that the reaction is proceeding. SAM production seems to be influencial on the production rate, so we will investigate further."
   ]
  },
  {
   "cell_type": "code",
   "execution_count": 7,
   "id": "252bded9",
   "metadata": {},
   "outputs": [
    {
     "name": "stdout",
     "output_type": "stream",
     "text": [
      "Max. psi production [mmol gDW^-1 h^-1]: 0.0\n",
      "AMAOTr : 8aonn_c + amet_c --> amob_c + dann_c\n",
      "AMMQLT8 : 2dmmql8_c + amet_c --> ahcys_c + h_c + mql8_c\n",
      "BTS4 : amet_c + dtbt_c + s_c --> btn_c + daD_5_c + h_c + met_L_c\n",
      "CPPPGO2 : 2.0 amet_c + cpppg3_c --> 2.0 co2_c + 2.0 daD_5_c + 2.0 met_L_c + pppg9_c\n",
      "LIPOS : 4fe4s_c + 2.0 amet_c + h_c + nad_c + octapb_c --> 2fe2s_c + 2.0 daD_5_c + 2.0 fe2_c + lipopb_c + 2.0 met_L_c + nadh_c\n",
      "OMBZLM : 2ombzl_c + amet_c --> 2ommbl_c + ahcys_c + h_c\n",
      "TYRL : amet_c + nadph_c + tyr_L_c --> 4crsol_c + daD_5_c + dhgly_c + h_c + met_L_c + nadp_c\n",
      "UPP3MT : 2.0 amet_c + uppg3_c --> 2.0 ahcys_c + dscL_c + h_c\n",
      "METAT : atp_c + h2o_c + met_L_c --> amet_c + pi_c + ppi_c\n",
      "METTRS : atp_c + met_L_c + trnamet_c --> amp_c + mettrna_c + ppi_c\n",
      "SOL_POOL : 0.12386 accoa_c + 0.099086 amet_c + 0.000887 btn_c + 0.099086 chor_c + 0.074314 coa_c + 0.013872 malcoa_c + 0.79269 nad_c + 0.019817 nadh_c + 0.049543 nadp_c + 0.14863 nadph_c + 0.099086 pydx5p_c + 0.043598 succoa_c + 0.024558 udcpdp_c --> soluble_pool_c\n",
      "psiM : amet_c + nbc_c --> ahcys_c + baecyst_c\n",
      "psiM2 : amet_c + baecyst_c --> ahcys_c + psi_c\n"
     ]
    }
   ],
   "source": [
    "with model:\n",
    "    model.add_boundary(model.metabolites.baecyst_c, type='demand')\n",
    "    target = model.reactions.DM_baecyst_c\n",
    "    print(\"Max. psi production [mmol gDW^-1 h^-1]:\",model.optimize().objective_value)\n",
    "    for x in model.reactions.query('amet_c','reaction'):\n",
    "        print(\"%s : %s\" % (x.id, x.reaction))"
   ]
  },
  {
   "cell_type": "markdown",
   "id": "37fc62a4",
   "metadata": {},
   "source": [
    "amet_c is SAM and ahcys_c is SAH.\n",
    "\n",
    "We can see that one source of SAH is METAT, producing SAH from Methionine."
   ]
  },
  {
   "cell_type": "code",
   "execution_count": 8,
   "id": "a983d033",
   "metadata": {},
   "outputs": [
    {
     "name": "stdout",
     "output_type": "stream",
     "text": [
      "METAT (0.0, 0.000113859976741657) atp_c + h2o_c + met_L_c --> amet_c + pi_c + ppi_c\n"
     ]
    }
   ],
   "source": [
    "print(model.reactions.METAT.id,model.reactions.METAT.bounds,model.reactions.METAT.reaction) #closer look"
   ]
  },
  {
   "cell_type": "markdown",
   "id": "c8eae1ba",
   "metadata": {},
   "source": [
    "The observed production of baeocystin corresponds to the upper bound for production of SAM from methionine. \n",
    "\n",
    "The higher bound is quite low, so it is thought that increasing the bound would allow a higher product flux."
   ]
  },
  {
   "cell_type": "code",
   "execution_count": 9,
   "id": "271d695b",
   "metadata": {},
   "outputs": [
    {
     "name": "stdout",
     "output_type": "stream",
     "text": [
      "Max. baeocystin production [mmol gDW^-1 h^-1]: 0.20166999999999996\n",
      "Methionine->SAM [mmol-psi / mmol-gl]: 0.20166999999999996\n"
     ]
    }
   ],
   "source": [
    "with model:\n",
    "    model.add_boundary(model.metabolites.baecyst_c, type='demand')\n",
    "    model.add_boundary(model.metabolites.ahcys_c, type='demand')\n",
    "    target = model.reactions.DM_baecyst_c \n",
    "    model.reactions.METAT.bounds=-1000,1000\n",
    "    model.objective = target\n",
    "    psi_production = model.optimize().objective_value\n",
    "    print(\"Max. baeocystin production [mmol gDW^-1 h^-1]:\", psi_production)\n",
    "    print(\"Methionine->SAM [mmol-psi / mmol-gl]:\", model.reactions.METAT.flux)"
   ]
  },
  {
   "cell_type": "markdown",
   "id": "81b01002",
   "metadata": {},
   "source": [
    "The two reactions go hand in hand, and baeocystin production now matches norbaeocystin.\n",
    "\n",
    "It is hypothesized that adding methionine to the media would increase the reaction flux."
   ]
  },
  {
   "cell_type": "code",
   "execution_count": 10,
   "id": "91ec0c12",
   "metadata": {
    "scrolled": true
   },
   "outputs": [
    {
     "name": "stdout",
     "output_type": "stream",
     "text": [
      "Max. baeocystin production [mmol gDW^-1 h^-1]: 0.212352921194493\n",
      "Methionine->SAM [mmol-psi / mmol-gl]: 0.212352921194493\n"
     ]
    }
   ],
   "source": [
    "with model:\n",
    "    model.add_boundary(model.metabolites.baecyst_c, type='demand')\n",
    "    model.add_boundary(model.metabolites.ahcys_c, type='demand')\n",
    "    target = model.reactions.DM_baecyst_c\n",
    "    model.reactions.METAT.bounds=-1000,1000\n",
    "    model.reactions.EX_met_L_e.bounds=-1000,1000 #artificially expand\n",
    "    model.objective = target\n",
    "    psi_production = model.optimize().objective_value\n",
    "    print(\"Max. baeocystin production [mmol gDW^-1 h^-1]:\", psi_production)\n",
    "    print(\"Methionine->SAM [mmol-psi / mmol-gl]:\", model.reactions.METAT.flux)"
   ]
  },
  {
   "cell_type": "markdown",
   "id": "feacb9f7",
   "metadata": {},
   "source": [
    "This increased the production rate as expected.\n",
    "\n",
    "Now the product, psilocybin, is tested."
   ]
  },
  {
   "cell_type": "code",
   "execution_count": 11,
   "id": "42aca544",
   "metadata": {},
   "outputs": [
    {
     "name": "stdout",
     "output_type": "stream",
     "text": [
      "Max. psilocybin production [mmol gDW^-1 h^-1]: 0.11524000000000006\n",
      "Methionine->SAM [mmol-psi / mmol-gl]: 0.23048000000000013\n"
     ]
    }
   ],
   "source": [
    "with model:\n",
    "    model.add_boundary(model.metabolites.psi_c, type='demand')\n",
    "    model.add_boundary(model.metabolites.ahcys_c, type='demand')\n",
    "    target = model.reactions.DM_psi_c\n",
    "    model.reactions.METAT.bounds=-1000,1000\n",
    "    model.objective = target\n",
    "    psi_production = model.optimize().objective_value\n",
    "    print(\"Max. psilocybin production [mmol gDW^-1 h^-1]:\", psi_production)\n",
    "    print(\"Methionine->SAM [mmol-psi / mmol-gl]:\", model.reactions.METAT.flux)"
   ]
  },
  {
   "cell_type": "markdown",
   "id": "b4c6bcef",
   "metadata": {},
   "source": [
    "The production rate is seen too fall, as the production of SAM cannot keep up.\n",
    "\n",
    "Adding methionine to the medium:"
   ]
  },
  {
   "cell_type": "code",
   "execution_count": 12,
   "id": "acf52e0b",
   "metadata": {},
   "outputs": [
    {
     "name": "stdout",
     "output_type": "stream",
     "text": [
      "Max. psilocybin production [mmol gDW^-1 h^-1]: 0.1761877527166955\n",
      "Methionine->SAM [mmol-psi / mmol-gl]: 0.352375505433391\n"
     ]
    }
   ],
   "source": [
    "with model:\n",
    "    model.add_boundary(model.metabolites.psi_c, type='demand')\n",
    "    model.add_boundary(model.metabolites.ahcys_c, type='demand')\n",
    "    target = model.reactions.DM_psi_c\n",
    "    model.reactions.METAT.bounds=-1000,1000\n",
    "    model.reactions.EX_met_L_e.bounds=-1000,1000\n",
    "    model.objective = target\n",
    "    psi_production = model.optimize().objective_value\n",
    "    print(\"Max. psilocybin production [mmol gDW^-1 h^-1]:\", psi_production)\n",
    "    print(\"Methionine->SAM [mmol-psi / mmol-gl]:\", model.reactions.METAT.flux)"
   ]
  },
  {
   "cell_type": "markdown",
   "id": "800c1c5c",
   "metadata": {},
   "source": [
    "This is a very desirable production rate, however, it is not naturally able to occur in the Corynebacterium glutamicum. The original bounds of the reactions in the model are based on 13C-tracer experimental fluxes, and modification to the microorganism would be necessary. \n",
    "\n",
    "It seems SAM still limits the reaction to some extent, as it is used in both baeocystin and psilocybin production.\n",
    "\n",
    "Upregulating the genes that encode for SAM production would be vital for the production of psilocybin, and including methionine in the medium would be a good idea. "
   ]
  }
 ],
 "metadata": {
  "kernelspec": {
   "display_name": "Python 3",
   "language": "python",
   "name": "python3"
  },
  "language_info": {
   "codemirror_mode": {
    "name": "ipython",
    "version": 3
   },
   "file_extension": ".py",
   "mimetype": "text/x-python",
   "name": "python",
   "nbconvert_exporter": "python",
   "pygments_lexer": "ipython3",
   "version": "3.6.13"
  }
 },
 "nbformat": 4,
 "nbformat_minor": 5
}
