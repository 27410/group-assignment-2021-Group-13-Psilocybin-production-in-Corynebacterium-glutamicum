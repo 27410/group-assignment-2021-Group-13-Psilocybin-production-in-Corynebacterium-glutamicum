{
 "cells": [
  {
   "cell_type": "code",
   "execution_count": 1,
   "id": "28cc9eb2",
   "metadata": {
    "scrolled": true
   },
   "outputs": [
    {
     "name": "stderr",
     "output_type": "stream",
     "text": [
      "No objective coefficients in model. Unclear what should be optimized\n"
     ]
    }
   ],
   "source": [
    "%run 2021_11_02_Psilocybin_in_Cg_Exchange_Function.ipynb #change model source here"
   ]
  },
  {
   "cell_type": "code",
   "execution_count": 2,
   "id": "05783375",
   "metadata": {},
   "outputs": [
    {
     "data": {
      "text/html": [
       "\n",
       "        <table>\n",
       "            <tr>\n",
       "                <td><strong>Reaction identifier</strong></td><td>EX_psi_e</td>\n",
       "            </tr><tr>\n",
       "                <td><strong>Name</strong></td><td>Psilocybin_e exchange</td>\n",
       "            </tr><tr>\n",
       "                <td><strong>Memory address</strong></td>\n",
       "                <td>0x026a28a63470</td>\n",
       "            </tr><tr>\n",
       "                <td><strong>Stoichiometry</strong></td>\n",
       "                <td>\n",
       "                    <p style='text-align:right'>psi_e <=></p>\n",
       "                    <p style='text-align:right'>Psilocybin_e <=></p>\n",
       "                </td>\n",
       "            </tr><tr>\n",
       "                <td><strong>GPR</strong></td><td></td>\n",
       "            </tr><tr>\n",
       "                <td><strong>Lower bound</strong></td><td>-1000.0</td>\n",
       "            </tr><tr>\n",
       "                <td><strong>Upper bound</strong></td><td>1000.0</td>\n",
       "            </tr>\n",
       "        </table>\n",
       "        "
      ],
      "text/plain": [
       "<Reaction EX_psi_e at 0x26a28a63470>"
      ]
     },
     "execution_count": 2,
     "metadata": {},
     "output_type": "execute_result"
    }
   ],
   "source": [
    "model.reactions.EX_psi_e"
   ]
  },
  {
   "cell_type": "code",
   "execution_count": 3,
   "id": "7ba34423",
   "metadata": {},
   "outputs": [
    {
     "name": "stdout",
     "output_type": "stream",
     "text": [
      "0.0\n"
     ]
    }
   ],
   "source": [
    "with model:\n",
    "    model.objective = model.reactions.EX_psi_e\n",
    "    print(model.optimize().objective_value)"
   ]
  },
  {
   "cell_type": "markdown",
   "id": "739556bb",
   "metadata": {},
   "source": [
    "# Overview of Reactions"
   ]
  },
  {
   "cell_type": "code",
   "execution_count": 4,
   "id": "4566885b",
   "metadata": {
    "scrolled": true
   },
   "outputs": [
    {
     "data": {
      "text/html": [
       "\n",
       "        <table>\n",
       "            <tr>\n",
       "                <td><strong>Metabolite identifier</strong></td><td>trp_L_c</td>\n",
       "            </tr><tr>\n",
       "                <td><strong>Name</strong></td><td>L_Tryptophan</td>\n",
       "            </tr><tr>\n",
       "                <td><strong>Memory address</strong></td>\n",
       "                <td>0x026a40a83320</td>\n",
       "            </tr><tr>\n",
       "                <td><strong>Formula</strong></td><td>C11H12N2O2</td>\n",
       "            </tr><tr>\n",
       "                <td><strong>Compartment</strong></td><td>c</td>\n",
       "            </tr><tr>\n",
       "                <td><strong>In 7 reaction(s)</strong></td><td>\n",
       "                    TRPS1, TRPS2, TRPt2rpp, TRPabcpp, PROTEIN, TRPTRS, CrTdc</td>\n",
       "            </tr>\n",
       "        </table>"
      ],
      "text/plain": [
       "<Metabolite trp_L_c at 0x26a40a83320>"
      ]
     },
     "execution_count": 4,
     "metadata": {},
     "output_type": "execute_result"
    }
   ],
   "source": [
    "model.metabolites.trp_L_c"
   ]
  },
  {
   "cell_type": "code",
   "execution_count": 5,
   "id": "f22968b1",
   "metadata": {
    "scrolled": true
   },
   "outputs": [
    {
     "data": {
      "text/html": [
       "\n",
       "        <table>\n",
       "            <tr>\n",
       "                <td><strong>Metabolite identifier</strong></td><td>trp_L_e</td>\n",
       "            </tr><tr>\n",
       "                <td><strong>Name</strong></td><td>L_Tryptophan</td>\n",
       "            </tr><tr>\n",
       "                <td><strong>Memory address</strong></td>\n",
       "                <td>0x026a40a83390</td>\n",
       "            </tr><tr>\n",
       "                <td><strong>Formula</strong></td><td>C11H12N2O2</td>\n",
       "            </tr><tr>\n",
       "                <td><strong>Compartment</strong></td><td>e</td>\n",
       "            </tr><tr>\n",
       "                <td><strong>In 3 reaction(s)</strong></td><td>\n",
       "                    EX_trp_L_e, TRPabcpp, TRPt2rpp</td>\n",
       "            </tr>\n",
       "        </table>"
      ],
      "text/plain": [
       "<Metabolite trp_L_e at 0x26a40a83390>"
      ]
     },
     "execution_count": 5,
     "metadata": {},
     "output_type": "execute_result"
    }
   ],
   "source": [
    "model.metabolites.trp_L_e"
   ]
  },
  {
   "cell_type": "code",
   "execution_count": 6,
   "id": "1c84ca74",
   "metadata": {},
   "outputs": [
    {
     "data": {
      "text/html": [
       "\n",
       "        <table>\n",
       "            <tr>\n",
       "                <td><strong>Reaction identifier</strong></td><td>TRPt2rpp</td>\n",
       "            </tr><tr>\n",
       "                <td><strong>Name</strong></td><td>L_tryptophan reversible transport via proton symport</td>\n",
       "            </tr><tr>\n",
       "                <td><strong>Memory address</strong></td>\n",
       "                <td>0x026a412bc940</td>\n",
       "            </tr><tr>\n",
       "                <td><strong>Stoichiometry</strong></td>\n",
       "                <td>\n",
       "                    <p style='text-align:right'>h_e + trp_L_e <-- h_c + trp_L_c</p>\n",
       "                    <p style='text-align:right'>H+ + L_Tryptophan <-- H+ + L_Tryptophan</p>\n",
       "                </td>\n",
       "            </tr><tr>\n",
       "                <td><strong>GPR</strong></td><td>cg1257</td>\n",
       "            </tr><tr>\n",
       "                <td><strong>Lower bound</strong></td><td>-77.3942899999992</td>\n",
       "            </tr><tr>\n",
       "                <td><strong>Upper bound</strong></td><td>-1.83256065354456e-29</td>\n",
       "            </tr>\n",
       "        </table>\n",
       "        "
      ],
      "text/plain": [
       "<Reaction TRPt2rpp at 0x26a412bc940>"
      ]
     },
     "execution_count": 6,
     "metadata": {},
     "output_type": "execute_result"
    }
   ],
   "source": [
    "model.reactions.TRPt2rpp"
   ]
  },
  {
   "cell_type": "code",
   "execution_count": 7,
   "id": "1d1ff170",
   "metadata": {},
   "outputs": [
    {
     "data": {
      "text/html": [
       "\n",
       "        <table>\n",
       "            <tr>\n",
       "                <td><strong>Reaction identifier</strong></td><td>TRPabcpp</td>\n",
       "            </tr><tr>\n",
       "                <td><strong>Name</strong></td><td>L_trp transport via ABC system</td>\n",
       "            </tr><tr>\n",
       "                <td><strong>Memory address</strong></td>\n",
       "                <td>0x026a412bc748</td>\n",
       "            </tr><tr>\n",
       "                <td><strong>Stoichiometry</strong></td>\n",
       "                <td>\n",
       "                    <p style='text-align:right'>atp_c + h2o_c + trp_L_e --> adp_c + h_c + pi_c + trp_L_c</p>\n",
       "                    <p style='text-align:right'>ATP + H2O + L_Tryptophan --> ADP + H+ + Phosphate + L_Tryptophan</p>\n",
       "                </td>\n",
       "            </tr><tr>\n",
       "                <td><strong>GPR</strong></td><td></td>\n",
       "            </tr><tr>\n",
       "                <td><strong>Lower bound</strong></td><td>0.0</td>\n",
       "            </tr><tr>\n",
       "                <td><strong>Upper bound</strong></td><td>77.3942899999993</td>\n",
       "            </tr>\n",
       "        </table>\n",
       "        "
      ],
      "text/plain": [
       "<Reaction TRPabcpp at 0x26a412bc748>"
      ]
     },
     "execution_count": 7,
     "metadata": {},
     "output_type": "execute_result"
    }
   ],
   "source": [
    "model.reactions.TRPabcpp"
   ]
  },
  {
   "cell_type": "code",
   "execution_count": 8,
   "id": "87ff829f",
   "metadata": {
    "scrolled": true
   },
   "outputs": [
    {
     "data": {
      "text/html": [
       "\n",
       "        <table>\n",
       "            <tr>\n",
       "                <td><strong>Reaction identifier</strong></td><td>CrTdc</td>\n",
       "            </tr><tr>\n",
       "                <td><strong>Name</strong></td><td></td>\n",
       "            </tr><tr>\n",
       "                <td><strong>Memory address</strong></td>\n",
       "                <td>0x026a410d1fd0</td>\n",
       "            </tr><tr>\n",
       "                <td><strong>Stoichiometry</strong></td>\n",
       "                <td>\n",
       "                    <p style='text-align:right'>trp_L_c --> co2_c + tryp_c</p>\n",
       "                    <p style='text-align:right'>L_Tryptophan --> CO2 + tryptamine</p>\n",
       "                </td>\n",
       "            </tr><tr>\n",
       "                <td><strong>GPR</strong></td><td></td>\n",
       "            </tr><tr>\n",
       "                <td><strong>Lower bound</strong></td><td>0.0</td>\n",
       "            </tr><tr>\n",
       "                <td><strong>Upper bound</strong></td><td>1000.0</td>\n",
       "            </tr>\n",
       "        </table>\n",
       "        "
      ],
      "text/plain": [
       "<Reaction CrTdc at 0x26a410d1fd0>"
      ]
     },
     "execution_count": 8,
     "metadata": {},
     "output_type": "execute_result"
    }
   ],
   "source": [
    "model.reactions.CrTdc"
   ]
  },
  {
   "cell_type": "code",
   "execution_count": 9,
   "id": "6604ac1a",
   "metadata": {},
   "outputs": [
    {
     "data": {
      "text/html": [
       "\n",
       "        <table>\n",
       "            <tr>\n",
       "                <td><strong>Reaction identifier</strong></td><td>psiH</td>\n",
       "            </tr><tr>\n",
       "                <td><strong>Name</strong></td><td></td>\n",
       "            </tr><tr>\n",
       "                <td><strong>Memory address</strong></td>\n",
       "                <td>0x026a410d1ac8</td>\n",
       "            </tr><tr>\n",
       "                <td><strong>Stoichiometry</strong></td>\n",
       "                <td>\n",
       "                    <p style='text-align:right'>2 nadph_c + o2_c + tryp_c --> _4htryp_c + h2o_c + 2 nadp_c</p>\n",
       "                    <p style='text-align:right'>2 Nicotinamide adenine dinucleotide phosphate - reduced + O2 + tryptamine --> 4-Hydroxytryptamine + H2O + 2 Nicotinamide adenine dinucleotide phosphate</p>\n",
       "                </td>\n",
       "            </tr><tr>\n",
       "                <td><strong>GPR</strong></td><td></td>\n",
       "            </tr><tr>\n",
       "                <td><strong>Lower bound</strong></td><td>0.0</td>\n",
       "            </tr><tr>\n",
       "                <td><strong>Upper bound</strong></td><td>1000.0</td>\n",
       "            </tr>\n",
       "        </table>\n",
       "        "
      ],
      "text/plain": [
       "<Reaction psiH at 0x26a410d1ac8>"
      ]
     },
     "execution_count": 9,
     "metadata": {},
     "output_type": "execute_result"
    }
   ],
   "source": [
    "model.reactions.psiH"
   ]
  },
  {
   "cell_type": "code",
   "execution_count": 10,
   "id": "8b504691",
   "metadata": {
    "scrolled": true
   },
   "outputs": [
    {
     "data": {
      "text/html": [
       "\n",
       "        <table>\n",
       "            <tr>\n",
       "                <td><strong>Reaction identifier</strong></td><td>psiK</td>\n",
       "            </tr><tr>\n",
       "                <td><strong>Name</strong></td><td></td>\n",
       "            </tr><tr>\n",
       "                <td><strong>Memory address</strong></td>\n",
       "                <td>0x026a410d1eb8</td>\n",
       "            </tr><tr>\n",
       "                <td><strong>Stoichiometry</strong></td>\n",
       "                <td>\n",
       "                    <p style='text-align:right'>_4htryp_c + atp_c --> adp_c + nbc_c</p>\n",
       "                    <p style='text-align:right'>4-Hydroxytryptamine + ATP --> ADP + Norbaeocystin</p>\n",
       "                </td>\n",
       "            </tr><tr>\n",
       "                <td><strong>GPR</strong></td><td></td>\n",
       "            </tr><tr>\n",
       "                <td><strong>Lower bound</strong></td><td>0.0</td>\n",
       "            </tr><tr>\n",
       "                <td><strong>Upper bound</strong></td><td>1000.0</td>\n",
       "            </tr>\n",
       "        </table>\n",
       "        "
      ],
      "text/plain": [
       "<Reaction psiK at 0x26a410d1eb8>"
      ]
     },
     "execution_count": 10,
     "metadata": {},
     "output_type": "execute_result"
    }
   ],
   "source": [
    "model.reactions.psiK"
   ]
  },
  {
   "cell_type": "code",
   "execution_count": 11,
   "id": "3ae0ac24",
   "metadata": {},
   "outputs": [
    {
     "data": {
      "text/html": [
       "\n",
       "        <table>\n",
       "            <tr>\n",
       "                <td><strong>Reaction identifier</strong></td><td>psiM</td>\n",
       "            </tr><tr>\n",
       "                <td><strong>Name</strong></td><td></td>\n",
       "            </tr><tr>\n",
       "                <td><strong>Memory address</strong></td>\n",
       "                <td>0x026a410d1e48</td>\n",
       "            </tr><tr>\n",
       "                <td><strong>Stoichiometry</strong></td>\n",
       "                <td>\n",
       "                    <p style='text-align:right'>amet_c + nbc_c --> ahcys_c + baecyst_c</p>\n",
       "                    <p style='text-align:right'>S-AdenosyL_L_methionine + Norbaeocystin --> S-AdenosyL_L_homocysteine + Baeocystin</p>\n",
       "                </td>\n",
       "            </tr><tr>\n",
       "                <td><strong>GPR</strong></td><td></td>\n",
       "            </tr><tr>\n",
       "                <td><strong>Lower bound</strong></td><td>0.0</td>\n",
       "            </tr><tr>\n",
       "                <td><strong>Upper bound</strong></td><td>1000.0</td>\n",
       "            </tr>\n",
       "        </table>\n",
       "        "
      ],
      "text/plain": [
       "<Reaction psiM at 0x26a410d1e48>"
      ]
     },
     "execution_count": 11,
     "metadata": {},
     "output_type": "execute_result"
    }
   ],
   "source": [
    "model.reactions.psiM"
   ]
  },
  {
   "cell_type": "code",
   "execution_count": 12,
   "id": "950374cc",
   "metadata": {},
   "outputs": [
    {
     "data": {
      "text/html": [
       "\n",
       "        <table>\n",
       "            <tr>\n",
       "                <td><strong>Reaction identifier</strong></td><td>psiM2</td>\n",
       "            </tr><tr>\n",
       "                <td><strong>Name</strong></td><td></td>\n",
       "            </tr><tr>\n",
       "                <td><strong>Memory address</strong></td>\n",
       "                <td>0x026a410d1d30</td>\n",
       "            </tr><tr>\n",
       "                <td><strong>Stoichiometry</strong></td>\n",
       "                <td>\n",
       "                    <p style='text-align:right'>amet_c + baecyst_c --> ahcys_c + psi_c</p>\n",
       "                    <p style='text-align:right'>S-AdenosyL_L_methionine + Baeocystin --> S-AdenosyL_L_homocysteine + Psilocybin</p>\n",
       "                </td>\n",
       "            </tr><tr>\n",
       "                <td><strong>GPR</strong></td><td></td>\n",
       "            </tr><tr>\n",
       "                <td><strong>Lower bound</strong></td><td>0.0</td>\n",
       "            </tr><tr>\n",
       "                <td><strong>Upper bound</strong></td><td>1000.0</td>\n",
       "            </tr>\n",
       "        </table>\n",
       "        "
      ],
      "text/plain": [
       "<Reaction psiM2 at 0x26a410d1d30>"
      ]
     },
     "execution_count": 12,
     "metadata": {},
     "output_type": "execute_result"
    }
   ],
   "source": [
    "model.reactions.psiM2"
   ]
  },
  {
   "cell_type": "code",
   "execution_count": 14,
   "id": "9f87fee7",
   "metadata": {},
   "outputs": [],
   "source": [
    "#model.reactions.psiK2"
   ]
  },
  {
   "cell_type": "code",
   "execution_count": 16,
   "id": "ae722688",
   "metadata": {
    "scrolled": true
   },
   "outputs": [],
   "source": [
    "#model.reactions.pho"
   ]
  },
  {
   "cell_type": "markdown",
   "id": "cef38860",
   "metadata": {},
   "source": [
    "# Set Bounds Here"
   ]
  },
  {
   "cell_type": "code",
   "execution_count": 30,
   "id": "c5463172",
   "metadata": {},
   "outputs": [],
   "source": [
    "#model.reactions.TRPS1.upper_bound=100 #ensure tryptophan production, explore media later. \n",
    "#model.reactions.TRPS1.lower_bound=.1\n",
    "\n",
    "model.reactions.TRPt2rpp.upper_bound=0 #Knock out tryptophan exporter.\n",
    "model.reactions.TRPt2rpp.lower_bound=0"
   ]
  },
  {
   "cell_type": "code",
   "execution_count": 31,
   "id": "ff6af6f9",
   "metadata": {},
   "outputs": [
    {
     "data": {
      "text/html": [
       "\n",
       "        <table>\n",
       "            <tr>\n",
       "                <td><strong>Reaction identifier</strong></td><td>TRPS1</td>\n",
       "            </tr><tr>\n",
       "                <td><strong>Name</strong></td><td>tryptophan synthase (indoleglycerol phosphate)</td>\n",
       "            </tr><tr>\n",
       "                <td><strong>Memory address</strong></td>\n",
       "                <td>0x026a41335908</td>\n",
       "            </tr><tr>\n",
       "                <td><strong>Stoichiometry</strong></td>\n",
       "                <td>\n",
       "                    <p style='text-align:right'>3ig3p_c + ser_L_c --> g3p_c + h2o_c + trp_L_c</p>\n",
       "                    <p style='text-align:right'>C'-(3-Indolyl)-glycerol 3-phosphate + L_Serine --> Glyceraldehyde 3-phosphate + H2O + L_Tryptophan</p>\n",
       "                </td>\n",
       "            </tr><tr>\n",
       "                <td><strong>GPR</strong></td><td>cg3363 and cg3364</td>\n",
       "            </tr><tr>\n",
       "                <td><strong>Lower bound</strong></td><td>0.1</td>\n",
       "            </tr><tr>\n",
       "                <td><strong>Upper bound</strong></td><td>100</td>\n",
       "            </tr>\n",
       "        </table>\n",
       "        "
      ],
      "text/plain": [
       "<Reaction TRPS1 at 0x26a41335908>"
      ]
     },
     "execution_count": 31,
     "metadata": {},
     "output_type": "execute_result"
    }
   ],
   "source": [
    "model.reactions.TRPS1"
   ]
  },
  {
   "cell_type": "markdown",
   "id": "cfa55ff3",
   "metadata": {},
   "source": [
    "# Resulting Flux Optimized for Psi Production"
   ]
  },
  {
   "cell_type": "code",
   "execution_count": 32,
   "id": "94ce68eb",
   "metadata": {
    "scrolled": true
   },
   "outputs": [
    {
     "name": "stdout",
     "output_type": "stream",
     "text": [
      "every reaction going toward psilocybin\n",
      "Max. psi production [mmol gDW^-1 h^-1]: 0.08776019008215959\n",
      "tryptamine [mmol gDW^-1 h^-1]: 0.0\n",
      "4-Hydroxytryptamine [mmol gDW^-1 h^-1]: 0.0\n",
      "\n"
     ]
    }
   ],
   "source": [
    "with model:\n",
    "    model.objective = model.reactions.EX_psi_e\n",
    "    print(\"every reaction going toward psilocybin\")\n",
    "    \n",
    "    print(\"Max. psi production [mmol gDW^-1 h^-1]:\",model.optimize().objective_value)\n",
    "    print(\"tryptamine [mmol gDW^-1 h^-1]:\",model.reactions.CrTdc.flux)\n",
    "    print(\"4-Hydroxytryptamine [mmol gDW^-1 h^-1]:\",model.reactions.psiH.flux)\n",
    "    print(\"\")\n",
    "    "
   ]
  },
  {
   "cell_type": "code",
   "execution_count": 35,
   "id": "b1dad1c6",
   "metadata": {
    "scrolled": true
   },
   "outputs": [
    {
     "data": {
      "text/plain": [
       "{'EX_ca2_e': 0.0144877134286247,\n",
       " 'EX_cobalt2_e': 7.00338234344926e-05,\n",
       " 'EX_cu2_e': 0.00197271722237563,\n",
       " 'EX_fe2_e': 0.16239125,\n",
       " 'EX_fe3_e': 0.0217300637039616,\n",
       " 'EX_glc_e': 4.67,\n",
       " 'EX_k_e': 0.543285250115532,\n",
       " 'EX_mg2_e': 0.0241459221505149,\n",
       " 'EX_mn2_e': 0.00192443552016793,\n",
       " 'EX_nh4_e': 11.9121416666662,\n",
       " 'EX_ni2_e': 0.00089824250292982,\n",
       " 'EX_o2_e': 16.5067783333334,\n",
       " 'EX_pi_e': 0.918000000000888,\n",
       " 'EX_so4_e': 4.01673156249995,\n",
       " 'EX_zn2_e': 0.000948926279874219,\n",
       " 'EX_BIOTIN': 1.01925397503027e-06,\n",
       " 'EX_cl': 0.0144877134286247,\n",
       " 'EX_psi_e': 1000.0}"
      ]
     },
     "execution_count": 35,
     "metadata": {},
     "output_type": "execute_result"
    }
   ],
   "source": [
    "model.medium"
   ]
  },
  {
   "cell_type": "code",
   "execution_count": 33,
   "id": "37c1adec",
   "metadata": {},
   "outputs": [
    {
     "name": "stdout",
     "output_type": "stream",
     "text": [
      "every reaction going from Typtophan\n",
      "Max. psi production [mmol gDW^-1 h^-1]: 0.08776019008215959\n",
      "TRPTRS [mmol gDW^-1 h^-1]: 0.0\n",
      "TRPS2 [mmol gDW^-1 h^-1]: 0.0\n",
      "CrTdc [mmol gDW^-1 h^-1]: 0.0\n",
      "TRPS1 [mmol gDW^-1 h^-1]: 0.1\n",
      "TRPt2rpp [mmol gDW^-1 h^-1]: -0.08776019008215953\n",
      "TRPabcpp [mmol gDW^-1 h^-1]: 0.0\n",
      "PROTEIN [mmol gDW^-1 h^-1]: 0.21896294956690587\n"
     ]
    }
   ],
   "source": [
    "with model:\n",
    "    model.objective = model.reactions.EX_psi_e\n",
    "    print(\"every reaction going from Typtophan\")\n",
    "    \n",
    "    print(\"Max. psi production [mmol gDW^-1 h^-1]:\",model.optimize().objective_value)\n",
    "    print(\"TRPTRS [mmol gDW^-1 h^-1]:\",model.reactions.TRPTRS.flux)\n",
    "    print(\"TRPS2 [mmol gDW^-1 h^-1]:\",model.reactions.TRPS2.flux)\n",
    "    print(\"CrTdc [mmol gDW^-1 h^-1]:\",model.reactions.CrTdc.flux)\n",
    "    print(\"TRPS1 [mmol gDW^-1 h^-1]:\",model.reactions.TRPS1.flux)\n",
    "    print(\"TRPt2rpp [mmol gDW^-1 h^-1]:\",model.reactions.TRPt2rpp.flux)\n",
    "    print(\"TRPabcpp [mmol gDW^-1 h^-1]:\",model.reactions.TRPabcpp.flux)\n",
    "    print(\"PROTEIN [mmol gDW^-1 h^-1]:\",model.reactions.PROTEIN.flux)\n",
    "    \n",
    "    "
   ]
  },
  {
   "cell_type": "markdown",
   "id": "26563ddb",
   "metadata": {},
   "source": [
    "not viable to knock out protein production"
   ]
  },
  {
   "cell_type": "code",
   "execution_count": 28,
   "id": "785ac76e",
   "metadata": {},
   "outputs": [
    {
     "data": {
      "text/html": [
       "\n",
       "        <table>\n",
       "            <tr>\n",
       "                <td><strong>Reaction identifier</strong></td><td>TRPt2rpp</td>\n",
       "            </tr><tr>\n",
       "                <td><strong>Name</strong></td><td>L_tryptophan reversible transport via proton symport</td>\n",
       "            </tr><tr>\n",
       "                <td><strong>Memory address</strong></td>\n",
       "                <td>0x026a412bc940</td>\n",
       "            </tr><tr>\n",
       "                <td><strong>Stoichiometry</strong></td>\n",
       "                <td>\n",
       "                    <p style='text-align:right'>h_e + trp_L_e --> h_c + trp_L_c</p>\n",
       "                    <p style='text-align:right'>H+ + L_Tryptophan --> H+ + L_Tryptophan</p>\n",
       "                </td>\n",
       "            </tr><tr>\n",
       "                <td><strong>GPR</strong></td><td>cg1257</td>\n",
       "            </tr><tr>\n",
       "                <td><strong>Lower bound</strong></td><td>0</td>\n",
       "            </tr><tr>\n",
       "                <td><strong>Upper bound</strong></td><td>0</td>\n",
       "            </tr>\n",
       "        </table>\n",
       "        "
      ],
      "text/plain": [
       "<Reaction TRPt2rpp at 0x26a412bc940>"
      ]
     },
     "execution_count": 28,
     "metadata": {},
     "output_type": "execute_result"
    }
   ],
   "source": [
    "model.reactions.TRPt2rpp"
   ]
  },
  {
   "cell_type": "code",
   "execution_count": null,
   "id": "26544e05",
   "metadata": {},
   "outputs": [],
   "source": []
  },
  {
   "cell_type": "code",
   "execution_count": null,
   "id": "9ca40ade",
   "metadata": {},
   "outputs": [],
   "source": []
  },
  {
   "cell_type": "code",
   "execution_count": null,
   "id": "5100c43b",
   "metadata": {},
   "outputs": [],
   "source": []
  },
  {
   "cell_type": "code",
   "execution_count": null,
   "id": "4895f043",
   "metadata": {},
   "outputs": [],
   "source": []
  }
 ],
 "metadata": {
  "kernelspec": {
   "display_name": "Python 3",
   "language": "python",
   "name": "python3"
  },
  "language_info": {
   "codemirror_mode": {
    "name": "ipython",
    "version": 3
   },
   "file_extension": ".py",
   "mimetype": "text/x-python",
   "name": "python",
   "nbconvert_exporter": "python",
   "pygments_lexer": "ipython3",
   "version": "3.6.13"
  }
 },
 "nbformat": 4,
 "nbformat_minor": 5
}
