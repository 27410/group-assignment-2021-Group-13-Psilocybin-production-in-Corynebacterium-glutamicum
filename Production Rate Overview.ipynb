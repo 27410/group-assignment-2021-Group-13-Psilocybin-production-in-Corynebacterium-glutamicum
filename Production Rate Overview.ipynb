{
 "cells": [
  {
   "cell_type": "code",
   "execution_count": 1,
   "id": "28cc9eb2",
   "metadata": {
    "scrolled": false
   },
   "outputs": [
    {
     "name": "stderr",
     "output_type": "stream",
     "text": [
      "No objective coefficients in model. Unclear what should be optimized\n"
     ]
    }
   ],
   "source": [
    "%run 2021_11_02_Psilocybin_in_Cg_Exchange_Function.ipynb #change model source here"
   ]
  },
  {
   "cell_type": "code",
   "execution_count": 2,
   "id": "208bde84",
   "metadata": {},
   "outputs": [],
   "source": [
    "from cobra.io import read_sbml_model\n",
    "from cobra.medium import minimal_medium\n",
    "import pandas as pd\n",
    "import matplotlib.pyplot as plt\n",
    "\n",
    "#max_growth = model.slim_optimize()\n",
    "#model.medium = minimal_medium(model, max_growth)"
   ]
  },
  {
   "cell_type": "code",
   "execution_count": 3,
   "id": "ad065fd9",
   "metadata": {},
   "outputs": [],
   "source": [
    "target = model.reactions.EX_psi_e"
   ]
  },
  {
   "cell_type": "code",
   "execution_count": 4,
   "id": "bda1c6bf",
   "metadata": {
    "scrolled": false
   },
   "outputs": [],
   "source": [
    "#model.reactions.EX_psi_e"
   ]
  },
  {
   "cell_type": "code",
   "execution_count": 5,
   "id": "cb2511b2",
   "metadata": {},
   "outputs": [],
   "source": [
    "#model.reactions.EX_psi_e.upper_bound=0"
   ]
  },
  {
   "cell_type": "code",
   "execution_count": 6,
   "id": "7ba34423",
   "metadata": {},
   "outputs": [
    {
     "name": "stdout",
     "output_type": "stream",
     "text": [
      "5.69299883708285e-05\n"
     ]
    }
   ],
   "source": [
    "with model:\n",
    "    model.objective = target\n",
    "    print(model.optimize().objective_value)"
   ]
  },
  {
   "cell_type": "markdown",
   "id": "739556bb",
   "metadata": {},
   "source": [
    "# Overview of Reactions"
   ]
  },
  {
   "cell_type": "code",
   "execution_count": 7,
   "id": "d586cdf6",
   "metadata": {},
   "outputs": [],
   "source": [
    "#for x in model.reactions:\n",
    " #   print(\"%s : %s\" % (x.id, x.reaction))"
   ]
  },
  {
   "cell_type": "code",
   "execution_count": 8,
   "id": "d311b5bd",
   "metadata": {},
   "outputs": [
    {
     "data": {
      "text/plain": [
       "[<Reaction psiK2 at 0x23f35120588>,\n",
       " <Reaction psiM2 at 0x23f351202b0>,\n",
       " <Reaction pho at 0x23f35120208>,\n",
       " <Reaction psitpp at 0x23f35120550>]"
      ]
     },
     "execution_count": 8,
     "metadata": {},
     "output_type": "execute_result"
    }
   ],
   "source": [
    "model.reactions.query('psi_c','reaction')"
   ]
  },
  {
   "cell_type": "code",
   "execution_count": 9,
   "id": "25ea983c",
   "metadata": {
    "scrolled": true
   },
   "outputs": [
    {
     "name": "stdout",
     "output_type": "stream",
     "text": [
      "TRPabcpp : atp_c + h2o_c + trp_L_e --> adp_c + h_c + pi_c + trp_L_c\n",
      "TRPt2rpp : h_e + trp_L_e <-- h_c + trp_L_c\n",
      "TRPTRS : atp_c + trnatrp_c + trp_L_c --> amp_c + ppi_c + trptrna_c\n",
      "TRPS1 : 3ig3p_c + ser_L_c --> g3p_c + h2o_c + trp_L_c\n",
      "TRPS2 : indole_c + ser_L_c --> h2o_c + trp_L_c\n",
      "PROTEIN : 1.3527 ala_L_c + 0.38519 arg_L_c + 0.39281 asn_L_c + 0.39281 asp_L_c + 40.0656 atp_c + 0.089437 cys_L_c + 0.69314 gln_L_c + 1.1139 glu_L_c + 0.71651 gly_c + 30.7601 h2o_c + 0.13619 his_L_c + 0.38316 ile_L_c + 0.71347 leu_L_c + 0.37909 lys_L_c + 0.15347 met_L_c + 0.26018 phe_L_c + 0.32319 pro_L_c + 0.498 ser_L_c + 0.5539 thr_L_c + 0.055899 trp_L_c + 0.15753 tyr_L_c + 0.55492 vaL_L_c --> 40.0656 adp_c + 40.0656 h_c + 40.0656 pi_c + protein_c\n",
      "CrTdc : trp_L_c --> co2_c + tryp_c\n"
     ]
    }
   ],
   "source": [
    "for x in model.reactions.query('trp_L_c','reaction'):\n",
    "    print(\"%s : %s\" % (x.id, x.reaction)) #lists all reactions containing tryptophan_c"
   ]
  },
  {
   "cell_type": "code",
   "execution_count": null,
   "id": "4a251173",
   "metadata": {
    "scrolled": true
   },
   "outputs": [],
   "source": []
  },
  {
   "cell_type": "code",
   "execution_count": 10,
   "id": "647e577a",
   "metadata": {
    "scrolled": true
   },
   "outputs": [
    {
     "name": "stdout",
     "output_type": "stream",
     "text": [
      "CrTdc : trp_L_c --> co2_c + tryp_c\n",
      "psiH : 2 nadph_c + o2_c + tryp_c --> _4htryp_c + h2o_c + 2 nadp_c\n",
      "psiK : _4htryp_c + atp_c --> adp_c + nbc_c\n",
      "psiM : amet_c + nbc_c --> ahcys_c + baecyst_c\n",
      "psiM2 : amet_c + baecyst_c --> ahcys_c + psi_c\n"
     ]
    }
   ],
   "source": [
    "print(model.reactions.CrTdc.id, ':', model.reactions.CrTdc.reaction)\n",
    "print(model.reactions.psiH.id, ':', model.reactions.psiH.reaction)\n",
    "print(model.reactions.psiK.id, ':', model.reactions.psiK.reaction)\n",
    "print(model.reactions.psiM.id, ':', model.reactions.psiM.reaction)\n",
    "print(model.reactions.psiM2.id, ':', model.reactions.psiM2.reaction)\n",
    "\n",
    "#print(model.reactions.pho.reaction)\n",
    "#print(model.reactions.psiK2.reaction)"
   ]
  },
  {
   "cell_type": "markdown",
   "id": "cef38860",
   "metadata": {},
   "source": [
    "# Set Bounds Here"
   ]
  },
  {
   "cell_type": "code",
   "execution_count": 11,
   "id": "c5463172",
   "metadata": {},
   "outputs": [],
   "source": [
    "#model.reactions.TRPS1.upper_bound=100 #ensure tryptophan production, explore media later. \n",
    "#model.reactions.TRPS1.lower_bound=.1\n",
    "\n",
    "#model.reactions.TRPt2rpp.upper_bound=0 #Knock out tryptophan exporter.\n",
    "#model.reactions.TRPt2rpp.lower_bound=0\n",
    "#model.reactions.TRPt2rpp.bounds =0,0"
   ]
  },
  {
   "cell_type": "code",
   "execution_count": 12,
   "id": "ff6af6f9",
   "metadata": {},
   "outputs": [],
   "source": [
    "#model.reactions.TRPS1"
   ]
  },
  {
   "cell_type": "markdown",
   "id": "cfa55ff3",
   "metadata": {},
   "source": [
    "# Resulting Flux Optimized for Psi Production\n",
    "\n",
    "There's a lot of me messing around here"
   ]
  },
  {
   "cell_type": "code",
   "execution_count": 13,
   "id": "8a945135",
   "metadata": {
    "scrolled": false
   },
   "outputs": [
    {
     "data": {
      "text/plain": [
       "{'EX_ca2_e': 0.0144877134286247,\n",
       " 'EX_cobalt2_e': 7.00338234344926e-05,\n",
       " 'EX_cu2_e': 0.00197271722237563,\n",
       " 'EX_fe2_e': 0.16239125,\n",
       " 'EX_fe3_e': 0.0217300637039616,\n",
       " 'EX_glc_e': 4.67,\n",
       " 'EX_k_e': 0.543285250115532,\n",
       " 'EX_mg2_e': 0.0241459221505149,\n",
       " 'EX_mn2_e': 0.00192443552016793,\n",
       " 'EX_nh4_e': 11.9121416666662,\n",
       " 'EX_ni2_e': 0.00089824250292982,\n",
       " 'EX_o2_e': 16.5067783333334,\n",
       " 'EX_pi_e': 0.918000000000888,\n",
       " 'EX_so4_e': 4.01673156249995,\n",
       " 'EX_zn2_e': 0.000948926279874219,\n",
       " 'EX_BIOTIN': 1.01925397503027e-06,\n",
       " 'EX_cl': 0.0144877134286247,\n",
       " 'EX_psi_e': 1000.0}"
      ]
     },
     "execution_count": 13,
     "metadata": {},
     "output_type": "execute_result"
    }
   ],
   "source": [
    "model.medium"
   ]
  },
  {
   "cell_type": "markdown",
   "id": "1dce39f8",
   "metadata": {},
   "source": [
    "## before messing with media"
   ]
  },
  {
   "cell_type": "code",
   "execution_count": 14,
   "id": "057b84e0",
   "metadata": {},
   "outputs": [
    {
     "name": "stdout",
     "output_type": "stream",
     "text": [
      "every reaction going toward psilocybin\n",
      "Max. psi production [mmol gDW^-1 h^-1]: 5.69299883708285e-05\n",
      "Is there glucose uptake? -4.116294619992247\n",
      "Is there growth? 0.0\n",
      "tryptamine [mmol gDW^-1 h^-1]: 5.69299883708285e-05\n",
      "4-Hydroxytryptamine [mmol gDW^-1 h^-1]: 5.69299883708285e-05\n",
      "norbaeocystin [mmol gDW^-1 h^-1]: 5.69299883708285e-05\n",
      "baeocystin [mmol gDW^-1 h^-1]: 5.69299883708285e-05\n",
      "psilocybin [mmol gDW^-1 h^-1]: 5.69299883708285e-05\n",
      "transport [mmol gDW^-1 h^-1]: 5.69299883708285e-05\n",
      "out [mmol gDW^-1 h^-1]: 5.69299883708285e-05\n"
     ]
    }
   ],
   "source": [
    "with model:\n",
    "    model.objective = target\n",
    "    print(\"every reaction going toward psilocybin\")\n",
    "    \n",
    "    print(\"Max. psi production [mmol gDW^-1 h^-1]:\",model.optimize().objective_value)\n",
    "    \n",
    "    print(\"Is there glucose uptake?\",model.reactions.EX_glc_e.flux)\n",
    "    print(\"Is there growth?\",model.reactions.CG_biomass_cgl_ATCC13032.flux)\n",
    "    \n",
    "    print(\"tryptamine [mmol gDW^-1 h^-1]:\",model.reactions.CrTdc.flux)\n",
    "    print(\"4-Hydroxytryptamine [mmol gDW^-1 h^-1]:\",model.reactions.psiH.flux)\n",
    "    print(\"norbaeocystin [mmol gDW^-1 h^-1]:\",model.reactions.psiK.flux)\n",
    "    print(\"baeocystin [mmol gDW^-1 h^-1]:\",model.reactions.psiM.flux)\n",
    "    print(\"psilocybin [mmol gDW^-1 h^-1]:\",model.reactions.psiM2.flux)\n",
    "    print(\"transport [mmol gDW^-1 h^-1]:\",model.reactions.psitpp.flux)\n",
    "    print(\"out [mmol gDW^-1 h^-1]:\",target.flux)"
   ]
  },
  {
   "cell_type": "code",
   "execution_count": 15,
   "id": "9ed4c76f",
   "metadata": {
    "scrolled": true
   },
   "outputs": [
    {
     "name": "stdout",
     "output_type": "stream",
     "text": [
      "every reaction going from Typtophan\n",
      "Max. psi production [mmol gDW^-1 h^-1]: 5.69299883708285e-05\n",
      "TRPTRS [mmol gDW^-1 h^-1]: 0.0\n",
      "TRPS2 [mmol gDW^-1 h^-1]: 0.0\n",
      "CrTdc [mmol gDW^-1 h^-1]: 5.69299883708285e-05\n",
      "TRPS1 [mmol gDW^-1 h^-1]: 5.69299883708285e-05\n",
      "TRPt2rpp [mmol gDW^-1 h^-1]: 0.0\n",
      "TRPabcpp [mmol gDW^-1 h^-1]: 0.0\n",
      "PROTEIN [mmol gDW^-1 h^-1]: 0.0\n"
     ]
    }
   ],
   "source": [
    "with model:\n",
    "    model.objective = target\n",
    "    print(\"every reaction going from Typtophan\")\n",
    "    \n",
    "    print(\"Max. psi production [mmol gDW^-1 h^-1]:\",model.optimize().objective_value)\n",
    "    print(\"TRPTRS [mmol gDW^-1 h^-1]:\",model.reactions.TRPTRS.flux)\n",
    "    print(\"TRPS2 [mmol gDW^-1 h^-1]:\",model.reactions.TRPS2.flux)\n",
    "    print(\"CrTdc [mmol gDW^-1 h^-1]:\",model.reactions.CrTdc.flux)\n",
    "    print(\"TRPS1 [mmol gDW^-1 h^-1]:\",model.reactions.TRPS1.flux)\n",
    "    print(\"TRPt2rpp [mmol gDW^-1 h^-1]:\",model.reactions.TRPt2rpp.flux)\n",
    "    print(\"TRPabcpp [mmol gDW^-1 h^-1]:\",model.reactions.TRPabcpp.flux)\n",
    "    print(\"PROTEIN [mmol gDW^-1 h^-1]:\",model.reactions.PROTEIN.flux)\n",
    "    \n",
    "    "
   ]
  },
  {
   "cell_type": "markdown",
   "id": "eca50c64",
   "metadata": {},
   "source": [
    "Note growth rate of zero, as the production of psilocybin will be highest when there is no growth."
   ]
  },
  {
   "cell_type": "markdown",
   "id": "7c5cad7a",
   "metadata": {},
   "source": [
    "### And now if adding demand functions"
   ]
  },
  {
   "cell_type": "code",
   "execution_count": 16,
   "id": "66cbf336",
   "metadata": {},
   "outputs": [
    {
     "name": "stdout",
     "output_type": "stream",
     "text": [
      "Demand functions. For some reason, the solver can't actually check any of them,\n",
      "yet if they're not there the fluxes for psilocibin are zero. Strange\n"
     ]
    }
   ],
   "source": [
    "with model:\n",
    "    model.objective = target\n",
    "    print(\"Demand functions. For some reason, the solver can't actually check any of them,\") \n",
    "    print(\"yet if they're not there the fluxes for psilocibin are zero. Strange\")\n",
    "\n",
    "    #print(\"tryptamine [mmol gDW^-1 h^-1]:\",model.reactions.DM_tryp_c.flux)\n",
    "    #print(\"4-Hydroxytryptamine [mmol gDW^-1 h^-1]:\",model.reactions.DM__4htryp_c.flux)\n",
    "    #print(\"norbaeocystin [mmol gDW^-1 h^-1]:\",model.reactions.DM_nbc_c.flux)\n",
    "    #print(\"baeocystin [mmol gDW^-1 h^-1]:\",model.reactions.DM_psi_e.flux)\n",
    "    #print(\"psilocybin [mmol gDW^-1 h^-1]:\",model.reactions.DM_amet_c.flux)\n",
    "    #print(\"transport [mmol gDW^-1 h^-1]:\",model.reactions.DM_ahcys_c.flux)\n",
    "    #print(\"out [mmol gDW^-1 h^-1]:\",model.reactions.DM_psii_c.flux)"
   ]
  },
  {
   "cell_type": "code",
   "execution_count": 17,
   "id": "a2e6fd61",
   "metadata": {
    "scrolled": true
   },
   "outputs": [],
   "source": [
    "#model.reactions.query('EX_','id')"
   ]
  },
  {
   "cell_type": "code",
   "execution_count": 18,
   "id": "ffb60019",
   "metadata": {
    "scrolled": false
   },
   "outputs": [],
   "source": [
    "#model.reactions.EX_ala_L_e "
   ]
  },
  {
   "cell_type": "code",
   "execution_count": 19,
   "id": "77ffdcc2",
   "metadata": {},
   "outputs": [],
   "source": [
    "#model.reactions.TRPabcpp.lower_bound=10"
   ]
  },
  {
   "cell_type": "markdown",
   "id": "372a9066",
   "metadata": {},
   "source": [
    "## Modify Medium"
   ]
  },
  {
   "cell_type": "code",
   "execution_count": 20,
   "id": "8607f967",
   "metadata": {
    "scrolled": true
   },
   "outputs": [
    {
     "data": {
      "text/plain": [
       "{'EX_ala_L_e': 1000,\n",
       " 'EX_ca2_e': 0.0144877134286247,\n",
       " 'EX_cobalt2_e': 7.00338234344926e-05,\n",
       " 'EX_cu2_e': 0.00197271722237563,\n",
       " 'EX_fe2_e': 0.16239125,\n",
       " 'EX_fe3_e': 0.0217300637039616,\n",
       " 'EX_glc_e': 1000,\n",
       " 'EX_k_e': 0.543285250115532,\n",
       " 'EX_mg2_e': 0.0241459221505149,\n",
       " 'EX_mn2_e': 0.00192443552016793,\n",
       " 'EX_nh4_e': 11.9121416666662,\n",
       " 'EX_ni2_e': 0.00089824250292982,\n",
       " 'EX_o2_e': 10,\n",
       " 'EX_pi_e': 0.918000000000888,\n",
       " 'EX_so4_e': 4.01673156249995,\n",
       " 'EX_sucr_e': 1000,\n",
       " 'EX_zn2_e': 0.000948926279874219,\n",
       " 'EX_BIOTIN': 1.01925397503027e-06,\n",
       " 'EX_cl': 0.0144877134286247,\n",
       " 'EX_psi_e': 1000.0}"
      ]
     },
     "execution_count": 20,
     "metadata": {},
     "output_type": "execute_result"
    }
   ],
   "source": [
    "medium = model.medium\n",
    "medium[\"EX_glc_e\"] = 1000 \n",
    "medium[\"EX_o2_e\"] = 10\n",
    "medium[\"EX_sucr_e\"] = 1000\n",
    "medium[\"EX_trp_L_e\"] = 0\n",
    "medium[\"EX_ala_L_e\"] = 1000\n",
    "#medium[\"EX_psi_e\"] = 0\n",
    "\n",
    "\n",
    "model.medium = medium\n",
    "\n",
    "model.medium"
   ]
  },
  {
   "cell_type": "markdown",
   "id": "855557c0",
   "metadata": {},
   "source": [
    "## Set Bounds Here"
   ]
  },
  {
   "cell_type": "code",
   "execution_count": 21,
   "id": "a6ced187",
   "metadata": {},
   "outputs": [],
   "source": [
    "model.reactions.TRPS1.upper_bound=100 #ensure tryptophan production, explore media later. \n",
    "model.reactions.TRPS1.lower_bound=.1\n",
    "\n",
    "#model.reactions.TRPt2rpp.upper_bound=0 #Knock out tryptophan exporter.\n",
    "#model.reactions.TRPt2rpp.lower_bound=0\n",
    "model.reactions.TRPt2rpp.bounds =0,0.5 #downregulate tryptophan exporter"
   ]
  },
  {
   "cell_type": "code",
   "execution_count": 22,
   "id": "38a37cf6",
   "metadata": {},
   "outputs": [
    {
     "data": {
      "text/html": [
       "\n",
       "        <table>\n",
       "            <tr>\n",
       "                <td><strong>Reaction identifier</strong></td><td>TRPt2rpp</td>\n",
       "            </tr><tr>\n",
       "                <td><strong>Name</strong></td><td>L_tryptophan reversible transport via proton symport</td>\n",
       "            </tr><tr>\n",
       "                <td><strong>Memory address</strong></td>\n",
       "                <td>0x023f352f7ef0</td>\n",
       "            </tr><tr>\n",
       "                <td><strong>Stoichiometry</strong></td>\n",
       "                <td>\n",
       "                    <p style='text-align:right'>h_e + trp_L_e --> h_c + trp_L_c</p>\n",
       "                    <p style='text-align:right'>H+ + L_Tryptophan --> H+ + L_Tryptophan</p>\n",
       "                </td>\n",
       "            </tr><tr>\n",
       "                <td><strong>GPR</strong></td><td>cg1257</td>\n",
       "            </tr><tr>\n",
       "                <td><strong>Lower bound</strong></td><td>0</td>\n",
       "            </tr><tr>\n",
       "                <td><strong>Upper bound</strong></td><td>0.5</td>\n",
       "            </tr>\n",
       "        </table>\n",
       "        "
      ],
      "text/plain": [
       "<Reaction TRPt2rpp at 0x23f352f7ef0>"
      ]
     },
     "execution_count": 22,
     "metadata": {},
     "output_type": "execute_result"
    }
   ],
   "source": [
    "model.reactions.TRPt2rpp"
   ]
  },
  {
   "cell_type": "code",
   "execution_count": 23,
   "id": "224f8dcc",
   "metadata": {},
   "outputs": [],
   "source": [
    "model.reactions.CG_biomass_cgl_ATCC13032.lower_bound=0.1"
   ]
  },
  {
   "cell_type": "markdown",
   "id": "2b2865e9",
   "metadata": {},
   "source": [
    "## Result From Modified Medium"
   ]
  },
  {
   "cell_type": "code",
   "execution_count": 24,
   "id": "4aa7e980",
   "metadata": {
    "scrolled": true
   },
   "outputs": [
    {
     "data": {
      "text/html": [
       "\n",
       "        <table>\n",
       "            <tr>\n",
       "                <td><strong>Reaction identifier</strong></td><td>psiM2</td>\n",
       "            </tr><tr>\n",
       "                <td><strong>Name</strong></td><td></td>\n",
       "            </tr><tr>\n",
       "                <td><strong>Memory address</strong></td>\n",
       "                <td>0x023f351202b0</td>\n",
       "            </tr><tr>\n",
       "                <td><strong>Stoichiometry</strong></td>\n",
       "                <td>\n",
       "                    <p style='text-align:right'>amet_c + baecyst_c --> ahcys_c + psi_c</p>\n",
       "                    <p style='text-align:right'>S-AdenosyL_L_methionine + Baeocystin --> S-AdenosyL_L_homocysteine + Psilocybin</p>\n",
       "                </td>\n",
       "            </tr><tr>\n",
       "                <td><strong>GPR</strong></td><td></td>\n",
       "            </tr><tr>\n",
       "                <td><strong>Lower bound</strong></td><td>0.0</td>\n",
       "            </tr><tr>\n",
       "                <td><strong>Upper bound</strong></td><td>1000.0</td>\n",
       "            </tr>\n",
       "        </table>\n",
       "        "
      ],
      "text/plain": [
       "<Reaction psiM2 at 0x23f351202b0>"
      ]
     },
     "execution_count": 24,
     "metadata": {},
     "output_type": "execute_result"
    }
   ],
   "source": [
    "model.reactions.psiM2"
   ]
  },
  {
   "cell_type": "code",
   "execution_count": 25,
   "id": "94ce68eb",
   "metadata": {
    "scrolled": true
   },
   "outputs": [
    {
     "name": "stdout",
     "output_type": "stream",
     "text": [
      "every reaction going toward psilocybin\n",
      "Max. psi production [mmol gDW^-1 h^-1]: 4.365741867082851e-05\n",
      "Is there glucose uptake? -4.23869552879857\n",
      "Is there growth? 0.1\n",
      "tryptamine [mmol gDW^-1 h^-1]: 0.096979888828\n",
      "4-Hydroxytryptamine [mmol gDW^-1 h^-1]: 0.096979888828\n",
      "norbaeocystin [mmol gDW^-1 h^-1]: 4.365741867082851e-05\n",
      "baeocystin [mmol gDW^-1 h^-1]: 4.365741867082851e-05\n",
      "psilocybin [mmol gDW^-1 h^-1]: 4.365741867082851e-05\n",
      "pho [mmol gDW^-1 h^-1]: 0.0\n",
      "restore [mmol gDW^-1 h^-1]: 0.0\n",
      "transport [mmol gDW^-1 h^-1]: 4.365741867082851e-05\n",
      "out [mmol gDW^-1 h^-1]: 4.365741867082851e-05\n"
     ]
    }
   ],
   "source": [
    "with model:\n",
    "    model.objective = target\n",
    "    print(\"every reaction going toward psilocybin\")\n",
    "    \n",
    "    print(\"Max. psi production [mmol gDW^-1 h^-1]:\",model.optimize().objective_value)\n",
    "    \n",
    "    print(\"Is there glucose uptake?\",model.reactions.EX_glc_e.flux)\n",
    "    print(\"Is there growth?\",model.reactions.CG_biomass_cgl_ATCC13032.flux)\n",
    "    \n",
    "    print(\"tryptamine [mmol gDW^-1 h^-1]:\",model.reactions.CrTdc.flux)\n",
    "    print(\"4-Hydroxytryptamine [mmol gDW^-1 h^-1]:\",model.reactions.psiH.flux)\n",
    "    print(\"norbaeocystin [mmol gDW^-1 h^-1]:\",model.reactions.psiK.flux)\n",
    "    print(\"baeocystin [mmol gDW^-1 h^-1]:\",model.reactions.psiM.flux)\n",
    "    print(\"psilocybin [mmol gDW^-1 h^-1]:\",model.reactions.psiM2.flux)\n",
    "    print(\"pho [mmol gDW^-1 h^-1]:\",model.reactions.pho.flux)\n",
    "    print(\"restore [mmol gDW^-1 h^-1]:\",model.reactions.psiK2.flux)\n",
    "    print(\"transport [mmol gDW^-1 h^-1]:\",model.reactions.psitpp.flux)\n",
    "    print(\"out [mmol gDW^-1 h^-1]:\",target.flux)"
   ]
  },
  {
   "cell_type": "code",
   "execution_count": 26,
   "id": "37c1adec",
   "metadata": {
    "scrolled": false
   },
   "outputs": [
    {
     "name": "stdout",
     "output_type": "stream",
     "text": [
      "every reaction going from Typtophan\n",
      "Max. psi production [mmol gDW^-1 h^-1]: 4.365741867082851e-05\n",
      "TRPTRS [mmol gDW^-1 h^-1]: 0.0\n",
      "TRPS2 [mmol gDW^-1 h^-1]: 0.0\n",
      "CrTdc [mmol gDW^-1 h^-1]: 0.096979888828\n",
      "TRPS1 [mmol gDW^-1 h^-1]: 0.1\n",
      "TRPt2rpp [mmol gDW^-1 h^-1]: 0.0\n",
      "TRPabcpp [mmol gDW^-1 h^-1]: 0.0\n",
      "PROTEIN [mmol gDW^-1 h^-1]: 0.054028\n"
     ]
    }
   ],
   "source": [
    "with model:\n",
    "    model.objective = target\n",
    "    print(\"every reaction going from Typtophan\")\n",
    "    \n",
    "    print(\"Max. psi production [mmol gDW^-1 h^-1]:\",model.optimize().objective_value)\n",
    "    print(\"TRPTRS [mmol gDW^-1 h^-1]:\",model.reactions.TRPTRS.flux)\n",
    "    print(\"TRPS2 [mmol gDW^-1 h^-1]:\",model.reactions.TRPS2.flux)\n",
    "    print(\"CrTdc [mmol gDW^-1 h^-1]:\",model.reactions.CrTdc.flux)\n",
    "    print(\"TRPS1 [mmol gDW^-1 h^-1]:\",model.reactions.TRPS1.flux)\n",
    "    print(\"TRPt2rpp [mmol gDW^-1 h^-1]:\",model.reactions.TRPt2rpp.flux)\n",
    "    print(\"TRPabcpp [mmol gDW^-1 h^-1]:\",model.reactions.TRPabcpp.flux)\n",
    "    print(\"PROTEIN [mmol gDW^-1 h^-1]:\",model.reactions.PROTEIN.flux)\n",
    "    \n",
    "    "
   ]
  },
  {
   "cell_type": "code",
   "execution_count": 27,
   "id": "6cfc6763",
   "metadata": {},
   "outputs": [
    {
     "data": {
      "text/html": [
       "\n",
       "        <table>\n",
       "            <tr>\n",
       "                <td><strong>Reaction identifier</strong></td><td>TRPS1</td>\n",
       "            </tr><tr>\n",
       "                <td><strong>Name</strong></td><td>tryptophan synthase (indoleglycerol phosphate)</td>\n",
       "            </tr><tr>\n",
       "                <td><strong>Memory address</strong></td>\n",
       "                <td>0x023f35426c18</td>\n",
       "            </tr><tr>\n",
       "                <td><strong>Stoichiometry</strong></td>\n",
       "                <td>\n",
       "                    <p style='text-align:right'>3ig3p_c + ser_L_c --> g3p_c + h2o_c + trp_L_c</p>\n",
       "                    <p style='text-align:right'>C'-(3-Indolyl)-glycerol 3-phosphate + L_Serine --> Glyceraldehyde 3-phosphate + H2O + L_Tryptophan</p>\n",
       "                </td>\n",
       "            </tr><tr>\n",
       "                <td><strong>GPR</strong></td><td>cg3363 and cg3364</td>\n",
       "            </tr><tr>\n",
       "                <td><strong>Lower bound</strong></td><td>0.1</td>\n",
       "            </tr><tr>\n",
       "                <td><strong>Upper bound</strong></td><td>100</td>\n",
       "            </tr>\n",
       "        </table>\n",
       "        "
      ],
      "text/plain": [
       "<Reaction TRPS1 at 0x23f35426c18>"
      ]
     },
     "execution_count": 27,
     "metadata": {},
     "output_type": "execute_result"
    }
   ],
   "source": [
    "model.reactions.TRPS1  "
   ]
  },
  {
   "cell_type": "code",
   "execution_count": 28,
   "id": "cb108c47",
   "metadata": {
    "scrolled": true
   },
   "outputs": [
    {
     "data": {
      "text/html": [
       "\n",
       "        <table>\n",
       "            <tr>\n",
       "                <td><strong>Reaction identifier</strong></td><td>TRPt2rpp</td>\n",
       "            </tr><tr>\n",
       "                <td><strong>Name</strong></td><td>L_tryptophan reversible transport via proton symport</td>\n",
       "            </tr><tr>\n",
       "                <td><strong>Memory address</strong></td>\n",
       "                <td>0x023f352f7ef0</td>\n",
       "            </tr><tr>\n",
       "                <td><strong>Stoichiometry</strong></td>\n",
       "                <td>\n",
       "                    <p style='text-align:right'>h_e + trp_L_e --> h_c + trp_L_c</p>\n",
       "                    <p style='text-align:right'>H+ + L_Tryptophan --> H+ + L_Tryptophan</p>\n",
       "                </td>\n",
       "            </tr><tr>\n",
       "                <td><strong>GPR</strong></td><td>cg1257</td>\n",
       "            </tr><tr>\n",
       "                <td><strong>Lower bound</strong></td><td>0</td>\n",
       "            </tr><tr>\n",
       "                <td><strong>Upper bound</strong></td><td>0.5</td>\n",
       "            </tr>\n",
       "        </table>\n",
       "        "
      ],
      "text/plain": [
       "<Reaction TRPt2rpp at 0x23f352f7ef0>"
      ]
     },
     "execution_count": 28,
     "metadata": {},
     "output_type": "execute_result"
    }
   ],
   "source": [
    "model.reactions.TRPt2rpp #transport of tryptophan from cell"
   ]
  },
  {
   "cell_type": "markdown",
   "id": "26563ddb",
   "metadata": {},
   "source": [
    "not viable to knock out protein production"
   ]
  },
  {
   "cell_type": "code",
   "execution_count": 29,
   "id": "4895f043",
   "metadata": {
    "scrolled": true
   },
   "outputs": [
    {
     "data": {
      "text/plain": [
       "0.0"
      ]
     },
     "execution_count": 29,
     "metadata": {},
     "output_type": "execute_result"
    }
   ],
   "source": [
    "model.slim_optimize()"
   ]
  },
  {
   "cell_type": "markdown",
   "id": "48e9d528",
   "metadata": {},
   "source": [
    "# Adding amino acids"
   ]
  },
  {
   "cell_type": "code",
   "execution_count": 30,
   "id": "41ffcc5d",
   "metadata": {
    "scrolled": false
   },
   "outputs": [
    {
     "data": {
      "text/plain": [
       "[<Metabolite ala_B_c at 0x23f34ad8438>,\n",
       " <Metabolite ala_B_e at 0x23f34ad84e0>,\n",
       " <Metabolite ala_D_c at 0x23f34ad85f8>,\n",
       " <Metabolite ala_D_e at 0x23f34ad86a0>,\n",
       " <Metabolite ala_L_c at 0x23f34ad8748>,\n",
       " <Metabolite ala_L_e at 0x23f34ad87f0>]"
      ]
     },
     "execution_count": 30,
     "metadata": {},
     "output_type": "execute_result"
    }
   ],
   "source": [
    "model.metabolites.query('Alanine','name')"
   ]
  },
  {
   "cell_type": "code",
   "execution_count": 31,
   "id": "f7fbafc4",
   "metadata": {
    "scrolled": false
   },
   "outputs": [
    {
     "data": {
      "text/html": [
       "\n",
       "        <table>\n",
       "            <tr>\n",
       "                <td><strong>Reaction identifier</strong></td><td>EX_ala_L_e</td>\n",
       "            </tr><tr>\n",
       "                <td><strong>Name</strong></td><td>L_Alanine exchange</td>\n",
       "            </tr><tr>\n",
       "                <td><strong>Memory address</strong></td>\n",
       "                <td>0x023f34f98f98</td>\n",
       "            </tr><tr>\n",
       "                <td><strong>Stoichiometry</strong></td>\n",
       "                <td>\n",
       "                    <p style='text-align:right'>ala_L_e <=></p>\n",
       "                    <p style='text-align:right'>L_Alanine <=></p>\n",
       "                </td>\n",
       "            </tr><tr>\n",
       "                <td><strong>GPR</strong></td><td></td>\n",
       "            </tr><tr>\n",
       "                <td><strong>Lower bound</strong></td><td>-1000</td>\n",
       "            </tr><tr>\n",
       "                <td><strong>Upper bound</strong></td><td>4.61339666666667</td>\n",
       "            </tr>\n",
       "        </table>\n",
       "        "
      ],
      "text/plain": [
       "<Reaction EX_ala_L_e at 0x23f34f98f98>"
      ]
     },
     "execution_count": 31,
     "metadata": {},
     "output_type": "execute_result"
    }
   ],
   "source": [
    "model.reactions.EX_ala_L_e #AA format"
   ]
  },
  {
   "cell_type": "code",
   "execution_count": 39,
   "id": "3f019573",
   "metadata": {},
   "outputs": [
    {
     "data": {
      "text/plain": [
       "{'EX_ala_L_e': 10,\n",
       " 'EX_arg_L_e': 10,\n",
       " 'EX_asn_L_e': 10,\n",
       " 'EX_asp_L_e': 10,\n",
       " 'EX_ca2_e': 0.0144877134286247,\n",
       " 'EX_cobalt2_e': 7.00338234344926e-05,\n",
       " 'EX_cu2_e': 0.00197271722237563,\n",
       " 'EX_cys_L_e': 10,\n",
       " 'EX_fe2_e': 0.16239125,\n",
       " 'EX_fe3_e': 0.0217300637039616,\n",
       " 'EX_glc_e': 1000,\n",
       " 'EX_gln_L_e': 10,\n",
       " 'EX_glu_L_e': 10,\n",
       " 'EX_gly_e': 10,\n",
       " 'EX_h_e': 10,\n",
       " 'EX_his_L_e': 10,\n",
       " 'EX_ile_L_e': 10,\n",
       " 'EX_k_e': 0.543285250115532,\n",
       " 'EX_leu_L_e': 10,\n",
       " 'EX_lys_L_e': 10,\n",
       " 'EX_met_L_e': 10,\n",
       " 'EX_mg2_e': 0.0241459221505149,\n",
       " 'EX_mn2_e': 0.00192443552016793,\n",
       " 'EX_nh4_e': 7,\n",
       " 'EX_ni2_e': 0.00089824250292982,\n",
       " 'EX_o2_e': 7,\n",
       " 'EX_phe_L_e': 10,\n",
       " 'EX_pi_e': 10,\n",
       " 'EX_pro_L_e': 10,\n",
       " 'EX_ser_L_e': 10,\n",
       " 'EX_so4_e': 4.01673156249995,\n",
       " 'EX_sucr_e': 1000,\n",
       " 'EX_thr_L_e': 10,\n",
       " 'EX_trp_L_e': 10,\n",
       " 'EX_tyr_L_e': 10,\n",
       " 'EX_val_L_e': 10,\n",
       " 'EX_zn2_e': 0.000948926279874219,\n",
       " 'EX_BIOTIN': 1.01925397503027e-06,\n",
       " 'EX_cl': 0.0144877134286247,\n",
       " 'EX_psi_e': 1000.0}"
      ]
     },
     "execution_count": 39,
     "metadata": {},
     "output_type": "execute_result"
    }
   ],
   "source": [
    "medium = model.medium\n",
    "medium[\"EX_ala_L_e\"] = 10\n",
    "medium[\"EX_arg_L_e\"] = 10\n",
    "medium[\"EX_asn_L_e\"] = 10\n",
    "medium[\"EX_asp_L_e\"] = 10\n",
    "medium[\"EX_cys_L_e\"] = 10\n",
    "medium[\"EX_gln_L_e\"] = 10\n",
    "medium[\"EX_glu_L_e\"] = 10\n",
    "medium[\"EX_gly_e\"] = 10\n",
    "medium[\"EX_his_L_e\"] = 10\n",
    "medium[\"EX_ile_L_e\"] = 10\n",
    "medium[\"EX_leu_L_e\"] = 10\n",
    "medium[\"EX_lys_L_e\"] = 10\n",
    "medium[\"EX_met_L_e\"] = 10\n",
    "medium[\"EX_phe_L_e\"] = 10\n",
    "medium[\"EX_pro_L_e\"] = 10\n",
    "medium[\"EX_ser_L_e\"] = 10\n",
    "medium[\"EX_thr_L_e\"] = 10\n",
    "medium[\"EX_trp_L_e\"] = 10\n",
    "medium[\"EX_tyr_L_e\"] = 10\n",
    "medium[\"EX_val_L_e\"] = 10\n",
    "#these didn't actually seem to help at all\n",
    "\n",
    "medium[\"EX_pi_e\"] = 10\n",
    "medium[\"EX_h_e\"] = 10\n",
    "medium[\"EX_h_e\"] = 10\n",
    "medium[\"EX_h_e\"] = 10\n",
    "\n",
    "medium[\"EX_o2_e\"] = 7\n",
    "medium[\"EX_nh4_e\"] = 7\n",
    "\n",
    "model.medium = medium\n",
    "\n",
    "model.medium"
   ]
  },
  {
   "cell_type": "code",
   "execution_count": 40,
   "id": "11a06826",
   "metadata": {},
   "outputs": [
    {
     "name": "stdout",
     "output_type": "stream",
     "text": [
      "every reaction going toward psilocybin\n",
      "Max. psi production [mmol gDW^-1 h^-1]: 4.365741867082851e-05\n",
      "Is there glucose uptake? -4.220371165592363\n",
      "Is there growth? 0.1\n",
      "tryptamine [mmol gDW^-1 h^-1]: 0.096979888828\n",
      "4-Hydroxytryptamine [mmol gDW^-1 h^-1]: 4.365741867082851e-05\n",
      "norbaeocystin [mmol gDW^-1 h^-1]: 4.365741867082851e-05\n",
      "baeocystin [mmol gDW^-1 h^-1]: 4.365741867082851e-05\n",
      "psilocybin [mmol gDW^-1 h^-1]: 4.365741867082851e-05\n",
      "pho [mmol gDW^-1 h^-1]: 0.0\n",
      "restore [mmol gDW^-1 h^-1]: 0.0\n",
      "transport [mmol gDW^-1 h^-1]: 4.365741867082851e-05\n",
      "out [mmol gDW^-1 h^-1]: 4.365741867082851e-05\n"
     ]
    }
   ],
   "source": [
    "with model:\n",
    "    model.objective = target\n",
    "    print(\"every reaction going toward psilocybin\")\n",
    "    \n",
    "    print(\"Max. psi production [mmol gDW^-1 h^-1]:\",model.optimize().objective_value)\n",
    "    \n",
    "    print(\"Is there glucose uptake?\",model.reactions.EX_glc_e.flux)\n",
    "    print(\"Is there growth?\",model.reactions.CG_biomass_cgl_ATCC13032.flux)\n",
    "    \n",
    "    print(\"tryptamine [mmol gDW^-1 h^-1]:\",model.reactions.CrTdc.flux)\n",
    "    print(\"4-Hydroxytryptamine [mmol gDW^-1 h^-1]:\",model.reactions.psiH.flux)\n",
    "    print(\"norbaeocystin [mmol gDW^-1 h^-1]:\",model.reactions.psiK.flux)\n",
    "    print(\"baeocystin [mmol gDW^-1 h^-1]:\",model.reactions.psiM.flux)\n",
    "    print(\"psilocybin [mmol gDW^-1 h^-1]:\",model.reactions.psiM2.flux)\n",
    "    print(\"pho [mmol gDW^-1 h^-1]:\",model.reactions.pho.flux)\n",
    "    print(\"restore [mmol gDW^-1 h^-1]:\",model.reactions.psiK2.flux)\n",
    "    print(\"transport [mmol gDW^-1 h^-1]:\",model.reactions.psitpp.flux)\n",
    "    print(\"out [mmol gDW^-1 h^-1]:\",target.flux)"
   ]
  },
  {
   "cell_type": "code",
   "execution_count": 41,
   "id": "269d59e6",
   "metadata": {},
   "outputs": [
    {
     "name": "stdout",
     "output_type": "stream",
     "text": [
      "every reaction going from Typtophan\n",
      "Max. psi production [mmol gDW^-1 h^-1]: 4.365741867082851e-05\n",
      "TRPTRS [mmol gDW^-1 h^-1]: 0.0\n",
      "TRPS2 [mmol gDW^-1 h^-1]: 0.0\n",
      "CrTdc [mmol gDW^-1 h^-1]: 0.096979888828\n",
      "TRPS1 [mmol gDW^-1 h^-1]: 0.1\n",
      "TRPt2rpp [mmol gDW^-1 h^-1]: 0.0\n",
      "TRPabcpp [mmol gDW^-1 h^-1]: 0.0\n",
      "PROTEIN [mmol gDW^-1 h^-1]: 0.054028\n"
     ]
    }
   ],
   "source": [
    "with model:\n",
    "    model.objective = target\n",
    "    print(\"every reaction going from Typtophan\")\n",
    "    \n",
    "    print(\"Max. psi production [mmol gDW^-1 h^-1]:\",model.optimize().objective_value)\n",
    "    print(\"TRPTRS [mmol gDW^-1 h^-1]:\",model.reactions.TRPTRS.flux)\n",
    "    print(\"TRPS2 [mmol gDW^-1 h^-1]:\",model.reactions.TRPS2.flux)\n",
    "    print(\"CrTdc [mmol gDW^-1 h^-1]:\",model.reactions.CrTdc.flux)\n",
    "    print(\"TRPS1 [mmol gDW^-1 h^-1]:\",model.reactions.TRPS1.flux)\n",
    "    print(\"TRPt2rpp [mmol gDW^-1 h^-1]:\",model.reactions.TRPt2rpp.flux)\n",
    "    print(\"TRPabcpp [mmol gDW^-1 h^-1]:\",model.reactions.TRPabcpp.flux)\n",
    "    print(\"PROTEIN [mmol gDW^-1 h^-1]:\",model.reactions.PROTEIN.flux)\n",
    "    "
   ]
  },
  {
   "cell_type": "code",
   "execution_count": 42,
   "id": "facf9c88",
   "metadata": {},
   "outputs": [
    {
     "name": "stdout",
     "output_type": "stream",
     "text": [
      "1222 reactions initially\n",
      "956 metabolites initially\n",
      "773 genes initially\n"
     ]
    }
   ],
   "source": [
    "print(f'{len(model.reactions)} reactions initially')\n",
    "print(f'{len(model.metabolites)} metabolites initially')\n",
    "print(f'{len(model.genes)} genes initially')"
   ]
  },
  {
   "cell_type": "code",
   "execution_count": null,
   "id": "fb2d927c",
   "metadata": {},
   "outputs": [],
   "source": []
  },
  {
   "cell_type": "code",
   "execution_count": null,
   "id": "70132caa",
   "metadata": {},
   "outputs": [],
   "source": []
  },
  {
   "cell_type": "code",
   "execution_count": null,
   "id": "c8945663",
   "metadata": {},
   "outputs": [],
   "source": []
  }
 ],
 "metadata": {
  "kernelspec": {
   "display_name": "Python 3",
   "language": "python",
   "name": "python3"
  },
  "language_info": {
   "codemirror_mode": {
    "name": "ipython",
    "version": 3
   },
   "file_extension": ".py",
   "mimetype": "text/x-python",
   "name": "python",
   "nbconvert_exporter": "python",
   "pygments_lexer": "ipython3",
   "version": "3.6.13"
  }
 },
 "nbformat": 4,
 "nbformat_minor": 5
}
