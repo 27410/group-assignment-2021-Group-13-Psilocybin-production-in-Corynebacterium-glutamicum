{
 "cells": [
  {
   "cell_type": "code",
   "execution_count": 1,
   "id": "02d53c3a-b8d7-424f-8e94-1389a8a5063d",
   "metadata": {},
   "outputs": [],
   "source": [
    "import pandas as pd\n",
    "import matplotlib.pyplot as plt\n",
    "plt.style.use('seaborn')\n",
    "%matplotlib inline"
   ]
  },
  {
   "cell_type": "code",
   "execution_count": 2,
   "id": "93326509-4080-448a-9c4b-ed5f70a0ee75",
   "metadata": {},
   "outputs": [
    {
     "name": "stderr",
     "output_type": "stream",
     "text": [
      "No objective coefficients in model. Unclear what should be optimized\n"
     ]
    }
   ],
   "source": [
    "from cobra.io import read_sbml_model\n",
    "#make sure model name is up to date!\n",
    "model = read_sbml_model('iCW773_test7_psilocybin.xml')"
   ]
  },
  {
   "cell_type": "code",
   "execution_count": 3,
   "id": "9661bda5",
   "metadata": {},
   "outputs": [
    {
     "data": {
      "text/plain": [
       "{'c': '', 'e': ''}"
      ]
     },
     "execution_count": 3,
     "metadata": {},
     "output_type": "execute_result"
    }
   ],
   "source": [
    "model.compartments #this is the right model"
   ]
  },
  {
   "cell_type": "code",
   "execution_count": 4,
   "id": "10644e14",
   "metadata": {
    "scrolled": true
   },
   "outputs": [
    {
     "data": {
      "text/html": [
       "\n",
       "        <table>\n",
       "            <tr>\n",
       "                <td><strong>Metabolite identifier</strong></td><td>psi_c</td>\n",
       "            </tr><tr>\n",
       "                <td><strong>Name</strong></td><td>Psilocybin</td>\n",
       "            </tr><tr>\n",
       "                <td><strong>Memory address</strong></td>\n",
       "                <td>0x01520f034fd0</td>\n",
       "            </tr><tr>\n",
       "                <td><strong>Formula</strong></td><td>C12H17N2O4P</td>\n",
       "            </tr><tr>\n",
       "                <td><strong>Compartment</strong></td><td>c</td>\n",
       "            </tr><tr>\n",
       "                <td><strong>In 4 reaction(s)</strong></td><td>\n",
       "                    DM_psi_c, psiK2, psiM2, pho</td>\n",
       "            </tr>\n",
       "        </table>"
      ],
      "text/plain": [
       "<Metabolite psi_c at 0x1520f034fd0>"
      ]
     },
     "execution_count": 4,
     "metadata": {},
     "output_type": "execute_result"
    }
   ],
   "source": [
    "model.metabolites.psi_c #this is our product"
   ]
  },
  {
   "cell_type": "code",
   "execution_count": 5,
   "id": "9229b8b3",
   "metadata": {
    "scrolled": false
   },
   "outputs": [
    {
     "data": {
      "text/html": [
       "\n",
       "        <table>\n",
       "            <tr>\n",
       "                <td><strong>Reaction identifier</strong></td><td>psiK2</td>\n",
       "            </tr><tr>\n",
       "                <td><strong>Name</strong></td><td></td>\n",
       "            </tr><tr>\n",
       "                <td><strong>Memory address</strong></td>\n",
       "                <td>0x01520f91e550</td>\n",
       "            </tr><tr>\n",
       "                <td><strong>Stoichiometry</strong></td>\n",
       "                <td>\n",
       "                    <p style='text-align:right'>atp_c + psii_c --> adp_c + psi_c</p>\n",
       "                    <p style='text-align:right'>ATP + psilocin --> ADP + Psilocybin</p>\n",
       "                </td>\n",
       "            </tr><tr>\n",
       "                <td><strong>GPR</strong></td><td></td>\n",
       "            </tr><tr>\n",
       "                <td><strong>Lower bound</strong></td><td>0.0</td>\n",
       "            </tr><tr>\n",
       "                <td><strong>Upper bound</strong></td><td>1000.0</td>\n",
       "            </tr>\n",
       "        </table>\n",
       "        "
      ],
      "text/plain": [
       "<Reaction psiK2 at 0x1520f91e550>"
      ]
     },
     "execution_count": 5,
     "metadata": {},
     "output_type": "execute_result"
    }
   ],
   "source": [
    "model.reactions.psiK2 #this is the reaction that makes our product"
   ]
  },
  {
   "cell_type": "markdown",
   "id": "dea621ce",
   "metadata": {},
   "source": [
    "## Optimization"
   ]
  },
  {
   "cell_type": "code",
   "execution_count": 6,
   "id": "00fd3287",
   "metadata": {},
   "outputs": [
    {
     "name": "stdout",
     "output_type": "stream",
     "text": [
      "5.57043656605489\n"
     ]
    }
   ],
   "source": [
    "#to set optimization (this is the production of psilocybin from the precursor)\n",
    "with model:\n",
    "    model.objective = model.reactions.psiK2\n",
    "    print(model.optimize().objective_value)"
   ]
  },
  {
   "cell_type": "code",
   "execution_count": 7,
   "id": "fc25a86f",
   "metadata": {},
   "outputs": [],
   "source": [
    "#print(model.objective)"
   ]
  },
  {
   "cell_type": "code",
   "execution_count": 8,
   "id": "d99a51a7",
   "metadata": {
    "scrolled": true
   },
   "outputs": [
    {
     "data": {
      "text/plain": [
       "{'EX_ca2_e': 0.0144877134286247,\n",
       " 'EX_cobalt2_e': 7.00338234344926e-05,\n",
       " 'EX_cu2_e': 0.00197271722237563,\n",
       " 'EX_fe2_e': 0.16239125,\n",
       " 'EX_fe3_e': 0.0217300637039616,\n",
       " 'EX_glc_e': 4.67,\n",
       " 'EX_k_e': 0.543285250115532,\n",
       " 'EX_mg2_e': 0.0241459221505149,\n",
       " 'EX_mn2_e': 0.00192443552016793,\n",
       " 'EX_nh4_e': 11.9121416666662,\n",
       " 'EX_ni2_e': 0.00089824250292982,\n",
       " 'EX_o2_e': 16.5067783333334,\n",
       " 'EX_pi_e': 0.918000000000888,\n",
       " 'EX_so4_e': 4.01673156249995,\n",
       " 'EX_zn2_e': 0.000948926279874219,\n",
       " 'EX_BIOTIN': 1.01925397503027e-06,\n",
       " 'EX_cl': 0.0144877134286247}"
      ]
     },
     "execution_count": 8,
     "metadata": {},
     "output_type": "execute_result"
    }
   ],
   "source": [
    "model.medium"
   ]
  },
  {
   "cell_type": "code",
   "execution_count": 9,
   "id": "a7a9d761",
   "metadata": {},
   "outputs": [],
   "source": [
    "medium = model.medium\n",
    "with model:\n",
    "    medium['EX_glc_e'] = 10\n",
    "    model.medium = medium\n",
    "    model.objective = model.reactions.psiK2\n",
    "    psi_production = model.optimize().objective_value\n",
    "## Phenotypic phase plane analysis    print(\"Theoretical max. yield [mmol-psi / mmol-gl]:\", psi_production / (-1*model.reactions.EX_glc_e.flux)) #these units also need review"
   ]
  },
  {
   "cell_type": "code",
   "execution_count": 10,
   "id": "562a0a9b",
   "metadata": {},
   "outputs": [
    {
     "name": "stdout",
     "output_type": "stream",
     "text": [
      "Max. psi production [mmol gDW^-1 h^-1]: 0.0\n",
      "Theoretical max. yield [mmol-psi / mmol-gl]: 0.0\n"
     ]
    }
   ],
   "source": [
    "medium = model.medium\n",
    "with model:\n",
    "    medium['EX_glc_e'] = 10\n",
    "    model.medium = medium\n",
    "    psi_production = model.optimize().objective_value\n",
    "    print(\"Max. psi production [mmol gDW^-1 h^-1]:\", psi_production) #these units need review #########\n",
    "    print(\"Theoretical max. yield [mmol-psi / mmol-gl]:\", psi_production / (-1*model.reactions.EX_glc_e.flux)) #these units also need review"
   ]
  },
  {
   "cell_type": "markdown",
   "id": "46f4d6ba",
   "metadata": {},
   "source": [
    "## Phenotypic phase plane analysis"
   ]
  },
  {
   "cell_type": "code",
   "execution_count": 11,
   "id": "0a1575ee",
   "metadata": {},
   "outputs": [
    {
     "data": {
      "text/plain": [
       "[<Reaction CG_biomass_cgl_ATCC13032 at 0x1520f244668>,\n",
       " <Reaction EX_biomass at 0x1520f76d588>]"
      ]
     },
     "execution_count": 11,
     "metadata": {},
     "output_type": "execute_result"
    }
   ],
   "source": [
    "model.reactions.query('biomass','name')"
   ]
  },
  {
   "cell_type": "code",
   "execution_count": 12,
   "id": "8b858c06",
   "metadata": {},
   "outputs": [],
   "source": [
    "#maybe add some other carbon source here\n",
    "from cobra.flux_analysis.phenotype_phase_plane import production_envelope"
   ]
  },
  {
   "cell_type": "code",
   "execution_count": 13,
   "id": "f3a5c01f",
   "metadata": {},
   "outputs": [],
   "source": [
    "#i don't think it likes decimals"
   ]
  },
  {
   "cell_type": "code",
   "execution_count": 14,
   "id": "0d8c9cff",
   "metadata": {},
   "outputs": [
    {
     "data": {
      "text/html": [
       "\n",
       "        <table>\n",
       "            <tr>\n",
       "                <td><strong>Reaction identifier</strong></td><td>CG_biomass_cgl_ATCC13032</td>\n",
       "            </tr><tr>\n",
       "                <td><strong>Name</strong></td><td>cgl biomass objective function (ATCC13032)</td>\n",
       "            </tr><tr>\n",
       "                <td><strong>Memory address</strong></td>\n",
       "                <td>0x01520f244668</td>\n",
       "            </tr><tr>\n",
       "                <td><strong>Stoichiometry</strong></td>\n",
       "                <td>\n",
       "                    <p style='text-align:right'>0.098705 arabino_c + 47.7 atp_c + 0.01039 dna_c + 47.7 h2o_c + 0.062224 ions_c + 0.10598 mycoli_c + 0.098705 peptid_c + 0.029092 phosph_c + 0.54028 protein_c + 0.05195 rna_c + 0.002679...</p>\n",
       "                    <p style='text-align:right'>0.098705 arabino + 47.7 ATP + 0.01039 DNA + 47.7 H2O + 0.062224 ions + 0.10598 mycoli + 0.098705 peptid + 0.029092 phosph + 0.54028 protein + 0.05195 rna + 0.002679 soluble_pool --> 47.7 ADP +...</p>\n",
       "                </td>\n",
       "            </tr><tr>\n",
       "                <td><strong>GPR</strong></td><td></td>\n",
       "            </tr><tr>\n",
       "                <td><strong>Lower bound</strong></td><td>0.0</td>\n",
       "            </tr><tr>\n",
       "                <td><strong>Upper bound</strong></td><td>0.428929662134894</td>\n",
       "            </tr>\n",
       "        </table>\n",
       "        "
      ],
      "text/plain": [
       "<Reaction CG_biomass_cgl_ATCC13032 at 0x1520f244668>"
      ]
     },
     "execution_count": 14,
     "metadata": {},
     "output_type": "execute_result"
    }
   ],
   "source": [
    "model.reactions.CG_biomass_cgl_ATCC13032"
   ]
  },
  {
   "cell_type": "code",
   "execution_count": 15,
   "id": "df4dbf43",
   "metadata": {},
   "outputs": [
    {
     "data": {
      "text/plain": [
       "[<Reaction EX_co2_e at 0x1520f43e390>,\n",
       " <Reaction EX_no2_e at 0x1520f466a90>,\n",
       " <Reaction EX_o2_e at 0x1520f466b38>,\n",
       " <Reaction EX_o2s_e at 0x1520f466c18>]"
      ]
     },
     "execution_count": 15,
     "metadata": {},
     "output_type": "execute_result"
    }
   ],
   "source": [
    "model.reactions.query('o2','id')"
   ]
  },
  {
   "cell_type": "code",
   "execution_count": 16,
   "id": "93e0e395",
   "metadata": {},
   "outputs": [],
   "source": [
    "ppp_psi_gluc = production_envelope(model,\n",
    "                reactions=[model.reactions.EX_glc_e],\n",
    "                objective=[model.reactions.psiK2])"
   ]
  },
  {
   "cell_type": "code",
   "execution_count": 17,
   "id": "d8a2c67d",
   "metadata": {
    "scrolled": true
   },
   "outputs": [
    {
     "data": {
      "text/plain": [
       "<AxesSubplot:xlabel='EX_glc_e'>"
      ]
     },
     "execution_count": 17,
     "metadata": {},
     "output_type": "execute_result"
    },
    {
     "data": {
      "image/png": "[encoded data removed]",
      "text/plain": [
       "<Figure size 432x288 with 1 Axes>"
      ]
     },
     "metadata": {
      "needs_background": "light"
     },
     "output_type": "display_data"
    }
   ],
   "source": [
    "ppp_psi_gluc.plot(x='EX_glc_e', y='flux_maximum')"
   ]
  },
  {
   "cell_type": "code",
   "execution_count": 18,
   "id": "0733dff0",
   "metadata": {},
   "outputs": [],
   "source": [
    "ppp_psi2_oxy = production_envelope(model,\n",
    "                reactions=[model.reactions.EX_o2_e],\n",
    "                objective=[model.reactions.psiK2])"
   ]
  },
  {
   "cell_type": "code",
   "execution_count": 19,
   "id": "712c5c98",
   "metadata": {},
   "outputs": [
    {
     "data": {
      "text/plain": [
       "<AxesSubplot:xlabel='EX_o2_e'>"
      ]
     },
     "execution_count": 19,
     "metadata": {},
     "output_type": "execute_result"
    },
    {
     "data": {
      "image/png": "[encoded data removed]",
      "text/plain": [
       "<Figure size 432x288 with 1 Axes>"
      ]
     },
     "metadata": {
      "needs_background": "light"
     },
     "output_type": "display_data"
    }
   ],
   "source": [
    "ppp_psi2_oxy.plot(x='EX_o2_e', y='flux_maximum')"
   ]
  },
  {
   "cell_type": "code",
   "execution_count": 20,
   "id": "9c9fcd2b",
   "metadata": {},
   "outputs": [
    {
     "name": "stderr",
     "output_type": "stream",
     "text": [
      "C:\\Users\\s174916\\.conda\\envs\\Conda2_env\\lib\\site-packages\\cobra\\core\\metabolite.py:104: UserWarning: 26.227799999999995 is not an integer (in formula C26.227799999999995H47.309599999999996O21.0818)\n",
      "  % (count, self.formula)\n",
      "C:\\Users\\s174916\\.conda\\envs\\Conda2_env\\lib\\site-packages\\cobra\\core\\metabolite.py:104: UserWarning: 47.309599999999996 is not an integer (in formula C26.227799999999995H47.309599999999996O21.0818)\n",
      "  % (count, self.formula)\n",
      "C:\\Users\\s174916\\.conda\\envs\\Conda2_env\\lib\\site-packages\\cobra\\core\\metabolite.py:104: UserWarning: 21.0818 is not an integer (in formula C26.227799999999995H47.309599999999996O21.0818)\n",
      "  % (count, self.formula)\n",
      "C:\\Users\\s174916\\.conda\\envs\\Conda2_env\\lib\\site-packages\\cobra\\core\\metabolite.py:104: UserWarning: 1.809384 is not an integer (in formula O1.809384S0.452346Fe1.514453Ca0.542815Co0.002624Cu0.073913K20.35556Mg0.904692Mn0.072104Ni0.033655Zn0.035554Cl0.542815)\n",
      "  % (count, self.formula)\n",
      "C:\\Users\\s174916\\.conda\\envs\\Conda2_env\\lib\\site-packages\\cobra\\core\\metabolite.py:104: UserWarning: 0.452346 is not an integer (in formula O1.809384S0.452346Fe1.514453Ca0.542815Co0.002624Cu0.073913K20.35556Mg0.904692Mn0.072104Ni0.033655Zn0.035554Cl0.542815)\n",
      "  % (count, self.formula)\n",
      "C:\\Users\\s174916\\.conda\\envs\\Conda2_env\\lib\\site-packages\\cobra\\core\\metabolite.py:104: UserWarning: 1.514453 is not an integer (in formula O1.809384S0.452346Fe1.514453Ca0.542815Co0.002624Cu0.073913K20.35556Mg0.904692Mn0.072104Ni0.033655Zn0.035554Cl0.542815)\n",
      "  % (count, self.formula)\n",
      "C:\\Users\\s174916\\.conda\\envs\\Conda2_env\\lib\\site-packages\\cobra\\core\\metabolite.py:104: UserWarning: 0.542815 is not an integer (in formula O1.809384S0.452346Fe1.514453Ca0.542815Co0.002624Cu0.073913K20.35556Mg0.904692Mn0.072104Ni0.033655Zn0.035554Cl0.542815)\n",
      "  % (count, self.formula)\n",
      "C:\\Users\\s174916\\.conda\\envs\\Conda2_env\\lib\\site-packages\\cobra\\core\\metabolite.py:104: UserWarning: 0.002624 is not an integer (in formula O1.809384S0.452346Fe1.514453Ca0.542815Co0.002624Cu0.073913K20.35556Mg0.904692Mn0.072104Ni0.033655Zn0.035554Cl0.542815)\n",
      "  % (count, self.formula)\n",
      "C:\\Users\\s174916\\.conda\\envs\\Conda2_env\\lib\\site-packages\\cobra\\core\\metabolite.py:104: UserWarning: 0.073913 is not an integer (in formula O1.809384S0.452346Fe1.514453Ca0.542815Co0.002624Cu0.073913K20.35556Mg0.904692Mn0.072104Ni0.033655Zn0.035554Cl0.542815)\n",
      "  % (count, self.formula)\n",
      "C:\\Users\\s174916\\.conda\\envs\\Conda2_env\\lib\\site-packages\\cobra\\core\\metabolite.py:104: UserWarning: 20.35556 is not an integer (in formula O1.809384S0.452346Fe1.514453Ca0.542815Co0.002624Cu0.073913K20.35556Mg0.904692Mn0.072104Ni0.033655Zn0.035554Cl0.542815)\n",
      "  % (count, self.formula)\n",
      "C:\\Users\\s174916\\.conda\\envs\\Conda2_env\\lib\\site-packages\\cobra\\core\\metabolite.py:104: UserWarning: 0.904692 is not an integer (in formula O1.809384S0.452346Fe1.514453Ca0.542815Co0.002624Cu0.073913K20.35556Mg0.904692Mn0.072104Ni0.033655Zn0.035554Cl0.542815)\n",
      "  % (count, self.formula)\n",
      "C:\\Users\\s174916\\.conda\\envs\\Conda2_env\\lib\\site-packages\\cobra\\core\\metabolite.py:104: UserWarning: 0.072104 is not an integer (in formula O1.809384S0.452346Fe1.514453Ca0.542815Co0.002624Cu0.073913K20.35556Mg0.904692Mn0.072104Ni0.033655Zn0.035554Cl0.542815)\n",
      "  % (count, self.formula)\n",
      "C:\\Users\\s174916\\.conda\\envs\\Conda2_env\\lib\\site-packages\\cobra\\core\\metabolite.py:104: UserWarning: 0.033655 is not an integer (in formula O1.809384S0.452346Fe1.514453Ca0.542815Co0.002624Cu0.073913K20.35556Mg0.904692Mn0.072104Ni0.033655Zn0.035554Cl0.542815)\n",
      "  % (count, self.formula)\n",
      "C:\\Users\\s174916\\.conda\\envs\\Conda2_env\\lib\\site-packages\\cobra\\core\\metabolite.py:104: UserWarning: 0.035554 is not an integer (in formula O1.809384S0.452346Fe1.514453Ca0.542815Co0.002624Cu0.073913K20.35556Mg0.904692Mn0.072104Ni0.033655Zn0.035554Cl0.542815)\n",
      "  % (count, self.formula)\n",
      "C:\\Users\\s174916\\.conda\\envs\\Conda2_env\\lib\\site-packages\\cobra\\core\\metabolite.py:104: UserWarning: 64.598238154 is not an integer (in formula C64.598238154H117.50071172599999O7.357917P0.267926)\n",
      "  % (count, self.formula)\n",
      "C:\\Users\\s174916\\.conda\\envs\\Conda2_env\\lib\\site-packages\\cobra\\core\\metabolite.py:104: UserWarning: 117.50071172599999 is not an integer (in formula C64.598238154H117.50071172599999O7.357917P0.267926)\n",
      "  % (count, self.formula)\n",
      "C:\\Users\\s174916\\.conda\\envs\\Conda2_env\\lib\\site-packages\\cobra\\core\\metabolite.py:104: UserWarning: 7.357917 is not an integer (in formula C64.598238154H117.50071172599999O7.357917P0.267926)\n",
      "  % (count, self.formula)\n",
      "C:\\Users\\s174916\\.conda\\envs\\Conda2_env\\lib\\site-packages\\cobra\\core\\metabolite.py:104: UserWarning: 0.267926 is not an integer (in formula C64.598238154H117.50071172599999O7.357917P0.267926)\n",
      "  % (count, self.formula)\n",
      "C:\\Users\\s174916\\.conda\\envs\\Conda2_env\\lib\\site-packages\\cobra\\core\\metabolite.py:104: UserWarning: 64.087066 is not an integer (in formula C64.087066H109.98235400000002N13.276022O50.168144P3.2394)\n",
      "  % (count, self.formula)\n",
      "C:\\Users\\s174916\\.conda\\envs\\Conda2_env\\lib\\site-packages\\cobra\\core\\metabolite.py:104: UserWarning: 109.98235400000002 is not an integer (in formula C64.087066H109.98235400000002N13.276022O50.168144P3.2394)\n",
      "  % (count, self.formula)\n",
      "C:\\Users\\s174916\\.conda\\envs\\Conda2_env\\lib\\site-packages\\cobra\\core\\metabolite.py:104: UserWarning: 13.276022 is not an integer (in formula C64.087066H109.98235400000002N13.276022O50.168144P3.2394)\n",
      "  % (count, self.formula)\n",
      "C:\\Users\\s174916\\.conda\\envs\\Conda2_env\\lib\\site-packages\\cobra\\core\\metabolite.py:104: UserWarning: 50.168144 is not an integer (in formula C64.087066H109.98235400000002N13.276022O50.168144P3.2394)\n",
      "  % (count, self.formula)\n",
      "C:\\Users\\s174916\\.conda\\envs\\Conda2_env\\lib\\site-packages\\cobra\\core\\metabolite.py:104: UserWarning: 3.2394 is not an integer (in formula C64.087066H109.98235400000002N13.276022O50.168144P3.2394)\n",
      "  % (count, self.formula)\n",
      "C:\\Users\\s174916\\.conda\\envs\\Conda2_env\\lib\\site-packages\\cobra\\core\\metabolite.py:104: UserWarning: 52.881848160000004 is not an integer (in formula C52.881848160000004H98.21897442240001N0.326586O16.9293528P2.563819800000001)\n",
      "  % (count, self.formula)\n",
      "C:\\Users\\s174916\\.conda\\envs\\Conda2_env\\lib\\site-packages\\cobra\\core\\metabolite.py:104: UserWarning: 98.21897442240001 is not an integer (in formula C52.881848160000004H98.21897442240001N0.326586O16.9293528P2.563819800000001)\n",
      "  % (count, self.formula)\n",
      "C:\\Users\\s174916\\.conda\\envs\\Conda2_env\\lib\\site-packages\\cobra\\core\\metabolite.py:104: UserWarning: 0.326586 is not an integer (in formula C52.881848160000004H98.21897442240001N0.326586O16.9293528P2.563819800000001)\n",
      "  % (count, self.formula)\n",
      "C:\\Users\\s174916\\.conda\\envs\\Conda2_env\\lib\\site-packages\\cobra\\core\\metabolite.py:104: UserWarning: 16.9293528 is not an integer (in formula C52.881848160000004H98.21897442240001N0.326586O16.9293528P2.563819800000001)\n",
      "  % (count, self.formula)\n",
      "C:\\Users\\s174916\\.conda\\envs\\Conda2_env\\lib\\site-packages\\cobra\\core\\metabolite.py:104: UserWarning: 2.563819800000001 is not an integer (in formula C52.881848160000004H98.21897442240001N0.326586O16.9293528P2.563819800000001)\n",
      "  % (count, self.formula)\n",
      "C:\\Users\\s174916\\.conda\\envs\\Conda2_env\\lib\\site-packages\\cobra\\core\\metabolite.py:104: UserWarning: 19.222443 is not an integer (in formula C19.222443H38.476530999999966N5.458296999999999O10.650917999999953P-0.000000000000004S0.108442)\n",
      "  % (count, self.formula)\n",
      "C:\\Users\\s174916\\.conda\\envs\\Conda2_env\\lib\\site-packages\\cobra\\core\\metabolite.py:104: UserWarning: 38.476530999999966 is not an integer (in formula C19.222443H38.476530999999966N5.458296999999999O10.650917999999953P-0.000000000000004S0.108442)\n",
      "  % (count, self.formula)\n",
      "C:\\Users\\s174916\\.conda\\envs\\Conda2_env\\lib\\site-packages\\cobra\\core\\metabolite.py:104: UserWarning: 5.458296999999999 is not an integer (in formula C19.222443H38.476530999999966N5.458296999999999O10.650917999999953P-0.000000000000004S0.108442)\n",
      "  % (count, self.formula)\n",
      "C:\\Users\\s174916\\.conda\\envs\\Conda2_env\\lib\\site-packages\\cobra\\core\\metabolite.py:104: UserWarning: 10.650917999999953 is not an integer (in formula C19.222443H38.476530999999966N5.458296999999999O10.650917999999953P-0.000000000000004S0.108442)\n",
      "  % (count, self.formula)\n",
      "C:\\Users\\s174916\\.conda\\envs\\Conda2_env\\lib\\site-packages\\cobra\\core\\metabolite.py:104: UserWarning: 0.108442 is not an integer (in formula C19.222443H38.476530999999966N5.458296999999999O10.650917999999953P-0.000000000000004S0.108442)\n",
      "  % (count, self.formula)\n",
      "C:\\Users\\s174916\\.conda\\envs\\Conda2_env\\lib\\site-packages\\cobra\\core\\metabolite.py:104: UserWarning: 28.60628 is not an integer (in formula C28.60628H33.27465N11.5971O22.976729999999996P2.99579)\n",
      "  % (count, self.formula)\n",
      "C:\\Users\\s174916\\.conda\\envs\\Conda2_env\\lib\\site-packages\\cobra\\core\\metabolite.py:104: UserWarning: 33.27465 is not an integer (in formula C28.60628H33.27465N11.5971O22.976729999999996P2.99579)\n",
      "  % (count, self.formula)\n",
      "C:\\Users\\s174916\\.conda\\envs\\Conda2_env\\lib\\site-packages\\cobra\\core\\metabolite.py:104: UserWarning: 11.5971 is not an integer (in formula C28.60628H33.27465N11.5971O22.976729999999996P2.99579)\n",
      "  % (count, self.formula)\n",
      "C:\\Users\\s174916\\.conda\\envs\\Conda2_env\\lib\\site-packages\\cobra\\core\\metabolite.py:104: UserWarning: 22.976729999999996 is not an integer (in formula C28.60628H33.27465N11.5971O22.976729999999996P2.99579)\n",
      "  % (count, self.formula)\n",
      "C:\\Users\\s174916\\.conda\\envs\\Conda2_env\\lib\\site-packages\\cobra\\core\\metabolite.py:104: UserWarning: 2.99579 is not an integer (in formula C28.60628H33.27465N11.5971O22.976729999999996P2.99579)\n",
      "  % (count, self.formula)\n",
      "C:\\Users\\s174916\\.conda\\envs\\Conda2_env\\lib\\site-packages\\cobra\\core\\metabolite.py:104: UserWarning: 31.685756 is not an integer (in formula C31.685756H40.884037000000006N9.559588O20.989518P3.134647S0.355614)\n",
      "  % (count, self.formula)\n",
      "C:\\Users\\s174916\\.conda\\envs\\Conda2_env\\lib\\site-packages\\cobra\\core\\metabolite.py:104: UserWarning: 40.884037000000006 is not an integer (in formula C31.685756H40.884037000000006N9.559588O20.989518P3.134647S0.355614)\n",
      "  % (count, self.formula)\n",
      "C:\\Users\\s174916\\.conda\\envs\\Conda2_env\\lib\\site-packages\\cobra\\core\\metabolite.py:104: UserWarning: 9.559588 is not an integer (in formula C31.685756H40.884037000000006N9.559588O20.989518P3.134647S0.355614)\n",
      "  % (count, self.formula)\n",
      "C:\\Users\\s174916\\.conda\\envs\\Conda2_env\\lib\\site-packages\\cobra\\core\\metabolite.py:104: UserWarning: 20.989518 is not an integer (in formula C31.685756H40.884037000000006N9.559588O20.989518P3.134647S0.355614)\n",
      "  % (count, self.formula)\n",
      "C:\\Users\\s174916\\.conda\\envs\\Conda2_env\\lib\\site-packages\\cobra\\core\\metabolite.py:104: UserWarning: 3.134647 is not an integer (in formula C31.685756H40.884037000000006N9.559588O20.989518P3.134647S0.355614)\n",
      "  % (count, self.formula)\n",
      "C:\\Users\\s174916\\.conda\\envs\\Conda2_env\\lib\\site-packages\\cobra\\core\\metabolite.py:104: UserWarning: 0.355614 is not an integer (in formula C31.685756H40.884037000000006N9.559588O20.989518P3.134647S0.355614)\n",
      "  % (count, self.formula)\n",
      "C:\\Users\\s174916\\.conda\\envs\\Conda2_env\\lib\\site-packages\\cobra\\core\\metabolite.py:104: UserWarning: 40.61964015575376 is not an integer (in formula C40.61964015575376H65.83441744734994N8.013199119561293O16.0581272232233P0.496895768854594S0.160334607330444Fe0.094235323472Ca0.03377612056Co0.000163275776Cu0.004599162512K1.26660436544Mg0.056293555008Mn0.004486599296Ni0.00209414872Zn0.002212312096Cl0.03377612056)\n",
      "  % (count, self.formula)\n",
      "C:\\Users\\s174916\\.conda\\envs\\Conda2_env\\lib\\site-packages\\cobra\\core\\metabolite.py:104: UserWarning: 65.83441744734994 is not an integer (in formula C40.61964015575376H65.83441744734994N8.013199119561293O16.0581272232233P0.496895768854594S0.160334607330444Fe0.094235323472Ca0.03377612056Co0.000163275776Cu0.004599162512K1.26660436544Mg0.056293555008Mn0.004486599296Ni0.00209414872Zn0.002212312096Cl0.03377612056)\n",
      "  % (count, self.formula)\n",
      "C:\\Users\\s174916\\.conda\\envs\\Conda2_env\\lib\\site-packages\\cobra\\core\\metabolite.py:104: UserWarning: 8.013199119561293 is not an integer (in formula C40.61964015575376H65.83441744734994N8.013199119561293O16.0581272232233P0.496895768854594S0.160334607330444Fe0.094235323472Ca0.03377612056Co0.000163275776Cu0.004599162512K1.26660436544Mg0.056293555008Mn0.004486599296Ni0.00209414872Zn0.002212312096Cl0.03377612056)\n",
      "  % (count, self.formula)\n",
      "C:\\Users\\s174916\\.conda\\envs\\Conda2_env\\lib\\site-packages\\cobra\\core\\metabolite.py:104: UserWarning: 16.0581272232233 is not an integer (in formula C40.61964015575376H65.83441744734994N8.013199119561293O16.0581272232233P0.496895768854594S0.160334607330444Fe0.094235323472Ca0.03377612056Co0.000163275776Cu0.004599162512K1.26660436544Mg0.056293555008Mn0.004486599296Ni0.00209414872Zn0.002212312096Cl0.03377612056)\n",
      "  % (count, self.formula)\n",
      "C:\\Users\\s174916\\.conda\\envs\\Conda2_env\\lib\\site-packages\\cobra\\core\\metabolite.py:104: UserWarning: 0.496895768854594 is not an integer (in formula C40.61964015575376H65.83441744734994N8.013199119561293O16.0581272232233P0.496895768854594S0.160334607330444Fe0.094235323472Ca0.03377612056Co0.000163275776Cu0.004599162512K1.26660436544Mg0.056293555008Mn0.004486599296Ni0.00209414872Zn0.002212312096Cl0.03377612056)\n",
      "  % (count, self.formula)\n",
      "C:\\Users\\s174916\\.conda\\envs\\Conda2_env\\lib\\site-packages\\cobra\\core\\metabolite.py:104: UserWarning: 0.160334607330444 is not an integer (in formula C40.61964015575376H65.83441744734994N8.013199119561293O16.0581272232233P0.496895768854594S0.160334607330444Fe0.094235323472Ca0.03377612056Co0.000163275776Cu0.004599162512K1.26660436544Mg0.056293555008Mn0.004486599296Ni0.00209414872Zn0.002212312096Cl0.03377612056)\n",
      "  % (count, self.formula)\n",
      "C:\\Users\\s174916\\.conda\\envs\\Conda2_env\\lib\\site-packages\\cobra\\core\\metabolite.py:104: UserWarning: 0.094235323472 is not an integer (in formula C40.61964015575376H65.83441744734994N8.013199119561293O16.0581272232233P0.496895768854594S0.160334607330444Fe0.094235323472Ca0.03377612056Co0.000163275776Cu0.004599162512K1.26660436544Mg0.056293555008Mn0.004486599296Ni0.00209414872Zn0.002212312096Cl0.03377612056)\n",
      "  % (count, self.formula)\n",
      "C:\\Users\\s174916\\.conda\\envs\\Conda2_env\\lib\\site-packages\\cobra\\core\\metabolite.py:104: UserWarning: 0.03377612056 is not an integer (in formula C40.61964015575376H65.83441744734994N8.013199119561293O16.0581272232233P0.496895768854594S0.160334607330444Fe0.094235323472Ca0.03377612056Co0.000163275776Cu0.004599162512K1.26660436544Mg0.056293555008Mn0.004486599296Ni0.00209414872Zn0.002212312096Cl0.03377612056)\n",
      "  % (count, self.formula)\n",
      "C:\\Users\\s174916\\.conda\\envs\\Conda2_env\\lib\\site-packages\\cobra\\core\\metabolite.py:104: UserWarning: 0.000163275776 is not an integer (in formula C40.61964015575376H65.83441744734994N8.013199119561293O16.0581272232233P0.496895768854594S0.160334607330444Fe0.094235323472Ca0.03377612056Co0.000163275776Cu0.004599162512K1.26660436544Mg0.056293555008Mn0.004486599296Ni0.00209414872Zn0.002212312096Cl0.03377612056)\n",
      "  % (count, self.formula)\n",
      "C:\\Users\\s174916\\.conda\\envs\\Conda2_env\\lib\\site-packages\\cobra\\core\\metabolite.py:104: UserWarning: 0.004599162512 is not an integer (in formula C40.61964015575376H65.83441744734994N8.013199119561293O16.0581272232233P0.496895768854594S0.160334607330444Fe0.094235323472Ca0.03377612056Co0.000163275776Cu0.004599162512K1.26660436544Mg0.056293555008Mn0.004486599296Ni0.00209414872Zn0.002212312096Cl0.03377612056)\n",
      "  % (count, self.formula)\n",
      "C:\\Users\\s174916\\.conda\\envs\\Conda2_env\\lib\\site-packages\\cobra\\core\\metabolite.py:104: UserWarning: 1.26660436544 is not an integer (in formula C40.61964015575376H65.83441744734994N8.013199119561293O16.0581272232233P0.496895768854594S0.160334607330444Fe0.094235323472Ca0.03377612056Co0.000163275776Cu0.004599162512K1.26660436544Mg0.056293555008Mn0.004486599296Ni0.00209414872Zn0.002212312096Cl0.03377612056)\n",
      "  % (count, self.formula)\n",
      "C:\\Users\\s174916\\.conda\\envs\\Conda2_env\\lib\\site-packages\\cobra\\core\\metabolite.py:104: UserWarning: 0.056293555008 is not an integer (in formula C40.61964015575376H65.83441744734994N8.013199119561293O16.0581272232233P0.496895768854594S0.160334607330444Fe0.094235323472Ca0.03377612056Co0.000163275776Cu0.004599162512K1.26660436544Mg0.056293555008Mn0.004486599296Ni0.00209414872Zn0.002212312096Cl0.03377612056)\n",
      "  % (count, self.formula)\n",
      "C:\\Users\\s174916\\.conda\\envs\\Conda2_env\\lib\\site-packages\\cobra\\core\\metabolite.py:104: UserWarning: 0.004486599296 is not an integer (in formula C40.61964015575376H65.83441744734994N8.013199119561293O16.0581272232233P0.496895768854594S0.160334607330444Fe0.094235323472Ca0.03377612056Co0.000163275776Cu0.004599162512K1.26660436544Mg0.056293555008Mn0.004486599296Ni0.00209414872Zn0.002212312096Cl0.03377612056)\n",
      "  % (count, self.formula)\n",
      "C:\\Users\\s174916\\.conda\\envs\\Conda2_env\\lib\\site-packages\\cobra\\core\\metabolite.py:104: UserWarning: 0.00209414872 is not an integer (in formula C40.61964015575376H65.83441744734994N8.013199119561293O16.0581272232233P0.496895768854594S0.160334607330444Fe0.094235323472Ca0.03377612056Co0.000163275776Cu0.004599162512K1.26660436544Mg0.056293555008Mn0.004486599296Ni0.00209414872Zn0.002212312096Cl0.03377612056)\n",
      "  % (count, self.formula)\n",
      "C:\\Users\\s174916\\.conda\\envs\\Conda2_env\\lib\\site-packages\\cobra\\core\\metabolite.py:104: UserWarning: 0.002212312096 is not an integer (in formula C40.61964015575376H65.83441744734994N8.013199119561293O16.0581272232233P0.496895768854594S0.160334607330444Fe0.094235323472Ca0.03377612056Co0.000163275776Cu0.004599162512K1.26660436544Mg0.056293555008Mn0.004486599296Ni0.00209414872Zn0.002212312096Cl0.03377612056)\n",
      "  % (count, self.formula)\n"
     ]
    }
   ],
   "source": [
    "ppp_bio = production_envelope(model,\n",
    "                reactions=[model.reactions.psiK2],\n",
    "                carbon_sources=[model.reactions.EX_glc_e],\n",
    "                objective=[model.reactions.CG_biomass_cgl_ATCC13032])"
   ]
  },
  {
   "cell_type": "code",
   "execution_count": 21,
   "id": "032b3262",
   "metadata": {
    "scrolled": true
   },
   "outputs": [],
   "source": [
    "#i actually don't think the warning matters"
   ]
  },
  {
   "cell_type": "code",
   "execution_count": null,
   "id": "d4bae635",
   "metadata": {},
   "outputs": [],
   "source": []
  },
  {
   "cell_type": "markdown",
   "id": "d026bd3c",
   "metadata": {},
   "source": [
    "## Optimization"
   ]
  },
  {
   "cell_type": "code",
   "execution_count": 22,
   "id": "f3a0e7d4",
   "metadata": {},
   "outputs": [],
   "source": [
    "solution = model.optimize()"
   ]
  },
  {
   "cell_type": "code",
   "execution_count": 23,
   "id": "b1df03d3",
   "metadata": {},
   "outputs": [
    {
     "data": {
      "text/plain": [
       "ALAR        0.023614\n",
       "ALATA_L     0.160910\n",
       "ASNN        0.000000\n",
       "ASNS1       0.000000\n",
       "ASNS2       0.028295\n",
       "              ...   \n",
       "psiK2       0.000000\n",
       "psiM        0.000000\n",
       "psiM2       0.000000\n",
       "pho         0.000000\n",
       "DM_psi_c   -0.000000\n",
       "Name: fluxes, Length: 1215, dtype: float64"
      ]
     },
     "execution_count": 23,
     "metadata": {},
     "output_type": "execute_result"
    }
   ],
   "source": [
    "solution.fluxes"
   ]
  },
  {
   "cell_type": "code",
   "execution_count": 24,
   "id": "44cc7489",
   "metadata": {
    "scrolled": true
   },
   "outputs": [
    {
     "data": {
      "text/plain": [
       "pandas.core.series.Series"
      ]
     },
     "execution_count": 24,
     "metadata": {},
     "output_type": "execute_result"
    }
   ],
   "source": [
    "type(solution.fluxes)"
   ]
  },
  {
   "cell_type": "code",
   "execution_count": 25,
   "id": "b36e9145",
   "metadata": {},
   "outputs": [
    {
     "data": {
      "text/plain": [
       "count    1215.000000\n",
       "mean        0.181463\n",
       "std         1.776724\n",
       "min       -23.009007\n",
       "25%         0.000000\n",
       "50%         0.000000\n",
       "75%         0.000000\n",
       "max        29.971509\n",
       "Name: fluxes, dtype: float64"
      ]
     },
     "execution_count": 25,
     "metadata": {},
     "output_type": "execute_result"
    }
   ],
   "source": [
    "solution.fluxes.describe()"
   ]
  },
  {
   "cell_type": "code",
   "execution_count": 26,
   "id": "e1913fe6",
   "metadata": {},
   "outputs": [
    {
     "data": {
      "image/png": "[encoded data removed]",
      "text/plain": [
       "<Figure size 432x288 with 1 Axes>"
      ]
     },
     "metadata": {
      "needs_background": "light"
     },
     "output_type": "display_data"
    }
   ],
   "source": [
    "fig = solution.fluxes.hist()\n",
    "fig.set_xlabel('flux [$mmol gDW^{-1} h^{-1}]$')\n",
    "fig.set_ylabel('Frequency');"
   ]
  },
  {
   "cell_type": "code",
   "execution_count": 27,
   "id": "6c094999",
   "metadata": {},
   "outputs": [
    {
     "data": {
      "text/plain": [
       "ALAR       0.023614\n",
       "ALATA_L    0.160910\n",
       "ASNS2      0.028295\n",
       "ASPTA     -2.302015\n",
       "VPAMT      0.039972\n",
       "             ...   \n",
       "KARA1     -0.091457\n",
       "KARA2      0.027600\n",
       "OMCDC      0.051393\n",
       "THRD_L     0.027600\n",
       "LEUTAi     0.051393\n",
       "Name: fluxes, Length: 347, dtype: float64"
      ]
     },
     "execution_count": 27,
     "metadata": {},
     "output_type": "execute_result"
    }
   ],
   "source": [
    "solution.fluxes[solution.fluxes != 0.]"
   ]
  },
  {
   "cell_type": "code",
   "execution_count": null,
   "id": "13a9a62b",
   "metadata": {},
   "outputs": [],
   "source": []
  },
  {
   "cell_type": "code",
   "execution_count": null,
   "id": "f7faddc6",
   "metadata": {},
   "outputs": [],
   "source": []
  },
  {
   "cell_type": "markdown",
   "id": "ecb624e6",
   "metadata": {},
   "source": [
    "## Escher Plot"
   ]
  },
  {
   "cell_type": "code",
   "execution_count": 28,
   "id": "9f0e1346",
   "metadata": {},
   "outputs": [],
   "source": [
    "#this needs to go under optimization"
   ]
  },
  {
   "cell_type": "code",
   "execution_count": 29,
   "id": "0825b837",
   "metadata": {},
   "outputs": [
    {
     "data": {
      "text/plain": [
       "0.0"
      ]
     },
     "execution_count": 29,
     "metadata": {},
     "output_type": "execute_result"
    }
   ],
   "source": [
    "import escher\n",
    "model.optimize().objective_value"
   ]
  },
  {
   "cell_type": "code",
   "execution_count": 30,
   "id": "402e12f7-0fcf-40af-a247-fbad92ab9226",
   "metadata": {},
   "outputs": [],
   "source": [
    "from cobra.io import read_sbml_model"
   ]
  },
  {
   "cell_type": "code",
   "execution_count": 31,
   "id": "76b35e6f-8043-45ef-9b05-6aa81a4d24b0",
   "metadata": {},
   "outputs": [],
   "source": [
    "from IPython.display import display \n",
    "from escher import Builder"
   ]
  },
  {
   "cell_type": "code",
   "execution_count": 32,
   "id": "ae5c4fc4-2884-437d-b68d-5cc9e5853781",
   "metadata": {},
   "outputs": [
    {
     "data": {
      "text/plain": [
       "[{'organism': 'Saccharomyces cerevisiae',\n",
       "  'map_name': 'iMM904.Central carbon metabolism'},\n",
       " {'organism': 'Homo sapiens',\n",
       "  'map_name': 'RECON1.Inositol retinol metabolism'},\n",
       " {'organism': 'Homo sapiens', 'map_name': 'RECON1.Glycolysis TCA PPP'},\n",
       " {'organism': 'Homo sapiens', 'map_name': 'RECON1.Tryptophan metabolism'},\n",
       " {'organism': 'Homo sapiens', 'map_name': 'RECON1.Carbohydrate metabolism'},\n",
       " {'organism': 'Homo sapiens',\n",
       "  'map_name': 'RECON1.Amino acid metabolism (partial)'},\n",
       " {'organism': 'Escherichia coli', 'map_name': 'iJO1366.Nucleotide metabolism'},\n",
       " {'organism': 'Escherichia coli',\n",
       "  'map_name': 'iJO1366.Fatty acid biosynthesis (saturated)'},\n",
       " {'organism': 'Escherichia coli',\n",
       "  'map_name': 'iJO1366.Nucleotide and histidine biosynthesis'},\n",
       " {'organism': 'Escherichia coli', 'map_name': 'e_coli_core.Core metabolism'},\n",
       " {'organism': 'Escherichia coli', 'map_name': 'iJO1366.Central metabolism'},\n",
       " {'organism': 'Escherichia coli',\n",
       "  'map_name': 'iJO1366.Fatty acid beta-oxidation'}]"
      ]
     },
     "execution_count": 32,
     "metadata": {},
     "output_type": "execute_result"
    }
   ],
   "source": [
    "escher.list_available_maps()"
   ]
  },
  {
   "cell_type": "code",
   "execution_count": null,
   "id": "6516b1a3-ab45-4def-bffa-97c1d95ebee8",
   "metadata": {
    "scrolled": true
   },
   "outputs": [],
   "source": []
  },
  {
   "cell_type": "code",
   "execution_count": 33,
   "id": "c9793051-9fe0-4820-8d9b-6dce9110efdd",
   "metadata": {},
   "outputs": [],
   "source": [
    "#next: load our model"
   ]
  },
  {
   "cell_type": "code",
   "execution_count": 34,
   "id": "554be588",
   "metadata": {},
   "outputs": [],
   "source": [
    "builder = Builder()"
   ]
  },
  {
   "cell_type": "raw",
   "id": "49ce48f6",
   "metadata": {},
   "source": [
    "builder"
   ]
  },
  {
   "cell_type": "code",
   "execution_count": 35,
   "id": "9acf54d7",
   "metadata": {
    "scrolled": false
   },
   "outputs": [
    {
     "name": "stdout",
     "output_type": "stream",
     "text": [
      "Downloading Map from https://escher.github.io/1-0-0/6/maps/Saccharomyces%20cerevisiae/iMM904.Central%20carbon%20metabolism.json\n"
     ]
    }
   ],
   "source": [
    "builder.map_name = 'iMM904.Central carbon metabolism'"
   ]
  },
  {
   "cell_type": "code",
   "execution_count": 36,
   "id": "6aab2785",
   "metadata": {},
   "outputs": [],
   "source": [
    "from cobra.io import save_json_model\n",
    "save_json_model(model, \"Jens_Escher\")"
   ]
  },
  {
   "cell_type": "code",
   "execution_count": 39,
   "id": "5e209a3d",
   "metadata": {},
   "outputs": [],
   "source": [
    "builder.model_name = ('Jens_Escher.json')"
   ]
  },
  {
   "cell_type": "code",
   "execution_count": 40,
   "id": "4aafdebb",
   "metadata": {},
   "outputs": [
    {
     "data": {
      "text/plain": [
       "ALAR       0.023614\n",
       "ALATA_L    0.160910\n",
       "ASNS2      0.028295\n",
       "ASPTA     -2.302015\n",
       "VPAMT      0.039972\n",
       "             ...   \n",
       "KARA1     -0.091457\n",
       "KARA2      0.027600\n",
       "OMCDC      0.051393\n",
       "THRD_L     0.027600\n",
       "LEUTAi     0.051393\n",
       "Name: fluxes, Length: 347, dtype: float64"
      ]
     },
     "execution_count": 40,
     "metadata": {},
     "output_type": "execute_result"
    }
   ],
   "source": [
    "solution.fluxes[solution.fluxes != 0.]"
   ]
  },
  {
   "cell_type": "code",
   "execution_count": 41,
   "id": "cda6ad90",
   "metadata": {},
   "outputs": [
    {
     "name": "stdout",
     "output_type": "stream",
     "text": [
      "Downloading Map from https://escher.github.io/1-0-0/6/maps/Escherichia%20coli/e_coli_core.Core%20metabolism.json\n"
     ]
    },
    {
     "data": {
      "application/vnd.jupyter.widget-view+json": {
       "model_id": "b10bdc02308a49ceaf9e8035fe061783",
       "version_major": 2,
       "version_minor": 0
      },
      "text/plain": [
       "Builder(reaction_data={'ALAR': 0.023614178991092725, 'ALATA_L': 0.16090966857457678, 'ASNN': 0.0, 'ASNS1': 0.0…"
      ]
     },
     "metadata": {},
     "output_type": "display_data"
    }
   ],
   "source": [
    "escher.Builder('e_coli_core.Core metabolism',\n",
    "               reaction_data=solution.fluxes.to_dict())"
   ]
  },
  {
   "cell_type": "code",
   "execution_count": null,
   "id": "c444760f",
   "metadata": {},
   "outputs": [],
   "source": []
  }
 ],
 "metadata": {
  "kernelspec": {
   "display_name": "Python 3",
   "language": "python",
   "name": "python3"
  },
  "language_info": {
   "codemirror_mode": {
    "name": "ipython",
    "version": 3
   },
   "file_extension": ".py",
   "mimetype": "text/x-python",
   "name": "python",
   "nbconvert_exporter": "python",
   "pygments_lexer": "ipython3",
   "version": "3.6.13"
  }
 },
 "nbformat": 4,
 "nbformat_minor": 5
}
