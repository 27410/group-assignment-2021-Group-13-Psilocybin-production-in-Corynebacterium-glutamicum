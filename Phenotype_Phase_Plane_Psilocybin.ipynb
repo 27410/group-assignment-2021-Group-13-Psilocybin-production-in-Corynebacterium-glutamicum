{
 "cells": [
  {
   "cell_type": "code",
   "execution_count": 1,
   "id": "34b2fdb6",
   "metadata": {},
   "outputs": [],
   "source": [
    "import pandas as pd\n",
    "import matplotlib.pyplot as plt\n",
    "plt.style.use('seaborn')\n",
    "%matplotlib inline"
   ]
  },
  {
   "cell_type": "code",
   "execution_count": 2,
   "id": "f926d94a",
   "metadata": {},
   "outputs": [
    {
     "name": "stderr",
     "output_type": "stream",
     "text": [
      "No objective coefficients in model. Unclear what should be optimized\n"
     ]
    }
   ],
   "source": [
    "from cobra.io import read_sbml_model\n",
    "#make sure model name is up to date!\n",
    "model = read_sbml_model('iCW773_test7_psilocybin.xml')"
   ]
  },
  {
   "cell_type": "code",
   "execution_count": 3,
   "id": "45bc4fef",
   "metadata": {},
   "outputs": [
    {
     "name": "stdout",
     "output_type": "stream",
     "text": [
      "5.692998837082844e-05\n"
     ]
    }
   ],
   "source": [
    "#to set optimization (this is the production of psilocybin from the precursor)\n",
    "with model:\n",
    "    model.objective = model.reactions.DM_psi_c\n",
    "    print(model.optimize().objective_value)"
   ]
  },
  {
   "cell_type": "code",
   "execution_count": 4,
   "id": "81bcd083",
   "metadata": {},
   "outputs": [
    {
     "data": {
      "text/plain": [
       "[<Reaction CG_biomass_cgl_ATCC13032 at 0x1daeb613eb0>,\n",
       " <Reaction EX_biomass at 0x1daeb9788b0>]"
      ]
     },
     "execution_count": 4,
     "metadata": {},
     "output_type": "execute_result"
    }
   ],
   "source": [
    "model.reactions.query('biomass','name')"
   ]
  },
  {
   "cell_type": "code",
   "execution_count": 5,
   "id": "c72a613b",
   "metadata": {},
   "outputs": [],
   "source": [
    "#maybe add some other carbon source here\n",
    "from cobra.flux_analysis.phenotype_phase_plane import production_envelope"
   ]
  },
  {
   "cell_type": "code",
   "execution_count": 6,
   "id": "fefc991e",
   "metadata": {},
   "outputs": [
    {
     "data": {
      "text/html": [
       "\n",
       "        <table>\n",
       "            <tr>\n",
       "                <td><strong>Reaction identifier</strong></td><td>CG_biomass_cgl_ATCC13032</td>\n",
       "            </tr><tr>\n",
       "                <td><strong>Name</strong></td><td>cgl biomass objective function (ATCC13032)</td>\n",
       "            </tr><tr>\n",
       "                <td><strong>Memory address</strong></td>\n",
       "                <td>0x01daeb613eb0</td>\n",
       "            </tr><tr>\n",
       "                <td><strong>Stoichiometry</strong></td>\n",
       "                <td>\n",
       "                    <p style='text-align:right'>0.098705 arabino_c + 47.7 atp_c + 0.01039 dna_c + 47.7 h2o_c + 0.062224 ions_c + 0.10598 mycoli_c + 0.098705 peptid_c + 0.029092 phosph_c + 0.54028 protein_c + 0.05195 rna_c + 0.002679...</p>\n",
       "                    <p style='text-align:right'>0.098705 arabino + 47.7 ATP + 0.01039 DNA + 47.7 H2O + 0.062224 ions + 0.10598 mycoli + 0.098705 peptid + 0.029092 phosph + 0.54028 protein + 0.05195 rna + 0.002679 soluble_pool --> 47.7 ADP +...</p>\n",
       "                </td>\n",
       "            </tr><tr>\n",
       "                <td><strong>GPR</strong></td><td></td>\n",
       "            </tr><tr>\n",
       "                <td><strong>Lower bound</strong></td><td>0.0</td>\n",
       "            </tr><tr>\n",
       "                <td><strong>Upper bound</strong></td><td>0.428929662134894</td>\n",
       "            </tr>\n",
       "        </table>\n",
       "        "
      ],
      "text/plain": [
       "<Reaction CG_biomass_cgl_ATCC13032 at 0x1daeb613eb0>"
      ]
     },
     "execution_count": 6,
     "metadata": {},
     "output_type": "execute_result"
    }
   ],
   "source": [
    "model.reactions.CG_biomass_cgl_ATCC13032"
   ]
  },
  {
   "cell_type": "code",
   "execution_count": 7,
   "id": "3a1557b7",
   "metadata": {
    "scrolled": true
   },
   "outputs": [
    {
     "data": {
      "text/plain": [
       "[<Reaction EX_co2_e at 0x1daeb762790>,\n",
       " <Reaction EX_no2_e at 0x1daeb784850>,\n",
       " <Reaction EX_o2_e at 0x1daeb784910>,\n",
       " <Reaction EX_o2s_e at 0x1daeb784970>]"
      ]
     },
     "execution_count": 7,
     "metadata": {},
     "output_type": "execute_result"
    }
   ],
   "source": [
    "model.reactions.query('o2','id')"
   ]
  },
  {
   "cell_type": "code",
   "execution_count": 8,
   "id": "2b915d00",
   "metadata": {},
   "outputs": [],
   "source": [
    "ppp_base = production_envelope(\n",
    "    model, [\"EX_o2_e\"], objective=\"DM_psi_c\", carbon_sources=\"EX_glc_e\") #with high oxygen"
   ]
  },
  {
   "cell_type": "code",
   "execution_count": 9,
   "id": "95ed7d0c",
   "metadata": {
    "scrolled": false
   },
   "outputs": [
    {
     "data": {
      "text/html": [
       "<div>\n",
       "<style scoped>\n",
       "    .dataframe tbody tr th:only-of-type {\n",
       "        vertical-align: middle;\n",
       "    }\n",
       "\n",
       "    .dataframe tbody tr th {\n",
       "        vertical-align: top;\n",
       "    }\n",
       "\n",
       "    .dataframe thead th {\n",
       "        text-align: right;\n",
       "    }\n",
       "</style>\n",
       "<table border=\"1\" class=\"dataframe\">\n",
       "  <thead>\n",
       "    <tr style=\"text-align: right;\">\n",
       "      <th></th>\n",
       "      <th>carbon_source</th>\n",
       "      <th>flux_minimum</th>\n",
       "      <th>carbon_yield_minimum</th>\n",
       "      <th>mass_yield_minimum</th>\n",
       "      <th>flux_maximum</th>\n",
       "      <th>carbon_yield_maximum</th>\n",
       "      <th>mass_yield_maximum</th>\n",
       "      <th>EX_o2_e</th>\n",
       "    </tr>\n",
       "  </thead>\n",
       "  <tbody>\n",
       "    <tr>\n",
       "      <th>0</th>\n",
       "      <td>EX_glc_e</td>\n",
       "      <td>0.0</td>\n",
       "      <td>0.0</td>\n",
       "      <td>0.0</td>\n",
       "      <td>0.000000</td>\n",
       "      <td>2.290281e-16</td>\n",
       "      <td>1.806791e-16</td>\n",
       "      <td>-16.161130</td>\n",
       "    </tr>\n",
       "    <tr>\n",
       "      <th>1</th>\n",
       "      <td>EX_glc_e</td>\n",
       "      <td>0.0</td>\n",
       "      <td>0.0</td>\n",
       "      <td>0.0</td>\n",
       "      <td>0.000057</td>\n",
       "      <td>2.438115e-05</td>\n",
       "      <td>1.923417e-05</td>\n",
       "      <td>-15.405641</td>\n",
       "    </tr>\n",
       "    <tr>\n",
       "      <th>2</th>\n",
       "      <td>EX_glc_e</td>\n",
       "      <td>0.0</td>\n",
       "      <td>0.0</td>\n",
       "      <td>0.0</td>\n",
       "      <td>0.000057</td>\n",
       "      <td>2.438115e-05</td>\n",
       "      <td>1.923417e-05</td>\n",
       "      <td>-14.650152</td>\n",
       "    </tr>\n",
       "    <tr>\n",
       "      <th>3</th>\n",
       "      <td>EX_glc_e</td>\n",
       "      <td>0.0</td>\n",
       "      <td>0.0</td>\n",
       "      <td>0.0</td>\n",
       "      <td>0.000057</td>\n",
       "      <td>2.438115e-05</td>\n",
       "      <td>1.923417e-05</td>\n",
       "      <td>-13.894662</td>\n",
       "    </tr>\n",
       "    <tr>\n",
       "      <th>4</th>\n",
       "      <td>EX_glc_e</td>\n",
       "      <td>0.0</td>\n",
       "      <td>0.0</td>\n",
       "      <td>0.0</td>\n",
       "      <td>0.000057</td>\n",
       "      <td>2.438115e-05</td>\n",
       "      <td>1.923417e-05</td>\n",
       "      <td>-13.139173</td>\n",
       "    </tr>\n",
       "    <tr>\n",
       "      <th>5</th>\n",
       "      <td>EX_glc_e</td>\n",
       "      <td>0.0</td>\n",
       "      <td>0.0</td>\n",
       "      <td>0.0</td>\n",
       "      <td>0.000057</td>\n",
       "      <td>2.438115e-05</td>\n",
       "      <td>1.923417e-05</td>\n",
       "      <td>-12.383683</td>\n",
       "    </tr>\n",
       "    <tr>\n",
       "      <th>6</th>\n",
       "      <td>EX_glc_e</td>\n",
       "      <td>0.0</td>\n",
       "      <td>0.0</td>\n",
       "      <td>0.0</td>\n",
       "      <td>0.000057</td>\n",
       "      <td>2.438115e-05</td>\n",
       "      <td>1.923417e-05</td>\n",
       "      <td>-11.628194</td>\n",
       "    </tr>\n",
       "    <tr>\n",
       "      <th>7</th>\n",
       "      <td>EX_glc_e</td>\n",
       "      <td>0.0</td>\n",
       "      <td>0.0</td>\n",
       "      <td>0.0</td>\n",
       "      <td>0.000057</td>\n",
       "      <td>2.438115e-05</td>\n",
       "      <td>1.923417e-05</td>\n",
       "      <td>-10.872704</td>\n",
       "    </tr>\n",
       "    <tr>\n",
       "      <th>8</th>\n",
       "      <td>EX_glc_e</td>\n",
       "      <td>0.0</td>\n",
       "      <td>0.0</td>\n",
       "      <td>0.0</td>\n",
       "      <td>0.000057</td>\n",
       "      <td>2.438115e-05</td>\n",
       "      <td>1.923417e-05</td>\n",
       "      <td>-10.117215</td>\n",
       "    </tr>\n",
       "    <tr>\n",
       "      <th>9</th>\n",
       "      <td>EX_glc_e</td>\n",
       "      <td>0.0</td>\n",
       "      <td>0.0</td>\n",
       "      <td>0.0</td>\n",
       "      <td>0.000057</td>\n",
       "      <td>2.438115e-05</td>\n",
       "      <td>1.923417e-05</td>\n",
       "      <td>-9.361725</td>\n",
       "    </tr>\n",
       "    <tr>\n",
       "      <th>10</th>\n",
       "      <td>EX_glc_e</td>\n",
       "      <td>0.0</td>\n",
       "      <td>0.0</td>\n",
       "      <td>0.0</td>\n",
       "      <td>0.000057</td>\n",
       "      <td>2.438115e-05</td>\n",
       "      <td>1.923417e-05</td>\n",
       "      <td>-8.606236</td>\n",
       "    </tr>\n",
       "    <tr>\n",
       "      <th>11</th>\n",
       "      <td>EX_glc_e</td>\n",
       "      <td>0.0</td>\n",
       "      <td>0.0</td>\n",
       "      <td>0.0</td>\n",
       "      <td>0.000057</td>\n",
       "      <td>2.438115e-05</td>\n",
       "      <td>1.923417e-05</td>\n",
       "      <td>-7.850747</td>\n",
       "    </tr>\n",
       "    <tr>\n",
       "      <th>12</th>\n",
       "      <td>EX_glc_e</td>\n",
       "      <td>0.0</td>\n",
       "      <td>0.0</td>\n",
       "      <td>0.0</td>\n",
       "      <td>0.000057</td>\n",
       "      <td>2.438115e-05</td>\n",
       "      <td>1.923417e-05</td>\n",
       "      <td>-7.095257</td>\n",
       "    </tr>\n",
       "    <tr>\n",
       "      <th>13</th>\n",
       "      <td>EX_glc_e</td>\n",
       "      <td>0.0</td>\n",
       "      <td>0.0</td>\n",
       "      <td>0.0</td>\n",
       "      <td>0.000057</td>\n",
       "      <td>2.438115e-05</td>\n",
       "      <td>1.923417e-05</td>\n",
       "      <td>-6.339768</td>\n",
       "    </tr>\n",
       "    <tr>\n",
       "      <th>14</th>\n",
       "      <td>EX_glc_e</td>\n",
       "      <td>0.0</td>\n",
       "      <td>0.0</td>\n",
       "      <td>0.0</td>\n",
       "      <td>0.000057</td>\n",
       "      <td>2.489905e-05</td>\n",
       "      <td>1.964274e-05</td>\n",
       "      <td>-5.584278</td>\n",
       "    </tr>\n",
       "    <tr>\n",
       "      <th>15</th>\n",
       "      <td>EX_glc_e</td>\n",
       "      <td>0.0</td>\n",
       "      <td>0.0</td>\n",
       "      <td>0.0</td>\n",
       "      <td>0.000057</td>\n",
       "      <td>2.653381e-05</td>\n",
       "      <td>2.093239e-05</td>\n",
       "      <td>-4.828789</td>\n",
       "    </tr>\n",
       "    <tr>\n",
       "      <th>16</th>\n",
       "      <td>EX_glc_e</td>\n",
       "      <td>0.0</td>\n",
       "      <td>0.0</td>\n",
       "      <td>0.0</td>\n",
       "      <td>0.000057</td>\n",
       "      <td>2.653381e-05</td>\n",
       "      <td>2.093239e-05</td>\n",
       "      <td>-4.073299</td>\n",
       "    </tr>\n",
       "    <tr>\n",
       "      <th>17</th>\n",
       "      <td>EX_glc_e</td>\n",
       "      <td>0.0</td>\n",
       "      <td>0.0</td>\n",
       "      <td>0.0</td>\n",
       "      <td>0.000057</td>\n",
       "      <td>2.659056e-05</td>\n",
       "      <td>2.097716e-05</td>\n",
       "      <td>-3.317810</td>\n",
       "    </tr>\n",
       "    <tr>\n",
       "      <th>18</th>\n",
       "      <td>EX_glc_e</td>\n",
       "      <td>0.0</td>\n",
       "      <td>0.0</td>\n",
       "      <td>0.0</td>\n",
       "      <td>0.000057</td>\n",
       "      <td>2.659056e-05</td>\n",
       "      <td>2.097716e-05</td>\n",
       "      <td>-2.562320</td>\n",
       "    </tr>\n",
       "    <tr>\n",
       "      <th>19</th>\n",
       "      <td>EX_glc_e</td>\n",
       "      <td>0.0</td>\n",
       "      <td>0.0</td>\n",
       "      <td>0.0</td>\n",
       "      <td>0.000000</td>\n",
       "      <td>0.000000e+00</td>\n",
       "      <td>0.000000e+00</td>\n",
       "      <td>-1.806831</td>\n",
       "    </tr>\n",
       "  </tbody>\n",
       "</table>\n",
       "</div>"
      ],
      "text/plain": [
       "   carbon_source  flux_minimum  carbon_yield_minimum  mass_yield_minimum  \\\n",
       "0       EX_glc_e           0.0                   0.0                 0.0   \n",
       "1       EX_glc_e           0.0                   0.0                 0.0   \n",
       "2       EX_glc_e           0.0                   0.0                 0.0   \n",
       "3       EX_glc_e           0.0                   0.0                 0.0   \n",
       "4       EX_glc_e           0.0                   0.0                 0.0   \n",
       "5       EX_glc_e           0.0                   0.0                 0.0   \n",
       "6       EX_glc_e           0.0                   0.0                 0.0   \n",
       "7       EX_glc_e           0.0                   0.0                 0.0   \n",
       "8       EX_glc_e           0.0                   0.0                 0.0   \n",
       "9       EX_glc_e           0.0                   0.0                 0.0   \n",
       "10      EX_glc_e           0.0                   0.0                 0.0   \n",
       "11      EX_glc_e           0.0                   0.0                 0.0   \n",
       "12      EX_glc_e           0.0                   0.0                 0.0   \n",
       "13      EX_glc_e           0.0                   0.0                 0.0   \n",
       "14      EX_glc_e           0.0                   0.0                 0.0   \n",
       "15      EX_glc_e           0.0                   0.0                 0.0   \n",
       "16      EX_glc_e           0.0                   0.0                 0.0   \n",
       "17      EX_glc_e           0.0                   0.0                 0.0   \n",
       "18      EX_glc_e           0.0                   0.0                 0.0   \n",
       "19      EX_glc_e           0.0                   0.0                 0.0   \n",
       "\n",
       "    flux_maximum  carbon_yield_maximum  mass_yield_maximum    EX_o2_e  \n",
       "0       0.000000          2.290281e-16        1.806791e-16 -16.161130  \n",
       "1       0.000057          2.438115e-05        1.923417e-05 -15.405641  \n",
       "2       0.000057          2.438115e-05        1.923417e-05 -14.650152  \n",
       "3       0.000057          2.438115e-05        1.923417e-05 -13.894662  \n",
       "4       0.000057          2.438115e-05        1.923417e-05 -13.139173  \n",
       "5       0.000057          2.438115e-05        1.923417e-05 -12.383683  \n",
       "6       0.000057          2.438115e-05        1.923417e-05 -11.628194  \n",
       "7       0.000057          2.438115e-05        1.923417e-05 -10.872704  \n",
       "8       0.000057          2.438115e-05        1.923417e-05 -10.117215  \n",
       "9       0.000057          2.438115e-05        1.923417e-05  -9.361725  \n",
       "10      0.000057          2.438115e-05        1.923417e-05  -8.606236  \n",
       "11      0.000057          2.438115e-05        1.923417e-05  -7.850747  \n",
       "12      0.000057          2.438115e-05        1.923417e-05  -7.095257  \n",
       "13      0.000057          2.438115e-05        1.923417e-05  -6.339768  \n",
       "14      0.000057          2.489905e-05        1.964274e-05  -5.584278  \n",
       "15      0.000057          2.653381e-05        2.093239e-05  -4.828789  \n",
       "16      0.000057          2.653381e-05        2.093239e-05  -4.073299  \n",
       "17      0.000057          2.659056e-05        2.097716e-05  -3.317810  \n",
       "18      0.000057          2.659056e-05        2.097716e-05  -2.562320  \n",
       "19      0.000000          0.000000e+00        0.000000e+00  -1.806831  "
      ]
     },
     "execution_count": 9,
     "metadata": {},
     "output_type": "execute_result"
    }
   ],
   "source": [
    "ppp_base"
   ]
  },
  {
   "cell_type": "code",
   "execution_count": null,
   "id": "3bbef51a",
   "metadata": {},
   "outputs": [],
   "source": []
  },
  {
   "cell_type": "code",
   "execution_count": 10,
   "id": "c1ddd3cb",
   "metadata": {},
   "outputs": [
    {
     "data": {
      "text/plain": [
       "<AxesSubplot:xlabel='EX_o2_e'>"
      ]
     },
     "execution_count": 10,
     "metadata": {},
     "output_type": "execute_result"
    },
    {
     "data": {
      "image/png": "[encoded data removed]",
      "text/plain": [
       "<Figure size 432x288 with 1 Axes>"
      ]
     },
     "metadata": {
      "needs_background": "light"
     },
     "output_type": "display_data"
    }
   ],
   "source": [
    "ppp_base.plot(x='EX_o2_e', y='flux_maximum')"
   ]
  },
  {
   "cell_type": "code",
   "execution_count": 11,
   "id": "a644a556",
   "metadata": {},
   "outputs": [],
   "source": [
    "ppp_precursor = production_envelope(\n",
    "    model, [\"EX_o2_e\"], objective=\"psiK2\", carbon_sources=\"EX_glc_e\")"
   ]
  },
  {
   "cell_type": "code",
   "execution_count": 12,
   "id": "7a4c4c72",
   "metadata": {},
   "outputs": [
    {
     "data": {
      "text/html": [
       "<div>\n",
       "<style scoped>\n",
       "    .dataframe tbody tr th:only-of-type {\n",
       "        vertical-align: middle;\n",
       "    }\n",
       "\n",
       "    .dataframe tbody tr th {\n",
       "        vertical-align: top;\n",
       "    }\n",
       "\n",
       "    .dataframe thead th {\n",
       "        text-align: right;\n",
       "    }\n",
       "</style>\n",
       "<table border=\"1\" class=\"dataframe\">\n",
       "  <thead>\n",
       "    <tr style=\"text-align: right;\">\n",
       "      <th></th>\n",
       "      <th>carbon_source</th>\n",
       "      <th>flux_minimum</th>\n",
       "      <th>carbon_yield_minimum</th>\n",
       "      <th>mass_yield_minimum</th>\n",
       "      <th>flux_maximum</th>\n",
       "      <th>carbon_yield_maximum</th>\n",
       "      <th>mass_yield_maximum</th>\n",
       "      <th>EX_o2_e</th>\n",
       "    </tr>\n",
       "  </thead>\n",
       "  <tbody>\n",
       "    <tr>\n",
       "      <th>0</th>\n",
       "      <td>EX_glc_e</td>\n",
       "      <td>0.0</td>\n",
       "      <td>0.0</td>\n",
       "      <td>NaN</td>\n",
       "      <td>3.585758</td>\n",
       "      <td>2.815370e+00</td>\n",
       "      <td>NaN</td>\n",
       "      <td>-16.161130</td>\n",
       "    </tr>\n",
       "    <tr>\n",
       "      <th>1</th>\n",
       "      <td>EX_glc_e</td>\n",
       "      <td>0.0</td>\n",
       "      <td>0.0</td>\n",
       "      <td>NaN</td>\n",
       "      <td>3.963502</td>\n",
       "      <td>3.111958e+00</td>\n",
       "      <td>NaN</td>\n",
       "      <td>-15.405641</td>\n",
       "    </tr>\n",
       "    <tr>\n",
       "      <th>2</th>\n",
       "      <td>EX_glc_e</td>\n",
       "      <td>0.0</td>\n",
       "      <td>0.0</td>\n",
       "      <td>NaN</td>\n",
       "      <td>4.341247</td>\n",
       "      <td>3.408545e+00</td>\n",
       "      <td>NaN</td>\n",
       "      <td>-14.650152</td>\n",
       "    </tr>\n",
       "    <tr>\n",
       "      <th>3</th>\n",
       "      <td>EX_glc_e</td>\n",
       "      <td>0.0</td>\n",
       "      <td>0.0</td>\n",
       "      <td>NaN</td>\n",
       "      <td>4.718992</td>\n",
       "      <td>3.705133e+00</td>\n",
       "      <td>NaN</td>\n",
       "      <td>-13.894662</td>\n",
       "    </tr>\n",
       "    <tr>\n",
       "      <th>4</th>\n",
       "      <td>EX_glc_e</td>\n",
       "      <td>0.0</td>\n",
       "      <td>0.0</td>\n",
       "      <td>NaN</td>\n",
       "      <td>5.096736</td>\n",
       "      <td>4.001720e+00</td>\n",
       "      <td>NaN</td>\n",
       "      <td>-13.139173</td>\n",
       "    </tr>\n",
       "    <tr>\n",
       "      <th>5</th>\n",
       "      <td>EX_glc_e</td>\n",
       "      <td>0.0</td>\n",
       "      <td>0.0</td>\n",
       "      <td>NaN</td>\n",
       "      <td>5.415793</td>\n",
       "      <td>4.252229e+00</td>\n",
       "      <td>NaN</td>\n",
       "      <td>-12.383683</td>\n",
       "    </tr>\n",
       "    <tr>\n",
       "      <th>6</th>\n",
       "      <td>EX_glc_e</td>\n",
       "      <td>0.0</td>\n",
       "      <td>0.0</td>\n",
       "      <td>NaN</td>\n",
       "      <td>5.570437</td>\n",
       "      <td>4.373648e+00</td>\n",
       "      <td>NaN</td>\n",
       "      <td>-11.628194</td>\n",
       "    </tr>\n",
       "    <tr>\n",
       "      <th>7</th>\n",
       "      <td>EX_glc_e</td>\n",
       "      <td>0.0</td>\n",
       "      <td>0.0</td>\n",
       "      <td>NaN</td>\n",
       "      <td>5.570437</td>\n",
       "      <td>4.373648e+00</td>\n",
       "      <td>NaN</td>\n",
       "      <td>-10.872704</td>\n",
       "    </tr>\n",
       "    <tr>\n",
       "      <th>8</th>\n",
       "      <td>EX_glc_e</td>\n",
       "      <td>0.0</td>\n",
       "      <td>0.0</td>\n",
       "      <td>NaN</td>\n",
       "      <td>5.570437</td>\n",
       "      <td>4.373648e+00</td>\n",
       "      <td>NaN</td>\n",
       "      <td>-10.117215</td>\n",
       "    </tr>\n",
       "    <tr>\n",
       "      <th>9</th>\n",
       "      <td>EX_glc_e</td>\n",
       "      <td>0.0</td>\n",
       "      <td>0.0</td>\n",
       "      <td>NaN</td>\n",
       "      <td>5.566607</td>\n",
       "      <td>4.370641e+00</td>\n",
       "      <td>NaN</td>\n",
       "      <td>-9.361725</td>\n",
       "    </tr>\n",
       "    <tr>\n",
       "      <th>10</th>\n",
       "      <td>EX_glc_e</td>\n",
       "      <td>0.0</td>\n",
       "      <td>0.0</td>\n",
       "      <td>NaN</td>\n",
       "      <td>5.340874</td>\n",
       "      <td>4.193406e+00</td>\n",
       "      <td>NaN</td>\n",
       "      <td>-8.606236</td>\n",
       "    </tr>\n",
       "    <tr>\n",
       "      <th>11</th>\n",
       "      <td>EX_glc_e</td>\n",
       "      <td>0.0</td>\n",
       "      <td>0.0</td>\n",
       "      <td>NaN</td>\n",
       "      <td>5.066150</td>\n",
       "      <td>3.977706e+00</td>\n",
       "      <td>NaN</td>\n",
       "      <td>-7.850747</td>\n",
       "    </tr>\n",
       "    <tr>\n",
       "      <th>12</th>\n",
       "      <td>EX_glc_e</td>\n",
       "      <td>0.0</td>\n",
       "      <td>0.0</td>\n",
       "      <td>NaN</td>\n",
       "      <td>4.727789</td>\n",
       "      <td>4.019081e+00</td>\n",
       "      <td>NaN</td>\n",
       "      <td>-7.095257</td>\n",
       "    </tr>\n",
       "    <tr>\n",
       "      <th>13</th>\n",
       "      <td>EX_glc_e</td>\n",
       "      <td>0.0</td>\n",
       "      <td>0.0</td>\n",
       "      <td>NaN</td>\n",
       "      <td>4.350045</td>\n",
       "      <td>3.724959e+00</td>\n",
       "      <td>NaN</td>\n",
       "      <td>-6.339768</td>\n",
       "    </tr>\n",
       "    <tr>\n",
       "      <th>14</th>\n",
       "      <td>EX_glc_e</td>\n",
       "      <td>0.0</td>\n",
       "      <td>0.0</td>\n",
       "      <td>NaN</td>\n",
       "      <td>3.972300</td>\n",
       "      <td>3.401495e+00</td>\n",
       "      <td>NaN</td>\n",
       "      <td>-5.584278</td>\n",
       "    </tr>\n",
       "    <tr>\n",
       "      <th>15</th>\n",
       "      <td>EX_glc_e</td>\n",
       "      <td>0.0</td>\n",
       "      <td>0.0</td>\n",
       "      <td>NaN</td>\n",
       "      <td>3.594555</td>\n",
       "      <td>3.078031e+00</td>\n",
       "      <td>NaN</td>\n",
       "      <td>-4.828789</td>\n",
       "    </tr>\n",
       "    <tr>\n",
       "      <th>16</th>\n",
       "      <td>EX_glc_e</td>\n",
       "      <td>0.0</td>\n",
       "      <td>0.0</td>\n",
       "      <td>NaN</td>\n",
       "      <td>3.216810</td>\n",
       "      <td>2.754567e+00</td>\n",
       "      <td>NaN</td>\n",
       "      <td>-4.073299</td>\n",
       "    </tr>\n",
       "    <tr>\n",
       "      <th>17</th>\n",
       "      <td>EX_glc_e</td>\n",
       "      <td>0.0</td>\n",
       "      <td>0.0</td>\n",
       "      <td>NaN</td>\n",
       "      <td>2.839066</td>\n",
       "      <td>2.431102e+00</td>\n",
       "      <td>NaN</td>\n",
       "      <td>-3.317810</td>\n",
       "    </tr>\n",
       "    <tr>\n",
       "      <th>18</th>\n",
       "      <td>EX_glc_e</td>\n",
       "      <td>0.0</td>\n",
       "      <td>0.0</td>\n",
       "      <td>NaN</td>\n",
       "      <td>2.461321</td>\n",
       "      <td>2.112265e+00</td>\n",
       "      <td>NaN</td>\n",
       "      <td>-2.562320</td>\n",
       "    </tr>\n",
       "    <tr>\n",
       "      <th>19</th>\n",
       "      <td>EX_glc_e</td>\n",
       "      <td>0.0</td>\n",
       "      <td>0.0</td>\n",
       "      <td>NaN</td>\n",
       "      <td>0.000000</td>\n",
       "      <td>5.486494e-13</td>\n",
       "      <td>NaN</td>\n",
       "      <td>-1.806831</td>\n",
       "    </tr>\n",
       "  </tbody>\n",
       "</table>\n",
       "</div>"
      ],
      "text/plain": [
       "   carbon_source  flux_minimum  carbon_yield_minimum  mass_yield_minimum  \\\n",
       "0       EX_glc_e           0.0                   0.0                 NaN   \n",
       "1       EX_glc_e           0.0                   0.0                 NaN   \n",
       "2       EX_glc_e           0.0                   0.0                 NaN   \n",
       "3       EX_glc_e           0.0                   0.0                 NaN   \n",
       "4       EX_glc_e           0.0                   0.0                 NaN   \n",
       "5       EX_glc_e           0.0                   0.0                 NaN   \n",
       "6       EX_glc_e           0.0                   0.0                 NaN   \n",
       "7       EX_glc_e           0.0                   0.0                 NaN   \n",
       "8       EX_glc_e           0.0                   0.0                 NaN   \n",
       "9       EX_glc_e           0.0                   0.0                 NaN   \n",
       "10      EX_glc_e           0.0                   0.0                 NaN   \n",
       "11      EX_glc_e           0.0                   0.0                 NaN   \n",
       "12      EX_glc_e           0.0                   0.0                 NaN   \n",
       "13      EX_glc_e           0.0                   0.0                 NaN   \n",
       "14      EX_glc_e           0.0                   0.0                 NaN   \n",
       "15      EX_glc_e           0.0                   0.0                 NaN   \n",
       "16      EX_glc_e           0.0                   0.0                 NaN   \n",
       "17      EX_glc_e           0.0                   0.0                 NaN   \n",
       "18      EX_glc_e           0.0                   0.0                 NaN   \n",
       "19      EX_glc_e           0.0                   0.0                 NaN   \n",
       "\n",
       "    flux_maximum  carbon_yield_maximum  mass_yield_maximum    EX_o2_e  \n",
       "0       3.585758          2.815370e+00                 NaN -16.161130  \n",
       "1       3.963502          3.111958e+00                 NaN -15.405641  \n",
       "2       4.341247          3.408545e+00                 NaN -14.650152  \n",
       "3       4.718992          3.705133e+00                 NaN -13.894662  \n",
       "4       5.096736          4.001720e+00                 NaN -13.139173  \n",
       "5       5.415793          4.252229e+00                 NaN -12.383683  \n",
       "6       5.570437          4.373648e+00                 NaN -11.628194  \n",
       "7       5.570437          4.373648e+00                 NaN -10.872704  \n",
       "8       5.570437          4.373648e+00                 NaN -10.117215  \n",
       "9       5.566607          4.370641e+00                 NaN  -9.361725  \n",
       "10      5.340874          4.193406e+00                 NaN  -8.606236  \n",
       "11      5.066150          3.977706e+00                 NaN  -7.850747  \n",
       "12      4.727789          4.019081e+00                 NaN  -7.095257  \n",
       "13      4.350045          3.724959e+00                 NaN  -6.339768  \n",
       "14      3.972300          3.401495e+00                 NaN  -5.584278  \n",
       "15      3.594555          3.078031e+00                 NaN  -4.828789  \n",
       "16      3.216810          2.754567e+00                 NaN  -4.073299  \n",
       "17      2.839066          2.431102e+00                 NaN  -3.317810  \n",
       "18      2.461321          2.112265e+00                 NaN  -2.562320  \n",
       "19      0.000000          5.486494e-13                 NaN  -1.806831  "
      ]
     },
     "execution_count": 12,
     "metadata": {},
     "output_type": "execute_result"
    }
   ],
   "source": [
    "ppp_precursor"
   ]
  },
  {
   "cell_type": "code",
   "execution_count": 13,
   "id": "a29cd44b",
   "metadata": {},
   "outputs": [
    {
     "data": {
      "text/plain": [
       "<AxesSubplot:xlabel='EX_o2_e'>"
      ]
     },
     "execution_count": 13,
     "metadata": {},
     "output_type": "execute_result"
    },
    {
     "data": {
      "image/png": "[encoded data removed]",
      "text/plain": [
       "<Figure size 432x288 with 1 Axes>"
      ]
     },
     "metadata": {
      "needs_background": "light"
     },
     "output_type": "display_data"
    }
   ],
   "source": [
    "ppp_base.plot(x='EX_o2_e', y='flux_maximum')"
   ]
  },
  {
   "cell_type": "code",
   "execution_count": 14,
   "id": "768d3502",
   "metadata": {},
   "outputs": [
    {
     "data": {
      "image/png": "[encoded data removed]",
      "text/plain": [
       "<Figure size 432x288 with 1 Axes>"
      ]
     },
     "metadata": {
      "needs_background": "light"
     },
     "output_type": "display_data"
    }
   ],
   "source": [
    "ppp_base.plot(\n",
    "    kind='line', x='EX_o2_e', y='carbon_yield_maximum');"
   ]
  },
  {
   "cell_type": "code",
   "execution_count": 15,
   "id": "aa794d61",
   "metadata": {},
   "outputs": [
    {
     "data": {
      "image/png": "[encoded data removed]",
      "text/plain": [
       "<Figure size 432x288 with 1 Axes>"
      ]
     },
     "metadata": {
      "needs_background": "light"
     },
     "output_type": "display_data"
    }
   ],
   "source": [
    "ppp_precursor.plot(\n",
    "    kind='line', x='EX_o2_e', y='carbon_yield_maximum');"
   ]
  },
  {
   "cell_type": "code",
   "execution_count": 16,
   "id": "2adad1e0",
   "metadata": {},
   "outputs": [
    {
     "data": {
      "text/plain": [
       "{'EX_ca2_e': 0.0144877134286247,\n",
       " 'EX_cobalt2_e': 7.00338234344926e-05,\n",
       " 'EX_cu2_e': 0.00197271722237563,\n",
       " 'EX_fe2_e': 0.16239125,\n",
       " 'EX_fe3_e': 0.0217300637039616,\n",
       " 'EX_glc_e': 4.67,\n",
       " 'EX_k_e': 0.543285250115532,\n",
       " 'EX_mg2_e': 0.0241459221505149,\n",
       " 'EX_mn2_e': 0.00192443552016793,\n",
       " 'EX_nh4_e': 11.9121416666662,\n",
       " 'EX_ni2_e': 0.00089824250292982,\n",
       " 'EX_o2_e': 100,\n",
       " 'EX_pi_e': 0.918000000000888,\n",
       " 'EX_so4_e': 4.01673156249995,\n",
       " 'EX_zn2_e': 0.000948926279874219,\n",
       " 'EX_BIOTIN': 1.01925397503027e-06,\n",
       " 'EX_cl': 0.0144877134286247}"
      ]
     },
     "execution_count": 16,
     "metadata": {},
     "output_type": "execute_result"
    }
   ],
   "source": [
    "medium = model.medium\n",
    "medium[\"EX_o2_e\"] = 100     \n",
    "model.medium = medium\n",
    "\n",
    "model.medium"
   ]
  },
  {
   "cell_type": "code",
   "execution_count": 17,
   "id": "84def129",
   "metadata": {},
   "outputs": [],
   "source": [
    "ppp_psi2_oxy = production_envelope(model,\n",
    "                reactions=[model.reactions.EX_o2_e],\n",
    "                objective=[model.reactions.DM_psi_c])"
   ]
  },
  {
   "cell_type": "code",
   "execution_count": 18,
   "id": "f523277f",
   "metadata": {},
   "outputs": [
    {
     "data": {
      "text/plain": [
       "<AxesSubplot:xlabel='EX_o2_e'>"
      ]
     },
     "execution_count": 18,
     "metadata": {},
     "output_type": "execute_result"
    },
    {
     "data": {
      "image/png": "[encoded data removed]",
      "text/plain": [
       "<Figure size 432x288 with 1 Axes>"
      ]
     },
     "metadata": {
      "needs_background": "light"
     },
     "output_type": "display_data"
    }
   ],
   "source": [
    "ppp_psi2_oxy.plot(x='EX_o2_e', y='flux_maximum')"
   ]
  },
  {
   "cell_type": "code",
   "execution_count": 19,
   "id": "8edb45f6",
   "metadata": {},
   "outputs": [
    {
     "data": {
      "text/plain": [
       "{'EX_ca2_e': 0.0144877134286247,\n",
       " 'EX_cobalt2_e': 7.00338234344926e-05,\n",
       " 'EX_cu2_e': 0.00197271722237563,\n",
       " 'EX_fe2_e': 0.16239125,\n",
       " 'EX_fe3_e': 0.0217300637039616,\n",
       " 'EX_glc_e': 4.67,\n",
       " 'EX_k_e': 0.543285250115532,\n",
       " 'EX_mg2_e': 0.0241459221505149,\n",
       " 'EX_mn2_e': 0.00192443552016793,\n",
       " 'EX_nh4_e': 11.9121416666662,\n",
       " 'EX_ni2_e': 0.00089824250292982,\n",
       " 'EX_o2_e': 100,\n",
       " 'EX_pi_e': 0.918000000000888,\n",
       " 'EX_so4_e': 4.01673156249995,\n",
       " 'EX_zn2_e': 0.000948926279874219,\n",
       " 'EX_BIOTIN': 1.01925397503027e-06,\n",
       " 'EX_cl': 0.0144877134286247}"
      ]
     },
     "execution_count": 19,
     "metadata": {},
     "output_type": "execute_result"
    }
   ],
   "source": [
    "model.medium"
   ]
  },
  {
   "cell_type": "code",
   "execution_count": 20,
   "id": "4f5d1984",
   "metadata": {},
   "outputs": [],
   "source": [
    "ppp_high_oxy_prod = production_envelope(model,\n",
    "                reactions=[model.reactions.EX_glc_e],\n",
    "                objective=[model.reactions.DM_psi_c])"
   ]
  },
  {
   "cell_type": "code",
   "execution_count": 21,
   "id": "f233ac32",
   "metadata": {
    "scrolled": true
   },
   "outputs": [
    {
     "data": {
      "text/plain": [
       "<AxesSubplot:xlabel='EX_glc_e'>"
      ]
     },
     "execution_count": 21,
     "metadata": {},
     "output_type": "execute_result"
    },
    {
     "data": {
      "image/png": "[encoded data removed]",
      "text/plain": [
       "<Figure size 432x288 with 1 Axes>"
      ]
     },
     "metadata": {
      "needs_background": "light"
     },
     "output_type": "display_data"
    }
   ],
   "source": [
    "ppp_high_oxy_prod.plot(x='EX_glc_e', y='flux_maximum') #big difference between DM_psi_c and psiK2"
   ]
  },
  {
   "cell_type": "code",
   "execution_count": 22,
   "id": "cb0798e3",
   "metadata": {},
   "outputs": [
    {
     "name": "stderr",
     "output_type": "stream",
     "text": [
      "C:\\Users\\tamwei\\Anaconda3\\lib\\site-packages\\cobra\\core\\metabolite.py:102: UserWarning: 26.227799999999995 is not an integer (in formula C26.227799999999995H47.309599999999996O21.0818)\n",
      "  warn(\n",
      "C:\\Users\\tamwei\\Anaconda3\\lib\\site-packages\\cobra\\core\\metabolite.py:102: UserWarning: 47.309599999999996 is not an integer (in formula C26.227799999999995H47.309599999999996O21.0818)\n",
      "  warn(\n",
      "C:\\Users\\tamwei\\Anaconda3\\lib\\site-packages\\cobra\\core\\metabolite.py:102: UserWarning: 21.0818 is not an integer (in formula C26.227799999999995H47.309599999999996O21.0818)\n",
      "  warn(\n",
      "C:\\Users\\tamwei\\Anaconda3\\lib\\site-packages\\cobra\\core\\metabolite.py:102: UserWarning: 1.809384 is not an integer (in formula O1.809384S0.452346Fe1.514453Ca0.542815Co0.002624Cu0.073913K20.35556Mg0.904692Mn0.072104Ni0.033655Zn0.035554Cl0.542815)\n",
      "  warn(\n",
      "C:\\Users\\tamwei\\Anaconda3\\lib\\site-packages\\cobra\\core\\metabolite.py:102: UserWarning: 0.452346 is not an integer (in formula O1.809384S0.452346Fe1.514453Ca0.542815Co0.002624Cu0.073913K20.35556Mg0.904692Mn0.072104Ni0.033655Zn0.035554Cl0.542815)\n",
      "  warn(\n",
      "C:\\Users\\tamwei\\Anaconda3\\lib\\site-packages\\cobra\\core\\metabolite.py:102: UserWarning: 1.514453 is not an integer (in formula O1.809384S0.452346Fe1.514453Ca0.542815Co0.002624Cu0.073913K20.35556Mg0.904692Mn0.072104Ni0.033655Zn0.035554Cl0.542815)\n",
      "  warn(\n",
      "C:\\Users\\tamwei\\Anaconda3\\lib\\site-packages\\cobra\\core\\metabolite.py:102: UserWarning: 0.542815 is not an integer (in formula O1.809384S0.452346Fe1.514453Ca0.542815Co0.002624Cu0.073913K20.35556Mg0.904692Mn0.072104Ni0.033655Zn0.035554Cl0.542815)\n",
      "  warn(\n",
      "C:\\Users\\tamwei\\Anaconda3\\lib\\site-packages\\cobra\\core\\metabolite.py:102: UserWarning: 0.002624 is not an integer (in formula O1.809384S0.452346Fe1.514453Ca0.542815Co0.002624Cu0.073913K20.35556Mg0.904692Mn0.072104Ni0.033655Zn0.035554Cl0.542815)\n",
      "  warn(\n",
      "C:\\Users\\tamwei\\Anaconda3\\lib\\site-packages\\cobra\\core\\metabolite.py:102: UserWarning: 0.073913 is not an integer (in formula O1.809384S0.452346Fe1.514453Ca0.542815Co0.002624Cu0.073913K20.35556Mg0.904692Mn0.072104Ni0.033655Zn0.035554Cl0.542815)\n",
      "  warn(\n",
      "C:\\Users\\tamwei\\Anaconda3\\lib\\site-packages\\cobra\\core\\metabolite.py:102: UserWarning: 20.35556 is not an integer (in formula O1.809384S0.452346Fe1.514453Ca0.542815Co0.002624Cu0.073913K20.35556Mg0.904692Mn0.072104Ni0.033655Zn0.035554Cl0.542815)\n",
      "  warn(\n",
      "C:\\Users\\tamwei\\Anaconda3\\lib\\site-packages\\cobra\\core\\metabolite.py:102: UserWarning: 0.904692 is not an integer (in formula O1.809384S0.452346Fe1.514453Ca0.542815Co0.002624Cu0.073913K20.35556Mg0.904692Mn0.072104Ni0.033655Zn0.035554Cl0.542815)\n",
      "  warn(\n",
      "C:\\Users\\tamwei\\Anaconda3\\lib\\site-packages\\cobra\\core\\metabolite.py:102: UserWarning: 0.072104 is not an integer (in formula O1.809384S0.452346Fe1.514453Ca0.542815Co0.002624Cu0.073913K20.35556Mg0.904692Mn0.072104Ni0.033655Zn0.035554Cl0.542815)\n",
      "  warn(\n",
      "C:\\Users\\tamwei\\Anaconda3\\lib\\site-packages\\cobra\\core\\metabolite.py:102: UserWarning: 0.033655 is not an integer (in formula O1.809384S0.452346Fe1.514453Ca0.542815Co0.002624Cu0.073913K20.35556Mg0.904692Mn0.072104Ni0.033655Zn0.035554Cl0.542815)\n",
      "  warn(\n",
      "C:\\Users\\tamwei\\Anaconda3\\lib\\site-packages\\cobra\\core\\metabolite.py:102: UserWarning: 0.035554 is not an integer (in formula O1.809384S0.452346Fe1.514453Ca0.542815Co0.002624Cu0.073913K20.35556Mg0.904692Mn0.072104Ni0.033655Zn0.035554Cl0.542815)\n",
      "  warn(\n",
      "C:\\Users\\tamwei\\Anaconda3\\lib\\site-packages\\cobra\\core\\metabolite.py:102: UserWarning: 64.598238154 is not an integer (in formula C64.598238154H117.50071172599999O7.357917P0.267926)\n",
      "  warn(\n",
      "C:\\Users\\tamwei\\Anaconda3\\lib\\site-packages\\cobra\\core\\metabolite.py:102: UserWarning: 117.50071172599999 is not an integer (in formula C64.598238154H117.50071172599999O7.357917P0.267926)\n",
      "  warn(\n",
      "C:\\Users\\tamwei\\Anaconda3\\lib\\site-packages\\cobra\\core\\metabolite.py:102: UserWarning: 7.357917 is not an integer (in formula C64.598238154H117.50071172599999O7.357917P0.267926)\n",
      "  warn(\n",
      "C:\\Users\\tamwei\\Anaconda3\\lib\\site-packages\\cobra\\core\\metabolite.py:102: UserWarning: 0.267926 is not an integer (in formula C64.598238154H117.50071172599999O7.357917P0.267926)\n",
      "  warn(\n",
      "C:\\Users\\tamwei\\Anaconda3\\lib\\site-packages\\cobra\\core\\metabolite.py:102: UserWarning: 64.087066 is not an integer (in formula C64.087066H109.98235400000002N13.276022O50.168144P3.2394)\n",
      "  warn(\n",
      "C:\\Users\\tamwei\\Anaconda3\\lib\\site-packages\\cobra\\core\\metabolite.py:102: UserWarning: 109.98235400000002 is not an integer (in formula C64.087066H109.98235400000002N13.276022O50.168144P3.2394)\n",
      "  warn(\n",
      "C:\\Users\\tamwei\\Anaconda3\\lib\\site-packages\\cobra\\core\\metabolite.py:102: UserWarning: 13.276022 is not an integer (in formula C64.087066H109.98235400000002N13.276022O50.168144P3.2394)\n",
      "  warn(\n",
      "C:\\Users\\tamwei\\Anaconda3\\lib\\site-packages\\cobra\\core\\metabolite.py:102: UserWarning: 50.168144 is not an integer (in formula C64.087066H109.98235400000002N13.276022O50.168144P3.2394)\n",
      "  warn(\n",
      "C:\\Users\\tamwei\\Anaconda3\\lib\\site-packages\\cobra\\core\\metabolite.py:102: UserWarning: 3.2394 is not an integer (in formula C64.087066H109.98235400000002N13.276022O50.168144P3.2394)\n",
      "  warn(\n",
      "C:\\Users\\tamwei\\Anaconda3\\lib\\site-packages\\cobra\\core\\metabolite.py:102: UserWarning: 52.881848160000004 is not an integer (in formula C52.881848160000004H98.21897442240001N0.326586O16.9293528P2.563819800000001)\n",
      "  warn(\n",
      "C:\\Users\\tamwei\\Anaconda3\\lib\\site-packages\\cobra\\core\\metabolite.py:102: UserWarning: 98.21897442240001 is not an integer (in formula C52.881848160000004H98.21897442240001N0.326586O16.9293528P2.563819800000001)\n",
      "  warn(\n",
      "C:\\Users\\tamwei\\Anaconda3\\lib\\site-packages\\cobra\\core\\metabolite.py:102: UserWarning: 0.326586 is not an integer (in formula C52.881848160000004H98.21897442240001N0.326586O16.9293528P2.563819800000001)\n",
      "  warn(\n",
      "C:\\Users\\tamwei\\Anaconda3\\lib\\site-packages\\cobra\\core\\metabolite.py:102: UserWarning: 16.9293528 is not an integer (in formula C52.881848160000004H98.21897442240001N0.326586O16.9293528P2.563819800000001)\n",
      "  warn(\n",
      "C:\\Users\\tamwei\\Anaconda3\\lib\\site-packages\\cobra\\core\\metabolite.py:102: UserWarning: 2.563819800000001 is not an integer (in formula C52.881848160000004H98.21897442240001N0.326586O16.9293528P2.563819800000001)\n",
      "  warn(\n",
      "C:\\Users\\tamwei\\Anaconda3\\lib\\site-packages\\cobra\\core\\metabolite.py:102: UserWarning: 19.222443 is not an integer (in formula C19.222443H38.476530999999966N5.458296999999999O10.650917999999953P-0.000000000000004S0.108442)\n",
      "  warn(\n",
      "C:\\Users\\tamwei\\Anaconda3\\lib\\site-packages\\cobra\\core\\metabolite.py:102: UserWarning: 38.476530999999966 is not an integer (in formula C19.222443H38.476530999999966N5.458296999999999O10.650917999999953P-0.000000000000004S0.108442)\n",
      "  warn(\n",
      "C:\\Users\\tamwei\\Anaconda3\\lib\\site-packages\\cobra\\core\\metabolite.py:102: UserWarning: 5.458296999999999 is not an integer (in formula C19.222443H38.476530999999966N5.458296999999999O10.650917999999953P-0.000000000000004S0.108442)\n",
      "  warn(\n",
      "C:\\Users\\tamwei\\Anaconda3\\lib\\site-packages\\cobra\\core\\metabolite.py:102: UserWarning: 10.650917999999953 is not an integer (in formula C19.222443H38.476530999999966N5.458296999999999O10.650917999999953P-0.000000000000004S0.108442)\n",
      "  warn(\n",
      "C:\\Users\\tamwei\\Anaconda3\\lib\\site-packages\\cobra\\core\\metabolite.py:102: UserWarning: 0.108442 is not an integer (in formula C19.222443H38.476530999999966N5.458296999999999O10.650917999999953P-0.000000000000004S0.108442)\n",
      "  warn(\n",
      "C:\\Users\\tamwei\\Anaconda3\\lib\\site-packages\\cobra\\core\\metabolite.py:102: UserWarning: 28.60628 is not an integer (in formula C28.60628H33.27465N11.5971O22.976729999999996P2.99579)\n",
      "  warn(\n",
      "C:\\Users\\tamwei\\Anaconda3\\lib\\site-packages\\cobra\\core\\metabolite.py:102: UserWarning: 33.27465 is not an integer (in formula C28.60628H33.27465N11.5971O22.976729999999996P2.99579)\n",
      "  warn(\n",
      "C:\\Users\\tamwei\\Anaconda3\\lib\\site-packages\\cobra\\core\\metabolite.py:102: UserWarning: 11.5971 is not an integer (in formula C28.60628H33.27465N11.5971O22.976729999999996P2.99579)\n",
      "  warn(\n",
      "C:\\Users\\tamwei\\Anaconda3\\lib\\site-packages\\cobra\\core\\metabolite.py:102: UserWarning: 22.976729999999996 is not an integer (in formula C28.60628H33.27465N11.5971O22.976729999999996P2.99579)\n",
      "  warn(\n",
      "C:\\Users\\tamwei\\Anaconda3\\lib\\site-packages\\cobra\\core\\metabolite.py:102: UserWarning: 2.99579 is not an integer (in formula C28.60628H33.27465N11.5971O22.976729999999996P2.99579)\n",
      "  warn(\n",
      "C:\\Users\\tamwei\\Anaconda3\\lib\\site-packages\\cobra\\core\\metabolite.py:102: UserWarning: 31.685756 is not an integer (in formula C31.685756H40.884037000000006N9.559588O20.989518P3.134647S0.355614)\n",
      "  warn(\n",
      "C:\\Users\\tamwei\\Anaconda3\\lib\\site-packages\\cobra\\core\\metabolite.py:102: UserWarning: 40.884037000000006 is not an integer (in formula C31.685756H40.884037000000006N9.559588O20.989518P3.134647S0.355614)\n",
      "  warn(\n",
      "C:\\Users\\tamwei\\Anaconda3\\lib\\site-packages\\cobra\\core\\metabolite.py:102: UserWarning: 9.559588 is not an integer (in formula C31.685756H40.884037000000006N9.559588O20.989518P3.134647S0.355614)\n",
      "  warn(\n",
      "C:\\Users\\tamwei\\Anaconda3\\lib\\site-packages\\cobra\\core\\metabolite.py:102: UserWarning: 20.989518 is not an integer (in formula C31.685756H40.884037000000006N9.559588O20.989518P3.134647S0.355614)\n",
      "  warn(\n",
      "C:\\Users\\tamwei\\Anaconda3\\lib\\site-packages\\cobra\\core\\metabolite.py:102: UserWarning: 3.134647 is not an integer (in formula C31.685756H40.884037000000006N9.559588O20.989518P3.134647S0.355614)\n",
      "  warn(\n",
      "C:\\Users\\tamwei\\Anaconda3\\lib\\site-packages\\cobra\\core\\metabolite.py:102: UserWarning: 0.355614 is not an integer (in formula C31.685756H40.884037000000006N9.559588O20.989518P3.134647S0.355614)\n",
      "  warn(\n",
      "C:\\Users\\tamwei\\Anaconda3\\lib\\site-packages\\cobra\\core\\metabolite.py:102: UserWarning: 40.61964015575376 is not an integer (in formula C40.61964015575376H65.83441744734994N8.013199119561293O16.0581272232233P0.496895768854594S0.160334607330444Fe0.094235323472Ca0.03377612056Co0.000163275776Cu0.004599162512K1.26660436544Mg0.056293555008Mn0.004486599296Ni0.00209414872Zn0.002212312096Cl0.03377612056)\n",
      "  warn(\n",
      "C:\\Users\\tamwei\\Anaconda3\\lib\\site-packages\\cobra\\core\\metabolite.py:102: UserWarning: 65.83441744734994 is not an integer (in formula C40.61964015575376H65.83441744734994N8.013199119561293O16.0581272232233P0.496895768854594S0.160334607330444Fe0.094235323472Ca0.03377612056Co0.000163275776Cu0.004599162512K1.26660436544Mg0.056293555008Mn0.004486599296Ni0.00209414872Zn0.002212312096Cl0.03377612056)\n",
      "  warn(\n",
      "C:\\Users\\tamwei\\Anaconda3\\lib\\site-packages\\cobra\\core\\metabolite.py:102: UserWarning: 8.013199119561293 is not an integer (in formula C40.61964015575376H65.83441744734994N8.013199119561293O16.0581272232233P0.496895768854594S0.160334607330444Fe0.094235323472Ca0.03377612056Co0.000163275776Cu0.004599162512K1.26660436544Mg0.056293555008Mn0.004486599296Ni0.00209414872Zn0.002212312096Cl0.03377612056)\n",
      "  warn(\n",
      "C:\\Users\\tamwei\\Anaconda3\\lib\\site-packages\\cobra\\core\\metabolite.py:102: UserWarning: 16.0581272232233 is not an integer (in formula C40.61964015575376H65.83441744734994N8.013199119561293O16.0581272232233P0.496895768854594S0.160334607330444Fe0.094235323472Ca0.03377612056Co0.000163275776Cu0.004599162512K1.26660436544Mg0.056293555008Mn0.004486599296Ni0.00209414872Zn0.002212312096Cl0.03377612056)\n",
      "  warn(\n",
      "C:\\Users\\tamwei\\Anaconda3\\lib\\site-packages\\cobra\\core\\metabolite.py:102: UserWarning: 0.496895768854594 is not an integer (in formula C40.61964015575376H65.83441744734994N8.013199119561293O16.0581272232233P0.496895768854594S0.160334607330444Fe0.094235323472Ca0.03377612056Co0.000163275776Cu0.004599162512K1.26660436544Mg0.056293555008Mn0.004486599296Ni0.00209414872Zn0.002212312096Cl0.03377612056)\n",
      "  warn(\n",
      "C:\\Users\\tamwei\\Anaconda3\\lib\\site-packages\\cobra\\core\\metabolite.py:102: UserWarning: 0.160334607330444 is not an integer (in formula C40.61964015575376H65.83441744734994N8.013199119561293O16.0581272232233P0.496895768854594S0.160334607330444Fe0.094235323472Ca0.03377612056Co0.000163275776Cu0.004599162512K1.26660436544Mg0.056293555008Mn0.004486599296Ni0.00209414872Zn0.002212312096Cl0.03377612056)\n",
      "  warn(\n",
      "C:\\Users\\tamwei\\Anaconda3\\lib\\site-packages\\cobra\\core\\metabolite.py:102: UserWarning: 0.094235323472 is not an integer (in formula C40.61964015575376H65.83441744734994N8.013199119561293O16.0581272232233P0.496895768854594S0.160334607330444Fe0.094235323472Ca0.03377612056Co0.000163275776Cu0.004599162512K1.26660436544Mg0.056293555008Mn0.004486599296Ni0.00209414872Zn0.002212312096Cl0.03377612056)\n",
      "  warn(\n",
      "C:\\Users\\tamwei\\Anaconda3\\lib\\site-packages\\cobra\\core\\metabolite.py:102: UserWarning: 0.03377612056 is not an integer (in formula C40.61964015575376H65.83441744734994N8.013199119561293O16.0581272232233P0.496895768854594S0.160334607330444Fe0.094235323472Ca0.03377612056Co0.000163275776Cu0.004599162512K1.26660436544Mg0.056293555008Mn0.004486599296Ni0.00209414872Zn0.002212312096Cl0.03377612056)\n",
      "  warn(\n",
      "C:\\Users\\tamwei\\Anaconda3\\lib\\site-packages\\cobra\\core\\metabolite.py:102: UserWarning: 0.000163275776 is not an integer (in formula C40.61964015575376H65.83441744734994N8.013199119561293O16.0581272232233P0.496895768854594S0.160334607330444Fe0.094235323472Ca0.03377612056Co0.000163275776Cu0.004599162512K1.26660436544Mg0.056293555008Mn0.004486599296Ni0.00209414872Zn0.002212312096Cl0.03377612056)\n",
      "  warn(\n",
      "C:\\Users\\tamwei\\Anaconda3\\lib\\site-packages\\cobra\\core\\metabolite.py:102: UserWarning: 0.004599162512 is not an integer (in formula C40.61964015575376H65.83441744734994N8.013199119561293O16.0581272232233P0.496895768854594S0.160334607330444Fe0.094235323472Ca0.03377612056Co0.000163275776Cu0.004599162512K1.26660436544Mg0.056293555008Mn0.004486599296Ni0.00209414872Zn0.002212312096Cl0.03377612056)\n",
      "  warn(\n",
      "C:\\Users\\tamwei\\Anaconda3\\lib\\site-packages\\cobra\\core\\metabolite.py:102: UserWarning: 1.26660436544 is not an integer (in formula C40.61964015575376H65.83441744734994N8.013199119561293O16.0581272232233P0.496895768854594S0.160334607330444Fe0.094235323472Ca0.03377612056Co0.000163275776Cu0.004599162512K1.26660436544Mg0.056293555008Mn0.004486599296Ni0.00209414872Zn0.002212312096Cl0.03377612056)\n",
      "  warn(\n",
      "C:\\Users\\tamwei\\Anaconda3\\lib\\site-packages\\cobra\\core\\metabolite.py:102: UserWarning: 0.056293555008 is not an integer (in formula C40.61964015575376H65.83441744734994N8.013199119561293O16.0581272232233P0.496895768854594S0.160334607330444Fe0.094235323472Ca0.03377612056Co0.000163275776Cu0.004599162512K1.26660436544Mg0.056293555008Mn0.004486599296Ni0.00209414872Zn0.002212312096Cl0.03377612056)\n",
      "  warn(\n",
      "C:\\Users\\tamwei\\Anaconda3\\lib\\site-packages\\cobra\\core\\metabolite.py:102: UserWarning: 0.004486599296 is not an integer (in formula C40.61964015575376H65.83441744734994N8.013199119561293O16.0581272232233P0.496895768854594S0.160334607330444Fe0.094235323472Ca0.03377612056Co0.000163275776Cu0.004599162512K1.26660436544Mg0.056293555008Mn0.004486599296Ni0.00209414872Zn0.002212312096Cl0.03377612056)\n",
      "  warn(\n",
      "C:\\Users\\tamwei\\Anaconda3\\lib\\site-packages\\cobra\\core\\metabolite.py:102: UserWarning: 0.00209414872 is not an integer (in formula C40.61964015575376H65.83441744734994N8.013199119561293O16.0581272232233P0.496895768854594S0.160334607330444Fe0.094235323472Ca0.03377612056Co0.000163275776Cu0.004599162512K1.26660436544Mg0.056293555008Mn0.004486599296Ni0.00209414872Zn0.002212312096Cl0.03377612056)\n",
      "  warn(\n",
      "C:\\Users\\tamwei\\Anaconda3\\lib\\site-packages\\cobra\\core\\metabolite.py:102: UserWarning: 0.002212312096 is not an integer (in formula C40.61964015575376H65.83441744734994N8.013199119561293O16.0581272232233P0.496895768854594S0.160334607330444Fe0.094235323472Ca0.03377612056Co0.000163275776Cu0.004599162512K1.26660436544Mg0.056293555008Mn0.004486599296Ni0.00209414872Zn0.002212312096Cl0.03377612056)\n",
      "  warn(\n"
     ]
    }
   ],
   "source": [
    "ppp_high_oxy_growth = production_envelope(model,\n",
    "                reactions=[model.reactions.EX_glc_e],\n",
    "                objective=[model.reactions.CG_biomass_cgl_ATCC13032])"
   ]
  },
  {
   "cell_type": "code",
   "execution_count": 23,
   "id": "e854330d",
   "metadata": {},
   "outputs": [
    {
     "data": {
      "text/plain": [
       "<AxesSubplot:xlabel='EX_glc_e'>"
      ]
     },
     "execution_count": 23,
     "metadata": {},
     "output_type": "execute_result"
    },
    {
     "data": {
      "image/png": "[encoded data removed]",
      "text/plain": [
       "<Figure size 432x288 with 1 Axes>"
      ]
     },
     "metadata": {
      "needs_background": "light"
     },
     "output_type": "display_data"
    }
   ],
   "source": [
    "ppp_high_oxy_growth.plot(x='EX_glc_e', y='flux_maximum') # extend range of glucose"
   ]
  },
  {
   "cell_type": "code",
   "execution_count": 24,
   "id": "0b381e51",
   "metadata": {},
   "outputs": [],
   "source": [
    "from cobra.medium import minimal_medium\n",
    "\n",
    "max_growth = model.slim_optimize()\n",
    "absmin = minimal_medium(model, max_growth)"
   ]
  },
  {
   "cell_type": "code",
   "execution_count": 25,
   "id": "b8ddb1f4",
   "metadata": {},
   "outputs": [
    {
     "data": {
      "text/plain": [
       "EX_glc_e    4.116257\n",
       "EX_nh4_e    0.286035\n",
       "EX_o2_e     1.824766\n",
       "EX_so4_e    1.881979\n",
       "dtype: float64"
      ]
     },
     "execution_count": 25,
     "metadata": {},
     "output_type": "execute_result"
    }
   ],
   "source": [
    "absmin"
   ]
  },
  {
   "cell_type": "code",
   "execution_count": 26,
   "id": "6f092878",
   "metadata": {},
   "outputs": [
    {
     "data": {
      "text/plain": [
       "{'EX_ca2_e': 0.0144877134286247,\n",
       " 'EX_cobalt2_e': 7.00338234344926e-05,\n",
       " 'EX_cu2_e': 0.00197271722237563,\n",
       " 'EX_fe2_e': 0.16239125,\n",
       " 'EX_fe3_e': 0.0217300637039616,\n",
       " 'EX_glc_e': 4.67,\n",
       " 'EX_k_e': 0.543285250115532,\n",
       " 'EX_mg2_e': 0.0241459221505149,\n",
       " 'EX_mn2_e': 0.00192443552016793,\n",
       " 'EX_nh4_e': 11.9121416666662,\n",
       " 'EX_ni2_e': 0.00089824250292982,\n",
       " 'EX_o2_e': 1.8247658329851104,\n",
       " 'EX_pi_e': 0.918000000000888,\n",
       " 'EX_so4_e': 4.01673156249995,\n",
       " 'EX_zn2_e': 0.000948926279874219,\n",
       " 'EX_BIOTIN': 1.01925397503027e-06,\n",
       " 'EX_cl': 0.0144877134286247}"
      ]
     },
     "execution_count": 26,
     "metadata": {},
     "output_type": "execute_result"
    }
   ],
   "source": [
    "medium = model.medium\n",
    "medium[\"EX_o2_e\"] = absmin.EX_o2_e     \n",
    "model.medium = medium\n",
    "\n",
    "model.medium"
   ]
  },
  {
   "cell_type": "code",
   "execution_count": 27,
   "id": "76cdc41e",
   "metadata": {},
   "outputs": [],
   "source": [
    "ppp_low_oxy_prod = production_envelope(model,\n",
    "                reactions=[model.reactions.EX_glc_e],\n",
    "                objective=[model.reactions.DM_psi_c])"
   ]
  },
  {
   "cell_type": "code",
   "execution_count": 28,
   "id": "bd2d14b5",
   "metadata": {},
   "outputs": [
    {
     "data": {
      "text/plain": [
       "<AxesSubplot:xlabel='EX_glc_e'>"
      ]
     },
     "execution_count": 28,
     "metadata": {},
     "output_type": "execute_result"
    },
    {
     "data": {
      "image/png": "[encoded data removed]",
      "text/plain": [
       "<Figure size 432x288 with 1 Axes>"
      ]
     },
     "metadata": {
      "needs_background": "light"
     },
     "output_type": "display_data"
    }
   ],
   "source": [
    "ppp_low_oxy_prod.plot(x='EX_glc_e', y='flux_maximum')"
   ]
  },
  {
   "cell_type": "code",
   "execution_count": 29,
   "id": "57d19ed1",
   "metadata": {},
   "outputs": [
    {
     "name": "stderr",
     "output_type": "stream",
     "text": [
      "C:\\Users\\tamwei\\Anaconda3\\lib\\site-packages\\cobra\\core\\metabolite.py:102: UserWarning: 26.227799999999995 is not an integer (in formula C26.227799999999995H47.309599999999996O21.0818)\n",
      "  warn(\n",
      "C:\\Users\\tamwei\\Anaconda3\\lib\\site-packages\\cobra\\core\\metabolite.py:102: UserWarning: 47.309599999999996 is not an integer (in formula C26.227799999999995H47.309599999999996O21.0818)\n",
      "  warn(\n",
      "C:\\Users\\tamwei\\Anaconda3\\lib\\site-packages\\cobra\\core\\metabolite.py:102: UserWarning: 21.0818 is not an integer (in formula C26.227799999999995H47.309599999999996O21.0818)\n",
      "  warn(\n",
      "C:\\Users\\tamwei\\Anaconda3\\lib\\site-packages\\cobra\\core\\metabolite.py:102: UserWarning: 1.809384 is not an integer (in formula O1.809384S0.452346Fe1.514453Ca0.542815Co0.002624Cu0.073913K20.35556Mg0.904692Mn0.072104Ni0.033655Zn0.035554Cl0.542815)\n",
      "  warn(\n",
      "C:\\Users\\tamwei\\Anaconda3\\lib\\site-packages\\cobra\\core\\metabolite.py:102: UserWarning: 0.452346 is not an integer (in formula O1.809384S0.452346Fe1.514453Ca0.542815Co0.002624Cu0.073913K20.35556Mg0.904692Mn0.072104Ni0.033655Zn0.035554Cl0.542815)\n",
      "  warn(\n",
      "C:\\Users\\tamwei\\Anaconda3\\lib\\site-packages\\cobra\\core\\metabolite.py:102: UserWarning: 1.514453 is not an integer (in formula O1.809384S0.452346Fe1.514453Ca0.542815Co0.002624Cu0.073913K20.35556Mg0.904692Mn0.072104Ni0.033655Zn0.035554Cl0.542815)\n",
      "  warn(\n",
      "C:\\Users\\tamwei\\Anaconda3\\lib\\site-packages\\cobra\\core\\metabolite.py:102: UserWarning: 0.542815 is not an integer (in formula O1.809384S0.452346Fe1.514453Ca0.542815Co0.002624Cu0.073913K20.35556Mg0.904692Mn0.072104Ni0.033655Zn0.035554Cl0.542815)\n",
      "  warn(\n",
      "C:\\Users\\tamwei\\Anaconda3\\lib\\site-packages\\cobra\\core\\metabolite.py:102: UserWarning: 0.002624 is not an integer (in formula O1.809384S0.452346Fe1.514453Ca0.542815Co0.002624Cu0.073913K20.35556Mg0.904692Mn0.072104Ni0.033655Zn0.035554Cl0.542815)\n",
      "  warn(\n",
      "C:\\Users\\tamwei\\Anaconda3\\lib\\site-packages\\cobra\\core\\metabolite.py:102: UserWarning: 0.073913 is not an integer (in formula O1.809384S0.452346Fe1.514453Ca0.542815Co0.002624Cu0.073913K20.35556Mg0.904692Mn0.072104Ni0.033655Zn0.035554Cl0.542815)\n",
      "  warn(\n",
      "C:\\Users\\tamwei\\Anaconda3\\lib\\site-packages\\cobra\\core\\metabolite.py:102: UserWarning: 20.35556 is not an integer (in formula O1.809384S0.452346Fe1.514453Ca0.542815Co0.002624Cu0.073913K20.35556Mg0.904692Mn0.072104Ni0.033655Zn0.035554Cl0.542815)\n",
      "  warn(\n",
      "C:\\Users\\tamwei\\Anaconda3\\lib\\site-packages\\cobra\\core\\metabolite.py:102: UserWarning: 0.904692 is not an integer (in formula O1.809384S0.452346Fe1.514453Ca0.542815Co0.002624Cu0.073913K20.35556Mg0.904692Mn0.072104Ni0.033655Zn0.035554Cl0.542815)\n",
      "  warn(\n",
      "C:\\Users\\tamwei\\Anaconda3\\lib\\site-packages\\cobra\\core\\metabolite.py:102: UserWarning: 0.072104 is not an integer (in formula O1.809384S0.452346Fe1.514453Ca0.542815Co0.002624Cu0.073913K20.35556Mg0.904692Mn0.072104Ni0.033655Zn0.035554Cl0.542815)\n",
      "  warn(\n",
      "C:\\Users\\tamwei\\Anaconda3\\lib\\site-packages\\cobra\\core\\metabolite.py:102: UserWarning: 0.033655 is not an integer (in formula O1.809384S0.452346Fe1.514453Ca0.542815Co0.002624Cu0.073913K20.35556Mg0.904692Mn0.072104Ni0.033655Zn0.035554Cl0.542815)\n",
      "  warn(\n",
      "C:\\Users\\tamwei\\Anaconda3\\lib\\site-packages\\cobra\\core\\metabolite.py:102: UserWarning: 0.035554 is not an integer (in formula O1.809384S0.452346Fe1.514453Ca0.542815Co0.002624Cu0.073913K20.35556Mg0.904692Mn0.072104Ni0.033655Zn0.035554Cl0.542815)\n",
      "  warn(\n",
      "C:\\Users\\tamwei\\Anaconda3\\lib\\site-packages\\cobra\\core\\metabolite.py:102: UserWarning: 64.598238154 is not an integer (in formula C64.598238154H117.50071172599999O7.357917P0.267926)\n",
      "  warn(\n",
      "C:\\Users\\tamwei\\Anaconda3\\lib\\site-packages\\cobra\\core\\metabolite.py:102: UserWarning: 117.50071172599999 is not an integer (in formula C64.598238154H117.50071172599999O7.357917P0.267926)\n",
      "  warn(\n",
      "C:\\Users\\tamwei\\Anaconda3\\lib\\site-packages\\cobra\\core\\metabolite.py:102: UserWarning: 7.357917 is not an integer (in formula C64.598238154H117.50071172599999O7.357917P0.267926)\n",
      "  warn(\n",
      "C:\\Users\\tamwei\\Anaconda3\\lib\\site-packages\\cobra\\core\\metabolite.py:102: UserWarning: 0.267926 is not an integer (in formula C64.598238154H117.50071172599999O7.357917P0.267926)\n",
      "  warn(\n",
      "C:\\Users\\tamwei\\Anaconda3\\lib\\site-packages\\cobra\\core\\metabolite.py:102: UserWarning: 64.087066 is not an integer (in formula C64.087066H109.98235400000002N13.276022O50.168144P3.2394)\n",
      "  warn(\n",
      "C:\\Users\\tamwei\\Anaconda3\\lib\\site-packages\\cobra\\core\\metabolite.py:102: UserWarning: 109.98235400000002 is not an integer (in formula C64.087066H109.98235400000002N13.276022O50.168144P3.2394)\n",
      "  warn(\n",
      "C:\\Users\\tamwei\\Anaconda3\\lib\\site-packages\\cobra\\core\\metabolite.py:102: UserWarning: 13.276022 is not an integer (in formula C64.087066H109.98235400000002N13.276022O50.168144P3.2394)\n",
      "  warn(\n",
      "C:\\Users\\tamwei\\Anaconda3\\lib\\site-packages\\cobra\\core\\metabolite.py:102: UserWarning: 50.168144 is not an integer (in formula C64.087066H109.98235400000002N13.276022O50.168144P3.2394)\n",
      "  warn(\n",
      "C:\\Users\\tamwei\\Anaconda3\\lib\\site-packages\\cobra\\core\\metabolite.py:102: UserWarning: 3.2394 is not an integer (in formula C64.087066H109.98235400000002N13.276022O50.168144P3.2394)\n",
      "  warn(\n",
      "C:\\Users\\tamwei\\Anaconda3\\lib\\site-packages\\cobra\\core\\metabolite.py:102: UserWarning: 52.881848160000004 is not an integer (in formula C52.881848160000004H98.21897442240001N0.326586O16.9293528P2.563819800000001)\n",
      "  warn(\n",
      "C:\\Users\\tamwei\\Anaconda3\\lib\\site-packages\\cobra\\core\\metabolite.py:102: UserWarning: 98.21897442240001 is not an integer (in formula C52.881848160000004H98.21897442240001N0.326586O16.9293528P2.563819800000001)\n",
      "  warn(\n",
      "C:\\Users\\tamwei\\Anaconda3\\lib\\site-packages\\cobra\\core\\metabolite.py:102: UserWarning: 0.326586 is not an integer (in formula C52.881848160000004H98.21897442240001N0.326586O16.9293528P2.563819800000001)\n",
      "  warn(\n",
      "C:\\Users\\tamwei\\Anaconda3\\lib\\site-packages\\cobra\\core\\metabolite.py:102: UserWarning: 16.9293528 is not an integer (in formula C52.881848160000004H98.21897442240001N0.326586O16.9293528P2.563819800000001)\n",
      "  warn(\n",
      "C:\\Users\\tamwei\\Anaconda3\\lib\\site-packages\\cobra\\core\\metabolite.py:102: UserWarning: 2.563819800000001 is not an integer (in formula C52.881848160000004H98.21897442240001N0.326586O16.9293528P2.563819800000001)\n",
      "  warn(\n",
      "C:\\Users\\tamwei\\Anaconda3\\lib\\site-packages\\cobra\\core\\metabolite.py:102: UserWarning: 19.222443 is not an integer (in formula C19.222443H38.476530999999966N5.458296999999999O10.650917999999953P-0.000000000000004S0.108442)\n",
      "  warn(\n",
      "C:\\Users\\tamwei\\Anaconda3\\lib\\site-packages\\cobra\\core\\metabolite.py:102: UserWarning: 38.476530999999966 is not an integer (in formula C19.222443H38.476530999999966N5.458296999999999O10.650917999999953P-0.000000000000004S0.108442)\n",
      "  warn(\n",
      "C:\\Users\\tamwei\\Anaconda3\\lib\\site-packages\\cobra\\core\\metabolite.py:102: UserWarning: 5.458296999999999 is not an integer (in formula C19.222443H38.476530999999966N5.458296999999999O10.650917999999953P-0.000000000000004S0.108442)\n",
      "  warn(\n",
      "C:\\Users\\tamwei\\Anaconda3\\lib\\site-packages\\cobra\\core\\metabolite.py:102: UserWarning: 10.650917999999953 is not an integer (in formula C19.222443H38.476530999999966N5.458296999999999O10.650917999999953P-0.000000000000004S0.108442)\n",
      "  warn(\n",
      "C:\\Users\\tamwei\\Anaconda3\\lib\\site-packages\\cobra\\core\\metabolite.py:102: UserWarning: 0.108442 is not an integer (in formula C19.222443H38.476530999999966N5.458296999999999O10.650917999999953P-0.000000000000004S0.108442)\n",
      "  warn(\n",
      "C:\\Users\\tamwei\\Anaconda3\\lib\\site-packages\\cobra\\core\\metabolite.py:102: UserWarning: 28.60628 is not an integer (in formula C28.60628H33.27465N11.5971O22.976729999999996P2.99579)\n",
      "  warn(\n",
      "C:\\Users\\tamwei\\Anaconda3\\lib\\site-packages\\cobra\\core\\metabolite.py:102: UserWarning: 33.27465 is not an integer (in formula C28.60628H33.27465N11.5971O22.976729999999996P2.99579)\n",
      "  warn(\n",
      "C:\\Users\\tamwei\\Anaconda3\\lib\\site-packages\\cobra\\core\\metabolite.py:102: UserWarning: 11.5971 is not an integer (in formula C28.60628H33.27465N11.5971O22.976729999999996P2.99579)\n",
      "  warn(\n",
      "C:\\Users\\tamwei\\Anaconda3\\lib\\site-packages\\cobra\\core\\metabolite.py:102: UserWarning: 22.976729999999996 is not an integer (in formula C28.60628H33.27465N11.5971O22.976729999999996P2.99579)\n",
      "  warn(\n",
      "C:\\Users\\tamwei\\Anaconda3\\lib\\site-packages\\cobra\\core\\metabolite.py:102: UserWarning: 2.99579 is not an integer (in formula C28.60628H33.27465N11.5971O22.976729999999996P2.99579)\n",
      "  warn(\n",
      "C:\\Users\\tamwei\\Anaconda3\\lib\\site-packages\\cobra\\core\\metabolite.py:102: UserWarning: 31.685756 is not an integer (in formula C31.685756H40.884037000000006N9.559588O20.989518P3.134647S0.355614)\n",
      "  warn(\n",
      "C:\\Users\\tamwei\\Anaconda3\\lib\\site-packages\\cobra\\core\\metabolite.py:102: UserWarning: 40.884037000000006 is not an integer (in formula C31.685756H40.884037000000006N9.559588O20.989518P3.134647S0.355614)\n",
      "  warn(\n",
      "C:\\Users\\tamwei\\Anaconda3\\lib\\site-packages\\cobra\\core\\metabolite.py:102: UserWarning: 9.559588 is not an integer (in formula C31.685756H40.884037000000006N9.559588O20.989518P3.134647S0.355614)\n",
      "  warn(\n",
      "C:\\Users\\tamwei\\Anaconda3\\lib\\site-packages\\cobra\\core\\metabolite.py:102: UserWarning: 20.989518 is not an integer (in formula C31.685756H40.884037000000006N9.559588O20.989518P3.134647S0.355614)\n",
      "  warn(\n",
      "C:\\Users\\tamwei\\Anaconda3\\lib\\site-packages\\cobra\\core\\metabolite.py:102: UserWarning: 3.134647 is not an integer (in formula C31.685756H40.884037000000006N9.559588O20.989518P3.134647S0.355614)\n",
      "  warn(\n",
      "C:\\Users\\tamwei\\Anaconda3\\lib\\site-packages\\cobra\\core\\metabolite.py:102: UserWarning: 0.355614 is not an integer (in formula C31.685756H40.884037000000006N9.559588O20.989518P3.134647S0.355614)\n",
      "  warn(\n",
      "C:\\Users\\tamwei\\Anaconda3\\lib\\site-packages\\cobra\\core\\metabolite.py:102: UserWarning: 40.61964015575376 is not an integer (in formula C40.61964015575376H65.83441744734994N8.013199119561293O16.0581272232233P0.496895768854594S0.160334607330444Fe0.094235323472Ca0.03377612056Co0.000163275776Cu0.004599162512K1.26660436544Mg0.056293555008Mn0.004486599296Ni0.00209414872Zn0.002212312096Cl0.03377612056)\n",
      "  warn(\n",
      "C:\\Users\\tamwei\\Anaconda3\\lib\\site-packages\\cobra\\core\\metabolite.py:102: UserWarning: 65.83441744734994 is not an integer (in formula C40.61964015575376H65.83441744734994N8.013199119561293O16.0581272232233P0.496895768854594S0.160334607330444Fe0.094235323472Ca0.03377612056Co0.000163275776Cu0.004599162512K1.26660436544Mg0.056293555008Mn0.004486599296Ni0.00209414872Zn0.002212312096Cl0.03377612056)\n",
      "  warn(\n",
      "C:\\Users\\tamwei\\Anaconda3\\lib\\site-packages\\cobra\\core\\metabolite.py:102: UserWarning: 8.013199119561293 is not an integer (in formula C40.61964015575376H65.83441744734994N8.013199119561293O16.0581272232233P0.496895768854594S0.160334607330444Fe0.094235323472Ca0.03377612056Co0.000163275776Cu0.004599162512K1.26660436544Mg0.056293555008Mn0.004486599296Ni0.00209414872Zn0.002212312096Cl0.03377612056)\n",
      "  warn(\n",
      "C:\\Users\\tamwei\\Anaconda3\\lib\\site-packages\\cobra\\core\\metabolite.py:102: UserWarning: 16.0581272232233 is not an integer (in formula C40.61964015575376H65.83441744734994N8.013199119561293O16.0581272232233P0.496895768854594S0.160334607330444Fe0.094235323472Ca0.03377612056Co0.000163275776Cu0.004599162512K1.26660436544Mg0.056293555008Mn0.004486599296Ni0.00209414872Zn0.002212312096Cl0.03377612056)\n",
      "  warn(\n",
      "C:\\Users\\tamwei\\Anaconda3\\lib\\site-packages\\cobra\\core\\metabolite.py:102: UserWarning: 0.496895768854594 is not an integer (in formula C40.61964015575376H65.83441744734994N8.013199119561293O16.0581272232233P0.496895768854594S0.160334607330444Fe0.094235323472Ca0.03377612056Co0.000163275776Cu0.004599162512K1.26660436544Mg0.056293555008Mn0.004486599296Ni0.00209414872Zn0.002212312096Cl0.03377612056)\n",
      "  warn(\n",
      "C:\\Users\\tamwei\\Anaconda3\\lib\\site-packages\\cobra\\core\\metabolite.py:102: UserWarning: 0.160334607330444 is not an integer (in formula C40.61964015575376H65.83441744734994N8.013199119561293O16.0581272232233P0.496895768854594S0.160334607330444Fe0.094235323472Ca0.03377612056Co0.000163275776Cu0.004599162512K1.26660436544Mg0.056293555008Mn0.004486599296Ni0.00209414872Zn0.002212312096Cl0.03377612056)\n",
      "  warn(\n",
      "C:\\Users\\tamwei\\Anaconda3\\lib\\site-packages\\cobra\\core\\metabolite.py:102: UserWarning: 0.094235323472 is not an integer (in formula C40.61964015575376H65.83441744734994N8.013199119561293O16.0581272232233P0.496895768854594S0.160334607330444Fe0.094235323472Ca0.03377612056Co0.000163275776Cu0.004599162512K1.26660436544Mg0.056293555008Mn0.004486599296Ni0.00209414872Zn0.002212312096Cl0.03377612056)\n",
      "  warn(\n",
      "C:\\Users\\tamwei\\Anaconda3\\lib\\site-packages\\cobra\\core\\metabolite.py:102: UserWarning: 0.03377612056 is not an integer (in formula C40.61964015575376H65.83441744734994N8.013199119561293O16.0581272232233P0.496895768854594S0.160334607330444Fe0.094235323472Ca0.03377612056Co0.000163275776Cu0.004599162512K1.26660436544Mg0.056293555008Mn0.004486599296Ni0.00209414872Zn0.002212312096Cl0.03377612056)\n",
      "  warn(\n",
      "C:\\Users\\tamwei\\Anaconda3\\lib\\site-packages\\cobra\\core\\metabolite.py:102: UserWarning: 0.000163275776 is not an integer (in formula C40.61964015575376H65.83441744734994N8.013199119561293O16.0581272232233P0.496895768854594S0.160334607330444Fe0.094235323472Ca0.03377612056Co0.000163275776Cu0.004599162512K1.26660436544Mg0.056293555008Mn0.004486599296Ni0.00209414872Zn0.002212312096Cl0.03377612056)\n",
      "  warn(\n",
      "C:\\Users\\tamwei\\Anaconda3\\lib\\site-packages\\cobra\\core\\metabolite.py:102: UserWarning: 0.004599162512 is not an integer (in formula C40.61964015575376H65.83441744734994N8.013199119561293O16.0581272232233P0.496895768854594S0.160334607330444Fe0.094235323472Ca0.03377612056Co0.000163275776Cu0.004599162512K1.26660436544Mg0.056293555008Mn0.004486599296Ni0.00209414872Zn0.002212312096Cl0.03377612056)\n",
      "  warn(\n",
      "C:\\Users\\tamwei\\Anaconda3\\lib\\site-packages\\cobra\\core\\metabolite.py:102: UserWarning: 1.26660436544 is not an integer (in formula C40.61964015575376H65.83441744734994N8.013199119561293O16.0581272232233P0.496895768854594S0.160334607330444Fe0.094235323472Ca0.03377612056Co0.000163275776Cu0.004599162512K1.26660436544Mg0.056293555008Mn0.004486599296Ni0.00209414872Zn0.002212312096Cl0.03377612056)\n",
      "  warn(\n",
      "C:\\Users\\tamwei\\Anaconda3\\lib\\site-packages\\cobra\\core\\metabolite.py:102: UserWarning: 0.056293555008 is not an integer (in formula C40.61964015575376H65.83441744734994N8.013199119561293O16.0581272232233P0.496895768854594S0.160334607330444Fe0.094235323472Ca0.03377612056Co0.000163275776Cu0.004599162512K1.26660436544Mg0.056293555008Mn0.004486599296Ni0.00209414872Zn0.002212312096Cl0.03377612056)\n",
      "  warn(\n",
      "C:\\Users\\tamwei\\Anaconda3\\lib\\site-packages\\cobra\\core\\metabolite.py:102: UserWarning: 0.004486599296 is not an integer (in formula C40.61964015575376H65.83441744734994N8.013199119561293O16.0581272232233P0.496895768854594S0.160334607330444Fe0.094235323472Ca0.03377612056Co0.000163275776Cu0.004599162512K1.26660436544Mg0.056293555008Mn0.004486599296Ni0.00209414872Zn0.002212312096Cl0.03377612056)\n",
      "  warn(\n",
      "C:\\Users\\tamwei\\Anaconda3\\lib\\site-packages\\cobra\\core\\metabolite.py:102: UserWarning: 0.00209414872 is not an integer (in formula C40.61964015575376H65.83441744734994N8.013199119561293O16.0581272232233P0.496895768854594S0.160334607330444Fe0.094235323472Ca0.03377612056Co0.000163275776Cu0.004599162512K1.26660436544Mg0.056293555008Mn0.004486599296Ni0.00209414872Zn0.002212312096Cl0.03377612056)\n",
      "  warn(\n",
      "C:\\Users\\tamwei\\Anaconda3\\lib\\site-packages\\cobra\\core\\metabolite.py:102: UserWarning: 0.002212312096 is not an integer (in formula C40.61964015575376H65.83441744734994N8.013199119561293O16.0581272232233P0.496895768854594S0.160334607330444Fe0.094235323472Ca0.03377612056Co0.000163275776Cu0.004599162512K1.26660436544Mg0.056293555008Mn0.004486599296Ni0.00209414872Zn0.002212312096Cl0.03377612056)\n",
      "  warn(\n"
     ]
    }
   ],
   "source": [
    "ppp_low_oxy_growth = production_envelope(model,\n",
    "                reactions=[model.reactions.EX_glc_e],\n",
    "                objective=[model.reactions.CG_biomass_cgl_ATCC13032])"
   ]
  },
  {
   "cell_type": "code",
   "execution_count": 30,
   "id": "11d1fa0c",
   "metadata": {},
   "outputs": [
    {
     "data": {
      "text/plain": [
       "<AxesSubplot:xlabel='EX_glc_e'>"
      ]
     },
     "execution_count": 30,
     "metadata": {},
     "output_type": "execute_result"
    },
    {
     "data": {
      "image/png": "[encoded data removed]",
      "text/plain": [
       "<Figure size 432x288 with 1 Axes>"
      ]
     },
     "metadata": {
      "needs_background": "light"
     },
     "output_type": "display_data"
    }
   ],
   "source": [
    "ppp_low_oxy_growth.plot(x='EX_glc_e', y='flux_maximum')"
   ]
  },
  {
   "cell_type": "code",
   "execution_count": 37,
   "id": "e054ae9d",
   "metadata": {},
   "outputs": [
    {
     "data": {
      "text/plain": [
       "{'EX_ca2_e': 0.0144877134286247,\n",
       " 'EX_cobalt2_e': 7.00338234344926e-05,\n",
       " 'EX_cu2_e': 0.00197271722237563,\n",
       " 'EX_fe2_e': 0.16239125,\n",
       " 'EX_fe3_e': 0.0217300637039616,\n",
       " 'EX_glc_e': 100,\n",
       " 'EX_k_e': 0.543285250115532,\n",
       " 'EX_mg2_e': 0.0241459221505149,\n",
       " 'EX_mn2_e': 0.00192443552016793,\n",
       " 'EX_nh4_e': 11.9121416666662,\n",
       " 'EX_ni2_e': 0.00089824250292982,\n",
       " 'EX_o2_e': 100,\n",
       " 'EX_pi_e': 0.918000000000888,\n",
       " 'EX_so4_e': 4.01673156249995,\n",
       " 'EX_zn2_e': 0.000948926279874219,\n",
       " 'EX_BIOTIN': 1.01925397503027e-06,\n",
       " 'EX_cl': 0.0144877134286247}"
      ]
     },
     "execution_count": 37,
     "metadata": {},
     "output_type": "execute_result"
    }
   ],
   "source": [
    "medium = model.medium\n",
    "medium[\"EX_o2_e\"] = 100 \n",
    "medium[\"EX_glc_e\"] = 100\n",
    "model.medium = medium\n",
    "\n",
    "model.medium"
   ]
  },
  {
   "cell_type": "code",
   "execution_count": 45,
   "id": "9ecf83aa",
   "metadata": {},
   "outputs": [],
   "source": [
    "ppp_test = production_envelope(model,\n",
    "                reactions=[model.reactions.EX_glc_e],\n",
    "                objective=[model.reactions.psiM2])"
   ]
  },
  {
   "cell_type": "code",
   "execution_count": 46,
   "id": "15db19ea",
   "metadata": {},
   "outputs": [
    {
     "data": {
      "text/html": [
       "<div>\n",
       "<style scoped>\n",
       "    .dataframe tbody tr th:only-of-type {\n",
       "        vertical-align: middle;\n",
       "    }\n",
       "\n",
       "    .dataframe tbody tr th {\n",
       "        vertical-align: top;\n",
       "    }\n",
       "\n",
       "    .dataframe thead th {\n",
       "        text-align: right;\n",
       "    }\n",
       "</style>\n",
       "<table border=\"1\" class=\"dataframe\">\n",
       "  <thead>\n",
       "    <tr style=\"text-align: right;\">\n",
       "      <th></th>\n",
       "      <th>carbon_source</th>\n",
       "      <th>flux_minimum</th>\n",
       "      <th>carbon_yield_minimum</th>\n",
       "      <th>mass_yield_minimum</th>\n",
       "      <th>flux_maximum</th>\n",
       "      <th>carbon_yield_maximum</th>\n",
       "      <th>mass_yield_maximum</th>\n",
       "      <th>EX_glc_e</th>\n",
       "    </tr>\n",
       "  </thead>\n",
       "  <tbody>\n",
       "    <tr>\n",
       "      <th>0</th>\n",
       "      <td>EX_glc_e</td>\n",
       "      <td>0.0</td>\n",
       "      <td>0.000000e+00</td>\n",
       "      <td>NaN</td>\n",
       "      <td>0.000057</td>\n",
       "      <td>0.000043</td>\n",
       "      <td>NaN</td>\n",
       "      <td>-5.734630</td>\n",
       "    </tr>\n",
       "    <tr>\n",
       "      <th>1</th>\n",
       "      <td>EX_glc_e</td>\n",
       "      <td>0.0</td>\n",
       "      <td>0.000000e+00</td>\n",
       "      <td>NaN</td>\n",
       "      <td>0.000057</td>\n",
       "      <td>0.000044</td>\n",
       "      <td>NaN</td>\n",
       "      <td>-5.648547</td>\n",
       "    </tr>\n",
       "    <tr>\n",
       "      <th>2</th>\n",
       "      <td>EX_glc_e</td>\n",
       "      <td>0.0</td>\n",
       "      <td>0.000000e+00</td>\n",
       "      <td>NaN</td>\n",
       "      <td>0.000057</td>\n",
       "      <td>0.000044</td>\n",
       "      <td>NaN</td>\n",
       "      <td>-5.562465</td>\n",
       "    </tr>\n",
       "    <tr>\n",
       "      <th>3</th>\n",
       "      <td>EX_glc_e</td>\n",
       "      <td>0.0</td>\n",
       "      <td>0.000000e+00</td>\n",
       "      <td>NaN</td>\n",
       "      <td>0.000057</td>\n",
       "      <td>0.000045</td>\n",
       "      <td>NaN</td>\n",
       "      <td>-5.476382</td>\n",
       "    </tr>\n",
       "    <tr>\n",
       "      <th>4</th>\n",
       "      <td>EX_glc_e</td>\n",
       "      <td>0.0</td>\n",
       "      <td>0.000000e+00</td>\n",
       "      <td>NaN</td>\n",
       "      <td>0.000057</td>\n",
       "      <td>0.000046</td>\n",
       "      <td>NaN</td>\n",
       "      <td>-5.390299</td>\n",
       "    </tr>\n",
       "    <tr>\n",
       "      <th>5</th>\n",
       "      <td>EX_glc_e</td>\n",
       "      <td>0.0</td>\n",
       "      <td>0.000000e+00</td>\n",
       "      <td>NaN</td>\n",
       "      <td>0.000057</td>\n",
       "      <td>0.000047</td>\n",
       "      <td>NaN</td>\n",
       "      <td>-5.304217</td>\n",
       "    </tr>\n",
       "    <tr>\n",
       "      <th>6</th>\n",
       "      <td>EX_glc_e</td>\n",
       "      <td>0.0</td>\n",
       "      <td>0.000000e+00</td>\n",
       "      <td>NaN</td>\n",
       "      <td>0.000057</td>\n",
       "      <td>0.000047</td>\n",
       "      <td>NaN</td>\n",
       "      <td>-5.218134</td>\n",
       "    </tr>\n",
       "    <tr>\n",
       "      <th>7</th>\n",
       "      <td>EX_glc_e</td>\n",
       "      <td>0.0</td>\n",
       "      <td>0.000000e+00</td>\n",
       "      <td>NaN</td>\n",
       "      <td>0.000057</td>\n",
       "      <td>0.000048</td>\n",
       "      <td>NaN</td>\n",
       "      <td>-5.132052</td>\n",
       "    </tr>\n",
       "    <tr>\n",
       "      <th>8</th>\n",
       "      <td>EX_glc_e</td>\n",
       "      <td>0.0</td>\n",
       "      <td>0.000000e+00</td>\n",
       "      <td>NaN</td>\n",
       "      <td>0.000057</td>\n",
       "      <td>0.000049</td>\n",
       "      <td>NaN</td>\n",
       "      <td>-5.045969</td>\n",
       "    </tr>\n",
       "    <tr>\n",
       "      <th>9</th>\n",
       "      <td>EX_glc_e</td>\n",
       "      <td>0.0</td>\n",
       "      <td>0.000000e+00</td>\n",
       "      <td>NaN</td>\n",
       "      <td>0.000057</td>\n",
       "      <td>0.000050</td>\n",
       "      <td>NaN</td>\n",
       "      <td>-4.959886</td>\n",
       "    </tr>\n",
       "    <tr>\n",
       "      <th>10</th>\n",
       "      <td>EX_glc_e</td>\n",
       "      <td>0.0</td>\n",
       "      <td>0.000000e+00</td>\n",
       "      <td>NaN</td>\n",
       "      <td>0.000057</td>\n",
       "      <td>0.000051</td>\n",
       "      <td>NaN</td>\n",
       "      <td>-4.873804</td>\n",
       "    </tr>\n",
       "    <tr>\n",
       "      <th>11</th>\n",
       "      <td>EX_glc_e</td>\n",
       "      <td>0.0</td>\n",
       "      <td>0.000000e+00</td>\n",
       "      <td>NaN</td>\n",
       "      <td>0.000057</td>\n",
       "      <td>0.000052</td>\n",
       "      <td>NaN</td>\n",
       "      <td>-4.787721</td>\n",
       "    </tr>\n",
       "    <tr>\n",
       "      <th>12</th>\n",
       "      <td>EX_glc_e</td>\n",
       "      <td>0.0</td>\n",
       "      <td>0.000000e+00</td>\n",
       "      <td>NaN</td>\n",
       "      <td>0.000057</td>\n",
       "      <td>0.000052</td>\n",
       "      <td>NaN</td>\n",
       "      <td>-4.701638</td>\n",
       "    </tr>\n",
       "    <tr>\n",
       "      <th>13</th>\n",
       "      <td>EX_glc_e</td>\n",
       "      <td>0.0</td>\n",
       "      <td>0.000000e+00</td>\n",
       "      <td>NaN</td>\n",
       "      <td>0.000057</td>\n",
       "      <td>0.000053</td>\n",
       "      <td>NaN</td>\n",
       "      <td>-4.615556</td>\n",
       "    </tr>\n",
       "    <tr>\n",
       "      <th>14</th>\n",
       "      <td>EX_glc_e</td>\n",
       "      <td>0.0</td>\n",
       "      <td>0.000000e+00</td>\n",
       "      <td>NaN</td>\n",
       "      <td>0.000057</td>\n",
       "      <td>0.000054</td>\n",
       "      <td>NaN</td>\n",
       "      <td>-4.529473</td>\n",
       "    </tr>\n",
       "    <tr>\n",
       "      <th>15</th>\n",
       "      <td>EX_glc_e</td>\n",
       "      <td>0.0</td>\n",
       "      <td>0.000000e+00</td>\n",
       "      <td>NaN</td>\n",
       "      <td>0.000057</td>\n",
       "      <td>0.000056</td>\n",
       "      <td>NaN</td>\n",
       "      <td>-4.443391</td>\n",
       "    </tr>\n",
       "    <tr>\n",
       "      <th>16</th>\n",
       "      <td>EX_glc_e</td>\n",
       "      <td>0.0</td>\n",
       "      <td>5.264828e-23</td>\n",
       "      <td>NaN</td>\n",
       "      <td>0.000057</td>\n",
       "      <td>0.000057</td>\n",
       "      <td>NaN</td>\n",
       "      <td>-4.357308</td>\n",
       "    </tr>\n",
       "    <tr>\n",
       "      <th>17</th>\n",
       "      <td>EX_glc_e</td>\n",
       "      <td>0.0</td>\n",
       "      <td>0.000000e+00</td>\n",
       "      <td>NaN</td>\n",
       "      <td>0.000057</td>\n",
       "      <td>0.000058</td>\n",
       "      <td>NaN</td>\n",
       "      <td>-4.271225</td>\n",
       "    </tr>\n",
       "    <tr>\n",
       "      <th>18</th>\n",
       "      <td>EX_glc_e</td>\n",
       "      <td>0.0</td>\n",
       "      <td>4.385127e-22</td>\n",
       "      <td>NaN</td>\n",
       "      <td>0.000057</td>\n",
       "      <td>0.000059</td>\n",
       "      <td>NaN</td>\n",
       "      <td>-4.185143</td>\n",
       "    </tr>\n",
       "    <tr>\n",
       "      <th>19</th>\n",
       "      <td>EX_glc_e</td>\n",
       "      <td>0.0</td>\n",
       "      <td>2.268903e-20</td>\n",
       "      <td>NaN</td>\n",
       "      <td>0.000057</td>\n",
       "      <td>0.000060</td>\n",
       "      <td>NaN</td>\n",
       "      <td>-4.099060</td>\n",
       "    </tr>\n",
       "  </tbody>\n",
       "</table>\n",
       "</div>"
      ],
      "text/plain": [
       "   carbon_source  flux_minimum  carbon_yield_minimum  mass_yield_minimum  \\\n",
       "0       EX_glc_e           0.0          0.000000e+00                 NaN   \n",
       "1       EX_glc_e           0.0          0.000000e+00                 NaN   \n",
       "2       EX_glc_e           0.0          0.000000e+00                 NaN   \n",
       "3       EX_glc_e           0.0          0.000000e+00                 NaN   \n",
       "4       EX_glc_e           0.0          0.000000e+00                 NaN   \n",
       "5       EX_glc_e           0.0          0.000000e+00                 NaN   \n",
       "6       EX_glc_e           0.0          0.000000e+00                 NaN   \n",
       "7       EX_glc_e           0.0          0.000000e+00                 NaN   \n",
       "8       EX_glc_e           0.0          0.000000e+00                 NaN   \n",
       "9       EX_glc_e           0.0          0.000000e+00                 NaN   \n",
       "10      EX_glc_e           0.0          0.000000e+00                 NaN   \n",
       "11      EX_glc_e           0.0          0.000000e+00                 NaN   \n",
       "12      EX_glc_e           0.0          0.000000e+00                 NaN   \n",
       "13      EX_glc_e           0.0          0.000000e+00                 NaN   \n",
       "14      EX_glc_e           0.0          0.000000e+00                 NaN   \n",
       "15      EX_glc_e           0.0          0.000000e+00                 NaN   \n",
       "16      EX_glc_e           0.0          5.264828e-23                 NaN   \n",
       "17      EX_glc_e           0.0          0.000000e+00                 NaN   \n",
       "18      EX_glc_e           0.0          4.385127e-22                 NaN   \n",
       "19      EX_glc_e           0.0          2.268903e-20                 NaN   \n",
       "\n",
       "    flux_maximum  carbon_yield_maximum  mass_yield_maximum  EX_glc_e  \n",
       "0       0.000057              0.000043                 NaN -5.734630  \n",
       "1       0.000057              0.000044                 NaN -5.648547  \n",
       "2       0.000057              0.000044                 NaN -5.562465  \n",
       "3       0.000057              0.000045                 NaN -5.476382  \n",
       "4       0.000057              0.000046                 NaN -5.390299  \n",
       "5       0.000057              0.000047                 NaN -5.304217  \n",
       "6       0.000057              0.000047                 NaN -5.218134  \n",
       "7       0.000057              0.000048                 NaN -5.132052  \n",
       "8       0.000057              0.000049                 NaN -5.045969  \n",
       "9       0.000057              0.000050                 NaN -4.959886  \n",
       "10      0.000057              0.000051                 NaN -4.873804  \n",
       "11      0.000057              0.000052                 NaN -4.787721  \n",
       "12      0.000057              0.000052                 NaN -4.701638  \n",
       "13      0.000057              0.000053                 NaN -4.615556  \n",
       "14      0.000057              0.000054                 NaN -4.529473  \n",
       "15      0.000057              0.000056                 NaN -4.443391  \n",
       "16      0.000057              0.000057                 NaN -4.357308  \n",
       "17      0.000057              0.000058                 NaN -4.271225  \n",
       "18      0.000057              0.000059                 NaN -4.185143  \n",
       "19      0.000057              0.000060                 NaN -4.099060  "
      ]
     },
     "execution_count": 46,
     "metadata": {},
     "output_type": "execute_result"
    }
   ],
   "source": [
    "ppp_test"
   ]
  },
  {
   "cell_type": "code",
   "execution_count": 47,
   "id": "684411c7",
   "metadata": {},
   "outputs": [
    {
     "data": {
      "text/plain": [
       "<AxesSubplot:xlabel='EX_glc_e'>"
      ]
     },
     "execution_count": 47,
     "metadata": {},
     "output_type": "execute_result"
    },
    {
     "data": {
      "image/png": "[encoded data removed]",
      "text/plain": [
       "<Figure size 432x288 with 1 Axes>"
      ]
     },
     "metadata": {
      "needs_background": "light"
     },
     "output_type": "display_data"
    }
   ],
   "source": [
    "ppp_test.plot(x='EX_glc_e', y='flux_maximum')"
   ]
  },
  {
   "cell_type": "code",
   "execution_count": 48,
   "id": "50ef7268",
   "metadata": {},
   "outputs": [
    {
     "data": {
      "text/html": [
       "\n",
       "        <table>\n",
       "            <tr>\n",
       "                <td><strong>Reaction identifier</strong></td><td>EX_glc_e</td>\n",
       "            </tr><tr>\n",
       "                <td><strong>Name</strong></td><td>D_Glucose exchange</td>\n",
       "            </tr><tr>\n",
       "                <td><strong>Memory address</strong></td>\n",
       "                <td>0x01daeb772670</td>\n",
       "            </tr><tr>\n",
       "                <td><strong>Stoichiometry</strong></td>\n",
       "                <td>\n",
       "                    <p style='text-align:right'>glc_D_e <--</p>\n",
       "                    <p style='text-align:right'>D_Glucose <--</p>\n",
       "                </td>\n",
       "            </tr><tr>\n",
       "                <td><strong>GPR</strong></td><td></td>\n",
       "            </tr><tr>\n",
       "                <td><strong>Lower bound</strong></td><td>-100</td>\n",
       "            </tr><tr>\n",
       "                <td><strong>Upper bound</strong></td><td>-4.09906</td>\n",
       "            </tr>\n",
       "        </table>\n",
       "        "
      ],
      "text/plain": [
       "<Reaction EX_glc_e at 0x1daeb772670>"
      ]
     },
     "execution_count": 48,
     "metadata": {},
     "output_type": "execute_result"
    }
   ],
   "source": [
    "model.reactions.EX_glc_e"
   ]
  },
  {
   "cell_type": "code",
   "execution_count": 49,
   "id": "f0ec9ab6",
   "metadata": {},
   "outputs": [
    {
     "data": {
      "text/html": [
       "\n",
       "        <table>\n",
       "            <tr>\n",
       "                <td><strong>Reaction identifier</strong></td><td>EX_o2_e</td>\n",
       "            </tr><tr>\n",
       "                <td><strong>Name</strong></td><td>O2 exchange</td>\n",
       "            </tr><tr>\n",
       "                <td><strong>Memory address</strong></td>\n",
       "                <td>0x01daeb784910</td>\n",
       "            </tr><tr>\n",
       "                <td><strong>Stoichiometry</strong></td>\n",
       "                <td>\n",
       "                    <p style='text-align:right'>o2_e <--</p>\n",
       "                    <p style='text-align:right'>O2 <--</p>\n",
       "                </td>\n",
       "            </tr><tr>\n",
       "                <td><strong>GPR</strong></td><td></td>\n",
       "            </tr><tr>\n",
       "                <td><strong>Lower bound</strong></td><td>-100</td>\n",
       "            </tr><tr>\n",
       "                <td><strong>Upper bound</strong></td><td>-1.44076799999993</td>\n",
       "            </tr>\n",
       "        </table>\n",
       "        "
      ],
      "text/plain": [
       "<Reaction EX_o2_e at 0x1daeb784910>"
      ]
     },
     "execution_count": 49,
     "metadata": {},
     "output_type": "execute_result"
    }
   ],
   "source": [
    "model.reactions.EX_o2_e"
   ]
  },
  {
   "cell_type": "code",
   "execution_count": null,
   "id": "66f25aea",
   "metadata": {},
   "outputs": [],
   "source": []
  }
 ],
 "metadata": {
  "kernelspec": {
   "display_name": "Python 3 (ipykernel)",
   "language": "python",
   "name": "python3"
  },
  "language_info": {
   "codemirror_mode": {
    "name": "ipython",
    "version": 3
   },
   "file_extension": ".py",
   "mimetype": "text/x-python",
   "name": "python",
   "nbconvert_exporter": "python",
   "pygments_lexer": "ipython3",
   "version": "3.8.11"
  }
 },
 "nbformat": 4,
 "nbformat_minor": 5
}
